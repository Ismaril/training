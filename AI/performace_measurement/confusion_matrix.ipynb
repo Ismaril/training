{
 "cells": [
  {
   "cell_type": "markdown",
   "source": [
    "# CONFUSION MATRIX\n",
    "Generated below by chatgpt. (Prompt: Explain confusion matrix.)\n",
    "\n",
    "\n",
    "A confusion matrix is a table used in classification to evaluate the performance of a machine learning model. It provides a summary of the predicted and actual classifications done by a classification algorithm. The matrix is particularly useful for understanding the types and the frequency of errors made by the model. The confusion matrix consists of four main components:\n",
    "\n",
    "- True Positive (TP): Instances that were correctly predicted as positive. In a binary classification problem, this represents the number of observations that were actually positive and were correctly identified as positive by the model.\n",
    "- True Negative (TN): Instances that were correctly predicted as negative. In a binary classification problem, this represents the number of observations that were actually negative and were correctly identified as negative by the model.\n",
    "- False Positive (FP): Instances that were incorrectly predicted as positive. In a binary classification problem, this represents the number of observations that were actually negative but were incorrectly identified as positive by the model (Type I error).\n",
    "- False Negative (FN): Instances that were incorrectly predicted as negative. In a binary classification problem, this represents the number of observations that were actually positive but were incorrectly identified as negative by the model (Type II error).\n"
   ],
   "metadata": {
    "collapsed": false
   },
   "id": "c69a1c4620cf306f"
  },
  {
   "cell_type": "markdown",
   "source": [
    "#### BINARY CLASSIFICATION"
   ],
   "metadata": {
    "collapsed": false
   },
   "id": "73527b54e4684098"
  },
  {
   "cell_type": "code",
   "outputs": [],
   "source": [
    "#               Predicted Negative   Predicted Positive\n",
    "# Actual Negative        TN                 FP\n",
    "# Actual Positive        FN                 TP"
   ],
   "metadata": {
    "collapsed": false,
    "ExecuteTime": {
     "end_time": "2023-12-25T17:00:54.077914800Z",
     "start_time": "2023-12-25T17:00:54.062434700Z"
    }
   },
   "id": "f8884dd1681394c7",
   "execution_count": 15
  },
  {
   "cell_type": "markdown",
   "source": [
    "#### MULTI-CLASS CLASSIFICATION\n"
   ],
   "metadata": {
    "collapsed": false
   },
   "id": "ce35ffbd3fc6c725"
  },
  {
   "cell_type": "code",
   "outputs": [],
   "source": [
    "#                      Predicted A   Predicted B   Predicted C\n",
    "# Actual A              20            5             2\n",
    "# Actual B              3             15            1\n",
    "# Actual C              1             0             25"
   ],
   "metadata": {
    "collapsed": false,
    "ExecuteTime": {
     "end_time": "2023-12-25T17:00:54.095616Z",
     "start_time": "2023-12-25T17:00:54.081651100Z"
    }
   },
   "id": "b61669dd2209217f",
   "execution_count": 16
  },
  {
   "cell_type": "markdown",
   "source": [
    "Actual A row \n",
    "- 20 instances of class A were predicted correctly as class A, 5 instances of class A were predicted as class B, and 2 instances of class A were predicted as class C. This means there are in total 27 instances of class A in the dataset. In ideal case, all 27 instances of class A should be predicted correctly as class A at position 0, 0.\n",
    "\n",
    "Actual B row\n",
    "- 3 instances of class B were predicted as class A, 15 instances of class B were predicted correctly as class B, and 1 instance of class B was predicted as class C. This means there are in total 19 instances of class B in the dataset. In ideal case, all 19 instances of class B should be predicted correctly as class B at position 1, 1.\n",
    "\n",
    "Actual C row\n",
    "- 1 instance of class C was predicted as class A, 0 instances of class C were predicted as class B, and 25 instances of class C were predicted correctly as class C. This means there are in total 26 instances of class C in the dataset. In ideal case, all 26 instances of class C should be predicted correctly as class C at position 2, 2.\n",
    "\n",
    "![title](images/CONF_MATRIX3.jpg)"
   ],
   "metadata": {
    "collapsed": false
   },
   "id": "5add3248e267715e"
  },
  {
   "cell_type": "markdown",
   "source": [
    "![title](images/CONF_MATRIX1.PNG)\n",
    "Accuracy - as shown on the picture above, you can divide the TP+TN by the total number of observations.\n",
    "F1 Score - is the harmonic mean of precision and recall. While the normal mean treats all values equally, the harmonic mean gives much more weight to low values. As a result, the classifier will only get a high F1 score if both recall and precision are high. It makes sense to use F1 if precision and recall have similar values."
   ],
   "metadata": {
    "collapsed": false
   },
   "id": "7530894f33dad27e"
  },
  {
   "cell_type": "markdown",
   "source": [
    "#### PRECISION AND RECALL TRADE-OFF\n",
    "Imagine we trained a classifier to detect videos that are safe for kids. You would prefer a classifier that rejects many good videos (low recall) but keeps only safe ones (high precision) rather than a classifier that has a much higher recall but lets a few really bad videos show up in your product.\n",
    "On the other hand, let’s say you train a classifier to detect shoplifters on surveillance images. It is probably fine if your classifier has only 30% precision as long as it has 99% recall (sure, the security guards will get a few false alerts, but almost all shoplifters will get caught).\n",
    "\n",
    "Below example is able to detect 100% of not-safe videos but at a cost of good videos being rejected.\n",
    "Precision = TP/ (TP + FP) = 3 / (3 + 0) = 1 = 100%\n",
    "Recall = TP / (TP + FN) = 3 / (3 + 7) = 0.3 = 30%\n",
    "![title](images/CONF_MATRIX2.PNG) "
   ],
   "metadata": {
    "collapsed": false
   },
   "id": "921eab60bb82bc3c"
  },
  {
   "cell_type": "markdown",
   "source": [],
   "metadata": {
    "collapsed": false
   },
   "id": "5a3ac674f8a65a4d"
  }
 ],
 "metadata": {
  "kernelspec": {
   "display_name": "Python 3",
   "language": "python",
   "name": "python3"
  },
  "language_info": {
   "codemirror_mode": {
    "name": "ipython",
    "version": 2
   },
   "file_extension": ".py",
   "mimetype": "text/x-python",
   "name": "python",
   "nbconvert_exporter": "python",
   "pygments_lexer": "ipython2",
   "version": "2.7.6"
  }
 },
 "nbformat": 4,
 "nbformat_minor": 5
}
