{
 "cells": [
  {
   "cell_type": "markdown",
   "source": [
    "# Root Mean Squared Error (RMSE)\n",
    "Generated below by chatgpt. (Prompt: Explain root mean squared error formula.)\n",
    "\n",
    "The Root Mean Squared Error (RMSE) is a metric used to evaluate the accuracy of a predictive model by measuring the average magnitude of the errors between predicted and actual values. It is particularly common in regression analysis, where the goal is to predict continuous numerical values.\n",
    "\n",
    "![title](images/RMSE1.JPG)\n",
    "\n",
    "The RMSE penalizes larger errors more heavily than smaller ones because of the squaring operation. The final result is in the same unit as the dependent variable, making it interpretable in the context of the problem.\n",
    "\n",
    "A lower RMSE indicates a better fit of the model to the data, as it suggests that the predictions are closer to the actual values on average. However, it's essential to consider the scale of the dependent variable when interpreting RMSE, as it is sensitive to the scale of the data.\n",
    "\n",
    "## Example:\n",
    "![title](images/RMSE2.png)\n",
    "\n",
    "To make it simpler, you can also write the formula as:\n",
    "![title](images/RMSE3.png)\n",
    "\n",
    "## In my own words:\n",
    "Subtract y_true - y_predicted, square the result, sum all the results, divide by the number of samples, and take the square root of the result.\n",
    "Sometimes you will see that y_true and y_predicted are swapped, but it doesn't matter because by squaring the result, you will always get a positive number. Sometimes you might see that the y^ (y hat) is replaced by something like h(x) or f(x), but it's the same thing. It basically means some prediction function that takes in x and returns a y prediction.\n"
   ],
   "metadata": {
    "collapsed": false
   },
   "id": "ad31c1f7a3d92580"
  },
  {
   "cell_type": "markdown",
   "source": [],
   "metadata": {
    "collapsed": false
   },
   "id": "4ca9f775b62e001c"
  }
 ],
 "metadata": {
  "kernelspec": {
   "display_name": "Python 3",
   "language": "python",
   "name": "python3"
  },
  "language_info": {
   "codemirror_mode": {
    "name": "ipython",
    "version": 2
   },
   "file_extension": ".py",
   "mimetype": "text/x-python",
   "name": "python",
   "nbconvert_exporter": "python",
   "pygments_lexer": "ipython2",
   "version": "2.7.6"
  }
 },
 "nbformat": 4,
 "nbformat_minor": 5
}
