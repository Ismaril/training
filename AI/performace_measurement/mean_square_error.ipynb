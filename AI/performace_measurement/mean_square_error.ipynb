{
 "cells": [
  {
   "cell_type": "markdown",
   "source": [
    "# MEAN SQUARED ERROR\n",
    "\n",
    "MSE = $ \\frac{1}{n} \\sum_{i=1}^{n} (y_i - \\hat{y_i})^2 $"
   ],
   "metadata": {
    "collapsed": false
   },
   "id": "a693194caf8e0501"
  }
 ],
 "metadata": {
  "kernelspec": {
   "display_name": "Python 3",
   "language": "python",
   "name": "python3"
  },
  "language_info": {
   "codemirror_mode": {
    "name": "ipython",
    "version": 2
   },
   "file_extension": ".py",
   "mimetype": "text/x-python",
   "name": "python",
   "nbconvert_exporter": "python",
   "pygments_lexer": "ipython2",
   "version": "2.7.6"
  }
 },
 "nbformat": 4,
 "nbformat_minor": 5
}
