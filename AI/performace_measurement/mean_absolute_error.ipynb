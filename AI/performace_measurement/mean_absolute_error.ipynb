{
 "cells": [
  {
   "cell_type": "markdown",
   "source": [
    "Generated below by chatgpt. (Prompt: Explain mean absolute error formula.)\n",
    "\n",
    "Mean Absolute Error (MAE) is a metric used to measure the average absolute differences between the predicted and actual values in a set of observations. It provides a straightforward way to assess the accuracy of a predictive model. The formula for MAE is given by:\n",
    "\n",
    "![title](images/MAE1.png)\n",
    "\n",
    "The result, MAE, represents the average magnitude of errors between the predicted and actual values. Unlike RMSE, MAE does not involve squaring the errors, which makes it less sensitive to outliers. Each error contributes equally to the overall metric, regardless of its magnitude or direction.\n",
    "\n",
    "MAE is often preferred in situations where the absolute size of errors is more important than their direction, or when the data contains outliers that may disproportionately influence the RMSE.\n",
    "\n",
    "## Example:\n",
    "![title](images/MAE2.png)\n",
    "\n",
    "To make it simpler, you can also write the formula as:\n",
    "![title](images/MAE3.png)\n",
    "\n",
    "## In my own words:\n",
    "Subtract y_true - y_predicted, make the result absolute, sum all the results, divide by the number of samples.\n",
    "Sometimes you will see that y_true and y_predicted are swapped, but I think it should not matter because the result is made absolute. Sometimes you might see that the y^ (y hat) is replaced by something like h(x) or f(x), but it's the same thing. It basically means some prediction function that takes in x and returns a y prediction."
   ],
   "metadata": {
    "collapsed": false
   },
   "id": "187d070270f40b39"
  },
  {
   "cell_type": "markdown",
   "source": [
    "# Mean Absolute Error (MAE)\n",
    "\n",
    "Mean Absolute Error (MAE) is a metric used to measure the average magnitude of the errors between the actual and predicted values, without considering their direction. It's calculated as the average of the absolute differences between the predicted and actual values. The formula for MAE is:\n",
    "\n",
    "$ \\text{MAE} = \\frac{1}{n} \\sum_{i=1}^{n} |y_i - \\hat{y}_i|$\n",
    "\n",
    "where:\n",
    "- $n$ is the number of observations.\n",
    "- $y_i$ is the actual value for the \\(i\\)-th observation.\n",
    "- $\\hat{y}_i$ is the predicted value for the \\(i\\)-th observation.\n",
    "- $|y_i - \\hat{y}_i|$ is the absolute value of the difference between the actual and the predicted value, ensuring that all errors are treated as positive.\n",
    "\n",
    "### Practical Example with MAE\n",
    "\n",
    "Let's use a new dataset to compute the MAE, keeping within the context of sales predictions.\n",
    "\n",
    "Here's the dataset:\n",
    "\n",
    "| Store | Actual Sales $y_i$ | Predicted Sales $\\hat{y}_i$ |\n",
    "|-------|--------------------|-----------------------------|\n",
    "| A     | 120                | 115                         |\n",
    "| B     | 150                | 145                         |\n",
    "| C     | 200                | 210                         |\n",
    "| D     | 130                | 135                         |\n",
    "| E     | 180                | 175                         |\n",
    "\n",
    "Now, let's compute the MAE step by step:\n",
    "\n",
    "### Step 1: Compute the Absolute Differences\n",
    "Calculate the absolute difference between the actual and predicted sales for each store.\n",
    "\n",
    "For Store A: $|120 - 115| = 5$  \n",
    "For Store B: $|150 - 145| = 5$  \n",
    "For Store C: $|200 - 210| = 10$  \n",
    "For Store D: $|130 - 135| = 5$  \n",
    "For Store E: $|180 - 175| = 5$  \n",
    "\n",
    "### Step 2: Compute the Mean of Absolute Differences\n",
    "Calculate the mean of these absolute differences to obtain the MAE.\n",
    "\n",
    "MAE = $\\frac{5 + 5 + 10 + 5 + 5}{5} = \\frac{30}{5} = 6$\n",
    "\n",
    "### Interpretation\n",
    "The Mean Absolute Error in this example is 6. This value represents the average magnitude of the errors between the actual and predicted sales numbers, disregarding their direction. MAE provides a straightforward measure of prediction accuracy with an intuitive scale (the same as the data), making it easy to understand. It's particularly useful when you want to know how big an error you can expect on average from your predictions."
   ],
   "metadata": {
    "collapsed": false
   },
   "id": "baa2f692f5a37cf9"
  }
 ],
 "metadata": {
  "kernelspec": {
   "display_name": "Python 3",
   "language": "python",
   "name": "python3"
  },
  "language_info": {
   "codemirror_mode": {
    "name": "ipython",
    "version": 2
   },
   "file_extension": ".py",
   "mimetype": "text/x-python",
   "name": "python",
   "nbconvert_exporter": "python",
   "pygments_lexer": "ipython2",
   "version": "2.7.6"
  }
 },
 "nbformat": 4,
 "nbformat_minor": 5
}
