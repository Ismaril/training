{
 "cells": [
  {
   "cell_type": "markdown",
   "source": [
    "# Mean Absolute Error (MAE)\n",
    "Generated below by chatgpt.\n",
    "\n",
    "Mean Absolute Error (MAE) is a metric used to measure the average absolute differences between the predicted and actual values in a set of observations. It provides a straightforward way to assess the accuracy of a predictive model. The formula for MAE is given by:\n",
    "\n",
    "![title](images/MAE1.png)\n",
    "\n",
    "The result, MAE, represents the average magnitude of errors between the predicted and actual values. Unlike RMSE, MAE does not involve squaring the errors, which makes it less sensitive to outliers. Each error contributes equally to the overall metric, regardless of its magnitude or direction (overprediction or underprediction).\n",
    "\n",
    "MAE is often preferred in situations where the absolute size of errors is more important than their direction, or when the data contains outliers that may disproportionately influence the RMSE.\n",
    "\n",
    "## Example:\n",
    "![title](images/MAE2.png)\n",
    "\n",
    "To make it simpler, you can also write the formula as:\n",
    "![title](images/MAE3.png)\n",
    "\n",
    "## In my own words:\n",
    "Subtract y_true - y_predicted, make the result absolute, sum all the results, divide by the number of samples.\n",
    "Sometimes you will see that y_true and y_predicted are swapped, but i think it should not matter because the result is made absolute. Sometimes you might see that the y^ (y hat) is replaced by something like h(x) or f(x), but it's the same thing. It basically means some prediction function that takes in x and returns a y prediction."
   ],
   "metadata": {
    "collapsed": false
   },
   "id": "187d070270f40b39"
  }
 ],
 "metadata": {
  "kernelspec": {
   "display_name": "Python 3",
   "language": "python",
   "name": "python3"
  },
  "language_info": {
   "codemirror_mode": {
    "name": "ipython",
    "version": 2
   },
   "file_extension": ".py",
   "mimetype": "text/x-python",
   "name": "python",
   "nbconvert_exporter": "python",
   "pygments_lexer": "ipython2",
   "version": "2.7.6"
  }
 },
 "nbformat": 4,
 "nbformat_minor": 5
}
