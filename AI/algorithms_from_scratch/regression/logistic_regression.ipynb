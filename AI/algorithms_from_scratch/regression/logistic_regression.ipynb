{
 "cells": [
  {
   "cell_type": "markdown",
   "source": [
    "# LOGISTIC REGRESSION\n",
    "\n",
    "To delve deeper into logistic regression using a simple dataset with two observations, where each observation has two features and corresponding labels, let's construct a hypothetical example. We will follow this with an explanation of how logistic regression works with this dataset.\n",
    "\n",
    "### Hypothetical Dataset\n",
    "\n",
    "Consider a dataset with two observations, each with two features. Let's also assume we have binary labels for these observations, indicating two classes: 0 or 1.\n",
    "\n",
    "| $x_1$ | $x_2$ | $y$ |\n",
    "|-------|-------|-----|\n",
    "| 2     | 3     | 0   |\n",
    "| 4     | 1     | 1   |\n",
    "\n",
    "\n",
    "### Logistic Regression Overview\n",
    "\n",
    "Logistic regression aims to model the probability that a given input point belongs to a certain class. The probability of the outcome being in class '1' is modeled as a logistic function of a linear combination of the input features.\n",
    "\n",
    "### Model Representation\n",
    "\n",
    "The logistic model predicts the probability ($P$) that $Y=1$ for a given set of input features $X$. This is represented as:\n",
    "\n",
    "$P(Y=1|X) = \\frac{1}{1 + e^{-(\\theta_0 + \\theta_1 x_1 + \\theta_2 x_2)}}$\n",
    "\n",
    "Here, $\\theta_0$, $\\theta_1$, and $\\theta_2$ are the parameters of the model that we need to learn from the training data. $x_1$ and $x_2$ are the input features.\n",
    "\n",
    "### Learning Model Parameters\n",
    "\n",
    "The parameters $\\theta_0$, $\\theta_1$, and $\\theta_2$ are learned during the training process, where the model uses the known labels of the training data to adjust these parameters to predict the labels as accurately as possible. The learning process involves minimizing a cost function, typically using methods like gradient descent. The cost function for logistic regression is usually the binary cross-entropy, also known as the log loss.\n",
    "\n",
    "### Making Predictions\n",
    "\n",
    "Once the model parameters are learned, predictions for a new observation can be made by plugging the observation's features into the logistic model. If the predicted probability $P(Y=1|X)$ is greater than 0.5, the model predicts the class of the observation as '1'; otherwise, it predicts '0'.\n",
    "\n",
    "### Applying to Our Dataset\n",
    "\n",
    "Given our simple dataset, the logistic regression model will try to find the best $\\theta_0$, $\\theta_1$, and $\\theta_2$ values that lead to accurate predictions. For example, if the model learns parameters such that:\n",
    "\n",
    "- $\\theta_0$ = -1.5\n",
    "- $\\theta_1$ = 0.6\n",
    "- $\\theta_2$ = 0.4\n",
    "\n",
    "We can then calculate the probability of each observation being in class '1' using the logistic function.\n",
    "\n",
    "Let's perform these calculations to see how the model would predict the class for each observation based on the assumed parameters.\n",
    "\n",
    "For our hypothetical dataset, the logistic regression model with parameters $\\theta_0 = -1.5$, $\\theta_1 = 0.6$, and $\\theta_2 = 0.4$ predicts the probabilities of each observation being in class '1' as follows:\n",
    "\n",
    "- For Observation 1 (with features X₁ = 2, X₂ = 3), the predicted probability is approximately 0.711.\n",
    "- For Observation 2 (with features X₁ = 4, X₂ = 1), the predicted probability is approximately 0.786.\n",
    "\n",
    "Using a classification threshold of 0.5, where probabilities greater than or equal to 0.5 predict class '1' and probabilities less than 0.5 predict class '0', the model predicts both observations as belonging to class '1' (True indicates class '1').\n",
    "\n",
    "### Interpretation and Evaluation\n",
    "\n",
    "- **Observation 1**: Despite being labeled as class '0', the model predicts a high probability (0.711) of this observation belonging to class '1'. This indicates a misclassification based on our chosen threshold.\n",
    "- **Observation 2**: Correctly predicted as class '1', aligning with its actual label, with a high probability of 0.786.\n",
    "\n",
    "In a real-world scenario, logistic regression models are trained on larger datasets, allowing for more accurate parameter estimation and better generalization to unseen data. Model performance is typically evaluated using metrics like accuracy, precision, recall, and the ROC-AUC curve, which consider the model's predictions in relation to the actual labels across all observations.\n",
    "\n",
    "This simplified example serves to illustrate the mechanics of logistic regression, but keep in mind that real-world applications involve more complex datasets, parameter tuning, and validation techniques to ensure the model's effectiveness and robustness."
   ],
   "metadata": {
    "collapsed": false
   },
   "id": "977cd5087846821b"
  },
  {
   "cell_type": "markdown",
   "source": [
    "# LOGISITIC REGRESSION FROM SCRATCH"
   ],
   "metadata": {
    "collapsed": false
   },
   "id": "5f7dfd6bf71fe11b"
  },
  {
   "cell_type": "code",
   "source": [
    "import matplotlib.pyplot as plt\n",
    "import pandas as pd\n",
    "import numpy as np\n",
    "\n",
    "# IMPORT TITANIC DATASET\n",
    "train_data = pd.read_csv(r\"..\\ML_DL_book\\saved_datasets\\titanic\\train.csv\")\n",
    "test_data = pd.read_csv(r\"..\\ML_DL_book\\saved_datasets\\titanic\\test.csv\")\n"
   ],
   "metadata": {
    "collapsed": false,
    "ExecuteTime": {
     "end_time": "2024-08-13T15:22:25.307821Z",
     "start_time": "2024-08-13T15:22:25.299380Z"
    }
   },
   "id": "948dca6ba469a1c5",
   "outputs": [],
   "execution_count": 34
  },
  {
   "cell_type": "code",
   "source": [
    "train_data.head()"
   ],
   "metadata": {
    "collapsed": false,
    "ExecuteTime": {
     "end_time": "2024-08-13T15:22:25.380650Z",
     "start_time": "2024-08-13T15:22:25.371825Z"
    }
   },
   "id": "811ab238eb5ef92",
   "outputs": [
    {
     "data": {
      "text/plain": [
       "   PassengerId  Survived  Pclass  \\\n",
       "0            1         0       3   \n",
       "1            2         1       1   \n",
       "2            3         1       3   \n",
       "3            4         1       1   \n",
       "4            5         0       3   \n",
       "\n",
       "                                                  Name     Sex   Age  SibSp  \\\n",
       "0                              Braund, Mr. Owen Harris    male  22.0      1   \n",
       "1  Cumings, Mrs. John Bradley (Florence Briggs Thayer)  female  38.0      1   \n",
       "2                               Heikkinen, Miss. Laina  female  26.0      0   \n",
       "3         Futrelle, Mrs. Jacques Heath (Lily May Peel)  female  35.0      1   \n",
       "4                             Allen, Mr. William Henry    male  35.0      0   \n",
       "\n",
       "   Parch            Ticket     Fare Cabin Embarked  \n",
       "0      0         A/5 21171   7.2500   NaN        S  \n",
       "1      0          PC 17599  71.2833   C85        C  \n",
       "2      0  STON/O2. 3101282   7.9250   NaN        S  \n",
       "3      0            113803  53.1000  C123        S  \n",
       "4      0            373450   8.0500   NaN        S  "
      ],
      "text/html": [
       "<div>\n",
       "<style scoped>\n",
       "    .dataframe tbody tr th:only-of-type {\n",
       "        vertical-align: middle;\n",
       "    }\n",
       "\n",
       "    .dataframe tbody tr th {\n",
       "        vertical-align: top;\n",
       "    }\n",
       "\n",
       "    .dataframe thead th {\n",
       "        text-align: right;\n",
       "    }\n",
       "</style>\n",
       "<table border=\"1\" class=\"dataframe\">\n",
       "  <thead>\n",
       "    <tr style=\"text-align: right;\">\n",
       "      <th></th>\n",
       "      <th>PassengerId</th>\n",
       "      <th>Survived</th>\n",
       "      <th>Pclass</th>\n",
       "      <th>Name</th>\n",
       "      <th>Sex</th>\n",
       "      <th>Age</th>\n",
       "      <th>SibSp</th>\n",
       "      <th>Parch</th>\n",
       "      <th>Ticket</th>\n",
       "      <th>Fare</th>\n",
       "      <th>Cabin</th>\n",
       "      <th>Embarked</th>\n",
       "    </tr>\n",
       "  </thead>\n",
       "  <tbody>\n",
       "    <tr>\n",
       "      <th>0</th>\n",
       "      <td>1</td>\n",
       "      <td>0</td>\n",
       "      <td>3</td>\n",
       "      <td>Braund, Mr. Owen Harris</td>\n",
       "      <td>male</td>\n",
       "      <td>22.0</td>\n",
       "      <td>1</td>\n",
       "      <td>0</td>\n",
       "      <td>A/5 21171</td>\n",
       "      <td>7.2500</td>\n",
       "      <td>NaN</td>\n",
       "      <td>S</td>\n",
       "    </tr>\n",
       "    <tr>\n",
       "      <th>1</th>\n",
       "      <td>2</td>\n",
       "      <td>1</td>\n",
       "      <td>1</td>\n",
       "      <td>Cumings, Mrs. John Bradley (Florence Briggs Thayer)</td>\n",
       "      <td>female</td>\n",
       "      <td>38.0</td>\n",
       "      <td>1</td>\n",
       "      <td>0</td>\n",
       "      <td>PC 17599</td>\n",
       "      <td>71.2833</td>\n",
       "      <td>C85</td>\n",
       "      <td>C</td>\n",
       "    </tr>\n",
       "    <tr>\n",
       "      <th>2</th>\n",
       "      <td>3</td>\n",
       "      <td>1</td>\n",
       "      <td>3</td>\n",
       "      <td>Heikkinen, Miss. Laina</td>\n",
       "      <td>female</td>\n",
       "      <td>26.0</td>\n",
       "      <td>0</td>\n",
       "      <td>0</td>\n",
       "      <td>STON/O2. 3101282</td>\n",
       "      <td>7.9250</td>\n",
       "      <td>NaN</td>\n",
       "      <td>S</td>\n",
       "    </tr>\n",
       "    <tr>\n",
       "      <th>3</th>\n",
       "      <td>4</td>\n",
       "      <td>1</td>\n",
       "      <td>1</td>\n",
       "      <td>Futrelle, Mrs. Jacques Heath (Lily May Peel)</td>\n",
       "      <td>female</td>\n",
       "      <td>35.0</td>\n",
       "      <td>1</td>\n",
       "      <td>0</td>\n",
       "      <td>113803</td>\n",
       "      <td>53.1000</td>\n",
       "      <td>C123</td>\n",
       "      <td>S</td>\n",
       "    </tr>\n",
       "    <tr>\n",
       "      <th>4</th>\n",
       "      <td>5</td>\n",
       "      <td>0</td>\n",
       "      <td>3</td>\n",
       "      <td>Allen, Mr. William Henry</td>\n",
       "      <td>male</td>\n",
       "      <td>35.0</td>\n",
       "      <td>0</td>\n",
       "      <td>0</td>\n",
       "      <td>373450</td>\n",
       "      <td>8.0500</td>\n",
       "      <td>NaN</td>\n",
       "      <td>S</td>\n",
       "    </tr>\n",
       "  </tbody>\n",
       "</table>\n",
       "</div>"
      ]
     },
     "execution_count": 35,
     "metadata": {},
     "output_type": "execute_result"
    }
   ],
   "execution_count": 35
  },
  {
   "cell_type": "code",
   "source": [
    "# PREPROCESSING (NOT RELEVANT TO LOGISTIC REGRESSION DEMONSTRATION)\n",
    "\n",
    "# create pipelines for numerical and categorical attributes\n",
    "\n",
    "from sklearn.pipeline import Pipeline\n",
    "from sklearn.impute import SimpleImputer\n",
    "from sklearn.preprocessing import StandardScaler\n",
    "np.random.seed(42)\n",
    "\n",
    "numerical_pipeline = Pipeline([\n",
    "    (\"imputer\", SimpleImputer(strategy=\"median\")),\n",
    "    (\"scaler\", StandardScaler())\n",
    "])\n",
    "\n",
    "from sklearn.preprocessing import OneHotEncoder\n",
    "\n",
    "categorical_pipeline = Pipeline([\n",
    "    (\"imputer\", SimpleImputer(strategy=\"most_frequent\")),\n",
    "    (\"cat_encoder\", OneHotEncoder(sparse_output=False)),\n",
    "])\n",
    "\n",
    "# create a full pipeline which will combine both numerical and categorical pipelines\n",
    "\n",
    "from sklearn.compose import ColumnTransformer\n",
    "\n",
    "numeric_attributes = [\"Age\", \"SibSp\", \"Parch\", \"Fare\"]\n",
    "categorical_attributes = [\"Pclass\", \"Sex\", \"Embarked\"]\n",
    "\n",
    "preprocess_pipeline = ColumnTransformer([\n",
    "    (\"num\", numerical_pipeline, numeric_attributes),\n",
    "    (\"cat\", categorical_pipeline, categorical_attributes),\n",
    "])\n",
    "\n",
    "# filter out only the most important attributes/features\n",
    "X_train = preprocess_pipeline.fit_transform(\n",
    "    train_data[numeric_attributes + categorical_attributes])\n",
    "\n",
    "# create labels\n",
    "y_train = train_data[\"Survived\"]\n",
    "\n",
    "train_data[\"AgeBucket\"] = train_data[\"Age\"] // 15 * 15\n",
    "train_data[[\"AgeBucket\", \"Survived\"]].groupby(['AgeBucket']).mean()\n",
    "train_data[\"RelativesOnboard\"] = train_data[\"SibSp\"] + train_data[\"Parch\"]\n",
    "train_data[[\"RelativesOnboard\", \"Survived\"]].groupby(['RelativesOnboard']).mean()\n",
    "\n",
    "numeric_attributes = [\"Age\", \"SibSp\", \"Parch\", \"Fare\"]\n",
    "categorical_attributes = [\"Pclass\", \"Sex\", \"Embarked\", \"AgeBucket\", \"RelativesOnboard\"]\n",
    "\n",
    "preprocess_pipeline = ColumnTransformer([\n",
    "    (\"num\", numerical_pipeline, numeric_attributes),\n",
    "    (\"cat\", categorical_pipeline, categorical_attributes),\n",
    "])\n",
    "X_train = preprocess_pipeline.fit_transform(\n",
    "    train_data[numeric_attributes + categorical_attributes]\n",
    ")"
   ],
   "metadata": {
    "collapsed": false,
    "ExecuteTime": {
     "end_time": "2024-08-13T15:22:25.407216Z",
     "start_time": "2024-08-13T15:22:25.381656Z"
    }
   },
   "id": "768957074dc9d255",
   "outputs": [],
   "execution_count": 36
  },
  {
   "cell_type": "code",
   "source": [
    "# ADD 1S COLUMN TO THE FEATURE MATRIX FOR THE BIAS TERM\n",
    "# (It would be best to have it also in the pipeline, but for the sake of my time, I just put it here)\n",
    "X_train = np.c_[np.ones((len(X_train), 1)), X_train]"
   ],
   "metadata": {
    "collapsed": false,
    "ExecuteTime": {
     "end_time": "2024-08-13T15:22:25.410833Z",
     "start_time": "2024-08-13T15:22:25.408222Z"
    }
   },
   "id": "f146800ea5b2c8df",
   "outputs": [],
   "execution_count": 37
  },
  {
   "cell_type": "code",
   "source": [
    "# SHOW THE FEATURE MATRIX\n",
    "X_train"
   ],
   "metadata": {
    "collapsed": false,
    "ExecuteTime": {
     "end_time": "2024-08-13T15:22:25.433849Z",
     "start_time": "2024-08-13T15:22:25.429837Z"
    }
   },
   "id": "b7b44f71b47df012",
   "outputs": [
    {
     "data": {
      "text/plain": [
       "array([[ 1.        , -0.56573582,  0.43279337, ...,  0.        ,\n",
       "         0.        ,  0.        ],\n",
       "       [ 1.        ,  0.6638609 ,  0.43279337, ...,  0.        ,\n",
       "         0.        ,  0.        ],\n",
       "       [ 1.        , -0.25833664, -0.4745452 , ...,  0.        ,\n",
       "         0.        ,  0.        ],\n",
       "       ...,\n",
       "       [ 1.        , -0.10463705,  0.43279337, ...,  0.        ,\n",
       "         0.        ,  0.        ],\n",
       "       [ 1.        , -0.25833664, -0.4745452 , ...,  0.        ,\n",
       "         0.        ,  0.        ],\n",
       "       [ 1.        ,  0.20276213, -0.4745452 , ...,  0.        ,\n",
       "         0.        ,  0.        ]])"
      ]
     },
     "execution_count": 38,
     "metadata": {},
     "output_type": "execute_result"
    }
   ],
   "execution_count": 38
  },
  {
   "metadata": {
    "ExecuteTime": {
     "end_time": "2024-08-13T15:22:25.450004Z",
     "start_time": "2024-08-13T15:22:25.445856Z"
    }
   },
   "cell_type": "code",
   "source": "y_train",
   "id": "a8eb90dabc43d614",
   "outputs": [
    {
     "data": {
      "text/plain": [
       "0      0\n",
       "1      1\n",
       "2      1\n",
       "3      1\n",
       "4      0\n",
       "      ..\n",
       "886    0\n",
       "887    1\n",
       "888    0\n",
       "889    1\n",
       "890    0\n",
       "Name: Survived, Length: 891, dtype: int64"
      ]
     },
     "execution_count": 39,
     "metadata": {},
     "output_type": "execute_result"
    }
   ],
   "execution_count": 39
  },
  {
   "metadata": {
    "ExecuteTime": {
     "end_time": "2024-08-13T15:22:25.533352Z",
     "start_time": "2024-08-13T15:22:25.530010Z"
    }
   },
   "cell_type": "code",
   "source": [
    "total_passengers = y_train.count()\n",
    "survived = y_train.sum()\n",
    "survived"
   ],
   "id": "a0022d7b3a80f9e0",
   "outputs": [
    {
     "data": {
      "text/plain": [
       "342"
      ]
     },
     "execution_count": 40,
     "metadata": {},
     "output_type": "execute_result"
    }
   ],
   "execution_count": 40
  },
  {
   "metadata": {
    "ExecuteTime": {
     "end_time": "2024-08-13T15:22:25.555433Z",
     "start_time": "2024-08-13T15:22:25.552357Z"
    }
   },
   "cell_type": "code",
   "source": [
    "not_survived = total_passengers - survived\n",
    "not_survived"
   ],
   "id": "3e62f18ac8bd3362",
   "outputs": [
    {
     "data": {
      "text/plain": [
       "549"
      ]
     },
     "execution_count": 41,
     "metadata": {},
     "output_type": "execute_result"
    }
   ],
   "execution_count": 41
  },
  {
   "metadata": {
    "ExecuteTime": {
     "end_time": "2024-08-13T15:22:25.560502Z",
     "start_time": "2024-08-13T15:22:25.556438Z"
    }
   },
   "cell_type": "code",
   "source": [
    "survived_percent = 100 / total_passengers * survived\n",
    "not_survived_percent = 100 / total_passengers * not_survived\n",
    "survived_percent, not_survived_percent"
   ],
   "id": "1d71ea4b5160d8e8",
   "outputs": [
    {
     "data": {
      "text/plain": [
       "(38.38383838383839, 61.61616161616162)"
      ]
     },
     "execution_count": 42,
     "metadata": {},
     "output_type": "execute_result"
    }
   ],
   "execution_count": 42
  },
  {
   "cell_type": "code",
   "source": [
    "# CREATE A LOGISTIC REGRESSION MODEL FROM SCRATCH\n",
    "\n",
    "from my_extensions import MyModelExtensions\n",
    "\n",
    "# define the sigmoid function\n",
    "def sigmoid(t):\n",
    "    \"\"\"\n",
    "    Returns the values of the t vector after applying the sigmoid function.\n",
    "    \n",
    "    :param t: Feature vector. \n",
    "    :return: np.array\n",
    "    \"\"\"\n",
    "    return 1 / (1 + np.exp(-t))\n",
    "\n",
    "# define logistic regression cost function\n",
    "def cost_function(X, y, thetas):\n",
    "    \"\"\"\n",
    "    Returns the cost of the logistic regression model.\n",
    "    \n",
    "    :param X: Features\n",
    "    :param y: Labels\n",
    "    :param thetas: Parameters\n",
    "    :return: float\n",
    "    \"\"\"\n",
    "    n_samples, n_features = X.shape\n",
    "    y_prediction = sigmoid(np.dot(X, thetas))\n",
    "    cost = -1 / n_samples * (np.dot(y.T, np.log(y_prediction)) + np.dot((1 - y).T, np.log(1 - y_prediction)))\n",
    "    return cost\n",
    "\n",
    "# define the logistic regression class\n",
    "# Inherit from the Extension class to use its methods for visualization and evaluation\n",
    "class MyLogisticRegression(MyModelExtensions):\n",
    "    \"\"\"\n",
    "    Logistic regression model.\n",
    "    \n",
    "    It relies on the Linear Regression model. All the computations are the same as in the Linear Regression model. But in order to make the predictions binary, we apply the sigmoid function to the linear model.\n",
    "    \"\"\"\n",
    "    def __init__(self, learning_rate=0.01, n_iterations=1000):\n",
    "        super().__init__()\n",
    "        self.learning_rate = learning_rate # how much to update the parameters\n",
    "        self.n_iterations = n_iterations # how many times to update the parameters\n",
    "        self.thetas = [] # parameter bias and weights\n",
    "        self.losses = [] # to store the loss at each iteration\n",
    "        self.y_predictions = []\n",
    "    def fit(self, X, y):\n",
    "        \"\"\"\n",
    "        Fit the model to the data X and y. Meaning let the model learn the parameters.\n",
    "        :param X: Features\n",
    "        :param y: Labels\n",
    "        :return: None\n",
    "        \"\"\"        \n",
    "\n",
    "        n_samples, n_features = X.shape\n",
    "        \n",
    "        # initialize the parameters with random values\n",
    "        self.thetas = np.random.rand(n_features)\n",
    "        print(\"Initial parameters: \", self.thetas)\n",
    "\n",
    "        # gradient descent\n",
    "        for i in range(self.n_iterations):\n",
    "            # compute the linear model / linear predictions\n",
    "            linear_model = np.dot(X, self.thetas)\n",
    "            \n",
    "            # Apply the sigmoid function. Predictions are now in range between 0.0 and 1.0. \n",
    "            # This helps to the model to have better feeling of probabilities compared if it was transformed to the binary predictions. \n",
    "            y_predictions = sigmoid(linear_model)\n",
    "            \n",
    "            # (only for visualization, not used in the optimization process) ----------\n",
    "            if i == self.n_iterations - 1:\n",
    "                self.y_predictions = y_predictions\n",
    "            # compute the cost \n",
    "            cost = cost_function(X, y, self.thetas)\n",
    "            self.losses.append(cost)\n",
    "            # --------------------------------------------------------------------------\n",
    "            \n",
    "            # compute gradient vector\n",
    "            gradient_vector = 2 / n_samples * np.dot(X.T, (y_predictions - y))\n",
    "\n",
    "            # update parameters\n",
    "            self.thetas = self.thetas - self.learning_rate * gradient_vector\n",
    "\n",
    "    def predict(self, X):\n",
    "        \"\"\"\n",
    "        Make predictions using the learned parameters.\n",
    "        :param X: Feature dataset\n",
    "        :return: Predictions (0 or 1) based on the learned parameters and inputted features.\n",
    "        \"\"\"\n",
    "        linear_model = np.dot(X, self.thetas)\n",
    "        y_predicted = sigmoid(linear_model)\n",
    "        y_predicted_cls = [1 if i > 0.5 else 0 for i in y_predicted]\n",
    "        return y_predicted_cls"
   ],
   "metadata": {
    "collapsed": false,
    "ExecuteTime": {
     "end_time": "2024-08-13T15:22:25.592970Z",
     "start_time": "2024-08-13T15:22:25.586508Z"
    }
   },
   "id": "77fd505d5e5be627",
   "outputs": [],
   "execution_count": 43
  },
  {
   "metadata": {
    "ExecuteTime": {
     "end_time": "2024-08-13T15:22:27.738892Z",
     "start_time": "2024-08-13T15:22:25.616975Z"
    }
   },
   "cell_type": "code",
   "source": [
    "# TRAIN THE MODEL\n",
    "model = MyLogisticRegression(learning_rate=0.01, n_iterations=5_000)\n",
    "model.fit(X_train, y_train)"
   ],
   "id": "ce1bcf4cad417e56",
   "outputs": [
    {
     "name": "stdout",
     "output_type": "stream",
     "text": [
      "Initial parameters:  [0.37454012 0.95071431 0.73199394 0.59865848 0.15601864 0.15599452\n",
      " 0.05808361 0.86617615 0.60111501 0.70807258 0.02058449 0.96990985\n",
      " 0.83244264 0.21233911 0.18182497 0.18340451 0.30424224 0.52475643\n",
      " 0.43194502 0.29122914 0.61185289 0.13949386 0.29214465 0.36636184\n",
      " 0.45606998 0.78517596 0.19967378 0.51423444]\n"
     ]
    }
   ],
   "execution_count": 44
  },
  {
   "metadata": {
    "ExecuteTime": {
     "end_time": "2024-08-13T15:22:27.743244Z",
     "start_time": "2024-08-13T15:22:27.739896Z"
    }
   },
   "cell_type": "code",
   "source": [
    "# scores of the model\n",
    "model.y_predictions.min(), model.y_predictions.max()"
   ],
   "id": "81aa67b63f6d72f4",
   "outputs": [
    {
     "data": {
      "text/plain": [
       "(0.0009524660241489869, 0.99046991398877)"
      ]
     },
     "execution_count": 45,
     "metadata": {},
     "output_type": "execute_result"
    }
   ],
   "execution_count": 45
  },
  {
   "cell_type": "code",
   "source": [
    "# SHOW THE PARAMETERS\n",
    "print(\"Best parameters:\", model.show_parameters())"
   ],
   "metadata": {
    "collapsed": false,
    "ExecuteTime": {
     "end_time": "2024-08-13T15:22:27.747243Z",
     "start_time": "2024-08-13T15:22:27.744250Z"
    }
   },
   "id": "99dee6a8003515ab",
   "outputs": [
    {
     "name": "stdout",
     "output_type": "stream",
     "text": [
      "Best parameters: [-0.40854501 -0.50968383 -0.63956769 -0.30068225  0.21064662  0.92438759\n",
      "  0.20033519 -0.82755363  1.58409404 -1.05799157  0.40064144  0.58327861\n",
      "  0.05593182  0.51975135 -0.42806876  0.08964421  0.07204508  0.28278047\n",
      "  0.5192748  -0.20808968  0.27868492  0.77821     0.65668706  0.00835849\n",
      "  0.05324168  0.75304273  0.11118783  0.44182841]\n"
     ]
    }
   ],
   "execution_count": 46
  },
  {
   "cell_type": "code",
   "source": [
    "# SHOW THE LOSS CURVE\n",
    "model.show_loss_curve()"
   ],
   "metadata": {
    "collapsed": false,
    "ExecuteTime": {
     "end_time": "2024-08-13T15:22:27.841115Z",
     "start_time": "2024-08-13T15:22:27.748249Z"
    }
   },
   "id": "a686b33b24c4eb8e",
   "outputs": [
    {
     "data": {
      "text/plain": [
       "<Figure size 640x480 with 1 Axes>"
      ],
      "image/png": "[encoded data removed]"
     },
     "metadata": {},
     "output_type": "display_data"
    }
   ],
   "execution_count": 47
  },
  {
   "cell_type": "code",
   "source": [
    "# COMPUTE ACCURACY\n",
    "\n",
    "from sklearn.metrics import accuracy_score\n",
    "\n",
    "y_predicted = model.predict(X_train)\n",
    "accuracy = accuracy_score(y_train, y_predicted)\n",
    "\n",
    "# This accuracy is a good result on Titanic dataset. You can compare it with the models from the demonstrations of the ML book in this repository.\n",
    "print(\"Accuracy:\", accuracy)"
   ],
   "metadata": {
    "collapsed": false,
    "ExecuteTime": {
     "end_time": "2024-08-13T15:22:27.845644Z",
     "start_time": "2024-08-13T15:22:27.841115Z"
    }
   },
   "id": "d5fd85095b0bfe17",
   "outputs": [
    {
     "name": "stdout",
     "output_type": "stream",
     "text": [
      "Accuracy: 0.8159371492704826\n"
     ]
    }
   ],
   "execution_count": 48
  }
 ],
 "metadata": {
  "kernelspec": {
   "display_name": "Python 3",
   "language": "python",
   "name": "python3"
  },
  "language_info": {
   "codemirror_mode": {
    "name": "ipython",
    "version": 2
   },
   "file_extension": ".py",
   "mimetype": "text/x-python",
   "name": "python",
   "nbconvert_exporter": "python",
   "pygments_lexer": "ipython2",
   "version": "2.7.6"
  }
 },
 "nbformat": 4,
 "nbformat_minor": 5
}
