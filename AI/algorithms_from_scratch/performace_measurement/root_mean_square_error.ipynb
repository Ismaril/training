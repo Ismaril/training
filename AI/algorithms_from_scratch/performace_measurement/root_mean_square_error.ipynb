{
 "cells": [
  {
   "cell_type": "markdown",
   "source": [
    "# Root Mean Squared Error (RMSE)\n",
    "\n",
    "The Root Mean Squared Error (RMSE) is a standard way to measure the error of a model in predicting quantitative data. It is particularly useful in contexts where we want to penalize larger errors more than smaller ones, as the squaring process disproportionately increases the impact of larger errors.\n",
    "\n",
    "The formula for RMSE is given by:\n",
    "\n",
    "$\\text{RMSE} = \\sqrt{\\frac{1}{n} \\sum_{i=1}^{n} (y_i - \\hat{y}_i)^2}$\n",
    "\n",
    "where:\n",
    "- $n$ is the number of observations in the dataset.\n",
    "- $y_i$ is the actual value of an observation.\n",
    "- $\\hat{y}_i$ is the predicted value for the observation.\n",
    "- $\\sum_{i=1}^{n} (y_i - \\hat{y}_i)^2$ is the sum of the squared differences between the actual and predicted values.\n",
    "- $\\frac{1}{n} \\sum_{i=1}^{n} (y_i - \\hat{y}_i)^2$ calculates the mean of these squared differences.\n",
    "- $\\sqrt{\\frac{1}{n} \\sum_{i=1}^{n} (y_i - \\hat{y}_i)^2}$ takes the square root of this mean to return the error in the same units as the original measurements.\n",
    "\n",
    "**Steps to Calculate RMSE:**\n",
    "1. **Difference:** Calculate the difference between the predicted values and the actual values.\n",
    "2. **Square:** Square each of these differences to eliminate negative values and give more weight to larger differences.\n",
    "3. **Mean:** Calculate the mean (average) of these squared differences to get a sense of the overall error magnitude.\n",
    "4. **Square Root:** Take the square root of this mean to bring the units back to the original scale of the data.\n",
    "\n",
    "**Interpretation:**\n",
    "- RMSE gives an estimate of the standard deviation of the residuals, which are the differences between observed and predicted values. A lower RMSE value indicates a better fit of the model to the data.\n",
    "- Because of the squaring, larger errors have a disproportionately large effect on RMSE, making it particularly useful when large errors are especially undesirable."
   ],
   "metadata": {
    "collapsed": false
   },
   "id": "4ec8f7027411f740"
  },
  {
   "cell_type": "markdown",
   "source": [
    "## Example: Calculating RMSE\n",
    "\n",
    "| Store | Actual Sales $y_i$ | Predicted Sales $\\hat{y}_i$ |\n",
    "|-------|--------------------|-----------------------------|\n",
    "| A     | 4                  | 5                           |\n",
    "| B     | 5                  | 6                           |\n",
    "| C     | 6                  | 8                           |\n",
    "| D     | 8                  | 7                           |\n",
    "| E     | 3                  | 4                           |\n",
    "\n",
    "Now, let's compute the RMSE with these new numbers, following the steps outlined previously.\n",
    "\n",
    "### Step 1: Compute the Differences\n",
    "Calculate the difference between the actual and predicted sales for each store.\n",
    "\n",
    "For Store A:$4 - 5 = -1$  \n",
    "For Store B:$5 - 6 = -1$  \n",
    "For Store C:$6 - 8 = -2$  \n",
    "For Store D:$8 - 7 = 1$  \n",
    "For Store E:$3 - 4 = -1$  \n",
    "\n",
    "### Step 2: Square the Differences\n",
    "Square each of these differences.\n",
    "\n",
    "For Store A:$(-1)^2 = 1$  \n",
    "For Store B:$(-1)^2 = 1$  \n",
    "For Store C:$(-2)^2 = 4$  \n",
    "For Store D:$1^2 = 1$  \n",
    "For Store E:$(-1)^2 = 1$  \n",
    "\n",
    "### Step 3: Compute the Mean of Squared Differences\n",
    "Calculate the mean of these squared differences.\n",
    "\n",
    "Mean =$\\frac{1 + 1 + 4 + 1 + 1}{5} = \\frac{8}{5} = 1.6$\n",
    "\n",
    "### Step 4: Take the Square Root\n",
    "Take the square root of the mean to get the RMSE.\n",
    "\n",
    "RMSE =$\\sqrt{1.6}$\n",
    "\n",
    "Let's calculate the final RMSE value.\n",
    "\n",
    "The Root Mean Squared Error (RMSE) for the updated set of actual and predicted sales data is approximately 1.265. This means that, on average, the model's sales predictions are off by around 1,265 units from the actual sales numbers. This RMSE value provides a more nuanced measure of the model's predictive accuracy, taking into account the variability in the errors across the dataset."
   ],
   "metadata": {
    "collapsed": false
   },
   "id": "13814c10db97346c"
  }
 ],
 "metadata": {
  "kernelspec": {
   "display_name": "Python 3",
   "language": "python",
   "name": "python3"
  },
  "language_info": {
   "codemirror_mode": {
    "name": "ipython",
    "version": 2
   },
   "file_extension": ".py",
   "mimetype": "text/x-python",
   "name": "python",
   "nbconvert_exporter": "python",
   "pygments_lexer": "ipython2",
   "version": "2.7.6"
  }
 },
 "nbformat": 4,
 "nbformat_minor": 5
}
