{
 "cells": [
  {
   "cell_type": "markdown",
   "source": [
    "# SOFTMAX REGRESSION FROM SCRATCH"
   ],
   "metadata": {
    "collapsed": false
   },
   "id": "e699d57e0c6fea11"
  },
  {
   "cell_type": "code",
   "outputs": [],
   "source": [
    "import numpy as np\n",
    "import matplotlib.pyplot as plt\n",
    "import matplotlib as mpl\n",
    "import pandas as pd\n",
    "import sklearn\n",
    "from sklearn.datasets import fetch_openml\n",
    "\n",
    "# IMPORT MNIST DATA\n",
    "mnist = fetch_openml(\"mnist_784\", version=1)\n",
    "X, y = np.array(mnist[\"data\"]), np.array(mnist[\"target\"])\n"
   ],
   "metadata": {
    "collapsed": false
   },
   "id": "f47d684403ec0348"
  },
  {
   "cell_type": "code",
   "outputs": [],
   "source": [
    "# SPLIT DATA INTO TRAINING AND TESTING SETS\n",
    "X_train, X_test, y_train, y_test = X[:60000], X[60000:], y[:60000], y[60000:]\n",
    "\n"
   ],
   "metadata": {
    "collapsed": false
   },
   "id": "94746993d3b6eb3d"
  },
  {
   "cell_type": "code",
   "outputs": [],
   "source": [
    "# NORMALIZE DATA\n",
    "X_train = X_train / 255\n",
    "X_test = X_test / 255\n",
    "\n"
   ],
   "metadata": {
    "collapsed": false
   },
   "id": "422b328eb7afa2dd"
  },
  {
   "cell_type": "code",
   "outputs": [],
   "source": [
    "# todo: Complete this cell and continue in the same format below\n",
    "# SOFTMAX FUNCTION\n",
    "def softmax(logits):\n",
    "    exps = np.exp(logits)\n",
    "    exp_sums = np.sum(exps, axis=1, keepdims=True)\n",
    "    return exps / exp_sums\n",
    "\n",
    "# CROSS-ENTROPY LOSS FUNCTION\n",
    "def cross_entropy_loss(y, y_proba):\n",
    "    m = len(y)\n",
    "    loss = -np.mean(np.sum(y * np.log(y_proba + 1e-7), axis=1))\n",
    "    return loss\n",
    "\n",
    "# CREATE SOFTMAX REGRESSION MODEL FROM SCRATCH\n",
    "class MySoftmaxRegression:\n",
    "    def __init__(self, n_inputs, n_outputs):\n",
    "        self.n_inputs = n_inputs\n",
    "        self.n_outputs = n_outputs\n",
    "        self.theta = np.random.randn(n_inputs, n_outputs)\n",
    "    \n",
    "    def predict(self, X):\n",
    "        logits = X.dot(self.theta)\n",
    "        return softmax(logits)\n",
    "    \n",
    "    def fit(self, X, y, learning_rate=0.1, n_iterations=1000):\n",
    "        m = len(X)\n",
    "        Y = np.eye(self.n_outputs)[y.astype(int)]\n",
    "        \n",
    "        for iteration in range(n_iterations):\n",
    "            y_proba = self.predict(X)\n",
    "            loss = cross_entropy_loss(Y, y_proba)\n",
    "            error = y_proba - Y\n",
    "            gradients = 1/m * X.T.dot(error)\n",
    "            self.theta = self.theta - learning_rate * gradients\n",
    "            if iteration % 100 == 0:\n",
    "                print(iteration, loss)\n"
   ],
   "metadata": {
    "collapsed": false
   },
   "id": "217dc729d016274d"
  }
 ],
 "metadata": {
  "kernelspec": {
   "display_name": "Python 3",
   "language": "python",
   "name": "python3"
  },
  "language_info": {
   "codemirror_mode": {
    "name": "ipython",
    "version": 2
   },
   "file_extension": ".py",
   "mimetype": "text/x-python",
   "name": "python",
   "nbconvert_exporter": "python",
   "pygments_lexer": "ipython2",
   "version": "2.7.6"
  }
 },
 "nbformat": 4,
 "nbformat_minor": 5
}
