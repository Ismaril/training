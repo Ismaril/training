{
 "cells": [
  {
   "cell_type": "markdown",
   "source": [
    "# SOFTMAX REGRESSION FROM SCRATCH"
   ],
   "metadata": {
    "collapsed": false
   },
   "id": "e699d57e0c6fea11"
  },
  {
   "cell_type": "code",
   "outputs": [],
   "source": [
    "import numpy as np\n",
    "from my_extensions import MyModelExtensions\n",
    "from sklearn.datasets import fetch_openml\n",
    "\n",
    "# IMPORT MNIST DATA\n",
    "mnist = fetch_openml(\"mnist_784\", version=1)\n",
    "X, y = np.array(mnist[\"data\"]), np.array(mnist[\"target\"])\n",
    "np.random.seed(42)"
   ],
   "metadata": {
    "collapsed": false,
    "ExecuteTime": {
     "end_time": "2024-02-20T18:02:31.907301Z",
     "start_time": "2024-02-20T18:02:27.899834900Z"
    }
   },
   "id": "f47d684403ec0348",
   "execution_count": 108
  },
  {
   "cell_type": "code",
   "outputs": [],
   "source": [
    "# SPLIT DATA INTO TRAINING AND TESTING SETS\n",
    "\n",
    "# Add 1s column to the X matrix to account for the bias term\n",
    "X = np.c_[np.ones((len(X), 1)), X]\n",
    "\n",
    "X_train, X_test, y_train, y_test = X[:60000], X[60000:], y[:60000], y[60000:]\n",
    "\n"
   ],
   "metadata": {
    "collapsed": false,
    "ExecuteTime": {
     "end_time": "2024-02-20T18:02:32.168183200Z",
     "start_time": "2024-02-20T18:02:31.908275100Z"
    }
   },
   "id": "94746993d3b6eb3d",
   "execution_count": 109
  },
  {
   "cell_type": "code",
   "outputs": [],
   "source": [
    "# NORMALIZE DATA\n",
    "X_train = X_train / 255\n",
    "X_test = X_test / 255\n",
    "\n"
   ],
   "metadata": {
    "collapsed": false,
    "ExecuteTime": {
     "end_time": "2024-02-20T18:02:32.271157700Z",
     "start_time": "2024-02-20T18:02:32.168183200Z"
    }
   },
   "id": "422b328eb7afa2dd",
   "execution_count": 110
  },
  {
   "cell_type": "code",
   "outputs": [],
   "source": [
    "\n",
    "# SOFTMAX FUNCTION\n",
    "def softmax(logits):\n",
    "    \"\"\"\n",
    "    Returns the values of the logits vector after applying the softmax function.\n",
    "    \n",
    "    :param logits: Feature vector, computed as linear model. \n",
    "    :return: np.array\n",
    "    \"\"\"\n",
    "    exps = np.exp(logits)\n",
    "    exp_sums = np.sum(exps, axis=1, keepdims=True)\n",
    "    return exps / exp_sums\n",
    "\n",
    "\n",
    "# CROSS-ENTROPY LOSS FUNCTION\n",
    "def cross_entropy_loss(Y, y_proba):\n",
    "    \"\"\"\n",
    "    Returns the cross-entropy loss of the model.\n",
    "    \n",
    "    :param Y: One-hot encoded ture labels\n",
    "    :param y_proba: Predicted probabilities. There are the same number of probabilities as the number of classes for each sample/observation.\n",
    "    :return: float\n",
    "    \"\"\"\n",
    "    loss = -np.mean(np.sum(Y * np.log(y_proba + 1e-7), axis=1))\n",
    "    return loss\n",
    "\n",
    "\n",
    "# CREATE SOFTMAX REGRESSION MODEL FROM SCRATCH\n",
    "# Inherit from the Extension class to use its methods for visualization and evaluation\n",
    "class MySoftmaxRegression(MyModelExtensions):\n",
    "    def __init__(self, nr_of_features, nr_of_classes, learning_rate=0.1, n_iterations=1000):\n",
    "        \"\"\"\n",
    "        Softmax regression model.\n",
    "        \n",
    "        It relies on linear regression model. All the computations are the same as in the Linear Regression model. But in order to make multiclass predictions we cannot rely as usual on the number same number of thetas/parameters as the number of features. In this case it is true, that there is still the number of thetas for each feature, but rather having only one theta per each feature, we have matrix of thetas where for each feature there are the number of thetas equal to the number of classes. This in practise means that if you have in one data point 3 features and 5 classes then you will have 5 thetas for each feature.\n",
    "        \n",
    "        :param nr_of_features: Number of features per sample/observation \n",
    "        :param nr_of_classes: Number of possible classes per sample/observation\n",
    "        :param learning_rate: How fast the model should learn\n",
    "        :param n_iterations: How many times the model should learn\n",
    "        \"\"\"\n",
    "        super().__init__()\n",
    "        self.n_iterations = n_iterations\n",
    "        self.learning_rate = learning_rate\n",
    "        self.n_inputs = nr_of_features\n",
    "        self.n_outputs = nr_of_classes\n",
    "        self.thetas = []\n",
    "        self.losses = []\n",
    "\n",
    "    def fit(self, X, y):\n",
    "        \"\"\"\n",
    "        Fit the model to the data X and y. Meaning let the model learn the parameters.\n",
    "        :param X: Features\n",
    "        :param y: Labels\n",
    "        :return: None\n",
    "        \"\"\"\n",
    "\n",
    "        n_samples = len(X)\n",
    "        \n",
    "        # one-hot encode the labels (example in a cell below)\n",
    "        Y = np.eye(self.n_outputs)[y.astype(int)]\n",
    "\n",
    "        # initialize the parameters with random values\n",
    "        self.thetas = np.random.randn(self.n_inputs, self.n_outputs)\n",
    "\n",
    "        # gradient descent\n",
    "        for iteration in range(self.n_iterations):\n",
    "            # compute linear model (linear predictions)\n",
    "            linear_model = np.dot(X, self.thetas)\n",
    "\n",
    "            # apply softmax function to get probabilities\n",
    "            y_prediction = softmax(linear_model)\n",
    " \n",
    "            # compute the cost (only for visualization, not used in the optimization process)\n",
    "            loss = cross_entropy_loss(Y, y_prediction)\n",
    "            self.losses.append(loss)\n",
    "            \n",
    "            # compute the gradients\n",
    "            gradients = 2 / n_samples * np.dot(X.T, (y_prediction - Y))\n",
    "\n",
    "            # update the parameters\n",
    "            self.thetas = self.thetas - self.learning_rate * gradients\n",
    "\n",
    "    def predict(self, X):\n",
    "        \"\"\"\n",
    "        Predict the class labels for the provided data\n",
    "        :param X: Features\n",
    "        :return: Predicted class labels\n",
    "        \"\"\"\n",
    "        linear_model = np.dot(X, self.thetas)\n",
    "        return softmax(linear_model)\n"
   ],
   "metadata": {
    "collapsed": false,
    "ExecuteTime": {
     "end_time": "2024-02-20T18:02:32.280979100Z",
     "start_time": "2024-02-20T18:02:32.276144800Z"
    }
   },
   "id": "217dc729d016274d",
   "execution_count": 111
  },
  {
   "cell_type": "code",
   "outputs": [
    {
     "data": {
      "text/plain": "array([[1., 0., 0., 0.],\n       [0., 1., 0., 0.],\n       [0., 0., 1., 0.],\n       [0., 0., 0., 1.],\n       [0., 0., 0., 1.],\n       [0., 0., 1., 0.],\n       [0., 1., 0., 0.],\n       [1., 0., 0., 0.]])"
     },
     "execution_count": 112,
     "metadata": {},
     "output_type": "execute_result"
    }
   ],
   "source": [
    "# 4 - we specify that we are working with 4 classes\n",
    "# [0, 1, 2, 3, 3, 2, 1, 0] - Array we want to one-hot encode\n",
    "Y = np.eye(4)[[0, 1, 2, 3, 3, 2, 1, 0]]\n",
    "Y"
   ],
   "metadata": {
    "collapsed": false,
    "ExecuteTime": {
     "end_time": "2024-02-20T18:02:32.290460200Z",
     "start_time": "2024-02-20T18:02:32.280312200Z"
    }
   },
   "id": "8a8a90212465eb95",
   "execution_count": 112
  },
  {
   "cell_type": "code",
   "outputs": [],
   "source": [
    "# TRAIN THE MODEL (Takes 10 minutes to run. If you want to make it faster, then implement mini-batch gradient descent or SGD, instead of batch gradient descent)\n",
    "\n",
    "model = MySoftmaxRegression(nr_of_features=X_train.shape[1], # 784, because 28x28 pixels + 1 for bias\n",
    "                            nr_of_classes=len(np.unique(y_train)), # 10, because 10 digits\n",
    "                            learning_rate=0.1,\n",
    "                            n_iterations=10_000)\n",
    "model.fit(X_train, y_train)"
   ],
   "metadata": {
    "collapsed": false,
    "ExecuteTime": {
     "end_time": "2024-02-20T18:13:27.320043900Z",
     "start_time": "2024-02-20T18:02:32.285474500Z"
    }
   },
   "id": "5e31262f0628cdfc",
   "execution_count": 113
  },
  {
   "cell_type": "code",
   "outputs": [
    {
     "name": "stdout",
     "output_type": "stream",
     "text": [
      "Best parameters:\n"
     ]
    },
    {
     "data": {
      "text/plain": "array([[ 0.48850952, -0.13575268,  0.65166786, ...,  0.77815441,\n        -0.4947229 ,  0.53784634],\n       [-0.46341769, -0.46572975,  0.24196227, ...,  0.31424733,\n        -0.90802408, -1.4123037 ],\n       [ 1.46564877, -0.2257763 ,  0.0675282 , ...,  0.37569802,\n        -0.60063869, -0.29169375],\n       ...,\n       [ 0.59899634,  0.85334898, -0.49419002, ..., -0.22093172,\n         0.19112423, -1.14970747],\n       [-0.19360951,  0.7445864 ,  0.64194713, ..., -0.07782144,\n        -0.27595145, -0.36172384],\n       [-0.06289387, -0.44787764,  0.65814304, ...,  0.06970427,\n        -0.65065662, -0.32664756]])"
     },
     "execution_count": 114,
     "metadata": {},
     "output_type": "execute_result"
    }
   ],
   "source": [
    "# show the parameters\n",
    "print(\"Best parameters:\")\n",
    "model.show_parameters()"
   ],
   "metadata": {
    "collapsed": false,
    "ExecuteTime": {
     "end_time": "2024-02-20T18:13:27.328626400Z",
     "start_time": "2024-02-20T18:13:27.320043900Z"
    }
   },
   "id": "b9bf2abe4a51c06a",
   "execution_count": 114
  },
  {
   "cell_type": "code",
   "outputs": [
    {
     "data": {
      "text/plain": "<Figure size 640x480 with 1 Axes>",
      "image/png": "[encoded data removed]"
     },
     "metadata": {},
     "output_type": "display_data"
    }
   ],
   "source": [
    "# VISUALIZE THE MODELS LOSS CURVE\n",
    "\n",
    "model.show_loss_curve()"
   ],
   "metadata": {
    "collapsed": false,
    "ExecuteTime": {
     "end_time": "2024-02-20T18:13:27.475730600Z",
     "start_time": "2024-02-20T18:13:27.324636800Z"
    }
   },
   "id": "fc904af8d83863f9",
   "execution_count": 115
  },
  {
   "cell_type": "code",
   "outputs": [
    {
     "name": "stdout",
     "output_type": "stream",
     "text": [
      "Accuracy: 0.90\n"
     ]
    }
   ],
   "source": [
    "# EVALUATE THE MODEL\n",
    "\n",
    "y_pred = model.predict(X_test)\n",
    "\n",
    "accuracy = np.mean(np.argmax(y_pred, axis=1) == y_test.astype(int))\n",
    "print(f\"Accuracy: {accuracy:.2f}\")"
   ],
   "metadata": {
    "collapsed": false,
    "ExecuteTime": {
     "end_time": "2024-02-20T18:13:27.501058Z",
     "start_time": "2024-02-20T18:13:27.465759300Z"
    }
   },
   "id": "f36af1331adb2d5f",
   "execution_count": 116
  },
  {
   "cell_type": "markdown",
   "source": [
    "In those few cells below I demonstrate how you can take only one vector containing thetas/parameters of a given class and use only binary classificator"
   ],
   "metadata": {
    "collapsed": false
   },
   "id": "24d0db9d4e4c3e"
  },
  {
   "cell_type": "code",
   "outputs": [
    {
     "data": {
      "text/plain": "<Figure size 640x480 with 1 Axes>",
      "image/png": "[encoded data removed]"
     },
     "metadata": {},
     "output_type": "display_data"
    }
   ],
   "source": [
    "# take a sample from the training set, which is number 0\n",
    "X_sample_0 = X_train[108]\n",
    "\n",
    "# visualise the sample with matplotlib\n",
    "import matplotlib.pyplot as plt\n",
    "\n",
    "\n",
    "def plot_digit(data):\n",
    "    image = data.reshape(28, 28)\n",
    "    plt.imshow(image, cmap=\"binary\")\n",
    "    plt.axis(\"off\")\n",
    "\n",
    "# [1:] to remove the bias term\n",
    "plot_digit(X_sample_0[1:])"
   ],
   "metadata": {
    "collapsed": false,
    "ExecuteTime": {
     "end_time": "2024-02-20T18:13:27.542765400Z",
     "start_time": "2024-02-20T18:13:27.482108700Z"
    }
   },
   "id": "cdd31d76c669a89b",
   "execution_count": 117
  },
  {
   "cell_type": "code",
   "outputs": [
    {
     "name": "stdout",
     "output_type": "stream",
     "text": [
      "Class:0, Sigmoid:1.00000, Softmax:0.99834\n",
      "Class:1, Sigmoid:0.00004, Softmax:0.00000\n",
      "Class:2, Sigmoid:0.99681, Softmax:0.00123\n",
      "Class:3, Sigmoid:0.01005, Softmax:0.00000\n",
      "Class:4, Sigmoid:0.00000, Softmax:0.00000\n",
      "Class:5, Sigmoid:0.81352, Softmax:0.00002\n",
      "Class:6, Sigmoid:0.56879, Softmax:0.00001\n",
      "Class:7, Sigmoid:0.00017, Softmax:0.00000\n",
      "Class:8, Sigmoid:0.99064, Softmax:0.00041\n",
      "Class:9, Sigmoid:0.00001, Softmax:0.00000\n"
     ]
    }
   ],
   "source": [
    "\n",
    "def sigmoid(t):\n",
    "    \"\"\"\n",
    "    Returns the values of the t vector after applying the sigmoid function.\n",
    "    \n",
    "    :param t: Feature vector. \n",
    "    :return: np.array\n",
    "    \"\"\"\n",
    "    return 1 / (1 + np.exp(-t))\n",
    "\n",
    "def predict(X, thetas):\n",
    "    \"\"\"\n",
    "    Just a helper function to predict sigmoid class probabilities\n",
    "    \"\"\"\n",
    "    linear_model = np.dot(X, thetas)\n",
    "    y_predicted = sigmoid(linear_model)\n",
    "    return y_predicted\n",
    "\n",
    "for i, softmax_probability in enumerate(model.predict([X_sample_0])[0]):\n",
    "    sigmoid_probability = predict(X_sample_0, model.thetas[:, i])\n",
    "    print(f\"Class:{i}\",\n",
    "          f\"Sigmoid:{sigmoid_probability:.5f}\",\n",
    "          f\"Softmax:{softmax_probability:.5f}\",\n",
    "          sep=\", \")\n"
   ],
   "metadata": {
    "collapsed": false,
    "ExecuteTime": {
     "end_time": "2024-02-20T18:13:27.554688500Z",
     "start_time": "2024-02-20T18:13:27.541767100Z"
    }
   },
   "id": "c538533164ee8acb",
   "execution_count": 118
  }
 ],
 "metadata": {
  "kernelspec": {
   "display_name": "Python 3",
   "language": "python",
   "name": "python3"
  },
  "language_info": {
   "codemirror_mode": {
    "name": "ipython",
    "version": 2
   },
   "file_extension": ".py",
   "mimetype": "text/x-python",
   "name": "python",
   "nbconvert_exporter": "python",
   "pygments_lexer": "ipython2",
   "version": "2.7.6"
  }
 },
 "nbformat": 4,
 "nbformat_minor": 5
}
