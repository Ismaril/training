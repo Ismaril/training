{
 "cells": [
  {
   "cell_type": "markdown",
   "source": [
    "# SOFTMAX REGRESSION FROM SCRATCH"
   ],
   "metadata": {
    "collapsed": false
   },
   "id": "e699d57e0c6fea11"
  },
  {
   "cell_type": "code",
   "outputs": [],
   "source": [
    "import numpy as np\n",
    "from my_extensions import MyExtensions\n",
    "from sklearn.datasets import fetch_openml\n",
    "\n",
    "# IMPORT MNIST DATA\n",
    "mnist = fetch_openml(\"mnist_784\", version=1)\n",
    "X, y = np.array(mnist[\"data\"]), np.array(mnist[\"target\"])\n"
   ],
   "metadata": {
    "collapsed": false,
    "ExecuteTime": {
     "end_time": "2024-02-19T17:05:33.311762900Z",
     "start_time": "2024-02-19T17:05:29.528088700Z"
    }
   },
   "id": "f47d684403ec0348",
   "execution_count": 96
  },
  {
   "cell_type": "code",
   "outputs": [],
   "source": [
    "# SPLIT DATA INTO TRAINING AND TESTING SETS\n",
    "X_train, X_test, y_train, y_test = X[:60000], X[60000:], y[:60000], y[60000:]\n",
    "\n"
   ],
   "metadata": {
    "collapsed": false,
    "ExecuteTime": {
     "end_time": "2024-02-19T17:05:33.349364Z",
     "start_time": "2024-02-19T17:05:33.340418Z"
    }
   },
   "id": "94746993d3b6eb3d",
   "execution_count": 97
  },
  {
   "cell_type": "code",
   "outputs": [],
   "source": [
    "# NORMALIZE DATA\n",
    "X_train = X_train / 255\n",
    "X_test = X_test / 255\n",
    "\n"
   ],
   "metadata": {
    "collapsed": false,
    "ExecuteTime": {
     "end_time": "2024-02-19T17:05:33.452934800Z",
     "start_time": "2024-02-19T17:05:33.341385700Z"
    }
   },
   "id": "422b328eb7afa2dd",
   "execution_count": 98
  },
  {
   "cell_type": "code",
   "outputs": [],
   "source": [
    "\n",
    "# SOFTMAX FUNCTION\n",
    "def softmax(logits):\n",
    "    exps = np.exp(logits)\n",
    "    exp_sums = np.sum(exps, axis=1, keepdims=True)\n",
    "    return exps / exp_sums\n",
    "\n",
    "\n",
    "# CROSS-ENTROPY LOSS FUNCTION\n",
    "def cross_entropy_loss(y, y_proba):\n",
    "    loss = -np.mean(np.sum(y * np.log(y_proba + 1e-7), axis=1))\n",
    "    return loss\n",
    "\n",
    "\n",
    "# CREATE SOFTMAX REGRESSION MODEL FROM SCRATCH\n",
    "# Inherit from the Extension class to use its methods for visualization and evaluation\n",
    "class MySoftmaxRegression(MyExtensions):\n",
    "    def __init__(self, n_inputs, n_outputs, learning_rate=0.1, n_iterations=1000):\n",
    "        super().__init__()\n",
    "        self.n_iterations = n_iterations\n",
    "        self.learning_rate = learning_rate\n",
    "        self.n_inputs = n_inputs\n",
    "        self.n_outputs = n_outputs\n",
    "        self.thetas = []\n",
    "        self.losses = []\n",
    "\n",
    "    def fit(self, X, y):\n",
    "        \"\"\"\n",
    "        Fit the model to the data X and y. Meaning let the model learn the parameters.\n",
    "        :param X: Features\n",
    "        :param y: Labels\n",
    "        :return: None\n",
    "        \"\"\"\n",
    "\n",
    "        n_samples = len(X)\n",
    "        \n",
    "        # one-hot encode the labels (example in a cell below)\n",
    "        Y = np.eye(self.n_outputs)[y.astype(int)]\n",
    "\n",
    "        # initialize the parameters with random values\n",
    "        self.thetas = np.random.randn(self.n_inputs, self.n_outputs)\n",
    "\n",
    "        # gradient descent\n",
    "        for iteration in range(self.n_iterations):\n",
    "            # compute linear model / linear predictions\n",
    "            linear_model = np.dot(X, self.thetas)\n",
    "\n",
    "            # apply softmax function to get probabilities\n",
    "            y_prediction = softmax(linear_model)\n",
    "\n",
    "            # compute the cost (only for visualization, not used in the optimization process)\n",
    "            loss = cross_entropy_loss(Y, y_prediction)\n",
    "            self.losses.append(loss)\n",
    "            \n",
    "            # compute the gradients\n",
    "            # gradients = 1 / n_samples * X.T.dot(y_prediction - Y)\n",
    "            gradients = 2 / n_samples * np.dot(X.T, (y_prediction - Y))\n",
    "\n",
    "            # update the parameters\n",
    "            self.thetas = self.thetas - self.learning_rate * gradients\n",
    "\n",
    "    def predict(self, X):\n",
    "        \"\"\"\n",
    "        Predict the class labels for the provided data\n",
    "        :param X: Features\n",
    "        :return: Predicted class labels\n",
    "        \"\"\"\n",
    "        logits = X.dot(self.thetas)\n",
    "        return softmax(logits)\n"
   ],
   "metadata": {
    "collapsed": false,
    "ExecuteTime": {
     "end_time": "2024-02-19T17:05:33.465302800Z",
     "start_time": "2024-02-19T17:05:33.453897100Z"
    }
   },
   "id": "217dc729d016274d",
   "execution_count": 99
  },
  {
   "cell_type": "code",
   "outputs": [
    {
     "data": {
      "text/plain": "array([[1., 0., 0., 0.],\n       [0., 1., 0., 0.],\n       [0., 0., 1., 0.],\n       [0., 0., 0., 1.],\n       [0., 0., 0., 1.],\n       [0., 0., 1., 0.],\n       [0., 1., 0., 0.],\n       [1., 0., 0., 0.]])"
     },
     "execution_count": 100,
     "metadata": {},
     "output_type": "execute_result"
    }
   ],
   "source": [
    "# 4 - we specify that we are working with 4 classes\n",
    "# [0, 1, 2, 3, 3, 2, 1, 0] - Array we want to one-hot encode\n",
    "Y = np.eye(4)[[0, 1, 2, 3, 3, 2, 1, 0]]\n",
    "Y"
   ],
   "metadata": {
    "collapsed": false,
    "ExecuteTime": {
     "end_time": "2024-02-19T17:05:33.466300700Z",
     "start_time": "2024-02-19T17:05:33.462366700Z"
    }
   },
   "id": "8a8a90212465eb95",
   "execution_count": 100
  },
  {
   "cell_type": "code",
   "outputs": [],
   "source": [
    "# TRAIN THE MODEL (Takes 10 minutes to run. If you want to make it faster, then implement mini-batch gradient descent or SGD, instead of batch gradient descent)\n",
    "\n",
    "model = MySoftmaxRegression(n_inputs=X_train.shape[1],\n",
    "                            n_outputs=len(np.unique(y_train)), \n",
    "                            learning_rate=0.1,\n",
    "                            n_iterations=10_000)\n",
    "model.fit(X_train, y_train)"
   ],
   "metadata": {
    "collapsed": false,
    "ExecuteTime": {
     "end_time": "2024-02-19T17:15:56.444922600Z",
     "start_time": "2024-02-19T17:05:33.467297800Z"
    }
   },
   "id": "5e31262f0628cdfc",
   "execution_count": 101
  },
  {
   "cell_type": "code",
   "outputs": [
    {
     "name": "stdout",
     "output_type": "stream",
     "text": [
      "Best parameters:\n"
     ]
    },
    {
     "data": {
      "text/plain": "array([[-0.26735976, -0.30268004,  0.24949642, ...,  0.43122706,\n         0.4386377 , -1.30287216],\n       [ 0.68664682,  1.11736219,  1.09781519, ..., -0.99585522,\n         1.65586955, -0.3970676 ],\n       [-0.36309958,  1.81316033,  0.9719866 , ...,  0.21794777,\n         0.98464085,  0.04448919],\n       ...,\n       [-0.73070498, -1.40061063, -0.50091949, ...,  0.59936691,\n        -2.07766886, -0.4330983 ],\n       [ 0.31921249,  0.07959058,  0.39922844, ...,  0.12039863,\n         0.62625179,  0.88664884],\n       [ 0.30856175, -2.70425638, -0.37100413, ...,  0.89203323,\n         0.04207746,  0.25968729]])"
     },
     "execution_count": 102,
     "metadata": {},
     "output_type": "execute_result"
    }
   ],
   "source": [
    "# show the parameters\n",
    "print(\"Best parameters:\")\n",
    "model.show_parameters()"
   ],
   "metadata": {
    "collapsed": false,
    "ExecuteTime": {
     "end_time": "2024-02-19T17:15:56.459903800Z",
     "start_time": "2024-02-19T17:15:56.444922600Z"
    }
   },
   "id": "b9bf2abe4a51c06a",
   "execution_count": 102
  },
  {
   "cell_type": "code",
   "outputs": [
    {
     "data": {
      "text/plain": "<Figure size 640x480 with 1 Axes>",
      "image/png": "[encoded data removed]"
     },
     "metadata": {},
     "output_type": "display_data"
    }
   ],
   "source": [
    "# VISUALIZE THE MODEL\n",
    "\n",
    "model.show_loss_curve()"
   ],
   "metadata": {
    "collapsed": false,
    "ExecuteTime": {
     "end_time": "2024-02-19T17:15:56.548794300Z",
     "start_time": "2024-02-19T17:15:56.450928400Z"
    }
   },
   "id": "fc904af8d83863f9",
   "execution_count": 103
  },
  {
   "cell_type": "code",
   "outputs": [
    {
     "name": "stdout",
     "output_type": "stream",
     "text": [
      "Accuracy: 0.91\n"
     ]
    }
   ],
   "source": [
    "y_pred = model.predict(X_test)\n",
    "\n",
    "accuracy = np.mean(np.argmax(y_pred, axis=1) == y_test.astype(int))\n",
    "print(f\"Accuracy: {accuracy:.2f}\")"
   ],
   "metadata": {
    "collapsed": false,
    "ExecuteTime": {
     "end_time": "2024-02-19T17:15:56.548794300Z",
     "start_time": "2024-02-19T17:15:56.533112600Z"
    }
   },
   "id": "f36af1331adb2d5f",
   "execution_count": 104
  },
  {
   "cell_type": "code",
   "outputs": [],
   "source": [
    "# todo: Add also column of 1s due to it being regression? (bias)"
   ],
   "metadata": {
    "collapsed": false
   },
   "id": "46aed92ec04bd34b"
  }
 ],
 "metadata": {
  "kernelspec": {
   "display_name": "Python 3",
   "language": "python",
   "name": "python3"
  },
  "language_info": {
   "codemirror_mode": {
    "name": "ipython",
    "version": 2
   },
   "file_extension": ".py",
   "mimetype": "text/x-python",
   "name": "python",
   "nbconvert_exporter": "python",
   "pygments_lexer": "ipython2",
   "version": "2.7.6"
  }
 },
 "nbformat": 4,
 "nbformat_minor": 5
}
