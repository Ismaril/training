{
 "cells": [
  {
   "cell_type": "code",
   "execution_count": 925,
   "id": "6eb5656e",
   "metadata": {
    "ExecuteTime": {
     "end_time": "2024-01-14T09:45:56.587746500Z",
     "start_time": "2024-01-14T09:45:56.559793500Z"
    }
   },
   "outputs": [],
   "source": [
    "#todo: I found here some mistakes in the code, needs to be fixed\n",
    "\n",
    "# approximation of linear line (line we gonna predict)\n",
    "\n",
    "# What we need to calculate?: We need to train the model on the training data so that we find the best weights and the best bias. With these values kept from training we can actually then insert unknown data x and ŷ will be calculated with already trained weights and bias\n",
    "\n",
    "# ŷ = wx + b\n",
    "\n",
    "# ŷ: predicted value of line\n",
    "# w: weight (slope/angle of line)\n",
    "# b: bias (shift of line, offset, meaning how far the line is)"
   ]
  },
  {
   "cell_type": "code",
   "execution_count": 926,
   "id": "1b9e292e",
   "metadata": {
    "ExecuteTime": {
     "end_time": "2024-01-14T09:45:56.615643800Z",
     "start_time": "2024-01-14T09:45:56.592710700Z"
    }
   },
   "outputs": [],
   "source": [
    "import numpy as np\n",
    "from sklearn.model_selection import train_test_split\n",
    "from sklearn import datasets\n",
    "import matplotlib.pyplot as plt"
   ]
  },
  {
   "cell_type": "code",
   "execution_count": 927,
   "id": "6866c34f",
   "metadata": {
    "ExecuteTime": {
     "end_time": "2024-01-14T09:45:56.642571500Z",
     "start_time": "2024-01-14T09:45:56.616641100Z"
    }
   },
   "outputs": [],
   "source": [
    "# load data using sklearn make regression method\n",
    "X, y = datasets.make_regression(n_samples=100, n_features=1, noise=20, random_state=42)\n",
    "X = X+100\n",
    "y = y-1000"
   ]
  },
  {
   "cell_type": "code",
   "outputs": [
    {
     "name": "stdout",
     "output_type": "stream",
     "text": [
      "(100, 1)\n",
      "(100,)\n"
     ]
    }
   ],
   "source": [
    "print(X.shape)\n",
    "print(y.shape)"
   ],
   "metadata": {
    "collapsed": false,
    "ExecuteTime": {
     "end_time": "2024-01-14T09:45:56.661521Z",
     "start_time": "2024-01-14T09:45:56.629606500Z"
    }
   },
   "id": "214837bb73313b5",
   "execution_count": 928
  },
  {
   "cell_type": "code",
   "outputs": [
    {
     "name": "stdout",
     "output_type": "stream",
     "text": [
      "[[100.93128012]\n",
      " [100.08704707]\n",
      " [ 98.94228907]\n",
      " [100.31424733]\n",
      " [ 99.52082576]\n",
      " [100.64768854]\n",
      " [ 99.53658231]\n",
      " [100.54256004]\n",
      " [100.61167629]\n",
      " [101.0035329 ]\n",
      " [100.8219025 ]\n",
      " [101.53803657]\n",
      " [100.73846658]\n",
      " [ 99.78032811]\n",
      " [ 99.1915064 ]\n",
      " [100.09176078]\n",
      " [ 98.04032988]\n",
      " [100.51326743]\n",
      " [101.03099952]\n",
      " [ 97.3802549 ]\n",
      " [100.49671415]\n",
      " [100.09707755]\n",
      " [ 99.53427025]\n",
      " [100.91540212]\n",
      " [101.56464366]\n",
      " [101.46564877]\n",
      " [ 99.39936131]\n",
      " [ 99.96417396]\n",
      " [ 99.39829339]\n",
      " [ 98.80379338]\n",
      " [100.35711257]\n",
      " [100.37569802]\n",
      " [100.26105527]\n",
      " [ 99.4702398 ]\n",
      " [ 99.09197592]\n",
      " [100.19686124]\n",
      " [ 99.70099265]\n",
      " [100.36163603]\n",
      " [100.82254491]\n",
      " [ 99.70830625]\n",
      " [100.36139561]\n",
      " [ 99.323078  ]\n",
      " [101.52302986]\n",
      " [ 99.48172978]\n",
      " [ 99.76584663]\n",
      " [ 99.60789185]\n",
      " [ 99.6988963 ]\n",
      " [ 99.35488025]\n",
      " [100.32875111]\n",
      " [100.2088636 ]\n",
      " [ 99.67233785]\n",
      " [100.00511346]\n",
      " [ 99.76586304]\n",
      " [101.47789404]\n",
      " [ 99.61491772]\n",
      " [100.34361829]\n",
      " [100.33126343]\n",
      " [ 99.81434102]\n",
      " [ 99.76541287]\n",
      " [ 98.01243109]\n",
      " [100.32408397]\n",
      " [ 99.7742237 ]\n",
      " [ 98.89366503]\n",
      " [ 99.29794691]\n",
      " [ 98.53648505]\n",
      " [100.96864499]\n",
      " [ 98.27508217]\n",
      " [ 98.08671976]\n",
      " [ 99.43771247]\n",
      " [100.76743473]\n",
      " [100.81252582]\n",
      " [ 98.5876963 ]\n",
      " [ 98.52147801]\n",
      " [ 98.77915635]\n",
      " [ 99.16078248]\n",
      " [101.57921282]\n",
      " [100.97554513]\n",
      " [100.24196227]\n",
      " [100.29612028]\n",
      " [ 99.45561728]\n",
      " [ 98.23695984]\n",
      " [100.11092259]\n",
      " [100.17136828]\n",
      " [ 98.67181395]\n",
      " [101.05712223]\n",
      " [ 99.88435172]\n",
      " [ 99.53052561]\n",
      " [ 99.98650278]\n",
      " [ 98.98716888]\n",
      " [ 99.8617357 ]\n",
      " [ 98.84900642]\n",
      " [101.35624003]\n",
      " [100.0675282 ]\n",
      " [ 99.49824296]\n",
      " [ 99.53936123]\n",
      " [101.85227818]\n",
      " [ 98.57525181]\n",
      " [ 99.28015579]\n",
      " [ 99.92798988]\n",
      " [ 99.69078762]]\n"
     ]
    }
   ],
   "source": [
    "print(X)"
   ],
   "metadata": {
    "collapsed": false,
    "ExecuteTime": {
     "end_time": "2024-01-14T09:45:56.662518300Z",
     "start_time": "2024-01-14T09:45:56.646561900Z"
    }
   },
   "id": "6e2c1a264ce56ced",
   "execution_count": 929
  },
  {
   "cell_type": "code",
   "outputs": [
    {
     "name": "stdout",
     "output_type": "stream",
     "text": [
      "[ -937.312798   -1023.76398073 -1025.68676582  -992.06354346\n",
      " -1015.47549454  -963.90604123 -1040.79420109 -1010.82303923\n",
      "  -978.58529301  -977.20137788  -962.77564807  -910.43287094\n",
      "  -958.44887176  -984.98170689 -1061.87551793  -978.59633326\n",
      " -1089.10957316  -981.32108893  -985.76577446 -1126.70386499\n",
      "  -987.17693374  -998.43052405 -1039.29179595  -981.0504209\n",
      "  -915.87934051  -932.02578843  -996.96721369  -993.00569341\n",
      " -1042.72871243 -1074.26807854  -974.33452825  -956.63763695\n",
      "  -999.36257205 -1021.27317252 -1049.39610818 -1016.24026614\n",
      " -1027.9165108   -999.92850289  -931.53397124  -984.329103\n",
      "  -969.51540258 -1034.74528828  -939.74827615 -1019.75786057\n",
      " -1005.4750429   -995.45560239 -1015.7871471  -1049.53656945\n",
      "  -966.73396694  -991.09891681  -998.13598263  -985.58437389\n",
      " -1050.21943287  -883.62263324  -965.29050377  -964.77978229\n",
      "  -973.81988297  -990.80158132 -1007.94234764 -1087.75520361\n",
      "  -959.19464803 -1009.57175421 -1042.68297889 -1038.35371326\n",
      " -1067.93155851  -944.76087592 -1085.18361433 -1088.51460823\n",
      " -1023.39175408  -939.88725521  -945.09733029 -1067.38107488\n",
      " -1069.4804227  -1033.48756895 -1009.04192654  -952.94305562\n",
      "  -934.93825705  -987.8532749  -1006.16054619 -1038.22985603\n",
      " -1063.06227276  -979.90715194 -1011.14071801 -1042.45821245\n",
      "  -944.75211914  -992.41632224 -1019.96739353 -1010.43203866\n",
      " -1032.72160341 -1011.55404119 -1064.08029524  -916.88693569\n",
      "  -981.83536166 -1021.63448421 -1026.36246966  -921.14597152\n",
      " -1082.46640851 -1047.75733679  -988.31576041 -1030.24978792]\n"
     ]
    }
   ],
   "source": [
    "print(y)"
   ],
   "metadata": {
    "collapsed": false,
    "ExecuteTime": {
     "end_time": "2024-01-14T09:45:56.728342400Z",
     "start_time": "2024-01-14T09:45:56.662518300Z"
    }
   },
   "id": "9929f4ce91fc0092",
   "execution_count": 930
  },
  {
   "cell_type": "code",
   "execution_count": 931,
   "id": "01e0426f",
   "metadata": {
    "ExecuteTime": {
     "end_time": "2024-01-14T09:45:56.729339400Z",
     "start_time": "2024-01-14T09:45:56.677478300Z"
    }
   },
   "outputs": [],
   "source": [
    "# split data\n",
    "X_train, X_test, y_train, y_test = train_test_split(X, y, test_size=0.2, random_state=42)"
   ]
  },
  {
   "cell_type": "code",
   "execution_count": 932,
   "id": "58c7f3c4",
   "metadata": {
    "ExecuteTime": {
     "end_time": "2024-01-14T09:45:56.901900800Z",
     "start_time": "2024-01-14T09:45:56.714379500Z"
    }
   },
   "outputs": [
    {
     "data": {
      "text/plain": "<Figure size 1152x648 with 1 Axes>",
      "image/png": "[encoded data removed]"
     },
     "metadata": {},
     "output_type": "display_data"
    }
   ],
   "source": [
    "# visualise\n",
    "plt.figure(figsize=(16, 9))\n",
    "plt.style.use(\"dark_background\")\n",
    "plt.scatter(X, y, color=\"r\", s=30)\n",
    "plt.show()"
   ]
  },
  {
   "cell_type": "code",
   "outputs": [],
   "source": [
    "import math\n",
    "\n",
    "class LinearRegression:\n",
    "    def __init__(self, lr=0.01, n_iterations=1000):\n",
    "        self.lr = lr\n",
    "        self.n_iterations = n_iterations\n",
    "        self.bias = None\n",
    "        self.weight = None\n",
    "\n",
    "    def fit(self, X, y):\n",
    "        # initialize parameters (here with zeros)\n",
    "        n_samples, n_features = X.shape\n",
    "        self.weight = np.zeros(n_features)  #[0]\n",
    "        self.bias = 0  # scalar\n",
    "\n",
    "        \n",
    "        # gradient descent loop\n",
    "        for iteration in range(self.n_iterations):\n",
    "\n",
    "            # calculate current iteration of line based on current weights and bias\n",
    "\n",
    "            # Why does np.dot() return an array instead of a scalar here?\n",
    "            # It is because we inputted X, which holds feature vectors. (Just a reminder, in each vector there is only one element here). Weights is this time only an array which holds one scalar value. Numpy operations are done on complete arrays, so it will multiply each element of X with the scalar value of weights. So the resulting array will hold result of each vector from X with weight + bias.\n",
    "            # Also for info, vectors will usually contain more than one element, so I suspect that you have to also have corresponding number of weights. So if you have 3 elements in vector, you will have 3 weights. This is because you have to multiply each element of vector with corresponding weight. We also see this confirmed above, where np.zeros() takes n_features as parameter. \n",
    "            y_predicted = np.dot(X, self.weight) + self.bias  # ŷ = xw + b\n",
    "            \n",
    "            \n",
    "            # calculate new weights\n",
    "            # w = w - learning_rate * derivative_of_weight\n",
    "            # derivative_w = 1/n_samples * sum(dotproduct(y_predicted - y_actual)) \n",
    "            # derivative_of_weight:\n",
    "            derivative_weight = (2 / n_samples) * np.sum(np.dot(X.T, (y_predicted - y)))\n",
    "\n",
    "            # subtract old weight with learning rate * derivative_of_weight  \n",
    "            self.weight -= self.lr * derivative_weight  \n",
    "\n",
    "            # calculate new bias (similar formula as above except sum instead of dot product)\n",
    "            # derivative of bias\n",
    "            derivative_bias = (1 / n_samples) * np.sum(y_predicted - y)\n",
    "            # derivative_bias = np.sum(y_predicted-y) / n_samples\n",
    "\n",
    "            self.bias -= self.lr * derivative_bias\n",
    "            \n",
    "            # plot each iteration of y_predicted from initialization to best fit\n",
    "            if iteration % 10 == 0:\n",
    "                plt.plot(X_train, y_predicted)\n",
    "            if iteration == self.n_iterations - 1:\n",
    "                plt.plot(X_train, y_predicted, color=\"blue\")\n",
    "\n",
    "    def predict(self, X):\n",
    "        return np.dot(X, self.weight) + self.bias\n"
   ],
   "metadata": {
    "ExecuteTime": {
     "end_time": "2024-01-14T09:45:56.902876Z",
     "start_time": "2024-01-14T09:45:56.886918500Z"
    }
   },
   "id": "4b773d95",
   "execution_count": 933
  },
  {
   "cell_type": "code",
   "outputs": [
    {
     "name": "stderr",
     "output_type": "stream",
     "text": [
      "C:\\Users\\lazni\\AppData\\Local\\Temp\\ipykernel_3188\\2098062620.py:35: RuntimeWarning: invalid value encountered in subtract\n",
      "  self.weight -= self.lr * derivative_weight\n"
     ]
    },
    {
     "data": {
      "text/plain": "<Figure size 1152x648 with 1 Axes>",
      "image/png": "[encoded data removed]"
     },
     "metadata": {},
     "output_type": "display_data"
    }
   ],
   "source": [
    "plt.figure(figsize=(16, 9))\n",
    "plt.scatter(X, y, color=\"r\", s=30)\n",
    "regressor = LinearRegression(lr=0.01)\n",
    "regressor.fit(X_train, y_train)\n",
    "predicted = regressor.predict(X_test)\n",
    "\n",
    "# you can check below how the line gets iteratively from completely horizontal position to position\n",
    "# that best fits the training data (blue)"
   ],
   "metadata": {
    "ExecuteTime": {
     "end_time": "2024-01-14T09:45:57.244016200Z",
     "start_time": "2024-01-14T09:45:56.892902300Z"
    }
   },
   "id": "3e3cbbd9",
   "execution_count": 934
  },
  {
   "cell_type": "code",
   "outputs": [
    {
     "name": "stdout",
     "output_type": "stream",
     "text": [
      "[ 50 150]\n",
      "[[19 22]\n",
      " [43 50]]\n"
     ]
    }
   ],
   "source": [
    "# HOW DOT PRODUCT WORKS\n",
    "\n",
    "A = np.array([[1], [3]])\n",
    "B = np.array([50])\n",
    "# If working with vectors that have only one element, you only need to just multiply them.\n",
    "# result1 = 1 * 50\n",
    "# result2 = 3 * 50\n",
    "result = np.dot(A, B)\n",
    "print(result)\n",
    "\n",
    "C = np.array([[1, 2], [3, 4]])\n",
    "D = np.array([[5, 6], [7, 8]])\n",
    "# Array C:\n",
    "# [[1 2]\n",
    "#  [3 4]]\n",
    "# Array D:\n",
    "# [[5 6]\n",
    "#  [7 8]]\n",
    "# To perform dot product on matrix, you have to rotate the first matrix by 90 degrees and multiply the elements of both matrices. Imagine as if the left matrix is moving to the right and the columns are multiplying with columns of the right matrix, one column at a time.\n",
    "# [[3 1]   -> [[5 6]\n",
    "#  [4 2]]  ->  [7 8]]\n",
    "# Therefore:\n",
    "# 1*5 + 2*7 = 19 (first column of C with first column of D)\n",
    "# 1*6 + 2*8 = 22 (first column of C with second column of D)\n",
    "# 3*5 + 4*7 = 43 (second column of C with first column of D)\n",
    "# 3*6 + 4*8 = 50 (second column of C with second column of D)\n",
    "# Therefore:\n",
    "# (1⋅5+2⋅7) (1⋅6+2⋅8)\n",
    "# (3⋅5+4⋅7) (3⋅6+4⋅8)\n",
    "# Therefore:\n",
    "# [[19 22]\n",
    "#  [43 50]]\n",
    "\n",
    "result = np.dot(C, D)\n",
    "print(result)\n"
   ],
   "metadata": {
    "collapsed": false,
    "ExecuteTime": {
     "end_time": "2024-01-14T09:45:57.265930500Z",
     "start_time": "2024-01-14T09:45:57.245024800Z"
    }
   },
   "id": "37617a425653e624",
   "execution_count": 935
  },
  {
   "cell_type": "code",
   "outputs": [
    {
     "name": "stdout",
     "output_type": "stream",
     "text": [
      "(2, 1)\n",
      "(100, 1)\n"
     ]
    }
   ],
   "source": [
    "print(A.shape)\n",
    "print(X.shape)"
   ],
   "metadata": {
    "collapsed": false,
    "ExecuteTime": {
     "end_time": "2024-01-14T09:45:57.310809200Z",
     "start_time": "2024-01-14T09:45:57.258948800Z"
    }
   },
   "id": "151f794b634328f8",
   "execution_count": 936
  },
  {
   "cell_type": "code",
   "outputs": [
    {
     "name": "stdout",
     "output_type": "stream",
     "text": [
      "[nan nan nan nan nan nan nan nan nan nan nan nan nan nan nan nan nan nan\n",
      " nan nan]\n"
     ]
    }
   ],
   "source": [
    "print(predicted)"
   ],
   "metadata": {
    "collapsed": false,
    "ExecuteTime": {
     "end_time": "2024-01-14T09:45:57.311806700Z",
     "start_time": "2024-01-14T09:45:57.272911Z"
    }
   },
   "id": "9e6b8360bf591ce5",
   "execution_count": 937
  },
  {
   "cell_type": "code",
   "execution_count": 938,
   "id": "9d9717a2",
   "metadata": {
    "ExecuteTime": {
     "end_time": "2024-01-14T09:45:57.337737800Z",
     "start_time": "2024-01-14T09:45:57.289866Z"
    }
   },
   "outputs": [],
   "source": [
    "# cost function mean squared error\n",
    "def mse(y_true, y_pred):\n",
    "    return np.mean(y_true - y_pred) ** 2"
   ]
  },
  {
   "cell_type": "code",
   "execution_count": 939,
   "id": "fd609852",
   "metadata": {
    "ExecuteTime": {
     "end_time": "2024-01-14T09:45:57.339732600Z",
     "start_time": "2024-01-14T09:45:57.304825700Z"
    }
   },
   "outputs": [
    {
     "name": "stdout",
     "output_type": "stream",
     "text": [
      "squared error nan\n"
     ]
    }
   ],
   "source": [
    "mse_value = mse(y_test, predicted)\n",
    "print(\"squared error\", mse_value)"
   ]
  },
  {
   "cell_type": "code",
   "execution_count": 940,
   "id": "f9825fcc",
   "metadata": {
    "ExecuteTime": {
     "end_time": "2024-01-14T09:45:57.519252700Z",
     "start_time": "2024-01-14T09:45:57.337737800Z"
    }
   },
   "outputs": [
    {
     "data": {
      "text/plain": "<Figure size 1152x648 with 1 Axes>",
      "image/png": "[encoded data removed]"
     },
     "metadata": {},
     "output_type": "display_data"
    }
   ],
   "source": [
    "# check how predicted line fits on all data from X\n",
    "y_pred_line = regressor.predict(X)\n",
    "\n",
    "plt.figure(figsize=(16, 9))\n",
    "plt.grid()\n",
    "plt.yticks(ticks=list(range(-100, 110, 10)))\n",
    "plt.scatter(X_test, y_test, color=\"orange\")\n",
    "plt.scatter(X_train, y_train, color=\"red\")\n",
    "plt.plot(X, y_pred_line, color=\"white\")\n",
    "plt.show()"
   ]
  },
  {
   "cell_type": "code",
   "execution_count": 941,
   "id": "2d7e6909",
   "metadata": {
    "ExecuteTime": {
     "end_time": "2024-01-14T09:45:57.749636200Z",
     "start_time": "2024-01-14T09:45:57.524240300Z"
    }
   },
   "outputs": [
    {
     "data": {
      "text/plain": "[<matplotlib.lines.Line2D at 0x1f9350ede10>]"
     },
     "execution_count": 941,
     "metadata": {},
     "output_type": "execute_result"
    },
    {
     "data": {
      "text/plain": "<Figure size 1152x648 with 1 Axes>",
      "image/png": "[encoded data removed]"
     },
     "metadata": {},
     "output_type": "display_data"
    }
   ],
   "source": [
    "from sklearn.linear_model import LinearRegression\n",
    "\n",
    "regressor = LinearRegression()\n",
    "regressor.fit(X_train, y_train)\n",
    "predicted = regressor.predict(X_test)\n",
    "\n",
    "plt.figure(figsize=(16, 9))\n",
    "plt.grid()\n",
    "plt.scatter(X_test, y_test, color=\"orange\")\n",
    "plt.scatter(X_train, y_train, color=\"red\")\n",
    "plt.plot(X_test, predicted, color=\"white\")"
   ]
  },
  {
   "cell_type": "code",
   "outputs": [],
   "source": [],
   "metadata": {
    "collapsed": false,
    "ExecuteTime": {
     "end_time": "2024-01-14T09:45:57.765593700Z",
     "start_time": "2024-01-14T09:45:57.739662900Z"
    }
   },
   "id": "d48e5cff8fc23188",
   "execution_count": 941
  }
 ],
 "metadata": {
  "kernelspec": {
   "name": "venv",
   "language": "python",
   "display_name": "venv"
  },
  "language_info": {
   "codemirror_mode": {
    "name": "ipython",
    "version": 3
   },
   "file_extension": ".py",
   "mimetype": "text/x-python",
   "name": "python",
   "nbconvert_exporter": "python",
   "pygments_lexer": "ipython3",
   "version": "3.10.0"
  }
 },
 "nbformat": 4,
 "nbformat_minor": 5
}
