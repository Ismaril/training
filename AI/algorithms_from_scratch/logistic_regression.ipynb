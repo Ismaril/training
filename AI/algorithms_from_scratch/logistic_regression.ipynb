{
 "cells": [
  {
   "cell_type": "markdown",
   "source": [
    "# LOGISTIC REGRESSION\n",
    "\n",
    "To delve deeper into logistic regression using a simple dataset with two observations, where each observation has two features and corresponding labels, let's construct a hypothetical example. We will follow this with an explanation of how logistic regression works with this dataset.\n",
    "\n",
    "### Hypothetical Dataset\n",
    "\n",
    "Consider a dataset with two observations, each with two features. Let's also assume we have binary labels for these observations, indicating two classes: 0 or 1.\n",
    "\n",
    "| $x_1$ | $x_2$ | $y$ |\n",
    "|-------|-------|-----|\n",
    "| 2     | 3     | 0   |\n",
    "| 4     | 1     | 1   |\n",
    "\n",
    "\n",
    "### Logistic Regression Overview\n",
    "\n",
    "Logistic regression aims to model the probability that a given input point belongs to a certain class. The probability of the outcome being in class '1' is modeled as a logistic function of a linear combination of the input features.\n",
    "\n",
    "### Model Representation\n",
    "\n",
    "The logistic model predicts the probability ($P$) that $Y=1$ for a given set of input features $X$. This is represented as:\n",
    "\n",
    "$P(Y=1|X) = \\frac{1}{1 + e^{-(\\theta_0 + \\theta_1 x_1 + \\theta_2 x_2)}}$\n",
    "\n",
    "Here, $\\theta_0$, $\\theta_1$, and $\\theta_2$ are the parameters of the model that we need to learn from the training data. $x_1$ and $x_2$ are the input features.\n",
    "\n",
    "### Learning Model Parameters\n",
    "\n",
    "The parameters $\\theta_0$, $\\theta_1$, and $\\theta_2$ are learned during the training process, where the model uses the known labels of the training data to adjust these parameters to predict the labels as accurately as possible. The learning process involves minimizing a cost function, typically using methods like gradient descent. The cost function for logistic regression is usually the binary cross-entropy, also known as the log loss.\n",
    "\n",
    "### Making Predictions\n",
    "\n",
    "Once the model parameters are learned, predictions for a new observation can be made by plugging the observation's features into the logistic model. If the predicted probability $P(Y=1|X)$ is greater than 0.5, the model predicts the class of the observation as '1'; otherwise, it predicts '0'.\n",
    "\n",
    "### Applying to Our Dataset\n",
    "\n",
    "Given our simple dataset, the logistic regression model will try to find the best $\\theta_0$, $\\theta_1$, and $\\theta_2$ values that lead to accurate predictions. For example, if the model learns parameters such that:\n",
    "\n",
    "- $\\theta_0$ = -1.5\n",
    "- $\\theta_1$ = 0.6\n",
    "- $\\theta_2$ = 0.4\n",
    "\n",
    "We can then calculate the probability of each observation being in class '1' using the logistic function.\n",
    "\n",
    "Let's perform these calculations to see how the model would predict the class for each observation based on the assumed parameters.\n",
    "\n",
    "For our hypothetical dataset, the logistic regression model with parameters $\\theta_0 = -1.5$, $\\theta_1 = 0.6$, and $\\theta_2 = 0.4$ predicts the probabilities of each observation being in class '1' as follows:\n",
    "\n",
    "- For Observation 1 (with features X₁ = 2, X₂ = 3), the predicted probability is approximately 0.711.\n",
    "- For Observation 2 (with features X₁ = 4, X₂ = 1), the predicted probability is approximately 0.786.\n",
    "\n",
    "Using a classification threshold of 0.5, where probabilities greater than or equal to 0.5 predict class '1' and probabilities less than 0.5 predict class '0', the model predicts both observations as belonging to class '1' (True indicates class '1').\n",
    "\n",
    "### Interpretation and Evaluation\n",
    "\n",
    "- **Observation 1**: Despite being labeled as class '0', the model predicts a high probability (0.711) of this observation belonging to class '1'. This indicates a misclassification based on our chosen threshold.\n",
    "- **Observation 2**: Correctly predicted as class '1', aligning with its actual label, with a high probability of 0.786.\n",
    "\n",
    "In a real-world scenario, logistic regression models are trained on larger datasets, allowing for more accurate parameter estimation and better generalization to unseen data. Model performance is typically evaluated using metrics like accuracy, precision, recall, and the ROC-AUC curve, which consider the model's predictions in relation to the actual labels across all observations.\n",
    "\n",
    "This simplified example serves to illustrate the mechanics of logistic regression, but keep in mind that real-world applications involve more complex datasets, parameter tuning, and validation techniques to ensure the model's effectiveness and robustness."
   ],
   "metadata": {
    "collapsed": false
   },
   "id": "977cd5087846821b"
  },
  {
   "cell_type": "markdown",
   "source": [
    "# LOGISITIC REGRESSION FROM SCRATCH"
   ],
   "metadata": {
    "collapsed": false
   },
   "id": "5f7dfd6bf71fe11b"
  },
  {
   "cell_type": "code",
   "outputs": [],
   "source": [
    "import matplotlib.pyplot as plt\n",
    "import pandas as pd\n",
    "import numpy as np\n",
    "\n",
    "# IMPORT TITANIC DATASET\n",
    "train_data = pd.read_csv(r\"..\\ML_DL_book\\saved_datasets\\titanic\\train.csv\")\n",
    "test_data = pd.read_csv(r\"..\\ML_DL_book\\saved_datasets\\titanic\\test.csv\")\n"
   ],
   "metadata": {
    "collapsed": false,
    "ExecuteTime": {
     "end_time": "2024-02-20T17:45:17.715288700Z",
     "start_time": "2024-02-20T17:45:17.701148400Z"
    }
   },
   "id": "948dca6ba469a1c5",
   "execution_count": 104
  },
  {
   "cell_type": "code",
   "outputs": [
    {
     "data": {
      "text/plain": "   PassengerId  Survived  Pclass  \\\n0            1         0       3   \n1            2         1       1   \n2            3         1       3   \n3            4         1       1   \n4            5         0       3   \n\n                                                Name     Sex   Age  SibSp  \\\n0                            Braund, Mr. Owen Harris    male  22.0      1   \n1  Cumings, Mrs. John Bradley (Florence Briggs Th...  female  38.0      1   \n2                             Heikkinen, Miss. Laina  female  26.0      0   \n3       Futrelle, Mrs. Jacques Heath (Lily May Peel)  female  35.0      1   \n4                           Allen, Mr. William Henry    male  35.0      0   \n\n   Parch            Ticket     Fare Cabin Embarked  \n0      0         A/5 21171   7.2500   NaN        S  \n1      0          PC 17599  71.2833   C85        C  \n2      0  STON/O2. 3101282   7.9250   NaN        S  \n3      0            113803  53.1000  C123        S  \n4      0            373450   8.0500   NaN        S  ",
      "text/html": "<div>\n<style scoped>\n    .dataframe tbody tr th:only-of-type {\n        vertical-align: middle;\n    }\n\n    .dataframe tbody tr th {\n        vertical-align: top;\n    }\n\n    .dataframe thead th {\n        text-align: right;\n    }\n</style>\n<table border=\"1\" class=\"dataframe\">\n  <thead>\n    <tr style=\"text-align: right;\">\n      <th></th>\n      <th>PassengerId</th>\n      <th>Survived</th>\n      <th>Pclass</th>\n      <th>Name</th>\n      <th>Sex</th>\n      <th>Age</th>\n      <th>SibSp</th>\n      <th>Parch</th>\n      <th>Ticket</th>\n      <th>Fare</th>\n      <th>Cabin</th>\n      <th>Embarked</th>\n    </tr>\n  </thead>\n  <tbody>\n    <tr>\n      <th>0</th>\n      <td>1</td>\n      <td>0</td>\n      <td>3</td>\n      <td>Braund, Mr. Owen Harris</td>\n      <td>male</td>\n      <td>22.0</td>\n      <td>1</td>\n      <td>0</td>\n      <td>A/5 21171</td>\n      <td>7.2500</td>\n      <td>NaN</td>\n      <td>S</td>\n    </tr>\n    <tr>\n      <th>1</th>\n      <td>2</td>\n      <td>1</td>\n      <td>1</td>\n      <td>Cumings, Mrs. John Bradley (Florence Briggs Th...</td>\n      <td>female</td>\n      <td>38.0</td>\n      <td>1</td>\n      <td>0</td>\n      <td>PC 17599</td>\n      <td>71.2833</td>\n      <td>C85</td>\n      <td>C</td>\n    </tr>\n    <tr>\n      <th>2</th>\n      <td>3</td>\n      <td>1</td>\n      <td>3</td>\n      <td>Heikkinen, Miss. Laina</td>\n      <td>female</td>\n      <td>26.0</td>\n      <td>0</td>\n      <td>0</td>\n      <td>STON/O2. 3101282</td>\n      <td>7.9250</td>\n      <td>NaN</td>\n      <td>S</td>\n    </tr>\n    <tr>\n      <th>3</th>\n      <td>4</td>\n      <td>1</td>\n      <td>1</td>\n      <td>Futrelle, Mrs. Jacques Heath (Lily May Peel)</td>\n      <td>female</td>\n      <td>35.0</td>\n      <td>1</td>\n      <td>0</td>\n      <td>113803</td>\n      <td>53.1000</td>\n      <td>C123</td>\n      <td>S</td>\n    </tr>\n    <tr>\n      <th>4</th>\n      <td>5</td>\n      <td>0</td>\n      <td>3</td>\n      <td>Allen, Mr. William Henry</td>\n      <td>male</td>\n      <td>35.0</td>\n      <td>0</td>\n      <td>0</td>\n      <td>373450</td>\n      <td>8.0500</td>\n      <td>NaN</td>\n      <td>S</td>\n    </tr>\n  </tbody>\n</table>\n</div>"
     },
     "execution_count": 105,
     "metadata": {},
     "output_type": "execute_result"
    }
   ],
   "source": [
    "train_data.head()"
   ],
   "metadata": {
    "collapsed": false,
    "ExecuteTime": {
     "end_time": "2024-02-20T17:45:17.752681300Z",
     "start_time": "2024-02-20T17:45:17.719278300Z"
    }
   },
   "id": "811ab238eb5ef92",
   "execution_count": 105
  },
  {
   "cell_type": "code",
   "outputs": [],
   "source": [
    "# PREPROCESSING (NOT RELEVANT TO LOGISTIC REGRESSION DEMONSTRATION)\n",
    "\n",
    "# create pipelines for numerical and categorical attributes\n",
    "\n",
    "from sklearn.pipeline import Pipeline\n",
    "from sklearn.impute import SimpleImputer\n",
    "from sklearn.preprocessing import StandardScaler\n",
    "np.random.seed(42)\n",
    "\n",
    "numerical_pipeline = Pipeline([\n",
    "    (\"imputer\", SimpleImputer(strategy=\"median\")),\n",
    "    (\"scaler\", StandardScaler())\n",
    "])\n",
    "\n",
    "from sklearn.preprocessing import OneHotEncoder\n",
    "\n",
    "categorical_pipeline = Pipeline([\n",
    "    (\"imputer\", SimpleImputer(strategy=\"most_frequent\")),\n",
    "    (\"cat_encoder\", OneHotEncoder(sparse_output=False)),\n",
    "])\n",
    "\n",
    "# create a full pipeline which will combine both numerical and categorical pipelines\n",
    "\n",
    "from sklearn.compose import ColumnTransformer\n",
    "\n",
    "numeric_attributes = [\"Age\", \"SibSp\", \"Parch\", \"Fare\"]\n",
    "categorical_attributes = [\"Pclass\", \"Sex\", \"Embarked\"]\n",
    "\n",
    "preprocess_pipeline = ColumnTransformer([\n",
    "    (\"num\", numerical_pipeline, numeric_attributes),\n",
    "    (\"cat\", categorical_pipeline, categorical_attributes),\n",
    "])\n",
    "\n",
    "# filter out only the most important attributes/features\n",
    "X_train = preprocess_pipeline.fit_transform(\n",
    "    train_data[numeric_attributes + categorical_attributes])\n",
    "\n",
    "# create labels\n",
    "y_train = train_data[\"Survived\"]\n",
    "\n",
    "train_data[\"AgeBucket\"] = train_data[\"Age\"] // 15 * 15\n",
    "train_data[[\"AgeBucket\", \"Survived\"]].groupby(['AgeBucket']).mean()\n",
    "train_data[\"RelativesOnboard\"] = train_data[\"SibSp\"] + train_data[\"Parch\"]\n",
    "train_data[[\"RelativesOnboard\", \"Survived\"]].groupby(['RelativesOnboard']).mean()\n",
    "\n",
    "numeric_attributes = [\"Age\", \"SibSp\", \"Parch\", \"Fare\"]\n",
    "categorical_attributes = [\"Pclass\", \"Sex\", \"Embarked\", \"AgeBucket\", \"RelativesOnboard\"]\n",
    "\n",
    "preprocess_pipeline = ColumnTransformer([\n",
    "    (\"num\", numerical_pipeline, numeric_attributes),\n",
    "    (\"cat\", categorical_pipeline, categorical_attributes),\n",
    "])\n",
    "X_train = preprocess_pipeline.fit_transform(\n",
    "    train_data[numeric_attributes + categorical_attributes]\n",
    ")"
   ],
   "metadata": {
    "collapsed": false,
    "ExecuteTime": {
     "end_time": "2024-02-20T17:45:17.774549900Z",
     "start_time": "2024-02-20T17:45:17.730429700Z"
    }
   },
   "id": "768957074dc9d255",
   "execution_count": 106
  },
  {
   "cell_type": "code",
   "outputs": [],
   "source": [
    "# ADD 1S COLUMN TO THE FEATURE MATRIX FOR THE BIAS TERM\n",
    "# (It would be best to have it also in the pipeline, but for the sake of my time, I just put it here)\n",
    "X_train = np.c_[np.ones((len(X_train), 1)), X_train]"
   ],
   "metadata": {
    "collapsed": false,
    "ExecuteTime": {
     "end_time": "2024-02-20T17:45:17.789077600Z",
     "start_time": "2024-02-20T17:45:17.756060800Z"
    }
   },
   "id": "f146800ea5b2c8df",
   "execution_count": 107
  },
  {
   "cell_type": "code",
   "outputs": [
    {
     "data": {
      "text/plain": "array([[ 1.        , -0.56573582,  0.43279337, ...,  0.        ,\n         0.        ,  0.        ],\n       [ 1.        ,  0.6638609 ,  0.43279337, ...,  0.        ,\n         0.        ,  0.        ],\n       [ 1.        , -0.25833664, -0.4745452 , ...,  0.        ,\n         0.        ,  0.        ],\n       ...,\n       [ 1.        , -0.10463705,  0.43279337, ...,  0.        ,\n         0.        ,  0.        ],\n       [ 1.        , -0.25833664, -0.4745452 , ...,  0.        ,\n         0.        ,  0.        ],\n       [ 1.        ,  0.20276213, -0.4745452 , ...,  0.        ,\n         0.        ,  0.        ]])"
     },
     "execution_count": 108,
     "metadata": {},
     "output_type": "execute_result"
    }
   ],
   "source": [
    "# SHOW THE FEATURE MATRIX\n",
    "X_train"
   ],
   "metadata": {
    "collapsed": false,
    "ExecuteTime": {
     "end_time": "2024-02-20T17:45:17.822917400Z",
     "start_time": "2024-02-20T17:45:17.778598900Z"
    }
   },
   "id": "b7b44f71b47df012",
   "execution_count": 108
  },
  {
   "cell_type": "code",
   "outputs": [],
   "source": [
    "# CREATE A LOGISTIC REGRESSION MODEL FROM SCRATCH\n",
    "\n",
    "from my_extensions import MyModelExtensions\n",
    "\n",
    "# define the sigmoid function\n",
    "def sigmoid(t):\n",
    "    \"\"\"\n",
    "    Returns the values of the t vector after applying the sigmoid function.\n",
    "    \n",
    "    :param t: Feature vector. \n",
    "    :return: np.array\n",
    "    \"\"\"\n",
    "    return 1 / (1 + np.exp(-t))\n",
    "\n",
    "# define logistic regression cost function\n",
    "def cost_function(X, y, thetas):\n",
    "    \"\"\"\n",
    "    Returns the cost of the logistic regression model.\n",
    "    \n",
    "    :param X: Features\n",
    "    :param y: Labels\n",
    "    :param thetas: Parameters\n",
    "    :return: float\n",
    "    \"\"\"\n",
    "    n_samples, n_features = X.shape\n",
    "    y_prediction = sigmoid(np.dot(X, thetas))\n",
    "    cost = -1 / n_samples * (np.dot(y.T, np.log(y_prediction)) + np.dot((1 - y).T, np.log(1 - y_prediction)))\n",
    "    return cost\n",
    "\n",
    "# define the logistic regression class\n",
    "# Inherit from the Extension class to use its methods for visualization and evaluation\n",
    "class MyLogisticRegression(MyModelExtensions):\n",
    "    \"\"\"\n",
    "    Logistic regression model.\n",
    "    \n",
    "    It relies on the Linear Regression model. All the computations are the same as in the Linear Regression model. But in order to make the predictions binary, we apply the sigmoid function to the linear model.\n",
    "    \"\"\"\n",
    "    def __init__(self, learning_rate=0.01, n_iterations=1000):\n",
    "        super().__init__()\n",
    "        self.learning_rate = learning_rate # how much to update the parameters\n",
    "        self.n_iterations = n_iterations # how many times to update the parameters\n",
    "        self.thetas = [] # parameter bias and weights\n",
    "        self.losses = [] # to store the loss at each iteration\n",
    "\n",
    "    def fit(self, X, y):\n",
    "        \"\"\"\n",
    "        Fit the model to the data X and y. Meaning let the model learn the parameters.\n",
    "        :param X: Features\n",
    "        :param y: Labels\n",
    "        :return: None\n",
    "        \"\"\"        \n",
    "\n",
    "        n_samples, n_features = X.shape\n",
    "        \n",
    "        # initialize the parameters with random values\n",
    "        self.thetas = np.random.rand(n_features)\n",
    "        print(\"Initial parameters: \", self.thetas)\n",
    "\n",
    "        # gradient descent\n",
    "        for _ in range(self.n_iterations):\n",
    "            # compute the linear model / linear predictions\n",
    "            linear_model = np.dot(X, self.thetas)\n",
    "            \n",
    "            # apply the sigmoid function\n",
    "            y_prediction = sigmoid(linear_model)\n",
    "            \n",
    "            # compute the cost (only for visualization, not used in the optimization process)\n",
    "            cost = cost_function(X, y, self.thetas)\n",
    "            self.losses.append(cost)\n",
    "            \n",
    "            # compute gradient vector\n",
    "            gradient_vector = 2 / n_samples * np.dot(X.T, (y_prediction - y))\n",
    "\n",
    "            # update parameters\n",
    "            self.thetas = self.thetas - self.learning_rate * gradient_vector\n",
    "\n",
    "    def predict(self, X):\n",
    "        \"\"\"\n",
    "        Make predictions using the learned parameters.\n",
    "        :param X: Feature dataset\n",
    "        :return: Predictions (0 or 1) based on the learned parameters and inputted features.\n",
    "        \"\"\"\n",
    "        linear_model = np.dot(X, self.thetas)\n",
    "        y_predicted = sigmoid(linear_model)\n",
    "        y_predicted_cls = [1 if i > 0.5 else 0 for i in y_predicted]\n",
    "        return y_predicted_cls\n"
   ],
   "metadata": {
    "collapsed": false,
    "ExecuteTime": {
     "end_time": "2024-02-20T17:45:17.849835Z",
     "start_time": "2024-02-20T17:45:17.797945800Z"
    }
   },
   "id": "db5bfebb99d143dd",
   "execution_count": 109
  },
  {
   "cell_type": "code",
   "outputs": [
    {
     "name": "stdout",
     "output_type": "stream",
     "text": [
      "Initial parameters:  [0.37454012 0.95071431 0.73199394 0.59865848 0.15601864 0.15599452\n",
      " 0.05808361 0.86617615 0.60111501 0.70807258 0.02058449 0.96990985\n",
      " 0.83244264 0.21233911 0.18182497 0.18340451 0.30424224 0.52475643\n",
      " 0.43194502 0.29122914 0.61185289 0.13949386 0.29214465 0.36636184\n",
      " 0.45606998 0.78517596 0.19967378 0.51423444]\n"
     ]
    }
   ],
   "source": [
    "# TRAIN THE MODEL\n",
    "model = MyLogisticRegression(learning_rate=0.01, n_iterations=1000)\n",
    "model.fit(X_train, y_train)"
   ],
   "metadata": {
    "collapsed": false,
    "ExecuteTime": {
     "end_time": "2024-02-20T17:45:18.216455500Z",
     "start_time": "2024-02-20T17:45:17.851804300Z"
    }
   },
   "id": "ce1bcf4cad417e56",
   "execution_count": 110
  },
  {
   "cell_type": "code",
   "outputs": [
    {
     "name": "stdout",
     "output_type": "stream",
     "text": [
      "Best parameters: [-0.52144828 -0.24576542 -0.41222087 -0.1349386   0.40062238  0.37739435\n",
      "  0.2002988  -0.39342726  1.18387079 -0.77067159  0.1943856   0.73863758\n",
      " -0.00607459  0.31193506 -0.22046413  0.00141827  0.05354843  0.3527155\n",
      "  0.44337077 -0.13588786  0.4575377   0.27990124  0.36374839  0.2336424\n",
      "  0.25373059  0.71364019  0.14379484  0.45014066]\n"
     ]
    }
   ],
   "source": [
    "\n",
    "# SHOW THE PARAMETERS\n",
    "print(\"Best parameters:\", model.show_parameters())"
   ],
   "metadata": {
    "collapsed": false,
    "ExecuteTime": {
     "end_time": "2024-02-20T17:45:18.227133Z",
     "start_time": "2024-02-20T17:45:18.216455500Z"
    }
   },
   "id": "99dee6a8003515ab",
   "execution_count": 111
  },
  {
   "cell_type": "code",
   "outputs": [
    {
     "data": {
      "text/plain": "<Figure size 640x480 with 1 Axes>",
      "image/png": "[encoded data removed]"
     },
     "metadata": {},
     "output_type": "display_data"
    }
   ],
   "source": [
    "# SHOW THE LOSS CURVE\n",
    "model.show_loss_curve()"
   ],
   "metadata": {
    "collapsed": false,
    "ExecuteTime": {
     "end_time": "2024-02-20T17:45:18.315233400Z",
     "start_time": "2024-02-20T17:45:18.221149500Z"
    }
   },
   "id": "a686b33b24c4eb8e",
   "execution_count": 112
  },
  {
   "cell_type": "code",
   "outputs": [
    {
     "name": "stdout",
     "output_type": "stream",
     "text": [
      "Accuracy: 0.8058361391694725\n"
     ]
    }
   ],
   "source": [
    "# COMPUTE ACCURACY\n",
    "\n",
    "from sklearn.metrics import accuracy_score\n",
    "\n",
    "y_predicted = model.predict(X_train)\n",
    "accuracy = accuracy_score(y_train, y_predicted)\n",
    "\n",
    "# This accuracy is a good result on Titanic dataset. You can compare it with the models from the demonstrations of the ML book in this repository.\n",
    "print(\"Accuracy:\", accuracy)"
   ],
   "metadata": {
    "collapsed": false,
    "ExecuteTime": {
     "end_time": "2024-02-20T17:45:18.316227Z",
     "start_time": "2024-02-20T17:45:18.309055Z"
    }
   },
   "id": "d5fd85095b0bfe17",
   "execution_count": 113
  }
 ],
 "metadata": {
  "kernelspec": {
   "display_name": "Python 3",
   "language": "python",
   "name": "python3"
  },
  "language_info": {
   "codemirror_mode": {
    "name": "ipython",
    "version": 2
   },
   "file_extension": ".py",
   "mimetype": "text/x-python",
   "name": "python",
   "nbconvert_exporter": "python",
   "pygments_lexer": "ipython2",
   "version": "2.7.6"
  }
 },
 "nbformat": 4,
 "nbformat_minor": 5
}
