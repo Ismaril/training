{
 "cells": [
  {
   "cell_type": "markdown",
   "source": [
    "Most of the variables can be different letter in formulas in different sources probably, but here are written out for my clarity the ones, which are used in the book.\n",
    "\n",
    "feature - is an input variable used in making predictions\n",
    "label - is the output variable we are trying to predict"
   ],
   "metadata": {
    "collapsed": false
   },
   "id": "db8156be4c15f3ba"
  },
  {
   "cell_type": "markdown",
   "source": [
    "![title](../images/greek_alphabet.png)"
   ],
   "metadata": {
    "collapsed": false
   },
   "id": "208ef8ed7caf9503"
  },
  {
   "cell_type": "markdown",
   "source": [
    "\\\n",
    "${m}$\n",
    "- number of training examples"
   ],
   "metadata": {
    "collapsed": false
   },
   "id": "23d36e451bca1edf"
  },
  {
   "cell_type": "markdown",
   "source": [
    "\\\n",
    "${i}$\n",
    "- refers to the ${i}$-th training example"
   ],
   "metadata": {
    "collapsed": false
   },
   "id": "ab3a87f44f0b2261"
  },
  {
   "cell_type": "markdown",
   "source": [
    "\\\n",
    "$x^i$\n",
    "- is a vector of features of the ${i}$-th training example\n",
    "- the ${i}$ can be also written as ${x^{(i)}}$\n",
    "\n",
    "\n",
    "Column vector:\n",
    "$x^i$ = $\\begin{bmatrix} x_0^{(i)} \\\\ x_1^{(i)} \\\\ x_2^{(i)} \\\\ \\vdots \\\\ x_n^{(i)} \\end{bmatrix}$\n",
    "\n",
    "Row vector, after transposing column vector:\n",
    "$(x^{(i)})^T$ = $\\begin{bmatrix} x_0^{(i)} & x_1^{(i)} & x_2^{(i)} & \\hdots & x_n^{(i)} \\end{bmatrix}$"
   ],
   "metadata": {
    "collapsed": false
   },
   "id": "3258a21172ca5eee"
  },
  {
   "cell_type": "markdown",
   "source": [
    "\\\n",
    "$y^i$\n",
    "- is the desired output value for the i-th training example\n",
    "- can be just a number or a vector of numbers, etc...\n",
    "- the ${i}$ can be also written as ${y^{(i)}}$\n",
    "\n",
    "$y^i$ = $yTrue^i$\n"
   ],
   "metadata": {
    "collapsed": false
   },
   "id": "9c2f54cd6c2efdde"
  },
  {
   "cell_type": "markdown",
   "source": [
    "\\\n",
    "$\\hat{y}^{(i)}$\n",
    "\n",
    "- y-hat, is the predicted output value of the i-th training example\n",
    "\n",
    "$\\hat{y}^{(i)}$ = $h({x^{(i)}})$ \n",
    " - we can also write y-hat like the result of function where: $h$ is the hypothesis function, meaning the function, which maps from $x$'s to $y$'s. (Basically function which makes predictions)\n",
    "\n",
    "$\\hat{y}^{(i)}$ = $h(x^i)$ = $h(x_0^{(i)}, x_1^{(i)}, x_2^{(i)}, ..., x_n^{(i)})$\n",
    "\n",
    "$\\hat{y}^{(i)}$ = $yPredicted^i$"
   ],
   "metadata": {
    "collapsed": false
   },
   "id": "4d74b6dda644a67e"
  },
  {
   "cell_type": "markdown",
   "source": [
    "\\\n",
    "$X$ \n",
    "- is the matrix of all the feature indexes (excluding labels)\n",
    "- each row is a training example (feature, or basically a vector of $n$ feature values)\n",
    "- $T$ means transpose\n",
    "\n",
    "\n",
    "$X$ = $\\begin{bmatrix} (x^{(1)})^T \\\\ (x^{(2)})^T \\\\ \\vdots \\\\ (x^{(m)})^T  \\end{bmatrix}$ = $\\begin{bmatrix} x_0^{(1)} & x_1^{(1)} & x_2^{(1)} & \\dots & x_n^{(1)} \\\\ x_0^{(2)} & x_1^{(2)} & x_2^{(2)} & \\dots & x_n^{(2)} \\\\ \\vdots & \\vdots & \\vdots & \\ddots & \\vdots \\\\ x_0^{(m)} & x_1^{(m)} & x_2^{(m)} & \\dots & x_n^{(m)} \\end{bmatrix}$\n",
    "\n",
    "\n",
    "\n"
   ],
   "metadata": {
    "collapsed": false
   },
   "id": "c4893707009a94a7"
  },
  {
   "cell_type": "markdown",
   "source": [
    "todo: needs to be checked if correct\n",
    "linear regression model:\n",
    "$\\hat{y}^{(i)}$ = $h(x^i)$ = $h(x_0^{(i)}, x_1^{(i)}, x_2^{(i)}, ..., x_n^{(i)})$ = $\\theta_0 + \\theta_1 x_1^{(i)} + \\theta_2 x_2^{(i)} + ... + \\theta_n x_n^{(i)}$ = $\\theta^T x^{(i)}$"
   ],
   "metadata": {
    "collapsed": false
   },
   "id": "17096e5bf90d022a"
  }
 ],
 "metadata": {
  "kernelspec": {
   "name": "venv",
   "language": "python",
   "display_name": "venv"
  },
  "language_info": {
   "codemirror_mode": {
    "name": "ipython",
    "version": 2
   },
   "file_extension": ".py",
   "mimetype": "text/x-python",
   "name": "python",
   "nbconvert_exporter": "python",
   "pygments_lexer": "ipython2",
   "version": "2.7.6"
  }
 },
 "nbformat": 4,
 "nbformat_minor": 5
}
