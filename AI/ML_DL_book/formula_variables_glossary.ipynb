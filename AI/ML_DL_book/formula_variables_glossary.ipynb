{
 "cells": [
  {
   "cell_type": "markdown",
   "source": [
    "Most of the variables can be different letter in formulas in different sources probably, but here are written out for my clarity the ones, which are used in the book.\n",
    "\n",
    "feature - is an input variable used in making predictions\n",
    "label - is the output variable we are trying to predict\n",
    "\n",
    "m \n",
    "- number of training examples\n",
    "\n",
    "(i) \n",
    "- refers to the i-th training example, meaning index on the right top side of the variable\n",
    "\n",
    "x(i) \n",
    "- is a vector of features of the i-th training example\n",
    "\n",
    "y(i) \n",
    "- is the desired output value for the i-th training example\n",
    "\n",
    "y^(i)\n",
    "- y-hat, is the predicted output value\n",
    "- y^(i) = h(x(i)) is the predicted value for the i-th training example. h is the hypothesis function, meaning the function, which maps from x's to y's. (Basically function which makes predictions)\n",
    "\n",
    "X \n",
    "- is the matrix of all the feature indexes (excluding labels)\n",
    "- each row is a training example (feature)\n",
    "\n",
    "\n",
    "\n"
   ],
   "metadata": {
    "collapsed": false
   },
   "id": "c4893707009a94a7"
  }
 ],
 "metadata": {
  "kernelspec": {
   "display_name": "Python 3",
   "language": "python",
   "name": "python3"
  },
  "language_info": {
   "codemirror_mode": {
    "name": "ipython",
    "version": 2
   },
   "file_extension": ".py",
   "mimetype": "text/x-python",
   "name": "python",
   "nbconvert_exporter": "python",
   "pygments_lexer": "ipython2",
   "version": "2.7.6"
  }
 },
 "nbformat": 4,
 "nbformat_minor": 5
}
