{
 "cells": [
  {
   "cell_type": "markdown",
   "source": [
    "# INTRODUCTION TO ARTIFICIAL NEURAL NETWORKS WITH KERAS\n",
    "Birds inspired us to fly, burdock plants inspired Velcro, and nature has inspired countless more inventions. It seems only logical, then, to look at the brain’s architecture for inspiration on how to build an intelligent machine. This is the logic that sparked artificial neural networks (ANNs), machine learning models inspired by the networks of biological neurons found in our brains. However, although planes were inspired by birds, they don’t have to flap their wings to fly. Similarly, ANNs have gradually become quite different from their biological cousins. Some researchers even argue that we should drop the biological analogy altogether (e.g., by saying “units” rather than “neurons”), lest we restrict our creativity to biologically plausible systems.\n",
    "\n",
    "ANNs are at the very core of deep learning. They are versatile, powerful, and scalable, making them ideal to tackle large and highly complex machine learning tasks such as classifying billions of images (e.g., Google Images), powering speech recognition services (e.g., Apple’s Siri), recommending the best videos to watch to hundreds of millions of users every day (e.g., YouTube), or learning to beat the world champion at the game of Go (DeepMind’s AlphaGo).\n",
    "\n",
    "The first part of this chapter introduces artificial neural networks, starting with a quick tour of the very first ANN architectures and leading up to multilayer perceptrons, which are heavily used today (other architectures will be explored in the next chapters). In the second part, we will look at how to implement neural networks using TensorFlow’s Keras API. This is a beautifully designed and simple high-level API for building, training, evaluating, and running neural networks. But don’t be fooled by its simplicity: it is expressive and flexible enough to let you build a wide variety of neural network architectures. In fact, it will probably be sufficient for most of your use cases. And should you ever need extra flexibility, you can always write custom Keras components using its lower-level API, or even use TensorFlow directly, as you will see in Chapter 12.\n",
    "\n",
    "But first, let’s go back in time to see how artificial neural networks came to be!"
   ],
   "metadata": {
    "collapsed": false
   },
   "id": "3d19bbbd0b06c3dd"
  },
  {
   "cell_type": "markdown",
   "source": [
    "# FROM BIOLOGICAL TO ARTIFICIAL NEURONS\n",
    "Surprisingly, ANNs have been around for quite a while: they were first introduced back in 1943 by the neurophysiologist Warren McCulloch and the mathematician Walter Pitts. In their landmark paper⁠2 “A Logical Calculus of Ideas Immanent in Nervous Activity”, McCulloch and Pitts presented a simplified computational model of how biological neurons might work together in animal brains to perform complex computations using propositional logic. This was the first artificial neural network architecture. Since then many other architectures have been invented, as you will see.\n",
    "\n",
    "The early successes of ANNs led to the widespread belief that we would soon be conversing with truly intelligent machines. When it became clear in the 1960s that this promise would go unfulfilled (at least for quite a while), funding flew elsewhere, and ANNs entered a long winter. In the early 1980s, new architectures were invented and better training techniques were developed, sparking a revival of interest in connectionism, the study of neural networks. But progress was slow, and by the 1990s other powerful machine learning techniques had been invented, such as support vector machines (see Chapter 5). These techniques seemed to offer better results and stronger theoretical foundations than ANNs, so once again the study of neural networks was put on hold.\n",
    "\n",
    "We are now witnessing yet another wave of interest in ANNs. Will this wave die out like the previous ones did? Well, here are a few good reasons to believe that this time is different and that the renewed interest in ANNs will have a much more profound impact on our lives:\n",
    "\n",
    "- There is now a huge quantity of data available to train neural networks, and ANNs frequently outperform other ML techniques on very large and complex problems.\n",
    "\n",
    "- The tremendous increase in computing power since the 1990s now makes it possible to train large neural networks in a reasonable amount of time. This is in part due to Moore’s law (the number of components in integrated circuits has doubled about every 2 years over the last 50 years), but also thanks to the gaming industry, which has stimulated the production of powerful GPU cards by the millions. Moreover, cloud platforms have made this power accessible to everyone.\n",
    "\n",
    "- The training algorithms have been improved. To be fair they are only slightly different from the ones used in the 1990s, but these relatively small tweaks have had a huge positive impact.\n",
    "\n",
    "- Some theoretical limitations of ANNs have turned out to be benign in practice. For example, many people thought that ANN training algorithms were doomed because they were likely to get stuck in local optima, but it turns out that this is not a big problem in practice, especially for larger neural networks: the local optima often perform almost as well as the global optimum.\n",
    "\n",
    "- ANNs seem to have entered a virtuous circle of funding and progress. Amazing products based on ANNs regularly make the headline news, which pulls more and more attention and funding toward them, resulting in more and more progress and even more amazing products."
   ],
   "metadata": {
    "collapsed": false
   },
   "id": "6488d688f96961d1"
  },
  {
   "cell_type": "markdown",
   "source": [
    "# BIOLOGICAL NEURONS\n",
    "Before we discuss artificial neurons, let’s take a quick look at a biological neuron (represented in Figure 10-1). It is an unusual-looking cell mostly found in animal brains. It’s composed of a cell body containing the nucleus and most of the cell’s complex components, many branching extensions called dendrites, plus one very long extension called the axon. The axon’s length may be just a few times longer than the cell body, or up to tens of thousands of times longer. Near its extremity the axon splits off into many branches called telodendria, and at the tip of these branches are minuscule structures called synaptic terminals (or simply synapses), which are connected to the dendrites or cell bodies of other neurons. Biological neurons produce short electrical impulses called action potentials (APs, or just signals), which travel along the axons and make the synapses release chemical signals called neurotransmitters. When a neuron receives a sufficient amount of these neurotransmitters within a few milliseconds, it fires its own electrical impulses (actually, it depends on the neurotransmitters, as some of them inhibit the neuron from firing)."
   ],
   "metadata": {
    "collapsed": false
   },
   "id": "828ae9164a1bd17e"
  },
  {
   "cell_type": "markdown",
   "source": [
    "Figure 10-1. A biological neuron\n",
    "![neuron](../images/neuron.png)"
   ],
   "metadata": {
    "collapsed": false
   },
   "id": "68f74f6f20a3689f"
  },
  {
   "cell_type": "markdown",
   "source": [
    "Thus, individual biological neurons seem to behave in a simple way, but they’re organized in a vast network of billions, with each neuron typically connected to thousands of other neurons. Highly complex computations can be performed by a network of fairly simple neurons, much like a complex anthill can emerge from the combined efforts of simple ants. The architecture of biological neural networks (BNNs) is the subject of active research, but some parts of the brain have been mapped. These efforts show that neurons are often organized in consecutive layers, especially in the cerebral cortex (the outer layer of the brain), as shown in Figure 10-2."
   ],
   "metadata": {
    "collapsed": false
   },
   "id": "f2654ab49b4a777b"
  },
  {
   "cell_type": "markdown",
   "source": [
    "Figure 10-2. Multiple layers in a biological neural network (human cortex)\n",
    "![layers_neurons](../images/layers_neurons.png)"
   ],
   "metadata": {
    "collapsed": false
   },
   "id": "51387b05db0c829"
  },
  {
   "cell_type": "markdown",
   "source": [
    "# LOGICAL COMPUTATIONS WITH NEURONS\n",
    "McCulloch and Pitts proposed a very simple model of the biological neuron, which later became known as an artificial neuron: it has one or more binary (on/off) inputs and one binary output. The artificial neuron activates its output when more than a certain number of its inputs are active. In their paper, McCulloch and Pitts showed that even with such a simplified model it is possible to build a network of artificial neurons that can compute any logical proposition you want. To see how such a network works, let’s build a few ANNs that perform various logical computations (see Figure 10-3), assuming that a neuron is activated when at least two of its input connections are active."
   ],
   "metadata": {
    "collapsed": false
   },
   "id": "2ea4e09aa55d6b76"
  },
  {
   "cell_type": "markdown",
   "source": [
    "Figure 10-3. ANNs performing simple logical computations\n",
    "![ANN_simple_logic](../images/ANN_simple_logic.png)\n"
   ],
   "metadata": {
    "collapsed": false
   },
   "id": "af147f99663cfc79"
  },
  {
   "cell_type": "markdown",
   "source": [
    "Let’s see what these networks do:\n",
    "\n",
    "- The first network on the left is the identity function: if neuron A is activated, then neuron C gets activated as well (since it receives two input signals from neuron A); but if neuron A is off, then neuron C is off as well.\n",
    "\n",
    "- The second network performs a logical AND: neuron C is activated only when both neurons A and B are activated (a single input signal is not enough to activate neuron C).\n",
    "\n",
    "- The third network performs a logical OR: neuron C gets activated if either neuron A or neuron B is activated (or both).\n",
    "\n",
    "- Finally, if we suppose that an input connection can inhibit the neuron’s activity (which is the case with biological neurons), then the fourth network computes a slightly more complex logical proposition: neuron C is activated only if neuron A is active and neuron B is off. If neuron A is active all the time, then you get a logical NOT: neuron C is active when neuron B is off, and vice versa.\n",
    "\n",
    "You can imagine how these networks can be combined to compute complex logical expressions (see the exercises at the end of the chapter for an example)."
   ],
   "metadata": {
    "collapsed": false
   },
   "id": "9d9af07794b6bbe1"
  },
  {
   "cell_type": "markdown",
   "source": [
    "# THE PERCEPTRON\n",
    "The perceptron is one of the simplest ANN architectures, invented in 1957 by Frank Rosenblatt. It is based on a slightly different artificial neuron (see Figure 10-4) called a threshold logic unit (TLU), or sometimes a linear threshold unit (LTU). The inputs and output are numbers (instead of binary on/off values), and each input connection is associated with a weight. The TLU computes a linear function of its inputs: \n",
    "\n",
    "$z = w_1 x_1 + w_2 x_2 + \\cdots + w_n x_n + b = \\mathbf{w}^\\top \\mathbf{x} + b$\n",
    "\n",
    "Then it applies a step function to the result: \n",
    "\n",
    "$h_{\\mathbf{w}}(\\mathbf{x}) = \\text{step}(z)$\n",
    "\n",
    "So it’s almost like logistic regression, except it uses a step function instead of the logistic function (Chapter 4). Just like in logistic regression, the model parameters are the input weights $\\mathbf{w}$ and the bias term $b$.\n"
   ],
   "metadata": {
    "collapsed": false
   },
   "id": "f8d758feae4852a0"
  },
  {
   "cell_type": "markdown",
   "source": [
    "Figure 10-4. TLU: an artificial neuron that computes a weighted sum of its inputs w⊺ x, plus a bias term b, then applies a step function\n",
    "![TLU](../images/TLU.png)\n"
   ],
   "metadata": {
    "collapsed": false
   },
   "id": "75e336f8fd395ed8"
  },
  {
   "cell_type": "markdown",
   "source": [
    "The most common step function used in perceptrons is the Heaviside step function (see Equation 10-1). Sometimes the sign function is used instead."
   ],
   "metadata": {
    "collapsed": false
   },
   "id": "6cec8db375a60b0a"
  },
  {
   "cell_type": "markdown",
   "source": [
    "Equation 10-1. Common step functions used in perceptrons (assuming threshold = 0)\\\n",
    "heaviside $(z) = \\begin{cases} 0 & \\text{if } z < 0 \\\\ 1 & \\text{if } z \\geq 0 \\end{cases}$\\\n",
    "$ sign(z) = \\begin{cases} -1 & \\text{if } z < 0 \\\\ 0 & \\text{if } z = 0 \\\\ 1 & \\text{if } z > 0 \\end{cases}$\n",
    "\n",
    "A single TLU can be used for simple linear binary classification. It computes a linear function of its inputs, and if the result exceeds a threshold, it outputs the positive class. Otherwise, it outputs the negative class. This may remind you of logistic regression (Chapter 4) or linear SVM classification (Chapter 5). You could, for example, use a single TLU to classify iris flowers based on petal length and width. Training such a TLU would require finding the right values for $w_1$, $w_2$, and $b$ (the training algorithm is discussed shortly).\n",
    "\n",
    "A perceptron is composed of one or more TLUs organized in a single layer, where every TLU is connected to every input. Such a layer is called a fully connected layer, or a dense layer. The inputs constitute the input layer. And since the layer of TLUs produces the final outputs, it is called the output layer. For example, a perceptron with two inputs and three outputs is represented in Figure 10-5."
   ],
   "metadata": {
    "collapsed": false
   },
   "id": "d30dad749c43591c"
  },
  {
   "cell_type": "markdown",
   "source": [
    "Figure 10-5. Architecture of a perceptron with two inputs and three output neurons\n",
    "![perceptron_two_in_three_out](../images/perceptron_two_in_three_out.png)\n"
   ],
   "metadata": {
    "collapsed": false
   },
   "id": "f311d13e27c1567"
  },
  {
   "cell_type": "markdown",
   "source": [
    "This perceptron can classify instances simultaneously into three different binary classes, which makes it a multilabel classifier. It may also be used for multiclass classification.\n",
    "\n",
    "Thanks to the magic of linear algebra, Equation 10-2 can be used to efficiently compute the outputs of a layer of artificial neurons for several instances at once."
   ],
   "metadata": {
    "collapsed": false
   },
   "id": "a07a742d3147a8fa"
  },
  {
   "cell_type": "markdown",
   "source": [
    "Equation 10-2. Computing the outputs of a fully connected layer\n",
    "$h_{W,b}(X) = \\phi(XW + b)$\n",
    "\n",
    "In this equation:\n",
    "- As always, $X$ represents the matrix of input features. It has one row per instance and one column per feature.\n",
    "\n",
    "- The weight matrix $W$ contains all the connection weights. It has one row per input and one column per neuron.\n",
    "\n",
    "- The bias vector $b$ contains all the bias terms: one per neuron.\n",
    "\n",
    "- The function $\\phi$ is called the activation function: when the artificial neurons are TLUs, it is a step function (we will discuss other activation functions shortly).\n"
   ],
   "metadata": {
    "collapsed": false
   },
   "id": "a5d91f4b382be9c9"
  },
  {
   "cell_type": "markdown",
   "source": [
    "NOTE\n",
    "In mathematics, the sum of a matrix and a vector is undefined. However, in data science, we allow “broadcasting”: adding a vector to a matrix means adding it to every row in the matrix. So, $XW + b$ first multiplies $X$ by $W$—which results in a matrix with one row per instance and one column per output—then adds the vector $b$ to every row of that matrix, which adds each bias term to the corresponding output, for every instance. Moreover, $\\phi$ is then applied itemwise to each item in the resulting matrix."
   ],
   "metadata": {
    "collapsed": false
   },
   "id": "a7a4dccb413e4366"
  },
  {
   "cell_type": "markdown",
   "source": [
    "So, how is a perceptron trained? The perceptron training algorithm proposed by Rosenblatt was largely inspired by Hebb’s rule. In his 1949 book The Organization of Behavior (Wiley), Donald Hebb suggested that when a biological neuron triggers another neuron often, the connection between these two neurons grows stronger. Siegrid Löwel later summarized Hebb’s idea in the catchy phrase, “Cells that fire together, wire together”; that is, the connection weight between two neurons tends to increase when they fire simultaneously. This rule later became known as Hebb’s rule (or Hebbian learning). Perceptrons are trained using a variant of this rule that takes into account the error made by the network when it makes a prediction; the perceptron learning rule reinforces connections that help reduce the error. More specifically, the perceptron is fed one training instance at a time, and for each instance it makes its predictions. For every output neuron that produced a wrong prediction, it reinforces the connection weights from the inputs that would have contributed to the correct prediction. The rule is shown in Equation 10-3."
   ],
   "metadata": {
    "collapsed": false
   },
   "id": "bec0ca7ceac5083d"
  },
  {
   "cell_type": "markdown",
   "source": [
    "Equation 10-3. Perceptron learning rule (weight update)\n",
    "$w_{i,j}^{(next step)} = w_{i,j} + \\eta(y_j - \\hat{y}_j)x_i$\n",
    "\n",
    "In this equation:\n",
    "\n",
    "- $w_{i, j}$ is the connection weight between the $i^{th}$ input and the $j^{th}$ neuron.\n",
    "- $x_i$ is the $i^{th}$ input value of the current training instance.\n",
    "- $\\hat{y}_j$ is the output of the $j^{th}$ output neuron for the current training instance.\n",
    "- $y_j$ is the target output of the $j^{th}$ output neuron for the current training instance.\n",
    "- $\\eta$ is the learning rate (see Chapter 4).\n",
    "\n",
    "The decision boundary of each output neuron is linear, so perceptrons are incapable of learning complex patterns (just like logistic regression classifiers). However, if the training instances are linearly separable, Rosenblatt demonstrated that this algorithm would converge to a solution. This is called the perceptron convergence theorem.\n",
    "\n",
    "Scikit-Learn provides a Perceptron class that can be used pretty much as you would expect—for example, on the iris dataset (introduced in Chapter 4):"
   ],
   "metadata": {
    "collapsed": false
   },
   "id": "80a36200b88f0199"
  },
  {
   "cell_type": "code",
   "outputs": [],
   "source": [
    "import sys\n",
    "\n",
    "import numpy as np\n",
    "from sklearn.datasets import load_iris\n",
    "from sklearn.linear_model import Perceptron\n",
    "\n",
    "iris = load_iris(as_frame=True)\n",
    "X = iris.data[[\"petal length (cm)\", \"petal width (cm)\"]].values\n",
    "y = (iris.target == 0)  # Iris setosa\n",
    "\n",
    "per_clf = Perceptron(random_state=42)\n",
    "per_clf.fit(X, y)\n",
    "\n",
    "X_new = [[2, 0.5], [3, 1]]\n",
    "y_pred = per_clf.predict(X_new)  # predicts True and False for these 2 flowers"
   ],
   "metadata": {
    "collapsed": false,
    "ExecuteTime": {
     "end_time": "2024-02-25T18:10:41.052241100Z",
     "start_time": "2024-02-25T18:10:38.765390400Z"
    }
   },
   "id": "b644638ede927ec2",
   "execution_count": 426
  },
  {
   "cell_type": "code",
   "outputs": [
    {
     "data": {
      "text/plain": "array([ True, False])"
     },
     "execution_count": 427,
     "metadata": {},
     "output_type": "execute_result"
    }
   ],
   "source": [
    "y_pred"
   ],
   "metadata": {
    "collapsed": false,
    "ExecuteTime": {
     "end_time": "2024-02-25T18:10:41.107729200Z",
     "start_time": "2024-02-25T18:10:41.024775200Z"
    }
   },
   "id": "4e954ab6dceb6c98",
   "execution_count": 427
  },
  {
   "cell_type": "code",
   "outputs": [],
   "source": [
    "# extra code – shows how to build and train a Perceptron\n",
    "\n",
    "# The Perceptron is equivalent to a SGDClassifier with loss=\"perceptron\", no regularization, and a constant learning rate equal to 1:\n",
    "from sklearn.linear_model import SGDClassifier\n",
    "\n",
    "sgd_clf = SGDClassifier(loss=\"perceptron\", penalty=None,\n",
    "                        learning_rate=\"constant\", eta0=1, random_state=42)\n",
    "sgd_clf.fit(X, y)\n",
    "assert (sgd_clf.coef_ == per_clf.coef_).all()\n",
    "assert (sgd_clf.intercept_ == per_clf.intercept_).all()"
   ],
   "metadata": {
    "collapsed": false,
    "ExecuteTime": {
     "end_time": "2024-02-25T18:10:41.218432300Z",
     "start_time": "2024-02-25T18:10:41.102107200Z"
    }
   },
   "id": "fc850806e5b8adad",
   "execution_count": 428
  },
  {
   "cell_type": "code",
   "outputs": [
    {
     "data": {
      "text/plain": "<Figure size 700x300 with 1 Axes>",
      "image/png": "[encoded data removed]"
     },
     "metadata": {},
     "output_type": "display_data"
    }
   ],
   "source": [
    "# extra code – plots the decision boundary of a Perceptron on the iris dataset\n",
    "\n",
    "# When the Perceptron finds a decision boundary that properly separates the classes, it stops learning. This means that the decision boundary is often quite close to one class:\n",
    "import matplotlib.pyplot as plt\n",
    "from matplotlib.colors import ListedColormap\n",
    "\n",
    "a = -per_clf.coef_[0, 0] / per_clf.coef_[0, 1]\n",
    "b = -per_clf.intercept_ / per_clf.coef_[0, 1]\n",
    "axes = [0, 5, 0, 2]\n",
    "x0, x1 = np.meshgrid(\n",
    "    np.linspace(axes[0], axes[1], 500).reshape(-1, 1),\n",
    "    np.linspace(axes[2], axes[3], 200).reshape(-1, 1),\n",
    ")\n",
    "X_new = np.c_[x0.ravel(), x1.ravel()]\n",
    "y_predict = per_clf.predict(X_new)\n",
    "zz = y_predict.reshape(x0.shape)\n",
    "custom_cmap = ListedColormap(['#9898ff', '#fafab0'])\n",
    "\n",
    "plt.figure(figsize=(7, 3))\n",
    "plt.plot(X[y == 0, 0], X[y == 0, 1], \"bs\", label=\"Not Iris setosa\")\n",
    "plt.plot(X[y == 1, 0], X[y == 1, 1], \"yo\", label=\"Iris setosa\")\n",
    "plt.plot([axes[0], axes[1]], [a * axes[0] + b, a * axes[1] + b], \"k-\",\n",
    "         linewidth=3)\n",
    "plt.contourf(x0, x1, zz, cmap=custom_cmap)\n",
    "plt.xlabel(\"Petal length\")\n",
    "plt.ylabel(\"Petal width\")\n",
    "plt.legend(loc=\"lower right\")\n",
    "plt.axis(axes)\n",
    "plt.show()"
   ],
   "metadata": {
    "collapsed": false,
    "ExecuteTime": {
     "end_time": "2024-02-25T18:10:41.372681200Z",
     "start_time": "2024-02-25T18:10:41.211450700Z"
    }
   },
   "id": "1e492ba010e91b6b",
   "execution_count": 429
  },
  {
   "cell_type": "markdown",
   "source": [
    "You may have noticed that the perceptron learning algorithm strongly resembles stochastic gradient descent (introduced in Chapter 4). In fact, Scikit-Learn’s Perceptron class is equivalent to using an SGDClassifier with the following hyperparameters: loss=\"perceptron\", learning_rate=\"constant\", eta0=1 (the learning rate), and penalty=None (no regularization).\n",
    "\n",
    "In their 1969 monograph Perceptrons, Marvin Minsky and Seymour Papert highlighted a number of serious weaknesses of perceptrons—in particular, the fact that they are incapable of solving some trivial problems (e.g., the exclusive OR (XOR) classification problem; see the left side of Figure 10-6). This is true of any other linear classification model (such as logistic regression classifiers), but researchers had expected much more from perceptrons, and some were so disappointed that they dropped neural networks altogether in favor of higher-level problems such as logic, problem solving, and search. The lack of practical applications also didn’t help.\n",
    "\n",
    "It turns out that some of the limitations of perceptrons can be eliminated by stacking multiple perceptrons. The resulting ANN is called a multilayer perceptron (MLP). An MLP can solve the XOR problem, as you can verify by computing the output of the MLP represented on the right side of Figure 10-6: with inputs (0, 0) or (1, 1), the network outputs 0, and with inputs (0, 1) or (1, 0) it outputs 1. Try verifying that this network indeed solves the XOR problem!"
   ],
   "metadata": {
    "collapsed": false
   },
   "id": "af84bf4b31369c22"
  },
  {
   "cell_type": "markdown",
   "source": [
    "Figure 10-6. XOR classification problem and an MLP that solves it\n",
    "![XOR_classification_problem](../images/XOR_classification_problem.png)\n"
   ],
   "metadata": {
    "collapsed": false
   },
   "id": "a8f7edd0c6496ff2"
  },
  {
   "cell_type": "markdown",
   "source": [
    "NOTE\n",
    "Contrary to logistic regression classifiers, perceptrons do not output a class probability. This is one reason to prefer logistic regression over perceptrons. Moreover, perceptrons do not use any regularization by default, and training stops as soon as there are no more prediction errors on the training set, so the model typically does not generalize as well as logistic regression or a linear SVM classifier. However, perceptrons may train a bit faster."
   ],
   "metadata": {
    "collapsed": false
   },
   "id": "c1f29a293df3527b"
  },
  {
   "cell_type": "markdown",
   "source": [
    "# THE MULTILAYER PERCEPTRON AND BACKPROPAGATION\n",
    "An MLP is composed of one input layer, one or more layers of TLUs called hidden layers, and one final layer of TLUs called the output layer (see Figure 10-7). The layers close to the input layer are usually called the lower layers, and the ones close to the outputs are usually called the upper layers."
   ],
   "metadata": {
    "collapsed": false
   },
   "id": "9e78f09be8e00f56"
  },
  {
   "cell_type": "markdown",
   "source": [
    "Figure 10-7. Architecture of a multilayer perceptron with two inputs, one hidden layer of four neurons, and three output neurons\n",
    "![perceptron_with_hidden_layer](../images/perceptron_with_hidden_layer.png)\n"
   ],
   "metadata": {
    "collapsed": false
   },
   "id": "1666eb102cb7469d"
  },
  {
   "cell_type": "markdown",
   "source": [
    "NOTE\n",
    "The signal flows only in one direction (from the inputs to the outputs), so this architecture is an example of a feedforward neural network (FNN)."
   ],
   "metadata": {
    "collapsed": false
   },
   "id": "19b52a7c747251e7"
  },
  {
   "cell_type": "markdown",
   "source": [
    "When an ANN contains a deep stack of hidden layers, it is called a deep neural network (DNN). The field of deep learning studies DNNs, and more generally it is interested in models containing deep stacks of computations. Even so, many people talk about deep learning whenever neural networks are involved (even shallow ones).\n",
    "\n",
    "For many years researchers struggled to find a way to train MLPs, without success. In the early 1960s several researchers discussed the possibility of using gradient descent to train neural networks, but as we saw in Chapter 4, this requires computing the gradients of the model’s error with regard to the model parameters; it wasn’t clear at the time how to do this efficiently with such a complex model containing so many parameters, especially with the computers they had back then.\n",
    "\n",
    "Then, in 1970, a researcher named Seppo Linnainmaa introduced in his master’s thesis a technique to compute all the gradients automatically and efficiently. This algorithm is now called reverse-mode automatic differentiation (or reverse-mode autodiff for short). In just two passes through the network (one forward, one backward), it is able to compute the gradients of the neural network’s error with regard to every single model parameter. In other words, it can find out how each connection weight and each bias should be tweaked in order to reduce the neural network’s error. These gradients can then be used to perform a gradient descent step. If you repeat this process of computing the gradients automatically and taking a gradient descent step, the neural network’s error will gradually drop until it eventually reaches a minimum. This combination of reverse-mode autodiff and gradient descent is now called backpropagation (or backprop for short)."
   ],
   "metadata": {
    "collapsed": false
   },
   "id": "46c16f7389c4ff1"
  },
  {
   "cell_type": "markdown",
   "source": [
    "NOTE\n",
    "There are various autodiff techniques, with different pros and cons. Reverse-mode autodiff is well suited when the function to differentiate has many variables (e.g., connection weights and biases) and few outputs (e.g., one loss). If you want to learn more about autodiff, check out Appendix B."
   ],
   "metadata": {
    "collapsed": false
   },
   "id": "a54a779ad7a15ecf"
  },
  {
   "cell_type": "markdown",
   "source": [
    "Backpropagation can actually be applied to all sorts of computational graphs, not just neural networks: indeed, Linnainmaa’s master’s thesis was not about neural nets, it was more general. It was several more years before backprop started to be used to train neural networks, but it still wasn’t mainstream. Then, in 1985, David Rumelhart, Geoffrey Hinton, and Ronald Williams published a groundbreaking paper analyzing how backpropagation allowed neural networks to learn useful internal representations. Their results were so impressive that backpropagation was quickly popularized in the field. Today, it is by far the most popular training technique for neural networks.\n",
    "\n",
    "Let’s run through how backpropagation works again in a bit more detail:\n",
    "- It handles one mini-batch at a time (for example, containing 32 instances each), and it goes through the full training set multiple times. Each pass is called an epoch.\n",
    "\n",
    "- Each mini-batch enters the network through the input layer. The algorithm then computes the output of all the neurons in the first hidden layer, for every instance in the mini-batch. The result is passed on to the next layer, its output is computed and passed to the next layer, and so on until we get the output of the last layer, the output layer. This is the forward pass: it is exactly like making predictions, except all intermediate results are preserved since they are needed for the backward pass.\n",
    "\n",
    "- Next, the algorithm measures the network’s output error (i.e., it uses a loss function that compares the desired output and the actual output of the network, and returns some measure of the error).\n",
    "\n",
    "- Then it computes how much each output bias and each connection to the output layer contributed to the error. This is done analytically by applying the chain rule (perhaps the most fundamental rule in calculus), which makes this step fast and precise.\n",
    "\n",
    "- The algorithm then measures how much of these error contributions came from each connection in the layer below, again using the chain rule, working backward until it reaches the input layer. As explained earlier, this reverse pass efficiently measures the error gradient across all the connection weights and biases in the network by propagating the error gradient backward through the network (hence the name of the algorithm).\n",
    "\n",
    "- Finally, the algorithm performs a gradient descent step to tweak all the connection weights in the network, using the error gradients it just computed."
   ],
   "metadata": {
    "collapsed": false
   },
   "id": "6f79c778292aff74"
  },
  {
   "cell_type": "markdown",
   "source": [
    "WARNING\n",
    "It is important to initialize all the hidden layers’ connection weights randomly, or else training will fail. For example, if you initialize all weights and biases to zero, then all neurons in a given layer will be perfectly identical, and thus backpropagation will affect them in exactly the same way, so they will remain identical. In other words, despite having hundreds of neurons per layer, your model will act as if it had only one neuron per layer: it won’t be too smart. If instead you randomly initialize the weights, you break the symmetry and allow backpropagation to train a diverse team of neurons."
   ],
   "metadata": {
    "collapsed": false
   },
   "id": "d062eb921a84e852"
  },
  {
   "cell_type": "markdown",
   "source": [
    "In short, backpropagation makes predictions for a mini-batch (forward pass), measures the error, then goes through each layer in reverse to measure the error contribution from each parameter (reverse pass), and finally tweaks the connection weights and biases to reduce the error (gradient descent step).\n",
    "\n",
    "In order for backprop to work properly, Rumelhart and his colleagues made a key change to the MLP’s architecture: they replaced the step function with the logistic function, $\\sigma(z) = \\frac{1}{1 + \\exp(-z)}$, also called the sigmoid function. This was essential because the step function contains only flat segments, so there is no gradient to work with (gradient descent cannot move on a flat surface), while the sigmoid function has a well-defined nonzero derivative everywhere, allowing gradient descent to make some progress at every step. In fact, the backpropagation algorithm works well with many other activation functions, not just the sigmoid function. Here are two other popular choices:\n",
    "\n",
    "**The hyperbolic tangent function: $\\tanh(z) = 2\\sigma(2z) - 1$**\n",
    "Just like the sigmoid function, this activation function is S-shaped, continuous, and differentiable, but its output value ranges from –1 to 1 (instead of 0 to 1 in the case of the sigmoid function). That range tends to make each layer’s output more or less centered around 0 at the beginning of training, which often helps speed up convergence.\n",
    "\n",
    "**The rectified linear unit function: $\\text{ReLU}(z) = \\max(0, z)$**\n",
    "The ReLU function is continuous but unfortunately not differentiable at $z = 0$ (the slope changes abruptly, which can make gradient descent bounce around), and its derivative is 0 for $z < 0$. In practice, however, it works very well and has the advantage of being fast to compute, so it has become the default. Importantly, the fact that it does not have a maximum output value helps reduce some issues during gradient descent (we will come back to this in Chapter 11).\n",
    "\n",
    "These popular activation functions and their derivatives are represented in Figure 10-8. But wait! Why do we need activation functions in the first place? Well, if you chain several linear transformations, all you get is a linear transformation. For example, if $f(x) = 2x + 3$ and $g(x) = 5x - 1$, then chaining these two linear functions gives you another linear function: $f(g(x)) = 2(5x - 1) + 3 = 10x + 1$. So if you don’t have some nonlinearity between layers, then even a deep stack of layers is equivalent to a single layer, and you can’t solve very complex problems with that. Conversely, a large enough DNN with nonlinear activations can theoretically approximate any continuous function.\n"
   ],
   "metadata": {
    "collapsed": false
   },
   "id": "26cd8d97683c8468"
  },
  {
   "cell_type": "code",
   "outputs": [
    {
     "data": {
      "text/plain": "<Figure size 1100x310 with 2 Axes>",
      "image/png": "[encoded data removed]"
     },
     "metadata": {},
     "output_type": "display_data"
    }
   ],
   "source": [
    "# extra code – this cell generates and saves Figure 10–8\n",
    "\n",
    "from scipy.special import expit as sigmoid\n",
    "\n",
    "\n",
    "def relu(z):\n",
    "    return np.maximum(0, z)\n",
    "\n",
    "\n",
    "def derivative(f, z, eps=0.000001):\n",
    "    return (f(z + eps) - f(z - eps)) / (2 * eps)\n",
    "\n",
    "\n",
    "max_z = 4.5\n",
    "z = np.linspace(-max_z, max_z, 200)\n",
    "\n",
    "plt.figure(figsize=(11, 3.1))\n",
    "\n",
    "plt.subplot(121)\n",
    "plt.plot([-max_z, 0], [0, 0], \"r-\", linewidth=2, label=\"Heaviside\")\n",
    "plt.plot(z, relu(z), \"m-.\", linewidth=2, label=\"ReLU\")\n",
    "plt.plot([0, 0], [0, 1], \"r-\", linewidth=0.5)\n",
    "plt.plot([0, max_z], [1, 1], \"r-\", linewidth=2)\n",
    "plt.plot(z, sigmoid(z), \"g--\", linewidth=2, label=\"Sigmoid\")\n",
    "plt.plot(z, np.tanh(z), \"b-\", linewidth=1, label=\"Tanh\")\n",
    "plt.grid(True)\n",
    "plt.title(\"Activation functions\")\n",
    "plt.axis([-max_z, max_z, -1.65, 2.4])\n",
    "plt.gca().set_yticks([-1, 0, 1, 2])\n",
    "plt.legend(loc=\"lower right\", fontsize=13)\n",
    "\n",
    "plt.subplot(122)\n",
    "plt.plot(z, derivative(np.sign, z), \"r-\", linewidth=2, label=\"Heaviside\")\n",
    "plt.plot(0, 0, \"ro\", markersize=5)\n",
    "plt.plot(0, 0, \"rx\", markersize=10)\n",
    "plt.plot(z, derivative(sigmoid, z), \"g--\", linewidth=2, label=\"Sigmoid\")\n",
    "plt.plot(z, derivative(np.tanh, z), \"b-\", linewidth=1, label=\"Tanh\")\n",
    "plt.plot([-max_z, 0], [0, 0], \"m-.\", linewidth=2)\n",
    "plt.plot([0, max_z], [1, 1], \"m-.\", linewidth=2)\n",
    "plt.plot([0, 0], [0, 1], \"m-.\", linewidth=1.2)\n",
    "plt.plot(0, 1, \"mo\", markersize=5)\n",
    "plt.plot(0, 1, \"mx\", markersize=10)\n",
    "plt.grid(True)\n",
    "plt.title(\"Derivatives\")\n",
    "plt.axis([-max_z, max_z, -0.2, 1.2])\n",
    "\n",
    "plt.show()\n",
    "\n",
    "# Figure 10-8. Activation functions (left) and their derivatives (right)"
   ],
   "metadata": {
    "collapsed": false,
    "ExecuteTime": {
     "end_time": "2024-02-25T18:10:41.625800400Z",
     "start_time": "2024-02-25T18:10:41.331790200Z"
    }
   },
   "id": "618d6a969817c3dc",
   "execution_count": 430
  },
  {
   "cell_type": "markdown",
   "source": [
    "OK! You know where neural nets came from, what their architecture is, and how to compute their outputs. You’ve also learned about the backpropagation algorithm. But what exactly can you do with neural nets?"
   ],
   "metadata": {
    "collapsed": false
   },
   "id": "680ed6095bd4b8bb"
  },
  {
   "cell_type": "markdown",
   "source": [
    "# REGRESSION MLPs\n",
    "First, MLPs can be used for regression tasks. If you want to predict a single value (e.g., the price of a house, given many of its features), then you just need a single output neuron: its output is the predicted value. For multivariate regression (i.e., to predict multiple values at once), you need one output neuron per output dimension. For example, to locate the center of an object in an image, you need to predict 2D coordinates, so you need two output neurons. If you also want to place a bounding box around the object, then you need two more numbers: the width and the height of the object. So, you end up with four output neurons.\n",
    "\n",
    "Scikit-Learn includes an MLPRegressor class, so let’s use it to build an MLP with three hidden layers composed of 50 neurons each, and train it on the California housing dataset. For simplicity, we will use Scikit-Learn’s fetch_california_housing() function to load the data. This dataset is simpler than the one we used in Chapter 2, since it contains only numerical features (there is no ocean_proximity feature), and there are no missing values. The following code starts by fetching and splitting the dataset, then it creates a pipeline to standardize the input features before sending them to the MLPRegressor. This is very important for neural networks because they are trained using gradient descent, and as we saw in Chapter 4, gradient descent does not converge very well when the features have very different scales. Finally, the code trains the model and evaluates its validation error. The model uses the ReLU activation function in the hidden layers, and it uses a variant of gradient descent called Adam (see Chapter 11) to minimize the mean squared error, with a little bit of $\\ell_2$ regularization (which you can control via the alpha hyperparameter):"
   ],
   "metadata": {
    "collapsed": false
   },
   "id": "db63973da974db84"
  },
  {
   "cell_type": "code",
   "outputs": [],
   "source": [
    "from sklearn.datasets import fetch_california_housing\n",
    "from sklearn.metrics import root_mean_squared_error\n",
    "from sklearn.model_selection import train_test_split\n",
    "from sklearn.neural_network import MLPRegressor\n",
    "from sklearn.pipeline import make_pipeline\n",
    "from sklearn.preprocessing import StandardScaler\n",
    "\n",
    "housing = fetch_california_housing()\n",
    "X_train_full, X_test, y_train_full, y_test = train_test_split(\n",
    "    housing.data, housing.target, random_state=42)\n",
    "X_train, X_valid, y_train, y_valid = train_test_split(\n",
    "    X_train_full, y_train_full, random_state=42)\n",
    "\n",
    "mlp_reg = MLPRegressor(hidden_layer_sizes=[50, 50, 50], random_state=42)\n",
    "pipeline = make_pipeline(StandardScaler(), mlp_reg)\n",
    "pipeline.fit(X_train, y_train)\n",
    "y_pred = pipeline.predict(X_valid)\n",
    "rmse = root_mean_squared_error(y_valid, y_pred)  # about 0.505"
   ],
   "metadata": {
    "collapsed": false,
    "ExecuteTime": {
     "end_time": "2024-02-25T18:10:53.235606300Z",
     "start_time": "2024-02-25T18:10:41.558979Z"
    }
   },
   "id": "38c67147b635440b",
   "execution_count": 431
  },
  {
   "cell_type": "code",
   "outputs": [
    {
     "data": {
      "text/plain": "0.5053326657968648"
     },
     "execution_count": 432,
     "metadata": {},
     "output_type": "execute_result"
    }
   ],
   "source": [
    "rmse"
   ],
   "metadata": {
    "collapsed": false,
    "ExecuteTime": {
     "end_time": "2024-02-25T18:10:53.252337Z",
     "start_time": "2024-02-25T18:10:53.236604200Z"
    }
   },
   "id": "8bb9a538727250ce",
   "execution_count": 432
  },
  {
   "cell_type": "markdown",
   "source": [
    "We get a validation RMSE of about 0.505, which is comparable to what you would get with a random forest classifier. Not too bad for a first try!\n",
    "\n",
    "Note that this MLP does not use any activation function for the output layer, so it’s free to output any value it wants. This is generally fine, but if you want to guarantee that the output will always be positive, then you should use the ReLU activation function in the output layer, or the softplus activation function, which is a smooth variant of ReLU: $softplus(z) = log(1 + exp(z))$. Softplus is close to 0 when $z$ is negative, and close to $z$ when $z$ is positive. Finally, if you want to guarantee that the predictions will always fall within a given range of values, then you should use the sigmoid function or the hyperbolic tangent, and scale the targets to the appropriate range: 0 to 1 for sigmoid and –1 to 1 for tanh. Sadly, the MLPRegressor class does not support activation functions in the output layer."
   ],
   "metadata": {
    "collapsed": false
   },
   "id": "1abf83dcf2ab2cf9"
  },
  {
   "cell_type": "markdown",
   "source": [
    "WARNING\n",
    "Building and training a standard MLP with Scikit-Learn in just a few lines of code is very convenient, but the neural net features are limited. This is why we will switch to Keras in the second part of this chapter."
   ],
   "metadata": {
    "collapsed": false
   },
   "id": "2ba0d02025453ac7"
  },
  {
   "cell_type": "markdown",
   "source": [
    "The MLPRegressor class uses the mean squared error, which is usually what you want for regression, but if you have a lot of outliers in the training set, you may prefer to use the mean absolute error instead. Alternatively, you may want to use the Huber loss, which is a combination of both. It is quadratic when the error is smaller than a threshold δ (typically 1) but linear when the error is larger than δ. The linear part makes it less sensitive to outliers than the mean squared error, and the quadratic part allows it to converge faster and be more precise than the mean absolute error. However, MLPRegressor only supports the MSE.\n",
    "\n",
    "Table 10-1 summarizes the typical architecture of a regression MLP."
   ],
   "metadata": {
    "collapsed": false
   },
   "id": "9ac96ce92e2df5a"
  },
  {
   "cell_type": "markdown",
   "source": [
    "Table 10-1. Typical architecture of a regression MLP\n",
    "\n",
    "| Hyperparameter               | Typical value                                             |\n",
    "|------------------------------|-----------------------------------------------------------|\n",
    "| Hidden layers                | Depends on the problem, but typically 1 to 5              |\n",
    "| Neurons per hidden layer     | Depends on the problem, but typically 10 to 100           |\n",
    "| Output neurons               | 1 per dimension                                           |\n",
    "| Hidden activation            | ReLU                                                      |\n",
    "| Output activation            | None, or ReLU/softplus (if positive outputs) or sigmoid/tanh (if bounded outputs) |\n",
    "| Loss function                | MSE or Huber if outliers                                  |\n",
    "\n",
    "\n"
   ],
   "metadata": {
    "collapsed": false
   },
   "id": "434972ad921c6236"
  },
  {
   "cell_type": "markdown",
   "source": [
    "# CLASSIFICATION MLPs\n",
    "MLPs can also be used for classification tasks. For a binary classification problem, you just need a single output neuron using the sigmoid activation function: the output will be a number between 0 and 1, which you can interpret as the estimated probability of the positive class. The estimated probability of the negative class is equal to one minus that number.\n",
    "\n",
    "MLPs can also easily handle multilabel binary classification tasks (see Chapter 3). For example, you could have an email classification system that predicts whether each incoming email is ham or spam, and simultaneously predicts whether it is an urgent or nonurgent email. In this case, you would need two output neurons, both using the sigmoid activation function: the first would output the probability that the email is spam, and the second would output the probability that it is urgent. More generally, you would dedicate one output neuron for each positive class. Note that the output probabilities do not necessarily add up to 1. This lets the model output any combination of labels: you can have nonurgent ham, urgent ham, nonurgent spam, and perhaps even urgent spam (although that would probably be an error).\n",
    "\n",
    "If each instance can belong only to a single class, out of three or more possible classes (e.g., classes 0 through 9 for digit image classification), then you need to have one output neuron per class, and you should use the softmax activation function for the whole output layer (see Figure 10-9). The softmax function (introduced in Chapter 4) will ensure that all the estimated probabilities are between 0 and 1 and that they add up to 1, since the classes are exclusive. As you saw in Chapter 3, this is called multiclass classification.\n",
    "\n",
    "Regarding the loss function, since we are predicting probability distributions, the cross-entropy loss (or x-entropy or log loss for short, see Chapter 4) is generally a good choice."
   ],
   "metadata": {
    "collapsed": false
   },
   "id": "e0c5e792f084b6b4"
  },
  {
   "cell_type": "markdown",
   "source": [
    "Figure 10-9. A modern MLP (including ReLU and softmax) for classification\n",
    "![modern_MLP](../images/modern_MLP.png)\n"
   ],
   "metadata": {
    "collapsed": false
   },
   "id": "5db86638d7e3ad20"
  },
  {
   "cell_type": "markdown",
   "source": [
    "Scikit-Learn has an MLPClassifier class in the sklearn.neural_network package. It is almost identical to the MLPRegressor class, except that it minimizes the cross entropy rather than the MSE. Give it a try now, for example on the iris dataset. It’s almost a linear task, so a single layer with 5 to 10 neurons should suffice (make sure to scale the features).\n",
    "\n",
    "Table 10-2 summarizes the typical architecture of a classification MLP."
   ],
   "metadata": {
    "collapsed": false
   },
   "id": "d6a0947538506454"
  },
  {
   "cell_type": "markdown",
   "source": [
    "| Hyperparameter | Binary classification | Multilabel binary classification | Multiclass classification |\n",
    "| --- | --- |----------------------------------|---------------------------|\n",
    "| # hidden layers | Typically 1 to 5 layers, depending on the task | same as bin clf                     | same as bin clf           |\n",
    "| # output neurons | 1 | 1 per binary label               | 1 per class               |\n",
    "| Output layer activation | Sigmoid | Sigmoid                          | Softmax                   |\n",
    "| Loss function | X-entropy | X-entropy                        | X-entropy                 |"
   ],
   "metadata": {
    "collapsed": false
   },
   "id": "a22b5a631a58ebbc"
  },
  {
   "cell_type": "markdown",
   "source": [
    "TIP\n",
    "Before we go on, I recommend you go through exercise 1 at the end of this chapter. You will play with various neural network architectures and visualize their outputs using the TensorFlow playground. This will be very useful to better understand MLPs, including the effects of all the hyperparameters (number of layers and neurons, activation functions, and more)."
   ],
   "metadata": {
    "collapsed": false
   },
   "id": "d066727f86d76a20"
  },
  {
   "cell_type": "code",
   "outputs": [
    {
     "data": {
      "text/plain": "1.0"
     },
     "execution_count": 433,
     "metadata": {},
     "output_type": "execute_result"
    }
   ],
   "source": [
    "# extra code – this was left as an exercise for the reader\n",
    "\n",
    "from sklearn.datasets import load_iris\n",
    "from sklearn.model_selection import train_test_split\n",
    "from sklearn.neural_network import MLPClassifier\n",
    "\n",
    "iris = load_iris()\n",
    "X_train_full, X_test, y_train_full, y_test = train_test_split(\n",
    "    iris.data, iris.target, test_size=0.1, random_state=42)\n",
    "X_train, X_valid, y_train, y_valid = train_test_split(\n",
    "    X_train_full, y_train_full, test_size=0.1, random_state=42)\n",
    "\n",
    "mlp_clf = MLPClassifier(hidden_layer_sizes=[5], max_iter=10_000,\n",
    "                        random_state=42)\n",
    "pipeline = make_pipeline(StandardScaler(), mlp_clf)\n",
    "pipeline.fit(X_train, y_train)\n",
    "accuracy = pipeline.score(X_valid, y_valid)\n",
    "accuracy"
   ],
   "metadata": {
    "collapsed": false,
    "ExecuteTime": {
     "end_time": "2024-02-25T18:10:53.524101900Z",
     "start_time": "2024-02-25T18:10:53.241339200Z"
    }
   },
   "id": "4e090c8c36efdb18",
   "execution_count": 433
  },
  {
   "cell_type": "markdown",
   "source": [
    "# IMPLEMENTING MLPS WITH KERAS\n",
    "Keras is TensorFlow’s high-level deep learning API: it allows you to build, train, evaluate, and execute all sorts of neural networks. The original Keras library was developed by François Chollet as part of a research project and was released as a standalone open source project in March 2015. It quickly gained popularity, owing to its ease of use, flexibility, and beautiful design."
   ],
   "metadata": {
    "collapsed": false
   },
   "id": "fad092f85ca8c47"
  },
  {
   "cell_type": "markdown",
   "source": [
    "NOTE\n",
    "Keras used to support multiple backends, including TensorFlow, PlaidML, Theano, and Microsoft Cognitive Toolkit (CNTK) (the last two are sadly deprecated), but since version 2.4, Keras is TensorFlow-only. Similarly, TensorFlow used to include multiple high-level APIs, but Keras was officially chosen as its preferred high-level API when TensorFlow 2 came out. Installing TensorFlow will automatically install Keras as well, and Keras will not work without TensorFlow installed. In short, Keras and TensorFlow fell in love and got married. Other popular deep learning libraries include PyTorch by Facebook and JAX by Google."
   ],
   "metadata": {
    "collapsed": false
   },
   "id": "72e96812e5ddbefe"
  },
  {
   "cell_type": "markdown",
   "source": [
    "Now let’s use Keras! We will start by building an MLP for image classification."
   ],
   "metadata": {
    "collapsed": false
   },
   "id": "13c06beb331cdd7a"
  },
  {
   "cell_type": "markdown",
   "source": [
    "NOTE\n",
    "Colab runtimes come with recent versions of TensorFlow and Keras preinstalled. However, if you want to install them on your own machine, please see the installation instructions at https://homl.info/install."
   ],
   "metadata": {
    "collapsed": false
   },
   "id": "ec7dd34b136f5d40"
  },
  {
   "cell_type": "markdown",
   "source": [
    "# BUILDING AN IMAGE CLASSIFIER USING THE SEQUENTIAL API\n",
    "First, we need to load a dataset. We will use Fashion MNIST, which is a drop-in replacement of MNIST (introduced in Chapter 3). It has the exact same format as MNIST (70,000 grayscale images of 28 × 28 pixels each, with 10 classes), but the images represent fashion items rather than handwritten digits, so each class is more diverse, and the problem turns out to be significantly more challenging than MNIST. For example, a simple linear model reaches about 92% accuracy on MNIST, but only about 83% on Fashion MNIST."
   ],
   "metadata": {
    "collapsed": false
   },
   "id": "f146b83f5b4ace9e"
  },
  {
   "cell_type": "markdown",
   "source": [
    "# USING KERAS TO LOAD THE DATASET\n",
    "Keras provides some utility functions to fetch and load common datasets, including MNIST, Fashion MNIST, and a few more. Let’s load Fashion MNIST. It’s already shuffled and split into a training set (60,000 images) and a test set (10,000 images), but we’ll hold out the last 5,000 images from the training set for validation:"
   ],
   "metadata": {
    "collapsed": false
   },
   "id": "9e4b3901b2f3fef8"
  },
  {
   "cell_type": "code",
   "outputs": [],
   "source": [
    "import tensorflow as tf\n",
    "\n",
    "fashion_mnist = tf.keras.datasets.fashion_mnist.load_data()\n",
    "(X_train_full, y_train_full), (X_test, y_test) = fashion_mnist\n",
    "X_train, y_train = X_train_full[:-5000], y_train_full[:-5000]\n",
    "X_valid, y_valid = X_train_full[-5000:], y_train_full[-5000:]"
   ],
   "metadata": {
    "collapsed": false,
    "ExecuteTime": {
     "end_time": "2024-02-25T18:10:53.821308100Z",
     "start_time": "2024-02-25T18:10:53.520119Z"
    }
   },
   "id": "746efb6fb35f2727",
   "execution_count": 434
  },
  {
   "cell_type": "markdown",
   "source": [
    "TIP\n",
    "TensorFlow is usually imported as tf, and the Keras API is available via tf.keras."
   ],
   "metadata": {
    "collapsed": false
   },
   "id": "f3b81fe7bd04300f"
  },
  {
   "cell_type": "markdown",
   "source": [
    "When loading MNIST or Fashion MNIST using Keras rather than Scikit-Learn, one important difference is that every image is represented as a 28 × 28 array rather than a 1D array of size 784. Moreover, the pixel intensities are represented as integers (from 0 to 255) rather than floats (from 0.0 to 255.0). Let’s take a look at the shape and data type of the training set:"
   ],
   "metadata": {
    "collapsed": false
   },
   "id": "80014d18c3a97548"
  },
  {
   "cell_type": "code",
   "outputs": [
    {
     "data": {
      "text/plain": "(55000, 28, 28)"
     },
     "execution_count": 435,
     "metadata": {},
     "output_type": "execute_result"
    }
   ],
   "source": [
    "X_train.shape"
   ],
   "metadata": {
    "collapsed": false,
    "ExecuteTime": {
     "end_time": "2024-02-25T18:10:53.837027400Z",
     "start_time": "2024-02-25T18:10:53.823599900Z"
    }
   },
   "id": "8e44ccedcf7e2225",
   "execution_count": 435
  },
  {
   "cell_type": "code",
   "outputs": [
    {
     "data": {
      "text/plain": "dtype('uint8')"
     },
     "execution_count": 436,
     "metadata": {},
     "output_type": "execute_result"
    }
   ],
   "source": [
    "X_train.dtype"
   ],
   "metadata": {
    "collapsed": false,
    "ExecuteTime": {
     "end_time": "2024-02-25T18:10:53.845041800Z",
     "start_time": "2024-02-25T18:10:53.826099600Z"
    }
   },
   "id": "e1ef582f6888d609",
   "execution_count": 436
  },
  {
   "cell_type": "markdown",
   "source": [
    "For simplicity, we’ll scale the pixel intensities down to the 0–1 range by dividing them by 255.0 (this also converts them to floats):"
   ],
   "metadata": {
    "collapsed": false
   },
   "id": "78f0fe4e2d69d62a"
  },
  {
   "cell_type": "code",
   "outputs": [],
   "source": [
    "X_train, X_valid, X_test = X_train / 255., X_valid / 255., X_test / 255."
   ],
   "metadata": {
    "collapsed": false,
    "ExecuteTime": {
     "end_time": "2024-02-25T18:10:53.990889300Z",
     "start_time": "2024-02-25T18:10:53.830046200Z"
    }
   },
   "id": "2f0856742d0c9917",
   "execution_count": 437
  },
  {
   "cell_type": "markdown",
   "source": [
    "With MNIST, when the label is equal to 5, it means that the image represents the handwritten digit 5. Easy. For Fashion MNIST, however, we need the list of class names to know what we are dealing with:"
   ],
   "metadata": {
    "collapsed": false
   },
   "id": "3ba38d9b229bf3b0"
  },
  {
   "cell_type": "code",
   "outputs": [
    {
     "data": {
      "text/plain": "<Figure size 640x480 with 1 Axes>",
      "image/png": "[encoded data removed]"
     },
     "metadata": {},
     "output_type": "display_data"
    }
   ],
   "source": [
    "# extra code\n",
    "\n",
    "plt.imshow(X_train[0], cmap=\"binary\")\n",
    "plt.axis('off')\n",
    "plt.show()"
   ],
   "metadata": {
    "collapsed": false,
    "ExecuteTime": {
     "end_time": "2024-02-25T18:10:54.105553200Z",
     "start_time": "2024-02-25T18:10:53.922385200Z"
    }
   },
   "id": "6e8aecab86e4ff2d",
   "execution_count": 438
  },
  {
   "cell_type": "code",
   "outputs": [
    {
     "data": {
      "text/plain": "array([9, 0, 0, ..., 9, 0, 2], dtype=uint8)"
     },
     "execution_count": 439,
     "metadata": {},
     "output_type": "execute_result"
    }
   ],
   "source": [
    "y_train"
   ],
   "metadata": {
    "collapsed": false,
    "ExecuteTime": {
     "end_time": "2024-02-25T18:10:54.126517500Z",
     "start_time": "2024-02-25T18:10:53.953290100Z"
    }
   },
   "id": "8e9eff35462e8a0b",
   "execution_count": 439
  },
  {
   "cell_type": "code",
   "outputs": [],
   "source": [
    "class_names = [\"T-shirt/top\", \"Trouser\", \"Pullover\", \"Dress\", \"Coat\",\n",
    "               \"Sandal\", \"Shirt\", \"Sneaker\", \"Bag\", \"Ankle boot\"]"
   ],
   "metadata": {
    "collapsed": false,
    "ExecuteTime": {
     "end_time": "2024-02-25T18:10:54.132481300Z",
     "start_time": "2024-02-25T18:10:53.957521200Z"
    }
   },
   "id": "d02234e6bcb4a03c",
   "execution_count": 440
  },
  {
   "cell_type": "markdown",
   "source": [
    "For example, the first image in the training set represents an ankle boot:"
   ],
   "metadata": {
    "collapsed": false
   },
   "id": "cf9e5d63df4145a7"
  },
  {
   "cell_type": "code",
   "outputs": [
    {
     "data": {
      "text/plain": "'Ankle boot'"
     },
     "execution_count": 441,
     "metadata": {},
     "output_type": "execute_result"
    }
   ],
   "source": [
    "class_names[y_train[0]]"
   ],
   "metadata": {
    "collapsed": false,
    "ExecuteTime": {
     "end_time": "2024-02-25T18:10:54.141458Z",
     "start_time": "2024-02-25T18:10:53.960704100Z"
    }
   },
   "id": "c438a6bafccbb81e",
   "execution_count": 441
  },
  {
   "cell_type": "markdown",
   "source": [
    "Figure 10-10 shows some samples from the Fashion MNIST dataset."
   ],
   "metadata": {
    "collapsed": false
   },
   "id": "d17764691ec9fd4f"
  },
  {
   "cell_type": "code",
   "outputs": [
    {
     "data": {
      "text/plain": "<Figure size 1200x480 with 40 Axes>",
      "image/png": "[encoded data removed]"
     },
     "metadata": {},
     "output_type": "display_data"
    }
   ],
   "source": [
    "# extra code – this cell generates and saves Figure 10–10\n",
    "\n",
    "n_rows = 4\n",
    "n_cols = 10\n",
    "plt.figure(figsize=(n_cols * 1.2, n_rows * 1.2))\n",
    "for row in range(n_rows):\n",
    "    for col in range(n_cols):\n",
    "        index = n_cols * row + col\n",
    "        plt.subplot(n_rows, n_cols, index + 1)\n",
    "        plt.imshow(X_train[index], cmap=\"binary\", interpolation=\"nearest\")\n",
    "        plt.axis('off')\n",
    "        plt.title(class_names[y_train[index]])\n",
    "plt.subplots_adjust(wspace=0.2, hspace=0.5)\n",
    "\n",
    "plt.show()\n",
    "\n",
    "# Figure 10-10. Samples from Fashion MNIST\n"
   ],
   "metadata": {
    "collapsed": false,
    "ExecuteTime": {
     "end_time": "2024-02-25T18:10:55.071612100Z",
     "start_time": "2024-02-25T18:10:53.963932200Z"
    }
   },
   "id": "d5e54357511b8bda",
   "execution_count": 442
  },
  {
   "cell_type": "markdown",
   "source": [
    "# CREATING THE MODEL USING THE SEQUENTIAL API\n",
    "Now let’s build the neural network! Here is a classification MLP with two hidden layers:"
   ],
   "metadata": {
    "collapsed": false
   },
   "id": "e3743f4b0fb56c56"
  },
  {
   "cell_type": "code",
   "outputs": [],
   "source": [
    "tf.random.set_seed(42)\n",
    "model = tf.keras.Sequential()\n",
    "model.add(tf.keras.layers.Input(shape=[28, 28]))\n",
    "model.add(tf.keras.layers.Flatten())\n",
    "model.add(tf.keras.layers.Dense(300, activation=\"relu\"))\n",
    "model.add(tf.keras.layers.Dense(100, activation=\"relu\"))\n",
    "model.add(tf.keras.layers.Dense(10, activation=\"softmax\"))"
   ],
   "metadata": {
    "collapsed": false,
    "ExecuteTime": {
     "end_time": "2024-02-25T18:10:55.182647200Z",
     "start_time": "2024-02-25T18:10:55.067623200Z"
    }
   },
   "id": "e423570efd23dd52",
   "execution_count": 443
  },
  {
   "cell_type": "markdown",
   "source": [
    "Let’s go through this code line by line:\n",
    "\n",
    "- First, set TensorFlow’s random seed to make the results reproducible: the random weights of the hidden layers and the output layer will be the same every time you run the notebook. You could also choose to use the tf.keras.utils.set_random_seed() function, which conveniently sets the random seeds for TensorFlow, Python (random.seed()), and NumPy (np.random.seed()).\n",
    "\n",
    "- The next line creates a Sequential model. This is the simplest kind of Keras model for neural networks that are just composed of a single stack of layers connected sequentially. This is called the sequential API.\n",
    "\n",
    "- Next, we build the first layer (an Input layer) and add it to the model. We specify the input shape, which doesn’t include the batch size, only the shape of the instances. Keras needs to know the shape of the inputs so it can determine the shape of the connection weight matrix of the first hidden layer.\n",
    "\n",
    "- Then we add a Flatten layer. Its role is to convert each input image into a 1D array: for example, if it receives a batch of shape [32, 28, 28], it will reshape it to [32, 784]. In other words, if it receives input data X, it computes X.reshape(-1, 784). This layer doesn’t have any parameters; it’s just there to do some simple preprocessing.\n",
    "\n",
    "- Next we add a Dense hidden layer with 300 neurons. It will use the ReLU activation function. Each Dense layer manages its own weight matrix, containing all the connection weights between the neurons and their inputs. It also manages a vector of bias terms (one per neuron). When it receives some input data, it computes Equation 10-2.\n",
    "\n",
    "- Then we add a second Dense hidden layer with 100 neurons, also using the ReLU activation function.\n",
    "\n",
    "- Finally, we add a Dense output layer with 10 neurons (one per class), using the softmax activation function because the classes are exclusive.\n"
   ],
   "metadata": {
    "collapsed": false
   },
   "id": "132d9c1b92a1bf90"
  },
  {
   "cell_type": "markdown",
   "source": [
    "TIP\n",
    "Specifying activation=\"relu\" is equivalent to specifying activation=tf.keras.activations.relu. Other activation functions are available in the tf.keras.activations package. We will use many of them in this book; see https://keras.io/api/layers/activations for the full list. We will also define our own custom activation functions in Chapter 12."
   ],
   "metadata": {
    "collapsed": false
   },
   "id": "9f6d678b08c5747d"
  },
  {
   "cell_type": "markdown",
   "source": [
    "Instead of adding the layers one by one as we just did, it’s often more convenient to pass a list of layers when creating the Sequential model. You can also drop the Input layer and instead specify the input_shape in the first layer:"
   ],
   "metadata": {
    "collapsed": false
   },
   "id": "9f2acc3e283ca02e"
  },
  {
   "cell_type": "code",
   "outputs": [],
   "source": [
    "# extra code – clear the session to reset the name counters\n",
    "tf.keras.backend.clear_session()\n",
    "tf.random.set_seed(42)"
   ],
   "metadata": {
    "collapsed": false,
    "ExecuteTime": {
     "end_time": "2024-02-25T18:10:55.206582800Z",
     "start_time": "2024-02-25T18:10:55.180655100Z"
    }
   },
   "id": "63def977a6758b8d",
   "execution_count": 444
  },
  {
   "cell_type": "code",
   "outputs": [],
   "source": [
    "model = tf.keras.Sequential([\n",
    "    tf.keras.layers.Flatten(input_shape=[28, 28]),\n",
    "    tf.keras.layers.Dense(300, activation=\"relu\"),\n",
    "    tf.keras.layers.Dense(100, activation=\"relu\"),\n",
    "    tf.keras.layers.Dense(10, activation=\"softmax\")\n",
    "])"
   ],
   "metadata": {
    "collapsed": false,
    "ExecuteTime": {
     "end_time": "2024-02-25T18:10:55.375007500Z",
     "start_time": "2024-02-25T18:10:55.183644900Z"
    }
   },
   "id": "1f31362703c4c193",
   "execution_count": 445
  },
  {
   "cell_type": "markdown",
   "source": [
    "The model’s summary() method displays all the model’s layers, including each layer’s name (which is automatically generated unless you set it when creating the layer), its output shape (None means the batch size can be anything), and its number of parameters. The summary ends with the total number of parameters, including trainable and non-trainable parameters. Here we only have trainable parameters (you will see some non-trainable parameters later in this chapter):"
   ],
   "metadata": {
    "collapsed": false
   },
   "id": "262dafffab9438a1"
  },
  {
   "cell_type": "code",
   "outputs": [
    {
     "name": "stdout",
     "output_type": "stream",
     "text": [
      "Model: \"sequential\"\n",
      "_________________________________________________________________\n",
      " Layer (type)                Output Shape              Param #   \n",
      "=================================================================\n",
      " flatten (Flatten)           (None, 784)               0         \n",
      "                                                                 \n",
      " dense (Dense)               (None, 300)               235500    \n",
      "                                                                 \n",
      " dense_1 (Dense)             (None, 100)               30100     \n",
      "                                                                 \n",
      " dense_2 (Dense)             (None, 10)                1010      \n",
      "                                                                 \n",
      "=================================================================\n",
      "Total params: 266610 (1.02 MB)\n",
      "Trainable params: 266610 (1.02 MB)\n",
      "Non-trainable params: 0 (0.00 Byte)\n",
      "_________________________________________________________________\n"
     ]
    }
   ],
   "source": [
    "model.summary()"
   ],
   "metadata": {
    "collapsed": false,
    "ExecuteTime": {
     "end_time": "2024-02-25T18:10:55.384488700Z",
     "start_time": "2024-02-25T18:10:55.226402500Z"
    }
   },
   "id": "3ab1d2f88b356a90",
   "execution_count": 446
  },
  {
   "cell_type": "markdown",
   "source": [
    "Note that Dense layers often have a lot of parameters. For example, the first hidden layer has 784 × 300 connection weights, plus 300 bias terms, which adds up to 235,500 parameters! This gives the model quite a lot of flexibility to fit the training data, but it also means that the model runs the risk of overfitting, especially when you do not have a lot of training data. We will come back to this later.\n",
    "\n",
    "Each layer in a model must have a unique name (e.g., \"dense_2\"). You can set the layer names explicitly using the constructor’s name argument, but generally it’s simpler to let Keras name the layers automatically, as we just did. Keras takes the layer’s class name and converts it to snake case (e.g., a layer from the MyCoolLayer class is named \"my_cool_layer\" by default). Keras also ensures that the name is globally unique, even across models, by appending an index if needed, as in \"dense_2\". But why does it bother making the names unique across models? Well, this makes it possible to merge models easily without getting name conflicts."
   ],
   "metadata": {
    "collapsed": false
   },
   "id": "ebd82be083516fc4"
  },
  {
   "cell_type": "markdown",
   "source": [
    "TIP\n",
    "All global state managed by Keras is stored in a Keras session, which you can clear using tf.keras.backend.clear_session(). In particular, this resets the name counters."
   ],
   "metadata": {
    "collapsed": false
   },
   "id": "c316f7030539c1bf"
  },
  {
   "cell_type": "code",
   "outputs": [
    {
     "data": {
      "image/png": "[encoded data removed]",
      "text/plain": "<IPython.core.display.Image object>"
     },
     "execution_count": 447,
     "metadata": {},
     "output_type": "execute_result"
    }
   ],
   "source": [
    "# extra code – another way to display the model's architecture\n",
    "tf.keras.utils.plot_model(model, \"../images/my_fashion_mnist_model.png\", show_shapes=True)"
   ],
   "metadata": {
    "collapsed": false,
    "ExecuteTime": {
     "end_time": "2024-02-25T18:10:55.662974500Z",
     "start_time": "2024-02-25T18:10:55.236411800Z"
    }
   },
   "id": "9df226773054f85",
   "execution_count": 447
  },
  {
   "cell_type": "markdown",
   "source": [
    "You can easily get a model’s list of layers using the layers attribute, or use the get_layer() method to access a layer by name:"
   ],
   "metadata": {
    "collapsed": false
   },
   "id": "6ef9b325d1eb6e01"
  },
  {
   "cell_type": "code",
   "outputs": [
    {
     "data": {
      "text/plain": "[<keras.src.layers.reshaping.flatten.Flatten at 0x23432f10250>,\n <keras.src.layers.core.dense.Dense at 0x234363f07d0>,\n <keras.src.layers.core.dense.Dense at 0x233b2af2550>,\n <keras.src.layers.core.dense.Dense at 0x233b28f9650>]"
     },
     "execution_count": 448,
     "metadata": {},
     "output_type": "execute_result"
    }
   ],
   "source": [
    "model.layers"
   ],
   "metadata": {
    "collapsed": false,
    "ExecuteTime": {
     "end_time": "2024-02-25T18:10:55.687919Z",
     "start_time": "2024-02-25T18:10:55.444975200Z"
    }
   },
   "id": "15b2ce1846269de7",
   "execution_count": 448
  },
  {
   "cell_type": "code",
   "outputs": [],
   "source": [
    "hidden1 = model.layers[1]"
   ],
   "metadata": {
    "collapsed": false,
    "ExecuteTime": {
     "end_time": "2024-02-25T18:10:55.707859700Z",
     "start_time": "2024-02-25T18:10:55.448739500Z"
    }
   },
   "id": "2dd25c3ab39179db",
   "execution_count": 449
  },
  {
   "cell_type": "code",
   "outputs": [
    {
     "data": {
      "text/plain": "'dense'"
     },
     "execution_count": 450,
     "metadata": {},
     "output_type": "execute_result"
    }
   ],
   "source": [
    "hidden1.name"
   ],
   "metadata": {
    "collapsed": false,
    "ExecuteTime": {
     "end_time": "2024-02-25T18:10:55.720824600Z",
     "start_time": "2024-02-25T18:10:55.451094100Z"
    }
   },
   "id": "7a1dd07cbbc406bb",
   "execution_count": 450
  },
  {
   "cell_type": "code",
   "outputs": [
    {
     "data": {
      "text/plain": "True"
     },
     "execution_count": 451,
     "metadata": {},
     "output_type": "execute_result"
    }
   ],
   "source": [
    "model.get_layer(hidden1.name) is hidden1"
   ],
   "metadata": {
    "collapsed": false,
    "ExecuteTime": {
     "end_time": "2024-02-25T18:10:55.726803Z",
     "start_time": "2024-02-25T18:10:55.455444500Z"
    }
   },
   "id": "24b151dfb154f43d",
   "execution_count": 451
  },
  {
   "cell_type": "markdown",
   "source": [
    "All the parameters of a layer can be accessed using its get_weights() and set_weights() methods. For a Dense layer, this includes both the connection weights and the bias terms:"
   ],
   "metadata": {
    "collapsed": false
   },
   "id": "9087e4579360115e"
  },
  {
   "cell_type": "code",
   "outputs": [
    {
     "data": {
      "text/plain": "array([[-3.3936806e-02, -2.8839409e-02,  1.3028614e-02, ...,\n         2.2811055e-02, -7.4428767e-03, -1.1546724e-02],\n       [-3.3730198e-02, -1.7526757e-02, -4.9442671e-02, ...,\n         4.2776003e-02, -4.3494068e-02, -4.3797135e-02],\n       [ 5.4615572e-02,  5.5824116e-02, -2.5603209e-02, ...,\n        -1.6638640e-02,  1.1695065e-02,  4.4773325e-02],\n       ...,\n       [-3.4263093e-02,  3.2148086e-02, -2.7908988e-02, ...,\n         7.0222706e-02, -7.0348382e-05, -3.8263902e-02],\n       [ 5.6500718e-02, -2.5896750e-02, -6.0554519e-03, ...,\n         2.8343014e-02, -6.6444188e-02, -2.3135625e-02],\n       [-7.1085051e-02,  3.8902380e-02, -1.9356094e-02, ...,\n        -3.2545786e-02, -1.0755345e-02, -3.6758952e-02]], dtype=float32)"
     },
     "execution_count": 452,
     "metadata": {},
     "output_type": "execute_result"
    }
   ],
   "source": [
    "weights, biases = hidden1.get_weights()\n",
    "weights"
   ],
   "metadata": {
    "collapsed": false,
    "ExecuteTime": {
     "end_time": "2024-02-25T18:10:55.736777400Z",
     "start_time": "2024-02-25T18:10:55.459265200Z"
    }
   },
   "id": "4375d9399ef669f4",
   "execution_count": 452
  },
  {
   "cell_type": "code",
   "outputs": [
    {
     "data": {
      "text/plain": "(784, 300)"
     },
     "execution_count": 453,
     "metadata": {},
     "output_type": "execute_result"
    }
   ],
   "source": [
    "weights.shape"
   ],
   "metadata": {
    "collapsed": false,
    "ExecuteTime": {
     "end_time": "2024-02-25T18:10:55.743763Z",
     "start_time": "2024-02-25T18:10:55.469158400Z"
    }
   },
   "id": "d436147fd985742e",
   "execution_count": 453
  },
  {
   "cell_type": "code",
   "outputs": [
    {
     "data": {
      "text/plain": "array([0., 0., 0., 0., 0., 0., 0., 0., 0., 0., 0., 0., 0., 0., 0., 0., 0.,\n       0., 0., 0., 0., 0., 0., 0., 0., 0., 0., 0., 0., 0., 0., 0., 0., 0.,\n       0., 0., 0., 0., 0., 0., 0., 0., 0., 0., 0., 0., 0., 0., 0., 0., 0.,\n       0., 0., 0., 0., 0., 0., 0., 0., 0., 0., 0., 0., 0., 0., 0., 0., 0.,\n       0., 0., 0., 0., 0., 0., 0., 0., 0., 0., 0., 0., 0., 0., 0., 0., 0.,\n       0., 0., 0., 0., 0., 0., 0., 0., 0., 0., 0., 0., 0., 0., 0., 0., 0.,\n       0., 0., 0., 0., 0., 0., 0., 0., 0., 0., 0., 0., 0., 0., 0., 0., 0.,\n       0., 0., 0., 0., 0., 0., 0., 0., 0., 0., 0., 0., 0., 0., 0., 0., 0.,\n       0., 0., 0., 0., 0., 0., 0., 0., 0., 0., 0., 0., 0., 0., 0., 0., 0.,\n       0., 0., 0., 0., 0., 0., 0., 0., 0., 0., 0., 0., 0., 0., 0., 0., 0.,\n       0., 0., 0., 0., 0., 0., 0., 0., 0., 0., 0., 0., 0., 0., 0., 0., 0.,\n       0., 0., 0., 0., 0., 0., 0., 0., 0., 0., 0., 0., 0., 0., 0., 0., 0.,\n       0., 0., 0., 0., 0., 0., 0., 0., 0., 0., 0., 0., 0., 0., 0., 0., 0.,\n       0., 0., 0., 0., 0., 0., 0., 0., 0., 0., 0., 0., 0., 0., 0., 0., 0.,\n       0., 0., 0., 0., 0., 0., 0., 0., 0., 0., 0., 0., 0., 0., 0., 0., 0.,\n       0., 0., 0., 0., 0., 0., 0., 0., 0., 0., 0., 0., 0., 0., 0., 0., 0.,\n       0., 0., 0., 0., 0., 0., 0., 0., 0., 0., 0., 0., 0., 0., 0., 0., 0.,\n       0., 0., 0., 0., 0., 0., 0., 0., 0., 0., 0.], dtype=float32)"
     },
     "execution_count": 454,
     "metadata": {},
     "output_type": "execute_result"
    }
   ],
   "source": [
    "biases"
   ],
   "metadata": {
    "collapsed": false,
    "ExecuteTime": {
     "end_time": "2024-02-25T18:10:55.758700200Z",
     "start_time": "2024-02-25T18:10:55.472986900Z"
    }
   },
   "id": "b359ee7ba41e665c",
   "execution_count": 454
  },
  {
   "cell_type": "code",
   "outputs": [
    {
     "data": {
      "text/plain": "(300,)"
     },
     "execution_count": 455,
     "metadata": {},
     "output_type": "execute_result"
    }
   ],
   "source": [
    "biases.shape"
   ],
   "metadata": {
    "collapsed": false,
    "ExecuteTime": {
     "end_time": "2024-02-25T18:10:55.764702100Z",
     "start_time": "2024-02-25T18:10:55.477375400Z"
    }
   },
   "id": "9719b2e32fc63817",
   "execution_count": 455
  },
  {
   "cell_type": "markdown",
   "source": [
    "Notice that the Dense layer initialized the connection weights randomly (which is needed to break symmetry, as discussed earlier), and the biases were initialized to zeros, which is fine. If you want to use a different initialization method, you can set kernel_initializer (kernel is another name for the matrix of connection weights) or bias_initializer when creating the layer. We’ll discuss initializers further in Chapter 11, and the full list is at https://keras.io/api/layers/initializers."
   ],
   "metadata": {
    "collapsed": false
   },
   "id": "56edbdc52c07ffd8"
  },
  {
   "cell_type": "markdown",
   "source": [
    "NOTE\n",
    "The shape of the weight matrix depends on the number of inputs, which is why we specified the input_shape when creating the model. If you do not specify the input shape, it’s OK: Keras will simply wait until it knows the input shape before it actually builds the model parameters. This will happen either when you feed it some data (e.g., during training), or when you call its build() method. Until the model parameters are built, you will not be able to do certain things, such as display the model summary or save the model. So, if you know the input shape when creating the model, it is best to specify it."
   ],
   "metadata": {
    "collapsed": false
   },
   "id": "ea99f69a8488e44"
  },
  {
   "cell_type": "markdown",
   "source": [
    "# COMPILING THE MODEL\n",
    "After a model is created, you must call its compile() method to specify the loss function and the optimizer to use. Optionally, you can specify a list of extra metrics to compute during training and evaluation:"
   ],
   "metadata": {
    "collapsed": false
   },
   "id": "fd05417fb2733288"
  },
  {
   "cell_type": "code",
   "outputs": [],
   "source": [
    "model.compile(loss=\"sparse_categorical_crossentropy\",\n",
    "              optimizer=\"sgd\",\n",
    "              metrics=[\"accuracy\"])"
   ],
   "metadata": {
    "collapsed": false,
    "ExecuteTime": {
     "end_time": "2024-02-25T18:10:55.772689400Z",
     "start_time": "2024-02-25T18:10:55.480972Z"
    }
   },
   "id": "743854baaee46958",
   "execution_count": 456
  },
  {
   "cell_type": "code",
   "outputs": [],
   "source": [
    "# extra code – this cell is equivalent to the previous cell\n",
    "model.compile(loss=tf.keras.losses.sparse_categorical_crossentropy,\n",
    "              optimizer=tf.keras.optimizers.SGD(),\n",
    "              metrics=[tf.keras.metrics.sparse_categorical_accuracy])"
   ],
   "metadata": {
    "collapsed": false,
    "ExecuteTime": {
     "end_time": "2024-02-25T18:10:55.780637300Z",
     "start_time": "2024-02-25T18:10:55.489130500Z"
    }
   },
   "id": "40426fc7ae000f02",
   "execution_count": 457
  },
  {
   "cell_type": "code",
   "outputs": [
    {
     "data": {
      "text/plain": "array([[1., 0., 0., 0., 0., 0., 0., 0., 0., 0.],\n       [0., 0., 0., 0., 0., 1., 0., 0., 0., 0.],\n       [0., 1., 0., 0., 0., 0., 0., 0., 0., 0.],\n       [1., 0., 0., 0., 0., 0., 0., 0., 0., 0.]], dtype=float32)"
     },
     "execution_count": 458,
     "metadata": {},
     "output_type": "execute_result"
    }
   ],
   "source": [
    "# extra code – shows how to convert class ids to one-hot vectors\n",
    "tf.keras.utils.to_categorical([0, 5, 1, 0], num_classes=10)\n",
    "# Note: it's important to set num_classes when the number of classes is greater than the maximum class id in the sample."
   ],
   "metadata": {
    "collapsed": false,
    "ExecuteTime": {
     "end_time": "2024-02-25T18:10:55.787618700Z",
     "start_time": "2024-02-25T18:10:55.495573400Z"
    }
   },
   "id": "759507443e0828b1",
   "execution_count": 458
  },
  {
   "cell_type": "code",
   "outputs": [
    {
     "data": {
      "text/plain": "array([0, 5, 1, 0], dtype=int64)"
     },
     "execution_count": 459,
     "metadata": {},
     "output_type": "execute_result"
    }
   ],
   "source": [
    "# extra code – shows how to convert one-hot vectors to class ids\n",
    "np.argmax(\n",
    "    [[1., 0., 0., 0., 0., 0., 0., 0., 0., 0.],\n",
    "     [0., 0., 0., 0., 0., 1., 0., 0., 0., 0.],\n",
    "     [0., 1., 0., 0., 0., 0., 0., 0., 0., 0.],\n",
    "     [1., 0., 0., 0., 0., 0., 0., 0., 0., 0.]],\n",
    "    axis=1\n",
    ")"
   ],
   "metadata": {
    "collapsed": false,
    "ExecuteTime": {
     "end_time": "2024-02-25T18:10:55.794599700Z",
     "start_time": "2024-02-25T18:10:55.499352200Z"
    }
   },
   "id": "f2d73bd2c34cac",
   "execution_count": 459
  },
  {
   "cell_type": "markdown",
   "source": [
    "NOTE\n",
    "Using loss=\"sparse_categorical_crossentropy\" is the equivalent of using loss=tf.keras.losses.sparse_categorical_​cross⁠entropy. Similarly, using optimizer=\"sgd\" is the equivalent of using optimizer=tf.keras.optimizers.SGD(), and using metrics=[\"accuracy\"] is the equivalent of using metrics=​[tf.keras.metrics.sparse_categorical_accuracy] (when using this loss). We will use many other losses, optimizers, and metrics in this book; for the full lists, see https://keras.io/api/losses, https://keras.io/api/optimizers, and https://keras.io/api/metrics."
   ],
   "metadata": {
    "collapsed": false
   },
   "id": "51045a46ec0e0d8c"
  },
  {
   "cell_type": "markdown",
   "source": [
    "This code requires explanation. We use the \"sparse_categorical_crossentropy\" loss because we have sparse labels (i.e., for each instance, there is just a target class index, from 0 to 9 in this case), and the classes are exclusive. If instead we had one target probability per class for each instance (such as one-hot vectors, e.g., [0., 0., 0., 1., 0., 0., 0., 0., 0., 0.] to represent class 3), then we would need to use the \"categorical_crossentropy\" loss instead. If we were doing binary classification or multilabel binary classification, then we would use the \"sigmoid\" activation function in the output layer instead of the \"softmax\" activation function, and we would use the \"binary_crossentropy\" loss."
   ],
   "metadata": {
    "collapsed": false
   },
   "id": "c227cd9331d85b2c"
  },
  {
   "cell_type": "markdown",
   "source": [
    "TIP\n",
    "If you want to convert sparse labels (i.e., class indices) to one-hot vector labels, use the tf.keras.utils.to_categorical() function. To go the other way round, use the np.argmax() function with axis=1."
   ],
   "metadata": {
    "collapsed": false
   },
   "id": "3c9c98f7b766c37c"
  },
  {
   "cell_type": "markdown",
   "source": [
    "Regarding the optimizer, \"sgd\" means that we will train the model using stochastic gradient descent. In other words, Keras will perform the backpropagation algorithm described earlier (i.e., reverse-mode autodiff plus gradient descent). We will discuss more efficient optimizers in Chapter 11. They improve gradient descent, not autodiff."
   ],
   "metadata": {
    "collapsed": false
   },
   "id": "4424827d04c9d675"
  },
  {
   "cell_type": "markdown",
   "source": [
    "NOTE\n",
    "When using the SGD optimizer, it is important to tune the learning rate. So, you will generally want to use optimizer=tf.keras. ​opti⁠mizers.SGD(learning_rate=__???__) to set the learning rate, rather than optimizer=\"sgd\", which defaults to a learning rate of 0.01."
   ],
   "metadata": {
    "collapsed": false
   },
   "id": "92ff24856f366d66"
  },
  {
   "cell_type": "markdown",
   "source": [
    "Finally, since this is a classifier, it’s useful to measure its accuracy during training and evaluation, which is why we set metrics=[\"accuracy\"]."
   ],
   "metadata": {
    "collapsed": false
   },
   "id": "9e182dbd9d5f4c45"
  },
  {
   "cell_type": "markdown",
   "source": [
    "# TRAINING AND EVALUATING THE MODEL\n",
    "Now the model is ready to be trained. For this we simply need to call its fit() method:"
   ],
   "metadata": {
    "collapsed": false
   },
   "id": "c6a83703296b75d0"
  },
  {
   "cell_type": "code",
   "outputs": [
    {
     "name": "stdout",
     "output_type": "stream",
     "text": [
      "Epoch 1/30\n",
      "1719/1719 [==============================] - 4s 2ms/step - loss: 0.7179 - sparse_categorical_accuracy: 0.7650 - val_loss: 0.5077 - val_sparse_categorical_accuracy: 0.8278\n",
      "Epoch 2/30\n",
      "1719/1719 [==============================] - 3s 2ms/step - loss: 0.4897 - sparse_categorical_accuracy: 0.8314 - val_loss: 0.4634 - val_sparse_categorical_accuracy: 0.8348\n",
      "Epoch 3/30\n",
      "1719/1719 [==============================] - 3s 2ms/step - loss: 0.4438 - sparse_categorical_accuracy: 0.8450 - val_loss: 0.4259 - val_sparse_categorical_accuracy: 0.8536\n",
      "Epoch 4/30\n",
      "1719/1719 [==============================] - 4s 2ms/step - loss: 0.4188 - sparse_categorical_accuracy: 0.8541 - val_loss: 0.3968 - val_sparse_categorical_accuracy: 0.8636\n",
      "Epoch 5/30\n",
      "1719/1719 [==============================] - 3s 2ms/step - loss: 0.3974 - sparse_categorical_accuracy: 0.8617 - val_loss: 0.3931 - val_sparse_categorical_accuracy: 0.8602\n",
      "Epoch 6/30\n",
      "1719/1719 [==============================] - 3s 2ms/step - loss: 0.3803 - sparse_categorical_accuracy: 0.8665 - val_loss: 0.3935 - val_sparse_categorical_accuracy: 0.8638\n",
      "Epoch 7/30\n",
      "1719/1719 [==============================] - 4s 2ms/step - loss: 0.3675 - sparse_categorical_accuracy: 0.8700 - val_loss: 0.3718 - val_sparse_categorical_accuracy: 0.8708\n",
      "Epoch 8/30\n",
      "1719/1719 [==============================] - 4s 2ms/step - loss: 0.3558 - sparse_categorical_accuracy: 0.8737 - val_loss: 0.3720 - val_sparse_categorical_accuracy: 0.8656\n",
      "Epoch 9/30\n",
      "1719/1719 [==============================] - 4s 2ms/step - loss: 0.3449 - sparse_categorical_accuracy: 0.8778 - val_loss: 0.3492 - val_sparse_categorical_accuracy: 0.8742\n",
      "Epoch 10/30\n",
      "1719/1719 [==============================] - 3s 2ms/step - loss: 0.3349 - sparse_categorical_accuracy: 0.8799 - val_loss: 0.3522 - val_sparse_categorical_accuracy: 0.8768\n",
      "Epoch 11/30\n",
      "1719/1719 [==============================] - 4s 2ms/step - loss: 0.3263 - sparse_categorical_accuracy: 0.8841 - val_loss: 0.3691 - val_sparse_categorical_accuracy: 0.8630\n",
      "Epoch 12/30\n",
      "1719/1719 [==============================] - 4s 2ms/step - loss: 0.3183 - sparse_categorical_accuracy: 0.8861 - val_loss: 0.3497 - val_sparse_categorical_accuracy: 0.8712\n",
      "Epoch 13/30\n",
      "1719/1719 [==============================] - 4s 2ms/step - loss: 0.3106 - sparse_categorical_accuracy: 0.8892 - val_loss: 0.3298 - val_sparse_categorical_accuracy: 0.8810\n",
      "Epoch 14/30\n",
      "1719/1719 [==============================] - 3s 2ms/step - loss: 0.3038 - sparse_categorical_accuracy: 0.8911 - val_loss: 0.3430 - val_sparse_categorical_accuracy: 0.8784\n",
      "Epoch 15/30\n",
      "1719/1719 [==============================] - 3s 2ms/step - loss: 0.2975 - sparse_categorical_accuracy: 0.8946 - val_loss: 0.3376 - val_sparse_categorical_accuracy: 0.8804\n",
      "Epoch 16/30\n",
      "1719/1719 [==============================] - 3s 2ms/step - loss: 0.2907 - sparse_categorical_accuracy: 0.8962 - val_loss: 0.3289 - val_sparse_categorical_accuracy: 0.8788\n",
      "Epoch 17/30\n",
      "1719/1719 [==============================] - 4s 2ms/step - loss: 0.2856 - sparse_categorical_accuracy: 0.8978 - val_loss: 0.3344 - val_sparse_categorical_accuracy: 0.8808\n",
      "Epoch 18/30\n",
      "1719/1719 [==============================] - 3s 2ms/step - loss: 0.2797 - sparse_categorical_accuracy: 0.8993 - val_loss: 0.3246 - val_sparse_categorical_accuracy: 0.8826\n",
      "Epoch 19/30\n",
      "1719/1719 [==============================] - 3s 2ms/step - loss: 0.2750 - sparse_categorical_accuracy: 0.9011 - val_loss: 0.3565 - val_sparse_categorical_accuracy: 0.8660\n",
      "Epoch 20/30\n",
      "1719/1719 [==============================] - 3s 2ms/step - loss: 0.2696 - sparse_categorical_accuracy: 0.9034 - val_loss: 0.3216 - val_sparse_categorical_accuracy: 0.8852\n",
      "Epoch 21/30\n",
      "1719/1719 [==============================] - 3s 2ms/step - loss: 0.2650 - sparse_categorical_accuracy: 0.9046 - val_loss: 0.3182 - val_sparse_categorical_accuracy: 0.8870\n",
      "Epoch 22/30\n",
      "1719/1719 [==============================] - 3s 2ms/step - loss: 0.2600 - sparse_categorical_accuracy: 0.9059 - val_loss: 0.3148 - val_sparse_categorical_accuracy: 0.8868\n",
      "Epoch 23/30\n",
      "1719/1719 [==============================] - 3s 2ms/step - loss: 0.2556 - sparse_categorical_accuracy: 0.9082 - val_loss: 0.3447 - val_sparse_categorical_accuracy: 0.8738\n",
      "Epoch 24/30\n",
      "1719/1719 [==============================] - 3s 2ms/step - loss: 0.2506 - sparse_categorical_accuracy: 0.9103 - val_loss: 0.3195 - val_sparse_categorical_accuracy: 0.8826\n",
      "Epoch 25/30\n",
      "1719/1719 [==============================] - 3s 2ms/step - loss: 0.2464 - sparse_categorical_accuracy: 0.9109 - val_loss: 0.3182 - val_sparse_categorical_accuracy: 0.8836\n",
      "Epoch 26/30\n",
      "1719/1719 [==============================] - 3s 2ms/step - loss: 0.2433 - sparse_categorical_accuracy: 0.9132 - val_loss: 0.3141 - val_sparse_categorical_accuracy: 0.8864\n",
      "Epoch 27/30\n",
      "1719/1719 [==============================] - 4s 2ms/step - loss: 0.2384 - sparse_categorical_accuracy: 0.9133 - val_loss: 0.3292 - val_sparse_categorical_accuracy: 0.8852\n",
      "Epoch 28/30\n",
      "1719/1719 [==============================] - 3s 2ms/step - loss: 0.2354 - sparse_categorical_accuracy: 0.9163 - val_loss: 0.3237 - val_sparse_categorical_accuracy: 0.8870\n",
      "Epoch 29/30\n",
      "1719/1719 [==============================] - 3s 2ms/step - loss: 0.2311 - sparse_categorical_accuracy: 0.9159 - val_loss: 0.3174 - val_sparse_categorical_accuracy: 0.8836\n",
      "Epoch 30/30\n",
      "1719/1719 [==============================] - 3s 2ms/step - loss: 0.2281 - sparse_categorical_accuracy: 0.9184 - val_loss: 0.3141 - val_sparse_categorical_accuracy: 0.8896\n"
     ]
    }
   ],
   "source": [
    "history = model.fit(X_train, y_train, epochs=30,\n",
    "                    validation_data=(X_valid, y_valid))"
   ],
   "metadata": {
    "collapsed": false,
    "ExecuteTime": {
     "end_time": "2024-02-25T18:12:39.243297100Z",
     "start_time": "2024-02-25T18:10:55.503377500Z"
    }
   },
   "id": "61f1719e87aea53b",
   "execution_count": 460
  },
  {
   "cell_type": "markdown",
   "source": [
    "We pass it the input features (X_train) and the target classes (y_train), as well as the number of epochs to train (or else it would default to just 1, which would definitely not be enough to converge to a good solution). We also pass a validation set (this is optional). Keras will measure the loss and the extra metrics on this set at the end of each epoch, which is very useful to see how well the model really performs. If the performance on the training set is much better than on the validation set, your model is probably overfitting the training set, or there is a bug, such as a data mismatch between the training set and the validation set."
   ],
   "metadata": {
    "collapsed": false
   },
   "id": "daa9c1d114b09018"
  },
  {
   "cell_type": "markdown",
   "source": [
    "TIP\n",
    "Shape errors are quite common, especially when getting started, so you should familiarize yourself with the error messages: try fitting a model with inputs and/or labels of the wrong shape, and see the errors you get. Similarly, try compiling the model with loss=\"categorical_crossentropy\" instead of loss=\"sparse_​cat⁠egorical_crossentropy\". Or you can remove the Flatten layer."
   ],
   "metadata": {
    "collapsed": false
   },
   "id": "32fb2f8f94fb9a4d"
  },
  {
   "cell_type": "markdown",
   "source": [
    "And that’s it! The neural network is trained. At each epoch during training, Keras displays the number of mini-batches processed so far on the left side of the progress bar. The batch size is 32 by default, and since the training set has 55,000 images, the model goes through 1,719 batches per epoch: 1,718 of size 32, and 1 of size 24. After the progress bar, you can see the mean training time per sample, and the loss and accuracy (or any other extra metrics you asked for) on both the training set and the validation set. Notice that the training loss went down, which is a good sign, and the validation accuracy reached 88.94% after 30 epochs. That’s slightly below the training accuracy, so there is a little bit of overfitting going on, but not a huge amount."
   ],
   "metadata": {
    "collapsed": false
   },
   "id": "40c498c77fe46b80"
  },
  {
   "cell_type": "markdown",
   "source": [
    "TIP\n",
    "Instead of passing a validation set using the validation_data argument, you could set validation_split to the ratio of the training set that you want Keras to use for validation. For example, validation_split=0.1 tells Keras to use the last 10% of the data (before shuffling) for validation."
   ],
   "metadata": {
    "collapsed": false
   },
   "id": "8c9e8111900fdab9"
  },
  {
   "cell_type": "markdown",
   "source": [
    "If the training set was very skewed, with some classes being overrepresented and others underrepresented, it would be useful to set the class_weight argument when calling the fit() method, to give a larger weight to underrepresented classes and a lower weight to overrepresented classes. These weights would be used by Keras when computing the loss. If you need per-instance weights, set the sample_weight argument. If both class_weight and sample_weight are provided, then Keras multiplies them. Per-instance weights could be useful, for example, if some instances were labeled by experts while others were labeled using a crowdsourcing platform: you might want to give more weight to the former. You can also provide sample weights (but not class weights) for the validation set by adding them as a third item in the validation_data tuple.\n",
    "\n",
    "The fit() method returns a History object containing the training parameters (history.params), the list of epochs it went through (history.epoch), and most importantly a dictionary (history.history) containing the loss and extra metrics it measured at the end of each epoch on the training set and on the validation set (if any). If you use this dictionary to create a Pandas DataFrame and call its plot() method, you get the learning curves shown in Figure 10-11:"
   ],
   "metadata": {
    "collapsed": false
   },
   "id": "39605959d148ba2b"
  },
  {
   "cell_type": "code",
   "outputs": [
    {
     "data": {
      "text/plain": "{'verbose': 1, 'epochs': 30, 'steps': 1719}"
     },
     "execution_count": 461,
     "metadata": {},
     "output_type": "execute_result"
    }
   ],
   "source": [
    "history.params"
   ],
   "metadata": {
    "collapsed": false,
    "ExecuteTime": {
     "end_time": "2024-02-25T18:12:39.262104700Z",
     "start_time": "2024-02-25T18:12:39.240307Z"
    }
   },
   "id": "2244773e4364baa3",
   "execution_count": 461
  },
  {
   "cell_type": "code",
   "outputs": [
    {
     "name": "stdout",
     "output_type": "stream",
     "text": [
      "[0, 1, 2, 3, 4, 5, 6, 7, 8, 9, 10, 11, 12, 13, 14, 15, 16, 17, 18, 19, 20, 21, 22, 23, 24, 25, 26, 27, 28, 29]\n"
     ]
    }
   ],
   "source": [
    "print(history.epoch)"
   ],
   "metadata": {
    "collapsed": false,
    "ExecuteTime": {
     "end_time": "2024-02-25T18:12:39.271081Z",
     "start_time": "2024-02-25T18:12:39.245293200Z"
    }
   },
   "id": "cb6714c60c5afdc1",
   "execution_count": 462
  },
  {
   "cell_type": "code",
   "outputs": [
    {
     "data": {
      "text/plain": "<Figure size 800x500 with 1 Axes>",
      "image/png": "[encoded data removed]"
     },
     "metadata": {},
     "output_type": "display_data"
    }
   ],
   "source": [
    "import matplotlib.pyplot as plt\n",
    "import pandas as pd\n",
    "\n",
    "pd.DataFrame(history.history).plot(\n",
    "    figsize=(8, 5), xlim=[0, 29], ylim=[0, 1], grid=True, xlabel=\"Epoch\",\n",
    "    style=[\"r--\", \"r--.\", \"b-\", \"b-*\"])\n",
    "plt.legend(loc=\"lower left\")  # extra code\n",
    "plt.show()\n",
    "\n",
    "# Figure 10-11. Learning curves: the mean training loss and accuracy measured over each epoch, and the mean validation loss and accuracy measured at the end of each epoch"
   ],
   "metadata": {
    "collapsed": false,
    "ExecuteTime": {
     "end_time": "2024-02-25T18:12:39.442257200Z",
     "start_time": "2024-02-25T18:12:39.250137100Z"
    }
   },
   "id": "12ec6e88ca06a77a",
   "execution_count": 463
  },
  {
   "cell_type": "code",
   "outputs": [
    {
     "data": {
      "text/plain": "<Figure size 800x500 with 1 Axes>",
      "image/png": "[encoded data removed]"
     },
     "metadata": {},
     "output_type": "display_data"
    }
   ],
   "source": [
    "# extra code – shows how to shift the training curve by -1/2 epoch\n",
    "plt.figure(figsize=(8, 5))\n",
    "for key, style in zip(history.history, [\"r--\", \"r--.\", \"b-\", \"b-*\"]):\n",
    "    epochs = np.array(history.epoch) + (0 if key.startswith(\"val_\") else -0.5)\n",
    "    plt.plot(epochs, history.history[key], style, label=key)\n",
    "plt.xlabel(\"Epoch\")\n",
    "plt.axis([-0.5, 29, 0., 1])\n",
    "plt.legend(loc=\"lower left\")\n",
    "plt.grid()\n",
    "plt.show()"
   ],
   "metadata": {
    "collapsed": false,
    "ExecuteTime": {
     "end_time": "2024-02-25T18:12:39.556530200Z",
     "start_time": "2024-02-25T18:12:39.381420300Z"
    }
   },
   "id": "5f1fb2c7e7c8b83",
   "execution_count": 464
  },
  {
   "cell_type": "markdown",
   "source": [
    "You can see that both the training accuracy and the validation accuracy steadily increase during training, while the training loss and the validation loss decrease. This is good. The validation curves are relatively close to each other at first, but they get further apart over time, which shows that there’s a little bit of overfitting. In this particular case, the model looks like it performed better on the validation set than on the training set at the beginning of training, but that’s not actually the case. The validation error is computed at the end of each epoch, while the training error is computed using a running mean during each epoch, so the training curve should be shifted by half an epoch to the left. If you do that, you will see that the training and validation curves overlap almost perfectly at the beginning of training.\n",
    "\n",
    "The training set performance ends up beating the validation performance, as is generally the case when you train for long enough. You can tell that the model has not quite converged yet, as the validation loss is still going down, so you should probably continue training. This is as simple as calling the fit() method again, since Keras just continues training where it left off: you should be able to reach about 89.8% validation accuracy, while the training accuracy will continue to rise up to 100% (this is not always the case).\n",
    "\n",
    "If you are not satisfied with the performance of your model, you should go back and tune the hyperparameters. The first one to check is the learning rate. If that doesn’t help, try another optimizer (and always retune the learning rate after changing any hyperparameter). If the performance is still not great, then try tuning model hyperparameters such as the number of layers, the number of neurons per layer, and the types of activation functions to use for each hidden layer. You can also try tuning other hyperparameters, such as the batch size (it can be set in the fit() method using the batch_size argument, which defaults to 32). We will get back to hyperparameter tuning at the end of this chapter. Once you are satisfied with your model’s validation accuracy, you should evaluate it on the test set to estimate the generalization error before you deploy the model to production. You can easily do this using the evaluate() method (it also supports several other arguments, such as batch_size and sample_weight; please check the documentation for more details):"
   ],
   "metadata": {
    "collapsed": false
   },
   "id": "5297c5e1489d4aeb"
  },
  {
   "cell_type": "code",
   "outputs": [
    {
     "name": "stdout",
     "output_type": "stream",
     "text": [
      "313/313 [==============================] - 1s 2ms/step - loss: 0.3302 - sparse_categorical_accuracy: 0.8832\n"
     ]
    },
    {
     "data": {
      "text/plain": "[0.3302258849143982, 0.8831999897956848]"
     },
     "execution_count": 465,
     "metadata": {},
     "output_type": "execute_result"
    }
   ],
   "source": [
    "model.evaluate(X_test, y_test)"
   ],
   "metadata": {
    "collapsed": false,
    "ExecuteTime": {
     "end_time": "2024-02-25T18:12:40.153120500Z",
     "start_time": "2024-02-25T18:12:39.512647800Z"
    }
   },
   "id": "f4c20e239cff292d",
   "execution_count": 465
  },
  {
   "cell_type": "markdown",
   "source": [
    "As you saw in Chapter 2, it is common to get slightly lower performance on the test set than on the validation set, because the hyperparameters are tuned on the validation set, not the test set (however, in this example, we did not do any hyperparameter tuning, so the lower accuracy is just bad luck). Remember to resist the temptation to tweak the hyperparameters on the test set, or else your estimate of the generalization error will be too optimistic."
   ],
   "metadata": {
    "collapsed": false
   },
   "id": "354900817d303ad3"
  },
  {
   "cell_type": "markdown",
   "source": [
    "# USING THE MODEL TO MAKE PREDICTIONS\n",
    "Now let’s use the model’s predict() method to make predictions on new instances. Since we don’t have actual new instances, we’ll just use the first three instances of the test set:"
   ],
   "metadata": {
    "collapsed": false
   },
   "id": "a6e1b8ab32ff85f6"
  },
  {
   "cell_type": "code",
   "outputs": [
    {
     "name": "stdout",
     "output_type": "stream",
     "text": [
      "1/1 [==============================] - 0s 39ms/step\n"
     ]
    },
    {
     "data": {
      "text/plain": "array([[0.  , 0.  , 0.  , 0.  , 0.  , 0.01, 0.  , 0.03, 0.  , 0.96],\n       [0.  , 0.  , 1.  , 0.  , 0.  , 0.  , 0.  , 0.  , 0.  , 0.  ],\n       [0.  , 1.  , 0.  , 0.  , 0.  , 0.  , 0.  , 0.  , 0.  , 0.  ]],\n      dtype=float32)"
     },
     "execution_count": 466,
     "metadata": {},
     "output_type": "execute_result"
    }
   ],
   "source": [
    "X_new = X_test[:3]\n",
    "y_proba = model.predict(X_new)\n",
    "y_proba.round(2)"
   ],
   "metadata": {
    "collapsed": false,
    "ExecuteTime": {
     "end_time": "2024-02-25T18:12:40.177525600Z",
     "start_time": "2024-02-25T18:12:40.104227500Z"
    }
   },
   "id": "1e9e04ce06d31474",
   "execution_count": 466
  },
  {
   "cell_type": "markdown",
   "source": [
    "For each instance the model estimates one probability per class, from class 0 to class 9. This is similar to the output of the predict_proba() method in Scikit-Learn classifiers. For example, for the first image it estimates that the probability of class 9 (ankle boot) is 96%, the probability of class 7 (sneaker) is 2%, the probability of class 5 (sandal) is 1%, and the probabilities of the other classes are negligible. In other words, it is highly confident that the first image is footwear, most likely ankle boots but possibly sneakers or sandals. If you only care about the class with the highest estimated probability (even if that probability is quite low), then you can use the argmax() method to get the highest probability class index for each instance:"
   ],
   "metadata": {
    "collapsed": false
   },
   "id": "b6a85a2f74344b54"
  },
  {
   "cell_type": "code",
   "outputs": [
    {
     "data": {
      "text/plain": "array([9, 2, 1], dtype=int64)"
     },
     "execution_count": 467,
     "metadata": {},
     "output_type": "execute_result"
    }
   ],
   "source": [
    "import numpy as np\n",
    "\n",
    "y_pred = y_proba.argmax(axis=-1)\n",
    "y_pred"
   ],
   "metadata": {
    "collapsed": false,
    "ExecuteTime": {
     "end_time": "2024-02-25T18:12:40.321359600Z",
     "start_time": "2024-02-25T18:12:40.175995100Z"
    }
   },
   "id": "24d202caff095119",
   "execution_count": 467
  },
  {
   "cell_type": "code",
   "outputs": [
    {
     "data": {
      "text/plain": "array(['Ankle boot', 'Pullover', 'Trouser'], dtype='<U11')"
     },
     "execution_count": 468,
     "metadata": {},
     "output_type": "execute_result"
    }
   ],
   "source": [
    "np.array(class_names)[y_pred]"
   ],
   "metadata": {
    "collapsed": false,
    "ExecuteTime": {
     "end_time": "2024-02-25T18:12:40.346270100Z",
     "start_time": "2024-02-25T18:12:40.179028200Z"
    }
   },
   "id": "aaa57ddaf046f1dd",
   "execution_count": 468
  },
  {
   "cell_type": "markdown",
   "source": [
    "Here, the classifier actually classified all three images correctly (these images are shown in Figure 10-12):"
   ],
   "metadata": {
    "collapsed": false
   },
   "id": "e0daec63209ba9ce"
  },
  {
   "cell_type": "code",
   "outputs": [
    {
     "data": {
      "text/plain": "array([9, 2, 1], dtype=uint8)"
     },
     "execution_count": 469,
     "metadata": {},
     "output_type": "execute_result"
    }
   ],
   "source": [
    "y_new = y_test[:3]\n",
    "y_new"
   ],
   "metadata": {
    "collapsed": false,
    "ExecuteTime": {
     "end_time": "2024-02-25T18:12:40.361257400Z",
     "start_time": "2024-02-25T18:12:40.183170600Z"
    }
   },
   "id": "32e975fb4ea1aa85",
   "execution_count": 469
  },
  {
   "cell_type": "code",
   "outputs": [
    {
     "data": {
      "text/plain": "<Figure size 720x240 with 3 Axes>",
      "image/png": "[encoded data removed]"
     },
     "metadata": {},
     "output_type": "display_data"
    }
   ],
   "source": [
    "# extra code – this cell generates and saves Figure 10–12\n",
    "plt.figure(figsize=(7.2, 2.4))\n",
    "for index, image in enumerate(X_new):\n",
    "    plt.subplot(1, 3, index + 1)\n",
    "    plt.imshow(image, cmap=\"binary\", interpolation=\"nearest\")\n",
    "    plt.axis('off')\n",
    "    plt.title(class_names[y_test[index]])\n",
    "plt.subplots_adjust(wspace=0.2, hspace=0.5)\n",
    "plt.show()\n",
    "\n",
    "# Figure 10-12. Correctly classified Fashion MNIST images"
   ],
   "metadata": {
    "collapsed": false,
    "ExecuteTime": {
     "end_time": "2024-02-25T18:12:40.376189600Z",
     "start_time": "2024-02-25T18:12:40.187097Z"
    }
   },
   "id": "5d747bac5765ab6d",
   "execution_count": 470
  },
  {
   "cell_type": "markdown",
   "source": [
    "Now you know how to use the sequential API to build, train, and evaluate a classification MLP. But what about regression?"
   ],
   "metadata": {
    "collapsed": false
   },
   "id": "4d9a91fb18f93d45"
  },
  {
   "cell_type": "markdown",
   "source": [
    "# BUILDING A REGRESSION MLP USING THE SEQUENTIAL API\n",
    "Let’s switch back to the California housing problem and tackle it using the same MLP as earlier, with 3 hidden layers composed of 50 neurons each, but this time building it with Keras.\n",
    "\n",
    "Using the sequential API to build, train, evaluate, and use a regression MLP is quite similar to what we did for classification. The main differences in the following code example are the fact that the output layer has a single neuron (since we only want to predict a single value) and it uses no activation function, the loss function is the mean squared error, the metric is the RMSE, and we’re using an Adam optimizer like Scikit-Learn’s MLPRegressor did. Moreover, in this example we don’t need a Flatten layer, and instead we’re using a Normalization layer as the first layer: it does the same thing as Scikit-Learn’s StandardScaler, but it must be fitted to the training data using its adapt() method before you call the model’s fit() method. (Keras has other preprocessing layers, which will be covered in Chapter 13). Let’s take a look:"
   ],
   "metadata": {
    "collapsed": false
   },
   "id": "b6fbee826cdaf95c"
  },
  {
   "cell_type": "code",
   "outputs": [],
   "source": [
    "\n",
    "# extra code – load and split the California housing dataset, like earlier\n",
    "housing = fetch_california_housing()\n",
    "X_train_full, X_test, y_train_full, y_test = train_test_split(\n",
    "    housing.data, housing.target, random_state=42)\n",
    "X_train, X_valid, y_train, y_valid = train_test_split(\n",
    "    X_train_full, y_train_full, random_state=42)"
   ],
   "metadata": {
    "collapsed": false,
    "ExecuteTime": {
     "end_time": "2024-02-25T18:12:40.471934100Z",
     "start_time": "2024-02-25T18:12:40.283939800Z"
    }
   },
   "id": "c7af7a679c0ad347",
   "execution_count": 471
  },
  {
   "cell_type": "code",
   "outputs": [
    {
     "name": "stdout",
     "output_type": "stream",
     "text": [
      "Epoch 1/20\n",
      "363/363 [==============================] - 1s 1ms/step - loss: 0.8683 - root_mean_squared_error: 0.9318 - val_loss: 0.5063 - val_root_mean_squared_error: 0.7115\n",
      "Epoch 2/20\n",
      "363/363 [==============================] - 0s 1ms/step - loss: 0.3833 - root_mean_squared_error: 0.6191 - val_loss: 0.4868 - val_root_mean_squared_error: 0.6977\n",
      "Epoch 3/20\n",
      "363/363 [==============================] - 0s 1ms/step - loss: 0.3605 - root_mean_squared_error: 0.6004 - val_loss: 0.3983 - val_root_mean_squared_error: 0.6311\n",
      "Epoch 4/20\n",
      "363/363 [==============================] - 0s 1ms/step - loss: 0.3452 - root_mean_squared_error: 0.5875 - val_loss: 0.3463 - val_root_mean_squared_error: 0.5884\n",
      "Epoch 5/20\n",
      "363/363 [==============================] - 0s 1ms/step - loss: 0.3341 - root_mean_squared_error: 0.5780 - val_loss: 0.3769 - val_root_mean_squared_error: 0.6140\n",
      "Epoch 6/20\n",
      "363/363 [==============================] - 0s 1ms/step - loss: 0.3223 - root_mean_squared_error: 0.5677 - val_loss: 0.3028 - val_root_mean_squared_error: 0.5502\n",
      "Epoch 7/20\n",
      "363/363 [==============================] - 0s 1ms/step - loss: 0.3177 - root_mean_squared_error: 0.5636 - val_loss: 0.3001 - val_root_mean_squared_error: 0.5478\n",
      "Epoch 8/20\n",
      "363/363 [==============================] - 0s 1ms/step - loss: 0.3062 - root_mean_squared_error: 0.5533 - val_loss: 0.4081 - val_root_mean_squared_error: 0.6388\n",
      "Epoch 9/20\n",
      "363/363 [==============================] - 0s 1ms/step - loss: 0.3021 - root_mean_squared_error: 0.5497 - val_loss: 0.6823 - val_root_mean_squared_error: 0.8260\n",
      "Epoch 10/20\n",
      "363/363 [==============================] - 0s 1ms/step - loss: 0.3007 - root_mean_squared_error: 0.5483 - val_loss: 1.6960 - val_root_mean_squared_error: 1.3023\n",
      "Epoch 11/20\n",
      "363/363 [==============================] - 0s 1ms/step - loss: 0.2974 - root_mean_squared_error: 0.5454 - val_loss: 0.2984 - val_root_mean_squared_error: 0.5463\n",
      "Epoch 12/20\n",
      "363/363 [==============================] - 0s 1ms/step - loss: 0.2962 - root_mean_squared_error: 0.5443 - val_loss: 0.5350 - val_root_mean_squared_error: 0.7314\n",
      "Epoch 13/20\n",
      "363/363 [==============================] - 0s 1ms/step - loss: 0.2842 - root_mean_squared_error: 0.5331 - val_loss: 0.2772 - val_root_mean_squared_error: 0.5265\n",
      "Epoch 14/20\n",
      "363/363 [==============================] - 0s 1ms/step - loss: 0.2807 - root_mean_squared_error: 0.5298 - val_loss: 0.3086 - val_root_mean_squared_error: 0.5555\n",
      "Epoch 15/20\n",
      "363/363 [==============================] - 0s 1ms/step - loss: 0.2787 - root_mean_squared_error: 0.5279 - val_loss: 0.2757 - val_root_mean_squared_error: 0.5251\n",
      "Epoch 16/20\n",
      "363/363 [==============================] - 0s 1ms/step - loss: 0.2759 - root_mean_squared_error: 0.5253 - val_loss: 0.2821 - val_root_mean_squared_error: 0.5311\n",
      "Epoch 17/20\n",
      "363/363 [==============================] - 0s 1ms/step - loss: 0.2751 - root_mean_squared_error: 0.5245 - val_loss: 0.3724 - val_root_mean_squared_error: 0.6102\n",
      "Epoch 18/20\n",
      "363/363 [==============================] - 0s 1ms/step - loss: 0.2739 - root_mean_squared_error: 0.5233 - val_loss: 0.2700 - val_root_mean_squared_error: 0.5196\n",
      "Epoch 19/20\n",
      "363/363 [==============================] - 0s 1ms/step - loss: 0.2690 - root_mean_squared_error: 0.5186 - val_loss: 0.3185 - val_root_mean_squared_error: 0.5643\n",
      "Epoch 20/20\n",
      "363/363 [==============================] - 0s 1ms/step - loss: 0.2680 - root_mean_squared_error: 0.5177 - val_loss: 0.2771 - val_root_mean_squared_error: 0.5264\n",
      "162/162 [==============================] - 0s 638us/step - loss: 0.2830 - root_mean_squared_error: 0.5319\n",
      "1/1 [==============================] - 0s 44ms/step\n"
     ]
    }
   ],
   "source": [
    "tf.random.set_seed(42)\n",
    "norm_layer = tf.keras.layers.Normalization(input_shape=X_train.shape[1:])\n",
    "model = tf.keras.Sequential([\n",
    "    norm_layer,\n",
    "    tf.keras.layers.Dense(50, activation=\"relu\"),\n",
    "    tf.keras.layers.Dense(50, activation=\"relu\"),\n",
    "    tf.keras.layers.Dense(50, activation=\"relu\"),\n",
    "    tf.keras.layers.Dense(1)\n",
    "])\n",
    "optimizer = tf.keras.optimizers.Adam(learning_rate=1e-3)\n",
    "model.compile(loss=\"mse\", optimizer=optimizer, metrics=[\"RootMeanSquaredError\"])\n",
    "norm_layer.adapt(X_train)\n",
    "history = model.fit(X_train, y_train, epochs=20,\n",
    "                    validation_data=(X_valid, y_valid))\n",
    "mse_test, rmse_test = model.evaluate(X_test, y_test)\n",
    "X_new = X_test[:3]\n",
    "y_pred = model.predict(X_new)"
   ],
   "metadata": {
    "collapsed": false,
    "ExecuteTime": {
     "end_time": "2024-02-25T18:12:49.291795700Z",
     "start_time": "2024-02-25T18:12:40.317355400Z"
    }
   },
   "id": "d3c0be8b50e97674",
   "execution_count": 472
  },
  {
   "cell_type": "code",
   "outputs": [
    {
     "data": {
      "text/plain": "0.5319495797157288"
     },
     "execution_count": 473,
     "metadata": {},
     "output_type": "execute_result"
    }
   ],
   "source": [
    "rmse_test"
   ],
   "metadata": {
    "collapsed": false,
    "ExecuteTime": {
     "end_time": "2024-02-25T18:12:49.308283500Z",
     "start_time": "2024-02-25T18:12:49.289296400Z"
    }
   },
   "id": "e7a428a1c7c53011",
   "execution_count": 473
  },
  {
   "cell_type": "code",
   "outputs": [
    {
     "data": {
      "text/plain": "array([[0.522797 ],\n       [0.9739089],\n       [4.8980255]], dtype=float32)"
     },
     "execution_count": 474,
     "metadata": {},
     "output_type": "execute_result"
    }
   ],
   "source": [
    "y_pred"
   ],
   "metadata": {
    "collapsed": false,
    "ExecuteTime": {
     "end_time": "2024-02-25T18:12:49.324221600Z",
     "start_time": "2024-02-25T18:12:49.290798100Z"
    }
   },
   "id": "4e88be37fd4dc5d6",
   "execution_count": 474
  },
  {
   "cell_type": "markdown",
   "source": [
    "NOTE\n",
    "The Normalization layer learns the feature means and standard deviations in the training data when you call the adapt() method. Yet when you display the model’s summary, these statistics are listed as non-trainable. This is because these parameters are not affected by gradient descent."
   ],
   "metadata": {
    "collapsed": false
   },
   "id": "27e0035fa581f7e0"
  },
  {
   "cell_type": "markdown",
   "source": [
    "As you can see, the sequential API is quite clean and straightforward. However, although Sequential models are extremely common, it is sometimes useful to build neural networks with more complex topologies, or with multiple inputs or outputs. For this purpose, Keras offers the functional API."
   ],
   "metadata": {
    "collapsed": false
   },
   "id": "961e512adb6cb266"
  },
  {
   "cell_type": "markdown",
   "source": [
    "# BUILDING COMPLEX MODELS USING THE FUNCTIONAL API\n",
    "One example of a nonsequential neural network is a Wide & Deep neural network. This neural network architecture was introduced in a 2016 paper by Heng-Tze Cheng et al. It connects all or part of the inputs directly to the output layer, as shown in Figure 10-13. This architecture makes it possible for the neural network to learn both deep patterns (using the deep path) and simple rules (through the short path). In contrast, a regular MLP forces all the data to flow through the full stack of layers; thus, simple patterns in the data may end up being distorted by this sequence of transformations."
   ],
   "metadata": {
    "collapsed": false
   },
   "id": "1c0c2eeabfdce778"
  },
  {
   "cell_type": "markdown",
   "source": [
    "Figure 10-13. A Wide & Deep neural network\n",
    "![wide_and_deep_NN](../images/wide_and_deep_NN.png)\n"
   ],
   "metadata": {
    "collapsed": false
   },
   "id": "b481e8de404c40db"
  },
  {
   "cell_type": "markdown",
   "source": [
    "Let’s build such a neural network to tackle the California housing problem. "
   ],
   "metadata": {
    "collapsed": false
   },
   "id": "8bd8f6902ec6a15d"
  },
  {
   "cell_type": "code",
   "outputs": [],
   "source": [
    "# extra code – reset the name counters and make the code reproducible\n",
    "tf.keras.backend.clear_session()\n",
    "tf.random.set_seed(42)"
   ],
   "metadata": {
    "collapsed": false,
    "ExecuteTime": {
     "end_time": "2024-02-25T18:12:49.338206900Z",
     "start_time": "2024-02-25T18:12:49.295761900Z"
    }
   },
   "id": "50267178b5bfe8f1",
   "execution_count": 475
  },
  {
   "cell_type": "code",
   "outputs": [],
   "source": [
    "normalization_layer = tf.keras.layers.Normalization()\n",
    "hidden_layer1 = tf.keras.layers.Dense(30, activation=\"relu\")\n",
    "hidden_layer2 = tf.keras.layers.Dense(30, activation=\"relu\")\n",
    "concat_layer = tf.keras.layers.Concatenate()\n",
    "output_layer = tf.keras.layers.Dense(1)\n",
    "\n",
    "input_ = tf.keras.layers.Input(shape=X_train.shape[1:])\n",
    "normalized = normalization_layer(input_)\n",
    "hidden1 = hidden_layer1(normalized)\n",
    "hidden2 = hidden_layer2(hidden1)\n",
    "concat = concat_layer([normalized, hidden2])\n",
    "output = output_layer(concat)\n",
    "\n",
    "model = tf.keras.Model(inputs=[input_], outputs=[output])"
   ],
   "metadata": {
    "collapsed": false,
    "ExecuteTime": {
     "end_time": "2024-02-25T18:12:49.469964100Z",
     "start_time": "2024-02-25T18:12:49.306270100Z"
    }
   },
   "id": "5b06251eb159f142",
   "execution_count": 476
  },
  {
   "cell_type": "code",
   "outputs": [
    {
     "name": "stdout",
     "output_type": "stream",
     "text": [
      "Model: \"model\"\n",
      "__________________________________________________________________________________________________\n",
      " Layer (type)                Output Shape                 Param #   Connected to                  \n",
      "==================================================================================================\n",
      " input_1 (InputLayer)        [(None, 8)]                  0         []                            \n",
      "                                                                                                  \n",
      " normalization (Normalizati  (None, 8)                    17        ['input_1[0][0]']             \n",
      " on)                                                                                              \n",
      "                                                                                                  \n",
      " dense (Dense)               (None, 30)                   270       ['normalization[0][0]']       \n",
      "                                                                                                  \n",
      " dense_1 (Dense)             (None, 30)                   930       ['dense[0][0]']               \n",
      "                                                                                                  \n",
      " concatenate (Concatenate)   (None, 38)                   0         ['normalization[0][0]',       \n",
      "                                                                     'dense_1[0][0]']             \n",
      "                                                                                                  \n",
      " dense_2 (Dense)             (None, 1)                    39        ['concatenate[0][0]']         \n",
      "                                                                                                  \n",
      "==================================================================================================\n",
      "Total params: 1256 (4.91 KB)\n",
      "Trainable params: 1239 (4.84 KB)\n",
      "Non-trainable params: 17 (72.00 Byte)\n",
      "__________________________________________________________________________________________________\n"
     ]
    }
   ],
   "source": [
    "model.summary()"
   ],
   "metadata": {
    "collapsed": false,
    "ExecuteTime": {
     "end_time": "2024-02-25T18:12:49.479915500Z",
     "start_time": "2024-02-25T18:12:49.352647100Z"
    }
   },
   "id": "4c20f30a835a24e0",
   "execution_count": 477
  },
  {
   "cell_type": "code",
   "outputs": [
    {
     "name": "stdout",
     "output_type": "stream",
     "text": [
      "Epoch 1/20\n",
      "363/363 [==============================] - 1s 2ms/step - loss: 1.2079 - root_mean_squared_error: 1.0991 - val_loss: 1.7577 - val_root_mean_squared_error: 1.3258\n",
      "Epoch 2/20\n",
      "363/363 [==============================] - 0s 1ms/step - loss: 0.4538 - root_mean_squared_error: 0.6736 - val_loss: 1.1409 - val_root_mean_squared_error: 1.0681\n",
      "Epoch 3/20\n",
      "363/363 [==============================] - 0s 1ms/step - loss: 0.4033 - root_mean_squared_error: 0.6351 - val_loss: 0.4317 - val_root_mean_squared_error: 0.6571\n",
      "Epoch 4/20\n",
      "363/363 [==============================] - 0s 1ms/step - loss: 0.3708 - root_mean_squared_error: 0.6089 - val_loss: 0.6621 - val_root_mean_squared_error: 0.8137\n",
      "Epoch 5/20\n",
      "363/363 [==============================] - 0s 1ms/step - loss: 0.3633 - root_mean_squared_error: 0.6028 - val_loss: 1.9726 - val_root_mean_squared_error: 1.4045\n",
      "Epoch 6/20\n",
      "363/363 [==============================] - 0s 992us/step - loss: 0.3669 - root_mean_squared_error: 0.6057 - val_loss: 4.0285 - val_root_mean_squared_error: 2.0071\n",
      "Epoch 7/20\n",
      "363/363 [==============================] - 0s 1ms/step - loss: 0.3796 - root_mean_squared_error: 0.6161 - val_loss: 3.2155 - val_root_mean_squared_error: 1.7932\n",
      "Epoch 8/20\n",
      "363/363 [==============================] - 0s 1ms/step - loss: 0.3552 - root_mean_squared_error: 0.5960 - val_loss: 3.7610 - val_root_mean_squared_error: 1.9393\n",
      "Epoch 9/20\n",
      "363/363 [==============================] - 0s 975us/step - loss: 0.3520 - root_mean_squared_error: 0.5933 - val_loss: 2.1465 - val_root_mean_squared_error: 1.4651\n",
      "Epoch 10/20\n",
      "363/363 [==============================] - 0s 962us/step - loss: 0.3485 - root_mean_squared_error: 0.5904 - val_loss: 1.7062 - val_root_mean_squared_error: 1.3062\n",
      "Epoch 11/20\n",
      "363/363 [==============================] - 0s 948us/step - loss: 0.3323 - root_mean_squared_error: 0.5765 - val_loss: 0.4484 - val_root_mean_squared_error: 0.6696\n",
      "Epoch 12/20\n",
      "363/363 [==============================] - 0s 986us/step - loss: 0.3348 - root_mean_squared_error: 0.5786 - val_loss: 1.5846 - val_root_mean_squared_error: 1.2588\n",
      "Epoch 13/20\n",
      "363/363 [==============================] - 0s 981us/step - loss: 0.3285 - root_mean_squared_error: 0.5732 - val_loss: 0.7837 - val_root_mean_squared_error: 0.8853\n",
      "Epoch 14/20\n",
      "363/363 [==============================] - 0s 959us/step - loss: 0.3191 - root_mean_squared_error: 0.5649 - val_loss: 1.3150 - val_root_mean_squared_error: 1.1467\n",
      "Epoch 15/20\n",
      "363/363 [==============================] - 0s 959us/step - loss: 0.3205 - root_mean_squared_error: 0.5661 - val_loss: 2.1655 - val_root_mean_squared_error: 1.4716\n",
      "Epoch 16/20\n",
      "363/363 [==============================] - 0s 945us/step - loss: 0.3197 - root_mean_squared_error: 0.5654 - val_loss: 2.8243 - val_root_mean_squared_error: 1.6806\n",
      "Epoch 17/20\n",
      "363/363 [==============================] - 0s 984us/step - loss: 0.3343 - root_mean_squared_error: 0.5782 - val_loss: 5.3343 - val_root_mean_squared_error: 2.3096\n",
      "Epoch 18/20\n",
      "363/363 [==============================] - 0s 967us/step - loss: 0.3356 - root_mean_squared_error: 0.5793 - val_loss: 5.2133 - val_root_mean_squared_error: 2.2833\n",
      "Epoch 19/20\n",
      "363/363 [==============================] - 0s 970us/step - loss: 0.3349 - root_mean_squared_error: 0.5787 - val_loss: 2.5082 - val_root_mean_squared_error: 1.5837\n",
      "Epoch 20/20\n",
      "363/363 [==============================] - 0s 964us/step - loss: 0.3255 - root_mean_squared_error: 0.5706 - val_loss: 1.3565 - val_root_mean_squared_error: 1.1647\n",
      "162/162 [==============================] - 0s 644us/step - loss: 0.3096 - root_mean_squared_error: 0.5564\n",
      "1/1 [==============================] - 0s 42ms/step\n"
     ]
    }
   ],
   "source": [
    "optimizer = tf.keras.optimizers.Adam(learning_rate=1e-3)\n",
    "model.compile(loss=\"mse\", optimizer=optimizer, metrics=[\"RootMeanSquaredError\"])\n",
    "normalization_layer.adapt(X_train)\n",
    "history = model.fit(X_train, y_train, epochs=20,\n",
    "                    validation_data=(X_valid, y_valid))\n",
    "mse_test = model.evaluate(X_test, y_test)\n",
    "y_pred = model.predict(X_new)"
   ],
   "metadata": {
    "collapsed": false,
    "ExecuteTime": {
     "end_time": "2024-02-25T18:12:57.706750200Z",
     "start_time": "2024-02-25T18:12:49.366219900Z"
    }
   },
   "id": "209e1cdfa57ad317",
   "execution_count": 478
  },
  {
   "cell_type": "markdown",
   "source": [
    "At a high level, the first five lines create all the layers we need to build the model, the next six lines use these layers just like functions to go from the input to the output, and the last line creates a Keras Model object by pointing to the input and the output. Let’s go through this code in more detail:\n",
    "\n",
    "- First, we create five layers: a Normalization layer to standardize the inputs, two Dense layers with 30 neurons each, using the ReLU activation function, a Concatenate layer, and one more Dense layer with a single neuron for the output layer, without any activation function.\n",
    "\n",
    "- Next, we create an Input object (the variable name input_ is used to avoid overshadowing Python’s built-in input() function). This is a specification of the kind of input the model will get, including its shape and optionally its dtype, which defaults to 32-bit floats. A model may actually have multiple inputs, as you will see shortly.\n",
    "\n",
    "- Then we use the Normalization layer just like a function, passing it the Input object. This is why this is called the functional API. Note that we are just telling Keras how it should connect the layers together; no actual data is being processed yet, as the Input object is just a data specification. In other words, it’s a symbolic input. The output of this call is also symbolic: normalized doesn’t store any actual data, it’s just used to construct the model.\n",
    "\n",
    "- In the same way, we then pass normalized to hidden_layer1, which outputs hidden1, and we pass hidden1 to hidden_layer2, which outputs hidden2.\n",
    "\n",
    "- So far we’ve connected the layers sequentially, but then we use the concat_layer to concatenate the input and the second hidden layer’s output. Again, no actual data is concatenated yet: it’s all symbolic, to build the model.\n",
    "\n",
    "- Then we pass concat to the output_layer, which gives us the final output.\n",
    "\n",
    "- Lastly, we create a Keras Model, specifying which inputs and outputs to use.\n",
    "\n",
    "Once you have built this Keras model, everything is exactly like earlier, so there’s no need to repeat it here: you compile the model, adapt the Normalization layer, fit the model, evaluate it, and use it to make predictions.\n",
    "\n",
    "But what if you want to send a subset of the features through the wide path and a different subset (possibly overlapping) through the deep path, as illustrated in Figure 10-14? In this case, one solution is to use multiple inputs. For example, suppose we want to send five features through the wide path (features 0 to 4), and six features through the deep path (features 2 to 7). We can do this as follows:"
   ],
   "metadata": {
    "collapsed": false
   },
   "id": "ed0b9347b07b56bf"
  },
  {
   "cell_type": "code",
   "outputs": [],
   "source": [
    "tf.random.set_seed(42)  # extra code"
   ],
   "metadata": {
    "collapsed": false,
    "ExecuteTime": {
     "end_time": "2024-02-25T18:12:57.730595200Z",
     "start_time": "2024-02-25T18:12:57.703757900Z"
    }
   },
   "id": "8652226bea38c6c1",
   "execution_count": 479
  },
  {
   "cell_type": "code",
   "outputs": [],
   "source": [
    "input_wide = tf.keras.layers.Input(shape=[5])  # features 0 to 4\n",
    "input_deep = tf.keras.layers.Input(shape=[6])  # features 2 to 7\n",
    "norm_layer_wide = tf.keras.layers.Normalization()\n",
    "norm_layer_deep = tf.keras.layers.Normalization()\n",
    "norm_wide = norm_layer_wide(input_wide)\n",
    "norm_deep = norm_layer_deep(input_deep)\n",
    "hidden1 = tf.keras.layers.Dense(30, activation=\"relu\")(norm_deep)\n",
    "hidden2 = tf.keras.layers.Dense(30, activation=\"relu\")(hidden1)\n",
    "concat = tf.keras.layers.concatenate([norm_wide, hidden2])\n",
    "output = tf.keras.layers.Dense(1)(concat)\n",
    "model = tf.keras.Model(inputs=[input_wide, input_deep], outputs=[output])"
   ],
   "metadata": {
    "collapsed": false,
    "ExecuteTime": {
     "end_time": "2024-02-25T18:12:57.814954600Z",
     "start_time": "2024-02-25T18:12:57.711645700Z"
    }
   },
   "id": "28abd4238c11aa65",
   "execution_count": 480
  },
  {
   "cell_type": "markdown",
   "source": [
    "Figure 10-14. Handling multiple inputs\n",
    "![handling_multiple_inputs](../images/handling_multiple_inputs.png)"
   ],
   "metadata": {
    "collapsed": false
   },
   "id": "73acdf0b139fd3c6"
  },
  {
   "cell_type": "markdown",
   "source": [
    "There are a few things to note in this example, compared to the previous one:\n",
    "\n",
    "- Each Dense layer is created and called on the same line. This is a common practice, as it makes the code more concise without losing clarity. However, we can’t do this with the Normalization layer since we need a reference to the layer to be able to call its adapt() method before fitting the model.\n",
    "\n",
    "- We used tf.keras.layers.concatenate(), which creates a Concatenate layer and calls it with the given inputs.\n",
    "\n",
    "- We specified inputs=[input_wide, input_deep] when creating the model, since there are two inputs.\n",
    "\n",
    "Now we can compile the model as usual, but when we call the fit() method, instead of passing a single input matrix X_train, we must pass a pair of matrices (X_train_wide, X_train_deep), one per input. The same is true for X_valid, and also for X_test and X_new when you call evaluate() or predict():"
   ],
   "metadata": {
    "collapsed": false
   },
   "id": "bd010cfba3b64f28"
  },
  {
   "cell_type": "code",
   "outputs": [
    {
     "name": "stdout",
     "output_type": "stream",
     "text": [
      "Epoch 1/20\n",
      "363/363 [==============================] - 1s 1ms/step - loss: 1.2531 - root_mean_squared_error: 1.1194 - val_loss: 0.5290 - val_root_mean_squared_error: 0.7273\n",
      "Epoch 2/20\n",
      "363/363 [==============================] - 0s 1ms/step - loss: 0.4645 - root_mean_squared_error: 0.6815 - val_loss: 0.6371 - val_root_mean_squared_error: 0.7982\n",
      "Epoch 3/20\n",
      "363/363 [==============================] - 0s 1ms/step - loss: 0.4104 - root_mean_squared_error: 0.6406 - val_loss: 0.3786 - val_root_mean_squared_error: 0.6153\n",
      "Epoch 4/20\n",
      "363/363 [==============================] - 0s 1ms/step - loss: 0.3926 - root_mean_squared_error: 0.6265 - val_loss: 0.3947 - val_root_mean_squared_error: 0.6283\n",
      "Epoch 5/20\n",
      "363/363 [==============================] - 0s 1ms/step - loss: 0.3796 - root_mean_squared_error: 0.6162 - val_loss: 0.4521 - val_root_mean_squared_error: 0.6723\n",
      "Epoch 6/20\n",
      "363/363 [==============================] - 0s 1ms/step - loss: 0.3692 - root_mean_squared_error: 0.6076 - val_loss: 1.1463 - val_root_mean_squared_error: 1.0706\n",
      "Epoch 7/20\n",
      "363/363 [==============================] - 0s 1ms/step - loss: 0.3691 - root_mean_squared_error: 0.6075 - val_loss: 1.8641 - val_root_mean_squared_error: 1.3653\n",
      "Epoch 8/20\n",
      "363/363 [==============================] - 0s 1ms/step - loss: 0.3609 - root_mean_squared_error: 0.6008 - val_loss: 2.4233 - val_root_mean_squared_error: 1.5567\n",
      "Epoch 9/20\n",
      "363/363 [==============================] - 0s 1ms/step - loss: 0.3567 - root_mean_squared_error: 0.5973 - val_loss: 1.1421 - val_root_mean_squared_error: 1.0687\n",
      "Epoch 10/20\n",
      "363/363 [==============================] - 0s 1ms/step - loss: 0.3506 - root_mean_squared_error: 0.5921 - val_loss: 0.6342 - val_root_mean_squared_error: 0.7963\n",
      "Epoch 11/20\n",
      "363/363 [==============================] - 0s 1ms/step - loss: 0.3405 - root_mean_squared_error: 0.5836 - val_loss: 0.3494 - val_root_mean_squared_error: 0.5911\n",
      "Epoch 12/20\n",
      "363/363 [==============================] - 0s 1ms/step - loss: 0.3394 - root_mean_squared_error: 0.5825 - val_loss: 0.5180 - val_root_mean_squared_error: 0.7198\n",
      "Epoch 13/20\n",
      "363/363 [==============================] - 0s 1ms/step - loss: 0.3351 - root_mean_squared_error: 0.5789 - val_loss: 0.4421 - val_root_mean_squared_error: 0.6649\n",
      "Epoch 14/20\n",
      "363/363 [==============================] - 0s 1ms/step - loss: 0.3326 - root_mean_squared_error: 0.5767 - val_loss: 0.4704 - val_root_mean_squared_error: 0.6859\n",
      "Epoch 15/20\n",
      "363/363 [==============================] - 0s 1ms/step - loss: 0.3323 - root_mean_squared_error: 0.5765 - val_loss: 0.5040 - val_root_mean_squared_error: 0.7099\n",
      "Epoch 16/20\n",
      "363/363 [==============================] - 0s 1ms/step - loss: 0.3273 - root_mean_squared_error: 0.5721 - val_loss: 0.5330 - val_root_mean_squared_error: 0.7301\n",
      "Epoch 17/20\n",
      "363/363 [==============================] - 0s 1ms/step - loss: 0.3285 - root_mean_squared_error: 0.5731 - val_loss: 0.6480 - val_root_mean_squared_error: 0.8050\n",
      "Epoch 18/20\n",
      "363/363 [==============================] - 0s 1ms/step - loss: 0.3245 - root_mean_squared_error: 0.5696 - val_loss: 1.3458 - val_root_mean_squared_error: 1.1601\n",
      "Epoch 19/20\n",
      "363/363 [==============================] - 0s 997us/step - loss: 0.3261 - root_mean_squared_error: 0.5710 - val_loss: 1.0057 - val_root_mean_squared_error: 1.0029\n",
      "Epoch 20/20\n",
      "363/363 [==============================] - 0s 1ms/step - loss: 0.3300 - root_mean_squared_error: 0.5745 - val_loss: 0.6506 - val_root_mean_squared_error: 0.8066\n",
      "162/162 [==============================] - 0s 700us/step - loss: 0.3219 - root_mean_squared_error: 0.5674\n",
      "1/1 [==============================] - 0s 47ms/step\n"
     ]
    }
   ],
   "source": [
    "optimizer = tf.keras.optimizers.Adam(learning_rate=1e-3)\n",
    "model.compile(loss=\"mse\", optimizer=optimizer, metrics=[\"RootMeanSquaredError\"])\n",
    "\n",
    "X_train_wide, X_train_deep = X_train[:, :5], X_train[:, 2:]\n",
    "X_valid_wide, X_valid_deep = X_valid[:, :5], X_valid[:, 2:]\n",
    "X_test_wide, X_test_deep = X_test[:, :5], X_test[:, 2:]\n",
    "X_new_wide, X_new_deep = X_test_wide[:3], X_test_deep[:3]\n",
    "\n",
    "norm_layer_wide.adapt(X_train_wide)\n",
    "norm_layer_deep.adapt(X_train_deep)\n",
    "history = model.fit((X_train_wide, X_train_deep), y_train, epochs=20,\n",
    "                    validation_data=((X_valid_wide, X_valid_deep), y_valid))\n",
    "mse_test = model.evaluate((X_test_wide, X_test_deep), y_test)\n",
    "y_pred = model.predict((X_new_wide, X_new_deep))"
   ],
   "metadata": {
    "collapsed": false,
    "ExecuteTime": {
     "end_time": "2024-02-25T18:13:06.578675Z",
     "start_time": "2024-02-25T18:12:57.770073900Z"
    }
   },
   "id": "ab2353852e13ea0a",
   "execution_count": 481
  },
  {
   "cell_type": "markdown",
   "source": [
    "TIP\n",
    "Instead of passing a tuple (X_train_wide, X_train_deep), you can pass a dictionary {\"input_wide\": X_train_wide, \"input_deep\": X_train_deep}, if you set name=\"input_wide\" and name=\"input_deep\" when creating the inputs. This is highly recommended when there are many inputs, to clarify the code and avoid getting the order wrong."
   ],
   "metadata": {
    "collapsed": false
   },
   "id": "1d40549bd2166513"
  },
  {
   "cell_type": "markdown",
   "source": [
    "There are also many use cases in which you may want to have multiple outputs:\n",
    "\n",
    "- The task may demand it. For instance, you may want to locate and classify the main object in a picture. This is both a regression tasks and a classification task.\n",
    "\n",
    "- Similarly, you may have multiple independent tasks based on the same data. Sure, you could train one neural network per task, but in many cases you will get better results on all tasks by training a single neural network with one output per task. This is because the neural network can learn features in the data that are useful across tasks. For example, you could perform multitask classification on pictures of faces, using one output to classify the person’s facial expression (smiling, surprised, etc.) and another output to identify whether they are wearing glasses or not.\n",
    "\n",
    "- Another use case is as a regularization technique (i.e., a training constraint whose objective is to reduce overfitting and thus improve the model’s ability to generalize). For example, you may want to add an auxiliary output in a neural network architecture (see Figure 10-15) to ensure that the underlying part of the network learns something useful on its own, without relying on the rest of the network."
   ],
   "metadata": {
    "collapsed": false
   },
   "id": "ce1b88615d0595c5"
  },
  {
   "cell_type": "markdown",
   "source": [
    "Figure 10-15. Handling multiple outputs, in this example to add an auxiliary output for regularization\n",
    "![auxiliary_output_for_regularization](../images/auxiliary_output_for_regularization.png)\n"
   ],
   "metadata": {
    "collapsed": false
   },
   "id": "a53172f9072cb565"
  },
  {
   "cell_type": "markdown",
   "source": [
    "Adding an extra output is quite easy: we just connect it to the appropriate layer and add it to the model’s list of outputs. For example, the following code builds the network represented in Figure 10-15:"
   ],
   "metadata": {
    "collapsed": false
   },
   "id": "e0c25d85e1f20b01"
  },
  {
   "cell_type": "code",
   "outputs": [],
   "source": [
    "tf.keras.backend.clear_session()\n",
    "tf.random.set_seed(42)"
   ],
   "metadata": {
    "collapsed": false,
    "ExecuteTime": {
     "end_time": "2024-02-25T18:13:06.601295400Z",
     "start_time": "2024-02-25T18:13:06.575683300Z"
    }
   },
   "id": "c790ae4944c13921",
   "execution_count": 482
  },
  {
   "cell_type": "code",
   "outputs": [],
   "source": [
    "input_wide = tf.keras.layers.Input(shape=[5])  # features 0 to 4\n",
    "input_deep = tf.keras.layers.Input(shape=[6])  # features 2 to 7\n",
    "norm_layer_wide = tf.keras.layers.Normalization()\n",
    "norm_layer_deep = tf.keras.layers.Normalization()\n",
    "norm_wide = norm_layer_wide(input_wide)\n",
    "norm_deep = norm_layer_deep(input_deep)\n",
    "hidden1 = tf.keras.layers.Dense(30, activation=\"relu\")(norm_deep)\n",
    "hidden2 = tf.keras.layers.Dense(30, activation=\"relu\")(hidden1)\n",
    "concat = tf.keras.layers.concatenate([norm_wide, hidden2])\n",
    "output = tf.keras.layers.Dense(1)(concat)\n",
    "aux_output = tf.keras.layers.Dense(1)(hidden2)\n",
    "model = tf.keras.Model(inputs=[input_wide, input_deep],\n",
    "                       outputs=[output, aux_output])"
   ],
   "metadata": {
    "collapsed": false,
    "ExecuteTime": {
     "end_time": "2024-02-25T18:13:06.676430300Z",
     "start_time": "2024-02-25T18:13:06.590325Z"
    }
   },
   "id": "84827f3d6fa4cc1d",
   "execution_count": 483
  },
  {
   "cell_type": "markdown",
   "source": [
    "Each output will need its own loss function. Therefore, when we compile the model, we should pass a list of losses. If we pass a single loss, Keras will assume that the same loss must be used for all outputs. By default, Keras will compute all the losses and simply add them up to get the final loss used for training. Since we care much more about the main output than about the auxiliary output (as it is just used for regularization), we want to give the main output’s loss a much greater weight. Luckily, it is possible to set all the loss weights when compiling the model:"
   ],
   "metadata": {
    "collapsed": false
   },
   "id": "b9577ca3885ef14e"
  },
  {
   "cell_type": "code",
   "outputs": [],
   "source": [
    "optimizer = tf.keras.optimizers.Adam(learning_rate=1e-3)\n",
    "model.compile(loss=(\"mse\", \"mse\"), loss_weights=(0.9, 0.1), optimizer=optimizer,\n",
    "              metrics=[\"RootMeanSquaredError\"])"
   ],
   "metadata": {
    "collapsed": false,
    "ExecuteTime": {
     "end_time": "2024-02-25T18:13:06.692387700Z",
     "start_time": "2024-02-25T18:13:06.646515200Z"
    }
   },
   "id": "b29024f262c5632a",
   "execution_count": 484
  },
  {
   "cell_type": "markdown",
   "source": [
    "TIP\n",
    "Instead of passing a tuple loss=(\"mse\", \"mse\"), you can pass a dictionary loss={\"output\": \"mse\", \"aux_output\": \"mse\"}, assuming you created the output layers with name=\"output\" and name=\"aux_output\". Just like for the inputs, this clarifies the code and avoids errors when there are several outputs. You can also pass a dictionary for loss_weights."
   ],
   "metadata": {
    "collapsed": false
   },
   "id": "4ac6abac09377492"
  },
  {
   "cell_type": "markdown",
   "source": [
    "Now when we train the model, we need to provide labels for each output. In this example, the main output and the auxiliary output should try to predict the same thing, so they should use the same labels. So instead of passing y_train, we need to pass (y_train, y_train), or a dictionary {\"output\": y_train, \"aux_output\": y_train} if the outputs were named \"output\" and \"aux_output\". The same goes for y_valid and y_test:"
   ],
   "metadata": {
    "collapsed": false
   },
   "id": "7654821d550da61e"
  },
  {
   "cell_type": "code",
   "outputs": [
    {
     "name": "stdout",
     "output_type": "stream",
     "text": [
      "Epoch 1/20\n",
      "363/363 [==============================] - 1s 2ms/step - loss: 1.5494 - dense_2_loss: 1.4864 - dense_3_loss: 2.1163 - dense_2_root_mean_squared_error: 1.2192 - dense_3_root_mean_squared_error: 1.4548 - val_loss: 1.3958 - val_dense_2_loss: 1.3755 - val_dense_3_loss: 1.5778 - val_dense_2_root_mean_squared_error: 1.1728 - val_dense_3_root_mean_squared_error: 1.2561\n",
      "Epoch 2/20\n",
      "363/363 [==============================] - 0s 1ms/step - loss: 0.5579 - dense_2_loss: 0.5339 - dense_3_loss: 0.7740 - dense_2_root_mean_squared_error: 0.7307 - dense_3_root_mean_squared_error: 0.8798 - val_loss: 0.7898 - val_dense_2_loss: 0.8007 - val_dense_3_loss: 0.6921 - val_dense_2_root_mean_squared_error: 0.8948 - val_dense_3_root_mean_squared_error: 0.8319\n",
      "Epoch 3/20\n",
      "363/363 [==============================] - 0s 1ms/step - loss: 0.4656 - dense_2_loss: 0.4502 - dense_3_loss: 0.6044 - dense_2_root_mean_squared_error: 0.6710 - dense_3_root_mean_squared_error: 0.7774 - val_loss: 0.5234 - val_dense_2_loss: 0.5197 - val_dense_3_loss: 0.5564 - val_dense_2_root_mean_squared_error: 0.7209 - val_dense_3_root_mean_squared_error: 0.7459\n",
      "Epoch 4/20\n",
      "363/363 [==============================] - 0s 1ms/step - loss: 0.4323 - dense_2_loss: 0.4181 - dense_3_loss: 0.5603 - dense_2_root_mean_squared_error: 0.6466 - dense_3_root_mean_squared_error: 0.7485 - val_loss: 0.4118 - val_dense_2_loss: 0.3991 - val_dense_3_loss: 0.5258 - val_dense_2_root_mean_squared_error: 0.6317 - val_dense_3_root_mean_squared_error: 0.7252\n",
      "Epoch 5/20\n",
      "363/363 [==============================] - 0s 1ms/step - loss: 0.4114 - dense_2_loss: 0.3983 - dense_3_loss: 0.5288 - dense_2_root_mean_squared_error: 0.6311 - dense_3_root_mean_squared_error: 0.7272 - val_loss: 0.3860 - val_dense_2_loss: 0.3698 - val_dense_3_loss: 0.5312 - val_dense_2_root_mean_squared_error: 0.6081 - val_dense_3_root_mean_squared_error: 0.7288\n",
      "Epoch 6/20\n",
      "363/363 [==============================] - 0s 1ms/step - loss: 0.3912 - dense_2_loss: 0.3789 - dense_3_loss: 0.5022 - dense_2_root_mean_squared_error: 0.6155 - dense_3_root_mean_squared_error: 0.7087 - val_loss: 0.4566 - val_dense_2_loss: 0.4537 - val_dense_3_loss: 0.4830 - val_dense_2_root_mean_squared_error: 0.6736 - val_dense_3_root_mean_squared_error: 0.6950\n",
      "Epoch 7/20\n",
      "363/363 [==============================] - 0s 1ms/step - loss: 0.3868 - dense_2_loss: 0.3759 - dense_3_loss: 0.4846 - dense_2_root_mean_squared_error: 0.6131 - dense_3_root_mean_squared_error: 0.6962 - val_loss: 0.3512 - val_dense_2_loss: 0.3404 - val_dense_3_loss: 0.4484 - val_dense_2_root_mean_squared_error: 0.5835 - val_dense_3_root_mean_squared_error: 0.6696\n",
      "Epoch 8/20\n",
      "363/363 [==============================] - 0s 1ms/step - loss: 0.3729 - dense_2_loss: 0.3629 - dense_3_loss: 0.4626 - dense_2_root_mean_squared_error: 0.6024 - dense_3_root_mean_squared_error: 0.6801 - val_loss: 0.4671 - val_dense_2_loss: 0.4708 - val_dense_3_loss: 0.4336 - val_dense_2_root_mean_squared_error: 0.6862 - val_dense_3_root_mean_squared_error: 0.6585\n",
      "Epoch 9/20\n",
      "363/363 [==============================] - 0s 1ms/step - loss: 0.3657 - dense_2_loss: 0.3566 - dense_3_loss: 0.4476 - dense_2_root_mean_squared_error: 0.5972 - dense_3_root_mean_squared_error: 0.6690 - val_loss: 1.4005 - val_dense_2_loss: 1.4427 - val_dense_3_loss: 1.0208 - val_dense_2_root_mean_squared_error: 1.2011 - val_dense_3_root_mean_squared_error: 1.0104\n",
      "Epoch 10/20\n",
      "363/363 [==============================] - 0s 1ms/step - loss: 0.3732 - dense_2_loss: 0.3652 - dense_3_loss: 0.4461 - dense_2_root_mean_squared_error: 0.6043 - dense_3_root_mean_squared_error: 0.6679 - val_loss: 0.7588 - val_dense_2_loss: 0.7478 - val_dense_3_loss: 0.8584 - val_dense_2_root_mean_squared_error: 0.8647 - val_dense_3_root_mean_squared_error: 0.9265\n",
      "Epoch 11/20\n",
      "363/363 [==============================] - 0s 1ms/step - loss: 0.3558 - dense_2_loss: 0.3475 - dense_3_loss: 0.4309 - dense_2_root_mean_squared_error: 0.5895 - dense_3_root_mean_squared_error: 0.6564 - val_loss: 0.9956 - val_dense_2_loss: 1.0101 - val_dense_3_loss: 0.8644 - val_dense_2_root_mean_squared_error: 1.0050 - val_dense_3_root_mean_squared_error: 0.9297\n",
      "Epoch 12/20\n",
      "363/363 [==============================] - 0s 1ms/step - loss: 0.3670 - dense_2_loss: 0.3599 - dense_3_loss: 0.4315 - dense_2_root_mean_squared_error: 0.5999 - dense_3_root_mean_squared_error: 0.6569 - val_loss: 1.0383 - val_dense_2_loss: 1.0842 - val_dense_3_loss: 0.6253 - val_dense_2_root_mean_squared_error: 1.0413 - val_dense_3_root_mean_squared_error: 0.7907\n",
      "Epoch 13/20\n",
      "363/363 [==============================] - 0s 1ms/step - loss: 0.3565 - dense_2_loss: 0.3495 - dense_3_loss: 0.4200 - dense_2_root_mean_squared_error: 0.5912 - dense_3_root_mean_squared_error: 0.6481 - val_loss: 1.3404 - val_dense_2_loss: 1.3445 - val_dense_3_loss: 1.3032 - val_dense_2_root_mean_squared_error: 1.1595 - val_dense_3_root_mean_squared_error: 1.1416\n",
      "Epoch 14/20\n",
      "363/363 [==============================] - 0s 1ms/step - loss: 0.3559 - dense_2_loss: 0.3489 - dense_3_loss: 0.4189 - dense_2_root_mean_squared_error: 0.5907 - dense_3_root_mean_squared_error: 0.6473 - val_loss: 1.3544 - val_dense_2_loss: 1.4015 - val_dense_3_loss: 0.9301 - val_dense_2_root_mean_squared_error: 1.1839 - val_dense_3_root_mean_squared_error: 0.9644\n",
      "Epoch 15/20\n",
      "363/363 [==============================] - 0s 1ms/step - loss: 0.3517 - dense_2_loss: 0.3453 - dense_3_loss: 0.4089 - dense_2_root_mean_squared_error: 0.5877 - dense_3_root_mean_squared_error: 0.6395 - val_loss: 1.3725 - val_dense_2_loss: 1.2873 - val_dense_3_loss: 2.1391 - val_dense_2_root_mean_squared_error: 1.1346 - val_dense_3_root_mean_squared_error: 1.4626\n",
      "Epoch 16/20\n",
      "363/363 [==============================] - 0s 1ms/step - loss: 0.3550 - dense_2_loss: 0.3471 - dense_3_loss: 0.4255 - dense_2_root_mean_squared_error: 0.5892 - dense_3_root_mean_squared_error: 0.6523 - val_loss: 1.0513 - val_dense_2_loss: 1.0142 - val_dense_3_loss: 1.3853 - val_dense_2_root_mean_squared_error: 1.0071 - val_dense_3_root_mean_squared_error: 1.1770\n",
      "Epoch 17/20\n",
      "363/363 [==============================] - 0s 1ms/step - loss: 0.3480 - dense_2_loss: 0.3413 - dense_3_loss: 0.4087 - dense_2_root_mean_squared_error: 0.5842 - dense_3_root_mean_squared_error: 0.6393 - val_loss: 1.8937 - val_dense_2_loss: 1.9201 - val_dense_3_loss: 1.6561 - val_dense_2_root_mean_squared_error: 1.3857 - val_dense_3_root_mean_squared_error: 1.2869\n",
      "Epoch 18/20\n",
      "363/363 [==============================] - 0s 1ms/step - loss: 0.3482 - dense_2_loss: 0.3420 - dense_3_loss: 0.4041 - dense_2_root_mean_squared_error: 0.5848 - dense_3_root_mean_squared_error: 0.6357 - val_loss: 1.3063 - val_dense_2_loss: 1.3103 - val_dense_3_loss: 1.2704 - val_dense_2_root_mean_squared_error: 1.1447 - val_dense_3_root_mean_squared_error: 1.1271\n",
      "Epoch 19/20\n",
      "363/363 [==============================] - 0s 1ms/step - loss: 0.3483 - dense_2_loss: 0.3422 - dense_3_loss: 0.4040 - dense_2_root_mean_squared_error: 0.5849 - dense_3_root_mean_squared_error: 0.6356 - val_loss: 1.3744 - val_dense_2_loss: 1.3406 - val_dense_3_loss: 1.6777 - val_dense_2_root_mean_squared_error: 1.1579 - val_dense_3_root_mean_squared_error: 1.2953\n",
      "Epoch 20/20\n",
      "363/363 [==============================] - 0s 1ms/step - loss: 0.3463 - dense_2_loss: 0.3399 - dense_3_loss: 0.4038 - dense_2_root_mean_squared_error: 0.5830 - dense_3_root_mean_squared_error: 0.6354 - val_loss: 0.7907 - val_dense_2_loss: 0.7819 - val_dense_3_loss: 0.8693 - val_dense_2_root_mean_squared_error: 0.8843 - val_dense_3_root_mean_squared_error: 0.9323\n"
     ]
    }
   ],
   "source": [
    "norm_layer_wide.adapt(X_train_wide)\n",
    "norm_layer_deep.adapt(X_train_deep)\n",
    "history = model.fit(\n",
    "    (X_train_wide, X_train_deep), (y_train, y_train), epochs=20,\n",
    "    validation_data=((X_valid_wide, X_valid_deep), (y_valid, y_valid))\n",
    ")"
   ],
   "metadata": {
    "collapsed": false,
    "ExecuteTime": {
     "end_time": "2024-02-25T18:13:16.309521300Z",
     "start_time": "2024-02-25T18:13:06.654489200Z"
    }
   },
   "id": "dc2d0fbbaae03613",
   "execution_count": 485
  },
  {
   "cell_type": "markdown",
   "source": [
    "When we evaluate the model, Keras returns the weighted sum of the losses, as well as all the individual losses and metrics:"
   ],
   "metadata": {
    "collapsed": false
   },
   "id": "7435a4f37ef7ffdf"
  },
  {
   "cell_type": "code",
   "outputs": [
    {
     "name": "stdout",
     "output_type": "stream",
     "text": [
      "162/162 [==============================] - 0s 780us/step - loss: 0.3390 - dense_2_loss: 0.3335 - dense_3_loss: 0.3888 - dense_2_root_mean_squared_error: 0.5775 - dense_3_root_mean_squared_error: 0.6236\n"
     ]
    }
   ],
   "source": [
    "eval_results = model.evaluate((X_test_wide, X_test_deep), (y_test, y_test))\n",
    "weighted_sum_of_losses, main_loss, aux_loss, main_rmse, aux_rmse = eval_results"
   ],
   "metadata": {
    "collapsed": false,
    "ExecuteTime": {
     "end_time": "2024-02-25T18:13:16.513146300Z",
     "start_time": "2024-02-25T18:13:16.306549600Z"
    }
   },
   "id": "a0f5c91ceb3d0a02",
   "execution_count": 486
  },
  {
   "cell_type": "markdown",
   "source": [
    "TIP\n",
    "If you set return_dict=True, then evaluate() will return a dictionary instead of a big tuple."
   ],
   "metadata": {
    "collapsed": false
   },
   "id": "62e4601ec2dfb66d"
  },
  {
   "cell_type": "markdown",
   "source": [
    "Similarly, the predict() method will return predictions for each output:"
   ],
   "metadata": {
    "collapsed": false
   },
   "id": "2b9f3a7589bbf942"
  },
  {
   "cell_type": "code",
   "outputs": [
    {
     "name": "stdout",
     "output_type": "stream",
     "text": [
      "1/1 [==============================] - 0s 52ms/step\n"
     ]
    }
   ],
   "source": [
    "y_pred_main, y_pred_aux = model.predict((X_new_wide, X_new_deep))"
   ],
   "metadata": {
    "collapsed": false,
    "ExecuteTime": {
     "end_time": "2024-02-25T18:13:16.615155400Z",
     "start_time": "2024-02-25T18:13:16.484223800Z"
    }
   },
   "id": "8142e7a6573c4b28",
   "execution_count": 487
  },
  {
   "cell_type": "markdown",
   "source": [
    "The predict() method returns a tuple, and it does not have a return_dict argument to get a dictionary instead. However, you can create one using model.output_names:"
   ],
   "metadata": {
    "collapsed": false
   },
   "id": "d9b8cd7db33982fd"
  },
  {
   "cell_type": "code",
   "outputs": [
    {
     "name": "stdout",
     "output_type": "stream",
     "text": [
      "1/1 [==============================] - 0s 14ms/step\n"
     ]
    }
   ],
   "source": [
    "y_pred_tuple = model.predict((X_new_wide, X_new_deep))\n",
    "y_pred = dict(zip(model.output_names, y_pred_tuple))"
   ],
   "metadata": {
    "collapsed": false,
    "ExecuteTime": {
     "end_time": "2024-02-25T18:13:16.701229800Z",
     "start_time": "2024-02-25T18:13:16.569483700Z"
    }
   },
   "id": "7b58d771958dea13",
   "execution_count": 488
  },
  {
   "cell_type": "markdown",
   "source": [
    "As you can see, you can build all sorts of architectures with the functional API. Next, we’ll look at one last way you can build Keras models."
   ],
   "metadata": {
    "collapsed": false
   },
   "id": "a108ff5a60c084e"
  },
  {
   "cell_type": "markdown",
   "source": [
    "# SUBCLASSING API TO BUILD DYNAMIC MODELS\n",
    "Both the sequential API and the functional API are declarative: you start by declaring which layers you want to use and how they should be connected, and only then can you start feeding the model some data for training or inference. This has many advantages: the model can easily be saved, cloned, and shared; its structure can be displayed and analyzed; the framework can infer shapes and check types, so errors can be caught early (i.e., before any data ever goes through the model). It’s also fairly straightforward to debug, since the whole model is a static graph of layers. But the flip side is just that: it’s static. Some models involve loops, varying shapes, conditional branching, and other dynamic behaviors. For such cases, or simply if you prefer a more imperative programming style, the subclassing API is for you.\n",
    "\n",
    "With this approach, you subclass the Model class, create the layers you need in the constructor, and use them to perform the computations you want in the call() method. For example, creating an instance of the following WideAndDeepModel class gives us an equivalent model to the one we just built with the functional API:"
   ],
   "metadata": {
    "collapsed": false
   },
   "id": "dbf3da51d7c00727"
  },
  {
   "cell_type": "code",
   "outputs": [],
   "source": [
    "class WideAndDeepModel(tf.keras.Model):\n",
    "    def __init__(self, units=30, activation=\"relu\", **kwargs):\n",
    "        super().__init__(**kwargs)  # needed to support naming the model\n",
    "        self.norm_layer_wide = tf.keras.layers.Normalization()\n",
    "        self.norm_layer_deep = tf.keras.layers.Normalization()\n",
    "        self.hidden1 = tf.keras.layers.Dense(units, activation=activation)\n",
    "        self.hidden2 = tf.keras.layers.Dense(units, activation=activation)\n",
    "        self.main_output = tf.keras.layers.Dense(1)\n",
    "        self.aux_output = tf.keras.layers.Dense(1)\n",
    "\n",
    "    def call(self, inputs):\n",
    "        input_wide, input_deep = inputs\n",
    "        norm_wide = self.norm_layer_wide(input_wide)\n",
    "        norm_deep = self.norm_layer_deep(input_deep)\n",
    "        hidden1 = self.hidden1(norm_deep)\n",
    "        hidden2 = self.hidden2(hidden1)\n",
    "        concat = tf.keras.layers.concatenate([norm_wide, hidden2])\n",
    "        output = self.main_output(concat)\n",
    "        aux_output = self.aux_output(hidden2)\n",
    "        return output, aux_output\n",
    "\n",
    "\n",
    "model = WideAndDeepModel(30, activation=\"relu\", name=\"my_cool_model\")"
   ],
   "metadata": {
    "collapsed": false,
    "ExecuteTime": {
     "end_time": "2024-02-25T18:13:16.753063100Z",
     "start_time": "2024-02-25T18:13:16.616180700Z"
    }
   },
   "id": "2e08c003a778fef",
   "execution_count": 489
  },
  {
   "cell_type": "code",
   "outputs": [
    {
     "name": "stdout",
     "output_type": "stream",
     "text": [
      "Epoch 1/10\n",
      "363/363 [==============================] - 1s 2ms/step - loss: 1.7023 - output_1_loss: 1.6451 - output_2_loss: 2.2173 - output_1_root_mean_squared_error: 1.2826 - output_2_root_mean_squared_error: 1.4890 - val_loss: 1.1584 - val_output_1_loss: 0.6006 - val_output_2_loss: 6.1788 - val_output_1_root_mean_squared_error: 0.7750 - val_output_2_root_mean_squared_error: 2.4857\n",
      "Epoch 2/10\n",
      "363/363 [==============================] - 0s 1ms/step - loss: 0.5279 - output_1_loss: 0.4946 - output_2_loss: 0.8273 - output_1_root_mean_squared_error: 0.7033 - output_2_root_mean_squared_error: 0.9095 - val_loss: 0.7171 - val_output_1_loss: 0.5016 - val_output_2_loss: 2.6564 - val_output_1_root_mean_squared_error: 0.7083 - val_output_2_root_mean_squared_error: 1.6298\n",
      "Epoch 3/10\n",
      "363/363 [==============================] - 0s 1ms/step - loss: 0.4527 - output_1_loss: 0.4321 - output_2_loss: 0.6382 - output_1_root_mean_squared_error: 0.6574 - output_2_root_mean_squared_error: 0.7988 - val_loss: 0.4435 - val_output_1_loss: 0.3887 - val_output_2_loss: 0.9361 - val_output_1_root_mean_squared_error: 0.6235 - val_output_2_root_mean_squared_error: 0.9675\n",
      "Epoch 4/10\n",
      "363/363 [==============================] - 0s 1ms/step - loss: 0.4241 - output_1_loss: 0.4066 - output_2_loss: 0.5821 - output_1_root_mean_squared_error: 0.6376 - output_2_root_mean_squared_error: 0.7630 - val_loss: 0.4928 - val_output_1_loss: 0.4866 - val_output_2_loss: 0.5478 - val_output_1_root_mean_squared_error: 0.6976 - val_output_2_root_mean_squared_error: 0.7402\n",
      "Epoch 5/10\n",
      "363/363 [==============================] - 0s 1ms/step - loss: 0.4062 - output_1_loss: 0.3907 - output_2_loss: 0.5463 - output_1_root_mean_squared_error: 0.6250 - output_2_root_mean_squared_error: 0.7391 - val_loss: 0.4221 - val_output_1_loss: 0.4023 - val_output_2_loss: 0.6006 - val_output_1_root_mean_squared_error: 0.6342 - val_output_2_root_mean_squared_error: 0.7750\n",
      "Epoch 6/10\n",
      "363/363 [==============================] - 0s 1ms/step - loss: 0.3959 - output_1_loss: 0.3813 - output_2_loss: 0.5275 - output_1_root_mean_squared_error: 0.6175 - output_2_root_mean_squared_error: 0.7263 - val_loss: 0.5207 - val_output_1_loss: 0.5213 - val_output_2_loss: 0.5157 - val_output_1_root_mean_squared_error: 0.7220 - val_output_2_root_mean_squared_error: 0.7181\n",
      "Epoch 7/10\n",
      "363/363 [==============================] - 0s 1ms/step - loss: 0.3862 - output_1_loss: 0.3729 - output_2_loss: 0.5064 - output_1_root_mean_squared_error: 0.6107 - output_2_root_mean_squared_error: 0.7116 - val_loss: 0.6572 - val_output_1_loss: 0.6512 - val_output_2_loss: 0.7110 - val_output_1_root_mean_squared_error: 0.8070 - val_output_2_root_mean_squared_error: 0.8432\n",
      "Epoch 8/10\n",
      "363/363 [==============================] - 0s 1ms/step - loss: 0.3804 - output_1_loss: 0.3681 - output_2_loss: 0.4910 - output_1_root_mean_squared_error: 0.6067 - output_2_root_mean_squared_error: 0.7007 - val_loss: 3.1631 - val_output_1_loss: 3.3648 - val_output_2_loss: 1.3477 - val_output_1_root_mean_squared_error: 1.8343 - val_output_2_root_mean_squared_error: 1.1609\n",
      "Epoch 9/10\n",
      "363/363 [==============================] - 0s 1ms/step - loss: 0.3821 - output_1_loss: 0.3707 - output_2_loss: 0.4848 - output_1_root_mean_squared_error: 0.6088 - output_2_root_mean_squared_error: 0.6963 - val_loss: 5.9703 - val_output_1_loss: 6.1551 - val_output_2_loss: 4.3064 - val_output_1_root_mean_squared_error: 2.4810 - val_output_2_root_mean_squared_error: 2.0752\n",
      "Epoch 10/10\n",
      "363/363 [==============================] - 0s 1ms/step - loss: 0.4184 - output_1_loss: 0.4093 - output_2_loss: 0.5000 - output_1_root_mean_squared_error: 0.6398 - output_2_root_mean_squared_error: 0.7071 - val_loss: 0.5731 - val_output_1_loss: 0.5776 - val_output_2_loss: 0.5324 - val_output_1_root_mean_squared_error: 0.7600 - val_output_2_root_mean_squared_error: 0.7297\n",
      "162/162 [==============================] - 0s 737us/step - loss: 0.3679 - output_1_loss: 0.3553 - output_2_loss: 0.4808 - output_1_root_mean_squared_error: 0.5961 - output_2_root_mean_squared_error: 0.6934\n",
      "1/1 [==============================] - 0s 51ms/step\n"
     ]
    }
   ],
   "source": [
    "optimizer = tf.keras.optimizers.Adam(learning_rate=1e-3)\n",
    "model.compile(loss=\"mse\", loss_weights=[0.9, 0.1], optimizer=optimizer,\n",
    "              metrics=[\"RootMeanSquaredError\"])\n",
    "model.norm_layer_wide.adapt(X_train_wide)\n",
    "model.norm_layer_deep.adapt(X_train_deep)\n",
    "history = model.fit(\n",
    "    (X_train_wide, X_train_deep), (y_train, y_train), epochs=10,\n",
    "    validation_data=((X_valid_wide, X_valid_deep), (y_valid, y_valid)))\n",
    "eval_results = model.evaluate((X_test_wide, X_test_deep), (y_test, y_test))\n",
    "weighted_sum_of_losses, main_loss, aux_loss, main_rmse, aux_rmse = eval_results\n",
    "y_pred_main, y_pred_aux = model.predict((X_new_wide, X_new_deep))"
   ],
   "metadata": {
    "collapsed": false,
    "ExecuteTime": {
     "end_time": "2024-02-25T18:13:22.399627400Z",
     "start_time": "2024-02-25T18:13:16.625404900Z"
    }
   },
   "id": "902d3224143f3ee5",
   "execution_count": 490
  },
  {
   "cell_type": "markdown",
   "source": [
    "This example looks like the previous one, except we separate the creation of the layers in the constructor from their usage in the call() method. And we don’t need to create the Input objects: we can use the input argument to the call() method.\n",
    "\n",
    "Now that we have a model instance, we can compile it, adapt its normalization layers (e.g., using model.norm_layer_wide.adapt(...) and model.norm_layer_deep.adapt(...)), fit it, evaluate it, and use it to make predictions, exactly like we did with the functional API.\n",
    "\n",
    "The big difference with this API is that you can include pretty much anything you want in the call() method: for loops, if statements, low-level TensorFlow operations—your imagination is the limit (see Chapter 12)! This makes it a great API when experimenting with new ideas, especially for researchers. However, this extra flexibility does come at a cost: your model’s architecture is hidden within the call() method, so Keras cannot easily inspect it; the model cannot be cloned using tf.keras.models.clone_model(); and when you call the summary() method, you only get a list of layers, without any information on how they are connected to each other. Moreover, Keras cannot check types and shapes ahead of time, and it is easier to make mistakes. So unless you really need that extra flexibility, you should probably stick to the sequential API or the functional API."
   ],
   "metadata": {
    "collapsed": false
   },
   "id": "b0b1b9ee8b340e3b"
  },
  {
   "cell_type": "markdown",
   "source": [
    "TIP\n",
    "Keras models can be used just like regular layers, so you can easily combine them to build complex architectures."
   ],
   "metadata": {
    "collapsed": false
   },
   "id": "a7d33b352ffa0f82"
  },
  {
   "cell_type": "markdown",
   "source": [
    "Now that you know how to build and train neural nets using Keras, you will want to save them!"
   ],
   "metadata": {
    "collapsed": false
   },
   "id": "ea0552d3e91123a"
  },
  {
   "cell_type": "markdown",
   "source": [
    "# SAVING AND RESTORING A MODEL\n"
   ],
   "metadata": {
    "collapsed": false
   },
   "id": "c8a8c5bbd3689121"
  },
  {
   "cell_type": "code",
   "outputs": [],
   "source": [
    "# extra code – delete the directory, in case it already exists\n",
    "\n",
    "import shutil\n",
    "path_to_keras_model = \"saved_models/my_keras_model\"\n",
    "shutil.rmtree(path_to_keras_model, ignore_errors=True)"
   ],
   "metadata": {
    "collapsed": false,
    "ExecuteTime": {
     "end_time": "2024-02-25T18:13:22.422100400Z",
     "start_time": "2024-02-25T18:13:22.397271Z"
    }
   },
   "id": "dde3ccc5a804281e",
   "execution_count": 491
  },
  {
   "cell_type": "code",
   "outputs": [
    {
     "name": "stdout",
     "output_type": "stream",
     "text": [
      "INFO:tensorflow:Assets written to: saved_models/my_keras_model\\assets\n"
     ]
    },
    {
     "name": "stderr",
     "output_type": "stream",
     "text": [
      "INFO:tensorflow:Assets written to: saved_models/my_keras_model\\assets\n"
     ]
    }
   ],
   "source": [
    "model.save(path_to_keras_model, save_format=\"tf\")"
   ],
   "metadata": {
    "collapsed": false,
    "ExecuteTime": {
     "end_time": "2024-02-25T18:13:22.888864800Z",
     "start_time": "2024-02-25T18:13:22.402126100Z"
    }
   },
   "id": "e0abf9f8d4cd6979",
   "execution_count": 492
  },
  {
   "cell_type": "code",
   "outputs": [
    {
     "name": "stdout",
     "output_type": "stream",
     "text": [
      "saved_models\\my_keras_model\\assets\n",
      "saved_models\\my_keras_model\\fingerprint.pb\n",
      "saved_models\\my_keras_model\\keras_metadata.pb\n",
      "saved_models\\my_keras_model\\saved_model.pb\n",
      "saved_models\\my_keras_model\\variables\n",
      "saved_models\\my_keras_model\\variables\\variables.data-00000-of-00001\n",
      "saved_models\\my_keras_model\\variables\\variables.index\n"
     ]
    }
   ],
   "source": [
    "from pathlib import Path\n",
    "# extra code – show the contents of the my_keras_model/ directory\n",
    "for path in sorted(Path(path_to_keras_model).glob(\"**/*\")):\n",
    "    print(path)"
   ],
   "metadata": {
    "collapsed": false,
    "ExecuteTime": {
     "end_time": "2024-02-25T18:13:22.906377400Z",
     "start_time": "2024-02-25T18:13:22.890859800Z"
    }
   },
   "id": "3e8786162981dc31",
   "execution_count": 493
  },
  {
   "cell_type": "markdown",
   "source": [
    "When you set save_format=\"tf\", Keras saves the model using TensorFlow’s SavedModel format: this is a directory (with the given name) containing several files and subdirectories. In particular, the saved_model.pb file contains the model’s architecture and logic in the form of a serialized computation graph, so you don’t need to deploy the model’s source code in order to use it in production; the SavedModel is sufficient (you will see how this works in Chapter 12). The keras_metadata.pb file contains extra information needed by Keras. The variables subdirectory contains all the parameter values (including the connection weights, the biases, the normalization statistics, and the optimizer’s parameters), possibly split across multiple files if the model is very large. Lastly, the assets directory may contain extra files, such as data samples, feature names, class names, and so on. By default, the assets directory is empty. Since the optimizer is also saved, including its hyperparameters and any state it may have, after loading the model you can continue training if you want."
   ],
   "metadata": {
    "collapsed": false
   },
   "id": "d8921ad01acb9d2d"
  },
  {
   "cell_type": "markdown",
   "source": [
    "NOTE\n",
    "If you set save_format=\"h5\" or use a filename that ends with .h5, .hdf5, or .keras, then Keras will save the model to a single file using a Keras-specific format based on the HDF5 format. However, most TensorFlow deployment tools require the SavedModel format instead."
   ],
   "metadata": {
    "collapsed": false
   },
   "id": "dc918c412e8c125c"
  },
  {
   "cell_type": "markdown",
   "source": [
    "You will typically have a script that trains a model and saves it, and one or more scripts (or web services) that load the model and use it to evaluate it or to make predictions. Loading the model is just as easy as saving it:"
   ],
   "metadata": {
    "collapsed": false
   },
   "id": "24ba19ffb229e307"
  },
  {
   "cell_type": "code",
   "outputs": [
    {
     "name": "stdout",
     "output_type": "stream",
     "text": [
      "1/1 [==============================] - 0s 53ms/step\n"
     ]
    }
   ],
   "source": [
    "model = tf.keras.models.load_model(path_to_keras_model)\n",
    "y_pred_main, y_pred_aux = model.predict((X_new_wide, X_new_deep))"
   ],
   "metadata": {
    "collapsed": false,
    "ExecuteTime": {
     "end_time": "2024-02-25T18:13:23.169003200Z",
     "start_time": "2024-02-25T18:13:22.895406500Z"
    }
   },
   "id": "e60bed6e80eb8440",
   "execution_count": 494
  },
  {
   "cell_type": "markdown",
   "source": [
    "You can also use save_weights() and load_weights() to save and load only the parameter values. This includes the connection weights, biases, preprocessing stats, optimizer state, etc. The parameter values are saved in one or more files such as my_weights.data-00004-of-00052, plus an index file like my_weights.index.\n",
    "\n",
    "Saving just the weights is faster and uses less disk space than saving the whole model, so it’s perfect to save quick checkpoints during training. If you’re training a big model, and it takes hours or days, then you must save checkpoints regularly in case the computer crashes. But how can you tell the fit() method to save checkpoints? Use callbacks."
   ],
   "metadata": {
    "collapsed": false
   },
   "id": "5d88baf5ed3fb160"
  },
  {
   "cell_type": "code",
   "outputs": [],
   "source": [
    "path_to_saved_weights = \"saved_models/my_weights\"\n",
    "model.save_weights(path_to_saved_weights)"
   ],
   "metadata": {
    "collapsed": false,
    "ExecuteTime": {
     "end_time": "2024-02-25T18:13:23.252676300Z",
     "start_time": "2024-02-25T18:13:23.164985900Z"
    }
   },
   "id": "6643942f6842f629",
   "execution_count": 495
  },
  {
   "cell_type": "code",
   "outputs": [
    {
     "data": {
      "text/plain": "<tensorflow.python.checkpoint.checkpoint.CheckpointLoadStatus at 0x233d8db6cd0>"
     },
     "execution_count": 496,
     "metadata": {},
     "output_type": "execute_result"
    }
   ],
   "source": [
    "model.load_weights(path_to_saved_weights)"
   ],
   "metadata": {
    "collapsed": false,
    "ExecuteTime": {
     "end_time": "2024-02-25T18:13:23.274617500Z",
     "start_time": "2024-02-25T18:13:23.190553300Z"
    }
   },
   "id": "d9132f379de74520",
   "execution_count": 496
  },
  {
   "cell_type": "code",
   "outputs": [
    {
     "name": "stdout",
     "output_type": "stream",
     "text": [
      "saved_models\\my_weights.data-00000-of-00001\n",
      "saved_models\\my_weights.index\n"
     ]
    }
   ],
   "source": [
    "# extra code – show the list of my_weights.* files\n",
    "for path in sorted(Path().glob(f\"{path_to_saved_weights}.*\")):\n",
    "    print(path)"
   ],
   "metadata": {
    "collapsed": false,
    "ExecuteTime": {
     "end_time": "2024-02-25T18:13:23.289577400Z",
     "start_time": "2024-02-25T18:13:23.203515400Z"
    }
   },
   "id": "a75f6b88555e96c8",
   "execution_count": 497
  },
  {
   "cell_type": "markdown",
   "source": [
    "# USING CALLBACKS\n",
    "The fit() method accepts a callbacks argument that lets you specify a list of objects that Keras will call before and after training, before and after each epoch, and even before and after processing each batch. For example, the ModelCheckpoint callback saves checkpoints of your model at regular intervals during training, by default at the end of each epoch:"
   ],
   "metadata": {
    "collapsed": false
   },
   "id": "d96f6575e29c4274"
  },
  {
   "cell_type": "code",
   "outputs": [],
   "source": [
    "path_to_checkpoints = \"saved_models/my_checkpoints\"\n",
    "shutil.rmtree(path_to_checkpoints, ignore_errors=True)  # extra code"
   ],
   "metadata": {
    "collapsed": false,
    "ExecuteTime": {
     "end_time": "2024-02-25T18:13:23.297556400Z",
     "start_time": "2024-02-25T18:13:23.210003800Z"
    }
   },
   "id": "6cda4080349a4eed",
   "execution_count": 498
  },
  {
   "cell_type": "code",
   "outputs": [
    {
     "name": "stdout",
     "output_type": "stream",
     "text": [
      "Epoch 1/10\n",
      "363/363 [==============================] - 2s 2ms/step - loss: 0.3694 - output_1_loss: 0.3590 - output_2_loss: 0.4632 - output_1_root_mean_squared_error: 0.5991 - output_2_root_mean_squared_error: 0.6806 - val_loss: 0.5405 - val_output_1_loss: 0.5322 - val_output_2_loss: 0.6153 - val_output_1_root_mean_squared_error: 0.7295 - val_output_2_root_mean_squared_error: 0.7844\n",
      "Epoch 2/10\n",
      "363/363 [==============================] - 0s 1ms/step - loss: 0.3661 - output_1_loss: 0.3563 - output_2_loss: 0.4542 - output_1_root_mean_squared_error: 0.5969 - output_2_root_mean_squared_error: 0.6740 - val_loss: 1.0896 - val_output_1_loss: 1.0041 - val_output_2_loss: 1.8598 - val_output_1_root_mean_squared_error: 1.0020 - val_output_2_root_mean_squared_error: 1.3638\n",
      "Epoch 3/10\n",
      "363/363 [==============================] - 0s 1ms/step - loss: 0.3642 - output_1_loss: 0.3547 - output_2_loss: 0.4497 - output_1_root_mean_squared_error: 0.5956 - output_2_root_mean_squared_error: 0.6706 - val_loss: 0.8811 - val_output_1_loss: 0.8435 - val_output_2_loss: 1.2196 - val_output_1_root_mean_squared_error: 0.9184 - val_output_2_root_mean_squared_error: 1.1043\n",
      "Epoch 4/10\n",
      "363/363 [==============================] - 0s 1ms/step - loss: 0.3580 - output_1_loss: 0.3487 - output_2_loss: 0.4416 - output_1_root_mean_squared_error: 0.5905 - output_2_root_mean_squared_error: 0.6645 - val_loss: 1.8051 - val_output_1_loss: 1.7845 - val_output_2_loss: 1.9906 - val_output_1_root_mean_squared_error: 1.3359 - val_output_2_root_mean_squared_error: 1.4109\n",
      "Epoch 5/10\n",
      "363/363 [==============================] - 0s 1ms/step - loss: 0.3628 - output_1_loss: 0.3546 - output_2_loss: 0.4366 - output_1_root_mean_squared_error: 0.5955 - output_2_root_mean_squared_error: 0.6608 - val_loss: 2.0880 - val_output_1_loss: 2.1244 - val_output_2_loss: 1.7605 - val_output_1_root_mean_squared_error: 1.4575 - val_output_2_root_mean_squared_error: 1.3268\n",
      "Epoch 6/10\n",
      "363/363 [==============================] - 0s 1ms/step - loss: 0.3643 - output_1_loss: 0.3563 - output_2_loss: 0.4367 - output_1_root_mean_squared_error: 0.5969 - output_2_root_mean_squared_error: 0.6608 - val_loss: 0.6181 - val_output_1_loss: 0.5897 - val_output_2_loss: 0.8733 - val_output_1_root_mean_squared_error: 0.7679 - val_output_2_root_mean_squared_error: 0.9345\n",
      "Epoch 7/10\n",
      "363/363 [==============================] - 0s 1ms/step - loss: 0.3473 - output_1_loss: 0.3393 - output_2_loss: 0.4192 - output_1_root_mean_squared_error: 0.5825 - output_2_root_mean_squared_error: 0.6475 - val_loss: 0.4962 - val_output_1_loss: 0.4935 - val_output_2_loss: 0.5208 - val_output_1_root_mean_squared_error: 0.7025 - val_output_2_root_mean_squared_error: 0.7217\n",
      "Epoch 8/10\n",
      "363/363 [==============================] - 0s 1ms/step - loss: 0.3446 - output_1_loss: 0.3370 - output_2_loss: 0.4130 - output_1_root_mean_squared_error: 0.5805 - output_2_root_mean_squared_error: 0.6427 - val_loss: 1.2549 - val_output_1_loss: 1.1274 - val_output_2_loss: 2.4030 - val_output_1_root_mean_squared_error: 1.0618 - val_output_2_root_mean_squared_error: 1.5502\n",
      "Epoch 9/10\n",
      "363/363 [==============================] - 0s 1ms/step - loss: 0.3444 - output_1_loss: 0.3362 - output_2_loss: 0.4181 - output_1_root_mean_squared_error: 0.5798 - output_2_root_mean_squared_error: 0.6466 - val_loss: 0.9807 - val_output_1_loss: 0.9532 - val_output_2_loss: 1.2277 - val_output_1_root_mean_squared_error: 0.9763 - val_output_2_root_mean_squared_error: 1.1080\n",
      "Epoch 10/10\n",
      "363/363 [==============================] - 0s 1ms/step - loss: 0.3493 - output_1_loss: 0.3416 - output_2_loss: 0.4185 - output_1_root_mean_squared_error: 0.5844 - output_2_root_mean_squared_error: 0.6469 - val_loss: 1.3512 - val_output_1_loss: 1.3036 - val_output_2_loss: 1.7792 - val_output_1_root_mean_squared_error: 1.1418 - val_output_2_root_mean_squared_error: 1.3339\n"
     ]
    }
   ],
   "source": [
    "checkpoint_cb = tf.keras.callbacks.ModelCheckpoint(path_to_checkpoints,                                        save_weights_only=True)\n",
    "\n",
    "history = model.fit(\n",
    "    (X_train_wide, X_train_deep), (y_train, y_train), epochs=10,\n",
    "    validation_data=((X_valid_wide, X_valid_deep), (y_valid, y_valid)),\n",
    "    callbacks=[checkpoint_cb])"
   ],
   "metadata": {
    "collapsed": false,
    "ExecuteTime": {
     "end_time": "2024-02-25T18:13:28.905713200Z",
     "start_time": "2024-02-25T18:13:23.214778Z"
    }
   },
   "id": "3f8333cafb8dc6a",
   "execution_count": 499
  },
  {
   "cell_type": "markdown",
   "source": [
    "Moreover, if you use a validation set during training, you can set save_​best_only=True when creating the ModelCheckpoint. In this case, it will only save your model when its performance on the validation set is the best so far. This way, you do not need to worry about training for too long and overfitting the training set: simply restore the last saved model after training, and this will be the best model on the validation set. This is one way to implement early stopping (introduced in Chapter 4), but it won’t actually stop training.\n",
    "\n",
    "Another way is to use the EarlyStopping callback. It will interrupt training when it measures no progress on the validation set for a number of epochs (defined by the patience argument), and if you set restore_best_weights=True it will roll back to the best model at the end of training. You can combine both callbacks to save checkpoints of your model in case your computer crashes, and interrupt training early when there is no more progress, to avoid wasting time and resources and to reduce overfitting:"
   ],
   "metadata": {
    "collapsed": false
   },
   "id": "fc4f82151d25b325"
  },
  {
   "cell_type": "code",
   "outputs": [
    {
     "name": "stdout",
     "output_type": "stream",
     "text": [
      "Epoch 1/100\n",
      "363/363 [==============================] - 0s 1ms/step - loss: 0.3429 - output_1_loss: 0.3354 - output_2_loss: 0.4109 - output_1_root_mean_squared_error: 0.5791 - output_2_root_mean_squared_error: 0.6410 - val_loss: 0.6776 - val_output_1_loss: 0.6766 - val_output_2_loss: 0.6859 - val_output_1_root_mean_squared_error: 0.8226 - val_output_2_root_mean_squared_error: 0.8282\n",
      "Epoch 2/100\n",
      "363/363 [==============================] - 0s 1ms/step - loss: 0.3492 - output_1_loss: 0.3427 - output_2_loss: 0.4077 - output_1_root_mean_squared_error: 0.5854 - output_2_root_mean_squared_error: 0.6385 - val_loss: 0.7605 - val_output_1_loss: 0.7129 - val_output_2_loss: 1.1887 - val_output_1_root_mean_squared_error: 0.8443 - val_output_2_root_mean_squared_error: 1.0903\n",
      "Epoch 3/100\n",
      "363/363 [==============================] - 0s 1ms/step - loss: 0.3367 - output_1_loss: 0.3298 - output_2_loss: 0.3985 - output_1_root_mean_squared_error: 0.5743 - output_2_root_mean_squared_error: 0.6313 - val_loss: 0.3186 - val_output_1_loss: 0.3106 - val_output_2_loss: 0.3905 - val_output_1_root_mean_squared_error: 0.5573 - val_output_2_root_mean_squared_error: 0.6249\n",
      "Epoch 4/100\n",
      "363/363 [==============================] - 0s 1ms/step - loss: 0.3343 - output_1_loss: 0.3275 - output_2_loss: 0.3960 - output_1_root_mean_squared_error: 0.5723 - output_2_root_mean_squared_error: 0.6293 - val_loss: 0.5749 - val_output_1_loss: 0.5486 - val_output_2_loss: 0.8109 - val_output_1_root_mean_squared_error: 0.7407 - val_output_2_root_mean_squared_error: 0.9005\n",
      "Epoch 5/100\n",
      "363/363 [==============================] - 0s 1ms/step - loss: 0.3344 - output_1_loss: 0.3279 - output_2_loss: 0.3933 - output_1_root_mean_squared_error: 0.5726 - output_2_root_mean_squared_error: 0.6271 - val_loss: 0.7558 - val_output_1_loss: 0.7336 - val_output_2_loss: 0.9549 - val_output_1_root_mean_squared_error: 0.8565 - val_output_2_root_mean_squared_error: 0.9772\n",
      "Epoch 6/100\n",
      "363/363 [==============================] - 0s 1ms/step - loss: 0.3357 - output_1_loss: 0.3288 - output_2_loss: 0.3978 - output_1_root_mean_squared_error: 0.5734 - output_2_root_mean_squared_error: 0.6307 - val_loss: 1.1162 - val_output_1_loss: 1.0896 - val_output_2_loss: 1.3557 - val_output_1_root_mean_squared_error: 1.0438 - val_output_2_root_mean_squared_error: 1.1643\n",
      "Epoch 7/100\n",
      "363/363 [==============================] - 0s 1ms/step - loss: 0.3354 - output_1_loss: 0.3289 - output_2_loss: 0.3938 - output_1_root_mean_squared_error: 0.5735 - output_2_root_mean_squared_error: 0.6276 - val_loss: 0.4597 - val_output_1_loss: 0.4557 - val_output_2_loss: 0.4959 - val_output_1_root_mean_squared_error: 0.6751 - val_output_2_root_mean_squared_error: 0.7042\n",
      "Epoch 8/100\n",
      "363/363 [==============================] - 0s 1ms/step - loss: 0.3293 - output_1_loss: 0.3228 - output_2_loss: 0.3880 - output_1_root_mean_squared_error: 0.5681 - output_2_root_mean_squared_error: 0.6229 - val_loss: 1.3124 - val_output_1_loss: 1.2829 - val_output_2_loss: 1.5781 - val_output_1_root_mean_squared_error: 1.1327 - val_output_2_root_mean_squared_error: 1.2562\n",
      "Epoch 9/100\n",
      "363/363 [==============================] - 0s 1ms/step - loss: 0.3309 - output_1_loss: 0.3245 - output_2_loss: 0.3889 - output_1_root_mean_squared_error: 0.5696 - output_2_root_mean_squared_error: 0.6236 - val_loss: 1.0059 - val_output_1_loss: 1.0144 - val_output_2_loss: 0.9294 - val_output_1_root_mean_squared_error: 1.0072 - val_output_2_root_mean_squared_error: 0.9641\n",
      "Epoch 10/100\n",
      "363/363 [==============================] - 0s 1ms/step - loss: 0.3362 - output_1_loss: 0.3301 - output_2_loss: 0.3912 - output_1_root_mean_squared_error: 0.5746 - output_2_root_mean_squared_error: 0.6255 - val_loss: 0.9790 - val_output_1_loss: 0.9655 - val_output_2_loss: 1.0998 - val_output_1_root_mean_squared_error: 0.9826 - val_output_2_root_mean_squared_error: 1.0487\n",
      "Epoch 11/100\n",
      "363/363 [==============================] - 0s 1ms/step - loss: 0.3271 - output_1_loss: 0.3209 - output_2_loss: 0.3827 - output_1_root_mean_squared_error: 0.5665 - output_2_root_mean_squared_error: 0.6186 - val_loss: 0.3141 - val_output_1_loss: 0.3034 - val_output_2_loss: 0.4102 - val_output_1_root_mean_squared_error: 0.5508 - val_output_2_root_mean_squared_error: 0.6405\n",
      "Epoch 12/100\n",
      "363/363 [==============================] - 0s 1ms/step - loss: 0.3295 - output_1_loss: 0.3236 - output_2_loss: 0.3831 - output_1_root_mean_squared_error: 0.5688 - output_2_root_mean_squared_error: 0.6190 - val_loss: 0.6890 - val_output_1_loss: 0.6734 - val_output_2_loss: 0.8293 - val_output_1_root_mean_squared_error: 0.8206 - val_output_2_root_mean_squared_error: 0.9107\n",
      "Epoch 13/100\n",
      "363/363 [==============================] - 0s 1ms/step - loss: 0.3261 - output_1_loss: 0.3198 - output_2_loss: 0.3825 - output_1_root_mean_squared_error: 0.5655 - output_2_root_mean_squared_error: 0.6185 - val_loss: 0.3560 - val_output_1_loss: 0.3542 - val_output_2_loss: 0.3726 - val_output_1_root_mean_squared_error: 0.5951 - val_output_2_root_mean_squared_error: 0.6104\n",
      "Epoch 14/100\n",
      "363/363 [==============================] - 0s 1ms/step - loss: 0.3237 - output_1_loss: 0.3175 - output_2_loss: 0.3787 - output_1_root_mean_squared_error: 0.5635 - output_2_root_mean_squared_error: 0.6154 - val_loss: 0.7779 - val_output_1_loss: 0.7542 - val_output_2_loss: 0.9911 - val_output_1_root_mean_squared_error: 0.8684 - val_output_2_root_mean_squared_error: 0.9955\n",
      "Epoch 15/100\n",
      "363/363 [==============================] - 0s 1ms/step - loss: 0.3251 - output_1_loss: 0.3192 - output_2_loss: 0.3785 - output_1_root_mean_squared_error: 0.5650 - output_2_root_mean_squared_error: 0.6152 - val_loss: 0.9573 - val_output_1_loss: 0.9892 - val_output_2_loss: 0.6706 - val_output_1_root_mean_squared_error: 0.9946 - val_output_2_root_mean_squared_error: 0.8189\n",
      "Epoch 16/100\n",
      "363/363 [==============================] - 0s 1ms/step - loss: 0.3280 - output_1_loss: 0.3219 - output_2_loss: 0.3821 - output_1_root_mean_squared_error: 0.5674 - output_2_root_mean_squared_error: 0.6181 - val_loss: 1.7621 - val_output_1_loss: 1.5652 - val_output_2_loss: 3.5342 - val_output_1_root_mean_squared_error: 1.2511 - val_output_2_root_mean_squared_error: 1.8800\n",
      "Epoch 17/100\n",
      "363/363 [==============================] - 0s 1ms/step - loss: 0.3314 - output_1_loss: 0.3243 - output_2_loss: 0.3949 - output_1_root_mean_squared_error: 0.5695 - output_2_root_mean_squared_error: 0.6284 - val_loss: 0.5199 - val_output_1_loss: 0.5034 - val_output_2_loss: 0.6685 - val_output_1_root_mean_squared_error: 0.7095 - val_output_2_root_mean_squared_error: 0.8176\n",
      "Epoch 18/100\n",
      "363/363 [==============================] - 0s 1ms/step - loss: 0.3223 - output_1_loss: 0.3162 - output_2_loss: 0.3771 - output_1_root_mean_squared_error: 0.5623 - output_2_root_mean_squared_error: 0.6141 - val_loss: 0.7553 - val_output_1_loss: 0.7003 - val_output_2_loss: 1.2502 - val_output_1_root_mean_squared_error: 0.8368 - val_output_2_root_mean_squared_error: 1.1181\n",
      "Epoch 19/100\n",
      "363/363 [==============================] - 0s 1ms/step - loss: 0.3208 - output_1_loss: 0.3148 - output_2_loss: 0.3747 - output_1_root_mean_squared_error: 0.5611 - output_2_root_mean_squared_error: 0.6121 - val_loss: 0.3057 - val_output_1_loss: 0.2985 - val_output_2_loss: 0.3709 - val_output_1_root_mean_squared_error: 0.5464 - val_output_2_root_mean_squared_error: 0.6090\n",
      "Epoch 20/100\n",
      "363/363 [==============================] - 0s 1ms/step - loss: 0.3199 - output_1_loss: 0.3142 - output_2_loss: 0.3711 - output_1_root_mean_squared_error: 0.5606 - output_2_root_mean_squared_error: 0.6092 - val_loss: 0.4495 - val_output_1_loss: 0.4330 - val_output_2_loss: 0.5982 - val_output_1_root_mean_squared_error: 0.6580 - val_output_2_root_mean_squared_error: 0.7734\n",
      "Epoch 21/100\n",
      "363/363 [==============================] - 0s 1ms/step - loss: 0.3171 - output_1_loss: 0.3114 - output_2_loss: 0.3682 - output_1_root_mean_squared_error: 0.5581 - output_2_root_mean_squared_error: 0.6068 - val_loss: 0.3323 - val_output_1_loss: 0.3222 - val_output_2_loss: 0.4225 - val_output_1_root_mean_squared_error: 0.5677 - val_output_2_root_mean_squared_error: 0.6500\n",
      "Epoch 22/100\n",
      "363/363 [==============================] - 0s 1ms/step - loss: 0.3170 - output_1_loss: 0.3114 - output_2_loss: 0.3672 - output_1_root_mean_squared_error: 0.5581 - output_2_root_mean_squared_error: 0.6060 - val_loss: 0.3939 - val_output_1_loss: 0.3827 - val_output_2_loss: 0.4955 - val_output_1_root_mean_squared_error: 0.6186 - val_output_2_root_mean_squared_error: 0.7039\n",
      "Epoch 23/100\n",
      "363/363 [==============================] - 0s 1ms/step - loss: 0.3148 - output_1_loss: 0.3091 - output_2_loss: 0.3656 - output_1_root_mean_squared_error: 0.5560 - output_2_root_mean_squared_error: 0.6047 - val_loss: 0.3634 - val_output_1_loss: 0.3518 - val_output_2_loss: 0.4678 - val_output_1_root_mean_squared_error: 0.5931 - val_output_2_root_mean_squared_error: 0.6839\n",
      "Epoch 24/100\n",
      "363/363 [==============================] - 0s 1ms/step - loss: 0.3157 - output_1_loss: 0.3099 - output_2_loss: 0.3684 - output_1_root_mean_squared_error: 0.5567 - output_2_root_mean_squared_error: 0.6070 - val_loss: 0.8289 - val_output_1_loss: 0.7805 - val_output_2_loss: 1.2642 - val_output_1_root_mean_squared_error: 0.8835 - val_output_2_root_mean_squared_error: 1.1243\n",
      "Epoch 25/100\n",
      "363/363 [==============================] - 0s 1ms/step - loss: 0.3167 - output_1_loss: 0.3110 - output_2_loss: 0.3686 - output_1_root_mean_squared_error: 0.5576 - output_2_root_mean_squared_error: 0.6071 - val_loss: 0.3613 - val_output_1_loss: 0.3485 - val_output_2_loss: 0.4762 - val_output_1_root_mean_squared_error: 0.5904 - val_output_2_root_mean_squared_error: 0.6901\n",
      "Epoch 26/100\n",
      "363/363 [==============================] - 0s 1ms/step - loss: 0.3162 - output_1_loss: 0.3104 - output_2_loss: 0.3686 - output_1_root_mean_squared_error: 0.5571 - output_2_root_mean_squared_error: 0.6071 - val_loss: 1.3008 - val_output_1_loss: 1.2304 - val_output_2_loss: 1.9338 - val_output_1_root_mean_squared_error: 1.1093 - val_output_2_root_mean_squared_error: 1.3906\n",
      "Epoch 27/100\n",
      "363/363 [==============================] - 0s 1ms/step - loss: 0.3152 - output_1_loss: 0.3094 - output_2_loss: 0.3670 - output_1_root_mean_squared_error: 0.5563 - output_2_root_mean_squared_error: 0.6058 - val_loss: 0.3610 - val_output_1_loss: 0.3504 - val_output_2_loss: 0.4561 - val_output_1_root_mean_squared_error: 0.5919 - val_output_2_root_mean_squared_error: 0.6754\n",
      "Epoch 28/100\n",
      "363/363 [==============================] - 0s 1ms/step - loss: 0.3167 - output_1_loss: 0.3109 - output_2_loss: 0.3689 - output_1_root_mean_squared_error: 0.5576 - output_2_root_mean_squared_error: 0.6074 - val_loss: 0.6256 - val_output_1_loss: 0.6252 - val_output_2_loss: 0.6294 - val_output_1_root_mean_squared_error: 0.7907 - val_output_2_root_mean_squared_error: 0.7934\n",
      "Epoch 29/100\n",
      "363/363 [==============================] - 0s 1ms/step - loss: 0.3125 - output_1_loss: 0.3069 - output_2_loss: 0.3633 - output_1_root_mean_squared_error: 0.5539 - output_2_root_mean_squared_error: 0.6027 - val_loss: 0.3070 - val_output_1_loss: 0.2979 - val_output_2_loss: 0.3896 - val_output_1_root_mean_squared_error: 0.5458 - val_output_2_root_mean_squared_error: 0.6242\n"
     ]
    }
   ],
   "source": [
    "early_stopping_cb = tf.keras.callbacks.EarlyStopping(patience=10,\n",
    "                                                     restore_best_weights=True)\n",
    "history = model.fit(\n",
    "    (X_train_wide, X_train_deep), (y_train, y_train), epochs=100,\n",
    "    validation_data=((X_valid_wide, X_valid_deep), (y_valid, y_valid)),\n",
    "    callbacks=[checkpoint_cb, early_stopping_cb])"
   ],
   "metadata": {
    "collapsed": false,
    "ExecuteTime": {
     "end_time": "2024-02-25T18:13:42.216649300Z",
     "start_time": "2024-02-25T18:13:28.903718500Z"
    }
   },
   "id": "b84b8c0eb640b7f",
   "execution_count": 500
  },
  {
   "cell_type": "markdown",
   "source": [
    "The number of epochs can be set to a large value since training will stop automatically when there is no more progress (just make sure the learning rate is not too small, or else it might keep making slow progress until the end). The EarlyStopping callback will store the weights of the best model in RAM, and it will restore them for you at the end of training."
   ],
   "metadata": {
    "collapsed": false
   },
   "id": "29b1f043687fc62b"
  },
  {
   "cell_type": "markdown",
   "source": [
    "TIP\n",
    "Many other callbacks are available in the tf.keras.callbacks package."
   ],
   "metadata": {
    "collapsed": false
   },
   "id": "dc455f6a06c4c06f"
  },
  {
   "cell_type": "markdown",
   "source": [
    "If you need extra control, you can easily write your own custom callbacks. For example, the following custom callback will display the ratio between the validation loss and the training loss during training (e.g., to detect overfitting):"
   ],
   "metadata": {
    "collapsed": false
   },
   "id": "f1d67a3969d633b9"
  },
  {
   "cell_type": "code",
   "outputs": [],
   "source": [
    "class PrintValTrainRatioCallback(tf.keras.callbacks.Callback):\n",
    "    def on_epoch_end(self, epoch, logs):\n",
    "        ratio = logs[\"val_loss\"] / logs[\"loss\"]\n",
    "        print(f\"Epoch={epoch}, val/train={ratio:.2f}\")"
   ],
   "metadata": {
    "collapsed": false,
    "ExecuteTime": {
     "end_time": "2024-02-25T18:13:42.224625900Z",
     "start_time": "2024-02-25T18:13:42.214651100Z"
    }
   },
   "id": "aa46f2125cb72141",
   "execution_count": 501
  },
  {
   "cell_type": "code",
   "outputs": [
    {
     "name": "stdout",
     "output_type": "stream",
     "text": [
      "Epoch=0, val/train=1.39\n",
      "Epoch=1, val/train=1.03\n",
      "Epoch=2, val/train=1.59\n",
      "Epoch=3, val/train=1.45\n",
      "Epoch=4, val/train=3.02\n",
      "Epoch=5, val/train=1.42\n",
      "Epoch=6, val/train=3.51\n",
      "Epoch=7, val/train=1.77\n",
      "Epoch=8, val/train=2.60\n",
      "Epoch=9, val/train=0.95\n"
     ]
    }
   ],
   "source": [
    "val_train_ratio_cb = PrintValTrainRatioCallback()\n",
    "history = model.fit(\n",
    "    (X_train_wide, X_train_deep), (y_train, y_train), epochs=10,\n",
    "    validation_data=((X_valid_wide, X_valid_deep), (y_valid, y_valid)),\n",
    "    callbacks=[val_train_ratio_cb], verbose=0)"
   ],
   "metadata": {
    "collapsed": false,
    "ExecuteTime": {
     "end_time": "2024-02-25T18:13:45.948825100Z",
     "start_time": "2024-02-25T18:13:42.216649300Z"
    }
   },
   "id": "649705e879c074f7",
   "execution_count": 502
  },
  {
   "cell_type": "markdown",
   "source": [
    "As you might expect, you can implement on_train_begin(), on_train_end(), on_epoch_begin(), on_epoch_end(), on_batch_begin(), and on_batch_end(). Callbacks can also be used during evaluation and predictions, should you ever need them (e.g., for debugging). For evaluation, you should implement on_test_begin(), on_test_end(), on_test_batch_begin(), or on_test_batch_end(), which are called by evaluate(). For prediction, you should implement on_predict_begin(), on_predict_end(), on_predict_batch_begin(), or on_predict_batch_end(), which are called by predict().\n",
    "\n",
    "Now let’s take a look at one more tool you should definitely have in your toolbox when using Keras: TensorBoard."
   ],
   "metadata": {
    "collapsed": false
   },
   "id": "a2fd8e1e7a2103b5"
  },
  {
   "cell_type": "markdown",
   "source": [
    "# USING TENSORBOARD FOR VISUALIZATION\n",
    "TensorBoard is a great interactive visualization tool that you can use to view the learning curves during training, compare curves and metrics between multiple runs, visualize the computation graph, analyze training statistics, view images generated by your model, visualize complex multidimensional data projected down to 3D and automatically clustered for you, profile your network (i.e., measure its speed to identify bottlenecks), and more!\n",
    "\n",
    "TensorBoard is installed automatically when you install TensorFlow. However, you will need a TensorBoard plug-in to visualize profiling data. If you followed the installation instructions at https://homl.info/install to run everything locally, then you already have the plug-in installed, but if you are using Colab, then you must run the following command:"
   ],
   "metadata": {
    "collapsed": false
   },
   "id": "252a0dbd70f8af87"
  },
  {
   "cell_type": "markdown",
   "source": [
    "To use TensorBoard, you must modify your program so that it outputs the data you want to visualize to special binary logfiles called event files. Each binary data record is called a summary. The TensorBoard server will monitor the log directory, and it will automatically pick up the changes and update the visualizations: this allows you to visualize live data (with a short delay), such as the learning curves during training. In general, you want to point the TensorBoard server to a root log directory and configure your program so that it writes to a different subdirectory every time it runs. This way, the same TensorBoard server instance will allow you to visualize and compare data from multiple runs of your program, without getting everything mixed up.\n",
    "\n",
    "Let’s name the root log directory my_logs, and let’s define a little function that generates the path of the log subdirectory based on the current date and time, so that it’s different at every run:"
   ],
   "metadata": {
    "collapsed": false
   },
   "id": "20987ccb8f21173e"
  },
  {
   "cell_type": "code",
   "outputs": [],
   "source": [
    "shutil.rmtree(\"my_logs\", ignore_errors=True)"
   ],
   "metadata": {
    "collapsed": false,
    "ExecuteTime": {
     "end_time": "2024-02-25T18:13:45.964813900Z",
     "start_time": "2024-02-25T18:13:45.942896900Z"
    }
   },
   "id": "8e7da7e6a5dd281f",
   "execution_count": 503
  },
  {
   "cell_type": "code",
   "outputs": [],
   "source": [
    "from pathlib import Path\n",
    "from time import strftime\n",
    "\n",
    "\n",
    "def get_run_logdir(root_logdir=\"my_logs\"):\n",
    "    return Path(root_logdir) / strftime(\"run_%Y_%m_%d_%H_%M_%S\")\n",
    "\n",
    "\n",
    "run_logdir = get_run_logdir()  # e.g., my_logs/run_2022_08_01_17_25_59"
   ],
   "metadata": {
    "collapsed": false,
    "ExecuteTime": {
     "end_time": "2024-02-25T18:13:45.978769500Z",
     "start_time": "2024-02-25T18:13:45.948321500Z"
    }
   },
   "id": "c4be34aa89b5df75",
   "execution_count": 504
  },
  {
   "cell_type": "markdown",
   "source": [
    "The good news is that Keras provides a convenient TensorBoard() callback that will take care of creating the log directory for you (along with its parent directories if needed), and it will create event files and write summaries to them during training. It will measure your model’s training and validation loss and metrics (in this case, the MSE and RMSE), and it will also profile your neural network. It is straightforward to use:"
   ],
   "metadata": {
    "collapsed": false
   },
   "id": "79211ecef7e49ee1"
  },
  {
   "cell_type": "code",
   "outputs": [],
   "source": [
    "# extra code – builds the first regression model we used earlier\n",
    "tf.keras.backend.clear_session()\n",
    "tf.random.set_seed(42)\n",
    "norm_layer = tf.keras.layers.Normalization(input_shape=X_train.shape[1:])\n",
    "model = tf.keras.Sequential([\n",
    "    norm_layer,\n",
    "    tf.keras.layers.Dense(30, activation=\"relu\"),\n",
    "    tf.keras.layers.Dense(30, activation=\"relu\"),\n",
    "    tf.keras.layers.Dense(1)\n",
    "])\n",
    "optimizer = tf.keras.optimizers.SGD(learning_rate=1e-3)\n",
    "model.compile(loss=\"mse\", optimizer=optimizer, metrics=[\"RootMeanSquaredError\"])\n",
    "norm_layer.adapt(X_train)"
   ],
   "metadata": {
    "collapsed": false,
    "ExecuteTime": {
     "end_time": "2024-02-25T18:13:46.241984300Z",
     "start_time": "2024-02-25T18:13:45.950821500Z"
    }
   },
   "id": "9bf0beded85f8ab4",
   "execution_count": 505
  },
  {
   "cell_type": "code",
   "outputs": [
    {
     "name": "stdout",
     "output_type": "stream",
     "text": [
      "Epoch 1/20\n",
      "363/363 [==============================] - 2s 4ms/step - loss: 1.6553 - root_mean_squared_error: 1.2866 - val_loss: 1.9369 - val_root_mean_squared_error: 1.3917\n",
      "Epoch 2/20\n",
      "363/363 [==============================] - 0s 1ms/step - loss: 0.6955 - root_mean_squared_error: 0.8340 - val_loss: 0.9719 - val_root_mean_squared_error: 0.9858\n",
      "Epoch 3/20\n",
      "363/363 [==============================] - 0s 1ms/step - loss: 0.6227 - root_mean_squared_error: 0.7891 - val_loss: 0.6490 - val_root_mean_squared_error: 0.8056\n",
      "Epoch 4/20\n",
      "363/363 [==============================] - 0s 1ms/step - loss: 0.5758 - root_mean_squared_error: 0.7588 - val_loss: 0.5639 - val_root_mean_squared_error: 0.7509\n",
      "Epoch 5/20\n",
      "363/363 [==============================] - 0s 1ms/step - loss: 0.5411 - root_mean_squared_error: 0.7356 - val_loss: 0.5063 - val_root_mean_squared_error: 0.7116\n",
      "Epoch 6/20\n",
      "363/363 [==============================] - 0s 1ms/step - loss: 0.5132 - root_mean_squared_error: 0.7164 - val_loss: 0.4773 - val_root_mean_squared_error: 0.6909\n",
      "Epoch 7/20\n",
      "363/363 [==============================] - 0s 1ms/step - loss: 0.4918 - root_mean_squared_error: 0.7013 - val_loss: 0.4536 - val_root_mean_squared_error: 0.6735\n",
      "Epoch 8/20\n",
      "363/363 [==============================] - 0s 1ms/step - loss: 0.4745 - root_mean_squared_error: 0.6889 - val_loss: 0.4380 - val_root_mean_squared_error: 0.6618\n",
      "Epoch 9/20\n",
      "363/363 [==============================] - 0s 1ms/step - loss: 0.4606 - root_mean_squared_error: 0.6787 - val_loss: 0.4257 - val_root_mean_squared_error: 0.6525\n",
      "Epoch 10/20\n",
      "363/363 [==============================] - 0s 1ms/step - loss: 0.4490 - root_mean_squared_error: 0.6701 - val_loss: 0.4167 - val_root_mean_squared_error: 0.6455\n",
      "Epoch 11/20\n",
      "363/363 [==============================] - 0s 1ms/step - loss: 0.4398 - root_mean_squared_error: 0.6632 - val_loss: 0.4158 - val_root_mean_squared_error: 0.6448\n",
      "Epoch 12/20\n",
      "363/363 [==============================] - 0s 1ms/step - loss: 0.4316 - root_mean_squared_error: 0.6570 - val_loss: 0.4094 - val_root_mean_squared_error: 0.6399\n",
      "Epoch 13/20\n",
      "363/363 [==============================] - 0s 1ms/step - loss: 0.4248 - root_mean_squared_error: 0.6518 - val_loss: 0.4103 - val_root_mean_squared_error: 0.6406\n",
      "Epoch 14/20\n",
      "363/363 [==============================] - 0s 1ms/step - loss: 0.4188 - root_mean_squared_error: 0.6471 - val_loss: 0.4049 - val_root_mean_squared_error: 0.6363\n",
      "Epoch 15/20\n",
      "363/363 [==============================] - 0s 1ms/step - loss: 0.4135 - root_mean_squared_error: 0.6431 - val_loss: 0.4064 - val_root_mean_squared_error: 0.6375\n",
      "Epoch 16/20\n",
      "363/363 [==============================] - 0s 1ms/step - loss: 0.4088 - root_mean_squared_error: 0.6394 - val_loss: 0.4001 - val_root_mean_squared_error: 0.6326\n",
      "Epoch 17/20\n",
      "363/363 [==============================] - 0s 1ms/step - loss: 0.4048 - root_mean_squared_error: 0.6362 - val_loss: 0.4056 - val_root_mean_squared_error: 0.6369\n",
      "Epoch 18/20\n",
      "363/363 [==============================] - 0s 1ms/step - loss: 0.4010 - root_mean_squared_error: 0.6333 - val_loss: 0.4062 - val_root_mean_squared_error: 0.6374\n",
      "Epoch 19/20\n",
      "363/363 [==============================] - 0s 1ms/step - loss: 0.3972 - root_mean_squared_error: 0.6303 - val_loss: 0.3969 - val_root_mean_squared_error: 0.6300\n",
      "Epoch 20/20\n",
      "363/363 [==============================] - 0s 1ms/step - loss: 0.3945 - root_mean_squared_error: 0.6281 - val_loss: 0.4140 - val_root_mean_squared_error: 0.6435\n"
     ]
    }
   ],
   "source": [
    "\n",
    "tensorboard_cb = tf.keras.callbacks.TensorBoard(run_logdir,\n",
    "                                                profile_batch=(100, 200))\n",
    "history = model.fit(X_train, y_train, epochs=20,\n",
    "                    validation_data=(X_valid, y_valid),\n",
    "                    callbacks=[tensorboard_cb])"
   ],
   "metadata": {
    "collapsed": false,
    "ExecuteTime": {
     "end_time": "2024-02-25T18:13:55.620211100Z",
     "start_time": "2024-02-25T18:13:46.241984300Z"
    }
   },
   "id": "47584794c832606e",
   "execution_count": 506
  },
  {
   "cell_type": "markdown",
   "source": [
    "That’s all there is to it! In this example, it will profile the network between batches 100 and 200 during the first epoch. Why 100 and 200? Well, it often takes a few batches for the neural network to “warm up”, so you don’t want to profile too early, and profiling uses resources, so it’s best not to do it for every batch.\n",
    "\n",
    "Next, try changing the learning rate from 0.001 to 0.002, and run the code again, with a new log subdirectory. You will end up with a directory structure similar to this one:"
   ],
   "metadata": {
    "collapsed": false
   },
   "id": "5f44cc45a0d96df"
  },
  {
   "cell_type": "code",
   "outputs": [
    {
     "name": "stdout",
     "output_type": "stream",
     "text": [
      "my_logs\n",
      "  run_2024_02_25_19_13_45\n",
      "    plugins\n",
      "      profile\n",
      "        2024_02_25_18_13_47\n",
      "          DESKTOP-AS603PT.xplane.pb\n",
      "    train\n",
      "      events.out.tfevents.1708884826.DESKTOP-AS603PT.9920.173.v2\n",
      "    validation\n",
      "      events.out.tfevents.1708884827.DESKTOP-AS603PT.9920.174.v2\n"
     ]
    }
   ],
   "source": [
    "print(\"my_logs\")\n",
    "for path in sorted(Path(\"my_logs\").glob(\"**/*\")):\n",
    "    print(\"  \" * (len(path.parts) - 1) + path.parts[-1])"
   ],
   "metadata": {
    "collapsed": false,
    "ExecuteTime": {
     "end_time": "2024-02-25T18:13:55.638754900Z",
     "start_time": "2024-02-25T18:13:55.619212900Z"
    }
   },
   "id": "76b6f098ebf2960c",
   "execution_count": 507
  },
  {
   "cell_type": "markdown",
   "source": [
    "There’s one directory per run, each containing one subdirectory for training logs and one for validation logs. Both contain event files, and the training logs also include profiling traces.\n",
    "\n",
    "Now that you have the event files ready, it’s time to start the TensorBoard server. This can be done directly within Jupyter or Colab using the Jupyter extension for TensorBoard, which gets installed along with the TensorBoard library. This extension is preinstalled in Colab. The following code loads the Jupyter extension for TensorBoard, and the second line starts a TensorBoard server for the my_logs directory, connects to this server and displays the user interface directly inside of Jupyter. The server, listens on the first available TCP port greater than or equal to 6006 (or you can set the port you want using the --port option)."
   ],
   "metadata": {
    "collapsed": false
   },
   "id": "15b1117780807927"
  },
  {
   "cell_type": "code",
   "outputs": [
    {
     "name": "stdout",
     "output_type": "stream",
     "text": [
      "The tensorboard extension is already loaded. To reload it, use:\n",
      "  %reload_ext tensorboard\n"
     ]
    },
    {
     "data": {
      "text/plain": "Reusing TensorBoard on port 6006 (pid 24180), started 4:00:55 ago. (Use '!kill 24180' to kill it.)"
     },
     "metadata": {},
     "output_type": "display_data"
    },
    {
     "data": {
      "text/plain": "<IPython.core.display.HTML object>",
      "text/html": "\n      <iframe id=\"tensorboard-frame-128a33e68175e641\" width=\"100%\" height=\"800\" frameborder=\"0\">\n      </iframe>\n      <script>\n        (function() {\n          const frame = document.getElementById(\"tensorboard-frame-128a33e68175e641\");\n          const url = new URL(\"/\", window.location);\n          const port = 6006;\n          if (port) {\n            url.port = port;\n          }\n          frame.src = url;\n        })();\n      </script>\n    "
     },
     "metadata": {},
     "output_type": "display_data"
    }
   ],
   "source": [
    "%load_ext tensorboard\n",
    "%tensorboard --logdir=./my_logs"
   ],
   "metadata": {
    "collapsed": false,
    "ExecuteTime": {
     "end_time": "2024-02-25T18:13:55.644768600Z",
     "start_time": "2024-02-25T18:13:55.623766300Z"
    }
   },
   "id": "181a7285a0bb295f",
   "execution_count": 508
  },
  {
   "cell_type": "markdown",
   "source": [
    "TIP\n",
    "If you’re running everything on your own machine, it’s possible to start TensorBoard by executing \"tensorboard --logdir=./my_logs\" in a terminal. You must first activate the Conda environment in which you installed TensorBoard, and go to the handson-ml3 directory. Once the server is started, visit http://localhost:6006."
   ],
   "metadata": {
    "collapsed": false
   },
   "id": "b17b6b080a2236c1"
  },
  {
   "cell_type": "code",
   "outputs": [
    {
     "data": {
      "text/plain": "<IPython.core.display.HTML object>",
      "text/html": "<a href=\"http://localhost:6006/\">http://localhost:6006/</a>"
     },
     "metadata": {},
     "output_type": "display_data"
    }
   ],
   "source": [
    "# extra code\n",
    "\n",
    "# if \"google.colab\" in sys.modules:\n",
    "#     from google.colab import output\n",
    "# \n",
    "#     output.serve_kernel_port_as_window(6006)\n",
    "# else:\n",
    "from IPython.display import display, HTML\n",
    "\n",
    "display(HTML('<a href=\"http://localhost:6006/\">http://localhost:6006/</a>'))"
   ],
   "metadata": {
    "collapsed": false,
    "ExecuteTime": {
     "end_time": "2024-02-25T18:13:55.821297600Z",
     "start_time": "2024-02-25T18:13:55.637020600Z"
    }
   },
   "id": "ca99766d0f914cd",
   "execution_count": 509
  },
  {
   "cell_type": "markdown",
   "source": [
    "Now you should see TensorBoard’s user interface. Click the SCALARS tab to view the learning curves (see Figure 10-16). At the bottom left, select the logs you want to visualize (e.g., the training logs from the first and second run), and click the epoch_loss scalar. Notice that the training loss went down nicely during both runs, but in the second run it went down a bit faster thanks to the higher learning rate."
   ],
   "metadata": {
    "collapsed": false
   },
   "id": "ca9b5ff11fbb9197"
  },
  {
   "cell_type": "markdown",
   "source": [
    "Figure 10-16. Visualizing learning curves with TensorBoard\n"
   ],
   "metadata": {
    "collapsed": false
   },
   "id": "75d47c8acb2b7b2d"
  },
  {
   "cell_type": "markdown",
   "source": [
    "You can also visualize the whole computation graph in the GRAPHS tab, the learned weights projected to 3D in the PROJECTOR tab, and the profiling traces in the PROFILE tab. The TensorBoard() callback has options to log extra data too (see the documentation for more details). You can click the refresh button (⟳) at the top right to make TensorBoard refresh data, and you can click the settings button (⚙) to activate auto-refresh and specify the refresh interval.\n",
    "\n",
    "Additionally, TensorFlow offers a lower-level API in the tf.summary package. The following code creates a SummaryWriter using the create_file_writer() function, and it uses this writer as a Python context to log scalars, histograms, images, audio, and text, all of which can then be visualized using TensorBoard:"
   ],
   "metadata": {
    "collapsed": false
   },
   "id": "18f05be2d8ca2034"
  },
  {
   "cell_type": "code",
   "outputs": [],
   "source": [
    "test_logdir = get_run_logdir()\n",
    "writer = tf.summary.create_file_writer(str(test_logdir))\n",
    "with writer.as_default():\n",
    "    for step in range(1, 1000 + 1):\n",
    "        tf.summary.scalar(\"my_scalar\", np.sin(step / 10), step=step)\n",
    "\n",
    "        data = (np.random.randn(100) + 2) * step / 100  # gets larger\n",
    "        tf.summary.histogram(\"my_hist\", data, buckets=50, step=step)\n",
    "\n",
    "        images = np.random.rand(2, 32, 32, 3) * step / 1000  # gets brighter\n",
    "        tf.summary.image(\"my_images\", images, step=step)\n",
    "\n",
    "        texts = [\"The step is \" + str(step), \"Its square is \" + str(step ** 2)]\n",
    "        tf.summary.text(\"my_text\", texts, step=step)\n",
    "\n",
    "        sine_wave = tf.math.sin(tf.range(12000) / 48000 * 2 * np.pi * step)\n",
    "        audio = tf.reshape(tf.cast(sine_wave, tf.float32), [1, -1, 1])\n",
    "        tf.summary.audio(\"my_audio\", audio, sample_rate=48000, step=step)"
   ],
   "metadata": {
    "collapsed": false,
    "ExecuteTime": {
     "end_time": "2024-02-25T18:14:08.899395400Z",
     "start_time": "2024-02-25T18:13:55.642744400Z"
    }
   },
   "id": "f66a15061d731820",
   "execution_count": 510
  },
  {
   "cell_type": "markdown",
   "source": [
    "If you run this code and click the refresh button in TensorBoard, you will see several tabs appear: IMAGES, AUDIO, DISTRIBUTIONS, HISTOGRAMS, and TEXT. Try clicking the IMAGES tab, and use the slider above each image to view the images at different time steps. Similarly, go to the AUDIO tab and try listening to the audio at different time steps. As you can see, TensorBoard is a useful tool even beyond TensorFlow or deep learning."
   ],
   "metadata": {
    "collapsed": false
   },
   "id": "a2efa5ab7aaf35"
  },
  {
   "cell_type": "markdown",
   "source": [
    "TIP\n",
    "You can share your results online by publishing them to https://tensorboard.dev. For this, just run \"!tensorboard dev upload --logdir ./my_logs\". The first time, it will ask you to accept the terms and conditions and authenticate. Then your logs will be uploaded, and you will get a permanent link to view your results in a TensorBoard interface."
   ],
   "metadata": {
    "collapsed": false
   },
   "id": "c8c7226d499907fe"
  },
  {
   "cell_type": "markdown",
   "source": [
    "Let’s summarize what you’ve learned so far in this chapter: you now know where neural nets came from, what an MLP is and how you can use it for classification and regression, how to use Keras’s sequential API to build MLPs, and how to use the functional API or the subclassing API to build more complex model architectures (including Wide & Deep models, as well as models with multiple inputs and outputs). You also learned how to save and restore a model and how to use callbacks for checkpointing, early stopping, and more. Finally, you learned how to use TensorBoard for visualization. You can already go ahead and use neural networks to tackle many problems! However, you may wonder how to choose the number of hidden layers, the number of neurons in the network, and all the other hyperparameters. Let’s look at this now."
   ],
   "metadata": {
    "collapsed": false
   },
   "id": "d24e1085cd46e9d9"
  },
  {
   "cell_type": "markdown",
   "source": [
    "\n",
    "When you stop this Jupyter kernel (a.k.a. Runtime), it will automatically stop the TensorBoard server as well. Another way to stop the TensorBoard server is to kill it, if you are running on Linux or MacOSX. First, you need to find its process ID:"
   ],
   "metadata": {
    "collapsed": false
   },
   "id": "6ebc928ce0d30b92"
  },
  {
   "cell_type": "code",
   "outputs": [
    {
     "name": "stdout",
     "output_type": "stream",
     "text": [
      "Known TensorBoard instances:\n",
      "  - port 6006: logdir ./my_logs (started 4:01:08 ago; pid 24180)\n"
     ]
    }
   ],
   "source": [
    "# extra code – lists all running TensorBoard server instances\n",
    "\n",
    "from tensorboard import notebook\n",
    "\n",
    "notebook.list()"
   ],
   "metadata": {
    "collapsed": false,
    "ExecuteTime": {
     "end_time": "2024-02-25T18:14:08.915213100Z",
     "start_time": "2024-02-25T18:14:08.901390Z"
    }
   },
   "id": "19ebdf4f18c76d23",
   "execution_count": 511
  },
  {
   "cell_type": "code",
   "outputs": [],
   "source": [
    "#!taskkill /F /PID pid_number_from_the_cell_above\n",
    "#!taskkill /F /PID 24180"
   ],
   "metadata": {
    "collapsed": false,
    "ExecuteTime": {
     "end_time": "2024-02-25T18:14:08.924217200Z",
     "start_time": "2024-02-25T18:14:08.904774200Z"
    }
   },
   "id": "219b3cee899797e6",
   "execution_count": 512
  },
  {
   "cell_type": "markdown",
   "source": [
    "# FINE-TUNING NEURAL NETWORK HYPERPARAMETERS\n",
    "The flexibility of neural networks is also one of their main drawbacks: there are many hyperparameters to tweak. Not only can you use any imaginable network architecture, but even in a basic MLP you can change the number of layers, the number of neurons and the type of activation function to use in each layer, the weight initialization logic, the type of optimizer to use, its learning rate, the batch size, and more. How do you know what combination of hyperparameters is the best for your task?\n",
    "\n",
    "One option is to convert your Keras model to a Scikit-Learn estimator, and then use GridSearchCV or RandomizedSearchCV to fine-tune the hyperparameters, as you did in Chapter 2. For this, you can use the KerasRegressor and KerasClassifier wrapper classes from the SciKeras library (see https://github.com/adriangb/scikeras for more details). However, there’s a better way: you can use the Keras Tuner library, which is a hyperparameter tuning library for Keras models. It offers several tuning strategies, it’s highly customizable, and it has excellent integration with TensorBoard. Let’s see how to use it.\n",
    "\n",
    "If you followed the installation instructions at https://homl.info/install to run everything locally, then you already have Keras Tuner installed, but if you are using Colab, you’ll need to run \"%pip install -q -U keras-tuner\". Next, import keras_tuner, usually as kt, then write a function that builds, compiles, and returns a Keras model. The function must take a kt.HyperParameters object as an argument, which it can use to define hyperparameters (integers, floats, strings, etc.) along with their range of possible values, and these hyperparameters may be used to build and compile the model. For example, the following function builds and compiles an MLP to classify Fashion MNIST images, using hyperparameters such as the number of hidden layers (n_hidden), the number of neurons per layer (n_neurons), the learning rate (learning_rate), and the type of optimizer to use (optimizer):"
   ],
   "metadata": {
    "collapsed": false
   },
   "id": "eadaf0cdfba0e1fe"
  },
  {
   "cell_type": "code",
   "outputs": [],
   "source": [
    "(X_train_full, y_train_full), (X_test, y_test) = fashion_mnist\n",
    "X_train, y_train = X_train_full[:-5000], y_train_full[:-5000]\n",
    "X_valid, y_valid = X_train_full[-5000:], y_train_full[-5000:]"
   ],
   "metadata": {
    "collapsed": false,
    "ExecuteTime": {
     "end_time": "2024-02-25T18:14:08.931198800Z",
     "start_time": "2024-02-25T18:14:08.906771400Z"
    }
   },
   "id": "7fca3cd1341e07ec",
   "execution_count": 513
  },
  {
   "cell_type": "code",
   "outputs": [],
   "source": [
    "tf.keras.backend.clear_session()\n",
    "tf.random.set_seed(42)"
   ],
   "metadata": {
    "collapsed": false,
    "ExecuteTime": {
     "end_time": "2024-02-25T18:14:08.954136800Z",
     "start_time": "2024-02-25T18:14:08.910203300Z"
    }
   },
   "id": "ccbfec6de7170f43",
   "execution_count": 514
  },
  {
   "cell_type": "code",
   "outputs": [],
   "source": [
    "import keras_tuner as kt\n",
    "\n",
    "\n",
    "def build_model(hp):\n",
    "    n_hidden = hp.Int(\"n_hidden\", min_value=0, max_value=8, default=2)\n",
    "    n_neurons = hp.Int(\"n_neurons\", min_value=16, max_value=256)\n",
    "    learning_rate = hp.Float(\"learning_rate\", min_value=1e-4, max_value=1e-2,\n",
    "                             sampling=\"log\")\n",
    "    optimizer = hp.Choice(\"optimizer\", values=[\"sgd\", \"adam\"])\n",
    "    if optimizer == \"sgd\":\n",
    "        optimizer = tf.keras.optimizers.SGD(learning_rate=learning_rate)\n",
    "    else:\n",
    "        optimizer = tf.keras.optimizers.Adam(learning_rate=learning_rate)\n",
    "\n",
    "    model = tf.keras.Sequential()\n",
    "    model.add(tf.keras.layers.Flatten())\n",
    "    for _ in range(n_hidden):\n",
    "        model.add(tf.keras.layers.Dense(n_neurons, activation=\"relu\"))\n",
    "    model.add(tf.keras.layers.Dense(10, activation=\"softmax\"))\n",
    "    model.compile(loss=\"sparse_categorical_crossentropy\", optimizer=optimizer,\n",
    "                  metrics=[\"accuracy\"])\n",
    "    return model"
   ],
   "metadata": {
    "collapsed": false,
    "ExecuteTime": {
     "end_time": "2024-02-25T18:14:08.962115900Z",
     "start_time": "2024-02-25T18:14:08.919345Z"
    }
   },
   "id": "86450d1a963a2e52",
   "execution_count": 515
  },
  {
   "cell_type": "markdown",
   "source": [
    "The first part of the function defines the hyperparameters. For example, hp.Int(\"n_hidden\", min_value=0, max_value=8, default=2) checks whether a hyperparameter named \"n_hidden\" is already present in the HyperParameters object hp, and if so it returns its value. If not, then it registers a new integer hyperparameter named \"n_hidden\", whose possible values range from 0 to 8 (inclusive), and it returns the default value, which is 2 in this case (when default is not set, then min_value is returned). The \"n_neurons\" hyperparameter is registered in a similar way. The \"learning_rate\" hyperparameter is registered as a float ranging from $10^{–4}$ to $10^{–2}$, and since sampling=\"log\", learning rates of all scales will be sampled equally. Lastly, the optimizer hyperparameter is registered with two possible values: \"sgd\" or \"adam\" (the default value is the first one, which is \"sgd\" in this case). Depending on the value of optimizer, we create an SGD optimizer or an Adam optimizer with the given learning rate.\n",
    "\n",
    "The second part of the function just builds the model using the hyperparameter values. It creates a Sequential model starting with a Flatten layer, followed by the requested number of hidden layers (as determined by the n_hidden hyperparameter) using the ReLU activation function, and an output layer with 10 neurons (one per class) using the softmax activation function. Lastly, the function compiles the model and returns it.\n",
    "\n",
    "Now if you want to do a basic random search, you can create a kt.RandomSearch tuner, passing the build_model function to the constructor, and call the tuner’s search() method:"
   ],
   "metadata": {
    "collapsed": false
   },
   "id": "b999cb162e92ff2e"
  },
  {
   "cell_type": "code",
   "outputs": [
    {
     "name": "stdout",
     "output_type": "stream",
     "text": [
      "Trial 5 Complete [00h 00m 26s]\n",
      "val_accuracy: 0.8402000069618225\n",
      "\n",
      "Best val_accuracy So Far: 0.8628000020980835\n",
      "Total elapsed time: 00h 02m 15s\n"
     ]
    }
   ],
   "source": [
    "path_to_fine_tuning_fashion_mnist = \"saved_models/fine_tuning_fashion_mnist\"\n",
    "random_search_tuner = kt.RandomSearch(\n",
    "    build_model, objective=\"val_accuracy\", max_trials=5, overwrite=True,\n",
    "    directory=path_to_fine_tuning_fashion_mnist, project_name=\"my_rnd_search\", seed=42)\n",
    "random_search_tuner.search(X_train, y_train, epochs=10,\n",
    "                           validation_data=(X_valid, y_valid))"
   ],
   "metadata": {
    "collapsed": false
   },
   "id": "13f589a80a30553f",
   "execution_count": 516
  },
  {
   "cell_type": "markdown",
   "source": [
    "The RandomSearch tuner first calls build_model() once with an empty Hyperparameters object, just to gather all the hyperparameter specifications. Then, in this example, it runs 5 trials; for each trial it builds a model using hyperparameters sampled randomly within their respective ranges, then it trains that model for 10 epochs and saves it to a subdirectory of the my_fashion_mnist/my_rnd_search directory. Since overwrite=True, the my_rnd_search directory is deleted before training starts. If you run this code a second time but with overwrite=False and max_​tri⁠als=10, the tuner will continue tuning where it left off, running 5 more trials: this means you don’t have to run all the trials in one shot. Lastly, since objective is set to \"val_accuracy\", the tuner prefers models with a higher validation accuracy, so once the tuner has finished searching, you can get the best models like this:"
   ],
   "metadata": {
    "collapsed": false
   },
   "id": "10738b07ed8c48fe"
  },
  {
   "cell_type": "code",
   "outputs": [
    {
     "name": "stdout",
     "output_type": "stream",
     "text": [
      "WARNING:tensorflow:Detecting that an object or model or tf.train.Checkpoint is being deleted with unrestored values. See the following logs for the specific values in question. To silence these warnings, use `status.expect_partial()`. See https://www.tensorflow.org/api_docs/python/tf/train/Checkpoint#restorefor details about the status object returned by the restore function.\n"
     ]
    },
    {
     "name": "stderr",
     "output_type": "stream",
     "text": [
      "WARNING:tensorflow:Detecting that an object or model or tf.train.Checkpoint is being deleted with unrestored values. See the following logs for the specific values in question. To silence these warnings, use `status.expect_partial()`. See https://www.tensorflow.org/api_docs/python/tf/train/Checkpoint#restorefor details about the status object returned by the restore function.\n"
     ]
    },
    {
     "name": "stdout",
     "output_type": "stream",
     "text": [
      "WARNING:tensorflow:Value in checkpoint could not be found in the restored object: (root).layer_with_weights-0.kernel\n"
     ]
    },
    {
     "name": "stderr",
     "output_type": "stream",
     "text": [
      "WARNING:tensorflow:Value in checkpoint could not be found in the restored object: (root).layer_with_weights-0.kernel\n"
     ]
    },
    {
     "name": "stdout",
     "output_type": "stream",
     "text": [
      "WARNING:tensorflow:Value in checkpoint could not be found in the restored object: (root).layer_with_weights-0.bias\n"
     ]
    },
    {
     "name": "stderr",
     "output_type": "stream",
     "text": [
      "WARNING:tensorflow:Value in checkpoint could not be found in the restored object: (root).layer_with_weights-0.bias\n"
     ]
    },
    {
     "name": "stdout",
     "output_type": "stream",
     "text": [
      "WARNING:tensorflow:Value in checkpoint could not be found in the restored object: (root).layer_with_weights-1.kernel\n"
     ]
    },
    {
     "name": "stderr",
     "output_type": "stream",
     "text": [
      "WARNING:tensorflow:Value in checkpoint could not be found in the restored object: (root).layer_with_weights-1.kernel\n"
     ]
    },
    {
     "name": "stdout",
     "output_type": "stream",
     "text": [
      "WARNING:tensorflow:Value in checkpoint could not be found in the restored object: (root).layer_with_weights-1.bias\n"
     ]
    },
    {
     "name": "stderr",
     "output_type": "stream",
     "text": [
      "WARNING:tensorflow:Value in checkpoint could not be found in the restored object: (root).layer_with_weights-1.bias\n"
     ]
    },
    {
     "name": "stdout",
     "output_type": "stream",
     "text": [
      "WARNING:tensorflow:Value in checkpoint could not be found in the restored object: (root).layer_with_weights-2.kernel\n"
     ]
    },
    {
     "name": "stderr",
     "output_type": "stream",
     "text": [
      "WARNING:tensorflow:Value in checkpoint could not be found in the restored object: (root).layer_with_weights-2.kernel\n"
     ]
    },
    {
     "name": "stdout",
     "output_type": "stream",
     "text": [
      "WARNING:tensorflow:Value in checkpoint could not be found in the restored object: (root).layer_with_weights-2.bias\n"
     ]
    },
    {
     "name": "stderr",
     "output_type": "stream",
     "text": [
      "WARNING:tensorflow:Value in checkpoint could not be found in the restored object: (root).layer_with_weights-2.bias\n"
     ]
    },
    {
     "name": "stdout",
     "output_type": "stream",
     "text": [
      "WARNING:tensorflow:Value in checkpoint could not be found in the restored object: (root).layer_with_weights-3.kernel\n"
     ]
    },
    {
     "name": "stderr",
     "output_type": "stream",
     "text": [
      "WARNING:tensorflow:Value in checkpoint could not be found in the restored object: (root).layer_with_weights-3.kernel\n"
     ]
    },
    {
     "name": "stdout",
     "output_type": "stream",
     "text": [
      "WARNING:tensorflow:Value in checkpoint could not be found in the restored object: (root).layer_with_weights-3.bias\n"
     ]
    },
    {
     "name": "stderr",
     "output_type": "stream",
     "text": [
      "WARNING:tensorflow:Value in checkpoint could not be found in the restored object: (root).layer_with_weights-3.bias\n"
     ]
    },
    {
     "name": "stdout",
     "output_type": "stream",
     "text": [
      "WARNING:tensorflow:Value in checkpoint could not be found in the restored object: (root).layer_with_weights-4.kernel\n"
     ]
    },
    {
     "name": "stderr",
     "output_type": "stream",
     "text": [
      "WARNING:tensorflow:Value in checkpoint could not be found in the restored object: (root).layer_with_weights-4.kernel\n"
     ]
    },
    {
     "name": "stdout",
     "output_type": "stream",
     "text": [
      "WARNING:tensorflow:Value in checkpoint could not be found in the restored object: (root).layer_with_weights-4.bias\n"
     ]
    },
    {
     "name": "stderr",
     "output_type": "stream",
     "text": [
      "WARNING:tensorflow:Value in checkpoint could not be found in the restored object: (root).layer_with_weights-4.bias\n"
     ]
    },
    {
     "name": "stdout",
     "output_type": "stream",
     "text": [
      "WARNING:tensorflow:Value in checkpoint could not be found in the restored object: (root).layer_with_weights-5.kernel\n"
     ]
    },
    {
     "name": "stderr",
     "output_type": "stream",
     "text": [
      "WARNING:tensorflow:Value in checkpoint could not be found in the restored object: (root).layer_with_weights-5.kernel\n"
     ]
    },
    {
     "name": "stdout",
     "output_type": "stream",
     "text": [
      "WARNING:tensorflow:Value in checkpoint could not be found in the restored object: (root).layer_with_weights-5.bias\n"
     ]
    },
    {
     "name": "stderr",
     "output_type": "stream",
     "text": [
      "WARNING:tensorflow:Value in checkpoint could not be found in the restored object: (root).layer_with_weights-5.bias\n"
     ]
    },
    {
     "name": "stdout",
     "output_type": "stream",
     "text": [
      "WARNING:tensorflow:Value in checkpoint could not be found in the restored object: (root).optimizer._variables.1\n"
     ]
    },
    {
     "name": "stderr",
     "output_type": "stream",
     "text": [
      "WARNING:tensorflow:Value in checkpoint could not be found in the restored object: (root).optimizer._variables.1\n"
     ]
    },
    {
     "name": "stdout",
     "output_type": "stream",
     "text": [
      "WARNING:tensorflow:Value in checkpoint could not be found in the restored object: (root).optimizer._variables.2\n"
     ]
    },
    {
     "name": "stderr",
     "output_type": "stream",
     "text": [
      "WARNING:tensorflow:Value in checkpoint could not be found in the restored object: (root).optimizer._variables.2\n"
     ]
    },
    {
     "name": "stdout",
     "output_type": "stream",
     "text": [
      "WARNING:tensorflow:Value in checkpoint could not be found in the restored object: (root).optimizer._variables.3\n"
     ]
    },
    {
     "name": "stderr",
     "output_type": "stream",
     "text": [
      "WARNING:tensorflow:Value in checkpoint could not be found in the restored object: (root).optimizer._variables.3\n"
     ]
    },
    {
     "name": "stdout",
     "output_type": "stream",
     "text": [
      "WARNING:tensorflow:Value in checkpoint could not be found in the restored object: (root).optimizer._variables.4\n"
     ]
    },
    {
     "name": "stderr",
     "output_type": "stream",
     "text": [
      "WARNING:tensorflow:Value in checkpoint could not be found in the restored object: (root).optimizer._variables.4\n"
     ]
    },
    {
     "name": "stdout",
     "output_type": "stream",
     "text": [
      "WARNING:tensorflow:Value in checkpoint could not be found in the restored object: (root).optimizer._variables.5\n"
     ]
    },
    {
     "name": "stderr",
     "output_type": "stream",
     "text": [
      "WARNING:tensorflow:Value in checkpoint could not be found in the restored object: (root).optimizer._variables.5\n"
     ]
    },
    {
     "name": "stdout",
     "output_type": "stream",
     "text": [
      "WARNING:tensorflow:Value in checkpoint could not be found in the restored object: (root).optimizer._variables.6\n"
     ]
    },
    {
     "name": "stderr",
     "output_type": "stream",
     "text": [
      "WARNING:tensorflow:Value in checkpoint could not be found in the restored object: (root).optimizer._variables.6\n"
     ]
    },
    {
     "name": "stdout",
     "output_type": "stream",
     "text": [
      "WARNING:tensorflow:Value in checkpoint could not be found in the restored object: (root).optimizer._variables.7\n"
     ]
    },
    {
     "name": "stderr",
     "output_type": "stream",
     "text": [
      "WARNING:tensorflow:Value in checkpoint could not be found in the restored object: (root).optimizer._variables.7\n"
     ]
    },
    {
     "name": "stdout",
     "output_type": "stream",
     "text": [
      "WARNING:tensorflow:Value in checkpoint could not be found in the restored object: (root).optimizer._variables.8\n"
     ]
    },
    {
     "name": "stderr",
     "output_type": "stream",
     "text": [
      "WARNING:tensorflow:Value in checkpoint could not be found in the restored object: (root).optimizer._variables.8\n"
     ]
    },
    {
     "name": "stdout",
     "output_type": "stream",
     "text": [
      "WARNING:tensorflow:Value in checkpoint could not be found in the restored object: (root).optimizer._variables.9\n"
     ]
    },
    {
     "name": "stderr",
     "output_type": "stream",
     "text": [
      "WARNING:tensorflow:Value in checkpoint could not be found in the restored object: (root).optimizer._variables.9\n"
     ]
    },
    {
     "name": "stdout",
     "output_type": "stream",
     "text": [
      "WARNING:tensorflow:Value in checkpoint could not be found in the restored object: (root).optimizer._variables.10\n"
     ]
    },
    {
     "name": "stderr",
     "output_type": "stream",
     "text": [
      "WARNING:tensorflow:Value in checkpoint could not be found in the restored object: (root).optimizer._variables.10\n"
     ]
    },
    {
     "name": "stdout",
     "output_type": "stream",
     "text": [
      "WARNING:tensorflow:Value in checkpoint could not be found in the restored object: (root).optimizer._variables.11\n"
     ]
    },
    {
     "name": "stderr",
     "output_type": "stream",
     "text": [
      "WARNING:tensorflow:Value in checkpoint could not be found in the restored object: (root).optimizer._variables.11\n"
     ]
    },
    {
     "name": "stdout",
     "output_type": "stream",
     "text": [
      "WARNING:tensorflow:Value in checkpoint could not be found in the restored object: (root).optimizer._variables.12\n"
     ]
    },
    {
     "name": "stderr",
     "output_type": "stream",
     "text": [
      "WARNING:tensorflow:Value in checkpoint could not be found in the restored object: (root).optimizer._variables.12\n"
     ]
    },
    {
     "name": "stdout",
     "output_type": "stream",
     "text": [
      "WARNING:tensorflow:Detecting that an object or model or tf.train.Checkpoint is being deleted with unrestored values. See the following logs for the specific values in question. To silence these warnings, use `status.expect_partial()`. See https://www.tensorflow.org/api_docs/python/tf/train/Checkpoint#restorefor details about the status object returned by the restore function.\n"
     ]
    },
    {
     "name": "stderr",
     "output_type": "stream",
     "text": [
      "WARNING:tensorflow:Detecting that an object or model or tf.train.Checkpoint is being deleted with unrestored values. See the following logs for the specific values in question. To silence these warnings, use `status.expect_partial()`. See https://www.tensorflow.org/api_docs/python/tf/train/Checkpoint#restorefor details about the status object returned by the restore function.\n"
     ]
    },
    {
     "name": "stdout",
     "output_type": "stream",
     "text": [
      "WARNING:tensorflow:Value in checkpoint could not be found in the restored object: (root).layer_with_weights-0.kernel\n"
     ]
    },
    {
     "name": "stderr",
     "output_type": "stream",
     "text": [
      "WARNING:tensorflow:Value in checkpoint could not be found in the restored object: (root).layer_with_weights-0.kernel\n"
     ]
    },
    {
     "name": "stdout",
     "output_type": "stream",
     "text": [
      "WARNING:tensorflow:Value in checkpoint could not be found in the restored object: (root).layer_with_weights-0.bias\n"
     ]
    },
    {
     "name": "stderr",
     "output_type": "stream",
     "text": [
      "WARNING:tensorflow:Value in checkpoint could not be found in the restored object: (root).layer_with_weights-0.bias\n"
     ]
    },
    {
     "name": "stdout",
     "output_type": "stream",
     "text": [
      "WARNING:tensorflow:Value in checkpoint could not be found in the restored object: (root).layer_with_weights-1.kernel\n"
     ]
    },
    {
     "name": "stderr",
     "output_type": "stream",
     "text": [
      "WARNING:tensorflow:Value in checkpoint could not be found in the restored object: (root).layer_with_weights-1.kernel\n"
     ]
    },
    {
     "name": "stdout",
     "output_type": "stream",
     "text": [
      "WARNING:tensorflow:Value in checkpoint could not be found in the restored object: (root).layer_with_weights-1.bias\n"
     ]
    },
    {
     "name": "stderr",
     "output_type": "stream",
     "text": [
      "WARNING:tensorflow:Value in checkpoint could not be found in the restored object: (root).layer_with_weights-1.bias\n"
     ]
    },
    {
     "name": "stdout",
     "output_type": "stream",
     "text": [
      "WARNING:tensorflow:Value in checkpoint could not be found in the restored object: (root).layer_with_weights-2.kernel\n"
     ]
    },
    {
     "name": "stderr",
     "output_type": "stream",
     "text": [
      "WARNING:tensorflow:Value in checkpoint could not be found in the restored object: (root).layer_with_weights-2.kernel\n"
     ]
    },
    {
     "name": "stdout",
     "output_type": "stream",
     "text": [
      "WARNING:tensorflow:Value in checkpoint could not be found in the restored object: (root).layer_with_weights-2.bias\n"
     ]
    },
    {
     "name": "stderr",
     "output_type": "stream",
     "text": [
      "WARNING:tensorflow:Value in checkpoint could not be found in the restored object: (root).layer_with_weights-2.bias\n"
     ]
    },
    {
     "name": "stdout",
     "output_type": "stream",
     "text": [
      "WARNING:tensorflow:Value in checkpoint could not be found in the restored object: (root).layer_with_weights-3.kernel\n"
     ]
    },
    {
     "name": "stderr",
     "output_type": "stream",
     "text": [
      "WARNING:tensorflow:Value in checkpoint could not be found in the restored object: (root).layer_with_weights-3.kernel\n"
     ]
    },
    {
     "name": "stdout",
     "output_type": "stream",
     "text": [
      "WARNING:tensorflow:Value in checkpoint could not be found in the restored object: (root).layer_with_weights-3.bias\n"
     ]
    },
    {
     "name": "stderr",
     "output_type": "stream",
     "text": [
      "WARNING:tensorflow:Value in checkpoint could not be found in the restored object: (root).layer_with_weights-3.bias\n"
     ]
    },
    {
     "name": "stdout",
     "output_type": "stream",
     "text": [
      "WARNING:tensorflow:Value in checkpoint could not be found in the restored object: (root).layer_with_weights-4.kernel\n"
     ]
    },
    {
     "name": "stderr",
     "output_type": "stream",
     "text": [
      "WARNING:tensorflow:Value in checkpoint could not be found in the restored object: (root).layer_with_weights-4.kernel\n"
     ]
    },
    {
     "name": "stdout",
     "output_type": "stream",
     "text": [
      "WARNING:tensorflow:Value in checkpoint could not be found in the restored object: (root).layer_with_weights-4.bias\n"
     ]
    },
    {
     "name": "stderr",
     "output_type": "stream",
     "text": [
      "WARNING:tensorflow:Value in checkpoint could not be found in the restored object: (root).layer_with_weights-4.bias\n"
     ]
    },
    {
     "name": "stdout",
     "output_type": "stream",
     "text": [
      "WARNING:tensorflow:Value in checkpoint could not be found in the restored object: (root).layer_with_weights-5.kernel\n"
     ]
    },
    {
     "name": "stderr",
     "output_type": "stream",
     "text": [
      "WARNING:tensorflow:Value in checkpoint could not be found in the restored object: (root).layer_with_weights-5.kernel\n"
     ]
    },
    {
     "name": "stdout",
     "output_type": "stream",
     "text": [
      "WARNING:tensorflow:Value in checkpoint could not be found in the restored object: (root).layer_with_weights-5.bias\n"
     ]
    },
    {
     "name": "stderr",
     "output_type": "stream",
     "text": [
      "WARNING:tensorflow:Value in checkpoint could not be found in the restored object: (root).layer_with_weights-5.bias\n"
     ]
    },
    {
     "name": "stdout",
     "output_type": "stream",
     "text": [
      "WARNING:tensorflow:Value in checkpoint could not be found in the restored object: (root).layer_with_weights-6.kernel\n"
     ]
    },
    {
     "name": "stderr",
     "output_type": "stream",
     "text": [
      "WARNING:tensorflow:Value in checkpoint could not be found in the restored object: (root).layer_with_weights-6.kernel\n"
     ]
    },
    {
     "name": "stdout",
     "output_type": "stream",
     "text": [
      "WARNING:tensorflow:Value in checkpoint could not be found in the restored object: (root).layer_with_weights-6.bias\n"
     ]
    },
    {
     "name": "stderr",
     "output_type": "stream",
     "text": [
      "WARNING:tensorflow:Value in checkpoint could not be found in the restored object: (root).layer_with_weights-6.bias\n"
     ]
    },
    {
     "name": "stdout",
     "output_type": "stream",
     "text": [
      "WARNING:tensorflow:Value in checkpoint could not be found in the restored object: (root).layer_with_weights-7.kernel\n"
     ]
    },
    {
     "name": "stderr",
     "output_type": "stream",
     "text": [
      "WARNING:tensorflow:Value in checkpoint could not be found in the restored object: (root).layer_with_weights-7.kernel\n"
     ]
    },
    {
     "name": "stdout",
     "output_type": "stream",
     "text": [
      "WARNING:tensorflow:Value in checkpoint could not be found in the restored object: (root).layer_with_weights-7.bias\n"
     ]
    },
    {
     "name": "stderr",
     "output_type": "stream",
     "text": [
      "WARNING:tensorflow:Value in checkpoint could not be found in the restored object: (root).layer_with_weights-7.bias\n"
     ]
    },
    {
     "name": "stdout",
     "output_type": "stream",
     "text": [
      "WARNING:tensorflow:Value in checkpoint could not be found in the restored object: (root).optimizer._variables.1\n"
     ]
    },
    {
     "name": "stderr",
     "output_type": "stream",
     "text": [
      "WARNING:tensorflow:Value in checkpoint could not be found in the restored object: (root).optimizer._variables.1\n"
     ]
    },
    {
     "name": "stdout",
     "output_type": "stream",
     "text": [
      "WARNING:tensorflow:Value in checkpoint could not be found in the restored object: (root).optimizer._variables.2\n"
     ]
    },
    {
     "name": "stderr",
     "output_type": "stream",
     "text": [
      "WARNING:tensorflow:Value in checkpoint could not be found in the restored object: (root).optimizer._variables.2\n"
     ]
    },
    {
     "name": "stdout",
     "output_type": "stream",
     "text": [
      "WARNING:tensorflow:Value in checkpoint could not be found in the restored object: (root).optimizer._variables.3\n"
     ]
    },
    {
     "name": "stderr",
     "output_type": "stream",
     "text": [
      "WARNING:tensorflow:Value in checkpoint could not be found in the restored object: (root).optimizer._variables.3\n"
     ]
    },
    {
     "name": "stdout",
     "output_type": "stream",
     "text": [
      "WARNING:tensorflow:Value in checkpoint could not be found in the restored object: (root).optimizer._variables.4\n"
     ]
    },
    {
     "name": "stderr",
     "output_type": "stream",
     "text": [
      "WARNING:tensorflow:Value in checkpoint could not be found in the restored object: (root).optimizer._variables.4\n"
     ]
    },
    {
     "name": "stdout",
     "output_type": "stream",
     "text": [
      "WARNING:tensorflow:Value in checkpoint could not be found in the restored object: (root).optimizer._variables.5\n"
     ]
    },
    {
     "name": "stderr",
     "output_type": "stream",
     "text": [
      "WARNING:tensorflow:Value in checkpoint could not be found in the restored object: (root).optimizer._variables.5\n"
     ]
    },
    {
     "name": "stdout",
     "output_type": "stream",
     "text": [
      "WARNING:tensorflow:Value in checkpoint could not be found in the restored object: (root).optimizer._variables.6\n"
     ]
    },
    {
     "name": "stderr",
     "output_type": "stream",
     "text": [
      "WARNING:tensorflow:Value in checkpoint could not be found in the restored object: (root).optimizer._variables.6\n"
     ]
    },
    {
     "name": "stdout",
     "output_type": "stream",
     "text": [
      "WARNING:tensorflow:Value in checkpoint could not be found in the restored object: (root).optimizer._variables.7\n"
     ]
    },
    {
     "name": "stderr",
     "output_type": "stream",
     "text": [
      "WARNING:tensorflow:Value in checkpoint could not be found in the restored object: (root).optimizer._variables.7\n"
     ]
    },
    {
     "name": "stdout",
     "output_type": "stream",
     "text": [
      "WARNING:tensorflow:Value in checkpoint could not be found in the restored object: (root).optimizer._variables.8\n"
     ]
    },
    {
     "name": "stderr",
     "output_type": "stream",
     "text": [
      "WARNING:tensorflow:Value in checkpoint could not be found in the restored object: (root).optimizer._variables.8\n"
     ]
    },
    {
     "name": "stdout",
     "output_type": "stream",
     "text": [
      "WARNING:tensorflow:Value in checkpoint could not be found in the restored object: (root).optimizer._variables.9\n"
     ]
    },
    {
     "name": "stderr",
     "output_type": "stream",
     "text": [
      "WARNING:tensorflow:Value in checkpoint could not be found in the restored object: (root).optimizer._variables.9\n"
     ]
    },
    {
     "name": "stdout",
     "output_type": "stream",
     "text": [
      "WARNING:tensorflow:Value in checkpoint could not be found in the restored object: (root).optimizer._variables.10\n"
     ]
    },
    {
     "name": "stderr",
     "output_type": "stream",
     "text": [
      "WARNING:tensorflow:Value in checkpoint could not be found in the restored object: (root).optimizer._variables.10\n"
     ]
    },
    {
     "name": "stdout",
     "output_type": "stream",
     "text": [
      "WARNING:tensorflow:Value in checkpoint could not be found in the restored object: (root).optimizer._variables.11\n"
     ]
    },
    {
     "name": "stderr",
     "output_type": "stream",
     "text": [
      "WARNING:tensorflow:Value in checkpoint could not be found in the restored object: (root).optimizer._variables.11\n"
     ]
    },
    {
     "name": "stdout",
     "output_type": "stream",
     "text": [
      "WARNING:tensorflow:Value in checkpoint could not be found in the restored object: (root).optimizer._variables.12\n"
     ]
    },
    {
     "name": "stderr",
     "output_type": "stream",
     "text": [
      "WARNING:tensorflow:Value in checkpoint could not be found in the restored object: (root).optimizer._variables.12\n"
     ]
    },
    {
     "name": "stdout",
     "output_type": "stream",
     "text": [
      "WARNING:tensorflow:Value in checkpoint could not be found in the restored object: (root).optimizer._variables.13\n"
     ]
    },
    {
     "name": "stderr",
     "output_type": "stream",
     "text": [
      "WARNING:tensorflow:Value in checkpoint could not be found in the restored object: (root).optimizer._variables.13\n"
     ]
    },
    {
     "name": "stdout",
     "output_type": "stream",
     "text": [
      "WARNING:tensorflow:Value in checkpoint could not be found in the restored object: (root).optimizer._variables.14\n"
     ]
    },
    {
     "name": "stderr",
     "output_type": "stream",
     "text": [
      "WARNING:tensorflow:Value in checkpoint could not be found in the restored object: (root).optimizer._variables.14\n"
     ]
    },
    {
     "name": "stdout",
     "output_type": "stream",
     "text": [
      "WARNING:tensorflow:Value in checkpoint could not be found in the restored object: (root).optimizer._variables.15\n"
     ]
    },
    {
     "name": "stderr",
     "output_type": "stream",
     "text": [
      "WARNING:tensorflow:Value in checkpoint could not be found in the restored object: (root).optimizer._variables.15\n"
     ]
    },
    {
     "name": "stdout",
     "output_type": "stream",
     "text": [
      "WARNING:tensorflow:Value in checkpoint could not be found in the restored object: (root).optimizer._variables.16\n"
     ]
    },
    {
     "name": "stderr",
     "output_type": "stream",
     "text": [
      "WARNING:tensorflow:Value in checkpoint could not be found in the restored object: (root).optimizer._variables.16\n"
     ]
    }
   ],
   "source": [
    "top3_models = random_search_tuner.get_best_models(num_models=3)\n",
    "best_model = top3_models[0]"
   ],
   "metadata": {
    "collapsed": false,
    "ExecuteTime": {
     "end_time": "2024-02-25T18:16:24.953011300Z",
     "start_time": "2024-02-25T18:16:23.982017300Z"
    }
   },
   "id": "b435c1edecf2dd58",
   "execution_count": 517
  },
  {
   "cell_type": "markdown",
   "source": [
    "You can also call get_best_hyperparameters() to get the kt.HyperParameters of the best models:"
   ],
   "metadata": {
    "collapsed": false
   },
   "id": "ac89875c8903b46a"
  },
  {
   "cell_type": "code",
   "outputs": [
    {
     "data": {
      "text/plain": "{'n_hidden': 7,\n 'n_neurons': 100,\n 'learning_rate': 0.0012482904754698163,\n 'optimizer': 'sgd'}"
     },
     "execution_count": 518,
     "metadata": {},
     "output_type": "execute_result"
    }
   ],
   "source": [
    "top3_params = random_search_tuner.get_best_hyperparameters(num_trials=3)\n",
    "top3_params[0].values  # best hyperparameter values"
   ],
   "metadata": {
    "collapsed": false,
    "ExecuteTime": {
     "end_time": "2024-02-25T18:16:24.994871500Z",
     "start_time": "2024-02-25T18:16:24.572017700Z"
    }
   },
   "id": "2c527d4c666c4c01",
   "execution_count": 518
  },
  {
   "cell_type": "markdown",
   "source": [
    "Each tuner is guided by a so-called oracle: before each trial, the tuner asks the oracle to tell it what the next trial should be. The RandomSearch tuner uses a RandomSearchOracle, which is pretty basic: it just picks the next trial randomly, as we saw earlier. Since the oracle keeps track of all the trials, you can ask it to give you the best one, and you can display a summary of that trial:"
   ],
   "metadata": {
    "collapsed": false
   },
   "id": "dcfdd736e8eae01c"
  },
  {
   "cell_type": "code",
   "outputs": [
    {
     "name": "stdout",
     "output_type": "stream",
     "text": [
      "Trial 1 summary\n",
      "Hyperparameters:\n",
      "n_hidden: 7\n",
      "n_neurons: 100\n",
      "learning_rate: 0.0012482904754698163\n",
      "optimizer: sgd\n",
      "Score: 0.8628000020980835\n"
     ]
    }
   ],
   "source": [
    "best_trial = random_search_tuner.oracle.get_best_trials(num_trials=1)[0]\n",
    "best_trial.summary()"
   ],
   "metadata": {
    "collapsed": false,
    "ExecuteTime": {
     "end_time": "2024-02-25T18:16:24.995890900Z",
     "start_time": "2024-02-25T18:16:24.574024300Z"
    }
   },
   "id": "36e0970cf9d4c11",
   "execution_count": 519
  },
  {
   "cell_type": "markdown",
   "source": [
    "This shows the best hyperparameters (like earlier), as well as the validation accuracy. You can also access all the metrics directly:"
   ],
   "metadata": {
    "collapsed": false
   },
   "id": "9ba9917ae4e2e86d"
  },
  {
   "cell_type": "code",
   "outputs": [
    {
     "data": {
      "text/plain": "0.8628000020980835"
     },
     "execution_count": 520,
     "metadata": {},
     "output_type": "execute_result"
    }
   ],
   "source": [
    "best_trial.metrics.get_last_value(\"val_accuracy\")"
   ],
   "metadata": {
    "collapsed": false,
    "ExecuteTime": {
     "end_time": "2024-02-25T18:16:24.996888400Z",
     "start_time": "2024-02-25T18:16:24.575990400Z"
    }
   },
   "id": "395423b97d42032a",
   "execution_count": 520
  },
  {
   "cell_type": "markdown",
   "source": [
    "If you are happy with the best model’s performance, you may continue training it for a few epochs on the full training set (X_train_full and y_train_full), then evaluate it on the test set, and deploy it to production (see Chapter 19):"
   ],
   "metadata": {
    "collapsed": false
   },
   "id": "9528570a328be568"
  },
  {
   "cell_type": "code",
   "outputs": [
    {
     "name": "stdout",
     "output_type": "stream",
     "text": [
      "Epoch 1/10\n",
      "1875/1875 [==============================] - 4s 2ms/step - loss: 0.3263 - accuracy: 0.8797\n",
      "Epoch 2/10\n",
      "1875/1875 [==============================] - 4s 2ms/step - loss: 0.3169 - accuracy: 0.8831\n",
      "Epoch 3/10\n",
      "1875/1875 [==============================] - 4s 2ms/step - loss: 0.3082 - accuracy: 0.8860\n",
      "Epoch 4/10\n",
      "1875/1875 [==============================] - 4s 2ms/step - loss: 0.3006 - accuracy: 0.8891\n",
      "Epoch 5/10\n",
      "1875/1875 [==============================] - 4s 2ms/step - loss: 0.2936 - accuracy: 0.8906\n",
      "Epoch 6/10\n",
      "1875/1875 [==============================] - 4s 2ms/step - loss: 0.2862 - accuracy: 0.8938\n",
      "Epoch 7/10\n",
      "1875/1875 [==============================] - 4s 2ms/step - loss: 0.2812 - accuracy: 0.8957\n",
      "Epoch 8/10\n",
      "1875/1875 [==============================] - 4s 2ms/step - loss: 0.2754 - accuracy: 0.8977\n",
      "Epoch 9/10\n",
      "1875/1875 [==============================] - 4s 2ms/step - loss: 0.2697 - accuracy: 0.9001\n",
      "Epoch 10/10\n",
      "1875/1875 [==============================] - 4s 2ms/step - loss: 0.2651 - accuracy: 0.9015\n",
      "313/313 [==============================] - 1s 1ms/step - loss: 0.3956 - accuracy: 0.8590\n"
     ]
    }
   ],
   "source": [
    "best_model.fit(X_train_full, y_train_full, epochs=10)\n",
    "test_loss, test_accuracy = best_model.evaluate(X_test, y_test)"
   ],
   "metadata": {
    "collapsed": false,
    "ExecuteTime": {
     "end_time": "2024-02-25T18:17:04.897711700Z",
     "start_time": "2024-02-25T18:16:24.577985300Z"
    }
   },
   "id": "2e496b5536a97b07",
   "execution_count": 521
  },
  {
   "cell_type": "markdown",
   "source": [
    "In some cases, you may want to fine-tune data preprocessing hyperparameters, or model.fit() arguments, such as the batch size. For this, you must use a slightly different technique: instead of writing a build_model() function, you must subclass the kt.HyperModel class and define two methods, build() and fit(). The build() method does the exact same thing as the build_model() function. The fit() method takes a HyperParameters object and a compiled model as an argument, as well as all the model.fit() arguments, and fits the model and returns the History object. Crucially, the fit() method may use hyperparameters to decide how to preprocess the data, tweak the batch size, and more. For example, the following class builds the same model as before, with the same hyperparameters, but it also uses a Boolean \"normalize\" hyperparameter to control whether or not to standardize the training data before fitting the model:"
   ],
   "metadata": {
    "collapsed": false
   },
   "id": "46caeed25f9453c4"
  },
  {
   "cell_type": "code",
   "outputs": [],
   "source": [
    "class MyClassificationHyperModel(kt.HyperModel):\n",
    "    def build(self, hp):\n",
    "        return build_model(hp)\n",
    "\n",
    "    def fit(self, hp, model, X, y, **kwargs):\n",
    "        if hp.Boolean(\"normalize\"):\n",
    "            norm_layer = tf.keras.layers.Normalization()\n",
    "            X = norm_layer(X)\n",
    "        return model.fit(X, y, **kwargs)"
   ],
   "metadata": {
    "collapsed": false,
    "ExecuteTime": {
     "end_time": "2024-02-25T18:17:04.904693400Z",
     "start_time": "2024-02-25T18:17:04.895211200Z"
    }
   },
   "id": "92effe04a1dc19de",
   "execution_count": 522
  },
  {
   "cell_type": "markdown",
   "source": [
    "You can then pass an instance of this class to the tuner of your choice, instead of passing the build_model function. For example, let’s build a kt.Hyperband tuner based on a MyClassificationHyperModel instance:"
   ],
   "metadata": {
    "collapsed": false
   },
   "id": "50dd7cc77a52a73f"
  },
  {
   "cell_type": "code",
   "outputs": [],
   "source": [
    "hyperband_tuner = kt.Hyperband(\n",
    "    MyClassificationHyperModel(), objective=\"val_accuracy\", seed=42,\n",
    "    max_epochs=10, factor=3, hyperband_iterations=2,\n",
    "    overwrite=True, directory=path_to_fine_tuning_fashion_mnist, project_name=\"hyperband\")"
   ],
   "metadata": {
    "collapsed": false,
    "ExecuteTime": {
     "end_time": "2024-02-25T18:17:05.022009300Z",
     "start_time": "2024-02-25T18:17:04.897711700Z"
    }
   },
   "id": "392817f9e3447cf",
   "execution_count": 523
  },
  {
   "cell_type": "markdown",
   "source": [
    "This tuner is similar to the HalvingRandomSearchCV class we discussed in Chapter 2: it starts by training many different models for few epochs, then it eliminates the worst models and keeps only the top 1 / factor models (i.e., the top third in this case), repeating this selection process until a single model is left. The max_epochs argument controls the max number of epochs that the best model will be trained for. The whole process is repeated twice in this case (hyperband_iterations=2). The total number of training epochs across all models for each hyperband iteration is about max_epochs * (log(max_epochs) / log(factor)) ** 2, so it’s about 44 epochs in this example. The other arguments are the same as for kt.RandomSearch.\n",
    "\n",
    "Let’s run the Hyperband tuner now. We’ll use the TensorBoard callback, this time pointing to the root log directory (the tuner will take care of using a different subdirectory for each trial), as well as an EarlyStopping callback:"
   ],
   "metadata": {
    "collapsed": false
   },
   "id": "89ba14e79ef7bb89"
  },
  {
   "cell_type": "code",
   "outputs": [
    {
     "name": "stdout",
     "output_type": "stream",
     "text": [
      "Trial 60 Complete [00h 00m 40s]\n",
      "val_accuracy: 0.8478000164031982\n",
      "\n",
      "Best val_accuracy So Far: 0.881600022315979\n",
      "Total elapsed time: 00h 19m 34s\n"
     ]
    }
   ],
   "source": [
    "# FYI: Takes about 20 minutes to run\n",
    "root_logdir = Path(hyperband_tuner.project_dir) / \"tensorboard\"\n",
    "tensorboard_cb = tf.keras.callbacks.TensorBoard(root_logdir)\n",
    "early_stopping_cb = tf.keras.callbacks.EarlyStopping(patience=2)\n",
    "hyperband_tuner.search(X_train, y_train, epochs=10,\n",
    "                       validation_data=(X_valid, y_valid),\n",
    "                       callbacks=[early_stopping_cb, tensorboard_cb])"
   ],
   "metadata": {
    "collapsed": false
   },
   "id": "bd5ffe1e6bb2645c",
   "execution_count": 524
  },
  {
   "cell_type": "markdown",
   "source": [
    "Now if you open TensorBoard, pointing --logdir to the my_fashion_mnist/hyperband/tensorboard directory, you will see all the trial results as they unfold. Make sure to visit the HPARAMS tab: it contains a summary of all the hyperparameter combinations that were tried, along with the corresponding metrics. Notice that there are three tabs inside the HPARAMS tab: a table view, a parallel coordinates view, and a scatterplot matrix view. In the lower part of the left panel, uncheck all metrics except for validation.epoch_accuracy: this will make the graphs clearer. In the parallel coordinates view, try selecting a range of high values in the validation.epoch_accuracy column: this will filter only the hyperparameter combinations that reached a good performance. Click one of the hyperparameter combinations, and the corresponding learning curves will appear at the bottom of the page. Take some time to go through each tab; this will help you understand the effect of each hyperparameter on performance, as well as the interactions between the hyperparameters.\n",
    "\n",
    "Hyperband is smarter than pure random search in the way it allocates resources, but at its core it still explores the hyperparameter space randomly; it’s fast, but coarse. However, Keras Tuner also includes a kt.BayesianOptimization tuner: this algorithm gradually learns which regions of the hyperparameter space are most promising by fitting a probabilistic model called a Gaussian process. This allows it to gradually zoom in on the best hyperparameters. The downside is that the algorithm has its own hyperparameters: alpha represents the level of noise you expect in the performance measures across trials (it defaults to $10^{–4}$), and beta specifies how much you want the algorithm to explore, instead of simply exploiting the known good regions of hyperparameter space (it defaults to 2.6). Other than that, this tuner can be used just like the previous ones:"
   ],
   "metadata": {
    "collapsed": false
   },
   "id": "ce142c58d0cc7f2d"
  },
  {
   "cell_type": "code",
   "outputs": [
    {
     "name": "stdout",
     "output_type": "stream",
     "text": [
      "Trial 10 Complete [00h 00m 39s]\n",
      "val_accuracy: 0.8443999886512756\n",
      "\n",
      "Best val_accuracy So Far: 0.8611999750137329\n",
      "Total elapsed time: 00h 05m 52s\n"
     ]
    }
   ],
   "source": [
    "# FYI: Takes about 5 minutes to run\n",
    "bayesian_opt_tuner = kt.BayesianOptimization(\n",
    "    MyClassificationHyperModel(), objective=\"val_accuracy\", seed=42,\n",
    "    max_trials=10, alpha=1e-4, beta=2.6,\n",
    "    overwrite=True, directory=\"my_fashion_mnist\", project_name=\"bayesian_opt\")\n",
    "bayesian_opt_tuner.search(X_train, y_train, epochs=10,\n",
    "                          validation_data=(X_valid, y_valid),\n",
    "                          callbacks=[early_stopping_cb])"
   ],
   "metadata": {
    "collapsed": false
   },
   "id": "fbe77ffd3a58b140",
   "execution_count": 526
  },
  {
   "cell_type": "markdown",
   "source": [
    "Hyperparameter tuning is still an active area of research, and many other approaches are being explored. For example, check out DeepMind’s excellent 2017 paper, where the authors used an evolutionary algorithm to jointly optimize a population of models and their hyperparameters. Google has also used an evolutionary approach, not just to search for hyperparameters but also to explore all sorts of model architectures: it powers their AutoML service on Google Vertex AI (see Chapter 19). The term AutoML refers to any system that takes care of a large part of the ML workflow. Evolutionary algorithms have even been used successfully to train individual neural networks, replacing the ubiquitous gradient descent! For an example, see the 2017 post by Uber where the authors introduce their Deep Neuroevolution technique.\n",
    "\n",
    "But despite all this exciting progress and all these tools and services, it still helps to have an idea of what values are reasonable for each hyperparameter so that you can build a quick prototype and restrict the search space. The following sections provide guidelines for choosing the number of hidden layers and neurons in an MLP and for selecting good values for some of the main hyperparameters."
   ],
   "metadata": {
    "collapsed": false
   },
   "id": "1a0b19d38fbd0b4b"
  },
  {
   "cell_type": "code",
   "outputs": [],
   "source": [
    "%tensorboard --logdir {root_logdir}"
   ],
   "metadata": {
    "collapsed": false,
    "ExecuteTime": {
     "start_time": "2024-02-25T18:36:39.731371600Z"
    }
   },
   "id": "ac534c0246727376"
  },
  {
   "cell_type": "markdown",
   "source": [
    "# NUMBER OF HIDDEN LAYERS\n",
    "For many problems, you can begin with a single hidden layer and get reasonable results. An MLP with just one hidden layer can theoretically model even the most complex functions, provided it has enough neurons. But for complex problems, deep networks have a much higher parameter efficiency than shallow ones: they can model complex functions using exponentially fewer neurons than shallow nets, allowing them to reach much better performance with the same amount of training data.\n",
    "\n",
    "To understand why, suppose you are asked to draw a forest using some drawing software, but you are forbidden to copy and paste anything. It would take an enormous amount of time: you would have to draw each tree individually, branch by branch, leaf by leaf. If you could instead draw one leaf, copy and paste it to draw a branch, then copy and paste that branch to create a tree, and finally copy and paste this tree to make a forest, you would be finished in no time. Real-world data is often structured in such a hierarchical way, and deep neural networks automatically take advantage of this fact: lower hidden layers model low-level structures (e.g., line segments of various shapes and orientations), intermediate hidden layers combine these low-level structures to model intermediate-level structures (e.g., squares, circles), and the highest hidden layers and the output layer combine these intermediate structures to model high-level structures (e.g., faces).\n",
    "\n",
    "Not only does this hierarchical architecture help DNNs converge faster to a good solution, but it also improves their ability to generalize to new datasets. For example, if you have already trained a model to recognize faces in pictures and you now want to train a new neural network to recognize hairstyles, you can kickstart the training by reusing the lower layers of the first network. Instead of randomly initializing the weights and biases of the first few layers of the new neural network, you can initialize them to the values of the weights and biases of the lower layers of the first network. This way the network will not have to learn from scratch all the low-level structures that occur in most pictures; it will only have to learn the higher-level structures (e.g., hairstyles). This is called transfer learning.\n",
    "\n",
    "In summary, for many problems you can start with just one or two hidden layers and the neural network will work just fine. For instance, you can easily reach above 97% accuracy on the MNIST dataset using just one hidden layer with a few hundred neurons, and above 98% accuracy using two hidden layers with the same total number of neurons, in roughly the same amount of training time. For more complex problems, you can ramp up the number of hidden layers until you start overfitting the training set. Very complex tasks, such as large image classification or speech recognition, typically require networks with dozens of layers (or even hundreds, but not fully connected ones, as you will see in Chapter 14), and they need a huge amount of training data. You will rarely have to train such networks from scratch: it is much more common to reuse parts of a pretrained state-of-the-art network that performs a similar task. Training will then be a lot faster and require much less data (we will discuss this in Chapter 11)."
   ],
   "metadata": {
    "collapsed": false
   },
   "id": "8ae6bfd30153d390"
  },
  {
   "cell_type": "markdown",
   "source": [
    "# NUMBER OF NEURONS PER HIDDEN LAYER\n",
    "The number of neurons in the input and output layers is determined by the type of input and output your task requires. For example, the MNIST task requires 28 × 28 = 784 inputs and 10 output neurons.\n",
    "\n",
    "As for the hidden layers, it used to be common to size them to form a pyramid, with fewer and fewer neurons at each layer—the rationale being that many low-level features can coalesce into far fewer high-level features. A typical neural network for MNIST might have 3 hidden layers, the first with 300 neurons, the second with 200, and the third with 100. However, this practice has been largely abandoned because it seems that using the same number of neurons in all hidden layers performs just as well in most cases, or even better; plus, there is only one hyperparameter to tune, instead of one per layer. That said, depending on the dataset, it can sometimes help to make the first hidden layer bigger than the others.\n",
    "\n",
    "Just like the number of layers, you can try increasing the number of neurons gradually until the network starts overfitting. Alternatively, you can try building a model with slightly more layers and neurons than you actually need, then use early stopping and other regularization techniques to prevent it from overfitting too much. Vincent Vanhoucke, a scientist at Google, has dubbed this the “stretch pants” approach: instead of wasting time looking for pants that perfectly match your size, just use large stretch pants that will shrink down to the right size. With this approach, you avoid bottleneck layers that could ruin your model. Indeed, if a layer has too few neurons, it will not have enough representational power to preserve all the useful information from the inputs (e.g., a layer with two neurons can only output 2D data, so if it gets 3D data as input, some information will be lost). No matter how big and powerful the rest of the network is, that information will never be recovered."
   ],
   "metadata": {
    "collapsed": false
   },
   "id": "8ad70ff04a691a22"
  },
  {
   "cell_type": "markdown",
   "source": [
    "TIP\n",
    "In general you will get more bang for your buck by increasing the number of layers instead of the number of neurons per layer."
   ],
   "metadata": {
    "collapsed": false
   },
   "id": "71bd7b81eb8e934f"
  },
  {
   "cell_type": "markdown",
   "source": [
    "# LEARNING RATE, BATCH SIZE, AND OTHER HYPERPARAMETERS\n",
    "The number of hidden layers and neurons are not the only hyperparameters you can tweak in an MLP. Here are some of the most important ones, as well as tips on how to set them:\n",
    "\n",
    "**Learning rate**\n",
    "The learning rate is arguably the most important hyperparameter. In general, the optimal learning rate is about half of the maximum learning rate (i.e., the learning rate above which the training algorithm diverges, as we saw in Chapter 4). One way to find a good learning rate is to train the model for a few hundred iterations, starting with a very low learning rate (e.g., $10^{–5}$) and gradually increasing it up to a very large value (e.g., 10). This is done by multiplying the learning rate by a constant factor at each iteration (e.g., by $(10 / 10^{-5})^{1 / 500}$ to go from $10^{–5}$ to 10 in 500 iterations). If you plot the loss as a function of the learning rate (using a log scale for the learning rate), you should see it dropping at first. But after a while, the learning rate will be too large, so the loss will shoot back up: the optimal learning rate will be a bit lower than the point at which the loss starts to climb (typically about 10 times lower than the turning point). You can then reinitialize your model and train it normally using this good learning rate. We will look at more learning rate optimization techniques in Chapter 11.\n",
    "\n",
    "**Optimizer**\n",
    "Choosing a better optimizer than plain old mini-batch gradient descent (and tuning its hyperparameters) is also quite important. We will examine several advanced optimizers in Chapter 11.\n",
    "\n",
    "**Batch size**\n",
    "The batch size can have a significant impact on your model’s performance and training time. The main benefit of using large batch sizes is that hardware accelerators like GPUs can process them efficiently (see Chapter 19), so the training algorithm will see more instances per second. Therefore, many researchers and practitioners recommend using the largest batch size that can fit in GPU RAM. There’s a catch, though: in practice, large batch sizes often lead to training instabilities, especially at the beginning of training, and the resulting model may not generalize as well as a model trained with a small batch size. In April 2018, Yann LeCun even tweeted “Friends don’t let friends use mini-batches larger than 32”, citing a 2018 paper by Dominic Masters and Carlo Luschi which concluded that using small batches (from 2 to 32) was preferable because small batches led to better models in less training time. Other research points in the opposite direction, however. For example, in 2017, papers by Elad Hoffer et al. and Priya Goyal et al. showed that it was possible to use very large batch sizes (up to 8,192) along with various techniques such as warming up the learning rate (i.e., starting training with a small learning rate, then ramping it up, as discussed in Chapter 11) and to obtain very short training times, without any generalization gap. So, one strategy is to try to using a large batch size, with learning rate warmup, and if training is unstable or the final performance is disappointing, then try using a small batch size instead.\n",
    "\n",
    "**Activation function**\n",
    "We discussed how to choose the activation function earlier in this chapter: in general, the ReLU activation function will be a good default for all hidden layers, but for the output layer it really depends on your task.\n",
    "\n",
    "**Number of iterations**\n",
    "In most cases, the number of training iterations does not actually need to be tweaked: just use early stopping instead."
   ],
   "metadata": {
    "collapsed": false
   },
   "id": "c5b2a94c34caaf49"
  },
  {
   "cell_type": "markdown",
   "source": [
    "TIP\n",
    "The optimal learning rate depends on the other hyperparameters—especially the batch size—so if you modify any hyperparameter, make sure to update the learning rate as well."
   ],
   "metadata": {
    "collapsed": false
   },
   "id": "2a268951546ce4a"
  },
  {
   "cell_type": "markdown",
   "source": [
    "For more best practices regarding tuning neural network hyperparameters, check out the excellent 2018 paper by Leslie Smith.\n",
    "\n",
    "This concludes our introduction to artificial neural networks and their implementation with Keras. In the next few chapters, we will discuss techniques to train very deep nets. We will also explore how to customize models using TensorFlow’s lower-level API and how to load and preprocess data efficiently using the tf.data API. And we will dive into other popular neural network architectures: convolutional neural networks for image processing, recurrent neural networks and transformers for sequential data and text, autoencoders for representation learning, and generative adversarial networks to model and generate data."
   ],
   "metadata": {
    "collapsed": false
   },
   "id": "2ff872a5df250a65"
  },
  {
   "cell_type": "markdown",
   "source": [
    "# EXTRA MATERIALS / EXERCISES"
   ],
   "metadata": {
    "collapsed": false
   },
   "id": "7853c42a9efc108a"
  },
  {
   "cell_type": "code",
   "outputs": [],
   "source": [
    "#todo: doplnit zbytek z githubu"
   ],
   "metadata": {
    "collapsed": false,
    "ExecuteTime": {
     "start_time": "2024-02-25T18:36:39.732374600Z"
    }
   },
   "id": "12a63c28e8100f8b"
  }
 ],
 "metadata": {
  "kernelspec": {
   "display_name": "Python 3",
   "language": "python",
   "name": "python3"
  },
  "language_info": {
   "codemirror_mode": {
    "name": "ipython",
    "version": 2
   },
   "file_extension": ".py",
   "mimetype": "text/x-python",
   "name": "python",
   "nbconvert_exporter": "python",
   "pygments_lexer": "ipython2",
   "version": "2.7.6"
  }
 },
 "nbformat": 4,
 "nbformat_minor": 5
}
