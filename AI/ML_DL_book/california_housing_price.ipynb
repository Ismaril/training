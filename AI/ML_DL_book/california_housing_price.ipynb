{
 "cells": [
  {
   "cell_type": "markdown",
   "metadata": {
    "id": "Hbk0REQ2_NBd"
   },
   "source": [
    "# SUMMARY, HOW IT IS DONE\n",
    "1. get data set\n",
    "2. get some quick info using pd.head(), pd.summary(), pd.info()\n",
    "3. visualise the data as much as possible\n",
    "4. get rid of missing values, or not needed ones, fix  categorical columns with text\n",
    "5. divide into train and test set\n",
    "  - stratified mix (if small data set), mixes and keeps the right mixing order\n",
    "  - mix just randomly - for big datasets\n",
    "6. scale features - normalisation, standardisation\n",
    "7. select and train models\n",
    "8. evaluate (using cross validation?)\n",
    "9. fine tune models (in case of sklearn automatically?)\n",
    "\n"
   ]
  },
  {
   "cell_type": "code",
   "execution_count": 1,
   "outputs": [
    {
     "name": "stderr",
     "output_type": "stream",
     "text": [
      "C:\\Users\\lazni\\PycharmProjects\\Training\\venv\\lib\\site-packages\\matplotlib\\projections\\__init__.py:63: UserWarning: Unable to import Axes3D. This may be due to multiple versions of Matplotlib being installed (e.g. as a system package and as a pip package). As a result, the 3D projection is not available.\n",
      "  warnings.warn(\"Unable to import Axes3D. This may be due to multiple versions of \"\n"
     ]
    },
    {
     "name": "stdout",
     "output_type": "stream",
     "text": [
      "numpy version:  1.24.4\n",
      "matplotlib version:  3.8.2\n",
      "pandas version:  2.1.3\n",
      "sklearn version:  1.3.2\n"
     ]
    }
   ],
   "source": [
    "import numpy as np\n",
    "import matplotlib.pyplot as plt\n",
    "import matplotlib as mpl\n",
    "import pandas\n",
    "import pandas as pd\n",
    "import sklearn\n",
    "\n",
    "print(\"numpy version: \", np.__version__)\n",
    "print(\"matplotlib version: \", mpl.__version__)\n",
    "print(\"pandas version: \", pd.__version__)\n",
    "print(\"sklearn version: \", sklearn.__version__)\n"
   ],
   "metadata": {
    "collapsed": false,
    "ExecuteTime": {
     "end_time": "2023-12-08T18:07:56.112005300Z",
     "start_time": "2023-12-08T18:07:53.477005500Z"
    }
   }
  },
  {
   "cell_type": "code",
   "execution_count": 2,
   "outputs": [],
   "source": [
    "# import custom module to separate text in console\n",
    "from separator import SeparateText\n",
    "\n",
    "s = SeparateText()"
   ],
   "metadata": {
    "collapsed": false,
    "ExecuteTime": {
     "end_time": "2023-12-08T18:07:56.150926300Z",
     "start_time": "2023-12-08T18:07:56.110010300Z"
    }
   }
  },
  {
   "cell_type": "markdown",
   "source": [
    "# LOAD THE DATA AND DO SOME QUICK CHECKING\n"
   ],
   "metadata": {
    "id": "0EDxfkMIiSDK"
   }
  },
  {
   "cell_type": "code",
   "execution_count": 3,
   "outputs": [
    {
     "data": {
      "text/plain": "   longitude  latitude  housing_median_age  total_rooms  total_bedrooms  \\\n0    -122.23     37.88                41.0        880.0           129.0   \n1    -122.22     37.86                21.0       7099.0          1106.0   \n2    -122.24     37.85                52.0       1467.0           190.0   \n3    -122.25     37.85                52.0       1274.0           235.0   \n4    -122.25     37.85                52.0       1627.0           280.0   \n\n   population  households  median_income  median_house_value ocean_proximity  \n0       322.0       126.0         8.3252            452600.0        NEAR BAY  \n1      2401.0      1138.0         8.3014            358500.0        NEAR BAY  \n2       496.0       177.0         7.2574            352100.0        NEAR BAY  \n3       558.0       219.0         5.6431            341300.0        NEAR BAY  \n4       565.0       259.0         3.8462            342200.0        NEAR BAY  ",
      "text/html": "<div>\n<style scoped>\n    .dataframe tbody tr th:only-of-type {\n        vertical-align: middle;\n    }\n\n    .dataframe tbody tr th {\n        vertical-align: top;\n    }\n\n    .dataframe thead th {\n        text-align: right;\n    }\n</style>\n<table border=\"1\" class=\"dataframe\">\n  <thead>\n    <tr style=\"text-align: right;\">\n      <th></th>\n      <th>longitude</th>\n      <th>latitude</th>\n      <th>housing_median_age</th>\n      <th>total_rooms</th>\n      <th>total_bedrooms</th>\n      <th>population</th>\n      <th>households</th>\n      <th>median_income</th>\n      <th>median_house_value</th>\n      <th>ocean_proximity</th>\n    </tr>\n  </thead>\n  <tbody>\n    <tr>\n      <th>0</th>\n      <td>-122.23</td>\n      <td>37.88</td>\n      <td>41.0</td>\n      <td>880.0</td>\n      <td>129.0</td>\n      <td>322.0</td>\n      <td>126.0</td>\n      <td>8.3252</td>\n      <td>452600.0</td>\n      <td>NEAR BAY</td>\n    </tr>\n    <tr>\n      <th>1</th>\n      <td>-122.22</td>\n      <td>37.86</td>\n      <td>21.0</td>\n      <td>7099.0</td>\n      <td>1106.0</td>\n      <td>2401.0</td>\n      <td>1138.0</td>\n      <td>8.3014</td>\n      <td>358500.0</td>\n      <td>NEAR BAY</td>\n    </tr>\n    <tr>\n      <th>2</th>\n      <td>-122.24</td>\n      <td>37.85</td>\n      <td>52.0</td>\n      <td>1467.0</td>\n      <td>190.0</td>\n      <td>496.0</td>\n      <td>177.0</td>\n      <td>7.2574</td>\n      <td>352100.0</td>\n      <td>NEAR BAY</td>\n    </tr>\n    <tr>\n      <th>3</th>\n      <td>-122.25</td>\n      <td>37.85</td>\n      <td>52.0</td>\n      <td>1274.0</td>\n      <td>235.0</td>\n      <td>558.0</td>\n      <td>219.0</td>\n      <td>5.6431</td>\n      <td>341300.0</td>\n      <td>NEAR BAY</td>\n    </tr>\n    <tr>\n      <th>4</th>\n      <td>-122.25</td>\n      <td>37.85</td>\n      <td>52.0</td>\n      <td>1627.0</td>\n      <td>280.0</td>\n      <td>565.0</td>\n      <td>259.0</td>\n      <td>3.8462</td>\n      <td>342200.0</td>\n      <td>NEAR BAY</td>\n    </tr>\n  </tbody>\n</table>\n</div>"
     },
     "execution_count": 3,
     "metadata": {},
     "output_type": "execute_result"
    }
   ],
   "source": [
    "def load_data(path_or_url: str):\n",
    "    \"\"\"\n",
    "    load data from path or url\n",
    "    :param path_or_url: \n",
    "    :return: Pandas DataFrame\n",
    "    \"\"\"\n",
    "    return pd.read_csv(path_or_url)\n",
    "\n",
    "\n",
    "housing_dataset = load_data(\n",
    "    path_or_url=\"https://raw.githubusercontent.com/ageron/handson-ml2/master/datasets/housing/housing.csv\"\n",
    ")\n",
    "\n",
    "# show first 5 rows\n",
    "housing_dataset.head()"
   ],
   "metadata": {
    "colab": {
     "base_uri": "https://localhost:8080/",
     "height": 270
    },
    "executionInfo": {
     "elapsed": 714,
     "status": "ok",
     "timestamp": 1653933501910,
     "user": {
      "displayName": "Ismaril",
      "userId": "09094833649721836077"
     },
     "user_tz": -120
    },
    "id": "zXOFpTMfOsBt",
    "outputId": "efe00e87-30a9-4555-858f-9a7a32b5df11",
    "ExecuteTime": {
     "end_time": "2023-12-08T18:07:56.345469100Z",
     "start_time": "2023-12-08T18:07:56.125967900Z"
    }
   }
  },
  {
   "cell_type": "markdown",
   "source": [
    "# SHOW SOME INFO ABOUT DATASET"
   ],
   "metadata": {
    "collapsed": false
   }
  },
  {
   "cell_type": "code",
   "execution_count": 4,
   "metadata": {
    "colab": {
     "base_uri": "https://localhost:8080/"
    },
    "executionInfo": {
     "elapsed": 7,
     "status": "ok",
     "timestamp": 1653933501911,
     "user": {
      "displayName": "Ismaril",
      "userId": "09094833649721836077"
     },
     "user_tz": -120
    },
    "id": "2GMDlcXYP1Yo",
    "outputId": "61c33792-69ef-4ebd-b204-364cac9e2497",
    "ExecuteTime": {
     "end_time": "2023-12-08T18:07:56.408324500Z",
     "start_time": "2023-12-08T18:07:56.342476700Z"
    }
   },
   "outputs": [
    {
     "name": "stdout",
     "output_type": "stream",
     "text": [
      "<class 'pandas.core.frame.DataFrame'>\n",
      "RangeIndex: 20640 entries, 0 to 20639\n",
      "Data columns (total 10 columns):\n",
      " #   Column              Non-Null Count  Dtype  \n",
      "---  ------              --------------  -----  \n",
      " 0   longitude           20640 non-null  float64\n",
      " 1   latitude            20640 non-null  float64\n",
      " 2   housing_median_age  20640 non-null  float64\n",
      " 3   total_rooms         20640 non-null  float64\n",
      " 4   total_bedrooms      20433 non-null  float64\n",
      " 5   population          20640 non-null  float64\n",
      " 6   households          20640 non-null  float64\n",
      " 7   median_income       20640 non-null  float64\n",
      " 8   median_house_value  20640 non-null  float64\n",
      " 9   ocean_proximity     20640 non-null  object \n",
      "dtypes: float64(9), object(1)\n",
      "memory usage: 1.6+ MB\n"
     ]
    }
   ],
   "source": [
    "# - check for missing values like 20640 vs 2433, etc...\n",
    "# - check for d-types - ocean proximity is not number\n",
    "housing_dataset.info()"
   ]
  },
  {
   "cell_type": "code",
   "execution_count": 5,
   "metadata": {
    "colab": {
     "base_uri": "https://localhost:8080/",
     "height": 364
    },
    "executionInfo": {
     "elapsed": 5,
     "status": "ok",
     "timestamp": 1653933501911,
     "user": {
      "displayName": "Ismaril",
      "userId": "09094833649721836077"
     },
     "user_tz": -120
    },
    "id": "YfM7V9a-P4_Q",
    "outputId": "35c6d1b3-4429-41df-a7b1-e65237b126a8",
    "ExecuteTime": {
     "end_time": "2023-12-08T18:07:56.451218Z",
     "start_time": "2023-12-08T18:07:56.358433600Z"
    }
   },
   "outputs": [
    {
     "data": {
      "text/plain": "          longitude      latitude  housing_median_age   total_rooms  \\\ncount  20640.000000  20640.000000        20640.000000  20640.000000   \nmean    -119.569704     35.631861           28.639486   2635.763081   \nstd        2.003532      2.135952           12.585558   2181.615252   \nmin     -124.350000     32.540000            1.000000      2.000000   \n25%     -121.800000     33.930000           18.000000   1447.750000   \n50%     -118.490000     34.260000           29.000000   2127.000000   \n75%     -118.010000     37.710000           37.000000   3148.000000   \nmax     -114.310000     41.950000           52.000000  39320.000000   \n\n       total_bedrooms    population    households  median_income  \\\ncount    20433.000000  20640.000000  20640.000000   20640.000000   \nmean       537.870553   1425.476744    499.539680       3.870671   \nstd        421.385070   1132.462122    382.329753       1.899822   \nmin          1.000000      3.000000      1.000000       0.499900   \n25%        296.000000    787.000000    280.000000       2.563400   \n50%        435.000000   1166.000000    409.000000       3.534800   \n75%        647.000000   1725.000000    605.000000       4.743250   \nmax       6445.000000  35682.000000   6082.000000      15.000100   \n\n       median_house_value  \ncount        20640.000000  \nmean        206855.816909  \nstd         115395.615874  \nmin          14999.000000  \n25%         119600.000000  \n50%         179700.000000  \n75%         264725.000000  \nmax         500001.000000  ",
      "text/html": "<div>\n<style scoped>\n    .dataframe tbody tr th:only-of-type {\n        vertical-align: middle;\n    }\n\n    .dataframe tbody tr th {\n        vertical-align: top;\n    }\n\n    .dataframe thead th {\n        text-align: right;\n    }\n</style>\n<table border=\"1\" class=\"dataframe\">\n  <thead>\n    <tr style=\"text-align: right;\">\n      <th></th>\n      <th>longitude</th>\n      <th>latitude</th>\n      <th>housing_median_age</th>\n      <th>total_rooms</th>\n      <th>total_bedrooms</th>\n      <th>population</th>\n      <th>households</th>\n      <th>median_income</th>\n      <th>median_house_value</th>\n    </tr>\n  </thead>\n  <tbody>\n    <tr>\n      <th>count</th>\n      <td>20640.000000</td>\n      <td>20640.000000</td>\n      <td>20640.000000</td>\n      <td>20640.000000</td>\n      <td>20433.000000</td>\n      <td>20640.000000</td>\n      <td>20640.000000</td>\n      <td>20640.000000</td>\n      <td>20640.000000</td>\n    </tr>\n    <tr>\n      <th>mean</th>\n      <td>-119.569704</td>\n      <td>35.631861</td>\n      <td>28.639486</td>\n      <td>2635.763081</td>\n      <td>537.870553</td>\n      <td>1425.476744</td>\n      <td>499.539680</td>\n      <td>3.870671</td>\n      <td>206855.816909</td>\n    </tr>\n    <tr>\n      <th>std</th>\n      <td>2.003532</td>\n      <td>2.135952</td>\n      <td>12.585558</td>\n      <td>2181.615252</td>\n      <td>421.385070</td>\n      <td>1132.462122</td>\n      <td>382.329753</td>\n      <td>1.899822</td>\n      <td>115395.615874</td>\n    </tr>\n    <tr>\n      <th>min</th>\n      <td>-124.350000</td>\n      <td>32.540000</td>\n      <td>1.000000</td>\n      <td>2.000000</td>\n      <td>1.000000</td>\n      <td>3.000000</td>\n      <td>1.000000</td>\n      <td>0.499900</td>\n      <td>14999.000000</td>\n    </tr>\n    <tr>\n      <th>25%</th>\n      <td>-121.800000</td>\n      <td>33.930000</td>\n      <td>18.000000</td>\n      <td>1447.750000</td>\n      <td>296.000000</td>\n      <td>787.000000</td>\n      <td>280.000000</td>\n      <td>2.563400</td>\n      <td>119600.000000</td>\n    </tr>\n    <tr>\n      <th>50%</th>\n      <td>-118.490000</td>\n      <td>34.260000</td>\n      <td>29.000000</td>\n      <td>2127.000000</td>\n      <td>435.000000</td>\n      <td>1166.000000</td>\n      <td>409.000000</td>\n      <td>3.534800</td>\n      <td>179700.000000</td>\n    </tr>\n    <tr>\n      <th>75%</th>\n      <td>-118.010000</td>\n      <td>37.710000</td>\n      <td>37.000000</td>\n      <td>3148.000000</td>\n      <td>647.000000</td>\n      <td>1725.000000</td>\n      <td>605.000000</td>\n      <td>4.743250</td>\n      <td>264725.000000</td>\n    </tr>\n    <tr>\n      <th>max</th>\n      <td>-114.310000</td>\n      <td>41.950000</td>\n      <td>52.000000</td>\n      <td>39320.000000</td>\n      <td>6445.000000</td>\n      <td>35682.000000</td>\n      <td>6082.000000</td>\n      <td>15.000100</td>\n      <td>500001.000000</td>\n    </tr>\n  </tbody>\n</table>\n</div>"
     },
     "execution_count": 5,
     "metadata": {},
     "output_type": "execute_result"
    }
   ],
   "source": [
    "housing_dataset.describe()"
   ]
  },
  {
   "cell_type": "code",
   "execution_count": 6,
   "metadata": {
    "colab": {
     "base_uri": "https://localhost:8080/",
     "height": 515
    },
    "executionInfo": {
     "elapsed": 2544,
     "status": "ok",
     "timestamp": 1653933504451,
     "user": {
      "displayName": "Ismaril",
      "userId": "09094833649721836077"
     },
     "user_tz": -120
    },
    "id": "4wVilz5BQeaB",
    "outputId": "832876aa-d4f0-44d8-cf1c-22547905760c",
    "ExecuteTime": {
     "end_time": "2023-12-08T18:07:57.833519Z",
     "start_time": "2023-12-08T18:07:56.389351400Z"
    }
   },
   "outputs": [
    {
     "data": {
      "text/plain": "<Figure size 1440x1080 with 9 Axes>",
      "image/png": "[encoded data removed]"
     },
     "metadata": {
      "needs_background": "light"
     },
     "output_type": "display_data"
    }
   ],
   "source": [
    "# a histogram shows the number of instances (on the vertical axis) that have a given value range (on the horizontal axis)\n",
    "housing_dataset.hist(bins=50, figsize=(20, 15))\n",
    "plt.show()"
   ]
  },
  {
   "cell_type": "code",
   "execution_count": 7,
   "outputs": [
    {
     "data": {
      "text/plain": "ocean_proximity\n<1H OCEAN     9136\nINLAND        6551\nNEAR OCEAN    2658\nNEAR BAY      2290\nISLAND           5\nName: count, dtype: int64"
     },
     "execution_count": 7,
     "metadata": {},
     "output_type": "execute_result"
    }
   ],
   "source": [
    "# see that ocean proximity can be actually categorical because many values repeat\n",
    "housing_dataset[\"ocean_proximity\"].value_counts()"
   ],
   "metadata": {
    "collapsed": false,
    "ExecuteTime": {
     "end_time": "2023-12-08T18:07:57.979102Z",
     "start_time": "2023-12-08T18:07:57.829531900Z"
    }
   }
  },
  {
   "cell_type": "code",
   "execution_count": 8,
   "metadata": {
    "executionInfo": {
     "elapsed": 803,
     "status": "ok",
     "timestamp": 1653933504865,
     "user": {
      "displayName": "Ismaril",
      "userId": "09094833649721836077"
     },
     "user_tz": -120
    },
    "id": "i3je87vuTHWZ",
    "ExecuteTime": {
     "end_time": "2023-12-08T18:07:57.981096600Z",
     "start_time": "2023-12-08T18:07:57.844461900Z"
    }
   },
   "outputs": [
    {
     "name": "stdout",
     "output_type": "stream",
     "text": [
      "np.random.permutation(['a', 'b', 'c', 'd', 'e'])=array(['d', 'b', 'a', 'e', 'c'], dtype='<U1')\n",
      "len(shuffled_indices)=20640\n",
      "test_set_size=4128\n",
      "len(test_indices)=4128\n",
      "len(train_indices)=16512\n"
     ]
    }
   ],
   "source": [
    "from sklearn.model_selection import train_test_split\n",
    "\n",
    "\n",
    "# split to train and test set\n",
    "# print statements inside are only just for better understanding of what is happening\n",
    "def split_train_test(data: pandas.DataFrame, test_ratio: float):\n",
    "    \"\"\"\n",
    "    split data into train and test set\n",
    "    :param data: pandas DataFrame\n",
    "    :param test_ratio: float\n",
    "    :return: train set, test set\n",
    "    \"\"\"\n",
    "    np.random.seed(42)\n",
    "    # permutation shuffles the data se the print statement below will show different order of letters\n",
    "    shuffled_indices = np.random.permutation(len(data))\n",
    "    print(f\"{np.random.permutation(['a', 'b', 'c', 'd', 'e'])=}\")\n",
    "\n",
    "    # split the data into two sets using list slicing\n",
    "    test_set_size = int(len(data) * test_ratio)\n",
    "    test_indices = shuffled_indices[:test_set_size]\n",
    "    train_indices = shuffled_indices[test_set_size:]\n",
    "\n",
    "    # visualise the data\n",
    "    print(f\"{len(shuffled_indices)=}\")\n",
    "    print(f\"{test_set_size=}\")\n",
    "    print(f\"{len(test_indices)=}\")\n",
    "    print(f\"{len(train_indices)=}\")\n",
    "\n",
    "    # iloc locates data by index in pandas\n",
    "    return data.iloc[train_indices], data.iloc[test_indices]\n",
    "\n",
    "\n",
    "# call the function just for visualisation of printed statements. The function is not used in the rest of the code\n",
    "split_train_test(housing_dataset, 0.2)\n",
    "\n",
    "# split the complete dataset on the train data and test data\n",
    "# this is sickit learn version of custom function above\n",
    "train_set, test_set = train_test_split(housing_dataset, test_size=0.2, random_state=42)\n",
    "\n"
   ]
  },
  {
   "cell_type": "code",
   "execution_count": 9,
   "metadata": {
    "colab": {
     "base_uri": "https://localhost:8080/"
    },
    "executionInfo": {
     "elapsed": 23,
     "status": "ok",
     "timestamp": 1653933504866,
     "user": {
      "displayName": "Ismaril",
      "userId": "09094833649721836077"
     },
     "user_tz": -120
    },
    "id": "Qd7Z0SzUBI6i",
    "outputId": "5485f9ed-7072-407b-b83c-9242d8d3a921",
    "ExecuteTime": {
     "end_time": "2023-12-08T18:07:57.983091200Z",
     "start_time": "2023-12-08T18:07:57.905327800Z"
    }
   },
   "outputs": [
    {
     "name": "stdout",
     "output_type": "stream",
     "text": [
      "number of rows & number of columns (16512, 10)\n",
      "number of rows & number of columns (4128, 10)\n"
     ]
    }
   ],
   "source": [
    "print(\"number of rows & number of columns\", train_set.shape)\n",
    "print(\"number of rows & number of columns\", test_set.shape)"
   ]
  },
  {
   "cell_type": "code",
   "execution_count": 10,
   "metadata": {
    "colab": {
     "base_uri": "https://localhost:8080/"
    },
    "executionInfo": {
     "elapsed": 19,
     "status": "ok",
     "timestamp": 1653933504867,
     "user": {
      "displayName": "Ismaril",
      "userId": "09094833649721836077"
     },
     "user_tz": -120
    },
    "id": "4H71rFg7AeLN",
    "outputId": "855e49ed-85e9-4990-bc42-8c53ed7b9795",
    "ExecuteTime": {
     "end_time": "2023-12-08T18:07:58.051908500Z",
     "start_time": "2023-12-08T18:07:57.922254400Z"
    }
   },
   "outputs": [
    {
     "data": {
      "text/plain": "0        8.3252\n1        8.3014\n2        7.2574\n3        5.6431\n4        3.8462\n          ...  \n20635    1.5603\n20636    2.5568\n20637    1.7000\n20638    1.8672\n20639    2.3886\nName: median_income, Length: 20640, dtype: float64"
     },
     "execution_count": 10,
     "metadata": {},
     "output_type": "execute_result"
    }
   ],
   "source": [
    "housing_dataset[\"median_income\"]"
   ]
  },
  {
   "cell_type": "code",
   "execution_count": 11,
   "metadata": {
    "colab": {
     "base_uri": "https://localhost:8080/",
     "height": 387
    },
    "executionInfo": {
     "elapsed": 411,
     "status": "ok",
     "timestamp": 1653933505268,
     "user": {
      "displayName": "Ismaril",
      "userId": "09094833649721836077"
     },
     "user_tz": -120
    },
    "id": "Mzr9EXcSZiNQ",
    "outputId": "9f67c095-d516-483f-db59-f36be996b02d",
    "ExecuteTime": {
     "end_time": "2023-12-08T18:07:58.122719Z",
     "start_time": "2023-12-08T18:07:57.938211500Z"
    }
   },
   "outputs": [
    {
     "name": "stdout",
     "output_type": "stream",
     "text": [
      "0    5\n",
      "1    5\n",
      "2    5\n",
      "3    4\n",
      "4    3\n",
      "Name: income_cat, dtype: category\n",
      "Categories (5, int64): [1 < 2 < 3 < 4 < 5]\n"
     ]
    },
    {
     "data": {
      "text/plain": "<Figure size 432x288 with 1 Axes>",
      "image/png": "[encoded data removed]"
     },
     "metadata": {
      "needs_background": "light"
     },
     "output_type": "display_data"
    }
   ],
   "source": [
    "# pd.cut is used to group into categories (could convert ages to groups of age ranges)\n",
    "\n",
    "# as shown on histogram above, most values are between 1,5 and 6\n",
    "# bins are here as 5 section, starting with 0-1,5 (0-15000$), etc...\n",
    "# labels are values the dataset is going to be changed to\n",
    "housing_dataset[\"income_cat\"] = pd.cut(housing_dataset[\"median_income\"],\n",
    "                                       bins=[0., 1.5, 3.0, 4.5, 6.0, np.inf],\n",
    "                                       labels=[1, 2, 3, 4, 5])\n",
    "# now the data are labeled into 5 categories\n",
    "print(housing_dataset[\"income_cat\"].head())\n",
    "housing_dataset[\"income_cat\"].hist()\n",
    "plt.show()"
   ]
  },
  {
   "cell_type": "markdown",
   "metadata": {
    "id": "dtSOmiOTfihI"
   },
   "source": [
    "# STRATIFY THE DATA\n",
    "Stratify data to make sure that the train and test set have the same ratio of instances across all cataegories.\n",
    "\n",
    "For example, if variable y is a binary categorical variable with values 0 and 1 and there are 25% of zeros and 75% of ones, stratify=y will make sure that your random split has 25% of 0's and 75% of 1's."
   ]
  },
  {
   "cell_type": "code",
   "execution_count": 12,
   "metadata": {
    "colab": {
     "base_uri": "https://localhost:8080/"
    },
    "executionInfo": {
     "elapsed": 9,
     "status": "ok",
     "timestamp": 1653933505268,
     "user": {
      "displayName": "Ismaril",
      "userId": "09094833649721836077"
     },
     "user_tz": -120
    },
    "id": "-MpxIRIAibFm",
    "outputId": "6846d408-7768-413a-a9b3-3a805af80b53",
    "ExecuteTime": {
     "end_time": "2023-12-08T18:07:58.152661100Z",
     "start_time": "2023-12-08T18:07:58.047918800Z"
    }
   },
   "outputs": [
    {
     "name": "stdout",
     "output_type": "stream",
     "text": [
      "train_index=array([12655, 15502,  2908, ..., 19263, 19140, 19773], dtype=int64)\n",
      "[1] -------------------------------------------------------------------------------\n",
      "\n",
      "test_index=array([ 5241, 17352,  3505, ..., 17223, 10786,  3965], dtype=int64)\n",
      "[2] -------------------------------------------------------------------------------\n"
     ]
    }
   ],
   "source": [
    "from sklearn.model_selection import StratifiedShuffleSplit\n",
    "\n",
    "# X - target dataset to be stratified\n",
    "# y - dataset based on X will be stratified (in this case by income_cat)\n",
    "stratified_split = StratifiedShuffleSplit(n_splits=1, test_size=0.2, random_state=42)\n",
    "generator_ = stratified_split.split(X=housing_dataset, y=housing_dataset[\"income_cat\"])\n",
    "train_index, test_index = next(generator_)\n",
    "\n",
    "# seems this will move the rows based on the position of the old index on the new index. Meaning if old row number 4000 (was previously on index 4000) is now on index 0, it will be moved to index 0 in the new dataset. I can be wrong here, but it seems like it.\n",
    "strat_train_set = housing_dataset.loc[train_index]  # check the data in cells below\n",
    "strat_test_set = housing_dataset.loc[test_index]  # check the data in cells below\n",
    "print(f\"{train_index=}\\n\" + s.separator())\n",
    "print(f\"{test_index=}\\n\" + s.separator())"
   ]
  },
  {
   "cell_type": "code",
   "execution_count": 13,
   "outputs": [
    {
     "data": {
      "text/plain": "       longitude  latitude  housing_median_age  total_rooms  total_bedrooms  \\\n12655    -121.46     38.52                29.0       3873.0           797.0   \n15502    -117.23     33.09                 7.0       5320.0           855.0   \n2908     -119.04     35.37                44.0       1618.0           310.0   \n14053    -117.13     32.75                24.0       1877.0           519.0   \n20496    -118.70     34.28                27.0       3536.0           646.0   \n\n       population  households  median_income  median_house_value  \\\n12655      2237.0       706.0         2.1736             72100.0   \n15502      2015.0       768.0         6.3373            279600.0   \n2908        667.0       300.0         2.8750             82700.0   \n14053       898.0       483.0         2.2264            112500.0   \n20496      1837.0       580.0         4.4964            238300.0   \n\n      ocean_proximity income_cat  \n12655          INLAND          2  \n15502      NEAR OCEAN          5  \n2908           INLAND          2  \n14053      NEAR OCEAN          2  \n20496       <1H OCEAN          3  ",
      "text/html": "<div>\n<style scoped>\n    .dataframe tbody tr th:only-of-type {\n        vertical-align: middle;\n    }\n\n    .dataframe tbody tr th {\n        vertical-align: top;\n    }\n\n    .dataframe thead th {\n        text-align: right;\n    }\n</style>\n<table border=\"1\" class=\"dataframe\">\n  <thead>\n    <tr style=\"text-align: right;\">\n      <th></th>\n      <th>longitude</th>\n      <th>latitude</th>\n      <th>housing_median_age</th>\n      <th>total_rooms</th>\n      <th>total_bedrooms</th>\n      <th>population</th>\n      <th>households</th>\n      <th>median_income</th>\n      <th>median_house_value</th>\n      <th>ocean_proximity</th>\n      <th>income_cat</th>\n    </tr>\n  </thead>\n  <tbody>\n    <tr>\n      <th>12655</th>\n      <td>-121.46</td>\n      <td>38.52</td>\n      <td>29.0</td>\n      <td>3873.0</td>\n      <td>797.0</td>\n      <td>2237.0</td>\n      <td>706.0</td>\n      <td>2.1736</td>\n      <td>72100.0</td>\n      <td>INLAND</td>\n      <td>2</td>\n    </tr>\n    <tr>\n      <th>15502</th>\n      <td>-117.23</td>\n      <td>33.09</td>\n      <td>7.0</td>\n      <td>5320.0</td>\n      <td>855.0</td>\n      <td>2015.0</td>\n      <td>768.0</td>\n      <td>6.3373</td>\n      <td>279600.0</td>\n      <td>NEAR OCEAN</td>\n      <td>5</td>\n    </tr>\n    <tr>\n      <th>2908</th>\n      <td>-119.04</td>\n      <td>35.37</td>\n      <td>44.0</td>\n      <td>1618.0</td>\n      <td>310.0</td>\n      <td>667.0</td>\n      <td>300.0</td>\n      <td>2.8750</td>\n      <td>82700.0</td>\n      <td>INLAND</td>\n      <td>2</td>\n    </tr>\n    <tr>\n      <th>14053</th>\n      <td>-117.13</td>\n      <td>32.75</td>\n      <td>24.0</td>\n      <td>1877.0</td>\n      <td>519.0</td>\n      <td>898.0</td>\n      <td>483.0</td>\n      <td>2.2264</td>\n      <td>112500.0</td>\n      <td>NEAR OCEAN</td>\n      <td>2</td>\n    </tr>\n    <tr>\n      <th>20496</th>\n      <td>-118.70</td>\n      <td>34.28</td>\n      <td>27.0</td>\n      <td>3536.0</td>\n      <td>646.0</td>\n      <td>1837.0</td>\n      <td>580.0</td>\n      <td>4.4964</td>\n      <td>238300.0</td>\n      <td>&lt;1H OCEAN</td>\n      <td>3</td>\n    </tr>\n  </tbody>\n</table>\n</div>"
     },
     "execution_count": 13,
     "metadata": {},
     "output_type": "execute_result"
    }
   ],
   "source": [
    "strat_train_set.head()"
   ],
   "metadata": {
    "collapsed": false,
    "ExecuteTime": {
     "end_time": "2023-12-08T18:07:58.198516500Z",
     "start_time": "2023-12-08T18:07:58.060908700Z"
    }
   }
  },
  {
   "cell_type": "code",
   "execution_count": 14,
   "outputs": [
    {
     "data": {
      "text/plain": "       longitude  latitude  housing_median_age  total_rooms  total_bedrooms  \\\n5241     -118.39     34.12                29.0       6447.0          1012.0   \n17352    -120.42     34.89                24.0       2020.0           307.0   \n3505     -118.45     34.25                36.0       1453.0           270.0   \n7777     -118.10     33.91                35.0       1653.0           325.0   \n14155    -117.07     32.77                38.0       3779.0           614.0   \n\n       population  households  median_income  median_house_value  \\\n5241       2184.0       960.0         8.2816            500001.0   \n17352       855.0       283.0         5.0099            162500.0   \n3505        808.0       275.0         4.3839            204600.0   \n7777       1072.0       301.0         3.2708            159700.0   \n14155      1495.0       614.0         4.3529            184000.0   \n\n      ocean_proximity income_cat  \n5241        <1H OCEAN          5  \n17352       <1H OCEAN          4  \n3505        <1H OCEAN          3  \n7777        <1H OCEAN          3  \n14155      NEAR OCEAN          3  ",
      "text/html": "<div>\n<style scoped>\n    .dataframe tbody tr th:only-of-type {\n        vertical-align: middle;\n    }\n\n    .dataframe tbody tr th {\n        vertical-align: top;\n    }\n\n    .dataframe thead th {\n        text-align: right;\n    }\n</style>\n<table border=\"1\" class=\"dataframe\">\n  <thead>\n    <tr style=\"text-align: right;\">\n      <th></th>\n      <th>longitude</th>\n      <th>latitude</th>\n      <th>housing_median_age</th>\n      <th>total_rooms</th>\n      <th>total_bedrooms</th>\n      <th>population</th>\n      <th>households</th>\n      <th>median_income</th>\n      <th>median_house_value</th>\n      <th>ocean_proximity</th>\n      <th>income_cat</th>\n    </tr>\n  </thead>\n  <tbody>\n    <tr>\n      <th>5241</th>\n      <td>-118.39</td>\n      <td>34.12</td>\n      <td>29.0</td>\n      <td>6447.0</td>\n      <td>1012.0</td>\n      <td>2184.0</td>\n      <td>960.0</td>\n      <td>8.2816</td>\n      <td>500001.0</td>\n      <td>&lt;1H OCEAN</td>\n      <td>5</td>\n    </tr>\n    <tr>\n      <th>17352</th>\n      <td>-120.42</td>\n      <td>34.89</td>\n      <td>24.0</td>\n      <td>2020.0</td>\n      <td>307.0</td>\n      <td>855.0</td>\n      <td>283.0</td>\n      <td>5.0099</td>\n      <td>162500.0</td>\n      <td>&lt;1H OCEAN</td>\n      <td>4</td>\n    </tr>\n    <tr>\n      <th>3505</th>\n      <td>-118.45</td>\n      <td>34.25</td>\n      <td>36.0</td>\n      <td>1453.0</td>\n      <td>270.0</td>\n      <td>808.0</td>\n      <td>275.0</td>\n      <td>4.3839</td>\n      <td>204600.0</td>\n      <td>&lt;1H OCEAN</td>\n      <td>3</td>\n    </tr>\n    <tr>\n      <th>7777</th>\n      <td>-118.10</td>\n      <td>33.91</td>\n      <td>35.0</td>\n      <td>1653.0</td>\n      <td>325.0</td>\n      <td>1072.0</td>\n      <td>301.0</td>\n      <td>3.2708</td>\n      <td>159700.0</td>\n      <td>&lt;1H OCEAN</td>\n      <td>3</td>\n    </tr>\n    <tr>\n      <th>14155</th>\n      <td>-117.07</td>\n      <td>32.77</td>\n      <td>38.0</td>\n      <td>3779.0</td>\n      <td>614.0</td>\n      <td>1495.0</td>\n      <td>614.0</td>\n      <td>4.3529</td>\n      <td>184000.0</td>\n      <td>NEAR OCEAN</td>\n      <td>3</td>\n    </tr>\n  </tbody>\n</table>\n</div>"
     },
     "execution_count": 14,
     "metadata": {},
     "output_type": "execute_result"
    }
   ],
   "source": [
    "strat_test_set.head()"
   ],
   "metadata": {
    "collapsed": false,
    "ExecuteTime": {
     "end_time": "2023-12-08T18:07:58.200510300Z",
     "start_time": "2023-12-08T18:07:58.078835500Z"
    }
   }
  },
  {
   "cell_type": "code",
   "execution_count": 15,
   "outputs": [
    {
     "data": {
      "text/plain": "income_cat\n3    0.350533\n2    0.318798\n4    0.176357\n5    0.114341\n1    0.039971\nName: count, dtype: float64"
     },
     "execution_count": 15,
     "metadata": {},
     "output_type": "execute_result"
    }
   ],
   "source": [
    "# compare how the stratification kept the ratios of income categories\n",
    "strat_test_set[\"income_cat\"].value_counts() / len(strat_test_set)"
   ],
   "metadata": {
    "collapsed": false,
    "ExecuteTime": {
     "end_time": "2023-12-08T18:07:58.202505Z",
     "start_time": "2023-12-08T18:07:58.092798200Z"
    }
   }
  },
  {
   "cell_type": "code",
   "execution_count": 16,
   "outputs": [
    {
     "data": {
      "text/plain": "income_cat\n3    0.350581\n2    0.318847\n4    0.176308\n5    0.114438\n1    0.039826\nName: count, dtype: float64"
     },
     "execution_count": 16,
     "metadata": {},
     "output_type": "execute_result"
    }
   ],
   "source": [
    "# see that on average the ratios are the same with original dataset, which is what we want. What we want is to have the same ratios of income categories in both datasets (train and test)\n",
    "housing_dataset[\"income_cat\"].value_counts() / len(housing_dataset)"
   ],
   "metadata": {
    "collapsed": false,
    "ExecuteTime": {
     "end_time": "2023-12-08T18:07:58.231450900Z",
     "start_time": "2023-12-08T18:07:58.108755900Z"
    }
   }
  },
  {
   "cell_type": "code",
   "execution_count": 17,
   "outputs": [],
   "source": [
    "# Seems that income category was created previously mainly as a key for stratification. Now it is not needed anymore and can be dropped\n",
    "for set_ in (strat_train_set, strat_test_set):\n",
    "    set_.drop(\"income_cat\", axis=1, inplace=True)"
   ],
   "metadata": {
    "collapsed": false,
    "ExecuteTime": {
     "end_time": "2023-12-08T18:07:58.271321300Z",
     "start_time": "2023-12-08T18:07:58.125710900Z"
    }
   }
  },
  {
   "cell_type": "code",
   "execution_count": 18,
   "outputs": [
    {
     "name": "stdout",
     "output_type": "stream",
     "text": [
      "strat_train_set.shape=(16512, 10)\n",
      "strat_test_set.shape=(4128, 10)\n"
     ]
    }
   ],
   "source": [
    "print(f\"{strat_train_set.shape=}\")\n",
    "print(f\"{strat_test_set.shape=}\")"
   ],
   "metadata": {
    "collapsed": false,
    "ExecuteTime": {
     "end_time": "2023-12-08T18:07:58.306227900Z",
     "start_time": "2023-12-08T18:07:58.141668200Z"
    }
   }
  },
  {
   "cell_type": "code",
   "execution_count": 19,
   "metadata": {
    "colab": {
     "base_uri": "https://localhost:8080/"
    },
    "executionInfo": {
     "elapsed": 6,
     "status": "ok",
     "timestamp": 1653933505269,
     "user": {
      "displayName": "Ismaril",
      "userId": "09094833649721836077"
     },
     "user_tz": -120
    },
    "id": "r0Azgd4PExsF",
    "outputId": "4d3fd808-5491-493d-989d-6faefba527fd",
    "ExecuteTime": {
     "end_time": "2023-12-08T18:07:58.310217100Z",
     "start_time": "2023-12-08T18:07:58.155630700Z"
    }
   },
   "outputs": [
    {
     "data": {
      "text/plain": "longitude               -118.39\nlatitude                  34.12\nhousing_median_age         29.0\ntotal_rooms              6447.0\ntotal_bedrooms           1012.0\npopulation               2184.0\nhouseholds                960.0\nmedian_income            8.2816\nmedian_house_value     500001.0\nocean_proximity       <1H OCEAN\nincome_cat                    5\nName: 5241, dtype: object"
     },
     "execution_count": 19,
     "metadata": {},
     "output_type": "execute_result"
    }
   ],
   "source": [
    "# stratification does not have any impact on the actual values between original data set and stratified dataset, it distributes data between test and train set with the right split. Check the those 2 cells below, they are the same still.\n",
    "housing_dataset.iloc[5241]"
   ]
  },
  {
   "cell_type": "code",
   "execution_count": 20,
   "metadata": {
    "executionInfo": {
     "elapsed": 5,
     "status": "ok",
     "timestamp": 1653933505269,
     "user": {
      "displayName": "Ismaril",
      "userId": "09094833649721836077"
     },
     "user_tz": -120
    },
    "id": "-VtxvdX-Hb47",
    "ExecuteTime": {
     "end_time": "2023-12-08T18:07:58.373079600Z",
     "start_time": "2023-12-08T18:07:58.170591300Z"
    }
   },
   "outputs": [
    {
     "data": {
      "text/plain": "longitude               -118.39\nlatitude                  34.12\nhousing_median_age         29.0\ntotal_rooms              6447.0\ntotal_bedrooms           1012.0\npopulation               2184.0\nhouseholds                960.0\nmedian_income            8.2816\nmedian_house_value     500001.0\nocean_proximity       <1H OCEAN\nName: 5241, dtype: object"
     },
     "execution_count": 20,
     "metadata": {},
     "output_type": "execute_result"
    }
   ],
   "source": [
    "strat_test_set.iloc[0]"
   ]
  },
  {
   "cell_type": "markdown",
   "metadata": {
    "id": "FF8ODGv6kQRf"
   },
   "source": [
    "# VISUALISE THE DATA"
   ]
  },
  {
   "cell_type": "code",
   "execution_count": 21,
   "metadata": {
    "colab": {
     "base_uri": "https://localhost:8080/",
     "height": 296
    },
    "executionInfo": {
     "elapsed": 441,
     "status": "ok",
     "timestamp": 1653933505705,
     "user": {
      "displayName": "Ismaril",
      "userId": "09094833649721836077"
     },
     "user_tz": -120
    },
    "id": "6rNzVftpkRk3",
    "outputId": "91499a95-2c9e-46cc-d0b3-e6ec586de470",
    "ExecuteTime": {
     "end_time": "2023-12-08T18:07:58.525671500Z",
     "start_time": "2023-12-08T18:07:58.187545700Z"
    }
   },
   "outputs": [
    {
     "data": {
      "text/plain": "<Axes: xlabel='longitude', ylabel='latitude'>"
     },
     "execution_count": 21,
     "metadata": {},
     "output_type": "execute_result"
    },
    {
     "data": {
      "text/plain": "<Figure size 432x288 with 1 Axes>",
      "image/png": "[encoded data removed]"
     },
     "metadata": {
      "needs_background": "light"
     },
     "output_type": "display_data"
    }
   ],
   "source": [
    "# create a copy of dataset to play with using visualisations\n",
    "housing_df_copy = strat_train_set.copy()\n",
    "\n",
    "# plotting of pandas dataframe\n",
    "housing_df_copy.plot(kind=\"scatter\",\n",
    "                     x=\"longitude\",\n",
    "                     y=\"latitude\",\n",
    "                     alpha=0.1)  # alpha to visualise better density of points (from 0.0 to 1.0)"
   ]
  },
  {
   "cell_type": "code",
   "execution_count": 32,
   "metadata": {
    "colab": {
     "base_uri": "https://localhost:8080/",
     "height": 436
    },
    "executionInfo": {
     "elapsed": 1770,
     "status": "ok",
     "timestamp": 1653933507741,
     "user": {
      "displayName": "Ismaril",
      "userId": "09094833649721836077"
     },
     "user_tz": -120
    },
    "id": "IDdP0HfLk3hM",
    "outputId": "2ca75a43-071c-4990-8a1c-f1f8759a3ab6",
    "ExecuteTime": {
     "end_time": "2023-12-08T18:12:13.068423Z",
     "start_time": "2023-12-08T18:12:12.339370800Z"
    }
   },
   "outputs": [
    {
     "data": {
      "text/plain": "<Axes: xlabel='longitude', ylabel='latitude'>"
     },
     "execution_count": 32,
     "metadata": {},
     "output_type": "execute_result"
    },
    {
     "data": {
      "text/plain": "<Figure size 1440x1008 with 2 Axes>",
      "image/png": "[encoded data removed]"
     },
     "metadata": {
      "needs_background": "light"
     },
     "output_type": "display_data"
    }
   ],
   "source": [
    "housing_df_copy.plot(\n",
    "    kind=\"scatter\",  # type of graph\n",
    "    x=\"longitude\",  # x axis\n",
    "    y=\"latitude\",  # y axis\n",
    "    alpha=0.5,  # described in one cell above\n",
    "    s=housing_df_copy[\"population\"] / 100,  # size of the circle based on population\n",
    "    label=\"population\",  # label in right corner\n",
    "    figsize=(20, 14),  # size of image\n",
    "    c=\"median_house_value\",  # color palette based on median house value\n",
    "    cmap=\"jet\",  # select color map\n",
    "    colorbar=True,  # that scale on the right\n",
    "    legend=True  # population\n",
    ")"
   ]
  },
  {
   "cell_type": "markdown",
   "metadata": {
    "id": "sDgMTW300HoL"
   },
   "source": [
    "### looking for corelations\n"
   ]
  },
  {
   "cell_type": "markdown",
   "metadata": {
    "id": "kIeddCmB06V-"
   },
   "source": [
    "DataFrame.corr(method='pearson', min_periods=1)[source]\n",
    "Compute pairwise correlation of columns, excluding NA/null values."
   ]
  },
  {
   "cell_type": "code",
   "execution_count": 23,
   "metadata": {
    "colab": {
     "base_uri": "https://localhost:8080/"
    },
    "executionInfo": {
     "elapsed": 3,
     "status": "ok",
     "timestamp": 1653933508018,
     "user": {
      "displayName": "Ismaril",
      "userId": "09094833649721836077"
     },
     "user_tz": -120
    },
    "id": "eE6XrfYH0Jhx",
    "outputId": "3b2f9a3e-b768-49db-83a8-dd4ff6b7b0f4",
    "ExecuteTime": {
     "end_time": "2023-12-08T18:08:00.520348800Z",
     "start_time": "2023-12-08T18:07:58.999434Z"
    }
   },
   "outputs": [
    {
     "ename": "ValueError",
     "evalue": "could not convert string to float: 'INLAND'",
     "output_type": "error",
     "traceback": [
      "\u001B[1;31m---------------------------------------------------------------------------\u001B[0m",
      "\u001B[1;31mValueError\u001B[0m                                Traceback (most recent call last)",
      "Input \u001B[1;32mIn [23]\u001B[0m, in \u001B[0;36m<cell line: 2>\u001B[1;34m()\u001B[0m\n\u001B[0;32m      1\u001B[0m \u001B[38;5;66;03m# possible to check only linear correlations\u001B[39;00m\n\u001B[1;32m----> 2\u001B[0m correlation_matrix \u001B[38;5;241m=\u001B[39m \u001B[43mhousing_df_copy\u001B[49m\u001B[38;5;241;43m.\u001B[39;49m\u001B[43mcorr\u001B[49m\u001B[43m(\u001B[49m\u001B[43m)\u001B[49m\n\u001B[0;32m      3\u001B[0m correlation_matrix[\u001B[38;5;124m\"\u001B[39m\u001B[38;5;124mmedian_house_value\u001B[39m\u001B[38;5;124m\"\u001B[39m]\u001B[38;5;241m.\u001B[39msort_values(ascending\u001B[38;5;241m=\u001B[39m\u001B[38;5;28;01mFalse\u001B[39;00m)\n",
      "File \u001B[1;32m~\\PycharmProjects\\Training\\venv\\lib\\site-packages\\pandas\\core\\frame.py:10704\u001B[0m, in \u001B[0;36mDataFrame.corr\u001B[1;34m(self, method, min_periods, numeric_only)\u001B[0m\n\u001B[0;32m  10702\u001B[0m cols \u001B[38;5;241m=\u001B[39m data\u001B[38;5;241m.\u001B[39mcolumns\n\u001B[0;32m  10703\u001B[0m idx \u001B[38;5;241m=\u001B[39m cols\u001B[38;5;241m.\u001B[39mcopy()\n\u001B[1;32m> 10704\u001B[0m mat \u001B[38;5;241m=\u001B[39m \u001B[43mdata\u001B[49m\u001B[38;5;241;43m.\u001B[39;49m\u001B[43mto_numpy\u001B[49m\u001B[43m(\u001B[49m\u001B[43mdtype\u001B[49m\u001B[38;5;241;43m=\u001B[39;49m\u001B[38;5;28;43mfloat\u001B[39;49m\u001B[43m,\u001B[49m\u001B[43m \u001B[49m\u001B[43mna_value\u001B[49m\u001B[38;5;241;43m=\u001B[39;49m\u001B[43mnp\u001B[49m\u001B[38;5;241;43m.\u001B[39;49m\u001B[43mnan\u001B[49m\u001B[43m,\u001B[49m\u001B[43m \u001B[49m\u001B[43mcopy\u001B[49m\u001B[38;5;241;43m=\u001B[39;49m\u001B[38;5;28;43;01mFalse\u001B[39;49;00m\u001B[43m)\u001B[49m\n\u001B[0;32m  10706\u001B[0m \u001B[38;5;28;01mif\u001B[39;00m method \u001B[38;5;241m==\u001B[39m \u001B[38;5;124m\"\u001B[39m\u001B[38;5;124mpearson\u001B[39m\u001B[38;5;124m\"\u001B[39m:\n\u001B[0;32m  10707\u001B[0m     correl \u001B[38;5;241m=\u001B[39m libalgos\u001B[38;5;241m.\u001B[39mnancorr(mat, minp\u001B[38;5;241m=\u001B[39mmin_periods)\n",
      "File \u001B[1;32m~\\PycharmProjects\\Training\\venv\\lib\\site-packages\\pandas\\core\\frame.py:1889\u001B[0m, in \u001B[0;36mDataFrame.to_numpy\u001B[1;34m(self, dtype, copy, na_value)\u001B[0m\n\u001B[0;32m   1887\u001B[0m \u001B[38;5;28;01mif\u001B[39;00m dtype \u001B[38;5;129;01mis\u001B[39;00m \u001B[38;5;129;01mnot\u001B[39;00m \u001B[38;5;28;01mNone\u001B[39;00m:\n\u001B[0;32m   1888\u001B[0m     dtype \u001B[38;5;241m=\u001B[39m np\u001B[38;5;241m.\u001B[39mdtype(dtype)\n\u001B[1;32m-> 1889\u001B[0m result \u001B[38;5;241m=\u001B[39m \u001B[38;5;28;43mself\u001B[39;49m\u001B[38;5;241;43m.\u001B[39;49m\u001B[43m_mgr\u001B[49m\u001B[38;5;241;43m.\u001B[39;49m\u001B[43mas_array\u001B[49m\u001B[43m(\u001B[49m\u001B[43mdtype\u001B[49m\u001B[38;5;241;43m=\u001B[39;49m\u001B[43mdtype\u001B[49m\u001B[43m,\u001B[49m\u001B[43m \u001B[49m\u001B[43mcopy\u001B[49m\u001B[38;5;241;43m=\u001B[39;49m\u001B[43mcopy\u001B[49m\u001B[43m,\u001B[49m\u001B[43m \u001B[49m\u001B[43mna_value\u001B[49m\u001B[38;5;241;43m=\u001B[39;49m\u001B[43mna_value\u001B[49m\u001B[43m)\u001B[49m\n\u001B[0;32m   1890\u001B[0m \u001B[38;5;28;01mif\u001B[39;00m result\u001B[38;5;241m.\u001B[39mdtype \u001B[38;5;129;01mis\u001B[39;00m \u001B[38;5;129;01mnot\u001B[39;00m dtype:\n\u001B[0;32m   1891\u001B[0m     result \u001B[38;5;241m=\u001B[39m np\u001B[38;5;241m.\u001B[39marray(result, dtype\u001B[38;5;241m=\u001B[39mdtype, copy\u001B[38;5;241m=\u001B[39m\u001B[38;5;28;01mFalse\u001B[39;00m)\n",
      "File \u001B[1;32m~\\PycharmProjects\\Training\\venv\\lib\\site-packages\\pandas\\core\\internals\\managers.py:1656\u001B[0m, in \u001B[0;36mBlockManager.as_array\u001B[1;34m(self, dtype, copy, na_value)\u001B[0m\n\u001B[0;32m   1654\u001B[0m         arr\u001B[38;5;241m.\u001B[39mflags\u001B[38;5;241m.\u001B[39mwriteable \u001B[38;5;241m=\u001B[39m \u001B[38;5;28;01mFalse\u001B[39;00m\n\u001B[0;32m   1655\u001B[0m \u001B[38;5;28;01melse\u001B[39;00m:\n\u001B[1;32m-> 1656\u001B[0m     arr \u001B[38;5;241m=\u001B[39m \u001B[38;5;28;43mself\u001B[39;49m\u001B[38;5;241;43m.\u001B[39;49m\u001B[43m_interleave\u001B[49m\u001B[43m(\u001B[49m\u001B[43mdtype\u001B[49m\u001B[38;5;241;43m=\u001B[39;49m\u001B[43mdtype\u001B[49m\u001B[43m,\u001B[49m\u001B[43m \u001B[49m\u001B[43mna_value\u001B[49m\u001B[38;5;241;43m=\u001B[39;49m\u001B[43mna_value\u001B[49m\u001B[43m)\u001B[49m\n\u001B[0;32m   1657\u001B[0m     \u001B[38;5;66;03m# The underlying data was copied within _interleave, so no need\u001B[39;00m\n\u001B[0;32m   1658\u001B[0m     \u001B[38;5;66;03m# to further copy if copy=True or setting na_value\u001B[39;00m\n\u001B[0;32m   1660\u001B[0m \u001B[38;5;28;01mif\u001B[39;00m na_value \u001B[38;5;129;01mis\u001B[39;00m lib\u001B[38;5;241m.\u001B[39mno_default:\n",
      "File \u001B[1;32m~\\PycharmProjects\\Training\\venv\\lib\\site-packages\\pandas\\core\\internals\\managers.py:1715\u001B[0m, in \u001B[0;36mBlockManager._interleave\u001B[1;34m(self, dtype, na_value)\u001B[0m\n\u001B[0;32m   1713\u001B[0m     \u001B[38;5;28;01melse\u001B[39;00m:\n\u001B[0;32m   1714\u001B[0m         arr \u001B[38;5;241m=\u001B[39m blk\u001B[38;5;241m.\u001B[39mget_values(dtype)\n\u001B[1;32m-> 1715\u001B[0m     result[rl\u001B[38;5;241m.\u001B[39mindexer] \u001B[38;5;241m=\u001B[39m arr\n\u001B[0;32m   1716\u001B[0m     itemmask[rl\u001B[38;5;241m.\u001B[39mindexer] \u001B[38;5;241m=\u001B[39m \u001B[38;5;241m1\u001B[39m\n\u001B[0;32m   1718\u001B[0m \u001B[38;5;28;01mif\u001B[39;00m \u001B[38;5;129;01mnot\u001B[39;00m itemmask\u001B[38;5;241m.\u001B[39mall():\n",
      "\u001B[1;31mValueError\u001B[0m: could not convert string to float: 'INLAND'"
     ]
    }
   ],
   "source": [
    "# possible to check only linear correlations\n",
    "correlation_matrix = housing_df_copy.corr()\n",
    "correlation_matrix[\"median_house_value\"].sort_values(ascending=False)"
   ]
  },
  {
   "cell_type": "code",
   "execution_count": null,
   "metadata": {
    "colab": {
     "base_uri": "https://localhost:8080/",
     "height": 771
    },
    "executionInfo": {
     "elapsed": 10012,
     "status": "ok",
     "timestamp": 1653933518028,
     "user": {
      "displayName": "Ismaril",
      "userId": "09094833649721836077"
     },
     "user_tz": -120
    },
    "id": "awszUs9z2PsQ",
    "outputId": "fdfc95b2-f772-406e-d112-ea75ec3b8259",
    "ExecuteTime": {
     "start_time": "2023-12-08T18:08:00.517348300Z"
    }
   },
   "outputs": [],
   "source": [
    "from pandas.plotting import scatter_matrix\n",
    "\n",
    "attributes = [\"median_house_value\", \"median_income\", \"total_rooms\", \"housing_median_age\"]\n",
    "\n",
    "# diagonal can be histogram or kernel density estimator\n",
    "scatter_matrix(housing_df_copy[attributes], figsize=(12, 8), diagonal=\"kde\")"
   ]
  },
  {
   "cell_type": "code",
   "execution_count": null,
   "metadata": {
    "colab": {
     "base_uri": "https://localhost:8080/",
     "height": 297
    },
    "executionInfo": {
     "elapsed": 744,
     "status": "ok",
     "timestamp": 1653933518768,
     "user": {
      "displayName": "Ismaril",
      "userId": "09094833649721836077"
     },
     "user_tz": -120
    },
    "id": "hjcSFmlI39ej",
    "outputId": "fa921275-11ee-4790-a0ce-ab3d731f0e29",
    "ExecuteTime": {
     "start_time": "2023-12-08T18:08:00.519343400Z"
    }
   },
   "outputs": [],
   "source": [
    "# the most promissing correlation is house value vs income, lets plot it\n",
    "\n",
    "housing_df_copy.plot(kind=\"scatter\", x=\"median_income\", y=\"median_house_value\", alpha=0.1)\n"
   ]
  },
  {
   "cell_type": "code",
   "execution_count": null,
   "metadata": {
    "colab": {
     "base_uri": "https://localhost:8080/"
    },
    "executionInfo": {
     "elapsed": 7,
     "status": "ok",
     "timestamp": 1653933518768,
     "user": {
      "displayName": "Ismaril",
      "userId": "09094833649721836077"
     },
     "user_tz": -120
    },
    "id": "W6R7A6V04DWD",
    "outputId": "d2d7cf4e-9642-414e-d8be-27b9bf79f16a",
    "ExecuteTime": {
     "end_time": "2023-12-08T18:08:00.522335400Z",
     "start_time": "2023-12-08T18:08:00.521338Z"
    }
   },
   "outputs": [],
   "source": [
    "# experiment more with correlations\n",
    "housing_df_copy[\"rooms_per_household\"] = housing_df_copy[\"total_rooms\"] / housing_df_copy[\n",
    "    \"households\"]\n",
    "housing_df_copy[\"bedrooms_per_room\"] = housing_df_copy[\"total_bedrooms\"] / housing_df_copy[\n",
    "    \"total_rooms\"]\n",
    "housing_df_copy[\"population_per_household\"] = housing_df_copy[\"population\"] / housing_df_copy[\n",
    "    \"households\"]\n",
    "\n",
    "# check correlations again with custom inputs\n",
    "corr_matrix = housing_df_copy.corr()\n",
    "corr_matrix[\"median_house_value\"].sort_values(ascending=False)"
   ]
  },
  {
   "cell_type": "markdown",
   "metadata": {
    "id": "H4DocTWX75xS"
   },
   "source": [
    "# prepare data for ML algorithms\n",
    "  (it makes sense to create some functions for future reusability)"
   ]
  },
  {
   "cell_type": "code",
   "execution_count": null,
   "metadata": {
    "executionInfo": {
     "elapsed": 5,
     "status": "ok",
     "timestamp": 1653933518768,
     "user": {
      "displayName": "Ismaril",
      "userId": "09094833649721836077"
     },
     "user_tz": -120
    },
    "id": "UXTKBElp7--0",
    "ExecuteTime": {
     "end_time": "2023-12-08T18:08:00.522335400Z",
     "start_time": "2023-12-08T18:08:00.522335400Z"
    }
   },
   "outputs": [],
   "source": [
    "housing_df_copy = strat_train_set.drop(\"median_house_value\", axis=1)\n",
    "housing_labels = strat_train_set[\"median_house_value\"].copy()"
   ]
  },
  {
   "cell_type": "markdown",
   "metadata": {
    "id": "t9upQO2J818d"
   },
   "source": [
    "### data cleaning"
   ]
  },
  {
   "cell_type": "code",
   "execution_count": null,
   "metadata": {
    "executionInfo": {
     "elapsed": 5,
     "status": "ok",
     "timestamp": 1653933518769,
     "user": {
      "displayName": "Ismaril",
      "userId": "09094833649721836077"
     },
     "user_tz": -120
    },
    "id": "wDO5iZ8S9AvN",
    "ExecuteTime": {
     "end_time": "2023-12-08T18:08:00.731485Z",
     "start_time": "2023-12-08T18:08:00.523332300Z"
    }
   },
   "outputs": [],
   "source": [
    "# options to get rid of missing values\n",
    "\n",
    "# 3 options:\n",
    "\n",
    "housing_df_copy.dropna(subset=[\"total_bedrooms\"])  # option 1 (drop missing values)\n",
    "housing_df_copy.drop(\"total_bedrooms\", axis=1)  # option 2 (drop whole column)\n",
    "median = housing_df_copy[\"total_bedrooms\"].median()  # get median value\n",
    "\n",
    "housing_df_copy[\"total_bedrooms\"].fillna(median, inplace=True)  # replace misisng values with median\n"
   ]
  },
  {
   "cell_type": "code",
   "execution_count": null,
   "metadata": {
    "colab": {
     "base_uri": "https://localhost:8080/"
    },
    "executionInfo": {
     "elapsed": 5,
     "status": "ok",
     "timestamp": 1653933518769,
     "user": {
      "displayName": "Ismaril",
      "userId": "09094833649721836077"
     },
     "user_tz": -120
    },
    "id": "FVrE4DOB_Rg9",
    "outputId": "131a3f17-06be-4acb-f10c-0fd2c6c325d5",
    "ExecuteTime": {
     "start_time": "2023-12-08T18:08:00.525326900Z"
    }
   },
   "outputs": [],
   "source": [
    "# you can use simple imputer to compute median for each column\n",
    "# works only on columns with number (rest has to be droped)\n",
    "from sklearn.impute import SimpleImputer\n",
    "\n",
    "imputer = SimpleImputer(strategy=\"median\")\n",
    "\n",
    "# drop a column which is not numeric\n",
    "housing_numeric = housing_df_copy.drop(\"ocean_proximity\", axis=1)\n",
    "imputer.fit(housing_numeric)\n",
    "\n",
    "# return mean for each column in dataframe (the same 2 outputs)\n",
    "print(imputer.statistics_)\n",
    "housing_numeric.median().values  # use .values to return it in a array"
   ]
  },
  {
   "cell_type": "code",
   "execution_count": null,
   "metadata": {
    "colab": {
     "base_uri": "https://localhost:8080/",
     "height": 269
    },
    "executionInfo": {
     "elapsed": 505,
     "status": "ok",
     "timestamp": 1653933519269,
     "user": {
      "displayName": "Ismaril",
      "userId": "09094833649721836077"
     },
     "user_tz": -120
    },
    "id": "Ufw34pQpBmxk",
    "outputId": "b2ab87bd-eeb8-4fc9-886c-8c35289c85df",
    "ExecuteTime": {
     "start_time": "2023-12-08T18:08:00.527321600Z"
    }
   },
   "outputs": [],
   "source": [
    "# fix text or categorical attributes\n",
    "housing_categorical = housing_df_copy[[\"ocean_proximity\"]]\n",
    "housing_categorical.head(7)  # number of elements returned by head\n"
   ]
  },
  {
   "cell_type": "code",
   "execution_count": null,
   "metadata": {
    "colab": {
     "base_uri": "https://localhost:8080/",
     "height": 53
    },
    "executionInfo": {
     "elapsed": 29,
     "status": "ok",
     "timestamp": 1653933519270,
     "user": {
      "displayName": "Ismaril",
      "userId": "09094833649721836077"
     },
     "user_tz": -120
    },
    "id": "8k6Y2eU2CpM3",
    "outputId": "df6f3954-e6a1-4869-bed8-74352112677f",
    "ExecuteTime": {
     "start_time": "2023-12-08T18:08:00.528319600Z"
    }
   },
   "outputs": [],
   "source": [
    "\"\"\"# difference between single and double suquare brackets (this cell and cell above)\n",
    "housing_categorical = housing[\"ocean_proximity\"]\n",
    "housing_categorical.head()\"\"\""
   ]
  },
  {
   "cell_type": "code",
   "execution_count": null,
   "metadata": {
    "colab": {
     "base_uri": "https://localhost:8080/"
    },
    "executionInfo": {
     "elapsed": 27,
     "status": "ok",
     "timestamp": 1653933519271,
     "user": {
      "displayName": "Ismaril",
      "userId": "09094833649721836077"
     },
     "user_tz": -120
    },
    "id": "XDlHR5NSDGjt",
    "outputId": "8dfb3616-b35a-4169-cd10-795375b3d847",
    "ExecuteTime": {
     "start_time": "2023-12-08T18:08:00.529324200Z"
    }
   },
   "outputs": [],
   "source": [
    "# convert categorical text to nubers\n",
    "from sklearn.preprocessing import OrdinalEncoder\n",
    "\n",
    "ordinal_encoder = OrdinalEncoder()\n",
    "housing_cat_encoded = ordinal_encoder.fit_transform(housing_categorical)\n",
    "print(housing_cat_encoded[:10])  # this is now numpy array\n",
    "print()\n",
    "\n",
    "# you can check the categories:\n",
    "print(ordinal_encoder.categories_)"
   ]
  },
  {
   "cell_type": "code",
   "execution_count": null,
   "metadata": {
    "colab": {
     "base_uri": "https://localhost:8080/",
     "height": 424
    },
    "executionInfo": {
     "elapsed": 1892,
     "status": "ok",
     "timestamp": 1653933521144,
     "user": {
      "displayName": "Ismaril",
      "userId": "09094833649721836077"
     },
     "user_tz": -120
    },
    "id": "_cBY1d-eDe4f",
    "outputId": "e5b8b5b7-ba77-4f45-a941-379f24ccf4e4",
    "ExecuteTime": {
     "start_time": "2023-12-08T18:08:00.531311400Z"
    }
   },
   "outputs": [],
   "source": [
    "# one hot encode categorical attributes\n",
    "from sklearn.preprocessing import OneHotEncoder\n",
    "\n",
    "cat_encoder = OneHotEncoder()\n",
    "housing_car_1hot = cat_encoder.fit_transform(housing_categorical)\n",
    "housing_car_1hot"
   ]
  },
  {
   "cell_type": "markdown",
   "metadata": {
    "id": "G5qBmNMDLHcu"
   },
   "source": [
    "### custom transformer\n",
    "- needs tom be clarified what it actually does"
   ]
  },
  {
   "cell_type": "code",
   "execution_count": null,
   "metadata": {
    "executionInfo": {
     "elapsed": 10,
     "status": "ok",
     "timestamp": 1653933521144,
     "user": {
      "displayName": "Ismaril",
      "userId": "09094833649721836077"
     },
     "user_tz": -120
    },
    "id": "1PCwpEu6LMjE",
    "ExecuteTime": {
     "start_time": "2023-12-08T18:08:00.532308700Z"
    }
   },
   "outputs": [],
   "source": [
    "from sklearn.base import BaseEstimator, TransformerMixin\n",
    "\n",
    "rooms_ix, bedrooms_ix, population_ix, households_ix = 3, 4, 5, 6\n",
    "\n",
    "\n",
    "class CombinedAttributesAdder(BaseEstimator, TransformerMixin):\n",
    "    def __init__(self, add_bedrooms_per_room=True):  # no *args, **kwargs\n",
    "        self.add_bedrooms_per_room = add_bedrooms_per_room\n",
    "\n",
    "    def fit(self, X, y=None):\n",
    "        return self  # nothing else to do\n",
    "\n",
    "    def transform(self, X):\n",
    "        rooms_per_household = X[:, rooms_ix] / X[:, households_ix]\n",
    "        population_per_household = X[:, population_ix] / X[:, households_ix]\n",
    "        if self.add_bedrooms_per_room:\n",
    "            bedrooms_per_room = X[:, bedrooms_ix] / X[:, rooms_ix]\n",
    "            return np.c_[X, rooms_per_household, population_per_household, bedrooms_per_room]\n",
    "        else:\n",
    "            return np.c_[X, rooms_per_household, population_per_household]\n",
    "        attr_adder = CombinedAttributesAdder(add_bedrooms_per_room=False)\n",
    "        housing_extra_attribs = attr_adder.transform(housing_df_copy.values)\n"
   ]
  },
  {
   "cell_type": "markdown",
   "metadata": {
    "id": "nZYP1TqbHZEn"
   },
   "source": [
    "### feature scaling (2 types):\n",
    "- min-max scaling (normalisation) OR standartization\n",
    "- should be used only on train data?\n",
    "\n",
    "normalization - shift everything into range 0-1\n",
    "\n",
    "standartisation (less affected by outliers) - "
   ]
  },
  {
   "cell_type": "markdown",
   "metadata": {
    "id": "yVd_kuZAIi5y"
   },
   "source": [
    "### transformation pipelines\n",
    "sklearn has transformation pipeline to offer some help with transforming data\n",
    "\n",
    "(all workflow steps of transforming data)"
   ]
  },
  {
   "cell_type": "code",
   "execution_count": null,
   "metadata": {
    "executionInfo": {
     "elapsed": 10,
     "status": "ok",
     "timestamp": 1653933521145,
     "user": {
      "displayName": "Ismaril",
      "userId": "09094833649721836077"
     },
     "user_tz": -120
    },
    "id": "X_vUCSUwItzW",
    "ExecuteTime": {
     "start_time": "2023-12-08T18:08:00.534303200Z"
    }
   },
   "outputs": [],
   "source": [
    "from sklearn.pipeline import Pipeline\n",
    "from sklearn.preprocessing import StandardScaler\n",
    "\n",
    "num_pipeline = Pipeline([\n",
    "    (\"imputer\", SimpleImputer(strategy=\"median\")),\n",
    "    (\"attribs_adder\", CombinedAttributesAdder()),\n",
    "    (\"std_scaler\", StandardScaler()),\n",
    "])\n",
    "\n",
    "housing_num_tr = num_pipeline.fit_transform(housing_numeric)"
   ]
  },
  {
   "cell_type": "code",
   "execution_count": null,
   "metadata": {
    "colab": {
     "base_uri": "https://localhost:8080/"
    },
    "executionInfo": {
     "elapsed": 9,
     "status": "ok",
     "timestamp": 1653933521145,
     "user": {
      "displayName": "Ismaril",
      "userId": "09094833649721836077"
     },
     "user_tz": -120
    },
    "id": "w2Boiv9wxfSn",
    "outputId": "91af6f85-60d4-488e-ba5a-bac85d165544",
    "ExecuteTime": {
     "start_time": "2023-12-08T18:08:00.536298700Z"
    }
   },
   "outputs": [],
   "source": [
    "type(housing_num_tr)"
   ]
  },
  {
   "cell_type": "code",
   "execution_count": null,
   "metadata": {
    "colab": {
     "base_uri": "https://localhost:8080/"
    },
    "executionInfo": {
     "elapsed": 365,
     "status": "ok",
     "timestamp": 1653933521503,
     "user": {
      "displayName": "Ismaril",
      "userId": "09094833649721836077"
     },
     "user_tz": -120
    },
    "id": "rgU5dAEXRhPL",
    "outputId": "82b1bacb-3bca-4d88-d195-ea727cf3ee4b",
    "ExecuteTime": {
     "start_time": "2023-12-08T18:08:00.537295600Z"
    }
   },
   "outputs": [],
   "source": [
    "from sklearn.compose import ColumnTransformer\n",
    "\n",
    "num_attribs = list(housing_numeric)\n",
    "print(num_attribs)\n",
    "cat_attribs = [\"ocean_proximity\"]\n",
    "\n",
    "full_pipeline = ColumnTransformer([\n",
    "    (\"num\", num_pipeline, num_attribs),\n",
    "    (\"cat\", OneHotEncoder(), cat_attribs)\n",
    "])\n",
    "housing_prepared = full_pipeline.fit_transform(housing_df_copy)"
   ]
  },
  {
   "cell_type": "markdown",
   "metadata": {
    "id": "AMIPdhRwS-Wr"
   },
   "source": [
    "# select and train a model"
   ]
  },
  {
   "cell_type": "markdown",
   "metadata": {
    "id": "Ti3FPeqMTCHh"
   },
   "source": [
    "### training and evaluating on the training set\n",
    "- linear regression"
   ]
  },
  {
   "cell_type": "code",
   "execution_count": null,
   "metadata": {
    "colab": {
     "base_uri": "https://localhost:8080/"
    },
    "executionInfo": {
     "elapsed": 8,
     "status": "ok",
     "timestamp": 1653933521504,
     "user": {
      "displayName": "Ismaril",
      "userId": "09094833649721836077"
     },
     "user_tz": -120
    },
    "id": "e7Wa5_w4DV5l",
    "outputId": "b6256ae1-7f75-4b0c-9a88-dbf2fbae64ba",
    "ExecuteTime": {
     "start_time": "2023-12-08T18:08:00.539290400Z"
    }
   },
   "outputs": [],
   "source": [
    "print(housing_df_copy.iloc[:1])"
   ]
  },
  {
   "cell_type": "code",
   "execution_count": null,
   "metadata": {
    "colab": {
     "base_uri": "https://localhost:8080/"
    },
    "executionInfo": {
     "elapsed": 4,
     "status": "ok",
     "timestamp": 1653933521504,
     "user": {
      "displayName": "Ismaril",
      "userId": "09094833649721836077"
     },
     "user_tz": -120
    },
    "id": "I0wyT-0ETGWF",
    "outputId": "00a464d7-b5fb-44ee-de82-cca13b105845",
    "ExecuteTime": {
     "start_time": "2023-12-08T18:08:00.541284500Z"
    }
   },
   "outputs": [],
   "source": [
    "from sklearn.linear_model import LinearRegression\n",
    "\n",
    "lin_reg = LinearRegression()\n",
    "lin_reg.fit(housing_prepared, housing_labels)\n",
    "\n",
    "# let's try the model out on some data\n",
    "some_data = housing_df_copy.iloc[\n",
    "            :4]  # seem to return number of rows based on the inputed numer, similar to .head()\n",
    "some_labels = housing_labels.iloc[:4]\n",
    "some_data_prepared = full_pipeline.transform(some_data)\n",
    "print(\"Predictions: \", lin_reg.predict(some_data_prepared))\n",
    "print(\"Labels: \", list(some_labels))\n",
    "\n",
    "# predictions vs labels will have some difference"
   ]
  },
  {
   "cell_type": "code",
   "execution_count": null,
   "metadata": {
    "colab": {
     "base_uri": "https://localhost:8080/"
    },
    "executionInfo": {
     "elapsed": 3,
     "status": "ok",
     "timestamp": 1653933521504,
     "user": {
      "displayName": "Ismaril",
      "userId": "09094833649721836077"
     },
     "user_tz": -120
    },
    "id": "JrVSESOPXUVf",
    "outputId": "858580d5-ecdd-48e3-e255-35c5f6c19f9c",
    "ExecuteTime": {
     "start_time": "2023-12-08T18:08:00.542281600Z"
    }
   },
   "outputs": [],
   "source": [
    "# measure RMSE\n",
    "from sklearn.metrics import mean_squared_error\n",
    "\n",
    "housing_predictions = lin_reg.predict(housing_prepared)\n",
    "lin_mse = mean_squared_error(housing_labels, housing_predictions)\n",
    "lin_rmse = np.sqrt(lin_mse)  # compute RMSE from the square root of MSE\n",
    "\n",
    "print(\"rmse\", lin_rmse, \"how much dollars are we off from the range $15-500K\")"
   ]
  },
  {
   "cell_type": "markdown",
   "metadata": {
    "id": "X0Uvy1ylY1oU"
   },
   "source": [
    "- decision tree regressor"
   ]
  },
  {
   "cell_type": "code",
   "execution_count": null,
   "metadata": {
    "colab": {
     "base_uri": "https://localhost:8080/"
    },
    "executionInfo": {
     "elapsed": 867,
     "status": "ok",
     "timestamp": 1653933522369,
     "user": {
      "displayName": "Ismaril",
      "userId": "09094833649721836077"
     },
     "user_tz": -120
    },
    "id": "E-seQQVXY3-t",
    "outputId": "c2657005-80b3-458e-ca03-be06609e50b2",
    "ExecuteTime": {
     "start_time": "2023-12-08T18:08:00.543279400Z"
    }
   },
   "outputs": [],
   "source": [
    "from sklearn.tree import DecisionTreeRegressor\n",
    "\n",
    "tree_reg = DecisionTreeRegressor()\n",
    "tree_reg.fit(housing_prepared, housing_labels)\n",
    "\n",
    "housing_predictions = tree_reg.predict(housing_prepared)\n",
    "tree_mse = mean_squared_error(housing_labels, housing_predictions)\n",
    "tree_rmse = np.sqrt(tree_mse)  # compute RMSE from the square root of MSE\n",
    "\n",
    "print(\"rmse\", tree_rmse, \"how much dollars are we off from the range $15-500K\")\n",
    "\n",
    "# printed value will be 0, meaning model is probably hugely overfitting"
   ]
  },
  {
   "cell_type": "markdown",
   "metadata": {
    "id": "gapsVyH5xhxi"
   },
   "source": [
    "- random forst regresssor\n"
   ]
  },
  {
   "cell_type": "code",
   "execution_count": null,
   "metadata": {
    "colab": {
     "base_uri": "https://localhost:8080/"
    },
    "executionInfo": {
     "elapsed": 23372,
     "status": "ok",
     "timestamp": 1653933545736,
     "user": {
      "displayName": "Ismaril",
      "userId": "09094833649721836077"
     },
     "user_tz": -120
    },
    "id": "phIukz76yxim",
    "outputId": "cddf9ab2-fa0f-4720-920d-b2b36f935e27",
    "ExecuteTime": {
     "start_time": "2023-12-08T18:08:00.545274100Z"
    }
   },
   "outputs": [],
   "source": [
    "from sklearn.ensemble import RandomForestRegressor\n",
    "\n",
    "forest_reg = RandomForestRegressor()\n",
    "forest_reg.fit(housing_prepared, housing_labels)\n",
    "\n",
    "housing_predictions = forest_reg.predict(housing_prepared)\n",
    "forest_mse = mean_squared_error(housing_labels, housing_predictions)\n",
    "forest_rmse = np.sqrt(forest_mse)  # compute RMSE from the square root of MSE\n",
    "\n",
    "print(\"rmse\", forest_rmse, \"how much dollars are we off from the range $15-500K\")"
   ]
  },
  {
   "cell_type": "markdown",
   "metadata": {
    "id": "UH1z5fioaQff"
   },
   "source": [
    "### cross-validation for better evaluation"
   ]
  },
  {
   "cell_type": "markdown",
   "metadata": {
    "id": "WbhACuGzNgvH"
   },
   "source": [
    "![images/cross_validation.png](../images/cross_validation.png)"
   ]
  },
  {
   "cell_type": "code",
   "execution_count": null,
   "metadata": {
    "executionInfo": {
     "elapsed": 9,
     "status": "ok",
     "timestamp": 1653933545736,
     "user": {
      "displayName": "Ismaril",
      "userId": "09094833649721836077"
     },
     "user_tz": -120
    },
    "id": "IQZokcQvzGG1",
    "ExecuteTime": {
     "start_time": "2023-12-08T18:08:00.546271100Z"
    }
   },
   "outputs": [],
   "source": [
    "from sklearn.model_selection import cross_val_score"
   ]
  },
  {
   "cell_type": "code",
   "execution_count": null,
   "metadata": {
    "colab": {
     "base_uri": "https://localhost:8080/"
    },
    "executionInfo": {
     "elapsed": 3010,
     "status": "ok",
     "timestamp": 1653933548739,
     "user": {
      "displayName": "Ismaril",
      "userId": "09094833649721836077"
     },
     "user_tz": -120
    },
    "id": "rcCOGdlOaXSQ",
    "outputId": "1506efe6-44c1-4f2a-fc38-521cd77e4774",
    "ExecuteTime": {
     "start_time": "2023-12-08T18:08:00.547275200Z"
    }
   },
   "outputs": [],
   "source": [
    "\n",
    "# evaluate decision tree\n",
    "scores = cross_val_score(tree_reg, housing_prepared, housing_labels,\n",
    "                         scoring=\"neg_mean_squared_error\", cv=10)\n",
    "tree_rmse_scores = np.sqrt(-scores, dtype=np.float32)\n",
    "\n",
    "\n",
    "def display_scores(scores):\n",
    "    print(\"scores:\", scores)\n",
    "    print(\"mean\", scores.mean())\n",
    "    print(\"standart deviation\", scores.std())\n",
    "\n",
    "\n",
    "# here decision tree performs even worse than linear regression (probably due to overfitting)\n",
    "print(display_scores(tree_rmse_scores))"
   ]
  },
  {
   "cell_type": "code",
   "execution_count": null,
   "metadata": {
    "colab": {
     "base_uri": "https://localhost:8080/"
    },
    "executionInfo": {
     "elapsed": 14,
     "status": "ok",
     "timestamp": 1653933548741,
     "user": {
      "displayName": "Ismaril",
      "userId": "09094833649721836077"
     },
     "user_tz": -120
    },
    "id": "8eoe_zHKuD13",
    "outputId": "f3df2cd1-78a0-444c-d54b-ba684ee07e66",
    "ExecuteTime": {
     "start_time": "2023-12-08T18:08:00.548265800Z"
    }
   },
   "outputs": [],
   "source": [
    "# evaluate linear regression\n",
    "lin_scores = cross_val_score(lin_reg, housing_prepared, housing_labels,\n",
    "                             scoring=\"neg_mean_squared_error\", cv=10)\n",
    "lin_rmse_scores = np.sqrt(-lin_scores, dtype=np.float32)\n",
    "\n",
    "print(display_scores(lin_rmse_scores))"
   ]
  },
  {
   "cell_type": "code",
   "execution_count": null,
   "metadata": {
    "colab": {
     "base_uri": "https://localhost:8080/"
    },
    "executionInfo": {
     "elapsed": 163603,
     "status": "ok",
     "timestamp": 1653933712335,
     "user": {
      "displayName": "Ismaril",
      "userId": "09094833649721836077"
     },
     "user_tz": -120
    },
    "id": "tBc0MEuEys9g",
    "outputId": "ae678835-d6d1-4cee-ab74-88b664ad9e7c",
    "ExecuteTime": {
     "start_time": "2023-12-08T18:08:00.549263Z"
    }
   },
   "outputs": [],
   "source": [
    "# evaluate random forest \n",
    "forest_scores = cross_val_score(forest_reg, housing_prepared, housing_labels,\n",
    "                                scoring=\"neg_mean_squared_error\", cv=10)\n",
    "forest_rmse_scores = np.sqrt(-forest_scores, dtype=np.float32)\n",
    "\n",
    "print(display_scores(forest_rmse_scores))"
   ]
  },
  {
   "cell_type": "markdown",
   "metadata": {
    "id": "PGDJCVxJ2vZ3"
   },
   "source": [
    "# fine tune your models"
   ]
  },
  {
   "cell_type": "markdown",
   "metadata": {
    "id": "NdCtVC4SUZlt"
   },
   "source": [
    "- GridSearchCV (good when trying to find out just a few combinations)"
   ]
  },
  {
   "cell_type": "code",
   "execution_count": null,
   "metadata": {
    "colab": {
     "base_uri": "https://localhost:8080/"
    },
    "executionInfo": {
     "elapsed": 32372,
     "status": "ok",
     "timestamp": 1653933744698,
     "user": {
      "displayName": "Ismaril",
      "userId": "09094833649721836077"
     },
     "user_tz": -120
    },
    "id": "Jp5bvcj9M8Gt",
    "outputId": "fe6d567d-a7c2-4a9f-f64c-620192108989",
    "ExecuteTime": {
     "start_time": "2023-12-08T18:08:00.549263Z"
    }
   },
   "outputs": [],
   "source": [
    "# for some automated finding of hyperparameter tuning use grid search from sklearn\n",
    "from sklearn.model_selection import GridSearchCV\n",
    "\n",
    "param_grid = [\n",
    "    {\"n_estimators\": [3, 10, 10], \"max_features\": [2, 4, 6, 8]},\n",
    "    {\"bootstrap\": [False], \"n_estimators\": [3, 10], \"max_features\": [2, 3, 4]}\n",
    "]\n",
    "\n",
    "forest_reg = RandomForestRegressor()\n",
    "grid_search = GridSearchCV(forest_reg, param_grid, cv=5,\n",
    "                           scoring=\"neg_mean_squared_error\",\n",
    "                           return_train_score=False)\n",
    "grid_search.fit(housing_prepared, housing_labels)"
   ]
  },
  {
   "cell_type": "code",
   "execution_count": null,
   "metadata": {
    "colab": {
     "base_uri": "https://localhost:8080/"
    },
    "executionInfo": {
     "elapsed": 17,
     "status": "ok",
     "timestamp": 1653933744698,
     "user": {
      "displayName": "Ismaril",
      "userId": "09094833649721836077"
     },
     "user_tz": -120
    },
    "id": "Vu-0u4A7PxkF",
    "outputId": "38b07fbd-1241-45e5-daa0-b10f24718e59",
    "ExecuteTime": {
     "start_time": "2023-12-08T18:08:00.550260600Z"
    }
   },
   "outputs": [],
   "source": [
    "# check what should be the best parameters after grid search\n",
    "grid_search.best_params_"
   ]
  },
  {
   "cell_type": "code",
   "execution_count": null,
   "metadata": {
    "colab": {
     "base_uri": "https://localhost:8080/"
    },
    "executionInfo": {
     "elapsed": 15,
     "status": "ok",
     "timestamp": 1653933744698,
     "user": {
      "displayName": "Ismaril",
      "userId": "09094833649721836077"
     },
     "user_tz": -120
    },
    "id": "pJy5M4rhRlQs",
    "outputId": "a1f10673-69b0-4698-9d53-c8f0f3d8b67c",
    "ExecuteTime": {
     "start_time": "2023-12-08T18:08:00.551281200Z"
    }
   },
   "outputs": [],
   "source": [
    "grid_search.best_estimator_"
   ]
  },
  {
   "cell_type": "code",
   "execution_count": null,
   "metadata": {
    "colab": {
     "base_uri": "https://localhost:8080/"
    },
    "executionInfo": {
     "elapsed": 14,
     "status": "ok",
     "timestamp": 1653933744699,
     "user": {
      "displayName": "Ismaril",
      "userId": "09094833649721836077"
     },
     "user_tz": -120
    },
    "id": "86kW3Yr-SUSH",
    "outputId": "1bfa5592-d6af-4247-9598-487e9204fb7b",
    "ExecuteTime": {
     "start_time": "2023-12-08T18:08:00.552278500Z"
    }
   },
   "outputs": [],
   "source": [
    "cvresult = grid_search.cv_results_  #(seems like in cv result are hidden some resutls of grid search?)\n",
    "\n",
    "# with zip you can iterate with two iterables at once\n",
    "for mean_score, params in zip(cvresult[\"mean_test_score\"], cvresult[\"params\"]):\n",
    "    print(np.sqrt(-mean_score), params)\n"
   ]
  },
  {
   "cell_type": "markdown",
   "metadata": {
    "id": "4f26DIXaVRhf"
   },
   "source": [
    "- RandomizedSearchCV\n",
    ">use when you want to allocate more computational power. Search will be executed by chosing random parameters over number of iterations you specify (bigger potential to find good params)"
   ]
  },
  {
   "cell_type": "markdown",
   "metadata": {
    "id": "3XAXi3AfVhZ1"
   },
   "source": [
    "# analyse the best models and their errors"
   ]
  },
  {
   "cell_type": "code",
   "execution_count": null,
   "metadata": {
    "colab": {
     "base_uri": "https://localhost:8080/"
    },
    "executionInfo": {
     "elapsed": 12,
     "status": "ok",
     "timestamp": 1653933744699,
     "user": {
      "displayName": "Ismaril",
      "userId": "09094833649721836077"
     },
     "user_tz": -120
    },
    "id": "nRU6ECu8WOI5",
    "outputId": "b51b3edd-8b8a-495c-b474-489b559b2989",
    "ExecuteTime": {
     "start_time": "2023-12-08T18:08:00.553276200Z"
    }
   },
   "outputs": [],
   "source": [
    "feature_importances = grid_search.best_estimator_.feature_importances_\n",
    "feature_importances"
   ]
  },
  {
   "cell_type": "code",
   "execution_count": null,
   "metadata": {
    "colab": {
     "base_uri": "https://localhost:8080/"
    },
    "executionInfo": {
     "elapsed": 11,
     "status": "ok",
     "timestamp": 1653933744699,
     "user": {
      "displayName": "Ismaril",
      "userId": "09094833649721836077"
     },
     "user_tz": -120
    },
    "id": "6dZ-_vS7Wa0o",
    "outputId": "b782a510-038c-49f4-e2e5-471ac43b93e6",
    "ExecuteTime": {
     "start_time": "2023-12-08T18:08:00.554272600Z"
    }
   },
   "outputs": [],
   "source": [
    "# TODO: have not idea what this does\n",
    "\n",
    "# lets display above importance scores next to their corresponding attribute names:\n",
    "extra_attribs = [\"rooms_per_hhold\", \"pop_per_hhold\", \"bedrooms_per_hhold\"]\n",
    "cat_encoder = full_pipeline.named_transformers_[\"cat\"]\n",
    "cat_one_hot_attribs = list(cat_encoder.categories_[0])\n",
    "attributes = num_attribs + extra_attribs + cat_one_hot_attribs\n",
    "\n",
    "sorted(zip(feature_importances, attributes), reverse=True)\n"
   ]
  },
  {
   "cell_type": "markdown",
   "metadata": {
    "id": "0nU1Y0d7XSbh"
   },
   "source": [
    "# evaluate your system on the test set"
   ]
  },
  {
   "cell_type": "code",
   "execution_count": null,
   "metadata": {
    "colab": {
     "base_uri": "https://localhost:8080/"
    },
    "executionInfo": {
     "elapsed": 10,
     "status": "ok",
     "timestamp": 1653933744699,
     "user": {
      "displayName": "Ismaril",
      "userId": "09094833649721836077"
     },
     "user_tz": -120
    },
    "id": "7YBjFjXidIDq",
    "outputId": "df662a9d-eb7a-4329-f4af-292df06b1bfb",
    "ExecuteTime": {
     "start_time": "2023-12-08T18:08:00.554272600Z"
    }
   },
   "outputs": [],
   "source": [
    "final_model = grid_search.best_estimator_\n",
    "\n",
    "X_test = strat_test_set.drop(\"median_house_value\", axis=1)\n",
    "y_test = strat_test_set[\"median_house_value\"].copy()\n",
    "\n",
    "X_test_prepared = full_pipeline.transform(X_test)\n",
    "\n",
    "final_predictions = final_model.predict(X_test_prepared)\n",
    "\n",
    "final_mse = mean_squared_error(y_test, final_predictions)\n",
    "final_rmse = np.sqrt(final_mse)\n",
    "\n",
    "print(final_predictions, final_mse, final_rmse, sep=\"\\n\")"
   ]
  },
  {
   "cell_type": "code",
   "execution_count": null,
   "metadata": {
    "colab": {
     "base_uri": "https://localhost:8080/"
    },
    "executionInfo": {
     "elapsed": 9,
     "status": "ok",
     "timestamp": 1653933744700,
     "user": {
      "displayName": "Ismaril",
      "userId": "09094833649721836077"
     },
     "user_tz": -120
    },
    "id": "j-fjhvK-fbOg",
    "outputId": "99dc0d3c-4a56-4818-97b4-6ee23d67946b",
    "ExecuteTime": {
     "start_time": "2023-12-08T18:08:00.555247800Z"
    }
   },
   "outputs": [],
   "source": [
    "# compute 95% confidence interval\n",
    "#(out of all intervals computed at the 95% level, 95% of them should contain the parameter's true value.)\n",
    "\n",
    "from scipy import stats\n",
    "\n",
    "confidence = 0.95\n",
    "squared_erros = (final_predictions - y_test) ** 2\n",
    "np.sqrt(stats.t.interval(confidence, len(squared_erros) - 1,\n",
    "                         loc=squared_erros.mean(),\n",
    "                         scale=stats.sem(squared_erros))\n",
    "        )\n"
   ]
  },
  {
   "cell_type": "code",
   "execution_count": null,
   "metadata": {
    "colab": {
     "base_uri": "https://localhost:8080/"
    },
    "executionInfo": {
     "elapsed": 8,
     "status": "ok",
     "timestamp": 1653933744700,
     "user": {
      "displayName": "Ismaril",
      "userId": "09094833649721836077"
     },
     "user_tz": -120
    },
    "id": "vjrz1oHWhh_q",
    "outputId": "76ff5376-7d28-43b8-a673-b1d7b055f47c",
    "ExecuteTime": {
     "start_time": "2023-12-08T18:08:00.556276300Z"
    }
   },
   "outputs": [],
   "source": [
    "a = final_model.predict(X_test_prepared[:10])\n",
    "b = y_test.iloc[:10]\n",
    "\n",
    "print(abs(a - b))\n",
    "print()\n",
    "print(abs(a - b).mean())\n",
    "# seems like the mean error is truly around 54 000??"
   ]
  },
  {
   "cell_type": "markdown",
   "metadata": {
    "id": "DkW0QE1gFnGf"
   },
   "source": [
    "# Exercises"
   ]
  },
  {
   "cell_type": "markdown",
   "metadata": {
    "id": "ObELxKYxKB8H"
   },
   "source": [
    "try to create a transformer which selects the most important columns in the dataset\n"
   ]
  },
  {
   "cell_type": "code",
   "execution_count": null,
   "metadata": {
    "executionInfo": {
     "elapsed": 7,
     "status": "ok",
     "timestamp": 1653933744700,
     "user": {
      "displayName": "Ismaril",
      "userId": "09094833649721836077"
     },
     "user_tz": -120
    },
    "id": "-GGWn_DPJAPb",
    "ExecuteTime": {
     "start_time": "2023-12-08T18:08:00.557265Z"
    }
   },
   "outputs": [],
   "source": []
  },
  {
   "cell_type": "markdown",
   "metadata": {
    "id": "wz42p9NcJ3AD"
   },
   "source": [
    "try to check what does randomizedsearchcv instead of gridseachcv"
   ]
  },
  {
   "cell_type": "code",
   "execution_count": null,
   "metadata": {
    "colab": {
     "base_uri": "https://localhost:8080/",
     "height": 35
    },
    "executionInfo": {
     "elapsed": 7,
     "status": "ok",
     "timestamp": 1653933744701,
     "user": {
      "displayName": "Ismaril",
      "userId": "09094833649721836077"
     },
     "user_tz": -120
    },
    "id": "mghSXAFrHSI6",
    "outputId": "cac3ef09-2209-4420-d9a1-3e4679c84333",
    "ExecuteTime": {
     "start_time": "2023-12-08T18:08:00.558262300Z"
    }
   },
   "outputs": [],
   "source": [
    "from sklearn.model_selection import RandomizedSearchCV\n",
    "from scipy.stats import expon, reciprocal\n",
    "from sklearn.svm import SVR\n",
    "\n",
    "# see https://docs.scipy.org/doc/scipy/reference/stats.html\n",
    "# for `expon()` and `reciprocal()` documentation and more probability distribution functions.\n",
    "\n",
    "# Note: gamma is ignored when kernel is \"linear\"\n",
    "param_distribs = {\n",
    "    'kernel': ['linear', 'rbf'],\n",
    "    'C': reciprocal(20, 2000),\n",
    "    'gamma': expon(scale=1.0),\n",
    "}\n",
    "\n",
    "svm_reg = SVR()\n",
    "rnd_search = RandomizedSearchCV(svm_reg, param_distributions=param_distribs,\n",
    "                                n_iter=10, cv=5, scoring='neg_mean_squared_error',\n",
    "                                verbose=2, random_state=42)\n",
    "# unqoute this:\n",
    "\"\"\"rnd_search.fit(housing_prepared, housing_labels)\"\"\"\n"
   ]
  },
  {
   "cell_type": "markdown",
   "metadata": {
    "id": "vpR4xEp8FrcW"
   },
   "source": [
    "try to create a full pipeline which transforms the data and predicts"
   ]
  },
  {
   "cell_type": "code",
   "execution_count": null,
   "metadata": {
    "colab": {
     "base_uri": "https://localhost:8080/"
    },
    "executionInfo": {
     "elapsed": 420,
     "status": "ok",
     "timestamp": 1653933745114,
     "user": {
      "displayName": "Ismaril",
      "userId": "09094833649721836077"
     },
     "user_tz": -120
    },
    "id": "Iwn7byrTiLC1",
    "outputId": "f5a5c9aa-07c1-4a53-fdce-22f6cde2f266",
    "ExecuteTime": {
     "start_time": "2023-12-08T18:08:00.559259500Z"
    }
   },
   "outputs": [],
   "source": [
    "# predicting pipeline\n",
    "prediction_pipeline = Pipeline([\n",
    "    (\"final_pipeline\", full_pipeline),\n",
    "    (\"regression\", LinearRegression())\n",
    "])\n",
    "\n",
    "fitting = prediction_pipeline.fit(housing_df_copy, housing_labels)\n",
    "\n",
    "prediction = fitting.predict(some_data)\n",
    "\n",
    "print(prediction)\n",
    "some_labels = [item for item in some_labels]\n",
    "print(some_labels)\n",
    "print(abs(prediction - some_labels).mean())"
   ]
  },
  {
   "cell_type": "code",
   "execution_count": null,
   "metadata": {
    "executionInfo": {
     "elapsed": 5,
     "status": "ok",
     "timestamp": 1653933745115,
     "user": {
      "displayName": "Ismaril",
      "userId": "09094833649721836077"
     },
     "user_tz": -120
    },
    "id": "o0JPuAVBEuYB",
    "ExecuteTime": {
     "start_time": "2023-12-08T18:08:00.559259500Z"
    }
   },
   "outputs": [],
   "source": []
  }
 ],
 "metadata": {
  "colab": {
   "authorship_tag": "ABX9TyOJzMitiv3PNOWiXeo1k8uW",
   "collapsed_sections": [],
   "name": "california_housing_price.ipynb",
   "provenance": [],
   "toc_visible": true
  },
  "kernelspec": {
   "name": "venv",
   "language": "python",
   "display_name": "venv"
  },
  "language_info": {
   "codemirror_mode": {
    "name": "ipython",
    "version": 3
   },
   "file_extension": ".py",
   "mimetype": "text/x-python",
   "name": "python",
   "nbconvert_exporter": "python",
   "pygments_lexer": "ipython3",
   "version": "3.10.0"
  }
 },
 "nbformat": 4,
 "nbformat_minor": 1
}
