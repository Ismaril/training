{
 "cells": [
  {
   "cell_type": "markdown",
   "source": [
    "# TYPES OF ML SYSTEMS\n",
    "### 1. Supervised learning\n",
    "Give a model both features and labels. The model learns the relationship between the features and labels.\n",
    "Example:\n",
    "- Linear Regression\n",
    "- Classification\n",
    "- Support Vector Machines\n",
    "- Decision Trees and Random Forests\n",
    "- Neural Networks\n",
    "- k-Nearest Neighbors\n",
    "\n",
    "### 2. Unsupervised learning\n",
    "Give a model only features. The model learns the relationship between the features.\n",
    "Example:\n",
    "- Clustering\n",
    "    -- k-Means\n",
    "    -- Hierarchical Cluster Analysis (HCA)\n",
    "    -- DBSCAN\n",
    "- Anomaly detection and novelty detection\n",
    "    -- One-class SVM\n",
    "    -- Isolation Forest\n",
    "- Visualization and dimensionality reduction\n",
    "    -- Principal Component Analysis (PCA)\n",
    "    -- Kernel PCA\n",
    "    -- Locally-Linear Embedding (LLE)\n",
    "    -- t-distributed Stochastic Neighbor Embedding (t-SNE)\n",
    "- Association rule learning\n",
    "    -- Apriori\n",
    "    -- Eclat\n",
    "        \n",
    "### 3. Semisupervised learning\n",
    "Give a model both features and labels, but only a few labels. The model learns the relationship between the features and labels.\n",
    "Example:\n",
    "- Deep belief networks (DBNs)\n",
    "    \n",
    "### 4. Reinforcement learning\n",
    "Give a model only rewards. The model learns the relationship between the rewards and actions.\n",
    "\n"
   ],
   "metadata": {
    "collapsed": false
   },
   "id": "9fedb928d1fe1d02"
  },
  {
   "cell_type": "markdown",
   "source": [
    "# BATCH AND ONLINE LEARNING\n",
    "### Batch learning\n",
    "- Train the model with all the data at once.\n",
    "- Takes a long time to train.\n",
    "- Need to train the model again when new data comes in.\n",
    "\n",
    "### Online learning (incremental learning)\n",
    "- Train the model with data instances sequentially, either individually or by small groups called mini-batches.\n",
    "- Fast to train.\n",
    "- Able to train the model on the fly.\n",
    "- Able to handle huge datasets.\n",
    "- Able to train the model on non-stationary data.\n",
    "- Able to train the model on limited computing resources.\n",
    "- Able to train the model on systems that receive data as a continuous flow.\n",
    "- Need to be careful about bad data.\n",
    "- Need to monitor the model's performance."
   ],
   "metadata": {
    "collapsed": false
   },
   "id": "3a45823a2ac8b2f0"
  },
  {
   "cell_type": "markdown",
   "source": [
    "# INSTANCE-BASED VERSUS MODEL-BASED LEARNING\n",
    "### Instance-based learning\n",
    "- The model learns the training data by heart.\n",
    "- The model generalizes to new cases by using a similarity measure to compare them to the learned cases.\n",
    "\n",
    "### Model-based learning\n",
    "- The model learns the training data and builds a model of these data.\n",
    "- The model generalizes to new cases by using the model."
   ],
   "metadata": {
    "collapsed": false
   },
   "id": "c5b10cfa90981d81"
  },
  {
   "cell_type": "markdown",
   "source": [
    "# MAIN CHALLENGES OF ML\n",
    "### Insufficient quantity of training data\n",
    "- The more data, the better.\n",
    "- The more data, the more likely to find a pattern.\n",
    "- The more data, the more likely to find outliers.\n",
    "- The more data, the more time to train the model.\n",
    "- The more data, the more computing resources to train the model.\n",
    "- The more data, the more time to evaluate the model.\n",
    "\n",
    "### Nonrepresentative training data\n",
    "- The training data needs to be representative of the new cases for each stratum.\n",
    "\n",
    "### Poor-quality data\n",
    "- The training data needs to be clean.\n",
    "- The training data needs to be consistent.\n",
    "- The training data needs to be relevant.\n",
    "- The training data needs to be unbiased.\n",
    "- The training data needs to be labeled correctly.\n",
    "\n",
    "### Irrelevant features\n",
    "- The model needs to be trained with the right features.\n",
    "- The model needs to be trained with the right number of features.\n",
    "- The model needs to be trained with the right type of features.\n",
    "- The model needs to be trained with the right combination of features.\n",
    "\n",
    "### Overfitting the training data\n",
    "- Model is too complex relative to the amount and noisiness of the training data.\n",
    "- Model is trained with too many features.\n",
    "\n",
    "### Underfitting the training data\n",
    "- Model is too simple relative to the amount and noisiness of the training data.\n",
    "- Model is trained with too few features.\n",
    "\n"
   ],
   "metadata": {
    "collapsed": false
   },
   "id": "1f5075b2e15e000f"
  },
  {
   "cell_type": "markdown",
   "source": [
    "# SCIKIT-LEARN DESIGN\n",
    "### Estimators\n",
    "Any object that can estimate some parameters based on a dataset is called an estimator. (for example \"imputer\" is an estimator) The estimation is performed by the fit() method and it takes only a dataset as a parameter (or two for supervised learning algorithms; the second dataset contains the labels). Any other parameter needed to guide the estimation process is considered a hyperparameter (such as imputer's strategy), and it must be set as an instance variable (generally via a constructor parameter).\n",
    "  \n",
    "### Transformers\n",
    "Some estimators (such as imputer) can also transform a dataset; these are called transformers. The transformation is performed by the transform() method with the dataset to transform as a parameter. It returns the transformed dataset. This transformation generally relies on the learned parameters, as is the case for an imputer. All transformers also have a convenience method called fit_transform() that is equivalent to calling fit() and then transform() (but sometimes fit_transform() is optimized and runs much faster).\n",
    "\n",
    "### Predictors\n",
    "Some estimators are capable of making predictions given a dataset; they are called predictors. For example, the LinearRegression model in the previous chapter was a predictor: it predicted life satisfaction given a country's GDP per capita. A predictor has a predict() method that takes a dataset of new instances and returns a dataset of corresponding predictions. It also has a score() method that measures the quality of the predictions given a test set (and the corresponding labels in the case of supervised learning algorithms).\n",
    "\n",
    "### Inspection\n",
    "All the estimator's hyperparameters are accessible directly via public instance variables (e.g., imputer.strategy), and all the estimator's learned parameters are also accessible via public instance variables with an underscore suffix (e.g., imputer.statistics_).\n",
    "\n",
    "### Nonproliferation of classes\n",
    "Datasets are represented as NumPy arrays or SciPy sparse matrices, instead of homemade classes. Hyperparameters are just regular Python strings or numbers.\n",
    "\n",
    "### Composition\n",
    "Existing building blocks are reused as much as possible. For example, it is easy to create a Pipeline estimator from an arbitrary sequence of transformers followed by a final estimator, as we will see.\n",
    "\n",
    "### Sensible defaults\n",
    "Scikit-Learn provides reasonable default values for most parameters, making it easy to create a baseline working system quickly.\n",
    "\n"
   ],
   "metadata": {
    "collapsed": false
   },
   "id": "c28596aefb31b08"
  }
 ],
 "metadata": {
  "kernelspec": {
   "name": "venv",
   "language": "python",
   "display_name": "venv"
  },
  "language_info": {
   "codemirror_mode": {
    "name": "ipython",
    "version": 2
   },
   "file_extension": ".py",
   "mimetype": "text/x-python",
   "name": "python",
   "nbconvert_exporter": "python",
   "pygments_lexer": "ipython2",
   "version": "2.7.6"
  }
 },
 "nbformat": 4,
 "nbformat_minor": 5
}
