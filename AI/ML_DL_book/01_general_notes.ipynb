{
 "cells": [
  {
   "cell_type": "markdown",
   "source": [
    "# Types of ML systems\n",
    "### 1. Supervised learning\n",
    "Give a model both features and labels. The model learns the relationship between the features and labels.\n",
    "Example:\n",
    "- Linear Regression\n",
    "- Classification\n",
    "- Support Vector Machines\n",
    "- Decision Trees and Random Forests\n",
    "- Neural Networks\n",
    "- k-Nearest Neighbors\n",
    "\n",
    "### 2. Unsupervised learning\n",
    "Give a model only features. The model learns the relationship between the features.\n",
    "Example:\n",
    "- Clustering\n",
    "    -- k-Means\n",
    "    -- Hierarchical Cluster Analysis (HCA)\n",
    "    -- DBSCAN\n",
    "- Anomaly detection and novelty detection\n",
    "    -- One-class SVM\n",
    "    -- Isolation Forest\n",
    "- Visualization and dimensionality reduction\n",
    "    -- Principal Component Analysis (PCA)\n",
    "    -- Kernel PCA\n",
    "    -- Locally-Linear Embedding (LLE)\n",
    "    -- t-distributed Stochastic Neighbor Embedding (t-SNE)\n",
    "- Association rule learning\n",
    "    -- Apriori\n",
    "    -- Eclat\n",
    "        \n",
    "### 3. Semisupervised learning\n",
    "Give a model both features and labels, but only a few labels. The model learns the relationship between the features and labels.\n",
    "Example:\n",
    "- Deep belief networks (DBNs)\n",
    "    \n",
    "### 4. Reinforcement learning\n",
    "Give a model only rewards. The model learns the relationship between the rewards and actions.\n",
    "\n"
   ],
   "metadata": {
    "collapsed": false
   },
   "id": "9fedb928d1fe1d02"
  },
  {
   "cell_type": "markdown",
   "source": [
    "# Batch and Online Learning\n",
    "### Batch learning\n",
    "- Train the model with all the data at once.\n",
    "- Takes a long time to train.\n",
    "- Need to train the model again when new data comes in.\n",
    "\n",
    "### Online learning (incremental learning)\n",
    "- Train the model with data instances sequentially, either individually or by small groups called mini-batches.\n",
    "- Fast to train.\n",
    "- Able to train the model on the fly.\n",
    "- Able to handle huge datasets.\n",
    "- Able to train the model on non-stationary data.\n",
    "- Able to train the model on limited computing resources.\n",
    "- Able to train the model on systems that receive data as a continuous flow.\n",
    "- Need to be careful about bad data.\n",
    "- Need to monitor the model's performance."
   ],
   "metadata": {
    "collapsed": false
   },
   "id": "3a45823a2ac8b2f0"
  },
  {
   "cell_type": "markdown",
   "source": [
    "# Instance-Based Versus Model-Based Learning\n",
    "### Instance-based learning\n",
    "- The model learns the training data by heart.\n",
    "- The model generalizes to new cases by using a similarity measure to compare them to the learned cases.\n",
    "\n",
    "### Model-based learning\n",
    "- The model learns the training data and builds a model of these data.\n",
    "- The model generalizes to new cases by using the model."
   ],
   "metadata": {
    "collapsed": false
   },
   "id": "c5b10cfa90981d81"
  },
  {
   "cell_type": "markdown",
   "source": [
    "# Main challenges of ML\n",
    "### Insufficient quantity of training data\n",
    "- The more data, the better.\n",
    "- The more data, the more likely to find a pattern.\n",
    "- The more data, the more likely to find outliers.\n",
    "- The more data, the more time to train the model.\n",
    "- The more data, the more computing resources to train the model.\n",
    "- The more data, the more time to evaluate the model.\n",
    "\n",
    "### Nonrepresentative training data\n",
    "- The training data needs to be representative of the new cases for each stratum.\n",
    "\n",
    "### Poor-quality data\n",
    "- The training data needs to be clean.\n",
    "- The training data needs to be consistent.\n",
    "- The training data needs to be relevant.\n",
    "- The training data needs to be unbiased.\n",
    "- The training data needs to be labeled correctly.\n",
    "\n",
    "### Irrelevant features\n",
    "- The model needs to be trained with the right features.\n",
    "- The model needs to be trained with the right number of features.\n",
    "- The model needs to be trained with the right type of features.\n",
    "- The model needs to be trained with the right combination of features.\n",
    "\n",
    "### Overfitting the training data\n",
    "- Model is too complex relative to the amount and noisiness of the training data.\n",
    "- Model is trained with too many features.\n",
    "\n",
    "### Underfitting the training data\n",
    "- Model is too simple relative to the amount and noisiness of the training data.\n",
    "- Model is trained with too few features.\n",
    "\n"
   ],
   "metadata": {
    "collapsed": false
   },
   "id": "1f5075b2e15e000f"
  }
 ],
 "metadata": {
  "kernelspec": {
   "display_name": "Python 3",
   "language": "python",
   "name": "python3"
  },
  "language_info": {
   "codemirror_mode": {
    "name": "ipython",
    "version": 2
   },
   "file_extension": ".py",
   "mimetype": "text/x-python",
   "name": "python",
   "nbconvert_exporter": "python",
   "pygments_lexer": "ipython2",
   "version": "2.7.6"
  }
 },
 "nbformat": 4,
 "nbformat_minor": 5
}
