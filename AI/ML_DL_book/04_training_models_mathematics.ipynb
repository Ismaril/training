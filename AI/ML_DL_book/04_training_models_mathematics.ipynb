{
 "nbformat": 4,
 "nbformat_minor": 0,
 "metadata": {
  "colab": {
   "name": "training_linear_models_mathematics.ipynb",
   "provenance": [],
   "collapsed_sections": [],
   "toc_visible": true,
   "authorship_tag": "ABX9TyMNBs4u+MTkFRcVk1V/Tlpo"
  },
  "kernelspec": {
   "name": "venv",
   "language": "python",
   "display_name": "venv"
  },
  "language_info": {
   "name": "python"
  }
 },
 "cells": [
  {
   "cell_type": "code",
   "outputs": [
    {
     "name": "stdout",
     "output_type": "stream",
     "text": [
      "numpy version: 1.24.4\n",
      "pandas version: 2.1.3\n",
      "sklearn version: 1.3.2\n"
     ]
    }
   ],
   "source": [
    "# import libraries\n",
    "import numpy as np\n",
    "import matplotlib.pyplot as plt\n",
    "import matplotlib as mpl\n",
    "import pandas as pd\n",
    "import sklearn\n",
    "from matplotlib.pyplot import thetagrids\n",
    "\n",
    "import separator\n",
    "\n",
    "sep = separator.SeparateText()\n",
    "\n",
    "# print versions of libraries\n",
    "print(f\"numpy version: {np.__version__}\")\n",
    "print(f\"pandas version: {pd.__version__}\")\n",
    "print(f\"sklearn version: {sklearn.__version__}\")"
   ],
   "metadata": {
    "collapsed": false,
    "ExecuteTime": {
     "end_time": "2024-01-14T14:20:01.295928300Z",
     "start_time": "2024-01-14T14:20:00.950594500Z"
    }
   },
   "execution_count": 689
  },
  {
   "cell_type": "markdown",
   "source": [
    "# LINEAR REGRESSION"
   ],
   "metadata": {
    "id": "sEu2zvoY7bCy"
   }
  },
  {
   "cell_type": "markdown",
   "source": [
    "Linear regression model prediction:\n",
    "$\\theta$ - symbol means Theta fyi\n",
    "$\\theta_0$ - bias (intercept)\n",
    "$\\theta_1$ ... $\\theta_n$ - weights of features\n",
    "$ \\hat{y} $ - predicted value\n",
    "$ x_i $ - i-th feature value\n",
    "\\\n",
    "$ \\hat{y} = \\theta_0 + \\theta_1 x_1 + \\theta_2 x_2 + ... + \\theta_n x_n $"
   ],
   "metadata": {
    "collapsed": false
   }
  },
  {
   "cell_type": "markdown",
   "source": [
    "\n",
    "It can be written also as this:\n",
    "$ \\theta $ - vector of parameters. (including both bias $\\theta_0$ and weights $\\theta_1$ ... $\\theta_n$)\n",
    "$ x $ - vector of feature values, from $ x_0 $ to $ x_n $, where $ x_0 $ is always equal to 1\n",
    "$\\theta \\cdot x$ - dot product of vectors $\\theta$ and $x$, meaning $ \\theta_0 x_0 + \\theta_1 x_1 + ... + \\theta_n x_n $\n",
    "$ h_\\theta $ - hypothesis function, using parameters $\\theta$\n",
    "\\\n",
    "$ \\hat{y} = h_\\theta(x) = \\theta^T \\cdot x $"
   ],
   "metadata": {
    "collapsed": false
   }
  },
  {
   "cell_type": "markdown",
   "source": [
    "\n",
    "Linear regression using normal equation, which gives you result directly. All you need to pass in the complete datasets and it will spit out the result. Note however, that computational complexity grows non-linearly with the number of features. Therefore, with large datasets it is going to be slow and it is better to use gradient descent instead.\n",
    "$\\hat{\\theta}$ is value of $\\theta$ that minimizes the cost function\n",
    "$ y $ is vector of target values, containing $ y^{(1)} $ to $ y^{(m)} $\n",
    "\\\n",
    "$ \\hat{\\theta} = (X^T \\cdot X)^{-1} \\cdot X^T \\cdot y $"
   ],
   "metadata": {
    "collapsed": false
   }
  },
  {
   "cell_type": "code",
   "outputs": [
    {
     "data": {
      "text/plain": "<Figure size 1152x648 with 1 Axes>",
      "image/png": "[encoded data removed]"
     },
     "metadata": {
      "needs_background": "light"
     },
     "output_type": "display_data"
    },
    {
     "name": "stdout",
     "output_type": "stream",
     "text": [
      "[[-1.31239191]\n",
      " [-1.46578577]\n",
      " [-0.13915642]\n",
      " [ 1.77997512]\n",
      " [ 3.18203861]]\n",
      "[[ 0.18566771]\n",
      " [-1.40602132]\n",
      " [ 3.30521469]\n",
      " [10.05508777]\n",
      " [14.39829472]]\n"
     ]
    }
   ],
   "source": [
    "# create coordinates datapoints which will create some kind of linear distribution\n",
    "X = 2 * np.random.randn(100, 1)\n",
    "y = 4 + 3 * X + np.random.randn(100, 1)\n",
    "\n",
    "plt.figure(figsize=(16, 9))\n",
    "plt.scatter(X, y)\n",
    "plt.axis((0, 2, 0, 15))\n",
    "plt.show()\n",
    "\n",
    "print(X[:5], y[:5], sep=\"\\n\")"
   ],
   "metadata": {
    "collapsed": false,
    "ExecuteTime": {
     "end_time": "2024-01-14T14:20:01.437548900Z",
     "start_time": "2024-01-14T14:20:01.299917500Z"
    }
   },
   "execution_count": 690
  },
  {
   "cell_type": "markdown",
   "source": [
    "\\\n",
    "$ \\hat{\\theta} = (X^T \\cdot X)^{-1} \\cdot X^T \\cdot y $"
   ],
   "metadata": {
    "collapsed": false
   }
  },
  {
   "cell_type": "code",
   "source": [
    "# give all features at position 0 value of 1, based on the specification at the description of linear regression\n",
    "X_with1_at0index = np.c_[np.ones((100, 1)), X]\n",
    "\n",
    "# compute inverse of a matrix & dot product, using the formula above\n",
    "theta_best = np.linalg.inv(X_with1_at0index.T.dot(X_with1_at0index)).dot(X_with1_at0index.T).dot(y)\n",
    "X_with1_at0index"
   ],
   "metadata": {
    "colab": {
     "base_uri": "https://localhost:8080/"
    },
    "id": "qHNfhvmo8eOQ",
    "executionInfo": {
     "status": "ok",
     "timestamp": 1654190621428,
     "user_tz": -120,
     "elapsed": 6,
     "user": {
      "displayName": "Ismaril",
      "userId": "09094833649721836077"
     }
    },
    "outputId": "3cad6253-d34c-4ba9-d0a9-e9ccd1b82557",
    "ExecuteTime": {
     "end_time": "2024-01-14T14:20:01.454503700Z",
     "start_time": "2024-01-14T14:20:01.416605900Z"
    }
   },
   "execution_count": 691,
   "outputs": [
    {
     "data": {
      "text/plain": "array([[ 1.00000000e+00, -1.31239191e+00],\n       [ 1.00000000e+00, -1.46578577e+00],\n       [ 1.00000000e+00, -1.39156418e-01],\n       [ 1.00000000e+00,  1.77997512e+00],\n       [ 1.00000000e+00,  3.18203861e+00],\n       [ 1.00000000e+00, -4.11537196e-01],\n       [ 1.00000000e+00, -8.94863615e-02],\n       [ 1.00000000e+00, -2.42788341e+00],\n       [ 1.00000000e+00,  3.87838514e+00],\n       [ 1.00000000e+00, -2.80200568e+00],\n       [ 1.00000000e+00,  2.34332462e+00],\n       [ 1.00000000e+00, -7.30671906e-01],\n       [ 1.00000000e+00, -1.19873299e+00],\n       [ 1.00000000e+00, -2.22000714e+00],\n       [ 1.00000000e+00,  4.82009730e+00],\n       [ 1.00000000e+00,  4.42983247e-01],\n       [ 1.00000000e+00,  4.25608742e-02],\n       [ 1.00000000e+00,  1.77346472e+00],\n       [ 1.00000000e+00, -1.30166545e+00],\n       [ 1.00000000e+00,  3.69191046e-03],\n       [ 1.00000000e+00,  1.12672574e-01],\n       [ 1.00000000e+00, -1.02429146e+00],\n       [ 1.00000000e+00,  2.39927616e+00],\n       [ 1.00000000e+00, -4.37308823e-01],\n       [ 1.00000000e+00, -3.10626411e+00],\n       [ 1.00000000e+00, -6.02994727e-01],\n       [ 1.00000000e+00,  4.98357343e-01],\n       [ 1.00000000e+00, -1.78698647e+00],\n       [ 1.00000000e+00, -1.62918959e+00],\n       [ 1.00000000e+00, -1.09251808e+00],\n       [ 1.00000000e+00,  2.44247132e+00],\n       [ 1.00000000e+00, -9.74316045e-01],\n       [ 1.00000000e+00,  2.85823404e+00],\n       [ 1.00000000e+00, -1.22990088e+00],\n       [ 1.00000000e+00,  6.50028273e-01],\n       [ 1.00000000e+00, -8.92485348e-01],\n       [ 1.00000000e+00,  1.50816634e+00],\n       [ 1.00000000e+00, -2.23654831e+00],\n       [ 1.00000000e+00,  1.48571896e+00],\n       [ 1.00000000e+00,  2.27738801e-01],\n       [ 1.00000000e+00, -1.27998363e+00],\n       [ 1.00000000e+00, -3.32442969e-01],\n       [ 1.00000000e+00,  3.06770988e+00],\n       [ 1.00000000e+00,  2.75689010e-01],\n       [ 1.00000000e+00, -1.40545603e+00],\n       [ 1.00000000e+00, -2.40938657e+00],\n       [ 1.00000000e+00,  1.01080855e+00],\n       [ 1.00000000e+00,  3.91690494e-01],\n       [ 1.00000000e+00,  1.39004139e+00],\n       [ 1.00000000e+00, -2.92444948e+00],\n       [ 1.00000000e+00, -2.34452091e+00],\n       [ 1.00000000e+00,  2.29375840e+00],\n       [ 1.00000000e+00,  6.62683294e-01],\n       [ 1.00000000e+00,  1.06680170e+00],\n       [ 1.00000000e+00, -1.92537406e+00],\n       [ 1.00000000e+00, -1.96197440e+00],\n       [ 1.00000000e+00,  1.98251732e+00],\n       [ 1.00000000e+00,  2.07675531e+00],\n       [ 1.00000000e+00, -2.17663897e+00],\n       [ 1.00000000e+00, -2.55874099e+00],\n       [ 1.00000000e+00, -2.17185941e-01],\n       [ 1.00000000e+00, -1.59869691e+00],\n       [ 1.00000000e+00, -1.64035376e+00],\n       [ 1.00000000e+00, -2.50275649e+00],\n       [ 1.00000000e+00, -9.36867697e-01],\n       [ 1.00000000e+00, -2.30938949e+00],\n       [ 1.00000000e+00, -2.19080181e+00],\n       [ 1.00000000e+00,  5.96783693e-01],\n       [ 1.00000000e+00, -1.10396469e-01],\n       [ 1.00000000e+00,  9.69757363e-01],\n       [ 1.00000000e+00, -3.29806687e+00],\n       [ 1.00000000e+00,  1.97612197e-02],\n       [ 1.00000000e+00,  4.15127508e+00],\n       [ 1.00000000e+00, -7.44544969e-01],\n       [ 1.00000000e+00,  1.64949801e+00],\n       [ 1.00000000e+00,  1.63201370e+00],\n       [ 1.00000000e+00,  1.73039722e+00],\n       [ 1.00000000e+00,  3.33323374e-01],\n       [ 1.00000000e+00,  1.13217197e+00],\n       [ 1.00000000e+00,  1.39802724e+00],\n       [ 1.00000000e+00,  1.27089206e+00],\n       [ 1.00000000e+00, -2.23483635e+00],\n       [ 1.00000000e+00, -3.41476897e+00],\n       [ 1.00000000e+00, -3.10716709e+00],\n       [ 1.00000000e+00, -5.40319985e-01],\n       [ 1.00000000e+00,  1.18785347e+00],\n       [ 1.00000000e+00, -2.20882256e+00],\n       [ 1.00000000e+00,  1.84794092e+00],\n       [ 1.00000000e+00, -1.00455035e+00],\n       [ 1.00000000e+00, -9.85510422e-01],\n       [ 1.00000000e+00, -1.67221399e+00],\n       [ 1.00000000e+00, -3.76957272e+00],\n       [ 1.00000000e+00,  4.58628257e-01],\n       [ 1.00000000e+00,  3.42533543e+00],\n       [ 1.00000000e+00, -1.25329047e-01],\n       [ 1.00000000e+00, -3.70126328e+00],\n       [ 1.00000000e+00,  1.56068562e+00],\n       [ 1.00000000e+00, -3.24959598e+00],\n       [ 1.00000000e+00, -2.41806879e+00],\n       [ 1.00000000e+00, -4.76676345e-01]])"
     },
     "execution_count": 691,
     "metadata": {},
     "output_type": "execute_result"
    }
   ]
  },
  {
   "cell_type": "code",
   "outputs": [
    {
     "name": "stdout",
     "output_type": "stream",
     "text": [
      "Best bias and weight:\n",
      " [[3.91211434]\n",
      " [2.85147987]]\n"
     ]
    }
   ],
   "source": [
    "print(\"Best bias and weight:\\n\", theta_best)"
   ],
   "metadata": {
    "collapsed": false,
    "ExecuteTime": {
     "end_time": "2024-01-14T14:20:01.569197400Z",
     "start_time": "2024-01-14T14:20:01.432563100Z"
    }
   },
   "execution_count": 692
  },
  {
   "cell_type": "code",
   "source": [
    "# now we can make predictions\n",
    "\n",
    "# create new datapoints, just for example\n",
    "X_few_features = np.array([[0], [2]])\n",
    "\n",
    "# adjust again the datapoints, so they will have value of 1 at position 0\n",
    "X_few_features_with_1_at_first_indexes = np.c_[np.ones((2, 1)), X_few_features]\n",
    "\n",
    "# make predictions\n",
    "y_predict_few_features = X_few_features_with_1_at_first_indexes.dot(theta_best)\n",
    "\n",
    "# based on the bias and weights we computed above, we can make predictions on y datapoints, which in this case output 3.9 and 9.6. This means that first datapoint x with corresponding prediction y will have coordinates (0, 3.9) and second (2, 9.6)\n",
    "print(X_few_features,\n",
    "      X_few_features_with_1_at_first_indexes,\n",
    "      y_predict_few_features,\n",
    "      sep=\"\\n\")"
   ],
   "metadata": {
    "colab": {
     "base_uri": "https://localhost:8080/"
    },
    "id": "jnMi7Yod-h24",
    "executionInfo": {
     "status": "ok",
     "timestamp": 1654190621428,
     "user_tz": -120,
     "elapsed": 3,
     "user": {
      "displayName": "Ismaril",
      "userId": "09094833649721836077"
     }
    },
    "outputId": "d36372e4-8867-41a7-8a3a-af46803d8255",
    "ExecuteTime": {
     "end_time": "2024-01-14T14:20:01.594130400Z",
     "start_time": "2024-01-14T14:20:01.449517800Z"
    }
   },
   "execution_count": 693,
   "outputs": [
    {
     "name": "stdout",
     "output_type": "stream",
     "text": [
      "[[0]\n",
      " [2]]\n",
      "[[1. 0.]\n",
      " [1. 2.]]\n",
      "[[3.91211434]\n",
      " [9.61507407]]\n"
     ]
    }
   ]
  },
  {
   "cell_type": "code",
   "source": [
    "# plot models prediction\n",
    "plt.figure(figsize=(16, 9))\n",
    "plt.plot(X_few_features, y_predict_few_features, \"r-\", label=\"predictions\")\n",
    "plt.plot(X, y, \"b.\")\n",
    "plt.axis((0, 2, 0, 15))  # set scale of x and y axes with list\n",
    "plt.legend()\n",
    "plt.show()"
   ],
   "metadata": {
    "colab": {
     "base_uri": "https://localhost:8080/",
     "height": 265
    },
    "id": "1TdhQb_g_qM9",
    "executionInfo": {
     "status": "ok",
     "timestamp": 1654190622000,
     "user_tz": -120,
     "elapsed": 574,
     "user": {
      "displayName": "Ismaril",
      "userId": "09094833649721836077"
     }
    },
    "outputId": "3076fb06-7fd2-43ba-88a9-11afe8a8021e",
    "ExecuteTime": {
     "end_time": "2024-01-14T14:20:01.634024Z",
     "start_time": "2024-01-14T14:20:01.473453200Z"
    }
   },
   "execution_count": 694,
   "outputs": [
    {
     "data": {
      "text/plain": "<Figure size 1152x648 with 1 Axes>",
      "image/png": "[encoded data removed]"
     },
     "metadata": {
      "needs_background": "light"
     },
     "output_type": "display_data"
    }
   ]
  },
  {
   "cell_type": "code",
   "source": [
    "# compare with sklearn linear regression\n",
    "from sklearn.linear_model import LinearRegression\n",
    "\n",
    "lin_reg = LinearRegression()\n",
    "lin_reg.fit(X, y)\n",
    "\n",
    "# bias 3.9 and weights 2.8\n",
    "lin_reg.intercept_, lin_reg.coef_  # this will display the same result as we computed manually as theta_best"
   ],
   "metadata": {
    "colab": {
     "base_uri": "https://localhost:8080/"
    },
    "id": "8O24op2mAVwW",
    "executionInfo": {
     "status": "ok",
     "timestamp": 1654190622000,
     "user_tz": -120,
     "elapsed": 8,
     "user": {
      "displayName": "Ismaril",
      "userId": "09094833649721836077"
     }
    },
    "outputId": "7c9b0c4f-48a8-4105-b231-e947014ba763",
    "ExecuteTime": {
     "end_time": "2024-01-14T14:20:01.655964700Z",
     "start_time": "2024-01-14T14:20:01.588146600Z"
    }
   },
   "execution_count": 695,
   "outputs": [
    {
     "data": {
      "text/plain": "(array([3.91211434]), array([[2.85147987]]))"
     },
     "execution_count": 695,
     "metadata": {},
     "output_type": "execute_result"
    }
   ]
  },
  {
   "cell_type": "code",
   "source": [
    "# sklearn's predictions on the same little data. Results are the same.\n",
    "lin_reg.predict(X_few_features)"
   ],
   "metadata": {
    "colab": {
     "base_uri": "https://localhost:8080/"
    },
    "id": "F6o94GuTI65A",
    "executionInfo": {
     "status": "ok",
     "timestamp": 1654190622001,
     "user_tz": -120,
     "elapsed": 7,
     "user": {
      "displayName": "Ismaril",
      "userId": "09094833649721836077"
     }
    },
    "outputId": "6a7f596b-e167-4888-a7d7-db528125104f",
    "ExecuteTime": {
     "end_time": "2024-01-14T14:20:01.680898Z",
     "start_time": "2024-01-14T14:20:01.637015600Z"
    }
   },
   "execution_count": 696,
   "outputs": [
    {
     "data": {
      "text/plain": "array([[3.91211434],\n       [9.61507407]])"
     },
     "execution_count": 696,
     "metadata": {},
     "output_type": "execute_result"
    }
   ]
  },
  {
   "cell_type": "code",
   "source": [
    "# compare sklearn model with mathematical model from scratch\n",
    "np.allclose(lin_reg.predict(X_few_features), y_predict_few_features)"
   ],
   "metadata": {
    "colab": {
     "base_uri": "https://localhost:8080/"
    },
    "id": "AmLA_gKFJI7D",
    "executionInfo": {
     "status": "ok",
     "timestamp": 1654190622001,
     "user_tz": -120,
     "elapsed": 5,
     "user": {
      "displayName": "Ismaril",
      "userId": "09094833649721836077"
     }
    },
    "outputId": "04bd1602-0d23-47e7-d7fd-5e7be42a7955",
    "ExecuteTime": {
     "end_time": "2024-01-14T14:20:01.802572800Z",
     "start_time": "2024-01-14T14:20:01.681895700Z"
    }
   },
   "execution_count": 697,
   "outputs": [
    {
     "data": {
      "text/plain": "True"
     },
     "execution_count": 697,
     "metadata": {},
     "output_type": "execute_result"
    }
   ]
  },
  {
   "cell_type": "markdown",
   "source": [
    "# GRADIENT DESCENT"
   ],
   "metadata": {
    "id": "7T1DzYyJHAKo"
   }
  },
  {
   "cell_type": "markdown",
   "source": [
    "Gradient descent is a generic optimization algorithm capable of finding optimal solutions to a wide range of problems. The general idea of gradient descent is to tweak parameters iteratively in order to minimize a cost function.\n",
    "\n",
    "Suppose you are lost in the mountains in a dense fog; you can only feel the slope of the ground below your feet. A good strategy to get to the bottom of the valley quickly is to go downhill in the direction of the steepest slope. This is exactly what gradient descent does: it measures the local gradient of the error function with regards to the parameter vector $\\theta$, and it goes in the direction of descending gradient. Once the gradient is zero, you have reached a minimum!\n",
    "\n",
    "Concretely, you start by filling $\\theta$ with random values (this is called random initialization), and then you improve it gradually, taking one baby step at a time, each step attempting to decrease the cost function (e.g., the MSE), until the algorithm converges to a minimum.\n",
    "\n",
    "When using gradient descent, you should ensure that all features have a similar scale (e.g., using Scikit-Learn’s StandardScaler class), or else it will take much longer to converge."
   ],
   "metadata": {
    "collapsed": false
   }
  },
  {
   "cell_type": "markdown",
   "source": [
    "![Gradient descent](../images/gradient_descend_1.jpg)"
   ],
   "metadata": {
    "collapsed": false
   }
  },
  {
   "cell_type": "markdown",
   "source": [
    "\n",
    "![Gradient descent](../images/gradient_descend_2.png)"
   ],
   "metadata": {
    "collapsed": false
   }
  },
  {
   "cell_type": "markdown",
   "source": [
    "It is important to choose right learning rate. If it is too small, then the algorithm will have to go through many iterations to converge, which will take a long time. On the other hand, if it is too high, you might jump across the valley and end up on the other side, possibly even higher up than you were before. This might make the algorithm diverge, with larger and larger values, failing to find a good solution."
   ],
   "metadata": {
    "collapsed": false
   }
  },
  {
   "cell_type": "markdown",
   "source": [
    "# BATCH GRADIENT DESCENT\n",
    "\n",
    "To implement Gradient Descent, you need to compute the gradient of the cost function with regards to each model parameter $\\theta_j$. In other words, you need to calculate how much the cost function will change if you change $\\theta_j$ just a little bit. This is called a partial derivative. It is like asking “what is the slope of the mountain under my feet if I face east?” and then asking the same question facing north (and so on for all other dimensions, if you can imagine a universe with more than three dimensions). Equation below computes the partial derivative of the cost function with regards to parameter $\\theta_j$, noted $\\frac{\\partial}{\\partial \\theta_j}MSE(\\theta)$."
   ],
   "metadata": {
    "collapsed": false
   }
  },
  {
   "cell_type": "markdown",
   "source": [
    "partial derivative of the cost function (example of MSE)\n",
    "\\\n",
    "$ \\frac{\\partial}{\\partial \\theta_j}MSE(\\theta) = \\frac{2}{m} \\sum_{i=1}^{m} (\\theta^T \\cdot x^{(i)} - y^{(i)})x_j^{(i)} $\n"
   ],
   "metadata": {
    "collapsed": false
   }
  },
  {
   "cell_type": "markdown",
   "source": [
    "Instead of computing these partial derivatives individually for each model parameter $\\theta_j$, you can use Equation below to compute them all in one go. The gradient vector, noted $\\nabla_\\theta MSE(\\theta)$, contains all the partial derivatives of the cost function (one for each model parameter).\n",
    "\n",
    "$ \\nabla_\\theta MSE(\\theta) = \\begin{pmatrix} \\frac{\\partial}{\\partial \\theta_0}MSE(\\theta) \\\\ \\frac{\\partial}{\\partial \\theta_1}MSE(\\theta) \\\\ \\vdots \\\\ \\frac{\\partial}{\\partial \\theta_n}MSE(\\theta) \\end{pmatrix} = \\frac{2}{m} X^T \\cdot (X \\cdot \\theta - y)$\n",
    "\n",
    "Notice that this formula involves calculations over the full training set $X$, at each Gradient Descent step! This is why the algorithm is called Batch Gradient Descent: it uses the whole batch of training data at every step (actually, Full Gradient Descent would probably be a better name). As a result it is terribly slow on very large training sets (but we will see much faster Gradient Descent algorithms shortly). However, Gradient Descent scales well with the number of features; training a Linear Regression model when there are hundreds of thousands of features is much faster using Gradient Descent than using the Normal Equation."
   ],
   "metadata": {
    "collapsed": false
   }
  },
  {
   "cell_type": "markdown",
   "source": [
    "$\\nabla_\\theta$ - denotes the gradient with respect to the parameters $\\theta$\n",
    "$MSE(\\theta)$ - is the cost function, Mean Squared Error in this case\n",
    "$\\theta = \\begin{bmatrix} \\theta_0 & \\theta_1 & \\theta_2 & \\hdots & \\theta_n \\end{bmatrix}$ - parameter vector, which for example in case of linear regression has bias $\\theta_0$ and weights $\\theta_1$ to $\\theta_n$\n",
    "\n",
    "The gradient is a vector containing the partial derivatives of the cost function with respect to each parameter. Each element in the vector represents the sensitivity of the cost function to a small change in the corresponding parameter.\n",
    "\n",
    "$\\frac{\\partial}{\\partial \\theta_0}MSE(\\theta)$ - partial derivative of the cost function with respect to parameter $\\theta_0$\n",
    "$\\frac{\\partial}{\\partial \\theta_1}MSE(\\theta)$ - partial derivative of the cost function with respect to parameter $\\theta_1$\n",
    "$\\frac{\\partial}{\\partial \\theta_n}MSE(\\theta)$ - partial derivative of the cost function with respect to parameter $\\theta_n$\n",
    "\n",
    "This vector is used in optimization algorithms like gradient descent. The update rule for each parameter in the iteration of an optimization algorithm might look like:\n",
    "$\\theta_j = \\theta_j - \\alpha \\frac{\\partial}{\\partial \\theta_j}MSE(\\theta)$\n",
    "$\\alpha$ Alpha (also used as Eta $\\eta$) is the learning rate and $j$ ranges from 0 to $j$. I guess index $j$ can be actually marked as $n$ because we are talking here about the $j$th/$n$th parameter associated with a given feature, if I'm not mistaken. \n",
    "This process iteratively adjusts the parameters to minimize the Mean Squared Error.\n"
   ],
   "metadata": {
    "collapsed": false
   }
  },
  {
   "cell_type": "markdown",
   "source": [
    "#### Question TL\n",
    "\n",
    "Is it true, that if we have for example 3 parameters in a machine learning problem and we use $\\nabla_\\theta MSE(\\theta)$ formula above, does it mean that the cost function is 3 dimensional? Meaning a gradient descend will be a vector, pointing in the direction which will be result of $\\theta$?\n",
    "\n",
    "#### Answered by GPT-3.5\n",
    "\n",
    "Yes, that's correct. If you have three parameters $(\\theta_0, \\theta_1, \\theta_2)$, in a machine learning problem, and you compute the gradient of the cost function using the formula you provided, then the cost function is three-dimensional. The resulting gradient vector would indeed be in three-dimensional space, representing the direction of steepest ascent in the cost function's surface.\n",
    "\n",
    "In more general terms:\n",
    "If you have $n$ parameters, $(\\theta_0, \\theta_1, \\theta_n_-_1)$, the cost function is $n$-dimensional.\n",
    "The gradient vector $\\nabla_\\theta MSE(\\theta)$ is also $n$-dimensional, representing the direction of steepest ascent in the cost function's surface.\n",
    "Each element in the gradient vector corresponds to the partial derivative of the cost function with respect to the corresponding parameter. The gradient vector points in the direction of the steepest ascent in the $n$-dimensional space of the cost function."
   ],
   "metadata": {
    "collapsed": false
   }
  },
  {
   "cell_type": "markdown",
   "source": [
    "Once you have the gradient vector, which points uphill, just go in the opposite direction to go downhill. This means subtracting $\\nabla_\\theta MSE(\\theta)$ from $\\theta$. This is where the learning rate $\\eta$ (Eta) comes into play: multiply the gradient vector by $\\eta$ to determine the size of the downhill step.\n",
    "\n",
    "$ \\theta^{(next step)} = \\theta - \\eta  \\nabla_\\theta MSE(\\theta) $"
   ],
   "metadata": {
    "collapsed": false
   }
  },
  {
   "cell_type": "markdown",
   "source": [],
   "metadata": {
    "collapsed": false
   }
  },
  {
   "cell_type": "code",
   "source": [
    "eta = 0.1  # this is learning rate\n",
    "n_iterations = 1_000\n",
    "m = 100 # number of observations\n",
    "\n",
    "theta = np.random.randn(2, 1)  # random initialization of parmaters\n",
    "\n",
    "for iteration in range(n_iterations):\n",
    "    # compute partial derivatives  in one go and get the gradient vector\n",
    "    gradients = 2 / m * X_with1_at0index.T.dot(X_with1_at0index.dot(theta) - y)\n",
    "    \n",
    "    # update parameters\n",
    "    theta = theta - eta * gradients\n",
    "\n",
    "# see again that the resulting bias and weights are the same as we computed above many times with different methods\n",
    "theta"
   ],
   "metadata": {
    "colab": {
     "base_uri": "https://localhost:8080/"
    },
    "id": "DDVSixxUHCH3",
    "executionInfo": {
     "status": "ok",
     "timestamp": 1654190622002,
     "user_tz": -120,
     "elapsed": 5,
     "user": {
      "displayName": "Ismaril",
      "userId": "09094833649721836077"
     }
    },
    "outputId": "ccf6a62e-37be-4dd8-9097-e7a06a21ef97",
    "ExecuteTime": {
     "end_time": "2024-01-14T14:20:01.860418Z",
     "start_time": "2024-01-14T14:20:01.784620700Z"
    }
   },
   "execution_count": 698,
   "outputs": [
    {
     "data": {
      "text/plain": "array([[3.91211434],\n       [2.85147987]])"
     },
     "execution_count": 698,
     "metadata": {},
     "output_type": "execute_result"
    }
   ]
  },
  {
   "cell_type": "code",
   "source": [
    "# TODO: continue here\n",
    "\n",
    "def plot_gradient_descent(theta, eta):\n",
    "    m = len(X_with1_at0index)\n",
    "    plt.plot(X, y, \"b.\")\n",
    "    n_iterations = 1000\n",
    "    for iteration in range(n_iterations):\n",
    "        \n",
    "        # plot the line every xth iteration\n",
    "        if iteration % 10 ==0:\n",
    "            y_predict = X_few_features_with_1_at_first_indexes.dot(theta)\n",
    "            style = \"b-\" if iteration > 0 else \"r--\"\n",
    "            plt.plot(X_few_features, y_predict, style)\n",
    "        \n",
    "        # compute gradient vector\n",
    "        gradients = 2 / m * X_with1_at0index.T.dot(X_with1_at0index.dot(theta) - y)\n",
    "        \n",
    "        # update parameters\n",
    "        theta = theta - eta * gradients\n",
    "        \n",
    "    plt.xlabel(\"$x_1$\", fontsize=18)\n",
    "    plt.axis((0, 2, 0, 15))\n",
    "    plt.title(r\"$\\eta = {}$\".format(eta), fontsize=16)"
   ],
   "metadata": {
    "id": "BkAvfyibKBcP",
    "executionInfo": {
     "status": "ok",
     "timestamp": 1654190622002,
     "user_tz": -120,
     "elapsed": 5,
     "user": {
      "displayName": "Ismaril",
      "userId": "09094833649721836077"
     }
    },
    "ExecuteTime": {
     "end_time": "2024-01-14T14:20:01.883356600Z",
     "start_time": "2024-01-14T14:20:01.812547Z"
    }
   },
   "execution_count": 699,
   "outputs": []
  },
  {
   "cell_type": "code",
   "source": [
    "np.random.seed(42)\n",
    "theta = np.random.randn(2, 1)  # random initialization of parameters\n",
    "\n",
    "plt.figure(figsize=(10, 4))\n",
    "plt.subplot(131)\n",
    "plot_gradient_descent(theta, eta=0.02)\n",
    "plt.ylabel(\"$y$\", rotation=0, fontsize=18)\n",
    "plt.subplot(132)\n",
    "plot_gradient_descent(theta, eta=0.1)\n",
    "plt.subplot(133)\n",
    "plot_gradient_descent(theta, eta=0.5)\n",
    "\n",
    "plt.show()\n",
    "\n",
    "# plot below will show us how learning changes based on size of learning rate"
   ],
   "metadata": {
    "colab": {
     "base_uri": "https://localhost:8080/",
     "height": 362
    },
    "id": "3bWtdX9fKEHa",
    "executionInfo": {
     "status": "ok",
     "timestamp": 1654190622627,
     "user_tz": -120,
     "elapsed": 629,
     "user": {
      "displayName": "Ismaril",
      "userId": "09094833649721836077"
     }
    },
    "outputId": "3950887e-fed3-4ae3-bb33-f8c0ed3866dc",
    "ExecuteTime": {
     "end_time": "2024-01-14T14:20:02.371052500Z",
     "start_time": "2024-01-14T14:20:01.868396600Z"
    }
   },
   "execution_count": 700,
   "outputs": [
    {
     "name": "stderr",
     "output_type": "stream",
     "text": [
      "C:\\Users\\lazni\\AppData\\Local\\Temp\\ipykernel_14364\\2225261232.py:17: RuntimeWarning: invalid value encountered in subtract\n",
      "  theta = theta - eta * gradients\n"
     ]
    },
    {
     "data": {
      "text/plain": "<Figure size 720x288 with 3 Axes>",
      "image/png": "[encoded data removed]"
     },
     "metadata": {
      "needs_background": "light"
     },
     "output_type": "display_data"
    }
   ]
  },
  {
   "cell_type": "markdown",
   "source": [
    " # stochastic gradient descent"
   ],
   "metadata": {
    "id": "jAvRyzHVUCvG"
   }
  },
  {
   "cell_type": "code",
   "source": [
    "theta_path_sgd = []\n",
    "m = len(X_with1_at0index)\n",
    "np.random.seed(42)"
   ],
   "metadata": {
    "id": "ibgY9lx1XDLs",
    "executionInfo": {
     "status": "ok",
     "timestamp": 1654190622628,
     "user_tz": -120,
     "elapsed": 3,
     "user": {
      "displayName": "Ismaril",
      "userId": "09094833649721836077"
     }
    },
    "ExecuteTime": {
     "end_time": "2024-01-14T14:20:02.375041500Z",
     "start_time": "2024-01-14T14:20:02.340135700Z"
    }
   },
   "execution_count": 701,
   "outputs": []
  },
  {
   "cell_type": "code",
   "source": [
    "# this cell was whole copied. also the plot below is different, compared to book... (Why??)\n",
    "\n",
    "n_epochs = 50\n",
    "t0, t1 = 5, 50  # learning schedule hyperparameters\n",
    "\n",
    "\n",
    "def learning_schedule(t):\n",
    "    return t0 / (t + t1)\n",
    "\n",
    "\n",
    "theta = np.random.randn(2, 1)  # random initialization\n",
    "\n",
    "for epoch in range(n_epochs):\n",
    "    for i in range(m):\n",
    "        if epoch == 0 and i < 20:\n",
    "            y_predict = X_few_features_with_1_at_first_indexes.dot(theta)\n",
    "            style = \"b-\" if i > 0 else \"r--\"\n",
    "            plt.plot(X_few_features, y_predict, style)\n",
    "        random_index = np.random.randint(m)\n",
    "        xi = X_with1_at0index[random_index:random_index + 1]\n",
    "        yi = y[random_index:random_index + 1]\n",
    "        gradients = 2 * xi.T.dot(xi.dot(theta) - yi)\n",
    "        eta = learning_schedule(epoch * m + i)\n",
    "        theta = theta - eta * gradients\n",
    "        theta_path_sgd.append(theta)\n",
    "\n",
    "plt.plot(X, y, \"b.\")\n",
    "plt.xlabel(\"$x_1$\", fontsize=18)\n",
    "plt.ylabel(\"$y$\", rotation=0, fontsize=18)\n",
    "plt.axis([0, 2, 0, 15])\n",
    "plt.show()\n"
   ],
   "metadata": {
    "colab": {
     "base_uri": "https://localhost:8080/",
     "height": 287
    },
    "id": "cW35Io0SUGm9",
    "executionInfo": {
     "status": "ok",
     "timestamp": 1654190623464,
     "user_tz": -120,
     "elapsed": 838,
     "user": {
      "displayName": "Ismaril",
      "userId": "09094833649721836077"
     }
    },
    "outputId": "fcd19e1a-c71b-4d30-b6a4-ccfe9630e72f",
    "ExecuteTime": {
     "end_time": "2024-01-14T14:20:02.525638600Z",
     "start_time": "2024-01-14T14:20:02.357089800Z"
    }
   },
   "execution_count": 702,
   "outputs": [
    {
     "data": {
      "text/plain": "<Figure size 432x288 with 1 Axes>",
      "image/png": "[encoded data removed]"
     },
     "metadata": {
      "needs_background": "light"
     },
     "output_type": "display_data"
    }
   ]
  },
  {
   "cell_type": "markdown",
   "source": [
    "# Mini-batch gradient descent"
   ],
   "metadata": {
    "id": "_8bblqG0Yehz"
   }
  },
  {
   "cell_type": "code",
   "source": [
    "# it has advantages that it gets directly to the minimum but might have sometimes problems\n",
    "#   with escaping local minima\n",
    "\n",
    "# code here is missing because even if i copied the code from github the plots did not make sense"
   ],
   "metadata": {
    "id": "cVYi60JMWKkk",
    "executionInfo": {
     "status": "ok",
     "timestamp": 1654190623465,
     "user_tz": -120,
     "elapsed": 12,
     "user": {
      "displayName": "Ismaril",
      "userId": "09094833649721836077"
     }
    },
    "ExecuteTime": {
     "end_time": "2024-01-14T14:20:02.547579700Z",
     "start_time": "2024-01-14T14:20:02.526636Z"
    }
   },
   "execution_count": 703,
   "outputs": []
  },
  {
   "cell_type": "markdown",
   "source": [
    "# polynomial regression"
   ],
   "metadata": {
    "id": "MQx8cjxoWiEk"
   }
  },
  {
   "cell_type": "markdown",
   "source": [
    "i understand this that some function can actually \"faltten\" the data to the point that linear regression can be used on that "
   ],
   "metadata": {
    "id": "HLD0IEbJTaYQ"
   }
  },
  {
   "cell_type": "code",
   "source": [
    "m = 100\n",
    "X = 6 * np.random.rand(m, 1) - 3\n",
    "y = 0.5 * X ** 2 + X + 2 + np.random.randn(m, 1)\n",
    "\n",
    "plt.scatter(X, y)\n",
    "plt.axis([-3, 3, 0, 10])\n",
    "plt.show()"
   ],
   "metadata": {
    "colab": {
     "base_uri": "https://localhost:8080/",
     "height": 269
    },
    "id": "pZlKWZQfYZt6",
    "executionInfo": {
     "status": "ok",
     "timestamp": 1654190623465,
     "user_tz": -120,
     "elapsed": 12,
     "user": {
      "displayName": "Ismaril",
      "userId": "09094833649721836077"
     }
    },
    "outputId": "f56f703b-2dfc-49b4-e731-0cf6be9863c3",
    "ExecuteTime": {
     "end_time": "2024-01-14T14:20:02.639334700Z",
     "start_time": "2024-01-14T14:20:02.541596200Z"
    }
   },
   "execution_count": 704,
   "outputs": [
    {
     "data": {
      "text/plain": "<Figure size 432x288 with 1 Axes>",
      "image/png": "[encoded data removed]"
     },
     "metadata": {
      "needs_background": "light"
     },
     "output_type": "display_data"
    }
   ]
  },
  {
   "cell_type": "code",
   "source": [
    "# add a square (second degree polynomial) of each feature in the trainin set as a new feature\n",
    "from sklearn.preprocessing import PolynomialFeatures\n",
    "\n",
    "poly_features = PolynomialFeatures(degree=2, include_bias=False)\n",
    "X_poly = poly_features.fit_transform(X)\n",
    "\n",
    "X[0], X_poly[0]"
   ],
   "metadata": {
    "colab": {
     "base_uri": "https://localhost:8080/"
    },
    "id": "dnxF7mUvaCFg",
    "executionInfo": {
     "status": "ok",
     "timestamp": 1654190623465,
     "user_tz": -120,
     "elapsed": 11,
     "user": {
      "displayName": "Ismaril",
      "userId": "09094833649721836077"
     }
    },
    "outputId": "e2fd586a-7141-4600-b102-16b1833df3ed",
    "ExecuteTime": {
     "end_time": "2024-01-14T14:20:02.682219800Z",
     "start_time": "2024-01-14T14:20:02.639334700Z"
    }
   },
   "execution_count": 705,
   "outputs": [
    {
     "data": {
      "text/plain": "(array([-2.53415534]), array([-2.53415534,  6.42194331]))"
     },
     "execution_count": 705,
     "metadata": {},
     "output_type": "execute_result"
    }
   ]
  },
  {
   "cell_type": "code",
   "source": [
    "# X_poly now contains the original feature of X plus the square of this feature.\n",
    "# Now you can fit a lingear regression model to this extended trainig data\n",
    "lin_reg = LinearRegression()\n",
    "lin_reg.fit(X_poly, y)\n",
    "print(lin_reg.intercept_, lin_reg.coef_)\n",
    "\n",
    "# this code was copied:\n",
    "X_few_features = np.linspace(-3, 3, 100).reshape(100, 1)\n",
    "X_new_poly = poly_features.transform(X_few_features)\n",
    "y_new = lin_reg.predict(X_new_poly)\n",
    "plt.plot(X, y, \"b.\")\n",
    "plt.plot(X_few_features, y_new, \"r-\", linewidth=2, label=\"Predictions\")\n",
    "plt.xlabel(\"$x_1$\", fontsize=18)\n",
    "plt.ylabel(\"$y$\", rotation=0, fontsize=18)\n",
    "plt.legend(loc=\"upper left\", fontsize=14)\n",
    "plt.axis([-3, 3, 0, 10])\n",
    "plt.show()"
   ],
   "metadata": {
    "colab": {
     "base_uri": "https://localhost:8080/",
     "height": 308
    },
    "id": "WoPO4CQCasVM",
    "executionInfo": {
     "status": "ok",
     "timestamp": 1654190623466,
     "user_tz": -120,
     "elapsed": 10,
     "user": {
      "displayName": "Ismaril",
      "userId": "09094833649721836077"
     }
    },
    "outputId": "32ac848a-dfa7-4877-dd36-a656ae15bffe",
    "ExecuteTime": {
     "end_time": "2024-01-14T14:20:02.761009500Z",
     "start_time": "2024-01-14T14:20:02.654294800Z"
    }
   },
   "execution_count": 706,
   "outputs": [
    {
     "name": "stdout",
     "output_type": "stream",
     "text": [
      "[2.00704064] [[1.04541031 0.52314711]]\n"
     ]
    },
    {
     "data": {
      "text/plain": "<Figure size 432x288 with 1 Axes>",
      "image/png": "[encoded data removed]"
     },
     "metadata": {
      "needs_background": "light"
     },
     "output_type": "display_data"
    }
   ]
  },
  {
   "cell_type": "markdown",
   "source": [
    "# learning curves"
   ],
   "metadata": {
    "id": "E2bvnL0xLO_1"
   }
  },
  {
   "cell_type": "code",
   "source": [
    "from sklearn.metrics import mean_squared_error\n",
    "from sklearn.model_selection import train_test_split\n",
    "\n",
    "\n",
    "# here is used X_val, but I really belive that they mean X_test\n",
    "def plot_learning_curve(model, X, y):\n",
    "    X_train, X_val, y_train, y_val = train_test_split(X, y, test_size=0.2)\n",
    "    train_errors = []\n",
    "    val_errors = []\n",
    "    for m in range(1, len(X_train)):\n",
    "        model.fit(X_train[:m], y_train[:m])\n",
    "        y_train_predict = model.predict(X_train[:m])\n",
    "        y_val_predict = model.predict(X_val)\n",
    "        train_errors.append(mean_squared_error(y_train[:m], y_train_predict))\n",
    "        val_errors.append(mean_squared_error(y_val, y_val_predict))\n",
    "    plt.plot(np.sqrt(train_errors), \"r-+\", linewidth=2, label=\"train\")\n",
    "    plt.plot(np.sqrt(val_errors), \"b-\", linewidth=2, label=\"val (test)\")\n",
    "    plt.legend()\n",
    "    plt.show()\n",
    "\n",
    "\n",
    "lin_reg = LinearRegression()\n",
    "plot_learning_curve(lin_reg, X, y)\n",
    "\n",
    "# some  example of data that is underfitting.\n",
    "# model has low error on first few samples and then it goes tits up"
   ],
   "metadata": {
    "colab": {
     "base_uri": "https://localhost:8080/",
     "height": 265
    },
    "id": "CpPowRWbLYit",
    "executionInfo": {
     "status": "ok",
     "timestamp": 1654190624139,
     "user_tz": -120,
     "elapsed": 681,
     "user": {
      "displayName": "Ismaril",
      "userId": "09094833649721836077"
     }
    },
    "outputId": "1ea451cf-1245-4ebe-becf-63eb5033c7fe",
    "ExecuteTime": {
     "end_time": "2024-01-14T14:20:02.974438Z",
     "start_time": "2024-01-14T14:20:02.762006400Z"
    }
   },
   "execution_count": 707,
   "outputs": [
    {
     "data": {
      "text/plain": "<Figure size 432x288 with 1 Axes>",
      "image/png": "[encoded data removed]"
     },
     "metadata": {
      "needs_background": "light"
     },
     "output_type": "display_data"
    }
   ]
  },
  {
   "cell_type": "code",
   "source": [
    "from sklearn.pipeline import Pipeline\n",
    "\n",
    "polynomial_regression = Pipeline([\n",
    "    (\"poly_features\", PolynomialFeatures(degree=10, include_bias=False)),\n",
    "    (\"lin_reg\", LinearRegression())\n",
    "])\n",
    "\n",
    "plt.axis([0, 80, 0, 20])\n",
    "plot_learning_curve(polynomial_regression, X, y)\n",
    "\n",
    "# some example of overffiting model (test set error is higer than train set)"
   ],
   "metadata": {
    "colab": {
     "base_uri": "https://localhost:8080/",
     "height": 269
    },
    "id": "bgiqfxNPP9kn",
    "executionInfo": {
     "status": "ok",
     "timestamp": 1654190624139,
     "user_tz": -120,
     "elapsed": 11,
     "user": {
      "displayName": "Ismaril",
      "userId": "09094833649721836077"
     }
    },
    "outputId": "cfe22c68-0532-49d0-f776-5731dc6b0c4b",
    "ExecuteTime": {
     "end_time": "2024-01-14T14:20:03.224883700Z",
     "start_time": "2024-01-14T14:20:02.965464300Z"
    }
   },
   "execution_count": 708,
   "outputs": [
    {
     "data": {
      "text/plain": "<Figure size 432x288 with 1 Axes>",
      "image/png": "[encoded data removed]"
     },
     "metadata": {
      "needs_background": "light"
     },
     "output_type": "display_data"
    }
   ]
  },
  {
   "cell_type": "markdown",
   "source": [
    "# regularized linear models"
   ],
   "metadata": {
    "id": "pqcGVTZ8ZwMe"
   }
  },
  {
   "cell_type": "markdown",
   "source": [
    "generaly you should not really use plain linear regression model. Instead use one of these regressions (ridge, lasso, elastic net)."
   ],
   "metadata": {
    "id": "LgC4dTdHZyiC"
   }
  },
  {
   "cell_type": "markdown",
   "source": [
    "# ridge regression"
   ],
   "metadata": {
    "id": "hE4Yfl7PRpkW"
   }
  },
  {
   "cell_type": "markdown",
   "source": [
    "it is a constrained version of linear regression, with focus to have weights as small as possible"
   ],
   "metadata": {
    "id": "9nvsXoUzRrdE"
   }
  },
  {
   "cell_type": "code",
   "source": [
    "from sklearn.linear_model import Ridge\n",
    "\n",
    "ridge_reg = Ridge(alpha=1, solver=\"cholesky\")\n",
    "ridge_reg.fit(X, y)\n",
    "ridge_reg.predict([[1.5]])"
   ],
   "metadata": {
    "colab": {
     "base_uri": "https://localhost:8080/"
    },
    "id": "O7cFq7zaXMFX",
    "executionInfo": {
     "status": "ok",
     "timestamp": 1654190624139,
     "user_tz": -120,
     "elapsed": 9,
     "user": {
      "displayName": "Ismaril",
      "userId": "09094833649721836077"
     }
    },
    "outputId": "616c94be-ccc9-4e23-9de3-d2eba53b570b",
    "ExecuteTime": {
     "end_time": "2024-01-14T14:20:03.277714500Z",
     "start_time": "2024-01-14T14:20:03.217896900Z"
    }
   },
   "execution_count": 709,
   "outputs": [
    {
     "data": {
      "text/plain": "array([[4.96482133]])"
     },
     "execution_count": 709,
     "metadata": {},
     "output_type": "execute_result"
    }
   ]
  },
  {
   "cell_type": "code",
   "source": [
    "from sklearn.linear_model import SGDRegressor\n",
    "\n",
    "# regularization with penalty l2 is actually the same as computing with Ridge\n",
    "sgd_reg = SGDRegressor(penalty=\"l2\")\n",
    "sgd_reg.fit(X, y.ravel())\n",
    "sgd_reg.predict([[1.5]])"
   ],
   "metadata": {
    "colab": {
     "base_uri": "https://localhost:8080/"
    },
    "id": "aMRZ2sFpUrrL",
    "executionInfo": {
     "status": "ok",
     "timestamp": 1654190624140,
     "user_tz": -120,
     "elapsed": 9,
     "user": {
      "displayName": "Ismaril",
      "userId": "09094833649721836077"
     }
    },
    "outputId": "c17ed74a-740a-4c27-f909-1f37c6d6a89b",
    "ExecuteTime": {
     "end_time": "2024-01-14T14:20:03.279738400Z",
     "start_time": "2024-01-14T14:20:03.233855700Z"
    }
   },
   "execution_count": 710,
   "outputs": [
    {
     "data": {
      "text/plain": "array([4.9655407])"
     },
     "execution_count": 710,
     "metadata": {},
     "output_type": "execute_result"
    }
   ]
  },
  {
   "cell_type": "markdown",
   "source": [
    "# lasso regression"
   ],
   "metadata": {
    "id": "5S9WEQ63V9m4"
   }
  },
  {
   "cell_type": "markdown",
   "source": [
    "it is specific that removes the weights of least important features (sets them to zero)"
   ],
   "metadata": {
    "id": "Nm662fZCWABK"
   }
  },
  {
   "cell_type": "code",
   "source": [
    "from sklearn.linear_model import Lasso\n",
    "\n",
    "lasso_reg = Lasso(alpha=0.1)\n",
    "lasso_reg.fit(X, y)\n",
    "lasso_reg.predict([[1.5]])"
   ],
   "metadata": {
    "colab": {
     "base_uri": "https://localhost:8080/"
    },
    "id": "PHeBAwDQXOEr",
    "executionInfo": {
     "status": "ok",
     "timestamp": 1654190624140,
     "user_tz": -120,
     "elapsed": 8,
     "user": {
      "displayName": "Ismaril",
      "userId": "09094833649721836077"
     }
    },
    "outputId": "d00846cd-313f-4f82-da39-5abe0b58b548",
    "ExecuteTime": {
     "end_time": "2024-01-14T14:20:03.282701100Z",
     "start_time": "2024-01-14T14:20:03.245800600Z"
    }
   },
   "execution_count": 711,
   "outputs": [
    {
     "data": {
      "text/plain": "array([4.91691267])"
     },
     "execution_count": 711,
     "metadata": {},
     "output_type": "execute_result"
    }
   ]
  },
  {
   "cell_type": "markdown",
   "source": [
    "# elastic net"
   ],
   "metadata": {
    "id": "OjpmKFr-YMqm"
   }
  },
  {
   "cell_type": "markdown",
   "source": [
    "elastic net is something between ridge regression and lasso regression"
   ],
   "metadata": {
    "id": "sS6UC6UuZERC"
   }
  },
  {
   "cell_type": "code",
   "source": [
    "from sklearn.linear_model import ElasticNet\n",
    "\n",
    "elastic_net = ElasticNet(alpha=0.1, l1_ratio=0.5)\n",
    "elastic_net.fit(X, y)\n",
    "elastic_net.predict([[1.5]])\n"
   ],
   "metadata": {
    "colab": {
     "base_uri": "https://localhost:8080/"
    },
    "id": "QKzS2n-9YODZ",
    "executionInfo": {
     "status": "ok",
     "timestamp": 1654190624140,
     "user_tz": -120,
     "elapsed": 7,
     "user": {
      "displayName": "Ismaril",
      "userId": "09094833649721836077"
     }
    },
    "outputId": "0d451102-4348-4535-c813-0b94d94b7180",
    "ExecuteTime": {
     "end_time": "2024-01-14T14:20:03.347563200Z",
     "start_time": "2024-01-14T14:20:03.264753600Z"
    }
   },
   "execution_count": 712,
   "outputs": [
    {
     "data": {
      "text/plain": "array([4.91544454])"
     },
     "execution_count": 712,
     "metadata": {},
     "output_type": "execute_result"
    }
   ]
  },
  {
   "cell_type": "markdown",
   "source": [
    "# early stopping"
   ],
   "metadata": {
    "id": "GbHJJpG2Y_9T"
   }
  },
  {
   "cell_type": "code",
   "source": [
    "# basic implementation of early stopping from scratch:\n",
    "from copy import deepcopy\n",
    "from sklearn.preprocessing import StandardScaler\n",
    "\n",
    "# prepare the data\n",
    "poly_scaler = Pipeline([\n",
    "    (\"poly_features\", PolynomialFeatures(degree=90, include_bias=True)),\n",
    "    (\"std_scaler\", StandardScaler())\n",
    "])\n",
    "\n",
    "X_train, X_val, y_train, y_val = train_test_split(X, y, test_size=0.2)\n",
    "X_train_poly_scaled = poly_scaler.fit_transform(X_train)\n",
    "X_val_poly_scaled = poly_scaler.transform(X_val)\n",
    "\n",
    "sgd_reg = SGDRegressor(max_iter=1,\n",
    "                       tol=-np.infty,\n",
    "                       warm_start=True,\n",
    "                       penalty=None,\n",
    "                       learning_rate=\"constant\",\n",
    "                       eta0=0.0005)\n",
    "\n",
    "minimum_val_error = float(\"inf\")\n",
    "best_epoch = None\n",
    "best_model = None\n",
    "\n",
    "for epoch in range(1_000):\n",
    "    sgd_reg.fit(X_train_poly_scaled, y_train)  # continues where it left off\n",
    "    y_val_predict = sgd_reg.predict(X_val_poly_scaled)\n",
    "    val_error = mean_squared_error(y_val, y_val_predict)\n",
    "    if val_error < minimum_val_error:\n",
    "        minimum_val_error = val_error\n",
    "        best_epoch = epoch\n",
    "        best_model = deepcopy(sgd_reg)"
   ],
   "metadata": {
    "colab": {
     "base_uri": "https://localhost:8080/"
    },
    "id": "QKGXa51FZMnJ",
    "executionInfo": {
     "status": "ok",
     "timestamp": 1654190666885,
     "user_tz": -120,
     "elapsed": 3277,
     "user": {
      "displayName": "Ismaril",
      "userId": "09094833649721836077"
     }
    },
    "outputId": "3842dce9-3246-4d0a-fdfc-0f8a21ca8482",
    "ExecuteTime": {
     "end_time": "2024-01-14T14:20:03.373485600Z",
     "start_time": "2024-01-14T14:20:03.280728800Z"
    }
   },
   "execution_count": 713,
   "outputs": [
    {
     "ename": "InvalidParameterError",
     "evalue": "The 'tol' parameter of SGDRegressor must be a float in the range [0.0, inf) or None. Got -inf instead.",
     "output_type": "error",
     "traceback": [
      "\u001B[1;31m---------------------------------------------------------------------------\u001B[0m",
      "\u001B[1;31mInvalidParameterError\u001B[0m                     Traceback (most recent call last)",
      "Input \u001B[1;32mIn [713]\u001B[0m, in \u001B[0;36m<cell line: 26>\u001B[1;34m()\u001B[0m\n\u001B[0;32m     24\u001B[0m best_model \u001B[38;5;241m=\u001B[39m \u001B[38;5;28;01mNone\u001B[39;00m\n\u001B[0;32m     26\u001B[0m \u001B[38;5;28;01mfor\u001B[39;00m epoch \u001B[38;5;129;01min\u001B[39;00m \u001B[38;5;28mrange\u001B[39m(\u001B[38;5;241m1_000\u001B[39m):\n\u001B[1;32m---> 27\u001B[0m     \u001B[43msgd_reg\u001B[49m\u001B[38;5;241;43m.\u001B[39;49m\u001B[43mfit\u001B[49m\u001B[43m(\u001B[49m\u001B[43mX_train_poly_scaled\u001B[49m\u001B[43m,\u001B[49m\u001B[43m \u001B[49m\u001B[43my_train\u001B[49m\u001B[43m)\u001B[49m  \u001B[38;5;66;03m# continues where it left off\u001B[39;00m\n\u001B[0;32m     28\u001B[0m     y_val_predict \u001B[38;5;241m=\u001B[39m sgd_reg\u001B[38;5;241m.\u001B[39mpredict(X_val_poly_scaled)\n\u001B[0;32m     29\u001B[0m     val_error \u001B[38;5;241m=\u001B[39m mean_squared_error(y_val, y_val_predict)\n",
      "File \u001B[1;32m~\\PycharmProjects\\Training\\venv\\lib\\site-packages\\sklearn\\base.py:1145\u001B[0m, in \u001B[0;36m_fit_context.<locals>.decorator.<locals>.wrapper\u001B[1;34m(estimator, *args, **kwargs)\u001B[0m\n\u001B[0;32m   1140\u001B[0m partial_fit_and_fitted \u001B[38;5;241m=\u001B[39m (\n\u001B[0;32m   1141\u001B[0m     fit_method\u001B[38;5;241m.\u001B[39m\u001B[38;5;18m__name__\u001B[39m \u001B[38;5;241m==\u001B[39m \u001B[38;5;124m\"\u001B[39m\u001B[38;5;124mpartial_fit\u001B[39m\u001B[38;5;124m\"\u001B[39m \u001B[38;5;129;01mand\u001B[39;00m _is_fitted(estimator)\n\u001B[0;32m   1142\u001B[0m )\n\u001B[0;32m   1144\u001B[0m \u001B[38;5;28;01mif\u001B[39;00m \u001B[38;5;129;01mnot\u001B[39;00m global_skip_validation \u001B[38;5;129;01mand\u001B[39;00m \u001B[38;5;129;01mnot\u001B[39;00m partial_fit_and_fitted:\n\u001B[1;32m-> 1145\u001B[0m     \u001B[43mestimator\u001B[49m\u001B[38;5;241;43m.\u001B[39;49m\u001B[43m_validate_params\u001B[49m\u001B[43m(\u001B[49m\u001B[43m)\u001B[49m\n\u001B[0;32m   1147\u001B[0m \u001B[38;5;28;01mwith\u001B[39;00m config_context(\n\u001B[0;32m   1148\u001B[0m     skip_parameter_validation\u001B[38;5;241m=\u001B[39m(\n\u001B[0;32m   1149\u001B[0m         prefer_skip_nested_validation \u001B[38;5;129;01mor\u001B[39;00m global_skip_validation\n\u001B[0;32m   1150\u001B[0m     )\n\u001B[0;32m   1151\u001B[0m ):\n\u001B[0;32m   1152\u001B[0m     \u001B[38;5;28;01mreturn\u001B[39;00m fit_method(estimator, \u001B[38;5;241m*\u001B[39margs, \u001B[38;5;241m*\u001B[39m\u001B[38;5;241m*\u001B[39mkwargs)\n",
      "File \u001B[1;32m~\\PycharmProjects\\Training\\venv\\lib\\site-packages\\sklearn\\base.py:638\u001B[0m, in \u001B[0;36mBaseEstimator._validate_params\u001B[1;34m(self)\u001B[0m\n\u001B[0;32m    630\u001B[0m \u001B[38;5;28;01mdef\u001B[39;00m \u001B[38;5;21m_validate_params\u001B[39m(\u001B[38;5;28mself\u001B[39m):\n\u001B[0;32m    631\u001B[0m     \u001B[38;5;124;03m\"\"\"Validate types and values of constructor parameters\u001B[39;00m\n\u001B[0;32m    632\u001B[0m \n\u001B[0;32m    633\u001B[0m \u001B[38;5;124;03m    The expected type and values must be defined in the `_parameter_constraints`\u001B[39;00m\n\u001B[1;32m   (...)\u001B[0m\n\u001B[0;32m    636\u001B[0m \u001B[38;5;124;03m    accepted constraints.\u001B[39;00m\n\u001B[0;32m    637\u001B[0m \u001B[38;5;124;03m    \"\"\"\u001B[39;00m\n\u001B[1;32m--> 638\u001B[0m     \u001B[43mvalidate_parameter_constraints\u001B[49m\u001B[43m(\u001B[49m\n\u001B[0;32m    639\u001B[0m \u001B[43m        \u001B[49m\u001B[38;5;28;43mself\u001B[39;49m\u001B[38;5;241;43m.\u001B[39;49m\u001B[43m_parameter_constraints\u001B[49m\u001B[43m,\u001B[49m\n\u001B[0;32m    640\u001B[0m \u001B[43m        \u001B[49m\u001B[38;5;28;43mself\u001B[39;49m\u001B[38;5;241;43m.\u001B[39;49m\u001B[43mget_params\u001B[49m\u001B[43m(\u001B[49m\u001B[43mdeep\u001B[49m\u001B[38;5;241;43m=\u001B[39;49m\u001B[38;5;28;43;01mFalse\u001B[39;49;00m\u001B[43m)\u001B[49m\u001B[43m,\u001B[49m\n\u001B[0;32m    641\u001B[0m \u001B[43m        \u001B[49m\u001B[43mcaller_name\u001B[49m\u001B[38;5;241;43m=\u001B[39;49m\u001B[38;5;28;43mself\u001B[39;49m\u001B[38;5;241;43m.\u001B[39;49m\u001B[38;5;18;43m__class__\u001B[39;49m\u001B[38;5;241;43m.\u001B[39;49m\u001B[38;5;18;43m__name__\u001B[39;49m\u001B[43m,\u001B[49m\n\u001B[0;32m    642\u001B[0m \u001B[43m    \u001B[49m\u001B[43m)\u001B[49m\n",
      "File \u001B[1;32m~\\PycharmProjects\\Training\\venv\\lib\\site-packages\\sklearn\\utils\\_param_validation.py:96\u001B[0m, in \u001B[0;36mvalidate_parameter_constraints\u001B[1;34m(parameter_constraints, params, caller_name)\u001B[0m\n\u001B[0;32m     90\u001B[0m \u001B[38;5;28;01melse\u001B[39;00m:\n\u001B[0;32m     91\u001B[0m     constraints_str \u001B[38;5;241m=\u001B[39m (\n\u001B[0;32m     92\u001B[0m         \u001B[38;5;124mf\u001B[39m\u001B[38;5;124m\"\u001B[39m\u001B[38;5;132;01m{\u001B[39;00m\u001B[38;5;124m'\u001B[39m\u001B[38;5;124m, \u001B[39m\u001B[38;5;124m'\u001B[39m\u001B[38;5;241m.\u001B[39mjoin([\u001B[38;5;28mstr\u001B[39m(c) \u001B[38;5;28;01mfor\u001B[39;00m c \u001B[38;5;129;01min\u001B[39;00m constraints[:\u001B[38;5;241m-\u001B[39m\u001B[38;5;241m1\u001B[39m]])\u001B[38;5;132;01m}\u001B[39;00m\u001B[38;5;124m or\u001B[39m\u001B[38;5;124m\"\u001B[39m\n\u001B[0;32m     93\u001B[0m         \u001B[38;5;124mf\u001B[39m\u001B[38;5;124m\"\u001B[39m\u001B[38;5;124m \u001B[39m\u001B[38;5;132;01m{\u001B[39;00mconstraints[\u001B[38;5;241m-\u001B[39m\u001B[38;5;241m1\u001B[39m]\u001B[38;5;132;01m}\u001B[39;00m\u001B[38;5;124m\"\u001B[39m\n\u001B[0;32m     94\u001B[0m     )\n\u001B[1;32m---> 96\u001B[0m \u001B[38;5;28;01mraise\u001B[39;00m InvalidParameterError(\n\u001B[0;32m     97\u001B[0m     \u001B[38;5;124mf\u001B[39m\u001B[38;5;124m\"\u001B[39m\u001B[38;5;124mThe \u001B[39m\u001B[38;5;132;01m{\u001B[39;00mparam_name\u001B[38;5;132;01m!r}\u001B[39;00m\u001B[38;5;124m parameter of \u001B[39m\u001B[38;5;132;01m{\u001B[39;00mcaller_name\u001B[38;5;132;01m}\u001B[39;00m\u001B[38;5;124m must be\u001B[39m\u001B[38;5;124m\"\u001B[39m\n\u001B[0;32m     98\u001B[0m     \u001B[38;5;124mf\u001B[39m\u001B[38;5;124m\"\u001B[39m\u001B[38;5;124m \u001B[39m\u001B[38;5;132;01m{\u001B[39;00mconstraints_str\u001B[38;5;132;01m}\u001B[39;00m\u001B[38;5;124m. Got \u001B[39m\u001B[38;5;132;01m{\u001B[39;00mparam_val\u001B[38;5;132;01m!r}\u001B[39;00m\u001B[38;5;124m instead.\u001B[39m\u001B[38;5;124m\"\u001B[39m\n\u001B[0;32m     99\u001B[0m )\n",
      "\u001B[1;31mInvalidParameterError\u001B[0m: The 'tol' parameter of SGDRegressor must be a float in the range [0.0, inf) or None. Got -inf instead."
     ]
    }
   ]
  },
  {
   "cell_type": "markdown",
   "source": [
    "# logistic regression"
   ],
   "metadata": {
    "id": "DX0E3qMrfIqp"
   }
  },
  {
   "cell_type": "markdown",
   "source": [
    "is actually used for classification problems (logistic regression solo should be able to classify binary labels only i think)"
   ],
   "metadata": {
    "id": "SXxGrtz3fM3y"
   }
  },
  {
   "cell_type": "markdown",
   "source": [
    "### decision boundaries of log regression"
   ],
   "metadata": {
    "id": "5dflkKfWfXhU"
   }
  },
  {
   "cell_type": "code",
   "source": [
    "from sklearn import datasets\n",
    "\n",
    "# import dataset which contains flowers\n",
    "iris = datasets.load_iris()\n",
    "iris.keys()"
   ],
   "metadata": {
    "colab": {
     "base_uri": "https://localhost:8080/"
    },
    "id": "w9KwxYF6fhDW",
    "executionInfo": {
     "status": "ok",
     "timestamp": 1654191509637,
     "user_tz": -120,
     "elapsed": 1539,
     "user": {
      "displayName": "Ismaril",
      "userId": "09094833649721836077"
     }
    },
    "outputId": "39b9f0aa-3ec5-4915-a4ef-f2036d534f46",
    "ExecuteTime": {
     "start_time": "2024-01-14T14:20:03.323622100Z"
    }
   },
   "execution_count": null,
   "outputs": []
  },
  {
   "cell_type": "code",
   "source": [
    "# the dataset includes leghts of leaves based on 3 spicies of flower\n",
    "X = iris[\"data\"]\n",
    "y = iris[\"target\"]\n",
    "X[0], y"
   ],
   "metadata": {
    "colab": {
     "base_uri": "https://localhost:8080/"
    },
    "id": "H74nOh02f3tk",
    "executionInfo": {
     "status": "ok",
     "timestamp": 1654192129400,
     "user_tz": -120,
     "elapsed": 433,
     "user": {
      "displayName": "Ismaril",
      "userId": "09094833649721836077"
     }
    },
    "outputId": "e61700c4-7baf-4c8b-e5ea-44e812634275",
    "ExecuteTime": {
     "start_time": "2024-01-14T14:20:03.324626Z"
    }
   },
   "execution_count": null,
   "outputs": []
  },
  {
   "cell_type": "code",
   "source": [
    "X = iris[\"data\"][:, 3:]\n",
    "y = (iris[\"target\"] == 2).astype(np.int)  # 1 if Iris virginica else 0\n",
    "X[:5], y"
   ],
   "metadata": {
    "colab": {
     "base_uri": "https://localhost:8080/"
    },
    "id": "H9oc_pdBhyJd",
    "executionInfo": {
     "status": "ok",
     "timestamp": 1654192210798,
     "user_tz": -120,
     "elapsed": 2,
     "user": {
      "displayName": "Ismaril",
      "userId": "09094833649721836077"
     }
    },
    "outputId": "9b8bd447-c540-4cfc-f89b-694c76b5e4c6",
    "ExecuteTime": {
     "start_time": "2024-01-14T14:20:03.325587100Z"
    }
   },
   "execution_count": null,
   "outputs": []
  },
  {
   "cell_type": "code",
   "source": [
    "from sklearn.linear_model import LogisticRegression\n",
    "\n",
    "log_reg = LogisticRegression()\n",
    "log_reg.fit(X, y)\n",
    "X_few_features = np.linspace(0, 3, 1000)\n",
    "print(X_few_features.shape)\n",
    "\n",
    "X_few_features = X_few_features.reshape(-1, 1)\n",
    "print(X_few_features.shape)"
   ],
   "metadata": {
    "colab": {
     "base_uri": "https://localhost:8080/"
    },
    "id": "guTtZkCSjHST",
    "executionInfo": {
     "status": "ok",
     "timestamp": 1654192728096,
     "user_tz": -120,
     "elapsed": 510,
     "user": {
      "displayName": "Ismaril",
      "userId": "09094833649721836077"
     }
    },
    "outputId": "f9bbcf57-305d-4195-e5ed-34dc24437f04",
    "ExecuteTime": {
     "start_time": "2024-01-14T14:20:03.326607200Z"
    }
   },
   "execution_count": null,
   "outputs": []
  },
  {
   "cell_type": "code",
   "source": [
    "X_few_features = np.linspace(0, 3, 1000).reshape(-1, 1)\n",
    "y_proba = log_reg.predict_proba(X_few_features)\n",
    "decision_boundary = X_few_features[y_proba[:, 1] >= 0.5][0]\n",
    "\n",
    "plt.figure(figsize=(8, 3))\n",
    "plt.plot(X[y == 0], y[y == 0], \"bs\")\n",
    "plt.plot(X[y == 1], y[y == 1], \"g^\")\n",
    "plt.plot([decision_boundary, decision_boundary], [-1, 2], \"k:\", linewidth=2)\n",
    "plt.plot(X_few_features, y_proba[:, 1], \"g-\", linewidth=2, label=\"Iris virginica\")\n",
    "plt.plot(X_few_features, y_proba[:, 0], \"b--\", linewidth=2, label=\"Not Iris virginica\")\n",
    "plt.text(decision_boundary + 0.02, 0.15, \"Decision  boundary\", fontsize=14, color=\"k\", ha=\"center\")\n",
    "plt.arrow(decision_boundary, 0.08, -0.3, 0, head_width=0.05, head_length=0.1, fc='b', ec='b')\n",
    "plt.arrow(decision_boundary, 0.92, 0.3, 0, head_width=0.05, head_length=0.1, fc='g', ec='g')\n",
    "plt.xlabel(\"Petal width (cm)\", fontsize=14)\n",
    "plt.ylabel(\"Probability\", fontsize=14)\n",
    "plt.legend(loc=\"center left\", fontsize=14)\n",
    "plt.axis([0, 3, -0.02, 1.02])\n",
    "plt.show()"
   ],
   "metadata": {
    "colab": {
     "base_uri": "https://localhost:8080/",
     "height": 285
    },
    "id": "6ZFu054gkeK7",
    "executionInfo": {
     "status": "ok",
     "timestamp": 1654193024809,
     "user_tz": -120,
     "elapsed": 1026,
     "user": {
      "displayName": "Ismaril",
      "userId": "09094833649721836077"
     }
    },
    "outputId": "9ee2ed8d-7cce-421e-c8dc-1950f8bc9a42",
    "ExecuteTime": {
     "start_time": "2024-01-14T14:20:03.328579100Z"
    }
   },
   "execution_count": null,
   "outputs": []
  },
  {
   "cell_type": "code",
   "source": [
    "log_reg.predict([[1.7], [1.5]])\n",
    "\n",
    "# when the lengt is more 1.7 it will classify it as virginica, 1.5 will classify as not"
   ],
   "metadata": {
    "colab": {
     "base_uri": "https://localhost:8080/"
    },
    "id": "bAYDR4h0mf-h",
    "executionInfo": {
     "status": "ok",
     "timestamp": 1654193331109,
     "user_tz": -120,
     "elapsed": 388,
     "user": {
      "displayName": "Ismaril",
      "userId": "09094833649721836077"
     }
    },
    "outputId": "a02a6f2a-dfdc-4fc0-f1f8-a9a31f70643d",
    "ExecuteTime": {
     "start_time": "2024-01-14T14:20:03.329603400Z"
    }
   },
   "execution_count": null,
   "outputs": []
  },
  {
   "cell_type": "markdown",
   "source": [
    "# Softmax Regression"
   ],
   "metadata": {
    "id": "18IVhUKsn_cF"
   }
  },
  {
   "cell_type": "markdown",
   "source": [
    "soft max regression is just logistic regression, that is able to classify more than binary labels"
   ],
   "metadata": {
    "id": "OtnCJkqEoYkA"
   }
  },
  {
   "cell_type": "code",
   "source": [
    "from sklearn.linear_model import LogisticRegression\n",
    "\n",
    "X = iris[\"data\"][:, (2, 3)]  # petal length, petal width\n",
    "y = (iris[\"target\"] == 2).astype(np.int)\n",
    "\n",
    "log_reg = LogisticRegression(solver=\"lbfgs\", C=10 ** 10, random_state=42)\n",
    "log_reg.fit(X, y)\n",
    "\n",
    "x0, x1 = np.meshgrid(\n",
    "    np.linspace(2.9, 7, 500).reshape(-1, 1),\n",
    "    np.linspace(0.8, 2.7, 200).reshape(-1, 1),\n",
    ")\n",
    "X_few_features = np.c_[x0.ravel(), x1.ravel()]\n",
    "\n",
    "y_proba = log_reg.predict_proba(X_few_features)\n",
    "\n",
    "plt.figure(figsize=(10, 4))\n",
    "plt.plot(X[y == 0, 0], X[y == 0, 1], \"bs\")\n",
    "plt.plot(X[y == 1, 0], X[y == 1, 1], \"g^\")\n",
    "\n",
    "zz = y_proba[:, 1].reshape(x0.shape)\n",
    "contour = plt.contour(x0, x1, zz, cmap=plt.cm.brg)\n",
    "\n",
    "left_right = np.array([2.9, 7])\n",
    "boundary = -(log_reg.coef_[0][0] * left_right + log_reg.intercept_[0]) / log_reg.coef_[0][1]\n",
    "\n",
    "plt.clabel(contour, inline=1, fontsize=12)\n",
    "plt.plot(left_right, boundary, \"k--\", linewidth=3)\n",
    "plt.text(3.5, 1.5, \"Not Iris virginica\", fontsize=14, color=\"b\", ha=\"center\")\n",
    "plt.text(6.5, 2.3, \"Iris virginica\", fontsize=14, color=\"g\", ha=\"center\")\n",
    "plt.xlabel(\"Petal length\", fontsize=14)\n",
    "plt.ylabel(\"Petal width\", fontsize=14)\n",
    "plt.axis([2.9, 7, 0.8, 2.7])\n",
    "plt.show()\n",
    "\n",
    "# the plot below might belong to logistic regression section above, nevertheless\n",
    "#   it should not be as far from softmax regression (as it is actually located in github)"
   ],
   "metadata": {
    "colab": {
     "base_uri": "https://localhost:8080/",
     "height": 355
    },
    "id": "AxsSYqVuoAdk",
    "executionInfo": {
     "status": "ok",
     "timestamp": 1654193675456,
     "user_tz": -120,
     "elapsed": 1289,
     "user": {
      "displayName": "Ismaril",
      "userId": "09094833649721836077"
     }
    },
    "outputId": "3a25726e-c86d-4220-9a03-40156e139533",
    "ExecuteTime": {
     "start_time": "2024-01-14T14:20:03.330597100Z"
    }
   },
   "execution_count": null,
   "outputs": []
  },
  {
   "cell_type": "code",
   "source": [
    "X = iris[\"data\"][:, (2, 3)]  # petal length, petal width\n",
    "y = iris[\"target\"]\n",
    "\n",
    "softmax_reg = LogisticRegression(multi_class=\"multinomial\", solver=\"lbfgs\", C=10, random_state=42)\n",
    "softmax_reg.fit(X, y)"
   ],
   "metadata": {
    "colab": {
     "base_uri": "https://localhost:8080/"
    },
    "id": "dfH7xykvqHOh",
    "executionInfo": {
     "status": "ok",
     "timestamp": 1654194230968,
     "user_tz": -120,
     "elapsed": 404,
     "user": {
      "displayName": "Ismaril",
      "userId": "09094833649721836077"
     }
    },
    "outputId": "47068909-4e2c-4bfc-9c4c-9504cc5851d1",
    "ExecuteTime": {
     "start_time": "2024-01-14T14:20:03.331595600Z"
    }
   },
   "execution_count": null,
   "outputs": []
  },
  {
   "cell_type": "code",
   "source": [
    "x0, x1 = np.meshgrid(\n",
    "    np.linspace(0, 8, 500).reshape(-1, 1),\n",
    "    np.linspace(0, 3.5, 200).reshape(-1, 1),\n",
    ")\n",
    "X_few_features = np.c_[x0.ravel(), x1.ravel()]\n",
    "\n",
    "y_proba = softmax_reg.predict_proba(X_few_features)\n",
    "y_predict = softmax_reg.predict(X_few_features)\n",
    "\n",
    "zz1 = y_proba[:, 1].reshape(x0.shape)\n",
    "zz = y_predict.reshape(x0.shape)\n",
    "\n",
    "plt.figure(figsize=(10, 4))\n",
    "plt.plot(X[y == 2, 0], X[y == 2, 1], \"g^\", label=\"Iris virginica\")\n",
    "plt.plot(X[y == 1, 0], X[y == 1, 1], \"bs\", label=\"Iris versicolor\")\n",
    "plt.plot(X[y == 0, 0], X[y == 0, 1], \"yo\", label=\"Iris setosa\")\n",
    "\n",
    "from matplotlib.colors import ListedColormap\n",
    "\n",
    "custom_cmap = ListedColormap(['#fafab0', '#9898ff', '#a0faa0'])\n",
    "\n",
    "plt.contourf(x0, x1, zz, cmap=custom_cmap)\n",
    "contour = plt.contour(x0, x1, zz1, cmap=plt.cm.brg)\n",
    "plt.clabel(contour, inline=1, fontsize=12)\n",
    "plt.xlabel(\"Petal length\", fontsize=14)\n",
    "plt.ylabel(\"Petal width\", fontsize=14)\n",
    "plt.legend(loc=\"center left\", fontsize=14)\n",
    "plt.axis([0, 7, 0, 3.5])\n",
    "plt.show()"
   ],
   "metadata": {
    "colab": {
     "base_uri": "https://localhost:8080/",
     "height": 287
    },
    "id": "yf98imbxqNFa",
    "executionInfo": {
     "status": "ok",
     "timestamp": 1654194242707,
     "user_tz": -120,
     "elapsed": 1264,
     "user": {
      "displayName": "Ismaril",
      "userId": "09094833649721836077"
     }
    },
    "outputId": "38edd6ad-72dc-4a25-fa72-0b523f3ac42f",
    "ExecuteTime": {
     "start_time": "2024-01-14T14:20:03.332595100Z"
    }
   },
   "execution_count": null,
   "outputs": []
  }
 ]
}
