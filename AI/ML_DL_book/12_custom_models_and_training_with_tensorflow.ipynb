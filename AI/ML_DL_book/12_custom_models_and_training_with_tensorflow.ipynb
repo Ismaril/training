{
 "cells": [
  {
   "cell_type": "markdown",
   "source": [
    "# CHAPTER 12. CUSTOM MODELS AND TRAINING WITH TENSORFLOW\n",
    "Up until now, we’ve used only TensorFlow’s high-level API, Keras, but it already got us pretty far: we built various neural network architectures, including regression and classification nets, Wide & Deep nets, and self-normalizing nets, using all sorts of techniques, such as batch normalization, dropout, and learning rate schedules. In fact, 95% of the use cases you will encounter will not require anything other than Keras (and tf.data; see Chapter 13). But now it’s time to dive deeper into TensorFlow and take a look at its lower-level Python API. This will be useful when you need extra control to write custom loss functions, custom metrics, layers, models, initializers, regularizers, weight constraints, and more. You may even need to fully control the training loop itself; for example, to apply special transformations or constraints to the gradients (beyond just clipping them) or to use multiple optimizers for different parts of the network. We will cover all these cases in this chapter, and we will also look at how you can boost your custom models and training algorithms using TensorFlow’s automatic graph generation feature. But first, let’s take a quick tour of TensorFlow.\n"
   ],
   "metadata": {
    "collapsed": false
   },
   "id": "8b646d4b45c55c28"
  },
  {
   "cell_type": "markdown",
   "source": [
    "# A QUICK TOUR OF TENSORFLOW\n",
    "As you know, TensorFlow is a powerful library for numerical computation, particularly well suited and fine-tuned for large-scale machine learning (but you can use it for anything else that requires heavy computations). It was developed by the Google Brain team and it powers many of Google’s large-scale services, such as Google Cloud Speech, Google Photos, and Google Search. It was open sourced in November 2015, and it is now the most widely used deep learning library in the industry: countless projects use TensorFlow for all sorts of machine learning tasks, such as image classification, natural language processing, recommender systems, and time series forecasting.\n",
    "\n",
    "So what does TensorFlow offer? Here’s a summary:\n",
    "\n",
    "- Its core is very similar to NumPy, but with GPU support.\n",
    "\n",
    "- It supports distributed computing (across multiple devices and servers).\n",
    "\n",
    "- It includes a kind of just-in-time (JIT) compiler that allows it to optimize computations for speed and memory usage. It works by extracting the computation graph from a Python function, optimizing it (e.g., by pruning unused nodes), and running it efficiently (e.g., by automatically running independent operations in parallel).\n",
    "\n",
    "- Computation graphs can be exported to a portable format, so you can train a TensorFlow model in one environment (e.g., using Python on Linux) and run it in another (e.g., using Java on an Android device).\n",
    "\n",
    "- It implements reverse-mode autodiff (see Chapter 10 and Appendix B) and provides some excellent optimizers, such as RMSProp and Nadam (see Chapter 11), so you can easily minimize all sorts of loss functions.\n",
    "\n",
    "TensorFlow offers many more features built on top of these core features: the most important is of course Keras, but it also has data loading and preprocessing ops (tf.data, tf.io, etc.), image processing ops (tf.image), signal processing ops (tf.signal), and more (see Figure 12-1 for an overview of TensorFlow’s Python API)."
   ],
   "metadata": {
    "collapsed": false
   },
   "id": "755b6fb0fc853792"
  },
  {
   "cell_type": "markdown",
   "source": [
    "TIP\n",
    "We will cover many of the packages and functions of the TensorFlow API, but it’s impossible to cover them all, so you should really take some time to browse through the API; you will find that it is quite rich and well documented."
   ],
   "metadata": {
    "collapsed": false
   },
   "id": "5f138bd0f6ba4fb3"
  },
  {
   "cell_type": "markdown",
   "source": [
    "At the lowest level, each TensorFlow operation (op for short) is implemented using highly efficient C++ code. Many operations have multiple implementations called kernels: each kernel is dedicated to a specific device type, such as CPUs, GPUs, or even TPUs (tensor processing units). As you may know, GPUs can dramatically speed up computations by splitting them into many smaller chunks and running them in parallel across many GPU threads. TPUs are even faster: they are custom ASIC chips built specifically for deep learning operations (we will discuss how to use TensorFlow with GPUs or TPUs in Chapter 19)."
   ],
   "metadata": {
    "collapsed": false
   },
   "id": "34885cb2c2f70a82"
  },
  {
   "cell_type": "markdown",
   "source": [
    "Figure 12-1. TensorFlow’s Python API\n",
    "![tenorflow_python_api](../images/tenorflow_python_api.png)"
   ],
   "metadata": {
    "collapsed": false
   },
   "id": "773b0b19501be6a4"
  },
  {
   "cell_type": "markdown",
   "source": [
    "TensorFlow’s architecture is shown in Figure 12-2. Most of the time your code will use the high-level APIs (especially Keras and tf.data), but when you need more flexibility you will use the lower-level Python API, handling tensors directly. In any case, TensorFlow’s execution engine will take care of running the operations efficiently, even across multiple devices and machines if you tell it to.\n",
    "\n",
    "TensorFlow runs not only on Windows, Linux, and macOS, but also on mobile devices (using TensorFlow Lite), including both iOS and Android (see Chapter 19). Note that APIs for other languages are also available, if you do not want to use the Python API: there are C++, Java, and Swift APIs. There is even a JavaScript implementation called TensorFlow.js that makes it possible to run your models directly in your browser."
   ],
   "metadata": {
    "collapsed": false
   },
   "id": "343d13b673e7db19"
  },
  {
   "cell_type": "markdown",
   "source": [
    "Figure 12-2. TensorFlow’s architecture\n",
    "![tensorflows_architecture](../images/tensorflows_architecture.png)"
   ],
   "metadata": {
    "collapsed": false
   },
   "id": "f08c86ddd2ab3d81"
  },
  {
   "cell_type": "markdown",
   "source": [
    "There’s more to TensorFlow than the library. TensorFlow is at the center of an extensive ecosystem of libraries. First, there’s TensorBoard for visualization (see Chapter 10). Next, there’s TensorFlow Extended (TFX), which is a set of libraries built by Google to productionize TensorFlow projects: it includes tools for data validation, preprocessing, model analysis, and serving (with TF Serving; see Chapter 19). Google’s TensorFlow Hub provides a way to easily download and reuse pretrained neural networks. You can also get many neural network architectures, some of them pretrained, in TensorFlow’s model garden. Check out the TensorFlow Resources and https://github.com/jtoy/awesome-tensorflow for more TensorFlow-based projects. You will find hundreds of TensorFlow projects on GitHub, so it is often easy to find existing code for whatever you are trying to do."
   ],
   "metadata": {
    "collapsed": false
   },
   "id": "46c605e8684ac413"
  },
  {
   "cell_type": "markdown",
   "source": [
    "TIP\n",
    "More and more ML papers are released along with their implementations, and sometimes even with pretrained models. Check out https://paperswithcode.com to easily find them."
   ],
   "metadata": {
    "collapsed": false
   },
   "id": "5bbd5689efe2a3aa"
  },
  {
   "cell_type": "markdown",
   "source": [
    "Last but not least, TensorFlow has a dedicated team of passionate and helpful developers, as well as a large community contributing to improving it. To ask technical questions, you should use https://stackoverflow.com and tag your question with tensorflow and python. You can file bugs and feature requests through GitHub. For general discussions, join the TensorFlow Forum.\n",
    "\n",
    "OK, it’s time to start coding!"
   ],
   "metadata": {
    "collapsed": false
   },
   "id": "3ee8fddd979edacd"
  },
  {
   "cell_type": "markdown",
   "source": [
    "# USING TENSORFLOW LIKE NUMPY\n",
    "TensorFlow’s API revolves around tensors, which flow from operation to operation—hence the name TensorFlow. A tensor is very similar to a NumPy ndarray: it is usually a multidimensional array, but it can also hold a scalar (a simple value, such as 42). These tensors will be important when we create custom cost functions, custom metrics, custom layers, and more, so let’s see how to create and manipulate them."
   ],
   "metadata": {
    "collapsed": false
   },
   "id": "a54f3b1f89073638"
  },
  {
   "cell_type": "markdown",
   "source": [
    "**Tensors and operations**\n",
    "You can create a tensor with tf.constant(). For example, here is a tensor representing a matrix with two rows and three columns of floats:"
   ],
   "metadata": {
    "collapsed": false
   },
   "id": "d99fc2a0fcce4464"
  },
  {
   "cell_type": "code",
   "outputs": [
    {
     "data": {
      "text/plain": "<tf.Tensor: shape=(2, 3), dtype=float32, numpy=\narray([[1., 2., 3.],\n       [4., 5., 6.]], dtype=float32)>"
     },
     "execution_count": 716,
     "metadata": {},
     "output_type": "execute_result"
    }
   ],
   "source": [
    "from packaging import version\n",
    "import tensorflow as tf\n",
    "\n",
    "assert version.parse(tf.__version__) >= version.parse(\"2.8.0\")\n",
    "\n",
    "t = tf.constant([[1., 2., 3.], [4., 5., 6.]])  # matrix\n",
    "t"
   ],
   "metadata": {
    "collapsed": false,
    "ExecuteTime": {
     "end_time": "2024-03-03T12:22:57.205722Z",
     "start_time": "2024-03-03T12:22:57.200721Z"
    }
   },
   "id": "4ed82dbce3c9c5e7",
   "execution_count": 716
  },
  {
   "cell_type": "markdown",
   "source": [
    "Just like an ndarray, a tf.Tensor has a shape and a data type (dtype):"
   ],
   "metadata": {
    "collapsed": false
   },
   "id": "685cde8b6fe54dbf"
  },
  {
   "cell_type": "code",
   "outputs": [
    {
     "data": {
      "text/plain": "TensorShape([2, 3])"
     },
     "execution_count": 717,
     "metadata": {},
     "output_type": "execute_result"
    }
   ],
   "source": [
    "t.shape\n"
   ],
   "metadata": {
    "collapsed": false,
    "ExecuteTime": {
     "end_time": "2024-03-03T12:23:09.537555Z",
     "start_time": "2024-03-03T12:23:09.534764Z"
    }
   },
   "id": "7574f6c4f226467c",
   "execution_count": 717
  },
  {
   "cell_type": "code",
   "outputs": [
    {
     "data": {
      "text/plain": "tf.float32"
     },
     "execution_count": 718,
     "metadata": {},
     "output_type": "execute_result"
    }
   ],
   "source": [
    "t.dtype"
   ],
   "metadata": {
    "collapsed": false,
    "ExecuteTime": {
     "end_time": "2024-03-03T12:23:09.610841Z",
     "start_time": "2024-03-03T12:23:09.607371Z"
    }
   },
   "id": "329ac26668e4941c",
   "execution_count": 718
  },
  {
   "cell_type": "markdown",
   "source": [
    "Indexing works much like in NumPy:"
   ],
   "metadata": {
    "collapsed": false
   },
   "id": "e73aaa1d28d43bb"
  },
  {
   "cell_type": "code",
   "outputs": [
    {
     "data": {
      "text/plain": "<tf.Tensor: shape=(2, 2), dtype=float32, numpy=\narray([[2., 3.],\n       [5., 6.]], dtype=float32)>"
     },
     "execution_count": 719,
     "metadata": {},
     "output_type": "execute_result"
    }
   ],
   "source": [
    "t[:, 1:]"
   ],
   "metadata": {
    "collapsed": false,
    "ExecuteTime": {
     "end_time": "2024-03-03T12:23:09.949739Z",
     "start_time": "2024-03-03T12:23:09.943987Z"
    }
   },
   "id": "6a7fc958d251ced6",
   "execution_count": 719
  },
  {
   "cell_type": "code",
   "outputs": [
    {
     "data": {
      "text/plain": "<tf.Tensor: shape=(2, 1), dtype=float32, numpy=\narray([[2.],\n       [5.]], dtype=float32)>"
     },
     "execution_count": 720,
     "metadata": {},
     "output_type": "execute_result"
    }
   ],
   "source": [
    "t[..., 1, tf.newaxis]"
   ],
   "metadata": {
    "collapsed": false,
    "ExecuteTime": {
     "end_time": "2024-03-03T12:23:10.178089Z",
     "start_time": "2024-03-03T12:23:10.172174Z"
    }
   },
   "id": "1921e95f3eb6960a",
   "execution_count": 720
  },
  {
   "cell_type": "markdown",
   "source": [
    "Most importantly, all sorts of tensor operations are available:"
   ],
   "metadata": {
    "collapsed": false
   },
   "id": "4b36eef0c65d223c"
  },
  {
   "cell_type": "code",
   "outputs": [
    {
     "data": {
      "text/plain": "<tf.Tensor: shape=(2, 3), dtype=float32, numpy=\narray([[11., 12., 13.],\n       [14., 15., 16.]], dtype=float32)>"
     },
     "execution_count": 721,
     "metadata": {},
     "output_type": "execute_result"
    }
   ],
   "source": [
    "t + 10"
   ],
   "metadata": {
    "collapsed": false,
    "ExecuteTime": {
     "end_time": "2024-03-03T12:23:10.464282Z",
     "start_time": "2024-03-03T12:23:10.460359Z"
    }
   },
   "id": "d2e5dc75725695f0",
   "execution_count": 721
  },
  {
   "cell_type": "code",
   "outputs": [
    {
     "data": {
      "text/plain": "<tf.Tensor: shape=(2, 3), dtype=float32, numpy=\narray([[ 1.,  4.,  9.],\n       [16., 25., 36.]], dtype=float32)>"
     },
     "execution_count": 722,
     "metadata": {},
     "output_type": "execute_result"
    }
   ],
   "source": [
    "tf.square(t)"
   ],
   "metadata": {
    "collapsed": false,
    "ExecuteTime": {
     "end_time": "2024-03-03T12:23:10.702668Z",
     "start_time": "2024-03-03T12:23:10.697661Z"
    }
   },
   "id": "4c6c99862c2568a",
   "execution_count": 722
  },
  {
   "cell_type": "code",
   "outputs": [
    {
     "data": {
      "text/plain": "<tf.Tensor: shape=(2, 2), dtype=float32, numpy=\narray([[14., 32.],\n       [32., 77.]], dtype=float32)>"
     },
     "execution_count": 723,
     "metadata": {},
     "output_type": "execute_result"
    }
   ],
   "source": [
    "t @ tf.transpose(t)"
   ],
   "metadata": {
    "collapsed": false,
    "ExecuteTime": {
     "end_time": "2024-03-03T12:23:11.027903Z",
     "start_time": "2024-03-03T12:23:11.021816Z"
    }
   },
   "id": "4c670de57ae23aba",
   "execution_count": 723
  },
  {
   "cell_type": "markdown",
   "source": [
    "Note that writing t + 10 is equivalent to calling tf.add(t, 10) (indeed, Python calls the magic method `t.__add__(10)`, which just calls tf.add(t, 10)). Other operators, like - and *, are also supported. The @ operator was added in Python 3.5, for matrix multiplication: it is equivalent to calling the tf.matmul() function."
   ],
   "metadata": {
    "collapsed": false
   },
   "id": "90d921ab19d152de"
  },
  {
   "cell_type": "markdown",
   "source": [
    "NOTE\n",
    "Many functions and classes have aliases. For example, tf.add() and tf.math.add() are the same function. This allows TensorFlow to have concise names for the most common operations while preserving well-organized packages."
   ],
   "metadata": {
    "collapsed": false
   },
   "id": "a202ce86ab50969b"
  },
  {
   "cell_type": "markdown",
   "source": [
    "A tensor can also hold a scalar value. In this case, the shape is empty:"
   ],
   "metadata": {
    "collapsed": false
   },
   "id": "1ed25b35454d2e79"
  },
  {
   "cell_type": "code",
   "outputs": [
    {
     "data": {
      "text/plain": "<tf.Tensor: shape=(), dtype=int32, numpy=42>"
     },
     "execution_count": 724,
     "metadata": {},
     "output_type": "execute_result"
    }
   ],
   "source": [
    "tf.constant(42)"
   ],
   "metadata": {
    "collapsed": false,
    "ExecuteTime": {
     "end_time": "2024-03-03T12:23:11.227434Z",
     "start_time": "2024-03-03T12:23:11.223384Z"
    }
   },
   "id": "84a342c1b767d00a",
   "execution_count": 724
  },
  {
   "cell_type": "markdown",
   "source": [
    "NOTE\n",
    "The Keras API has its own low-level API, located in tf.keras.backend. This package is usually imported as K, for conciseness. It used to include functions like K.square(), K.exp(), and K.sqrt(), which you may run across in existing code: this was useful to write portable code back when Keras supported multiple backends, but now that Keras is TensorFlow-only, you should call TensorFlow’s low-level API directly (e.g., tf.square() instead of K.square()). Technically K.square() and its friends are still there for backward compatibility, but the documentation of the tf.keras.backend package only lists a handful of utility functions, such as clear_session() (mentioned in Chapter 10)."
   ],
   "metadata": {
    "collapsed": false
   },
   "id": "debff08d97b48a89"
  },
  {
   "cell_type": "markdown",
   "source": [
    "Keras's low-level API:"
   ],
   "metadata": {
    "collapsed": false
   },
   "id": "6c25d028d425ea41"
  },
  {
   "cell_type": "code",
   "outputs": [
    {
     "data": {
      "text/plain": "<tf.Tensor: shape=(3, 2), dtype=float32, numpy=\narray([[11., 26.],\n       [14., 35.],\n       [19., 46.]], dtype=float32)>"
     },
     "execution_count": 725,
     "metadata": {},
     "output_type": "execute_result"
    }
   ],
   "source": [
    "K = tf.keras.backend\n",
    "K.square(K.transpose(t)) + 10"
   ],
   "metadata": {
    "collapsed": false,
    "ExecuteTime": {
     "end_time": "2024-03-03T12:23:11.543709Z",
     "start_time": "2024-03-03T12:23:11.538604Z"
    }
   },
   "id": "ed68f98671c94598",
   "execution_count": 725
  },
  {
   "cell_type": "markdown",
   "source": [
    "But since Keras does not support multiple backends anymore, you should instead use TF's low-level API directly:"
   ],
   "metadata": {
    "collapsed": false
   },
   "id": "50bef81055133a86"
  },
  {
   "cell_type": "code",
   "outputs": [
    {
     "data": {
      "text/plain": "<tf.Tensor: shape=(3, 2), dtype=float32, numpy=\narray([[11., 26.],\n       [14., 35.],\n       [19., 46.]], dtype=float32)>"
     },
     "execution_count": 726,
     "metadata": {},
     "output_type": "execute_result"
    }
   ],
   "source": [
    "tf.square(tf.transpose(t)) + 10"
   ],
   "metadata": {
    "collapsed": false,
    "ExecuteTime": {
     "end_time": "2024-03-03T12:23:11.874920Z",
     "start_time": "2024-03-03T12:23:11.869840Z"
    }
   },
   "id": "c59922e91c84b490",
   "execution_count": 726
  },
  {
   "cell_type": "markdown",
   "source": [
    "You will find all the basic math operations you need (tf.add(), tf.multiply(), tf.square(), tf.exp(), tf.sqrt(), etc.) and most operations that you can find in NumPy (e.g., tf.reshape(), tf.squeeze(), tf.tile()). Some functions have a different name than in NumPy; for instance, tf.reduce_mean(), tf.reduce_sum(), tf.reduce_max(), and tf.math.log() are the equivalent of np.mean(), np.sum(), np.max(), and np.log(). When the name differs, there is usually a good reason for it. For example, in TensorFlow you must write tf.transpose(t); you cannot just write t.T like in NumPy. The reason is that the tf.transpose() function does not do exactly the same thing as NumPy’s T attribute: in TensorFlow, a new tensor is created with its own copy of the transposed data, while in NumPy, t.T is just a transposed view on the same data. Similarly, the tf.reduce_sum() operation is named this way because its GPU kernel (i.e., GPU implementation) uses a reduce algorithm that does not guarantee the order in which the elements are added: because 32-bit floats have limited precision, the result may change ever so slightly every time you call this operation. The same is true of tf.reduce_mean() (but of course tf.reduce_max() is deterministic)."
   ],
   "metadata": {
    "collapsed": false
   },
   "id": "f8114eb579b5947b"
  },
  {
   "cell_type": "markdown",
   "source": [
    "**Tensors and NumPy**\n",
    "Tensors play nice with NumPy: you can create a tensor from a NumPy array, and vice versa. You can even apply TensorFlow operations to NumPy arrays and NumPy operations to tensors:"
   ],
   "metadata": {
    "collapsed": false
   },
   "id": "a9f6f3f02a1a241c"
  },
  {
   "cell_type": "code",
   "outputs": [
    {
     "data": {
      "text/plain": "<tf.Tensor: shape=(3,), dtype=float64, numpy=array([2., 4., 5.])>"
     },
     "execution_count": 727,
     "metadata": {},
     "output_type": "execute_result"
    }
   ],
   "source": [
    "import numpy as np\n",
    "\n",
    "a = np.array([2., 4., 5.])\n",
    "tf.constant(a)"
   ],
   "metadata": {
    "collapsed": false,
    "ExecuteTime": {
     "end_time": "2024-03-03T12:23:12.185478Z",
     "start_time": "2024-03-03T12:23:12.181104Z"
    }
   },
   "id": "684f67842f71d4b0",
   "execution_count": 727
  },
  {
   "cell_type": "code",
   "outputs": [
    {
     "data": {
      "text/plain": "array([[1., 2., 3.],\n       [4., 5., 6.]], dtype=float32)"
     },
     "execution_count": 728,
     "metadata": {},
     "output_type": "execute_result"
    }
   ],
   "source": [
    "t.numpy()"
   ],
   "metadata": {
    "collapsed": false,
    "ExecuteTime": {
     "end_time": "2024-03-03T12:23:12.402097Z",
     "start_time": "2024-03-03T12:23:12.397912Z"
    }
   },
   "id": "cb4f0b1abead30ac",
   "execution_count": 728
  },
  {
   "cell_type": "code",
   "outputs": [
    {
     "data": {
      "text/plain": "<tf.Tensor: shape=(3,), dtype=float64, numpy=array([ 4., 16., 25.])>"
     },
     "execution_count": 729,
     "metadata": {},
     "output_type": "execute_result"
    }
   ],
   "source": [
    "tf.square(a)"
   ],
   "metadata": {
    "collapsed": false,
    "ExecuteTime": {
     "end_time": "2024-03-03T12:23:12.762342Z",
     "start_time": "2024-03-03T12:23:12.758148Z"
    }
   },
   "id": "d5d6c6aecaf08d1b",
   "execution_count": 729
  },
  {
   "cell_type": "code",
   "outputs": [
    {
     "data": {
      "text/plain": "array([[ 1.,  4.,  9.],\n       [16., 25., 36.]], dtype=float32)"
     },
     "execution_count": 730,
     "metadata": {},
     "output_type": "execute_result"
    }
   ],
   "source": [
    "np.square(t)"
   ],
   "metadata": {
    "collapsed": false,
    "ExecuteTime": {
     "end_time": "2024-03-03T12:23:12.927411Z",
     "start_time": "2024-03-03T12:23:12.923913Z"
    }
   },
   "id": "c21f7fe34d70f557",
   "execution_count": 730
  },
  {
   "cell_type": "markdown",
   "source": [
    "WARNING\n",
    "Notice that NumPy uses 64-bit precision by default, while TensorFlow uses 32-bit. This is because 32-bit precision is generally more than enough for neural networks, plus it runs faster and uses less RAM. So when you create a tensor from a NumPy array, make sure to set dtype=tf.float32."
   ],
   "metadata": {
    "collapsed": false
   },
   "id": "33d927f2143d2248"
  },
  {
   "cell_type": "markdown",
   "source": [
    "**Type conversions**\n",
    "Type conversions can significantly hurt performance, and they can easily go unnoticed when they are done automatically. To avoid this, TensorFlow does not perform any type conversions automatically: it just raises an exception if you try to execute an operation on tensors with incompatible types. For example, you cannot add a float tensor and an integer tensor, and you cannot even add a 32-bit float and a 64-bit float:"
   ],
   "metadata": {
    "collapsed": false
   },
   "id": "bf5f12340f2f9c64"
  },
  {
   "cell_type": "code",
   "outputs": [
    {
     "name": "stdout",
     "output_type": "stream",
     "text": [
      "cannot compute AddV2 as input #1(zero-based) was expected to be a float tensor but is a int32 tensor [Op:AddV2] name: \n"
     ]
    }
   ],
   "source": [
    "try:\n",
    "    tf.constant(2.) + tf.constant(40)\n",
    "except tf.errors.InvalidArgumentError as ex:\n",
    "    print(ex)"
   ],
   "metadata": {
    "collapsed": false,
    "ExecuteTime": {
     "end_time": "2024-03-03T12:23:13.226685Z",
     "start_time": "2024-03-03T12:23:13.223621Z"
    }
   },
   "id": "ab94a8c0c963933d",
   "execution_count": 731
  },
  {
   "cell_type": "code",
   "outputs": [
    {
     "name": "stdout",
     "output_type": "stream",
     "text": [
      "cannot compute AddV2 as input #1(zero-based) was expected to be a float tensor but is a double tensor [Op:AddV2] name: \n"
     ]
    }
   ],
   "source": [
    "try:\n",
    "    tf.constant(2.) + tf.constant(40., dtype=tf.float64)\n",
    "except tf.errors.InvalidArgumentError as ex:\n",
    "    print(ex)"
   ],
   "metadata": {
    "collapsed": false,
    "ExecuteTime": {
     "end_time": "2024-03-03T12:23:13.426958Z",
     "start_time": "2024-03-03T12:23:13.423161Z"
    }
   },
   "id": "a8b1d4df39d1c2b4",
   "execution_count": 732
  },
  {
   "cell_type": "markdown",
   "source": [
    "This may be a bit annoying at first, but remember that it’s for a good cause! And of course you can use tf.cast() when you really need to convert types:"
   ],
   "metadata": {
    "collapsed": false
   },
   "id": "9c071ae381182c99"
  },
  {
   "cell_type": "code",
   "outputs": [
    {
     "data": {
      "text/plain": "<tf.Tensor: shape=(), dtype=float32, numpy=42.0>"
     },
     "execution_count": 733,
     "metadata": {},
     "output_type": "execute_result"
    }
   ],
   "source": [
    "t2 = tf.constant(40., dtype=tf.float64)\n",
    "tf.constant(2.0) + tf.cast(t2, tf.float32)"
   ],
   "metadata": {
    "collapsed": false,
    "ExecuteTime": {
     "end_time": "2024-03-03T12:23:13.785436Z",
     "start_time": "2024-03-03T12:23:13.781013Z"
    }
   },
   "id": "ec370a2c464297f9",
   "execution_count": 733
  },
  {
   "cell_type": "markdown",
   "source": [
    "**Variables**\n",
    "The tf.Tensor values we’ve seen so far are immutable: we cannot modify them. This means that we cannot use regular tensors to implement weights in a neural network, since they need to be tweaked by backpropagation. Plus, other parameters may also need to change over time (e.g., a momentum optimizer keeps track of past gradients). What we need is a tf.Variable:"
   ],
   "metadata": {
    "collapsed": false
   },
   "id": "9ddce23aebdadac0"
  },
  {
   "cell_type": "code",
   "outputs": [
    {
     "data": {
      "text/plain": "<tf.Variable 'Variable:0' shape=(2, 3) dtype=float32, numpy=\narray([[1., 2., 3.],\n       [4., 5., 6.]], dtype=float32)>"
     },
     "execution_count": 734,
     "metadata": {},
     "output_type": "execute_result"
    }
   ],
   "source": [
    "v = tf.Variable([[1., 2., 3.], [4., 5., 6.]])\n",
    "v"
   ],
   "metadata": {
    "collapsed": false,
    "ExecuteTime": {
     "end_time": "2024-03-03T12:23:13.951080Z",
     "start_time": "2024-03-03T12:23:13.945011Z"
    }
   },
   "id": "d0b755989921643f",
   "execution_count": 734
  },
  {
   "cell_type": "markdown",
   "source": [
    "A tf.Variable acts much like a tf.Tensor: you can perform the same operations with it, it plays nicely with NumPy as well, and it is just as picky with types. But it can also be modified in place using the assign() method (or assign_add() or assign_sub(), which increment or decrement the variable by the given value). You can also modify individual cells (or slices), by using the cell’s (or slice’s) assign() method or by using the scatter_update() or scatter_nd_update() methods:"
   ],
   "metadata": {
    "collapsed": false
   },
   "id": "eae06ea2f18d2234"
  },
  {
   "cell_type": "code",
   "outputs": [
    {
     "data": {
      "text/plain": "<tf.Variable 'UnreadVariable' shape=(2, 3) dtype=float32, numpy=\narray([[ 2.,  4.,  6.],\n       [ 8., 10., 12.]], dtype=float32)>"
     },
     "execution_count": 735,
     "metadata": {},
     "output_type": "execute_result"
    }
   ],
   "source": [
    "v.assign(2 * v)  # v now equals [[2., 4., 6.], [8., 10., 12.]]"
   ],
   "metadata": {
    "collapsed": false,
    "ExecuteTime": {
     "end_time": "2024-03-03T12:23:14.401599Z",
     "start_time": "2024-03-03T12:23:14.395892Z"
    }
   },
   "id": "98aa203ac4a8f59e",
   "execution_count": 735
  },
  {
   "cell_type": "code",
   "outputs": [
    {
     "data": {
      "text/plain": "<tf.Variable 'UnreadVariable' shape=(2, 3) dtype=float32, numpy=\narray([[ 2., 42.,  6.],\n       [ 8., 10., 12.]], dtype=float32)>"
     },
     "execution_count": 736,
     "metadata": {},
     "output_type": "execute_result"
    }
   ],
   "source": [
    "v[0, 1].assign(42)  # v now equals [[2., 42., 6.], [8., 10., 12.]]"
   ],
   "metadata": {
    "collapsed": false,
    "ExecuteTime": {
     "end_time": "2024-03-03T12:23:14.602483Z",
     "start_time": "2024-03-03T12:23:14.596109Z"
    }
   },
   "id": "ef87da1f8d2d494",
   "execution_count": 736
  },
  {
   "cell_type": "code",
   "outputs": [
    {
     "data": {
      "text/plain": "<tf.Variable 'UnreadVariable' shape=(2, 3) dtype=float32, numpy=\narray([[ 2., 42.,  0.],\n       [ 8., 10.,  1.]], dtype=float32)>"
     },
     "execution_count": 737,
     "metadata": {},
     "output_type": "execute_result"
    }
   ],
   "source": [
    "v[:, 2].assign([0., 1.])  # v now equals [[2., 42., 0.], [8., 10., 1.]]"
   ],
   "metadata": {
    "collapsed": false,
    "ExecuteTime": {
     "end_time": "2024-03-03T12:23:15.003219Z",
     "start_time": "2024-03-03T12:23:14.996465Z"
    }
   },
   "id": "c78a8ac6d86750d0",
   "execution_count": 737
  },
  {
   "cell_type": "code",
   "outputs": [
    {
     "data": {
      "text/plain": "<tf.Variable 'UnreadVariable' shape=(2, 3) dtype=float32, numpy=\narray([[100.,  42.,   0.],\n       [  8.,  10., 200.]], dtype=float32)>"
     },
     "execution_count": 738,
     "metadata": {},
     "output_type": "execute_result"
    }
   ],
   "source": [
    "v.scatter_nd_update(  # v now equals [[100., 42., 0.], [8., 10., 200.]]\n",
    "    indices=[[0, 0], [1, 2]], updates=[100., 200.])"
   ],
   "metadata": {
    "collapsed": false,
    "ExecuteTime": {
     "end_time": "2024-03-03T12:23:15.167202Z",
     "start_time": "2024-03-03T12:23:15.161796Z"
    }
   },
   "id": "6c049f7f8280cd09",
   "execution_count": 738
  },
  {
   "cell_type": "code",
   "outputs": [
    {
     "data": {
      "text/plain": "<tf.Variable 'UnreadVariable' shape=(2, 3) dtype=float32, numpy=\narray([[4., 5., 6.],\n       [1., 2., 3.]], dtype=float32)>"
     },
     "execution_count": 739,
     "metadata": {},
     "output_type": "execute_result"
    }
   ],
   "source": [
    "# extra code – shows how to use scatter_update()\n",
    "sparse_delta = tf.IndexedSlices(values=[[1., 2., 3.], [4., 5., 6.]],\n",
    "                                indices=[1, 0])\n",
    "v.scatter_update(sparse_delta)"
   ],
   "metadata": {
    "collapsed": false,
    "ExecuteTime": {
     "end_time": "2024-03-03T12:23:15.525619Z",
     "start_time": "2024-03-03T12:23:15.520283Z"
    }
   },
   "id": "77e0f6f83bfe635a",
   "execution_count": 739
  },
  {
   "cell_type": "markdown",
   "source": [
    "Direct assignment will not work:"
   ],
   "metadata": {
    "collapsed": false
   },
   "id": "a16723aac6ef0c87"
  },
  {
   "cell_type": "code",
   "outputs": [
    {
     "name": "stdout",
     "output_type": "stream",
     "text": [
      "'ResourceVariable' object does not support item assignment\n"
     ]
    }
   ],
   "source": [
    "try:\n",
    "    v[1] = [7., 8., 9.]\n",
    "except TypeError as ex:\n",
    "    print(ex)"
   ],
   "metadata": {
    "collapsed": false,
    "ExecuteTime": {
     "end_time": "2024-03-03T12:23:15.689271Z",
     "start_time": "2024-03-03T12:23:15.686192Z"
    }
   },
   "id": "7e867f2e35100963",
   "execution_count": 740
  },
  {
   "cell_type": "markdown",
   "source": [
    "NOTE\n",
    "In practice you will rarely have to create variables manually; Keras provides an add_weight() method that will take care of it for you, as you’ll see. Moreover, model parameters will generally be updated directly by the optimizers, so you will rarely need to update variables manually."
   ],
   "metadata": {
    "collapsed": false
   },
   "id": "7ecd9ad85498f5df"
  },
  {
   "cell_type": "markdown",
   "source": [
    "**Other data structures**\n",
    "TensorFlow supports several other data structures, including the following (see the “Other Data Structures” section in this chapter’s notebook or Appendix C for more details):\n",
    "\n",
    "- Sparse tensors (tf.SparseTensor)\n",
    "Efficiently represent tensors containing mostly zeros. The tf.sparse package contains operations for sparse tensors.\n",
    "\n",
    "- Tensor arrays (tf.TensorArray)\n",
    "Are lists of tensors. They have a fixed length by default but can optionally be made extensible. All tensors they contain must have the same shape and data type.\n",
    "\n",
    "- Ragged tensors (tf.RaggedTensor)\n",
    "Represent lists of tensors, all of the same rank and data type, but with varying sizes. The dimensions along which the tensor sizes vary are called the ragged dimensions. The tf.ragged package contains operations for ragged tensors.\n",
    "\n",
    "- String tensors\n",
    "Are regular tensors of type tf.string. These represent byte strings, not Unicode strings, so if you create a string tensor using a Unicode string (e.g., a regular Python 3 string like \"café\"), then it will get encoded to UTF-8 automatically (e.g., b\"caf\\xc3\\xa9\"). Alternatively, you can represent Unicode strings using tensors of type tf.int32, where each item represents a Unicode code point (e.g., [99, 97, 102, 233]). The tf.strings package (with an s) contains ops for byte strings and Unicode strings (and to convert one into the other). It’s important to note that a tf.string is atomic, meaning that its length does not appear in the tensor’s shape. Once you convert it to a Unicode tensor (i.e., a tensor of type tf.int32 holding Unicode code points), the length appears in the shape.\n",
    "\n",
    "- Sets\n",
    "Are represented as regular tensors (or sparse tensors). For example, tf.constant([[1, 2], [3, 4]]) represents the two sets {1, 2} and {3, 4}. More generally, each set is represented by a vector in the tensor’s last axis. You can manipulate sets using operations from the tf.sets package.\n",
    "\n",
    "- Queues\n",
    "Store tensors across multiple steps. TensorFlow offers various kinds of queues: basic first-in, first-out (FIFO) queues (FIFOQueue), plus queues that can prioritize some items (PriorityQueue), shuffle their items (RandomShuffleQueue), and batch items of different shapes by padding (PaddingFIFOQueue). These classes are all in the tf.queue package.\n",
    "\n",
    "With tensors, operations, variables, and various data structures at your disposal, you are now ready to customize your models and training algorithms!"
   ],
   "metadata": {
    "collapsed": false
   },
   "id": "1728295af7a44954"
  },
  {
   "cell_type": "markdown",
   "source": [
    "**STRINGS**"
   ],
   "metadata": {
    "collapsed": false
   },
   "id": "804970a18ba89a26"
  },
  {
   "cell_type": "code",
   "outputs": [
    {
     "data": {
      "text/plain": "<tf.Tensor: shape=(), dtype=string, numpy=b'hello world'>"
     },
     "execution_count": 741,
     "metadata": {},
     "output_type": "execute_result"
    }
   ],
   "source": [
    "tf.constant(b\"hello world\")"
   ],
   "metadata": {
    "collapsed": false,
    "ExecuteTime": {
     "end_time": "2024-03-03T12:23:16.119459Z",
     "start_time": "2024-03-03T12:23:16.115136Z"
    }
   },
   "id": "99a8b68efb3037eb",
   "execution_count": 741
  },
  {
   "cell_type": "code",
   "outputs": [
    {
     "data": {
      "text/plain": "<tf.Tensor: shape=(), dtype=string, numpy=b'caf\\xc3\\xa9'>"
     },
     "execution_count": 742,
     "metadata": {},
     "output_type": "execute_result"
    }
   ],
   "source": [
    "tf.constant(\"café\")"
   ],
   "metadata": {
    "collapsed": false,
    "ExecuteTime": {
     "end_time": "2024-03-03T12:23:16.283642Z",
     "start_time": "2024-03-03T12:23:16.280031Z"
    }
   },
   "id": "1fdb847194f531ff",
   "execution_count": 742
  },
  {
   "cell_type": "code",
   "outputs": [
    {
     "data": {
      "text/plain": "<tf.Tensor: shape=(4,), dtype=int32, numpy=array([ 99,  97, 102, 233])>"
     },
     "execution_count": 743,
     "metadata": {},
     "output_type": "execute_result"
    }
   ],
   "source": [
    "u = tf.constant([ord(c) for c in \"café\"])\n",
    "u"
   ],
   "metadata": {
    "collapsed": false,
    "ExecuteTime": {
     "end_time": "2024-03-03T12:23:16.685398Z",
     "start_time": "2024-03-03T12:23:16.681606Z"
    }
   },
   "id": "aba5dc655806a6ad",
   "execution_count": 743
  },
  {
   "cell_type": "code",
   "outputs": [
    {
     "data": {
      "text/plain": "<tf.Tensor: shape=(), dtype=int32, numpy=4>"
     },
     "execution_count": 744,
     "metadata": {},
     "output_type": "execute_result"
    }
   ],
   "source": [
    "b = tf.strings.unicode_encode(u, \"UTF-8\")\n",
    "tf.strings.length(b, unit=\"UTF8_CHAR\")"
   ],
   "metadata": {
    "collapsed": false,
    "ExecuteTime": {
     "end_time": "2024-03-03T12:23:16.861249Z",
     "start_time": "2024-03-03T12:23:16.851955Z"
    }
   },
   "id": "a32667b95d4ce4f0",
   "execution_count": 744
  },
  {
   "cell_type": "code",
   "outputs": [
    {
     "data": {
      "text/plain": "<tf.Tensor: shape=(4,), dtype=int32, numpy=array([ 99,  97, 102, 233])>"
     },
     "execution_count": 745,
     "metadata": {},
     "output_type": "execute_result"
    }
   ],
   "source": [
    "tf.strings.unicode_decode(b, \"UTF-8\")"
   ],
   "metadata": {
    "collapsed": false,
    "ExecuteTime": {
     "end_time": "2024-03-03T12:23:17.220073Z",
     "start_time": "2024-03-03T12:23:17.215304Z"
    }
   },
   "id": "61b8b6666fcef37b",
   "execution_count": 745
  },
  {
   "cell_type": "markdown",
   "source": [
    "**STRING ARRAYS**\n"
   ],
   "metadata": {
    "collapsed": false
   },
   "id": "967b08a3ca4a23a6"
  },
  {
   "cell_type": "code",
   "outputs": [
    {
     "data": {
      "text/plain": "<tf.Tensor: shape=(), dtype=string, numpy=b'hello world'>"
     },
     "execution_count": 746,
     "metadata": {},
     "output_type": "execute_result"
    }
   ],
   "source": [
    "\n",
    "tf.constant(b\"hello world\")"
   ],
   "metadata": {
    "collapsed": false,
    "ExecuteTime": {
     "end_time": "2024-03-03T12:23:17.383071Z",
     "start_time": "2024-03-03T12:23:17.379648Z"
    }
   },
   "id": "5efafb7ed9010ef6",
   "execution_count": 746
  },
  {
   "cell_type": "code",
   "outputs": [
    {
     "data": {
      "text/plain": "<tf.Tensor: shape=(), dtype=string, numpy=b'caf\\xc3\\xa9'>"
     },
     "execution_count": 747,
     "metadata": {},
     "output_type": "execute_result"
    }
   ],
   "source": [
    "\n",
    "tf.constant(\"café\")"
   ],
   "metadata": {
    "collapsed": false,
    "ExecuteTime": {
     "end_time": "2024-03-03T12:23:17.786364Z",
     "start_time": "2024-03-03T12:23:17.783003Z"
    }
   },
   "id": "bbe4b77c3bc6454a",
   "execution_count": 747
  },
  {
   "cell_type": "code",
   "outputs": [
    {
     "data": {
      "text/plain": "<tf.Tensor: shape=(4,), dtype=int32, numpy=array([ 99,  97, 102, 233])>"
     },
     "execution_count": 748,
     "metadata": {},
     "output_type": "execute_result"
    }
   ],
   "source": [
    "\n",
    "u = tf.constant([ord(c) for c in \"café\"])\n",
    "u"
   ],
   "metadata": {
    "collapsed": false,
    "ExecuteTime": {
     "end_time": "2024-03-03T12:23:17.954363Z",
     "start_time": "2024-03-03T12:23:17.949928Z"
    }
   },
   "id": "d37b76e2a1d1e29c",
   "execution_count": 748
  },
  {
   "cell_type": "code",
   "outputs": [
    {
     "data": {
      "text/plain": "<tf.Tensor: shape=(), dtype=string, numpy=b'caf\\xc3\\xa9'>"
     },
     "execution_count": 749,
     "metadata": {},
     "output_type": "execute_result"
    }
   ],
   "source": [
    "b = tf.strings.unicode_encode(u, \"UTF-8\")\n",
    "b"
   ],
   "metadata": {
    "collapsed": false,
    "ExecuteTime": {
     "end_time": "2024-03-03T12:23:18.314232Z",
     "start_time": "2024-03-03T12:23:18.309417Z"
    }
   },
   "id": "ed9afc09ede4b39",
   "execution_count": 749
  },
  {
   "cell_type": "code",
   "outputs": [
    {
     "data": {
      "text/plain": "<tf.Tensor: shape=(), dtype=int32, numpy=4>"
     },
     "execution_count": 750,
     "metadata": {},
     "output_type": "execute_result"
    }
   ],
   "source": [
    "tf.strings.length(b, unit=\"UTF8_CHAR\")"
   ],
   "metadata": {
    "collapsed": false,
    "ExecuteTime": {
     "end_time": "2024-03-03T12:23:18.485802Z",
     "start_time": "2024-03-03T12:23:18.481786Z"
    }
   },
   "id": "3057a80c294bf7dc",
   "execution_count": 750
  },
  {
   "cell_type": "code",
   "outputs": [
    {
     "data": {
      "text/plain": "<tf.Tensor: shape=(4,), dtype=int32, numpy=array([ 99,  97, 102, 233])>"
     },
     "execution_count": 751,
     "metadata": {},
     "output_type": "execute_result"
    }
   ],
   "source": [
    "\n",
    "tf.strings.unicode_decode(b, \"UTF-8\")"
   ],
   "metadata": {
    "collapsed": false,
    "ExecuteTime": {
     "end_time": "2024-03-03T12:23:18.857375Z",
     "start_time": "2024-03-03T12:23:18.852863Z"
    }
   },
   "id": "ca19aa0f8f59fd71",
   "execution_count": 751
  },
  {
   "cell_type": "code",
   "outputs": [],
   "source": [
    "\n",
    "p = tf.constant([\"Café\", \"Coffee\", \"caffè\", \"咖啡\"])"
   ],
   "metadata": {
    "collapsed": false,
    "ExecuteTime": {
     "end_time": "2024-03-03T12:23:19.033233Z",
     "start_time": "2024-03-03T12:23:19.030913Z"
    }
   },
   "id": "c1a2398f2e09111f",
   "execution_count": 752
  },
  {
   "cell_type": "code",
   "outputs": [
    {
     "data": {
      "text/plain": "<tf.Tensor: shape=(4,), dtype=int32, numpy=array([4, 6, 5, 2])>"
     },
     "execution_count": 753,
     "metadata": {},
     "output_type": "execute_result"
    }
   ],
   "source": [
    "\n",
    "tf.strings.length(p, unit=\"UTF8_CHAR\")"
   ],
   "metadata": {
    "collapsed": false,
    "ExecuteTime": {
     "end_time": "2024-03-03T12:23:19.346322Z",
     "start_time": "2024-03-03T12:23:19.342408Z"
    }
   },
   "id": "57baf204f52b3ff1",
   "execution_count": 753
  },
  {
   "cell_type": "code",
   "outputs": [
    {
     "data": {
      "text/plain": "<tf.RaggedTensor [[67, 97, 102, 233], [67, 111, 102, 102, 101, 101],\n [99, 97, 102, 102, 232], [21654, 21857]]>"
     },
     "execution_count": 754,
     "metadata": {},
     "output_type": "execute_result"
    }
   ],
   "source": [
    "r = tf.strings.unicode_decode(p, \"UTF8\")\n",
    "r"
   ],
   "metadata": {
    "collapsed": false,
    "ExecuteTime": {
     "end_time": "2024-03-03T12:23:19.517196Z",
     "start_time": "2024-03-03T12:23:19.511904Z"
    }
   },
   "id": "c96d4cfb2ef917b6",
   "execution_count": 754
  },
  {
   "cell_type": "markdown",
   "source": [
    "**RAGGED TENSORS**\n"
   ],
   "metadata": {
    "collapsed": false
   },
   "id": "7791ae2786aee9b"
  },
  {
   "cell_type": "code",
   "outputs": [
    {
     "data": {
      "text/plain": "<tf.Tensor: shape=(6,), dtype=int32, numpy=array([ 67, 111, 102, 102, 101, 101])>"
     },
     "execution_count": 755,
     "metadata": {},
     "output_type": "execute_result"
    }
   ],
   "source": [
    "r[1]"
   ],
   "metadata": {
    "collapsed": false,
    "ExecuteTime": {
     "end_time": "2024-03-03T12:23:19.791910Z",
     "start_time": "2024-03-03T12:23:19.782511Z"
    }
   },
   "id": "dab2ddd9a7034a61",
   "execution_count": 755
  },
  {
   "cell_type": "code",
   "outputs": [
    {
     "data": {
      "text/plain": "<tf.RaggedTensor [[67, 111, 102, 102, 101, 101], [99, 97, 102, 102, 232]]>"
     },
     "execution_count": 756,
     "metadata": {},
     "output_type": "execute_result"
    }
   ],
   "source": [
    "r[1:3]  # extra code – a slice of a ragged tensor is a ragged tensor"
   ],
   "metadata": {
    "collapsed": false,
    "ExecuteTime": {
     "end_time": "2024-03-03T12:23:19.960757Z",
     "start_time": "2024-03-03T12:23:19.949491Z"
    }
   },
   "id": "722db2bd2a53fd22",
   "execution_count": 756
  },
  {
   "cell_type": "code",
   "outputs": [
    {
     "data": {
      "text/plain": "<tf.RaggedTensor [[67, 97, 102, 233], [67, 111, 102, 102, 101, 101],\n [99, 97, 102, 102, 232], [21654, 21857], [65, 66], [], [67]]>"
     },
     "execution_count": 757,
     "metadata": {},
     "output_type": "execute_result"
    }
   ],
   "source": [
    "r2 = tf.ragged.constant([[65, 66], [], [67]])\n",
    "tf.concat([r, r2], axis=0)"
   ],
   "metadata": {
    "collapsed": false,
    "ExecuteTime": {
     "end_time": "2024-03-03T12:23:20.355325Z",
     "start_time": "2024-03-03T12:23:20.346728Z"
    }
   },
   "id": "9efdb7103b61a381",
   "execution_count": 757
  },
  {
   "cell_type": "code",
   "outputs": [
    {
     "name": "stdout",
     "output_type": "stream",
     "text": [
      "<tf.RaggedTensor [[67, 97, 102, 233, 68, 69, 70], [67, 111, 102, 102, 101, 101, 71],\n",
      " [99, 97, 102, 102, 232], [21654, 21857, 72, 73]]>\n"
     ]
    }
   ],
   "source": [
    "r3 = tf.ragged.constant([[68, 69, 70], [71], [], [72, 73]])\n",
    "print(tf.concat([r, r3], axis=1))"
   ],
   "metadata": {
    "collapsed": false,
    "ExecuteTime": {
     "end_time": "2024-03-03T12:23:20.529563Z",
     "start_time": "2024-03-03T12:23:20.515897Z"
    }
   },
   "id": "9d65eaa91577ac5c",
   "execution_count": 758
  },
  {
   "cell_type": "code",
   "outputs": [
    {
     "data": {
      "text/plain": "<tf.Tensor: shape=(4, 6), dtype=int32, numpy=\narray([[   67,    97,   102,   233,     0,     0],\n       [   67,   111,   102,   102,   101,   101],\n       [   99,    97,   102,   102,   232,     0],\n       [21654, 21857,     0,     0,     0,     0]])>"
     },
     "execution_count": 759,
     "metadata": {},
     "output_type": "execute_result"
    }
   ],
   "source": [
    "r.to_tensor()"
   ],
   "metadata": {
    "collapsed": false,
    "ExecuteTime": {
     "end_time": "2024-03-03T12:23:20.877Z",
     "start_time": "2024-03-03T12:23:20.870652Z"
    }
   },
   "id": "be8e2b443c5a9dae",
   "execution_count": 759
  },
  {
   "cell_type": "markdown",
   "source": [
    "**SPARSE TENSORS**"
   ],
   "metadata": {
    "collapsed": false
   },
   "id": "73f07327cb783a96"
  },
  {
   "cell_type": "code",
   "outputs": [],
   "source": [
    "\n",
    "s = tf.SparseTensor(indices=[[0, 1], [1, 0], [2, 3]],\n",
    "                    values=[1., 2., 3.],\n",
    "                    dense_shape=[3, 4])"
   ],
   "metadata": {
    "collapsed": false,
    "ExecuteTime": {
     "end_time": "2024-03-03T12:23:21.041225Z",
     "start_time": "2024-03-03T12:23:21.037572Z"
    }
   },
   "id": "96cdfbc9591e7ba8",
   "execution_count": 760
  },
  {
   "cell_type": "code",
   "outputs": [
    {
     "data": {
      "text/plain": "<tf.Tensor: shape=(3, 4), dtype=float32, numpy=\narray([[0., 1., 0., 0.],\n       [2., 0., 0., 0.],\n       [0., 0., 0., 3.]], dtype=float32)>"
     },
     "execution_count": 761,
     "metadata": {},
     "output_type": "execute_result"
    }
   ],
   "source": [
    "tf.sparse.to_dense(s)"
   ],
   "metadata": {
    "collapsed": false,
    "ExecuteTime": {
     "end_time": "2024-03-03T12:23:21.434115Z",
     "start_time": "2024-03-03T12:23:21.429190Z"
    }
   },
   "id": "c07ffcf18db1cfc",
   "execution_count": 761
  },
  {
   "cell_type": "code",
   "outputs": [
    {
     "data": {
      "text/plain": "SparseTensor(indices=tf.Tensor(\n[[0 1]\n [1 0]\n [2 3]], shape=(3, 2), dtype=int64), values=tf.Tensor([ 42.  84. 126.], shape=(3,), dtype=float32), dense_shape=tf.Tensor([3 4], shape=(2,), dtype=int64))"
     },
     "execution_count": 762,
     "metadata": {},
     "output_type": "execute_result"
    }
   ],
   "source": [
    "s * 42.0"
   ],
   "metadata": {
    "collapsed": false,
    "ExecuteTime": {
     "end_time": "2024-03-03T12:23:21.581350Z",
     "start_time": "2024-03-03T12:23:21.576763Z"
    }
   },
   "id": "3a352e731d627052",
   "execution_count": 762
  },
  {
   "cell_type": "code",
   "outputs": [
    {
     "name": "stdout",
     "output_type": "stream",
     "text": [
      "unsupported operand type(s) for +: 'SparseTensor' and 'float'\n"
     ]
    }
   ],
   "source": [
    "try:\n",
    "    s + 42.0\n",
    "except TypeError as ex:\n",
    "    print(ex)"
   ],
   "metadata": {
    "collapsed": false,
    "ExecuteTime": {
     "end_time": "2024-03-03T12:23:21.814645Z",
     "start_time": "2024-03-03T12:23:21.811736Z"
    }
   },
   "id": "2d0acb605d24cd2e",
   "execution_count": 763
  },
  {
   "cell_type": "code",
   "outputs": [
    {
     "data": {
      "text/plain": "<tf.Tensor: shape=(3, 2), dtype=float32, numpy=\narray([[ 30.,  40.],\n       [ 20.,  40.],\n       [210., 240.]], dtype=float32)>"
     },
     "execution_count": 764,
     "metadata": {},
     "output_type": "execute_result"
    }
   ],
   "source": [
    "# extra code – shows how to multiply a sparse tensor and a dense tensor\n",
    "s4 = tf.constant([[10., 20.], [30., 40.], [50., 60.], [70., 80.]])\n",
    "tf.sparse.sparse_dense_matmul(s, s4)"
   ],
   "metadata": {
    "collapsed": false,
    "ExecuteTime": {
     "end_time": "2024-03-03T12:23:22.018017Z",
     "start_time": "2024-03-03T12:23:22.013143Z"
    }
   },
   "id": "5531c7347dbb683b",
   "execution_count": 764
  },
  {
   "cell_type": "code",
   "outputs": [
    {
     "name": "stdout",
     "output_type": "stream",
     "text": [
      "{{function_node __wrapped__SparseToDense_device_/job:localhost/replica:0/task:0/device:CPU:0}} indices[1] = [0,1] is out of order. Many sparse ops require sorted indices.\n",
      "    Use `tf.sparse.reorder` to create a correctly ordered copy.\n",
      "\n",
      " [Op:SparseToDense] name: \n"
     ]
    }
   ],
   "source": [
    "# extra code – when creating a sparse tensor, values must be given in \"reading\n",
    "#              order\", or else `to_dense()` will fail.\n",
    "s5 = tf.SparseTensor(indices=[[0, 2], [0, 1]],  # WRONG ORDER!\n",
    "                     values=[1., 2.],\n",
    "                     dense_shape=[3, 4])\n",
    "try:\n",
    "    tf.sparse.to_dense(s5)\n",
    "except tf.errors.InvalidArgumentError as ex:\n",
    "    print(ex)"
   ],
   "metadata": {
    "collapsed": false,
    "ExecuteTime": {
     "end_time": "2024-03-03T12:23:22.373710Z",
     "start_time": "2024-03-03T12:23:22.369112Z"
    }
   },
   "id": "53069c969d9542b",
   "execution_count": 765
  },
  {
   "cell_type": "code",
   "outputs": [
    {
     "data": {
      "text/plain": "<tf.Tensor: shape=(3, 4), dtype=float32, numpy=\narray([[0., 2., 1., 0.],\n       [0., 0., 0., 0.],\n       [0., 0., 0., 0.]], dtype=float32)>"
     },
     "execution_count": 766,
     "metadata": {},
     "output_type": "execute_result"
    }
   ],
   "source": [
    "# extra code – shows how to fix the sparse tensor s5 by reordering its values\n",
    "s6 = tf.sparse.reorder(s5)\n",
    "tf.sparse.to_dense(s6)"
   ],
   "metadata": {
    "collapsed": false,
    "ExecuteTime": {
     "end_time": "2024-03-03T12:23:22.544763Z",
     "start_time": "2024-03-03T12:23:22.539270Z"
    }
   },
   "id": "ae2791624990af65",
   "execution_count": 766
  },
  {
   "cell_type": "markdown",
   "source": [
    "**TENSOR ARRAYS**\n"
   ],
   "metadata": {
    "collapsed": false
   },
   "id": "594abb03f558bbb9"
  },
  {
   "cell_type": "code",
   "outputs": [],
   "source": [
    "array = tf.TensorArray(dtype=tf.float32, size=3)\n",
    "array = array.write(0, tf.constant([1., 2.]))\n",
    "array = array.write(1, tf.constant([3., 10.]))\n",
    "array = array.write(2, tf.constant([5., 7.]))\n",
    "tensor1 = array.read(1)  # returns (and zeros out!) tf.constant([3., 10.])"
   ],
   "metadata": {
    "collapsed": false,
    "ExecuteTime": {
     "end_time": "2024-03-03T12:23:22.909604Z",
     "start_time": "2024-03-03T12:23:22.905800Z"
    }
   },
   "id": "bbedefc9e82e1022",
   "execution_count": 767
  },
  {
   "cell_type": "code",
   "outputs": [
    {
     "data": {
      "text/plain": "<tf.Tensor: shape=(3, 2), dtype=float32, numpy=\narray([[1., 2.],\n       [0., 0.],\n       [5., 7.]], dtype=float32)>"
     },
     "execution_count": 768,
     "metadata": {},
     "output_type": "execute_result"
    }
   ],
   "source": [
    "array.stack()"
   ],
   "metadata": {
    "collapsed": false,
    "ExecuteTime": {
     "end_time": "2024-03-03T12:23:23.078142Z",
     "start_time": "2024-03-03T12:23:23.073169Z"
    }
   },
   "id": "88de5fc100559b1d",
   "execution_count": 768
  },
  {
   "cell_type": "code",
   "outputs": [
    {
     "data": {
      "text/plain": "<tf.Tensor: shape=(3, 2), dtype=float32, numpy=\narray([[ 1.,  2.],\n       [ 3., 10.],\n       [ 5.,  7.]], dtype=float32)>"
     },
     "execution_count": 769,
     "metadata": {},
     "output_type": "execute_result"
    }
   ],
   "source": [
    "\n",
    "# extra code – shows how to disable clear_after_read\n",
    "array2 = tf.TensorArray(dtype=tf.float32, size=3, clear_after_read=False)\n",
    "array2 = array2.write(0, tf.constant([1., 2.]))\n",
    "array2 = array2.write(1, tf.constant([3., 10.]))\n",
    "array2 = array2.write(2, tf.constant([5., 7.]))\n",
    "tensor2 = array2.read(1)  # returns tf.constant([3., 10.])\n",
    "array2.stack()"
   ],
   "metadata": {
    "collapsed": false,
    "ExecuteTime": {
     "end_time": "2024-03-03T12:23:23.435712Z",
     "start_time": "2024-03-03T12:23:23.430203Z"
    }
   },
   "id": "d37d264ba41d0923",
   "execution_count": 769
  },
  {
   "cell_type": "code",
   "outputs": [
    {
     "data": {
      "text/plain": "<tf.Tensor: shape=(3, 2), dtype=float32, numpy=\narray([[1., 2.],\n       [0., 0.],\n       [5., 7.]], dtype=float32)>"
     },
     "execution_count": 770,
     "metadata": {},
     "output_type": "execute_result"
    }
   ],
   "source": [
    "# extra code – shows how to create and use a tensor array with a dynamic size\n",
    "array3 = tf.TensorArray(dtype=tf.float32, size=0, dynamic_size=True)\n",
    "array3 = array3.write(0, tf.constant([1., 2.]))\n",
    "array3 = array3.write(1, tf.constant([3., 10.]))\n",
    "array3 = array3.write(2, tf.constant([5., 7.]))\n",
    "tensor3 = array3.read(1)\n",
    "array3.stack()"
   ],
   "metadata": {
    "collapsed": false,
    "ExecuteTime": {
     "end_time": "2024-03-03T12:23:23.601977Z",
     "start_time": "2024-03-03T12:23:23.596313Z"
    }
   },
   "id": "b750fe6f3ac17dab",
   "execution_count": 770
  },
  {
   "cell_type": "markdown",
   "source": [
    "**SETS**\n"
   ],
   "metadata": {
    "collapsed": false
   },
   "id": "20d53267590ec4a0"
  },
  {
   "cell_type": "code",
   "outputs": [
    {
     "data": {
      "text/plain": "SparseTensor(indices=tf.Tensor(\n[[0 0]\n [0 1]\n [0 2]\n [0 3]\n [0 4]], shape=(5, 2), dtype=int64), values=tf.Tensor([ 1  5  6  9 11], shape=(5,), dtype=int32), dense_shape=tf.Tensor([1 5], shape=(2,), dtype=int64))"
     },
     "execution_count": 771,
     "metadata": {},
     "output_type": "execute_result"
    }
   ],
   "source": [
    "a = tf.constant([[1, 5, 9]])\n",
    "b = tf.constant([[5, 6, 9, 11]])\n",
    "u = tf.sets.union(a, b)\n",
    "u"
   ],
   "metadata": {
    "collapsed": false,
    "ExecuteTime": {
     "end_time": "2024-03-03T12:23:23.944165Z",
     "start_time": "2024-03-03T12:23:23.937084Z"
    }
   },
   "id": "2e99eab793fadb67",
   "execution_count": 771
  },
  {
   "cell_type": "code",
   "outputs": [
    {
     "data": {
      "text/plain": "<tf.Tensor: shape=(1, 5), dtype=int32, numpy=array([[ 1,  5,  6,  9, 11]])>"
     },
     "execution_count": 772,
     "metadata": {},
     "output_type": "execute_result"
    }
   ],
   "source": [
    "\n",
    "tf.sparse.to_dense(u)"
   ],
   "metadata": {
    "collapsed": false,
    "ExecuteTime": {
     "end_time": "2024-03-03T12:23:24.116814Z",
     "start_time": "2024-03-03T12:23:24.110722Z"
    }
   },
   "id": "fcfbc0344b62fde9",
   "execution_count": 772
  },
  {
   "cell_type": "code",
   "outputs": [
    {
     "data": {
      "text/plain": "<tf.Tensor: shape=(2, 5), dtype=int32, numpy=\narray([[ 1,  5,  6,  9, 11],\n       [ 0, 10, 13,  0,  0]])>"
     },
     "execution_count": 773,
     "metadata": {},
     "output_type": "execute_result"
    }
   ],
   "source": [
    "\n",
    "a = tf.constant([[1, 5, 9], [10, 0, 0]])\n",
    "b = tf.constant([[5, 6, 9, 11], [13, 0, 0, 0]])\n",
    "u = tf.sets.union(a, b)\n",
    "tf.sparse.to_dense(u)"
   ],
   "metadata": {
    "collapsed": false,
    "ExecuteTime": {
     "end_time": "2024-03-03T12:23:24.497176Z",
     "start_time": "2024-03-03T12:23:24.491843Z"
    }
   },
   "id": "f4d99f26adc80908",
   "execution_count": 773
  },
  {
   "cell_type": "code",
   "outputs": [
    {
     "data": {
      "text/plain": "<tf.Tensor: shape=(2, 5), dtype=int32, numpy=\narray([[ 1,  5,  6,  9, 11],\n       [-1, 10, 13, -1, -1]])>"
     },
     "execution_count": 774,
     "metadata": {},
     "output_type": "execute_result"
    }
   ],
   "source": [
    "# extra code – shows how to use a different default value: -1 in this case\n",
    "a = tf.constant([[1, 5, 9], [10, -1, -1]])\n",
    "b = tf.constant([[5, 6, 9, 11], [13, -1, -1, -1]])\n",
    "u = tf.sets.union(a, b)\n",
    "tf.sparse.to_dense(u, default_value=-1)"
   ],
   "metadata": {
    "collapsed": false,
    "ExecuteTime": {
     "end_time": "2024-03-03T12:23:24.661527Z",
     "start_time": "2024-03-03T12:23:24.655753Z"
    }
   },
   "id": "4e656ef46c017e40",
   "execution_count": 774
  },
  {
   "cell_type": "code",
   "outputs": [
    {
     "data": {
      "text/plain": "<tf.Tensor: shape=(2, 3), dtype=int32, numpy=\narray([[2, 3, 7],\n       [7, 0, 0]])>"
     },
     "execution_count": 775,
     "metadata": {},
     "output_type": "execute_result"
    }
   ],
   "source": [
    "# extra code – shows how to use `tf.sets.difference()`\n",
    "set1 = tf.constant([[2, 3, 5, 7], [7, 9, 0, 0]])\n",
    "set2 = tf.constant([[4, 5, 6], [9, 10, 0]])\n",
    "tf.sparse.to_dense(tf.sets.difference(set1, set2))"
   ],
   "metadata": {
    "collapsed": false,
    "ExecuteTime": {
     "end_time": "2024-03-03T12:23:25.036075Z",
     "start_time": "2024-03-03T12:23:25.030571Z"
    }
   },
   "id": "3bf6dfab7953bd10",
   "execution_count": 775
  },
  {
   "cell_type": "code",
   "outputs": [
    {
     "data": {
      "text/plain": "<tf.Tensor: shape=(2, 2), dtype=int32, numpy=\narray([[5, 0],\n       [0, 9]])>"
     },
     "execution_count": 776,
     "metadata": {},
     "output_type": "execute_result"
    }
   ],
   "source": [
    "# extra code – shows how to use `tf.sets.difference()`\n",
    "tf.sparse.to_dense(tf.sets.intersection(set1, set2))"
   ],
   "metadata": {
    "collapsed": false,
    "ExecuteTime": {
     "end_time": "2024-03-03T12:23:25.212642Z",
     "start_time": "2024-03-03T12:23:25.207620Z"
    }
   },
   "id": "547eb14afd8ab3ba",
   "execution_count": 776
  },
  {
   "cell_type": "code",
   "outputs": [
    {
     "data": {
      "text/plain": "<tf.Tensor: shape=(1,), dtype=bool, numpy=array([ True])>"
     },
     "execution_count": 777,
     "metadata": {},
     "output_type": "execute_result"
    }
   ],
   "source": [
    "# extra code – check whether set1[0] contains 5\n",
    "tf.sets.size(tf.sets.intersection(set1[:1], tf.constant([[5, 0, 0, 0]]))) > 0"
   ],
   "metadata": {
    "collapsed": false,
    "ExecuteTime": {
     "end_time": "2024-03-03T12:23:25.533124Z",
     "start_time": "2024-03-03T12:23:25.525834Z"
    }
   },
   "id": "34257f331be7c5d3",
   "execution_count": 777
  },
  {
   "cell_type": "markdown",
   "source": [
    "**QUEUES**"
   ],
   "metadata": {
    "collapsed": false
   },
   "id": "10934f3d5769ad65"
  },
  {
   "cell_type": "code",
   "outputs": [
    {
     "data": {
      "text/plain": "<tf.Tensor: shape=(), dtype=int32, numpy=2>"
     },
     "execution_count": 778,
     "metadata": {},
     "output_type": "execute_result"
    }
   ],
   "source": [
    "q = tf.queue.FIFOQueue(3, [tf.int32, tf.string], shapes=[(), ()])\n",
    "q.enqueue([10, b\"windy\"])\n",
    "q.enqueue([15, b\"sunny\"])\n",
    "q.size()"
   ],
   "metadata": {
    "collapsed": false,
    "ExecuteTime": {
     "end_time": "2024-03-03T12:23:25.698871Z",
     "start_time": "2024-03-03T12:23:25.691730Z"
    }
   },
   "id": "ca0aeade98d0c165",
   "execution_count": 778
  },
  {
   "cell_type": "code",
   "outputs": [
    {
     "data": {
      "text/plain": "[<tf.Tensor: shape=(), dtype=int32, numpy=10>,\n <tf.Tensor: shape=(), dtype=string, numpy=b'windy'>]"
     },
     "execution_count": 779,
     "metadata": {},
     "output_type": "execute_result"
    }
   ],
   "source": [
    "q.dequeue()"
   ],
   "metadata": {
    "collapsed": false,
    "ExecuteTime": {
     "end_time": "2024-03-03T12:23:26.079479Z",
     "start_time": "2024-03-03T12:23:26.074868Z"
    }
   },
   "id": "502e838b84975d27",
   "execution_count": 779
  },
  {
   "cell_type": "code",
   "outputs": [],
   "source": [
    "\n",
    "q.enqueue_many([[13, 16], [b'cloudy', b'rainy']])"
   ],
   "metadata": {
    "collapsed": false,
    "ExecuteTime": {
     "end_time": "2024-03-03T12:23:26.244951Z",
     "start_time": "2024-03-03T12:23:26.241050Z"
    }
   },
   "id": "8ade37b073b25caf",
   "execution_count": 780
  },
  {
   "cell_type": "code",
   "outputs": [
    {
     "data": {
      "text/plain": "[<tf.Tensor: shape=(3,), dtype=int32, numpy=array([15, 13, 16])>,\n <tf.Tensor: shape=(3,), dtype=string, numpy=array([b'sunny', b'cloudy', b'rainy'], dtype=object)>]"
     },
     "execution_count": 781,
     "metadata": {},
     "output_type": "execute_result"
    }
   ],
   "source": [
    "q.dequeue_many(3)"
   ],
   "metadata": {
    "collapsed": false,
    "ExecuteTime": {
     "end_time": "2024-03-03T12:23:26.555262Z",
     "start_time": "2024-03-03T12:23:26.551134Z"
    }
   },
   "id": "cd1ecab58416f084",
   "execution_count": 781
  },
  {
   "cell_type": "markdown",
   "source": [
    "# CUSTOMIZING MODELS AND TRAINING ALGORITHMS\n",
    "You’ll start by creating a custom loss function, which is a straightforward and common use case."
   ],
   "metadata": {
    "collapsed": false
   },
   "id": "4b70bccf7ad3f334"
  },
  {
   "cell_type": "markdown",
   "source": [
    "**Custom loss function**\n",
    "Suppose you want to train a regression model, but your training set is a bit noisy. Of course, you start by trying to clean up your dataset by removing or fixing the outliers, but that turns out to be insufficient; the dataset is still noisy. Which loss function should you use? The mean squared error might penalize large errors too much and cause your model to be imprecise. The mean absolute error would not penalize outliers as much, but training might take a while to converge, and the trained model might not be very precise. This is probably a good time to use the Huber loss (introduced in Chapter 10) instead of the good old MSE. The Huber loss is available in Keras (just use an instance of the tf.keras.losses.Huber class), but let’s pretend it’s not there. To implement it, just create a function that takes the labels and the model’s predictions as arguments, and uses TensorFlow operations to compute a tensor containing all the losses (one per sample):"
   ],
   "metadata": {
    "collapsed": false
   },
   "id": "5a8fc802df9a76d9"
  },
  {
   "cell_type": "code",
   "outputs": [],
   "source": [
    "def huber_fn(y_true, y_pred):\n",
    "    error = y_true - y_pred\n",
    "    is_small_error = tf.abs(error) < 1\n",
    "    squared_loss = tf.square(error) / 2\n",
    "    linear_loss = tf.abs(error) - 0.5\n",
    "    return tf.where(is_small_error, squared_loss, linear_loss)"
   ],
   "metadata": {
    "collapsed": false,
    "ExecuteTime": {
     "end_time": "2024-03-03T12:23:26.718383Z",
     "start_time": "2024-03-03T12:23:26.715835Z"
    }
   },
   "id": "a94f589f2be2c237",
   "execution_count": 782
  },
  {
   "cell_type": "code",
   "outputs": [
    {
     "data": {
      "text/plain": "<Figure size 800x350 with 1 Axes>",
      "image/png": "[encoded data removed]"
     },
     "metadata": {},
     "output_type": "display_data"
    }
   ],
   "source": [
    "# extra code – shows what the Huber loss looks like\n",
    "\n",
    "import matplotlib.pyplot as plt\n",
    "\n",
    "plt.figure(figsize=(8, 3.5))\n",
    "z = np.linspace(-4, 4, 200)\n",
    "z_center = np.linspace(-1, 1, 200)\n",
    "plt.plot(z, huber_fn(0, z), \"b-\", linewidth=2, label=\"huber($z$)\")\n",
    "plt.plot(z, z ** 2 / 2, \"r:\", linewidth=1)\n",
    "plt.plot(z_center, z_center ** 2 / 2, \"r\", linewidth=2)\n",
    "plt.plot([-1, -1], [0, huber_fn(0., -1.)], \"k--\")\n",
    "plt.plot([1, 1], [0, huber_fn(0., 1.)], \"k--\")\n",
    "plt.gca().axhline(y=0, color='k')\n",
    "plt.gca().axvline(x=0, color='k')\n",
    "plt.text(2.1, 3.5, r\"$\\frac{1}{2}z^2$\", color=\"r\", fontsize=15)\n",
    "plt.text(3.0, 2.2, r\"$|z| - \\frac{1}{2}$\", color=\"b\", fontsize=15)\n",
    "plt.axis([-4, 4, 0, 4])\n",
    "plt.grid(True)\n",
    "plt.xlabel(\"$z$\")\n",
    "plt.legend(fontsize=14)\n",
    "plt.title(\"Huber loss\", fontsize=14)\n",
    "plt.show()"
   ],
   "metadata": {
    "collapsed": false,
    "ExecuteTime": {
     "end_time": "2024-03-03T12:23:27.182423Z",
     "start_time": "2024-03-03T12:23:27.017585Z"
    }
   },
   "id": "af8265e8f1552dd3",
   "execution_count": 783
  },
  {
   "cell_type": "markdown",
   "source": [
    "WARNING\n",
    "For better performance, you should use a vectorized implementation, as in this example. Moreover, if you want to benefit from TensorFlow’s graph optimization features, you should use only TensorFlow operations."
   ],
   "metadata": {
    "collapsed": false
   },
   "id": "1277eff5f48e9151"
  },
  {
   "cell_type": "markdown",
   "source": [
    "It is also possible to return the mean loss instead of the individual sample losses, but this is not recommended as it makes it impossible to use class weights or sample weights when you need them (see Chapter 10).\n",
    "\n",
    "Now you can use this Huber loss function when you compile the Keras model, then train your model as usual:"
   ],
   "metadata": {
    "collapsed": false
   },
   "id": "1d0994f7592e1d4"
  },
  {
   "cell_type": "markdown",
   "source": [
    "\n",
    "To test our custom loss function, let's create a basic Keras model and train it on the California housing dataset:"
   ],
   "metadata": {
    "collapsed": false
   },
   "id": "5d6efdb274cc18ea"
  },
  {
   "cell_type": "code",
   "outputs": [],
   "source": [
    "# extra code – loads, splits and scales the California housing dataset, then\n",
    "#              creates a simple Keras model\n",
    "\n",
    "from sklearn.datasets import fetch_california_housing\n",
    "from sklearn.model_selection import train_test_split\n",
    "from sklearn.preprocessing import StandardScaler\n",
    "\n",
    "housing = fetch_california_housing()\n",
    "X_train_full, X_test, y_train_full, y_test = train_test_split(\n",
    "    housing.data, housing.target.reshape(-1, 1), random_state=42)\n",
    "X_train, X_valid, y_train, y_valid = train_test_split(\n",
    "    X_train_full, y_train_full, random_state=42)\n",
    "\n",
    "scaler = StandardScaler()\n",
    "X_train_scaled = scaler.fit_transform(X_train)\n",
    "X_valid_scaled = scaler.transform(X_valid)\n",
    "X_test_scaled = scaler.transform(X_test)\n",
    "\n",
    "input_shape = X_train.shape[1:]\n",
    "\n",
    "tf.keras.utils.set_random_seed(42)\n",
    "model = tf.keras.Sequential([\n",
    "    tf.keras.layers.Dense(30, activation=\"relu\", kernel_initializer=\"he_normal\",\n",
    "                          input_shape=input_shape),\n",
    "    tf.keras.layers.Dense(1),\n",
    "])"
   ],
   "metadata": {
    "collapsed": false,
    "ExecuteTime": {
     "end_time": "2024-03-03T12:23:27.227783Z",
     "start_time": "2024-03-03T12:23:27.183421Z"
    }
   },
   "id": "dcd96c78562dedfb",
   "execution_count": 784
  },
  {
   "cell_type": "code",
   "outputs": [
    {
     "name": "stdout",
     "output_type": "stream",
     "text": [
      "Epoch 1/2\n",
      "363/363 [==============================] - 1s 1ms/step - loss: 0.4858 - mae: 0.8357 - val_loss: 0.3479 - val_mae: 0.6527\n",
      "Epoch 2/2\n",
      "363/363 [==============================] - 0s 1ms/step - loss: 0.2415 - mae: 0.5419 - val_loss: 0.2630 - val_mae: 0.5473\n"
     ]
    },
    {
     "data": {
      "text/plain": "<keras.src.callbacks.History at 0x17688447490>"
     },
     "execution_count": 785,
     "metadata": {},
     "output_type": "execute_result"
    }
   ],
   "source": [
    "model.compile(loss=huber_fn, optimizer=\"nadam\", metrics=[\"mae\"])\n",
    "model.fit(X_train_scaled, y_train, epochs=2,\n",
    "          validation_data=(X_valid_scaled, y_valid))"
   ],
   "metadata": {
    "collapsed": false,
    "ExecuteTime": {
     "end_time": "2024-03-03T12:23:29.025323Z",
     "start_time": "2024-03-03T12:23:27.485097Z"
    }
   },
   "id": "8953f7a16fdde02c",
   "execution_count": 785
  },
  {
   "cell_type": "markdown",
   "source": [
    "And that’s it! For each batch during training, Keras will call the huber_fn() function to compute the loss, then it will use reverse-mode autodiff to compute the gradients of the loss with regard to all the model parameters, and finally it will perform a gradient descent step (in this example using a Nadam optimizer). Moreover, it will keep track of the total loss since the beginning of the epoch, and it will display the mean loss.\n",
    "\n",
    "But what happens to this custom loss when you save the model?"
   ],
   "metadata": {
    "collapsed": false
   },
   "id": "a0b51dcb624d6b79"
  },
  {
   "cell_type": "markdown",
   "source": [
    "**Saving and Loading Models That Contain Custom Components**\n",
    "Saving a model containing a custom loss function works fine, but when you load it, you’ll need to provide a dictionary that maps the function name to the actual function. More generally, when you load a model containing custom objects, you need to map the names to the objects:\n",
    "\n"
   ],
   "metadata": {
    "collapsed": false
   },
   "id": "caec75a4b56378d9"
  },
  {
   "cell_type": "code",
   "outputs": [
    {
     "name": "stdout",
     "output_type": "stream",
     "text": [
      "INFO:tensorflow:Assets written to: saved_models/my_model_with_a_custom_loss\\assets\n"
     ]
    },
    {
     "name": "stderr",
     "output_type": "stream",
     "text": [
      "INFO:tensorflow:Assets written to: saved_models/my_model_with_a_custom_loss\\assets\n"
     ]
    }
   ],
   "source": [
    "model.save(\"saved_models/my_model_with_a_custom_loss\")  # extra code – saving works"
   ],
   "metadata": {
    "collapsed": false,
    "ExecuteTime": {
     "end_time": "2024-03-03T12:23:29.286178Z",
     "start_time": "2024-03-03T12:23:29.026322Z"
    }
   },
   "id": "920f35a5185730b1",
   "execution_count": 786
  },
  {
   "cell_type": "code",
   "outputs": [],
   "source": [
    "model = tf.keras.models.load_model(\"saved_models/my_model_with_a_custom_loss\",\n",
    "                                   custom_objects={\"huber_fn\": huber_fn})"
   ],
   "metadata": {
    "collapsed": false,
    "ExecuteTime": {
     "end_time": "2024-03-03T12:23:29.399742Z",
     "start_time": "2024-03-03T12:23:29.287205Z"
    }
   },
   "id": "9231d7da258e2152",
   "execution_count": 787
  },
  {
   "cell_type": "code",
   "outputs": [
    {
     "name": "stdout",
     "output_type": "stream",
     "text": [
      "Epoch 1/2\n",
      "363/363 [==============================] - 1s 1ms/step - loss: 0.2052 - mae: 0.4910 - val_loss: 0.2210 - val_mae: 0.4946\n",
      "Epoch 2/2\n",
      "363/363 [==============================] - 0s 1ms/step - loss: 0.1888 - mae: 0.4683 - val_loss: 0.2021 - val_mae: 0.4773\n"
     ]
    },
    {
     "data": {
      "text/plain": "<keras.src.callbacks.History at 0x17689849490>"
     },
     "execution_count": 788,
     "metadata": {},
     "output_type": "execute_result"
    }
   ],
   "source": [
    "\n",
    "model.fit(X_train_scaled, y_train, epochs=2,\n",
    "          validation_data=(X_valid_scaled, y_valid))"
   ],
   "metadata": {
    "collapsed": false,
    "ExecuteTime": {
     "end_time": "2024-03-03T12:23:30.863260Z",
     "start_time": "2024-03-03T12:23:29.400740Z"
    }
   },
   "id": "e0ed262472abbfdc",
   "execution_count": 788
  },
  {
   "cell_type": "markdown",
   "source": [
    "TIP\n",
    "If you decorate the huber_fn() function with @keras.utils.register_keras_serializable(), it will automatically be available to the load_model() function: there’s no need to include it in the custom_objects dictionary."
   ],
   "metadata": {
    "collapsed": false
   },
   "id": "e9c021b84b026d97"
  },
  {
   "cell_type": "markdown",
   "source": [
    "With the current implementation, any error between –1 and 1 is considered “small”. But what if you want a different threshold? One solution is to create a function that creates a configured loss function:"
   ],
   "metadata": {
    "collapsed": false
   },
   "id": "5fc7050c64379829"
  },
  {
   "cell_type": "code",
   "outputs": [],
   "source": [
    "def create_huber(threshold=1.0):\n",
    "    def huber_fn(y_true, y_pred):\n",
    "        error = y_true - y_pred\n",
    "        is_small_error = tf.abs(error) < threshold\n",
    "        squared_loss = tf.square(error) / 2\n",
    "        linear_loss = threshold * tf.abs(error) - threshold ** 2 / 2\n",
    "        return tf.where(is_small_error, squared_loss, linear_loss)\n",
    "\n",
    "    return huber_fn\n"
   ],
   "metadata": {
    "collapsed": false,
    "ExecuteTime": {
     "end_time": "2024-03-03T12:23:30.866514Z",
     "start_time": "2024-03-03T12:23:30.863260Z"
    }
   },
   "id": "86f42b1e7a96dd76",
   "execution_count": 789
  },
  {
   "cell_type": "code",
   "outputs": [],
   "source": [
    "\n",
    "model.compile(loss=create_huber(2.0), optimizer=\"nadam\")"
   ],
   "metadata": {
    "collapsed": false,
    "ExecuteTime": {
     "end_time": "2024-03-03T12:23:30.874779Z",
     "start_time": "2024-03-03T12:23:30.866514Z"
    }
   },
   "id": "a22dddcbc094346b",
   "execution_count": 790
  },
  {
   "cell_type": "code",
   "outputs": [
    {
     "name": "stdout",
     "output_type": "stream",
     "text": [
      "Epoch 1/2\n",
      "363/363 [==============================] - 1s 1ms/step - loss: 0.2051 - val_loss: 0.2249\n",
      "Epoch 2/2\n",
      "363/363 [==============================] - 0s 1ms/step - loss: 0.1982 - val_loss: 0.2035\n"
     ]
    },
    {
     "data": {
      "text/plain": "<keras.src.callbacks.History at 0x17689a1b010>"
     },
     "execution_count": 791,
     "metadata": {},
     "output_type": "execute_result"
    }
   ],
   "source": [
    "\n",
    "model.fit(X_train_scaled, y_train, epochs=2,\n",
    "          validation_data=(X_valid_scaled, y_valid))"
   ],
   "metadata": {
    "collapsed": false,
    "ExecuteTime": {
     "end_time": "2024-03-03T12:23:32.343855Z",
     "start_time": "2024-03-03T12:23:30.874779Z"
    }
   },
   "id": "af259af74d36ec20",
   "execution_count": 791
  },
  {
   "cell_type": "markdown",
   "source": [
    "Unfortunately, when you save the model, the threshold will not be saved. This means that you will have to specify the threshold value when loading the model (note that the name to use is \"huber_fn\", which is the name of the function you gave Keras, not the name of the function that created it):"
   ],
   "metadata": {
    "collapsed": false
   },
   "id": "30624296317e628c"
  },
  {
   "cell_type": "code",
   "outputs": [
    {
     "name": "stdout",
     "output_type": "stream",
     "text": [
      "INFO:tensorflow:Assets written to: saved_models/my_model_with_a_custom_loss_threshold_2\\assets\n"
     ]
    },
    {
     "name": "stderr",
     "output_type": "stream",
     "text": [
      "INFO:tensorflow:Assets written to: saved_models/my_model_with_a_custom_loss_threshold_2\\assets\n"
     ]
    }
   ],
   "source": [
    "model.save(\"saved_models/my_model_with_a_custom_loss_threshold_2\")"
   ],
   "metadata": {
    "collapsed": false,
    "ExecuteTime": {
     "end_time": "2024-03-03T12:23:32.582346Z",
     "start_time": "2024-03-03T12:23:32.344882Z"
    }
   },
   "id": "453a25ed62f7abca",
   "execution_count": 792
  },
  {
   "cell_type": "code",
   "outputs": [],
   "source": [
    "model = tf.keras.models.load_model(\n",
    "    \"saved_models/my_model_with_a_custom_loss_threshold_2\",\n",
    "    custom_objects={\"huber_fn\": create_huber(2.0)}\n",
    ")"
   ],
   "metadata": {
    "collapsed": false,
    "ExecuteTime": {
     "end_time": "2024-03-03T12:23:32.689028Z",
     "start_time": "2024-03-03T12:23:32.583368Z"
    }
   },
   "id": "314812340168017",
   "execution_count": 793
  },
  {
   "cell_type": "code",
   "outputs": [
    {
     "name": "stdout",
     "output_type": "stream",
     "text": [
      "Epoch 1/2\n",
      "363/363 [==============================] - 1s 1ms/step - loss: 0.1935 - val_loss: 0.2020\n",
      "Epoch 2/2\n",
      "363/363 [==============================] - 0s 995us/step - loss: 0.1899 - val_loss: 0.1867\n"
     ]
    },
    {
     "data": {
      "text/plain": "<keras.src.callbacks.History at 0x1768ac738d0>"
     },
     "execution_count": 794,
     "metadata": {},
     "output_type": "execute_result"
    }
   ],
   "source": [
    "model.fit(X_train_scaled, y_train, epochs=2,\n",
    "          validation_data=(X_valid_scaled, y_valid))"
   ],
   "metadata": {
    "collapsed": false,
    "ExecuteTime": {
     "end_time": "2024-03-03T12:23:34.059771Z",
     "start_time": "2024-03-03T12:23:32.690028Z"
    }
   },
   "id": "7694179e80a823e0",
   "execution_count": 794
  },
  {
   "cell_type": "markdown",
   "source": [
    "You can solve this by creating a subclass of the tf.keras.losses.Loss class, and then implementing its get_config() method:"
   ],
   "metadata": {
    "collapsed": false
   },
   "id": "226095032cfb9f1c"
  },
  {
   "cell_type": "code",
   "outputs": [],
   "source": [
    "class HuberLoss(tf.keras.losses.Loss):\n",
    "    def __init__(self, threshold=1.0, **kwargs):\n",
    "        self.threshold = threshold\n",
    "        super().__init__(**kwargs)\n",
    "\n",
    "    def call(self, y_true, y_pred):\n",
    "        error = y_true - y_pred\n",
    "        is_small_error = tf.abs(error) < self.threshold\n",
    "        squared_loss = tf.square(error) / 2\n",
    "        linear_loss = self.threshold * tf.abs(error) - self.threshold ** 2 / 2\n",
    "        return tf.where(is_small_error, squared_loss, linear_loss)\n",
    "\n",
    "    def get_config(self):\n",
    "        base_config = super().get_config()\n",
    "        return {**base_config, \"threshold\": self.threshold}"
   ],
   "metadata": {
    "collapsed": false,
    "ExecuteTime": {
     "end_time": "2024-03-03T12:23:34.064053Z",
     "start_time": "2024-03-03T12:23:34.059771Z"
    }
   },
   "id": "3b0bb34ee627ea5c",
   "execution_count": 795
  },
  {
   "cell_type": "markdown",
   "source": [
    "Let’s walk through this code:\n",
    "\n",
    "- The constructor accepts **kwargs and passes them to the parent constructor, which handles standard hyperparameters: the name of the loss and the reduction algorithm to use to aggregate the individual instance losses. By default this is \"AUTO\", which is equivalent to \"SUM_OVER_BATCH_SIZE\": the loss will be the sum of the instance losses, weighted by the sample weights, if any, and divided by the batch size (not by the sum of weights, so this is not the weighted mean). Other possible values are \"SUM\" and \"NONE\".\n",
    "\n",
    "- The call() method takes the labels and predictions, computes all the instance losses, and returns them.\n",
    "\n",
    "- The get_config() method returns a dictionary mapping each hyperparameter name to its value. It first calls the parent class’s get_config() method, then adds the new hyperparameters to this dictionary.\n",
    "\n",
    "You can then use any instance of this class when you compile the model:"
   ],
   "metadata": {
    "collapsed": false
   },
   "id": "35c6ddc1170febd4"
  },
  {
   "cell_type": "code",
   "outputs": [],
   "source": [
    "\n",
    "# extra code – creates another basic Keras model\n",
    "tf.keras.utils.set_random_seed(42)\n",
    "model = tf.keras.Sequential([\n",
    "    tf.keras.layers.Dense(30, activation=\"relu\", kernel_initializer=\"he_normal\",\n",
    "                          input_shape=input_shape),\n",
    "    tf.keras.layers.Dense(1),\n",
    "])"
   ],
   "metadata": {
    "collapsed": false,
    "ExecuteTime": {
     "end_time": "2024-03-03T12:23:34.101005Z",
     "start_time": "2024-03-03T12:23:34.065052Z"
    }
   },
   "id": "c539eecc7c82ecc5",
   "execution_count": 796
  },
  {
   "cell_type": "code",
   "outputs": [],
   "source": [
    "model.compile(loss=HuberLoss(2.), optimizer=\"nadam\")"
   ],
   "metadata": {
    "collapsed": false,
    "ExecuteTime": {
     "end_time": "2024-03-03T12:23:34.109941Z",
     "start_time": "2024-03-03T12:23:34.101005Z"
    }
   },
   "id": "d098dcc1e1b47249",
   "execution_count": 797
  },
  {
   "cell_type": "code",
   "outputs": [
    {
     "name": "stdout",
     "output_type": "stream",
     "text": [
      "Epoch 1/2\n",
      "363/363 [==============================] - 1s 1ms/step - loss: 0.6492 - val_loss: 0.5093\n",
      "Epoch 2/2\n",
      "363/363 [==============================] - 0s 989us/step - loss: 0.2912 - val_loss: 0.3715\n"
     ]
    },
    {
     "data": {
      "text/plain": "<keras.src.callbacks.History at 0x1768ae56d90>"
     },
     "execution_count": 798,
     "metadata": {},
     "output_type": "execute_result"
    }
   ],
   "source": [
    "model.fit(X_train_scaled, y_train, epochs=2,\n",
    "          validation_data=(X_valid_scaled, y_valid))"
   ],
   "metadata": {
    "collapsed": false,
    "ExecuteTime": {
     "end_time": "2024-03-03T12:23:35.503699Z",
     "start_time": "2024-03-03T12:23:34.109941Z"
    }
   },
   "id": "284e3a30e775992",
   "execution_count": 798
  },
  {
   "cell_type": "markdown",
   "source": [
    "When you save the model, the threshold will be saved along with it; and when you load the model, you just need to map the class name to the class itself:"
   ],
   "metadata": {
    "collapsed": false
   },
   "id": "470bd9481521194"
  },
  {
   "cell_type": "code",
   "outputs": [
    {
     "name": "stdout",
     "output_type": "stream",
     "text": [
      "INFO:tensorflow:Assets written to: saved_models/my_model_with_a_custom_loss_class\\assets\n"
     ]
    },
    {
     "name": "stderr",
     "output_type": "stream",
     "text": [
      "INFO:tensorflow:Assets written to: saved_models/my_model_with_a_custom_loss_class\\assets\n"
     ]
    }
   ],
   "source": [
    "model.save(\"saved_models/my_model_with_a_custom_loss_class\")  # extra code – saving works"
   ],
   "metadata": {
    "collapsed": false,
    "ExecuteTime": {
     "end_time": "2024-03-03T12:23:35.760851Z",
     "start_time": "2024-03-03T12:23:35.504698Z"
    }
   },
   "id": "21e9f942f30c131f",
   "execution_count": 799
  },
  {
   "cell_type": "code",
   "outputs": [],
   "source": [
    "model = tf.keras.models.load_model(\"saved_models/my_model_with_a_custom_loss_class\",\n",
    "                                   custom_objects={\"HuberLoss\": HuberLoss})"
   ],
   "metadata": {
    "collapsed": false,
    "ExecuteTime": {
     "end_time": "2024-03-03T12:23:35.903492Z",
     "start_time": "2024-03-03T12:23:35.761850Z"
    }
   },
   "id": "d1c644a4ef9d7d2c",
   "execution_count": 800
  },
  {
   "cell_type": "code",
   "outputs": [
    {
     "name": "stdout",
     "output_type": "stream",
     "text": [
      "Epoch 1/2\n",
      "363/363 [==============================] - 1s 1ms/step - loss: 0.2416 - val_loss: 0.2922\n",
      "Epoch 2/2\n",
      "363/363 [==============================] - 0s 1ms/step - loss: 0.2173 - val_loss: 0.2503\n"
     ]
    },
    {
     "data": {
      "text/plain": "<keras.src.callbacks.History at 0x1768d08aad0>"
     },
     "execution_count": 801,
     "metadata": {},
     "output_type": "execute_result"
    }
   ],
   "source": [
    "# extra code – shows that loading worked fine, the model can be used normally\n",
    "model.fit(X_train_scaled, y_train, epochs=2,\n",
    "          validation_data=(X_valid_scaled, y_valid))"
   ],
   "metadata": {
    "collapsed": false,
    "ExecuteTime": {
     "end_time": "2024-03-03T12:23:37.361818Z",
     "start_time": "2024-03-03T12:23:35.903492Z"
    }
   },
   "id": "fe97c7520464d80b",
   "execution_count": 801
  },
  {
   "cell_type": "code",
   "outputs": [
    {
     "data": {
      "text/plain": "2.0"
     },
     "execution_count": 802,
     "metadata": {},
     "output_type": "execute_result"
    }
   ],
   "source": [
    "model.loss.threshold  # extra code – the treshold was loaded correctly"
   ],
   "metadata": {
    "collapsed": false,
    "ExecuteTime": {
     "end_time": "2024-03-03T12:23:37.365426Z",
     "start_time": "2024-03-03T12:23:37.361818Z"
    }
   },
   "id": "2d7e98aecd3b176",
   "execution_count": 802
  },
  {
   "cell_type": "markdown",
   "source": [
    "When you save a model, Keras calls the loss instance’s get_config() method and saves the config in the SavedModel format. When you load the model, it calls the from_config() class method on the HuberLoss class: this method is implemented by the base class (Loss) and creates an instance of the class, passing **config to the constructor.\n",
    "\n",
    "That’s it for losses! As you’ll see now, custom activation functions, initializers, regularizers, and constraints are not much different."
   ],
   "metadata": {
    "collapsed": false
   },
   "id": "41b887c96e5355c9"
  },
  {
   "cell_type": "markdown",
   "source": [
    "**Custom Activation Functions, Initializers, Regularizers, and Constraints**\n",
    "Most Keras functionalities, such as losses, regularizers, constraints, initializers, metrics, activation functions, layers, and even full models, can be customized in much the same way. Most of the time, you will just need to write a simple function with the appropriate inputs and outputs. Here are examples of a custom activation function (equivalent to tf.keras.activations.softplus() or tf.nn.softplus()), a custom Glorot initializer (equivalent to tf.keras.initializers.glorot_normal()), a custom ℓ1 regularizer (equivalent to tf.keras.regularizers.l1(0.01)), and a custom constraint that ensures weights are all positive (equivalent to tf.keras.​con⁠straints.nonneg() or tf.nn.relu()):"
   ],
   "metadata": {
    "collapsed": false
   },
   "id": "a9fbb2bbd95e9509"
  },
  {
   "cell_type": "code",
   "outputs": [],
   "source": [
    "def my_softplus(z):\n",
    "    return tf.math.log(1.0 + tf.exp(z))\n",
    "\n",
    "\n",
    "def my_glorot_initializer(shape, dtype=tf.float32):\n",
    "    stddev = tf.sqrt(2. / (shape[0] + shape[1]))\n",
    "    return tf.random.normal(shape, stddev=stddev, dtype=dtype)\n",
    "\n",
    "\n",
    "def my_l1_regularizer(weights):\n",
    "    return tf.reduce_sum(tf.abs(0.01 * weights))\n",
    "\n",
    "\n",
    "def my_positive_weights(weights):  # return value is just tf.nn.relu(weights)\n",
    "    return tf.where(weights < 0., tf.zeros_like(weights), weights)"
   ],
   "metadata": {
    "collapsed": false,
    "ExecuteTime": {
     "end_time": "2024-03-03T12:23:37.369516Z",
     "start_time": "2024-03-03T12:23:37.365426Z"
    }
   },
   "id": "5915c115c0ce8766",
   "execution_count": 803
  },
  {
   "cell_type": "markdown",
   "source": [
    "As you can see, the arguments depend on the type of custom function. These custom functions can then be used normally, as shown here:"
   ],
   "metadata": {
    "collapsed": false
   },
   "id": "5e6f87b59a3669e"
  },
  {
   "cell_type": "code",
   "outputs": [],
   "source": [
    "layer = tf.keras.layers.Dense(1, activation=my_softplus,\n",
    "                              kernel_initializer=my_glorot_initializer,\n",
    "                              kernel_regularizer=my_l1_regularizer,\n",
    "                              kernel_constraint=my_positive_weights)"
   ],
   "metadata": {
    "collapsed": false,
    "ExecuteTime": {
     "end_time": "2024-03-03T12:23:37.373933Z",
     "start_time": "2024-03-03T12:23:37.369516Z"
    }
   },
   "id": "693364c41e7c58b9",
   "execution_count": 804
  },
  {
   "cell_type": "code",
   "outputs": [
    {
     "name": "stdout",
     "output_type": "stream",
     "text": [
      "Epoch 1/2\n",
      "363/363 [==============================] - 1s 1ms/step - loss: 1.4714 - mae: 0.8316 - val_loss: inf - val_mae: inf\n",
      "Epoch 2/2\n",
      "363/363 [==============================] - 0s 986us/step - loss: 0.8094 - mae: 0.6172 - val_loss: 2.6153 - val_mae: 0.6058\n",
      "INFO:tensorflow:Assets written to: saved_models/my_model_with_many_custom_parts\\assets\n"
     ]
    },
    {
     "name": "stderr",
     "output_type": "stream",
     "text": [
      "INFO:tensorflow:Assets written to: saved_models/my_model_with_many_custom_parts\\assets\n"
     ]
    },
    {
     "name": "stdout",
     "output_type": "stream",
     "text": [
      "Epoch 1/2\n",
      "363/363 [==============================] - 1s 1ms/step - loss: 0.6333 - mae: 0.5617 - val_loss: 1.1687 - val_mae: 0.5468\n",
      "Epoch 2/2\n",
      "363/363 [==============================] - 0s 995us/step - loss: 0.5570 - mae: 0.5303 - val_loss: 1.0440 - val_mae: 0.5250\n"
     ]
    },
    {
     "data": {
      "text/plain": "<keras.src.callbacks.History at 0x1768ac62890>"
     },
     "execution_count": 805,
     "metadata": {},
     "output_type": "execute_result"
    }
   ],
   "source": [
    "\n",
    "# extra code – show that building, training, saving, loading, and training again\n",
    "#              works fine with a model containing many custom parts\n",
    "\n",
    "tf.keras.utils.set_random_seed(42)\n",
    "model = tf.keras.Sequential([\n",
    "    tf.keras.layers.Dense(30, activation=\"relu\", kernel_initializer=\"he_normal\",\n",
    "                          input_shape=input_shape),\n",
    "    tf.keras.layers.Dense(1, activation=my_softplus,\n",
    "                          kernel_initializer=my_glorot_initializer,\n",
    "                          kernel_regularizer=my_l1_regularizer,\n",
    "                          kernel_constraint=my_positive_weights)\n",
    "])\n",
    "model.compile(loss=\"mse\", optimizer=\"nadam\", metrics=[\"mae\"])\n",
    "model.fit(X_train_scaled, y_train, epochs=2,\n",
    "          validation_data=(X_valid_scaled, y_valid))\n",
    "model.save(\"saved_models/my_model_with_many_custom_parts\")\n",
    "model = tf.keras.models.load_model(\n",
    "    \"saved_models/my_model_with_many_custom_parts\",\n",
    "    custom_objects={\n",
    "       \"my_l1_regularizer\": my_l1_regularizer,\n",
    "       \"my_positive_weights\": my_positive_weights,\n",
    "       \"my_glorot_initializer\": my_glorot_initializer,\n",
    "       \"my_softplus\": my_softplus,\n",
    "    }\n",
    ")\n",
    "model.fit(X_train_scaled, y_train, epochs=2,\n",
    "          validation_data=(X_valid_scaled, y_valid))"
   ],
   "metadata": {
    "collapsed": false,
    "ExecuteTime": {
     "end_time": "2024-03-03T12:23:41.176135Z",
     "start_time": "2024-03-03T12:23:37.374932Z"
    }
   },
   "id": "a59cad57b3832e59",
   "execution_count": 805
  },
  {
   "cell_type": "markdown",
   "source": [
    "The activation function will be applied to the output of this Dense layer, and its result will be passed on to the next layer. The layer’s weights will be initialized using the value returned by the initializer. At each training step the weights will be passed to the regularization function to compute the regularization loss, which will be added to the main loss to get the final loss used for training. Finally, the constraint function will be called after each training step, and the layer’s weights will be replaced by the constrained weights.\n",
    "\n",
    "If a function has hyperparameters that need to be saved along with the model, then you will want to subclass the appropriate class, such as tf.keras.regularizers.Regularizer, tf.keras.constraints.Constraint, tf.keras.initializers.Initializer, or tf.keras.layers.Layer (for any layer, including activation functions). Much as you did for the custom loss, here is a simple class for ℓ1 regularization that saves its factor hyperparameter (this time you do not need to call the parent constructor or the get_config() method, as they are not defined by the parent class):"
   ],
   "metadata": {
    "collapsed": false
   },
   "id": "258935128da2b45f"
  },
  {
   "cell_type": "code",
   "outputs": [],
   "source": [
    "class MyL1Regularizer(tf.keras.regularizers.Regularizer):\n",
    "    def __init__(self, factor):\n",
    "        self.factor = factor\n",
    "\n",
    "    def __call__(self, weights):\n",
    "        return tf.reduce_sum(tf.abs(self.factor * weights))\n",
    "\n",
    "    def get_config(self):\n",
    "        return {\"factor\": self.factor}"
   ],
   "metadata": {
    "collapsed": false,
    "ExecuteTime": {
     "end_time": "2024-03-03T12:23:41.179353Z",
     "start_time": "2024-03-03T12:23:41.176135Z"
    }
   },
   "id": "7c2f5cb5cd176617",
   "execution_count": 806
  },
  {
   "cell_type": "code",
   "outputs": [
    {
     "name": "stdout",
     "output_type": "stream",
     "text": [
      "Epoch 1/2\n",
      "363/363 [==============================] - 1s 1ms/step - loss: 1.4714 - mae: 0.8316 - val_loss: inf - val_mae: inf\n",
      "Epoch 2/2\n",
      "363/363 [==============================] - 0s 1ms/step - loss: 0.8094 - mae: 0.6172 - val_loss: 2.6153 - val_mae: 0.6058\n",
      "INFO:tensorflow:Assets written to: saved_models/my_model_with_many_custom_parts\\assets\n"
     ]
    },
    {
     "name": "stderr",
     "output_type": "stream",
     "text": [
      "INFO:tensorflow:Assets written to: saved_models/my_model_with_many_custom_parts\\assets\n"
     ]
    },
    {
     "name": "stdout",
     "output_type": "stream",
     "text": [
      "Epoch 1/2\n",
      "363/363 [==============================] - 1s 1ms/step - loss: 0.6333 - mae: 0.5617 - val_loss: 1.1687 - val_mae: 0.5468\n",
      "Epoch 2/2\n",
      "363/363 [==============================] - 0s 1ms/step - loss: 0.5570 - mae: 0.5303 - val_loss: 1.0440 - val_mae: 0.5250\n"
     ]
    },
    {
     "data": {
      "text/plain": "<keras.src.callbacks.History at 0x176f8aeb950>"
     },
     "execution_count": 807,
     "metadata": {},
     "output_type": "execute_result"
    }
   ],
   "source": [
    "\n",
    "# extra code – again, show that everything works fine, this time using our\n",
    "#              custom regularizer class\n",
    "\n",
    "tf.keras.utils.set_random_seed(42)\n",
    "model = tf.keras.Sequential([\n",
    "    tf.keras.layers.Dense(30, activation=\"relu\", kernel_initializer=\"he_normal\",\n",
    "                          input_shape=input_shape),\n",
    "    tf.keras.layers.Dense(1, activation=my_softplus,\n",
    "                          kernel_regularizer=MyL1Regularizer(0.01),\n",
    "                          kernel_constraint=my_positive_weights,\n",
    "                          kernel_initializer=my_glorot_initializer),\n",
    "])\n",
    "model.compile(loss=\"mse\", optimizer=\"nadam\", metrics=[\"mae\"])\n",
    "model.fit(X_train_scaled, y_train, epochs=2,\n",
    "          validation_data=(X_valid_scaled, y_valid))\n",
    "model.save(\"saved_models/my_model_with_many_custom_parts\")\n",
    "model = tf.keras.models.load_model(\n",
    "    \"saved_models/my_model_with_many_custom_parts\",\n",
    "    custom_objects={\n",
    "       \"MyL1Regularizer\": MyL1Regularizer,\n",
    "       \"my_positive_weights\": my_positive_weights,\n",
    "       \"my_glorot_initializer\": my_glorot_initializer,\n",
    "       \"my_softplus\": my_softplus,\n",
    "    }\n",
    ")\n",
    "model.fit(X_train_scaled, y_train, epochs=2,\n",
    "          validation_data=(X_valid_scaled, y_valid))"
   ],
   "metadata": {
    "collapsed": false,
    "ExecuteTime": {
     "end_time": "2024-03-03T12:23:44.564394Z",
     "start_time": "2024-03-03T12:23:41.179353Z"
    }
   },
   "id": "a44a0ce15a05fd84",
   "execution_count": 807
  },
  {
   "cell_type": "markdown",
   "source": [
    "Note that you must implement the call() method for losses, layers (including activation functions), and models, or the `__call__()` method for regularizers, initializers, and constraints. For metrics, things are a bit different, as you will see now."
   ],
   "metadata": {
    "collapsed": false
   },
   "id": "f0d82b89d4698ced"
  },
  {
   "cell_type": "markdown",
   "source": [
    "**Custom Metrics**\n",
    "Losses and metrics are conceptually not the same thing: losses (e.g., cross entropy) are used by gradient descent to train a model, so they must be differentiable (at least at the points where they are evaluated), and their gradients should not be zero everywhere. Plus, it’s OK if they are not easily interpretable by humans. In contrast, metrics (e.g., accuracy) are used to evaluate a model: they must be more easily interpretable, and they can be nondifferentiable or have zero gradients everywhere.\n",
    "\n",
    "That said, in most cases, defining a custom metric function is exactly the same as defining a custom loss function. In fact, we could even use the Huber loss function we created earlier as a metric; it would work just fine (and persistence would also work the same way, in this case only saving the name of the function, \"huber_fn\", not the threshold):"
   ],
   "metadata": {
    "collapsed": false
   },
   "id": "83bb90b79bbda270"
  },
  {
   "cell_type": "code",
   "outputs": [],
   "source": [
    "# extra code – once again, lets' create a basic Keras model\n",
    "tf.keras.utils.set_random_seed(42)\n",
    "model = tf.keras.Sequential([\n",
    "    tf.keras.layers.Dense(30, activation=\"relu\", kernel_initializer=\"he_normal\",\n",
    "                          input_shape=input_shape),\n",
    "    tf.keras.layers.Dense(1),\n",
    "])"
   ],
   "metadata": {
    "collapsed": false,
    "ExecuteTime": {
     "end_time": "2024-03-03T12:23:44.603005Z",
     "start_time": "2024-03-03T12:23:44.564394Z"
    }
   },
   "id": "d16f6c2c5f66f883",
   "execution_count": 808
  },
  {
   "cell_type": "code",
   "outputs": [],
   "source": [
    "model.compile(loss=\"mse\", optimizer=\"nadam\", metrics=[create_huber(2.0)])"
   ],
   "metadata": {
    "collapsed": false,
    "ExecuteTime": {
     "end_time": "2024-03-03T12:23:44.612748Z",
     "start_time": "2024-03-03T12:23:44.604003Z"
    }
   },
   "id": "8ca5a5b775e2ede1",
   "execution_count": 809
  },
  {
   "cell_type": "code",
   "outputs": [
    {
     "name": "stdout",
     "output_type": "stream",
     "text": [
      "Epoch 1/2\n",
      "363/363 [==============================] - 1s 791us/step - loss: 1.7474 - huber_fn: 0.6846\n",
      "Epoch 2/2\n",
      "363/363 [==============================] - 0s 719us/step - loss: 0.7843 - huber_fn: 0.3136\n"
     ]
    },
    {
     "data": {
      "text/plain": "<keras.src.callbacks.History at 0x176844bb490>"
     },
     "execution_count": 810,
     "metadata": {},
     "output_type": "execute_result"
    }
   ],
   "source": [
    "# extra code – train the model with our custom metric\n",
    "model.fit(X_train_scaled, y_train, epochs=2)"
   ],
   "metadata": {
    "collapsed": false,
    "ExecuteTime": {
     "end_time": "2024-03-03T12:23:45.770589Z",
     "start_time": "2024-03-03T12:23:44.613747Z"
    }
   },
   "id": "a94c2a21a04a6e1b",
   "execution_count": 810
  },
  {
   "cell_type": "markdown",
   "source": [
    "extra material\n",
    "Note: if you use the same function as the loss and a metric, you may be surprised to see slightly different results. This is in part because the operations are not computed exactly in the same order, so there might be tiny floating point errors. More importantly, if you use sample weights or class weights, then the equations are a bit different:\n",
    "\n",
    "- the fit() method keeps track of the mean of all batch losses seen so far since the start of the epoch. Each batch loss is the sum of the weighted instance losses divided by the batch size (not the sum of weights, so the batch loss is not the weighted mean of the losses).\n",
    "- the metric since the start of the epoch is equal to the sum of weighted instance losses divided by sum of all weights seen so far. In other words, it is the weighted mean of all the instance losses. Not the same thing."
   ],
   "metadata": {
    "collapsed": false
   },
   "id": "81503fac1e5c4887"
  },
  {
   "cell_type": "markdown",
   "source": [
    "For each batch during training, Keras will compute this metric and keep track of its mean since the beginning of the epoch. Most of the time, this is exactly what you want. But not always! Consider a binary classifier’s precision, for example. As you saw in Chapter 3, precision is the number of true positives divided by the number of positive predictions (including both true positives and false positives). Suppose the model made five positive predictions in the first batch, four of which were correct: that’s 80% precision. Then suppose the model made three positive predictions in the second batch, but they were all incorrect: that’s 0% precision for the second batch. If you just compute the mean of these two precisions, you get 40%. But wait a second—that’s not the model’s precision over these two batches! Indeed, there were a total of four true positives (4 + 0) out of eight positive predictions (5 + 3), so the overall precision is 50%, not 40%. What we need is an object that can keep track of the number of true positives and the number of false positives and that can compute the precision based on these numbers when requested. This is precisely what the tf.keras.metrics.Precision class does:"
   ],
   "metadata": {
    "collapsed": false
   },
   "id": "17745b2491342843"
  },
  {
   "cell_type": "markdown",
   "source": [
    "**STREAMING METRICS**"
   ],
   "metadata": {
    "collapsed": false
   },
   "id": "1ee33988ff544e37"
  },
  {
   "cell_type": "code",
   "outputs": [
    {
     "data": {
      "text/plain": "<tf.Tensor: shape=(), dtype=float32, numpy=0.8>"
     },
     "execution_count": 811,
     "metadata": {},
     "output_type": "execute_result"
    }
   ],
   "source": [
    "precision = tf.keras.metrics.Precision()\n",
    "precision([0, 1, 1, 1, 0, 1, 0, 1], [1, 1, 0, 1, 0, 1, 0, 1])"
   ],
   "metadata": {
    "collapsed": false,
    "ExecuteTime": {
     "end_time": "2024-03-03T12:23:45.792493Z",
     "start_time": "2024-03-03T12:23:45.770589Z"
    }
   },
   "id": "971fd556331f2ec4",
   "execution_count": 811
  },
  {
   "cell_type": "code",
   "outputs": [
    {
     "data": {
      "text/plain": "<tf.Tensor: shape=(), dtype=float32, numpy=0.5>"
     },
     "execution_count": 812,
     "metadata": {},
     "output_type": "execute_result"
    }
   ],
   "source": [
    "precision([0, 1, 0, 0, 1, 0, 1, 1], [1, 0, 1, 1, 0, 0, 0, 0])"
   ],
   "metadata": {
    "collapsed": false,
    "ExecuteTime": {
     "end_time": "2024-03-03T12:23:45.800571Z",
     "start_time": "2024-03-03T12:23:45.792493Z"
    }
   },
   "id": "7a13dbf5af27e8a2",
   "execution_count": 812
  },
  {
   "cell_type": "markdown",
   "source": [
    "In this example, we created a Precision object, then we used it like a function, passing it the labels and predictions for the first batch, then for the second batch (you can optionally pass sample weights as well, if you want). We used the same number of true and false positives as in the example we just discussed. After the first batch, it returns a precision of 80%; then after the second batch, it returns 50% (which is the overall precision so far, not the second batch’s precision). This is called a streaming metric (or stateful metric), as it is gradually updated, batch after batch.\n",
    "\n",
    "At any point, we can call the result() method to get the current value of the metric. We can also look at its variables (tracking the number of true and false positives) by using the variables attribute, and we can reset these variables using the reset_states() method:"
   ],
   "metadata": {
    "collapsed": false
   },
   "id": "b614f117ee9be893"
  },
  {
   "cell_type": "code",
   "outputs": [
    {
     "data": {
      "text/plain": "<tf.Tensor: shape=(), dtype=float32, numpy=0.5>"
     },
     "execution_count": 813,
     "metadata": {},
     "output_type": "execute_result"
    }
   ],
   "source": [
    "precision.result()"
   ],
   "metadata": {
    "collapsed": false,
    "ExecuteTime": {
     "end_time": "2024-03-03T12:23:45.804989Z",
     "start_time": "2024-03-03T12:23:45.800571Z"
    }
   },
   "id": "ccd4eb7852950318",
   "execution_count": 813
  },
  {
   "cell_type": "code",
   "outputs": [
    {
     "data": {
      "text/plain": "[<tf.Variable 'true_positives:0' shape=(1,) dtype=float32, numpy=array([4.], dtype=float32)>,\n <tf.Variable 'false_positives:0' shape=(1,) dtype=float32, numpy=array([4.], dtype=float32)>]"
     },
     "execution_count": 814,
     "metadata": {},
     "output_type": "execute_result"
    }
   ],
   "source": [
    "precision.variables"
   ],
   "metadata": {
    "collapsed": false,
    "ExecuteTime": {
     "end_time": "2024-03-03T12:23:45.809996Z",
     "start_time": "2024-03-03T12:23:45.805988Z"
    }
   },
   "id": "ccfaa69ea0ff401a",
   "execution_count": 814
  },
  {
   "cell_type": "code",
   "outputs": [],
   "source": [
    "precision.reset_states() # both variables get reset to 0.0"
   ],
   "metadata": {
    "collapsed": false,
    "ExecuteTime": {
     "end_time": "2024-03-03T12:23:45.814021Z",
     "start_time": "2024-03-03T12:23:45.809996Z"
    }
   },
   "id": "103c8a4e144e9e54",
   "execution_count": 815
  },
  {
   "cell_type": "markdown",
   "source": [
    "If you need to define your own custom streaming metric, create a subclass of the tf.keras.metrics.Metric class. Here is a basic example that keeps track of the total Huber loss and the number of instances seen so far. When asked for the result, it returns the ratio, which is just the mean Huber loss:"
   ],
   "metadata": {
    "collapsed": false
   },
   "id": "313b6ad847a4f788"
  },
  {
   "cell_type": "code",
   "outputs": [],
   "source": [
    "class HuberMetric(tf.keras.metrics.Metric):\n",
    "    def __init__(self, threshold=1.0, **kwargs):\n",
    "        super().__init__(**kwargs)  # handles base args (e.g., dtype)\n",
    "        self.threshold = threshold\n",
    "        self.huber_fn = create_huber(threshold)\n",
    "        self.total = self.add_weight(\"total\", initializer=\"zeros\")\n",
    "        self.count = self.add_weight(\"count\", initializer=\"zeros\")\n",
    "\n",
    "    def update_state(self, y_true, y_pred, sample_weight=None):\n",
    "        sample_metrics = self.huber_fn(y_true, y_pred)\n",
    "        self.total.assign_add(tf.reduce_sum(sample_metrics))\n",
    "        self.count.assign_add(tf.cast(tf.size(y_true), tf.float32))\n",
    "\n",
    "    def result(self):\n",
    "        return self.total / self.count\n",
    "\n",
    "    def get_config(self):\n",
    "        base_config = super().get_config()\n",
    "        return {**base_config, \"threshold\": self.threshold}"
   ],
   "metadata": {
    "collapsed": false,
    "ExecuteTime": {
     "end_time": "2024-03-03T12:23:45.818495Z",
     "start_time": "2024-03-03T12:23:45.814021Z"
    }
   },
   "id": "9149748381ede66f",
   "execution_count": 816
  },
  {
   "cell_type": "markdown",
   "source": [
    "Let’s walk through this code:\n",
    "\n",
    "- The constructor uses the add_weight() method to create the variables needed to keep track of the metric’s state over multiple batches—in this case, the sum of all Huber losses (total) and the number of instances seen so far (count). You could just create variables manually if you preferred. Keras tracks any tf.Variable that is set as an attribute (and more generally, any “trackable” object, such as layers or models).\n",
    "\n",
    "- The update_state() method is called when you use an instance of this class as a function (as we did with the Precision object). It updates the variables, given the labels and predictions for one batch (and sample weights, but in this case we ignore them).\n",
    "\n",
    "- The result() method computes and returns the final result, in this case the mean Huber metric over all instances. When you use the metric as a function, the update_state() method gets called first, then the result() method is called, and its output is returned.\n",
    "\n",
    "- We also implement the get_config() method to ensure the threshold gets saved along with the model.\n",
    "\n",
    "- The default implementation of the reset_states() method resets all variables to 0.0 (but you can override it if needed)."
   ],
   "metadata": {
    "collapsed": false
   },
   "id": "ff5a422e47beb98"
  },
  {
   "cell_type": "markdown",
   "source": [
    "NOTE\n",
    "Keras will take care of variable persistence seamlessly; no action is required."
   ],
   "metadata": {
    "collapsed": false
   },
   "id": "746d971a77e1dcf0"
  },
  {
   "cell_type": "markdown",
   "source": [
    "Extra material – the rest of this section tests the HuberMetric class and shows another implementation subclassing tf.keras.metrics.Mean."
   ],
   "metadata": {
    "collapsed": false
   },
   "id": "9e6a7b69c43ffe02"
  },
  {
   "cell_type": "code",
   "outputs": [
    {
     "data": {
      "text/plain": "<tf.Tensor: shape=(), dtype=float32, numpy=14.0>"
     },
     "execution_count": 817,
     "metadata": {},
     "output_type": "execute_result"
    }
   ],
   "source": [
    "m = HuberMetric(2.)\n",
    "\n",
    "# total = 2 * |10 - 2| - 2²/2 = 14\n",
    "# count = 1\n",
    "# result = 14 / 1 = 14\n",
    "m(tf.constant([[2.]]), tf.constant([[10.]]))"
   ],
   "metadata": {
    "collapsed": false,
    "ExecuteTime": {
     "end_time": "2024-03-03T12:23:45.831195Z",
     "start_time": "2024-03-03T12:23:45.818495Z"
    }
   },
   "id": "a6613790d9fa9a88",
   "execution_count": 817
  },
  {
   "cell_type": "code",
   "outputs": [
    {
     "data": {
      "text/plain": "<tf.Tensor: shape=(), dtype=float32, numpy=7.0>"
     },
     "execution_count": 818,
     "metadata": {},
     "output_type": "execute_result"
    }
   ],
   "source": [
    "# total = total + (|1 - 0|² / 2) + (2 * |9.25 - 5| - 2² / 2) = 14 + 7 = 21\n",
    "# count = count + 2 = 3\n",
    "# result = total / count = 21 / 3 = 7\n",
    "m(tf.constant([[0.], [5.]]), tf.constant([[1.], [9.25]]))"
   ],
   "metadata": {
    "collapsed": false,
    "ExecuteTime": {
     "end_time": "2024-03-03T12:23:45.838175Z",
     "start_time": "2024-03-03T12:23:45.831195Z"
    }
   },
   "id": "fd6fd1f7b1da3059",
   "execution_count": 818
  },
  {
   "cell_type": "code",
   "outputs": [
    {
     "data": {
      "text/plain": "<tf.Tensor: shape=(), dtype=float32, numpy=7.0>"
     },
     "execution_count": 819,
     "metadata": {},
     "output_type": "execute_result"
    }
   ],
   "source": [
    "m.result()"
   ],
   "metadata": {
    "collapsed": false,
    "ExecuteTime": {
     "end_time": "2024-03-03T12:23:45.843558Z",
     "start_time": "2024-03-03T12:23:45.839174Z"
    }
   },
   "id": "f3953f00e1868452",
   "execution_count": 819
  },
  {
   "cell_type": "code",
   "outputs": [
    {
     "data": {
      "text/plain": "[<tf.Variable 'total:0' shape=() dtype=float32, numpy=21.0>,\n <tf.Variable 'count:0' shape=() dtype=float32, numpy=3.0>]"
     },
     "execution_count": 820,
     "metadata": {},
     "output_type": "execute_result"
    }
   ],
   "source": [
    "m.variables"
   ],
   "metadata": {
    "collapsed": false,
    "ExecuteTime": {
     "end_time": "2024-03-03T12:23:45.849021Z",
     "start_time": "2024-03-03T12:23:45.845583Z"
    }
   },
   "id": "4751bd125f632663",
   "execution_count": 820
  },
  {
   "cell_type": "code",
   "outputs": [
    {
     "data": {
      "text/plain": "[<tf.Variable 'total:0' shape=() dtype=float32, numpy=0.0>,\n <tf.Variable 'count:0' shape=() dtype=float32, numpy=0.0>]"
     },
     "execution_count": 821,
     "metadata": {},
     "output_type": "execute_result"
    }
   ],
   "source": [
    "m.reset_states()\n",
    "m.variables"
   ],
   "metadata": {
    "collapsed": false,
    "ExecuteTime": {
     "end_time": "2024-03-03T12:23:45.853529Z",
     "start_time": "2024-03-03T12:23:45.849021Z"
    }
   },
   "id": "814a2f68fd0e0700",
   "execution_count": 821
  },
  {
   "cell_type": "markdown",
   "source": [
    "Let's check that the HuberMetric class works well:"
   ],
   "metadata": {
    "collapsed": false
   },
   "id": "84ed32312d666f62"
  },
  {
   "cell_type": "code",
   "outputs": [],
   "source": [
    "tf.keras.utils.set_random_seed(42)\n",
    "model = tf.keras.Sequential([\n",
    "    tf.keras.layers.Dense(30, activation=\"relu\", kernel_initializer=\"he_normal\",\n",
    "                          input_shape=input_shape),\n",
    "    tf.keras.layers.Dense(1),\n",
    "])"
   ],
   "metadata": {
    "collapsed": false,
    "ExecuteTime": {
     "end_time": "2024-03-03T12:23:45.884319Z",
     "start_time": "2024-03-03T12:23:45.853529Z"
    }
   },
   "id": "3d41e752e6c70c74",
   "execution_count": 822
  },
  {
   "cell_type": "code",
   "outputs": [],
   "source": [
    "model.compile(loss=create_huber(2.0), optimizer=\"nadam\",\n",
    "              metrics=[HuberMetric(2.0)])"
   ],
   "metadata": {
    "collapsed": false,
    "ExecuteTime": {
     "end_time": "2024-03-03T12:23:45.894509Z",
     "start_time": "2024-03-03T12:23:45.884319Z"
    }
   },
   "id": "eaf2f24d9d429a19",
   "execution_count": 823
  },
  {
   "cell_type": "code",
   "outputs": [
    {
     "name": "stdout",
     "output_type": "stream",
     "text": [
      "Epoch 1/2\n",
      "363/363 [==============================] - 1s 771us/step - loss: 0.6492 - huber_metric_5: 0.6492\n",
      "Epoch 2/2\n",
      "363/363 [==============================] - 0s 951us/step - loss: 0.2912 - huber_metric_5: 0.2912\n"
     ]
    },
    {
     "data": {
      "text/plain": "<keras.src.callbacks.History at 0x176833367d0>"
     },
     "execution_count": 824,
     "metadata": {},
     "output_type": "execute_result"
    }
   ],
   "source": [
    "model.fit(X_train_scaled, y_train, epochs=2)"
   ],
   "metadata": {
    "collapsed": false,
    "ExecuteTime": {
     "end_time": "2024-03-03T12:23:47.173057Z",
     "start_time": "2024-03-03T12:23:45.895509Z"
    }
   },
   "id": "efc85ce391c5e466",
   "execution_count": 824
  },
  {
   "cell_type": "code",
   "outputs": [
    {
     "name": "stdout",
     "output_type": "stream",
     "text": [
      "INFO:tensorflow:Assets written to: saved_models/my_model_with_a_custom_metric\\assets\n"
     ]
    },
    {
     "name": "stderr",
     "output_type": "stream",
     "text": [
      "INFO:tensorflow:Assets written to: saved_models/my_model_with_a_custom_metric\\assets\n"
     ]
    }
   ],
   "source": [
    "model.save(\"saved_models/my_model_with_a_custom_metric\")"
   ],
   "metadata": {
    "collapsed": false,
    "ExecuteTime": {
     "end_time": "2024-03-03T12:23:47.456695Z",
     "start_time": "2024-03-03T12:23:47.175054Z"
    }
   },
   "id": "ebfd27490e97733c",
   "execution_count": 825
  },
  {
   "cell_type": "code",
   "outputs": [],
   "source": [
    "model = tf.keras.models.load_model(\n",
    "    \"saved_models/my_model_with_a_custom_metric\",\n",
    "    custom_objects={\n",
    "        \"huber_fn\": create_huber(2.0),\n",
    "        \"HuberMetric\": HuberMetric\n",
    "    }\n",
    ")"
   ],
   "metadata": {
    "collapsed": false,
    "ExecuteTime": {
     "end_time": "2024-03-03T12:23:47.574440Z",
     "start_time": "2024-03-03T12:23:47.457694Z"
    }
   },
   "id": "2d83584d2af449b3",
   "execution_count": 826
  },
  {
   "cell_type": "code",
   "outputs": [
    {
     "name": "stdout",
     "output_type": "stream",
     "text": [
      "Epoch 1/2\n",
      "363/363 [==============================] - 1s 791us/step - loss: 0.2416 - huber_metric_5: 0.2416\n",
      "Epoch 2/2\n",
      "363/363 [==============================] - 0s 791us/step - loss: 0.2173 - huber_metric_5: 0.2173\n"
     ]
    },
    {
     "data": {
      "text/plain": "<keras.src.callbacks.History at 0x1768d24de50>"
     },
     "execution_count": 827,
     "metadata": {},
     "output_type": "execute_result"
    }
   ],
   "source": [
    "model.fit(X_train_scaled, y_train, epochs=2)"
   ],
   "metadata": {
    "collapsed": false,
    "ExecuteTime": {
     "end_time": "2024-03-03T12:23:48.740396Z",
     "start_time": "2024-03-03T12:23:47.574440Z"
    }
   },
   "id": "508081033ac52d66",
   "execution_count": 827
  },
  {
   "cell_type": "code",
   "outputs": [
    {
     "data": {
      "text/plain": "2.0"
     },
     "execution_count": 828,
     "metadata": {},
     "output_type": "execute_result"
    }
   ],
   "source": [
    "model.metrics[-1].threshold"
   ],
   "metadata": {
    "collapsed": false,
    "ExecuteTime": {
     "end_time": "2024-03-03T12:23:48.745463Z",
     "start_time": "2024-03-03T12:23:48.740396Z"
    }
   },
   "id": "a3b2939ad2e26f6c",
   "execution_count": 828
  },
  {
   "cell_type": "code",
   "outputs": [],
   "source": [
    "class HuberMetric(tf.keras.metrics.Mean):\n",
    "    def __init__(self, threshold=1.0, name='HuberMetric', dtype=None):\n",
    "        self.threshold = threshold\n",
    "        self.huber_fn = create_huber(threshold)\n",
    "        super().__init__(name=name, dtype=dtype)\n",
    "\n",
    "    def update_state(self, y_true, y_pred, sample_weight=None):\n",
    "        metric = self.huber_fn(y_true, y_pred)\n",
    "        super(HuberMetric, self).update_state(metric, sample_weight)\n",
    "\n",
    "    def get_config(self):\n",
    "        base_config = super().get_config()\n",
    "        return {**base_config, \"threshold\": self.threshold}  "
   ],
   "metadata": {
    "collapsed": false,
    "ExecuteTime": {
     "end_time": "2024-03-03T12:23:48.750350Z",
     "start_time": "2024-03-03T12:23:48.746463Z"
    }
   },
   "id": "9396cd9d0ac1c990",
   "execution_count": 829
  },
  {
   "cell_type": "markdown",
   "source": [
    "\n",
    "This class handles shapes better, and it also supports sample weights."
   ],
   "metadata": {
    "collapsed": false
   },
   "id": "c0092d0ccecd5f18"
  },
  {
   "cell_type": "code",
   "outputs": [],
   "source": [
    "tf.keras.utils.set_random_seed(42)\n",
    "model = tf.keras.Sequential([\n",
    "    tf.keras.layers.Dense(30, activation=\"relu\", kernel_initializer=\"he_normal\",\n",
    "                          input_shape=input_shape),\n",
    "    tf.keras.layers.Dense(1),\n",
    "])"
   ],
   "metadata": {
    "collapsed": false,
    "ExecuteTime": {
     "end_time": "2024-03-03T12:23:48.783222Z",
     "start_time": "2024-03-03T12:23:48.751349Z"
    }
   },
   "id": "bce97d17c6cad9bf",
   "execution_count": 830
  },
  {
   "cell_type": "code",
   "outputs": [],
   "source": [
    "model.compile(loss=tf.keras.losses.Huber(2.0), optimizer=\"nadam\",\n",
    "              weighted_metrics=[HuberMetric(2.0)])"
   ],
   "metadata": {
    "collapsed": false,
    "ExecuteTime": {
     "end_time": "2024-03-03T12:23:48.794088Z",
     "start_time": "2024-03-03T12:23:48.783222Z"
    }
   },
   "id": "be74a0d667f4cccb",
   "execution_count": 831
  },
  {
   "cell_type": "code",
   "outputs": [
    {
     "name": "stdout",
     "output_type": "stream",
     "text": [
      "Epoch 1/2\n",
      "363/363 [==============================] - 1s 849us/step - loss: 0.3272 - HuberMetric: 0.6594\n",
      "Epoch 2/2\n",
      "363/363 [==============================] - 0s 838us/step - loss: 0.1449 - HuberMetric: 0.2919\n"
     ]
    }
   ],
   "source": [
    "np.random.seed(42)\n",
    "sample_weight = np.random.rand(len(y_train))\n",
    "history = model.fit(X_train_scaled, y_train, epochs=2,\n",
    "                    sample_weight=sample_weight)"
   ],
   "metadata": {
    "collapsed": false,
    "ExecuteTime": {
     "end_time": "2024-03-03T12:23:50.148697Z",
     "start_time": "2024-03-03T12:23:48.795088Z"
    }
   },
   "id": "db880113b0343009",
   "execution_count": 832
  },
  {
   "cell_type": "code",
   "outputs": [
    {
     "data": {
      "text/plain": "(0.3272010087966919, 0.3272010869771911)"
     },
     "execution_count": 833,
     "metadata": {},
     "output_type": "execute_result"
    }
   ],
   "source": [
    "(history.history[\"loss\"][0],\n",
    " history.history[\"HuberMetric\"][0] * sample_weight.mean())"
   ],
   "metadata": {
    "collapsed": false,
    "ExecuteTime": {
     "end_time": "2024-03-03T12:23:50.152601Z",
     "start_time": "2024-03-03T12:23:50.148697Z"
    }
   },
   "id": "306cae5948e73401",
   "execution_count": 833
  },
  {
   "cell_type": "code",
   "outputs": [
    {
     "name": "stdout",
     "output_type": "stream",
     "text": [
      "INFO:tensorflow:Assets written to: saved_models/my_model_with_a_custom_metric_v2\\assets\n"
     ]
    },
    {
     "name": "stderr",
     "output_type": "stream",
     "text": [
      "INFO:tensorflow:Assets written to: saved_models/my_model_with_a_custom_metric_v2\\assets\n"
     ]
    }
   ],
   "source": [
    "model.save(\"saved_models/my_model_with_a_custom_metric_v2\")"
   ],
   "metadata": {
    "collapsed": false,
    "ExecuteTime": {
     "end_time": "2024-03-03T12:23:50.406492Z",
     "start_time": "2024-03-03T12:23:50.152601Z"
    }
   },
   "id": "8ca40e5f1d7844f7",
   "execution_count": 834
  },
  {
   "cell_type": "code",
   "outputs": [],
   "source": [
    "model = tf.keras.models.load_model(\"saved_models/my_model_with_a_custom_metric_v2\",\n",
    "                                   custom_objects={\"HuberMetric\": HuberMetric})"
   ],
   "metadata": {
    "collapsed": false,
    "ExecuteTime": {
     "end_time": "2024-03-03T12:23:50.519396Z",
     "start_time": "2024-03-03T12:23:50.407491Z"
    }
   },
   "id": "115b050fbc81ddca",
   "execution_count": 835
  },
  {
   "cell_type": "code",
   "outputs": [
    {
     "name": "stdout",
     "output_type": "stream",
     "text": [
      "Epoch 1/2\n",
      "363/363 [==============================] - 1s 771us/step - loss: 0.2442 - HuberMetric: 0.2442\n",
      "Epoch 2/2\n",
      "363/363 [==============================] - 0s 799us/step - loss: 0.2184 - HuberMetric: 0.2184\n"
     ]
    },
    {
     "data": {
      "text/plain": "<keras.src.callbacks.History at 0x17688405250>"
     },
     "execution_count": 836,
     "metadata": {},
     "output_type": "execute_result"
    }
   ],
   "source": [
    "\n",
    "model.fit(X_train_scaled, y_train, epochs=2)"
   ],
   "metadata": {
    "collapsed": false,
    "ExecuteTime": {
     "end_time": "2024-03-03T12:23:51.716250Z",
     "start_time": "2024-03-03T12:23:50.520422Z"
    }
   },
   "id": "7484aaa6b3c5f355",
   "execution_count": 836
  },
  {
   "cell_type": "code",
   "outputs": [
    {
     "data": {
      "text/plain": "2.0"
     },
     "execution_count": 837,
     "metadata": {},
     "output_type": "execute_result"
    }
   ],
   "source": [
    "model.metrics[-1].threshold"
   ],
   "metadata": {
    "collapsed": false,
    "ExecuteTime": {
     "end_time": "2024-03-03T12:23:51.720019Z",
     "start_time": "2024-03-03T12:23:51.716250Z"
    }
   },
   "id": "81608ce6a1dd21e7",
   "execution_count": 837
  },
  {
   "cell_type": "markdown",
   "source": [
    "When you define a metric using a simple function, Keras automatically calls it for each batch, and it keeps track of the mean during each epoch, just like we did manually. So the only benefit of our HuberMetric class is that the threshold will be saved. But of course, some metrics, like precision, cannot simply be averaged over batches: in those cases, there’s no other option than to implement a streaming metric.\n",
    "\n",
    "Now that you’ve built a streaming metric, building a custom layer will seem like a walk in the park!"
   ],
   "metadata": {
    "collapsed": false
   },
   "id": "228c0de5a9a2d875"
  },
  {
   "cell_type": "markdown",
   "source": [
    "**Custom Layers**\n",
    "You may occasionally want to build an architecture that contains an exotic layer for which TensorFlow does not provide a default implementation. Or you may simply want to build a very repetitive architecture, in which a particular block of layers is repeated many times, and it would be convenient to treat each block as a single layer. For such cases, you’ll want to build a custom layer.\n",
    "\n",
    "There are some layers that have no weights, such as tf.keras.layers.Flatten or tf.keras.layers.ReLU. If you want to create a custom layer without any weights, the simplest option is to write a function and wrap it in a tf.keras.layers.Lambda layer. For example, the following layer will apply the exponential function to its inputs:"
   ],
   "metadata": {
    "collapsed": false
   },
   "id": "179027081b914cf6"
  },
  {
   "cell_type": "code",
   "outputs": [],
   "source": [
    "exponential_layer = tf.keras.layers.Lambda(lambda x: tf.exp(x))"
   ],
   "metadata": {
    "collapsed": false,
    "ExecuteTime": {
     "end_time": "2024-03-03T12:23:52.219606Z",
     "start_time": "2024-03-03T12:23:52.216718Z"
    }
   },
   "id": "eb2c457b338025fb",
   "execution_count": 838
  },
  {
   "cell_type": "code",
   "outputs": [
    {
     "data": {
      "text/plain": "<tf.Tensor: shape=(3,), dtype=float32, numpy=array([0.36787945, 1.        , 2.7182817 ], dtype=float32)>"
     },
     "execution_count": 839,
     "metadata": {},
     "output_type": "execute_result"
    }
   ],
   "source": [
    "# extra code – like all layers, it can be used as a function:\n",
    "exponential_layer([-1., 0., 1.])"
   ],
   "metadata": {
    "collapsed": false,
    "ExecuteTime": {
     "end_time": "2024-03-03T12:23:52.775825Z",
     "start_time": "2024-03-03T12:23:52.769190Z"
    }
   },
   "id": "d4362d05bfea1aee",
   "execution_count": 839
  },
  {
   "cell_type": "code",
   "outputs": [
    {
     "name": "stdout",
     "output_type": "stream",
     "text": [
      "Epoch 1/5\n",
      "363/363 [==============================] - 1s 1ms/step - loss: 0.7784 - val_loss: 0.4393\n",
      "Epoch 2/5\n",
      "363/363 [==============================] - 0s 895us/step - loss: 0.5702 - val_loss: 0.4094\n",
      "Epoch 3/5\n",
      "363/363 [==============================] - 0s 884us/step - loss: 0.4431 - val_loss: 0.3760\n",
      "Epoch 4/5\n",
      "363/363 [==============================] - 0s 904us/step - loss: 0.4984 - val_loss: 0.3785\n",
      "Epoch 5/5\n",
      "363/363 [==============================] - 0s 898us/step - loss: 0.3966 - val_loss: 0.3633\n",
      "162/162 [==============================] - 0s 607us/step - loss: 0.3781\n"
     ]
    },
    {
     "data": {
      "text/plain": "0.3781099021434784"
     },
     "execution_count": 840,
     "metadata": {},
     "output_type": "execute_result"
    }
   ],
   "source": [
    "tf.keras.utils.set_random_seed(42)\n",
    "model = tf.keras.Sequential([\n",
    "    tf.keras.layers.Dense(30, activation=\"relu\", input_shape=input_shape),\n",
    "    tf.keras.layers.Dense(1),\n",
    "    exponential_layer\n",
    "])\n",
    "model.compile(loss=\"mse\", optimizer=\"sgd\")\n",
    "model.fit(X_train_scaled, y_train, epochs=5,\n",
    "          validation_data=(X_valid_scaled, y_valid))\n",
    "model.evaluate(X_test_scaled, y_test)"
   ],
   "metadata": {
    "collapsed": false,
    "ExecuteTime": {
     "end_time": "2024-03-03T12:23:55.394323Z",
     "start_time": "2024-03-03T12:23:53.274493Z"
    }
   },
   "id": "27304580b5d944a3",
   "execution_count": 840
  },
  {
   "cell_type": "markdown",
   "source": [
    "This custom layer can then be used like any other layer, using the sequential API, the functional API, or the subclassing API. You can also use it as an activation function, or you could use activation=tf.exp. The exponential layer is sometimes used in the output layer of a regression model when the values to predict have very different scales (e.g., 0.001, 10., 1,000.). In fact, the exponential function is one of the standard activation functions in Keras, so you can just use activation=\"exponential\".\n",
    "\n",
    "As you might guess, to build a custom stateful layer (i.e., a layer with weights), you need to create a subclass of the tf.keras.layers.Layer class. For example, the following class implements a simplified version of the Dense layer:"
   ],
   "metadata": {
    "collapsed": false
   },
   "id": "109aec1af1b933bf"
  },
  {
   "cell_type": "code",
   "outputs": [],
   "source": [
    "class MyDense(tf.keras.layers.Layer):\n",
    "    def __init__(self, units, activation=None, **kwargs):\n",
    "        super().__init__(**kwargs)\n",
    "        self.units = units\n",
    "        self.activation = tf.keras.activations.get(activation)\n",
    "\n",
    "    def build(self, batch_input_shape):\n",
    "        self.kernel = self.add_weight(\n",
    "            name=\"kernel\", shape=[batch_input_shape[-1], self.units],\n",
    "            initializer=\"glorot_normal\")\n",
    "        self.bias = self.add_weight(\n",
    "            name=\"bias\", shape=[self.units], initializer=\"zeros\")\n",
    "\n",
    "    def call(self, X):\n",
    "        return self.activation(X @ self.kernel + self.bias)\n",
    "\n",
    "    def get_config(self):\n",
    "        base_config = super().get_config()\n",
    "        return {**base_config, \"units\": self.units,\n",
    "                \"activation\": tf.keras.activations.serialize(self.activation)}"
   ],
   "metadata": {
    "collapsed": false,
    "ExecuteTime": {
     "end_time": "2024-03-03T12:23:55.399381Z",
     "start_time": "2024-03-03T12:23:55.395322Z"
    }
   },
   "id": "915132e88a69f75",
   "execution_count": 841
  },
  {
   "cell_type": "markdown",
   "source": [
    "Let’s walk through this code:\n",
    "\n",
    "- The constructor takes all the hyperparameters as arguments (in this example, units and activation), and importantly it also takes a **kwargs argument. It calls the parent constructor, passing it the kwargs: this takes care of standard arguments such as input_shape, trainable, and name. Then it saves the hyperparameters as attributes, converting the activation argument to the appropriate activation function using the tf.keras.activations.get() function (it accepts functions, standard strings like \"relu\" or \"swish\", or simply None).\n",
    "\n",
    "- The build() method’s role is to create the layer’s variables by calling the add_weight() method for each weight. The build() method is called the first time the layer is used. At that point, Keras will know the shape of this layer’s inputs, and it will pass it to the build() method, which is often necessary to create some of the weights. For example, we need to know the number of neurons in the previous layer in order to create the connection weights matrix (i.e., the \"kernel\"): this corresponds to the size of the last dimension of the inputs. At the end of the build() method (and only at the end), you must call the parent’s build() method: this tells Keras that the layer is built (it just sets self.built = True).\n",
    "\n",
    "- The call() method performs the desired operations. In this case, we compute the matrix multiplication of the inputs X and the layer’s kernel, we add the bias vector, and we apply the activation function to the result, and this gives us the output of the layer.\n",
    "\n",
    "- The get_config() method is just like in the previous custom classes. Note that we save the activation function’s full configuration by calling tf.keras.​activa⁠tions.serialize().\n",
    "\n",
    "You can now use a MyDense layer just like any other layer!"
   ],
   "metadata": {
    "collapsed": false
   },
   "id": "896f226120c258f5"
  },
  {
   "cell_type": "code",
   "outputs": [
    {
     "name": "stdout",
     "output_type": "stream",
     "text": [
      "Epoch 1/2\n",
      "363/363 [==============================] - 1s 1ms/step - loss: 2.3392 - val_loss: 1.7363\n",
      "Epoch 2/2\n",
      "363/363 [==============================] - 0s 989us/step - loss: 0.6383 - val_loss: 0.7951\n",
      "162/162 [==============================] - 0s 656us/step - loss: 0.5450\n",
      "INFO:tensorflow:Assets written to: saved_models/my_model_with_a_custom_layer\\assets\n"
     ]
    },
    {
     "name": "stderr",
     "output_type": "stream",
     "text": [
      "INFO:tensorflow:Assets written to: saved_models/my_model_with_a_custom_layer\\assets\n"
     ]
    }
   ],
   "source": [
    "# extra code – shows that a custom layer can be used normally\n",
    "tf.keras.utils.set_random_seed(42)\n",
    "model = tf.keras.Sequential([\n",
    "    MyDense(30, activation=\"relu\", input_shape=input_shape),\n",
    "    MyDense(1)\n",
    "])\n",
    "model.compile(loss=\"mse\", optimizer=\"nadam\")\n",
    "model.fit(X_train_scaled, y_train, epochs=2,\n",
    "          validation_data=(X_valid_scaled, y_valid))\n",
    "model.evaluate(X_test_scaled, y_test)\n",
    "model.save(\"saved_models/my_model_with_a_custom_layer\")"
   ],
   "metadata": {
    "collapsed": false,
    "ExecuteTime": {
     "end_time": "2024-03-03T12:23:57.206890Z",
     "start_time": "2024-03-03T12:23:55.400380Z"
    }
   },
   "id": "f8ed02c5eb4a1bc8",
   "execution_count": 842
  },
  {
   "cell_type": "code",
   "outputs": [
    {
     "name": "stdout",
     "output_type": "stream",
     "text": [
      "Epoch 1/2\n",
      "363/363 [==============================] - 1s 1ms/step - loss: 0.4877 - val_loss: 0.4354\n",
      "Epoch 2/2\n",
      "363/363 [==============================] - 0s 928us/step - loss: 0.4254 - val_loss: 1.1709\n"
     ]
    },
    {
     "data": {
      "text/plain": "<keras.src.callbacks.History at 0x17690bd73d0>"
     },
     "execution_count": 843,
     "metadata": {},
     "output_type": "execute_result"
    }
   ],
   "source": [
    "# extra code – shows how to load a model with a custom layer\n",
    "model = tf.keras.models.load_model(\"saved_models/my_model_with_a_custom_layer\",\n",
    "                                   custom_objects={\"MyDense\": MyDense})\n",
    "model.fit(X_train_scaled, y_train, epochs=2,\n",
    "          validation_data=(X_valid_scaled, y_valid))"
   ],
   "metadata": {
    "collapsed": false,
    "ExecuteTime": {
     "end_time": "2024-03-03T12:23:58.667334Z",
     "start_time": "2024-03-03T12:23:57.207890Z"
    }
   },
   "id": "7b4454d8e7d971cc",
   "execution_count": 843
  },
  {
   "cell_type": "markdown",
   "source": [
    "NOTE\n",
    "Keras automatically infers the output shape, except when the layer is dynamic (as you will see shortly). In this (rare) case, you need to implement the compute_output_shape() method, which must return a TensorShape object."
   ],
   "metadata": {
    "collapsed": false
   },
   "id": "7a090657f5577fd5"
  },
  {
   "cell_type": "markdown",
   "source": [
    "To create a layer with multiple inputs (e.g., Concatenate), the argument to the call() method should be a tuple containing all the inputs. To create a layer with multiple outputs, the call() method should return the list of outputs. For example, the following toy layer takes two inputs and returns three outputs:"
   ],
   "metadata": {
    "collapsed": false
   },
   "id": "1267281fcc6701cf"
  },
  {
   "cell_type": "code",
   "outputs": [],
   "source": [
    "class MyMultiLayer(tf.keras.layers.Layer):\n",
    "    def call(self, X):\n",
    "        X1, X2 = X\n",
    "        print(\"X1.shape: \", X1.shape ,\" X2.shape: \", X2.shape)  # extra code\n",
    "        return X1 + X2, X1 * X2, X1 / X2"
   ],
   "metadata": {
    "collapsed": false,
    "ExecuteTime": {
     "end_time": "2024-03-03T12:23:58.670713Z",
     "start_time": "2024-03-03T12:23:58.667334Z"
    }
   },
   "id": "95b4ecf81def5da6",
   "execution_count": 844
  },
  {
   "cell_type": "code",
   "outputs": [
    {
     "name": "stdout",
     "output_type": "stream",
     "text": [
      "X1.shape:  (None, 2)  X2.shape:  (None, 2)\n"
     ]
    },
    {
     "data": {
      "text/plain": "(<KerasTensor: shape=(None, 2) dtype=float32 (created by layer 'my_multi_layer_4')>,\n <KerasTensor: shape=(None, 2) dtype=float32 (created by layer 'my_multi_layer_4')>,\n <KerasTensor: shape=(None, 2) dtype=float32 (created by layer 'my_multi_layer_4')>)"
     },
     "execution_count": 845,
     "metadata": {},
     "output_type": "execute_result"
    }
   ],
   "source": [
    "# extra code – tests MyMultiLayer with symbolic inputs\n",
    "inputs1 = tf.keras.layers.Input(shape=[2])\n",
    "inputs2 = tf.keras.layers.Input(shape=[2])\n",
    "MyMultiLayer()((inputs1, inputs2))"
   ],
   "metadata": {
    "collapsed": false,
    "ExecuteTime": {
     "end_time": "2024-03-03T12:23:58.680523Z",
     "start_time": "2024-03-03T12:23:58.670713Z"
    }
   },
   "id": "98930279faa833a5",
   "execution_count": 845
  },
  {
   "cell_type": "code",
   "outputs": [
    {
     "name": "stdout",
     "output_type": "stream",
     "text": [
      "X1.shape:  (2, 2)  X2.shape:  (2, 2)\n"
     ]
    },
    {
     "data": {
      "text/plain": "(<tf.Tensor: shape=(2, 2), dtype=float32, numpy=\n array([[ 9., 18.],\n        [ 6., 10.]], dtype=float32)>,\n <tf.Tensor: shape=(2, 2), dtype=float32, numpy=\n array([[18., 72.],\n        [ 8., 21.]], dtype=float32)>,\n <tf.Tensor: shape=(2, 2), dtype=float32, numpy=\n array([[0.5      , 0.5      ],\n        [0.5      , 2.3333333]], dtype=float32)>)"
     },
     "execution_count": 846,
     "metadata": {},
     "output_type": "execute_result"
    }
   ],
   "source": [
    "\n",
    "# extra code – tests MyMultiLayer with actual data \n",
    "X1, X2 = np.array([[3., 6.], [2., 7.]]), np.array([[6., 12.], [4., 3.]]) \n",
    "MyMultiLayer()((X1, X2))"
   ],
   "metadata": {
    "collapsed": false,
    "ExecuteTime": {
     "end_time": "2024-03-03T12:23:58.688322Z",
     "start_time": "2024-03-03T12:23:58.680523Z"
    }
   },
   "id": "74f9d9884e5beffe",
   "execution_count": 846
  },
  {
   "cell_type": "markdown",
   "source": [
    "This layer may now be used like any other layer, but of course only using the functional and subclassing APIs, not the sequential API (which only accepts layers with one input and one output).\n",
    "\n",
    "If your layer needs to have a different behavior during training and during testing (e.g., if it uses Dropout or BatchNormalization layers), then you must add a training argument to the call() method and use this argument to decide what to do. For example, let’s create a layer that adds Gaussian noise during training (for regularization) but does nothing during testing (Keras has a layer that does the same thing, tf.keras.layers.GaussianNoise):"
   ],
   "metadata": {
    "collapsed": false
   },
   "id": "c01c54ff78c39eff"
  },
  {
   "cell_type": "code",
   "outputs": [],
   "source": [
    "class MyGaussianNoise(tf.keras.layers.Layer):\n",
    "    def __init__(self, stddev, **kwargs):\n",
    "        super().__init__(**kwargs)\n",
    "        self.stddev = stddev\n",
    "\n",
    "    def call(self, X, training=False):\n",
    "        if training:\n",
    "            noise = tf.random.normal(tf.shape(X), stddev=self.stddev)\n",
    "            return X + noise\n",
    "        else:\n",
    "            return X"
   ],
   "metadata": {
    "collapsed": false,
    "ExecuteTime": {
     "end_time": "2024-03-03T12:23:58.692232Z",
     "start_time": "2024-03-03T12:23:58.688322Z"
    }
   },
   "id": "2447f11554ff588a",
   "execution_count": 847
  },
  {
   "cell_type": "code",
   "outputs": [
    {
     "name": "stdout",
     "output_type": "stream",
     "text": [
      "Epoch 1/2\n",
      "363/363 [==============================] - 1s 1ms/step - loss: 2.2220 - val_loss: 25.1506\n",
      "Epoch 2/2\n",
      "363/363 [==============================] - 0s 953us/step - loss: 1.4104 - val_loss: 17.0415\n",
      "162/162 [==============================] - 0s 576us/step - loss: 1.1059\n"
     ]
    },
    {
     "data": {
      "text/plain": "1.1058681011199951"
     },
     "execution_count": 848,
     "metadata": {},
     "output_type": "execute_result"
    }
   ],
   "source": [
    "# extra code – tests MyGaussianNoise\n",
    "tf.keras.utils.set_random_seed(42)\n",
    "model = tf.keras.Sequential([\n",
    "    MyGaussianNoise(stddev=1.0, input_shape=input_shape),\n",
    "    tf.keras.layers.Dense(30, activation=\"relu\",\n",
    "                          kernel_initializer=\"he_normal\"),\n",
    "    tf.keras.layers.Dense(1)\n",
    "])\n",
    "model.compile(loss=\"mse\", optimizer=\"nadam\")\n",
    "model.fit(X_train_scaled, y_train, epochs=2,\n",
    "          validation_data=(X_valid_scaled, y_valid))\n",
    "model.evaluate(X_test_scaled, y_test)"
   ],
   "metadata": {
    "collapsed": false,
    "ExecuteTime": {
     "end_time": "2024-03-03T12:24:00.155489Z",
     "start_time": "2024-03-03T12:23:58.692232Z"
    }
   },
   "id": "5cbe7d7474312835",
   "execution_count": 848
  },
  {
   "cell_type": "markdown",
   "source": [
    "With that, you can now build any custom layer you need! Now let’s look at how to create custom models."
   ],
   "metadata": {
    "collapsed": false
   },
   "id": "f4d0d16a883c73cd"
  },
  {
   "cell_type": "markdown",
   "source": [
    "**Custom Models**\n",
    "We already looked at creating custom model classes in Chapter 10, when we discussed the subclassing API. It’s straightforward: subclass the tf.keras.Model class, create layers and variables in the constructor, and implement the call() method to do whatever you want the model to do. For example, suppose we want to build the model represented in Figure 12-3."
   ],
   "metadata": {
    "collapsed": false
   },
   "id": "9aff5320a85378a7"
  },
  {
   "cell_type": "markdown",
   "source": [
    "Figure 12-3. Custom model example: an arbitrary model with a custom ResidualBlock layer containing a skip connection\n",
    "![mls3_1203](../images/mls3_1203.png)"
   ],
   "metadata": {
    "collapsed": false
   },
   "id": "cc5e0454fbd81011"
  },
  {
   "cell_type": "markdown",
   "source": [
    "The inputs go through a first dense layer, then through a residual block composed of two dense layers and an addition operation (as you will see in Chapter 14, a residual block adds its inputs to its outputs), then through this same residual block three more times, then through a second residual block, and the final result goes through a dense output layer. Don’t worry if this model does not make much sense; it’s just an example to illustrate the fact that you can easily build any kind of model you want, even one that contains loops and skip connections. To implement this model, it is best to first create a ResidualBlock layer, since we are going to create a couple of identical blocks (and we might want to reuse it in another model):"
   ],
   "metadata": {
    "collapsed": false
   },
   "id": "116726a4494b041f"
  },
  {
   "cell_type": "code",
   "outputs": [],
   "source": [
    "class ResidualBlock(tf.keras.layers.Layer):\n",
    "    def __init__(self, n_layers, n_neurons, **kwargs):\n",
    "        super().__init__(**kwargs)\n",
    "        self.hidden = [tf.keras.layers.Dense(n_neurons, activation=\"relu\",\n",
    "                                             kernel_initializer=\"he_normal\")\n",
    "                       for _ in range(n_layers)]\n",
    "\n",
    "    def call(self, inputs):\n",
    "        Z = inputs\n",
    "        for layer in self.hidden:\n",
    "            Z = layer(Z)\n",
    "        return inputs + Z"
   ],
   "metadata": {
    "collapsed": false,
    "ExecuteTime": {
     "end_time": "2024-03-03T12:24:00.160407Z",
     "start_time": "2024-03-03T12:24:00.156488Z"
    }
   },
   "id": "b42e1f4e9127f974",
   "execution_count": 849
  },
  {
   "cell_type": "markdown",
   "source": [
    "This layer is a bit special since it contains other layers. This is handled transparently by Keras: it automatically detects that the hidden attribute contains trackable objects (layers in this case), so their variables are automatically added to this layer’s list of variables. The rest of this class is self-explanatory. Next, let’s use the subclassing API to define the model itself:"
   ],
   "metadata": {
    "collapsed": false
   },
   "id": "bd4dcb785507ba3c"
  },
  {
   "cell_type": "code",
   "outputs": [],
   "source": [
    "class ResidualRegressor(tf.keras.Model):\n",
    "    def __init__(self, output_dim, **kwargs):\n",
    "        super().__init__(**kwargs)\n",
    "        self.hidden1 = tf.keras.layers.Dense(30, activation=\"relu\",\n",
    "                                             kernel_initializer=\"he_normal\")\n",
    "        self.block1 = ResidualBlock(2, 30)\n",
    "        self.block2 = ResidualBlock(2, 30)\n",
    "        self.out = tf.keras.layers.Dense(output_dim)\n",
    "\n",
    "    def call(self, inputs):\n",
    "        Z = self.hidden1(inputs)\n",
    "        for _ in range(1 + 3):\n",
    "            Z = self.block1(Z)\n",
    "        Z = self.block2(Z)\n",
    "        return self.out(Z)"
   ],
   "metadata": {
    "collapsed": false,
    "ExecuteTime": {
     "end_time": "2024-03-03T12:24:00.165039Z",
     "start_time": "2024-03-03T12:24:00.161406Z"
    }
   },
   "id": "ebd78e4c5ea40aa7",
   "execution_count": 850
  },
  {
   "cell_type": "markdown",
   "source": [
    "We create the layers in the constructor and use them in the call() method. This model can then be used like any other model (compile it, fit it, evaluate it, and use it to make predictions). If you also want to be able to save the model using the save() method and load it using the tf.keras.models.load_model() function, you must implement the get_config() method (as we did earlier) in both the ResidualBlock class and the ResidualRegressor class. Alternatively, you can save and load the weights using the save_weights() and load_weights() methods.\n",
    "\n",
    "The Model class is a subclass of the Layer class, so models can be defined and used exactly like layers. But a model has some extra functionalities, including of course its compile(), fit(), evaluate(), and predict() methods (and a few variants), plus the get_layer() method (which can return any of the model’s layers by name or by index) and the save() method (and support for tf.keras.models.load_model() and tf.keras.models.clone_model())."
   ],
   "metadata": {
    "collapsed": false
   },
   "id": "ece2d4569d571ee0"
  },
  {
   "cell_type": "code",
   "outputs": [
    {
     "name": "stdout",
     "output_type": "stream",
     "text": [
      "Epoch 1/2\n",
      "363/363 [==============================] - 2s 917us/step - loss: 32.7847\n",
      "Epoch 2/2\n",
      "363/363 [==============================] - 0s 956us/step - loss: 1.3612\n",
      "162/162 [==============================] - 0s 657us/step - loss: 1.1603\n",
      "INFO:tensorflow:Assets written to: saved_models/my_custom_model\\assets\n"
     ]
    },
    {
     "name": "stderr",
     "output_type": "stream",
     "text": [
      "INFO:tensorflow:Assets written to: saved_models/my_custom_model\\assets\n"
     ]
    }
   ],
   "source": [
    "# extra code – shows that the model can be used normally\n",
    "tf.keras.utils.set_random_seed(42)\n",
    "model = ResidualRegressor(1)\n",
    "model.compile(loss=\"mse\", optimizer=\"nadam\")\n",
    "history = model.fit(X_train_scaled, y_train, epochs=2)\n",
    "score = model.evaluate(X_test_scaled, y_test)\n",
    "model.save(\"saved_models/my_custom_model\")"
   ],
   "metadata": {
    "collapsed": false,
    "ExecuteTime": {
     "end_time": "2024-03-03T12:24:03.018300Z",
     "start_time": "2024-03-03T12:24:00.165039Z"
    }
   },
   "id": "5db7c5780b1e7a9f",
   "execution_count": 851
  },
  {
   "cell_type": "code",
   "outputs": [
    {
     "name": "stdout",
     "output_type": "stream",
     "text": [
      "Epoch 1/2\n",
      "363/363 [==============================] - 2s 962us/step - loss: 1.3451\n",
      "Epoch 2/2\n",
      "363/363 [==============================] - 0s 1ms/step - loss: 0.7928\n",
      "1/1 [==============================] - 0s 50ms/step\n"
     ]
    },
    {
     "data": {
      "text/plain": "array([[1.1431925],\n       [1.0584602],\n       [4.71127  ]], dtype=float32)"
     },
     "execution_count": 852,
     "metadata": {},
     "output_type": "execute_result"
    }
   ],
   "source": [
    "# extra code – the model can be loaded and you can continue training or use it\n",
    "#              to make predictions\n",
    "model = tf.keras.models.load_model(\"saved_models/my_custom_model\")\n",
    "history = model.fit(X_train_scaled, y_train, epochs=2)\n",
    "model.predict(X_test_scaled[:3])"
   ],
   "metadata": {
    "collapsed": false,
    "ExecuteTime": {
     "end_time": "2024-03-03T12:24:05.406364Z",
     "start_time": "2024-03-03T12:24:03.018300Z"
    }
   },
   "id": "cde53934be62fc3d",
   "execution_count": 852
  },
  {
   "cell_type": "markdown",
   "source": [
    "We could have defined the model using the sequential API instead:"
   ],
   "metadata": {
    "collapsed": false
   },
   "id": "5ca27e15ec04bace"
  },
  {
   "cell_type": "code",
   "outputs": [],
   "source": [
    "tf.keras.utils.set_random_seed(42)\n",
    "block1 = ResidualBlock(2, 30)\n",
    "model = tf.keras.Sequential([\n",
    "    tf.keras.layers.Dense(30, activation=\"relu\",\n",
    "                          kernel_initializer=\"he_normal\"),\n",
    "    block1, block1, block1, block1,\n",
    "    ResidualBlock(2, 30),\n",
    "    tf.keras.layers.Dense(1)\n",
    "])"
   ],
   "metadata": {
    "collapsed": false,
    "ExecuteTime": {
     "end_time": "2024-03-03T12:24:05.425632Z",
     "start_time": "2024-03-03T12:24:05.406364Z"
    }
   },
   "id": "161b6d9d6b4dcacf",
   "execution_count": 853
  },
  {
   "cell_type": "markdown",
   "source": [
    "TIP\n",
    "If models provide more functionality than layers, why not just define every layer as a model? Well, technically you could, but it is usually cleaner to distinguish the internal components of your model (i.e., layers or reusable blocks of layers) from the model itself (i.e., the object you will train). The former should subclass the Layer class, while the latter should subclass the Model class."
   ],
   "metadata": {
    "collapsed": false
   },
   "id": "41a808fca004368a"
  },
  {
   "cell_type": "markdown",
   "source": [
    "With that, you can naturally and concisely build almost any model that you find in a paper, using the sequential API, the functional API, the subclassing API, or even a mix of these. “Almost” any model? Yes, there are still a few things that we need to look at: first, how to define losses or metrics based on model internals, and second, how to build a custom training loop."
   ],
   "metadata": {
    "collapsed": false
   },
   "id": "750378709ed6d746"
  },
  {
   "cell_type": "markdown",
   "source": [
    "**Losses and Metrics Based on Model Internals**\n",
    "The custom losses and metrics we defined earlier were all based on the labels and the predictions (and optionally sample weights). There will be times when you want to define losses based on other parts of your model, such as the weights or activations of its hidden layers. This may be useful for regularization purposes or to monitor some internal aspect of your model.\n",
    "\n",
    "To define a custom loss based on model internals, compute it based on any part of the model you want, then pass the result to the add_loss() method. For example, let’s build a custom regression MLP model composed of a stack of five hidden layers plus an output layer. This custom model will also have an auxiliary output on top of the upper hidden layer. The loss associated with this auxiliary output will be called the reconstruction loss (see Chapter 17): it is the mean squared difference between the reconstruction and the inputs. By adding this reconstruction loss to the main loss, we will encourage the model to preserve as much information as possible through the hidden layers—even information that is not directly useful for the regression task itself. In practice, this loss sometimes improves generalization (it is a regularization loss). It is also possible to add a custom metric using the model’s add_metric() method. Here is the code for this custom model with a custom reconstruction loss and a corresponding metric:"
   ],
   "metadata": {
    "collapsed": false
   },
   "id": "e360a72fdb64aa89"
  },
  {
   "cell_type": "code",
   "outputs": [],
   "source": [
    "class ReconstructingRegressor(tf.keras.Model):\n",
    "    def __init__(self, output_dim, **kwargs):\n",
    "        super().__init__(**kwargs)\n",
    "        self.hidden = [tf.keras.layers.Dense(30, activation=\"relu\",\n",
    "                                             kernel_initializer=\"he_normal\")\n",
    "                       for _ in range(5)]\n",
    "        self.out = tf.keras.layers.Dense(output_dim)\n",
    "        self.reconstruction_mean = tf.keras.metrics.Mean(\n",
    "            name=\"reconstruction_error\")\n",
    "\n",
    "    def build(self, batch_input_shape):\n",
    "        n_inputs = batch_input_shape[-1]\n",
    "        self.reconstruct = tf.keras.layers.Dense(n_inputs)\n",
    "\n",
    "    def call(self, inputs, training=False):\n",
    "        Z = inputs\n",
    "        for layer in self.hidden:\n",
    "            Z = layer(Z)\n",
    "        reconstruction = self.reconstruct(Z)\n",
    "        recon_loss = tf.reduce_mean(tf.square(reconstruction - inputs))\n",
    "        self.add_loss(0.05 * recon_loss)\n",
    "        if training:\n",
    "            result = self.reconstruction_mean(recon_loss)\n",
    "            self.add_metric(result)\n",
    "        return self.out(Z)"
   ],
   "metadata": {
    "collapsed": false,
    "ExecuteTime": {
     "end_time": "2024-03-03T12:24:05.430981Z",
     "start_time": "2024-03-03T12:24:05.426631Z"
    }
   },
   "id": "fede8e41edff1fd0",
   "execution_count": 854
  },
  {
   "cell_type": "markdown",
   "source": [
    "Let’s go through this code:\n",
    "\n",
    "- The constructor creates the DNN with five dense hidden layers and one dense output layer. We also create a Mean streaming metric to keep track of the reconstruction error during training.\n",
    "\n",
    "- The build() method creates an extra dense layer that will be used to reconstruct the inputs of the model. It must be created here because its number of units must be equal to the number of inputs, and this number is unknown before the build() method is called.\n",
    "\n",
    "- The call() method processes the inputs through all five hidden layers, then passes the result through the reconstruction layer, which produces the reconstruction.\n",
    "\n",
    "- Then the call() method computes the reconstruction loss (the mean squared difference between the reconstruction and the inputs), and adds it to the model’s list of losses using the add_loss() method. Notice that we scale down the reconstruction loss by multiplying it by 0.05 (this is a hyperparameter you can tune). This ensures that the reconstruction loss does not dominate the main loss.\n",
    "\n",
    "- Next, during training only, the call() method updates the reconstruction metric and adds it to the model so it can be displayed. This code example can actually be simplified by calling self.add_metric(recon_loss) instead: Keras will automatically track the mean for you.\n",
    "\n",
    "- Finally, the call() method passes the output of the hidden layers to the output layer and returns its output.\n",
    "\n",
    "Both the total loss and the reconstruction loss will go down during training:"
   ],
   "metadata": {
    "collapsed": false
   },
   "id": "4f8130e4a3700fba"
  },
  {
   "cell_type": "markdown",
   "source": [
    "In most cases, everything we have discussed so far will be sufficient to implement whatever model you want to build, even with complex architectures, losses, and metrics. However, for some architectures, such as GANs (see Chapter 17), you will have to customize the training loop itself. Before we get there, we must look at how to compute gradients automatically in TensorFlow."
   ],
   "metadata": {
    "collapsed": false
   },
   "id": "d4ff7b8f83f3b035"
  },
  {
   "cell_type": "code",
   "outputs": [
    {
     "name": "stdout",
     "output_type": "stream",
     "text": [
      "Epoch 1/5\n",
      "363/363 [==============================] - 2s 956us/step - loss: 0.8198 - reconstruction_error: 1.0892\n",
      "Epoch 2/5\n",
      "363/363 [==============================] - 0s 962us/step - loss: 0.4778 - reconstruction_error: 0.5583\n",
      "Epoch 3/5\n",
      "363/363 [==============================] - 0s 942us/step - loss: 0.4419 - reconstruction_error: 0.4227\n",
      "Epoch 4/5\n",
      "363/363 [==============================] - 0s 939us/step - loss: 0.3852 - reconstruction_error: 0.3587\n",
      "Epoch 5/5\n",
      "363/363 [==============================] - 0s 939us/step - loss: 0.3714 - reconstruction_error: 0.3245\n",
      "162/162 [==============================] - 0s 601us/step\n"
     ]
    }
   ],
   "source": [
    "\n",
    "# extra code\n",
    "tf.keras.utils.set_random_seed(42)\n",
    "model = ReconstructingRegressor(1)\n",
    "model.compile(loss=\"mse\", optimizer=\"nadam\")\n",
    "history = model.fit(X_train_scaled, y_train, epochs=5)\n",
    "y_pred = model.predict(X_test_scaled)"
   ],
   "metadata": {
    "collapsed": false,
    "ExecuteTime": {
     "end_time": "2024-03-03T12:24:09.339815Z",
     "start_time": "2024-03-03T12:24:05.430981Z"
    }
   },
   "id": "7b05f1f38bac8810",
   "execution_count": 855
  },
  {
   "cell_type": "markdown",
   "source": [
    "**Computing Gradients Using Autodiff**\n",
    "To understand how to use autodiff (see Chapter 10 and Appendix B) to compute gradients automatically, let’s consider a simple toy function:"
   ],
   "metadata": {
    "collapsed": false
   },
   "id": "b407252fd039b6b0"
  },
  {
   "cell_type": "code",
   "outputs": [],
   "source": [
    "def f(w1, w2):\n",
    "    return 3 * w1 ** 2 + 2 * w1 * w2"
   ],
   "metadata": {
    "collapsed": false,
    "ExecuteTime": {
     "end_time": "2024-03-03T12:24:09.344282Z",
     "start_time": "2024-03-03T12:24:09.341811Z"
    }
   },
   "id": "18edae807760c007",
   "execution_count": 856
  },
  {
   "cell_type": "markdown",
   "source": [
    "If you know calculus, you can analytically find that the partial derivative of this function with regard to w1 is 6 * w1 + 2 * w2. You can also find that its partial derivative with regard to w2 is 2 * w1. For example, at the point (w1, w2) = (5, 3), these partial derivatives are equal to 36 and 10, respectively, so the gradient vector at this point is (36, 10). But if this were a neural network, the function would be much more complex, typically with tens of thousands of parameters, and finding the partial derivatives analytically by hand would be a virtually impossible task. One solution could be to compute an approximation of each partial derivative by measuring how much the function’s output changes when you tweak the corresponding parameter by a tiny amount:"
   ],
   "metadata": {
    "collapsed": false
   },
   "id": "942b950bcfd35bde"
  },
  {
   "cell_type": "code",
   "outputs": [
    {
     "data": {
      "text/plain": "36.000003007075065"
     },
     "execution_count": 857,
     "metadata": {},
     "output_type": "execute_result"
    }
   ],
   "source": [
    "w1, w2 = 5, 3\n",
    "eps = 1e-6\n",
    "(f(w1 + eps, w2) - f(w1, w2)) / eps  # ~36.000003"
   ],
   "metadata": {
    "collapsed": false,
    "ExecuteTime": {
     "end_time": "2024-03-03T12:24:09.348845Z",
     "start_time": "2024-03-03T12:24:09.344282Z"
    }
   },
   "id": "3bca214bd1b16822",
   "execution_count": 857
  },
  {
   "cell_type": "code",
   "outputs": [
    {
     "data": {
      "text/plain": "10.000000003174137"
     },
     "execution_count": 858,
     "metadata": {},
     "output_type": "execute_result"
    }
   ],
   "source": [
    "(f(w1, w2 + eps) - f(w1, w2)) / eps  # ~10.000000"
   ],
   "metadata": {
    "collapsed": false,
    "ExecuteTime": {
     "end_time": "2024-03-03T12:24:09.352913Z",
     "start_time": "2024-03-03T12:24:09.348845Z"
    }
   },
   "id": "630ca1eb8a21ed59",
   "execution_count": 858
  },
  {
   "cell_type": "markdown",
   "source": [
    "Looks about right! This works rather well and is easy to implement, but it is just an approximation, and importantly you need to call f() at least once per parameter (not twice, since we could compute f(w1, w2) just once). Having to call f() at least once per parameter makes this approach intractable for large neural networks. So instead, we should use reverse-mode autodiff. TensorFlow makes this pretty simple:"
   ],
   "metadata": {
    "collapsed": false
   },
   "id": "2381f3f78f29f189"
  },
  {
   "cell_type": "code",
   "outputs": [],
   "source": [
    "w1, w2 = tf.Variable(5.), tf.Variable(3.)\n",
    "with tf.GradientTape() as tape:\n",
    "    z = f(w1, w2)\n",
    "\n",
    "gradients = tape.gradient(z, [w1, w2])"
   ],
   "metadata": {
    "collapsed": false,
    "ExecuteTime": {
     "end_time": "2024-03-03T12:24:09.359853Z",
     "start_time": "2024-03-03T12:24:09.352913Z"
    }
   },
   "id": "1ebfdabff500a7e3",
   "execution_count": 859
  },
  {
   "cell_type": "markdown",
   "source": [
    "We first define two variables w1 and w2, then we create a tf.GradientTape context that will automatically record every operation that involves a variable, and finally we ask this tape to compute the gradients of the result z with regard to both variables [w1, w2]. Let’s take a look at the gradients that TensorFlow computed:"
   ],
   "metadata": {
    "collapsed": false
   },
   "id": "aa33b3d6fa83a32b"
  },
  {
   "cell_type": "code",
   "outputs": [
    {
     "data": {
      "text/plain": "[<tf.Tensor: shape=(), dtype=float32, numpy=36.0>,\n <tf.Tensor: shape=(), dtype=float32, numpy=10.0>]"
     },
     "execution_count": 860,
     "metadata": {},
     "output_type": "execute_result"
    }
   ],
   "source": [
    "gradients"
   ],
   "metadata": {
    "collapsed": false,
    "ExecuteTime": {
     "end_time": "2024-03-03T12:24:09.363528Z",
     "start_time": "2024-03-03T12:24:09.359853Z"
    }
   },
   "id": "9eca37bd9c9dae33",
   "execution_count": 860
  },
  {
   "cell_type": "markdown",
   "source": [
    "Perfect! Not only is the result accurate (the precision is only limited by the floating-point errors), but the gradient() method only goes through the recorded computations once (in reverse order), no matter how many variables there are, so it is incredibly efficient. It’s like magic!"
   ],
   "metadata": {
    "collapsed": false
   },
   "id": "f2be82786d658667"
  },
  {
   "cell_type": "markdown",
   "source": [
    "TIP\n",
    "In order to save memory, only put the strict minimum inside the tf.GradientTape() block. Alternatively, pause recording by creating a with tape.stop_recording() block inside the tf.GradientTape() block."
   ],
   "metadata": {
    "collapsed": false
   },
   "id": "81fb245ef2c9a96a"
  },
  {
   "cell_type": "markdown",
   "source": [
    "The tape is automatically erased immediately after you call its gradient() method, so you will get an exception if you try to call gradient() twice:"
   ],
   "metadata": {
    "collapsed": false
   },
   "id": "c5d0a3b054f86aae"
  },
  {
   "cell_type": "code",
   "outputs": [
    {
     "name": "stdout",
     "output_type": "stream",
     "text": [
      "A non-persistent GradientTape can only be used to compute one set of gradients (or jacobians)\n"
     ]
    }
   ],
   "source": [
    "with tf.GradientTape() as tape:\n",
    "    z = f(w1, w2)\n",
    "\n",
    "dz_dw1 = tape.gradient(z, w1)  # returns tensor 36.0\n",
    "try:\n",
    "    dz_dw2 = tape.gradient(z, w2)  # raises a RuntimeError!\n",
    "except RuntimeError as ex:\n",
    "    print(ex)"
   ],
   "metadata": {
    "collapsed": false,
    "ExecuteTime": {
     "end_time": "2024-03-03T12:24:09.368681Z",
     "start_time": "2024-03-03T12:24:09.363528Z"
    }
   },
   "id": "63c1dba0adce3759",
   "execution_count": 861
  },
  {
   "cell_type": "markdown",
   "source": [
    "If you need to call gradient() more than once, you must make the tape persistent and delete it each time you are done with it to free resources:"
   ],
   "metadata": {
    "collapsed": false
   },
   "id": "59948302ae8a0ee3"
  },
  {
   "cell_type": "code",
   "outputs": [],
   "source": [
    "with tf.GradientTape(persistent=True) as tape:\n",
    "    z = f(w1, w2)\n",
    "\n",
    "dz_dw1 = tape.gradient(z, w1)  # returns tensor 36.0\n",
    "dz_dw2 = tape.gradient(z, w2)  # returns tensor 10.0, works fine now!\n",
    "del tape"
   ],
   "metadata": {
    "collapsed": false,
    "ExecuteTime": {
     "end_time": "2024-03-03T12:24:09.374135Z",
     "start_time": "2024-03-03T12:24:09.368681Z"
    }
   },
   "id": "747e2d180deac658",
   "execution_count": 862
  },
  {
   "cell_type": "code",
   "outputs": [
    {
     "name": "stdout",
     "output_type": "stream",
     "text": [
      "tf.Tensor(36.0, shape=(), dtype=float32)\n",
      "tf.Tensor(10.0, shape=(), dtype=float32)\n"
     ]
    }
   ],
   "source": [
    "print(dz_dw1)\n",
    "print(dz_dw2)"
   ],
   "metadata": {
    "collapsed": false,
    "ExecuteTime": {
     "end_time": "2024-03-03T12:24:09.377194Z",
     "start_time": "2024-03-03T12:24:09.374135Z"
    }
   },
   "id": "4e2844e337eb2b43",
   "execution_count": 863
  },
  {
   "cell_type": "markdown",
   "source": [
    "By default, the tape will only track operations involving variables, so if you try to compute the gradient of z with regard to anything other than a variable, the result will be None:"
   ],
   "metadata": {
    "collapsed": false
   },
   "id": "5393e88364befbdd"
  },
  {
   "cell_type": "code",
   "outputs": [],
   "source": [
    "c1, c2 = tf.constant(5.), tf.constant(3.)\n",
    "with tf.GradientTape() as tape:\n",
    "    z = f(c1, c2)\n",
    "\n",
    "gradients = tape.gradient(z, [c1, c2])  # returns [None, None]"
   ],
   "metadata": {
    "collapsed": false,
    "ExecuteTime": {
     "end_time": "2024-03-03T12:24:09.381296Z",
     "start_time": "2024-03-03T12:24:09.377194Z"
    }
   },
   "id": "98ed48310f2d26ad",
   "execution_count": 864
  },
  {
   "cell_type": "code",
   "outputs": [
    {
     "data": {
      "text/plain": "[None, None]"
     },
     "execution_count": 865,
     "metadata": {},
     "output_type": "execute_result"
    }
   ],
   "source": [
    "gradients"
   ],
   "metadata": {
    "collapsed": false,
    "ExecuteTime": {
     "end_time": "2024-03-03T12:24:09.385305Z",
     "start_time": "2024-03-03T12:24:09.381296Z"
    }
   },
   "id": "34b5a0cd018334d2",
   "execution_count": 865
  },
  {
   "cell_type": "markdown",
   "source": [
    "However, you can force the tape to watch any tensors you like, to record every operation that involves them. You can then compute gradients with regard to these tensors, as if they were variables:"
   ],
   "metadata": {
    "collapsed": false
   },
   "id": "b18117e3e98ca72a"
  },
  {
   "cell_type": "code",
   "outputs": [],
   "source": [
    "with tf.GradientTape() as tape:\n",
    "    tape.watch(c1)\n",
    "    tape.watch(c2)\n",
    "    z = f(c1, c2)\n",
    "\n",
    "gradients = tape.gradient(z, [c1, c2])  # returns [tensor 36., tensor 10.]"
   ],
   "metadata": {
    "collapsed": false,
    "ExecuteTime": {
     "end_time": "2024-03-03T12:24:09.390068Z",
     "start_time": "2024-03-03T12:24:09.385305Z"
    }
   },
   "id": "e404652b43bd9834",
   "execution_count": 866
  },
  {
   "cell_type": "code",
   "outputs": [
    {
     "data": {
      "text/plain": "[<tf.Tensor: shape=(), dtype=float32, numpy=36.0>,\n <tf.Tensor: shape=(), dtype=float32, numpy=10.0>]"
     },
     "execution_count": 867,
     "metadata": {},
     "output_type": "execute_result"
    }
   ],
   "source": [
    "gradients"
   ],
   "metadata": {
    "collapsed": false,
    "ExecuteTime": {
     "end_time": "2024-03-03T12:24:09.393773Z",
     "start_time": "2024-03-03T12:24:09.390068Z"
    }
   },
   "id": "dc8642b9b8f621",
   "execution_count": 867
  },
  {
   "cell_type": "code",
   "outputs": [
    {
     "data": {
      "text/plain": "[<tf.Tensor: shape=(), dtype=float32, numpy=136.0>,\n <tf.Tensor: shape=(), dtype=float32, numpy=30.0>]"
     },
     "execution_count": 868,
     "metadata": {},
     "output_type": "execute_result"
    }
   ],
   "source": [
    "# extra code – if given a vector, tape.gradient() will compute the gradient of\n",
    "#              the vector's sum.\n",
    "with tf.GradientTape() as tape:\n",
    "    z1 = f(w1, w2 + 2.)\n",
    "    z2 = f(w1, w2 + 5.)\n",
    "    z3 = f(w1, w2 + 7.)\n",
    "\n",
    "tape.gradient([z1, z2, z3], [w1, w2])"
   ],
   "metadata": {
    "collapsed": false,
    "ExecuteTime": {
     "end_time": "2024-03-03T12:24:09.403726Z",
     "start_time": "2024-03-03T12:24:09.393773Z"
    }
   },
   "id": "af8182a78d9989f4",
   "execution_count": 868
  },
  {
   "cell_type": "code",
   "outputs": [
    {
     "data": {
      "text/plain": "[<tf.Tensor: shape=(), dtype=float32, numpy=136.0>,\n <tf.Tensor: shape=(), dtype=float32, numpy=30.0>]"
     },
     "execution_count": 869,
     "metadata": {},
     "output_type": "execute_result"
    }
   ],
   "source": [
    "# extra code – shows that we get the same result as the previous cell\n",
    "with tf.GradientTape() as tape:\n",
    "    z1 = f(w1, w2 + 2.)\n",
    "    z2 = f(w1, w2 + 5.)\n",
    "    z3 = f(w1, w2 + 7.)\n",
    "    z = z1 + z2 + z3\n",
    "\n",
    "tape.gradient(z, [w1, w2])"
   ],
   "metadata": {
    "collapsed": false,
    "ExecuteTime": {
     "end_time": "2024-03-03T12:24:09.412211Z",
     "start_time": "2024-03-03T12:24:09.403726Z"
    }
   },
   "id": "2b295825c0ec04ca",
   "execution_count": 869
  },
  {
   "cell_type": "code",
   "outputs": [],
   "source": [
    "# extra code – shows how to compute the jacobians and the hessians\n",
    "with tf.GradientTape(persistent=True) as hessian_tape:\n",
    "    with tf.GradientTape() as jacobian_tape:\n",
    "        z = f(w1, w2)\n",
    "    jacobians = jacobian_tape.gradient(z, [w1, w2])\n",
    "hessians = [hessian_tape.gradient(jacobian, [w1, w2])\n",
    "            for jacobian in jacobians]\n",
    "del hessian_tape"
   ],
   "metadata": {
    "collapsed": false,
    "ExecuteTime": {
     "end_time": "2024-03-03T12:24:09.418042Z",
     "start_time": "2024-03-03T12:24:09.412211Z"
    }
   },
   "id": "a8b64e86265ba37c",
   "execution_count": 870
  },
  {
   "cell_type": "code",
   "outputs": [
    {
     "data": {
      "text/plain": "[<tf.Tensor: shape=(), dtype=float32, numpy=36.0>,\n <tf.Tensor: shape=(), dtype=float32, numpy=10.0>]"
     },
     "execution_count": 871,
     "metadata": {},
     "output_type": "execute_result"
    }
   ],
   "source": [
    "jacobians"
   ],
   "metadata": {
    "collapsed": false,
    "ExecuteTime": {
     "end_time": "2024-03-03T12:24:09.421817Z",
     "start_time": "2024-03-03T12:24:09.418042Z"
    }
   },
   "id": "46608756c41c2568",
   "execution_count": 871
  },
  {
   "cell_type": "code",
   "outputs": [
    {
     "data": {
      "text/plain": "[[<tf.Tensor: shape=(), dtype=float32, numpy=6.0>,\n  <tf.Tensor: shape=(), dtype=float32, numpy=2.0>],\n [<tf.Tensor: shape=(), dtype=float32, numpy=2.0>, None]]"
     },
     "execution_count": 872,
     "metadata": {},
     "output_type": "execute_result"
    }
   ],
   "source": [
    "\n",
    "hessians"
   ],
   "metadata": {
    "collapsed": false,
    "ExecuteTime": {
     "end_time": "2024-03-03T12:24:09.425881Z",
     "start_time": "2024-03-03T12:24:09.422817Z"
    }
   },
   "id": "ee601f1ea376ace2",
   "execution_count": 872
  },
  {
   "cell_type": "markdown",
   "source": [
    "This can be useful in some cases, like if you want to implement a regularization loss that penalizes activations that vary a lot when the inputs vary little: the loss will be based on the gradient of the activations with regard to the inputs. Since the inputs are not variables, you’ll need to tell the tape to watch them.\n",
    "\n",
    "Most of the time a gradient tape is used to compute the gradients of a single value (usually the loss) with regard to a set of values (usually the model parameters). This is where reverse-mode autodiff shines, as it just needs to do one forward pass and one reverse pass to get all the gradients at once. If you try to compute the gradients of a vector, for example a vector containing multiple losses, then TensorFlow will compute the gradients of the vector’s sum. So if you ever need to get the individual gradients (e.g., the gradients of each loss with regard to the model parameters), you must call the tape’s jacobian() method: it will perform reverse-mode autodiff once for each loss in the vector (all in parallel by default). It is even possible to compute second-order partial derivatives (the Hessians, i.e., the partial derivatives of the partial derivatives), but this is rarely needed in practice (see the “Computing Gradients Using Autodiff” section of this chapter’s notebook for an example).\n",
    "\n",
    "In some cases you may want to stop gradients from backpropagating through some part of your neural network. To do this, you must use the tf.stop_gradient() function. The function returns its inputs during the forward pass (like tf.identity()), but it does not let gradients through during backpropagation (it acts like a constant):"
   ],
   "metadata": {
    "collapsed": false
   },
   "id": "e67b19b54fa2caef"
  },
  {
   "cell_type": "code",
   "outputs": [],
   "source": [
    "def f(w1, w2):\n",
    "    return 3 * w1 ** 2 + tf.stop_gradient(2 * w1 * w2)\n",
    "\n",
    "with tf.GradientTape() as tape:\n",
    "    z = f(w1, w2)  # the forward pass is not affected by stop_gradient()\n",
    "\n",
    "gradients = tape.gradient(z, [w1, w2])  # returns [tensor 30., None]"
   ],
   "metadata": {
    "collapsed": false,
    "ExecuteTime": {
     "end_time": "2024-03-03T12:24:09.431387Z",
     "start_time": "2024-03-03T12:24:09.425881Z"
    }
   },
   "id": "1743284b43d53e7b",
   "execution_count": 873
  },
  {
   "cell_type": "code",
   "outputs": [
    {
     "data": {
      "text/plain": "[<tf.Tensor: shape=(), dtype=float32, numpy=30.0>, None]"
     },
     "execution_count": 874,
     "metadata": {},
     "output_type": "execute_result"
    }
   ],
   "source": [
    "gradients"
   ],
   "metadata": {
    "collapsed": false,
    "ExecuteTime": {
     "end_time": "2024-03-03T12:24:09.437073Z",
     "start_time": "2024-03-03T12:24:09.433384Z"
    }
   },
   "id": "d60dedde9804aad4",
   "execution_count": 874
  },
  {
   "cell_type": "markdown",
   "source": [
    "Finally, you may occasionally run into some numerical issues when computing gradients. For example, if you compute the gradients of the square root function at $x = 10^{–50}$, the result will be infinite. In reality, the slope at that point is not infinite, but it’s more than 32-bit floats can handle:"
   ],
   "metadata": {
    "collapsed": false
   },
   "id": "63d3f078a3e01349"
  },
  {
   "cell_type": "code",
   "outputs": [
    {
     "data": {
      "text/plain": "[<tf.Tensor: shape=(), dtype=float32, numpy=inf>]"
     },
     "execution_count": 875,
     "metadata": {},
     "output_type": "execute_result"
    }
   ],
   "source": [
    "x = tf.Variable(1e-50)\n",
    "with tf.GradientTape() as tape:\n",
    "    z = tf.sqrt(x)\n",
    "\n",
    "tape.gradient(z, [x])"
   ],
   "metadata": {
    "collapsed": false,
    "ExecuteTime": {
     "end_time": "2024-03-03T12:24:09.443375Z",
     "start_time": "2024-03-03T12:24:09.437073Z"
    }
   },
   "id": "1ad701b586d3cfb0",
   "execution_count": 875
  },
  {
   "cell_type": "code",
   "outputs": [
    {
     "data": {
      "text/plain": "<tf.Tensor: shape=(), dtype=float32, numpy=30.0>"
     },
     "execution_count": 876,
     "metadata": {},
     "output_type": "execute_result"
    }
   ],
   "source": [
    "tf.math.log(tf.exp(tf.constant(30., dtype=tf.float32)) + 1.)"
   ],
   "metadata": {
    "collapsed": false,
    "ExecuteTime": {
     "end_time": "2024-03-03T12:24:09.449129Z",
     "start_time": "2024-03-03T12:24:09.443375Z"
    }
   },
   "id": "d72390764ed5f6f3",
   "execution_count": 876
  },
  {
   "cell_type": "code",
   "outputs": [
    {
     "data": {
      "text/plain": "[<tf.Tensor: shape=(1,), dtype=float32, numpy=array([nan], dtype=float32)>]"
     },
     "execution_count": 877,
     "metadata": {},
     "output_type": "execute_result"
    }
   ],
   "source": [
    "x = tf.Variable([1.0e30])\n",
    "with tf.GradientTape() as tape:\n",
    "    z = my_softplus(x)\n",
    "\n",
    "tape.gradient(z, [x])"
   ],
   "metadata": {
    "collapsed": false,
    "ExecuteTime": {
     "end_time": "2024-03-03T12:24:09.458260Z",
     "start_time": "2024-03-03T12:24:09.450129Z"
    }
   },
   "id": "841138d923542771",
   "execution_count": 877
  },
  {
   "cell_type": "markdown",
   "source": [
    "To solve this, it’s often a good idea to add a tiny value to $x \\,$ (such as $10^{–6}$) when computing its square root.\n",
    "\n",
    "The exponential function is also a frequent source of headaches, as it grows extremely fast. For example, the way my_softplus() was defined earlier is not numerically stable. If you compute my_softplus(100.0), you will get infinity rather than the correct result (about 100). But it’s possible to rewrite the function to make it numerically stable: the softplus function is defined as $\\log(1 + \\exp(z))$, which is also equal to $\\log(1 + \\exp(-|z|)) + \\max(z, 0)$ (see the notebook for the mathematical proof) and the advantage of this second form is that the exponential term cannot explode. So, here’s a better implementation of the my_softplus() function:\n"
   ],
   "metadata": {
    "collapsed": false
   },
   "id": "e8c4ef04e2398025"
  },
  {
   "cell_type": "code",
   "outputs": [],
   "source": [
    "def my_softplus(z):\n",
    "    return tf.math.log(1 + tf.exp(-tf.abs(z))) + tf.maximum(0., z)"
   ],
   "metadata": {
    "collapsed": false,
    "ExecuteTime": {
     "end_time": "2024-03-03T12:24:09.461205Z",
     "start_time": "2024-03-03T12:24:09.458260Z"
    }
   },
   "id": "61d4774c0b194125",
   "execution_count": 878
  },
  {
   "cell_type": "markdown",
   "source": [
    "Here is the proof that this equation is equal to log(1 + exp(z)):\n",
    "\n",
    "- softplus(z) = log(1 + exp(z))\n",
    "- softplus(z) = log(1 + exp(z)) - log(exp(z)) + log(exp(z)) ; just adding and subtracting the same value\n",
    "- softplus(z) = log[(1 + exp(z)) / exp(z)] + log(exp(z)) ; since log(a) - log(b) = log(a / b)\n",
    "- softplus(z) = log[(1 + exp(z)) / exp(z)] + z ; since log(exp(z)) = z\n",
    "- softplus(z) = log[1 / exp(z) + exp(z) / exp(z)] + z ; since (1 + a) / b = 1 / b + a / b\n",
    "- softplus(z) = log[exp(–z) + 1] + z ; since 1 / exp(z) = exp(–z), and exp(z) / exp(z) = 1\n",
    "- softplus(z) = softplus(–z) + z ; we recognize the definition at the top, but with –z\n",
    "- softplus(z) = softplus(–|z|) + max(0, z) ; if you consider both cases, z < 0 or z ≥ 0, you will see that this works"
   ],
   "metadata": {
    "collapsed": false
   },
   "id": "a1f7c8a505b3950d"
  },
  {
   "cell_type": "markdown",
   "source": [
    "In some rare cases, a numerically stable function may still have numerically unstable gradients. In such cases, you will have to tell TensorFlow which equation to use for the gradients, rather than letting it use autodiff. For this, you must use the @tf.​cus⁠tom_gradient decorator when defining the function, and return both the function’s usual result and a function that computes the gradients. For example, let’s update the my_softplus() function to also return a numerically stable gradients function:"
   ],
   "metadata": {
    "collapsed": false
   },
   "id": "d78b5fea5c632bc0"
  },
  {
   "cell_type": "code",
   "outputs": [],
   "source": [
    "@tf.custom_gradient\n",
    "def my_softplus(z):\n",
    "    def my_softplus_gradients(grads):  # grads = backprop'ed from upper layers\n",
    "        return grads * (1 - 1 / (1 + tf.exp(z)))  # stable grads of softplus\n",
    "\n",
    "    result = tf.math.log(1 + tf.exp(-tf.abs(z))) + tf.maximum(0., z)\n",
    "    return result, my_softplus_gradients"
   ],
   "metadata": {
    "collapsed": false,
    "ExecuteTime": {
     "end_time": "2024-03-03T12:24:09.465018Z",
     "start_time": "2024-03-03T12:24:09.462205Z"
    }
   },
   "id": "c4a839a2521741d6",
   "execution_count": 879
  },
  {
   "cell_type": "code",
   "outputs": [
    {
     "data": {
      "text/plain": "(<tf.Tensor: shape=(1,), dtype=float32, numpy=array([1000.], dtype=float32)>,\n [<tf.Tensor: shape=(1,), dtype=float32, numpy=array([1.], dtype=float32)>])"
     },
     "execution_count": 880,
     "metadata": {},
     "output_type": "execute_result"
    }
   ],
   "source": [
    "# extra code – shows that the function is now stable, as well as its gradients\n",
    "x = tf.Variable([1000.])\n",
    "with tf.GradientTape() as tape:\n",
    "    z = my_softplus(x)\n",
    "\n",
    "z, tape.gradient(z, [x])"
   ],
   "metadata": {
    "collapsed": false,
    "ExecuteTime": {
     "end_time": "2024-03-03T12:24:09.474173Z",
     "start_time": "2024-03-03T12:24:09.465018Z"
    }
   },
   "id": "498e1b396fa204b",
   "execution_count": 880
  },
  {
   "cell_type": "markdown",
   "source": [
    "If you know differential calculus (see the tutorial notebook on this topic), you can find that the derivative of $\\text{log}(1 + \\text{exp}(z))$ is $\\text{exp}(z) / (1 + \\text{exp}(z))$. But this form is not stable: for large values of $z$, it ends up computing infinity divided by infinity, which returns NaN. However, with a bit of algebraic manipulation, you can show that it’s also equal to $1 – 1 / (1 + \\text{exp}(z))$, which is stable. The my_softplus_gradients() function uses this equation to compute the gradients. Note that this function will receive as input the gradients that were backpropagated so far, down to the my_softplus() function, and according to the chain rule we must multiply them with this function’s gradients.\n",
    "\n",
    "Now when we compute the gradients of the my_softplus() function, we get the proper result, even for large input values.\n",
    "\n",
    "Congratulations! You can now compute the gradients of any function (provided it is differentiable at the point where you compute it), even blocking backpropagation when needed, and write your own gradient functions! This is probably more flexibility than you will ever need, even if you build your own custom training loops. You’ll see how to do that next."
   ],
   "metadata": {
    "collapsed": false
   },
   "id": "252243546dce419e"
  },
  {
   "cell_type": "markdown",
   "source": [
    "**Custom Training Loops**\n",
    "In some cases, the fit() method may not be flexible enough for what you need to do. For example, the Wide & Deep paper we discussed in Chapter 10 uses two different optimizers: one for the wide path and the other for the deep path. Since the fit() method only uses one optimizer (the one that we specify when compiling the model), implementing this paper requires writing your own custom loop.\n",
    "\n",
    "You may also like to write custom training loops simply to feel more confident that they do precisely what you intend them to do (perhaps you are unsure about some details of the fit() method). It can sometimes feel safer to make everything explicit. However, remember that writing a custom training loop will make your code longer, more error-prone, and harder to maintain.\n"
   ],
   "metadata": {
    "collapsed": false
   },
   "id": "b3351100b5b67109"
  },
  {
   "cell_type": "markdown",
   "source": [
    "TIP\n",
    "Unless you’re learning or you really need the extra flexibility, you should prefer using the fit() method rather than implementing your own training loop, especially if you work in a team."
   ],
   "metadata": {
    "collapsed": false
   },
   "id": "e8b887708f9dfeb4"
  },
  {
   "cell_type": "markdown",
   "source": [
    "First, let’s build a simple model. There’s no need to compile it, since we will handle the training loop manually:"
   ],
   "metadata": {
    "collapsed": false
   },
   "id": "f9caad6195fa2693"
  },
  {
   "cell_type": "code",
   "outputs": [],
   "source": [
    "tf.keras.utils.set_random_seed(42)  # extra code – to ensure reproducibility\n",
    "l2_reg = tf.keras.regularizers.l2(0.05)\n",
    "model = tf.keras.models.Sequential([\n",
    "    tf.keras.layers.Dense(30, activation=\"relu\", kernel_initializer=\"he_normal\",\n",
    "                          kernel_regularizer=l2_reg),\n",
    "    tf.keras.layers.Dense(1, kernel_regularizer=l2_reg)\n",
    "])"
   ],
   "metadata": {
    "collapsed": false,
    "ExecuteTime": {
     "end_time": "2024-03-03T12:24:09.487737Z",
     "start_time": "2024-03-03T12:24:09.474173Z"
    }
   },
   "id": "35697803c74279f8",
   "execution_count": 881
  },
  {
   "cell_type": "markdown",
   "source": [
    "Next, let’s create a tiny function that will randomly sample a batch of instances from the training set (in Chapter 13 we will discuss the tf.data API, which offers a much better alternative):"
   ],
   "metadata": {
    "collapsed": false
   },
   "id": "a0f12e2e817b9603"
  },
  {
   "cell_type": "code",
   "outputs": [],
   "source": [
    "def random_batch(X, y, batch_size=32):\n",
    "    idx = np.random.randint(len(X), size=batch_size)\n",
    "    return X[idx], y[idx]"
   ],
   "metadata": {
    "collapsed": false,
    "ExecuteTime": {
     "end_time": "2024-03-03T12:24:09.490865Z",
     "start_time": "2024-03-03T12:24:09.487737Z"
    }
   },
   "id": "4ceb6f7059d969ec",
   "execution_count": 882
  },
  {
   "cell_type": "markdown",
   "source": [
    "Let’s also define a function that will display the training status, including the number of steps, the total number of steps, the mean loss since the start of the epoch (we will use the Mean metric to compute it), and other metrics:"
   ],
   "metadata": {
    "collapsed": false
   },
   "id": "84f9385380e6a295"
  },
  {
   "cell_type": "code",
   "outputs": [],
   "source": [
    "\n",
    "def print_status_bar(step, total, loss, metrics=None):\n",
    "    metrics = \" - \".join([f\"{m.name}: {m.result():.4f}\"\n",
    "                          for m in [loss] + (metrics or [])])\n",
    "    end = \"\" if step < total else \"\\n\"\n",
    "    print(f\"\\r{step}/{total} - \" + metrics, end=end)"
   ],
   "metadata": {
    "collapsed": false,
    "ExecuteTime": {
     "end_time": "2024-03-03T12:24:09.494639Z",
     "start_time": "2024-03-03T12:24:09.491864Z"
    }
   },
   "id": "3f8cb6c6f10b8556",
   "execution_count": 883
  },
  {
   "cell_type": "markdown",
   "source": [
    "This code is self-explanatory, unless you are unfamiliar with Python string formatting: {m.result():.4f} will format the metric’s result as a float with four digits after the decimal point, and using \\r (carriage return) along with end=\"\" ensures that the status bar always gets printed on the same line.\n",
    "\n",
    "With that, let’s get down to business! First, we need to define some hyperparameters and choose the optimizer, the loss function, and the metrics (just the MAE in this example):"
   ],
   "metadata": {
    "collapsed": false
   },
   "id": "261e0fce5c63ebe5"
  },
  {
   "cell_type": "code",
   "outputs": [],
   "source": [
    "tf.keras.utils.set_random_seed(42)"
   ],
   "metadata": {
    "collapsed": false,
    "ExecuteTime": {
     "end_time": "2024-03-03T12:24:09.497877Z",
     "start_time": "2024-03-03T12:24:09.494639Z"
    }
   },
   "id": "7f0f82d6565852bd",
   "execution_count": 884
  },
  {
   "cell_type": "code",
   "outputs": [],
   "source": [
    "n_epochs = 5\n",
    "batch_size = 32\n",
    "n_steps = len(X_train) // batch_size\n",
    "optimizer = tf.keras.optimizers.SGD(learning_rate=0.01)\n",
    "loss_fn = tf.keras.losses.mean_squared_error\n",
    "mean_loss = tf.keras.metrics.Mean(name=\"mean_loss\")\n",
    "metrics = [tf.keras.metrics.MeanAbsoluteError()]"
   ],
   "metadata": {
    "collapsed": false,
    "ExecuteTime": {
     "end_time": "2024-03-03T12:24:09.509459Z",
     "start_time": "2024-03-03T12:24:09.497877Z"
    }
   },
   "id": "d070a28b6756e03e",
   "execution_count": 885
  },
  {
   "cell_type": "markdown",
   "source": [
    "And now we are ready to build the custom loop!"
   ],
   "metadata": {
    "collapsed": false
   },
   "id": "e9344138feb99338"
  },
  {
   "cell_type": "code",
   "outputs": [
    {
     "name": "stdout",
     "output_type": "stream",
     "text": [
      "Epoch 1/5\n",
      "362/362 - mean_loss: 3.5419 - mean_absolute_error: 0.6640\n",
      "Epoch 2/5\n",
      "362/362 - mean_loss: 1.8693 - mean_absolute_error: 0.5431\n",
      "Epoch 3/5\n",
      "362/362 - mean_loss: 1.1428 - mean_absolute_error: 0.5030\n",
      "Epoch 4/5\n",
      "362/362 - mean_loss: 0.8501 - mean_absolute_error: 0.4977\n",
      "Epoch 5/5\n",
      "362/362 - mean_loss: 0.7280 - mean_absolute_error: 0.5014\n"
     ]
    }
   ],
   "source": [
    "for epoch in range(1, n_epochs + 1):\n",
    "    print(f\"Epoch {epoch}/{n_epochs}\")\n",
    "    for step in range(1, n_steps + 1):\n",
    "        X_batch, y_batch = random_batch(X_train_scaled, y_train)\n",
    "        with tf.GradientTape() as tape:\n",
    "            y_pred = model(X_batch, training=True)\n",
    "            main_loss = tf.reduce_mean(loss_fn(y_batch, y_pred))\n",
    "            loss = tf.add_n([main_loss] + model.losses)\n",
    "\n",
    "        gradients = tape.gradient(loss, model.trainable_variables)\n",
    "        optimizer.apply_gradients(zip(gradients, model.trainable_variables))\n",
    "\n",
    "        # extra code – if your model has variable constraints\n",
    "        for variable in model.variables:\n",
    "            if variable.constraint is not None:\n",
    "                variable.assign(variable.constraint(variable))\n",
    "\n",
    "        mean_loss(loss)\n",
    "        for metric in metrics:\n",
    "            metric(y_batch, y_pred)\n",
    "\n",
    "        print_status_bar(step, n_steps, mean_loss, metrics)\n",
    "\n",
    "    for metric in [mean_loss] + metrics:\n",
    "        metric.reset_states()"
   ],
   "metadata": {
    "collapsed": false,
    "ExecuteTime": {
     "end_time": "2024-03-03T12:24:27.030512Z",
     "start_time": "2024-03-03T12:24:09.509459Z"
    }
   },
   "id": "ef0a1f83f21d620a",
   "execution_count": 886
  },
  {
   "cell_type": "markdown",
   "source": [
    "There’s a lot going on in this code, so let’s walk through it:\n",
    "\n",
    "We create two nested loops: one for the epochs, the other for the batches within an epoch.\n",
    "\n",
    "Then we sample a random batch from the training set.\n",
    "\n",
    "Inside the tf.GradientTape() block, we make a prediction for one batch, using the model as a function, and we compute the loss: it is equal to the main loss plus the other losses (in this model, there is one regularization loss per layer). Since the mean_squared_error() function returns one loss per instance, we compute the mean over the batch using tf.reduce_mean() (if you wanted to apply different weights to each instance, this is where you would do it). The regularization losses are already reduced to a single scalar each, so we just need to sum them (using tf.add_n(), which sums multiple tensors of the same shape and data type).\n",
    "\n",
    "Next, we ask the tape to compute the gradients of the loss with regard to each trainable variable—not all variables!—and we apply them to the optimizer to perform a gradient descent step.\n",
    "\n",
    "Then we update the mean loss and the metrics (over the current epoch), and we display the status bar.\n",
    "\n",
    "At the end of each epoch, we reset the states of the mean loss and the metrics.\n",
    "\n",
    "If you want to apply gradient clipping (see Chapter 11), set the optimizer’s clipnorm or clipvalue hyperparameter. If you want to apply any other transformation to the gradients, simply do so before calling the apply_gradients() method. And if you want to add weight constraints to your model (e.g., by setting kernel_constraint or bias_constraint when creating a layer), you should update the training loop to apply these constraints just after apply_gradients(), like so:"
   ],
   "metadata": {
    "collapsed": false
   },
   "id": "ed750b710e9e4eca"
  },
  {
   "cell_type": "code",
   "outputs": [],
   "source": [
    "# for variable in model.variables:\n",
    "#     if variable.constraint is not None:\n",
    "#         variable.assign(variable.constraint(variable))"
   ],
   "metadata": {
    "collapsed": false,
    "ExecuteTime": {
     "end_time": "2024-03-03T12:24:27.034019Z",
     "start_time": "2024-03-03T12:24:27.031511Z"
    }
   },
   "id": "3ea2ad8eafb3cb5c",
   "execution_count": 887
  },
  {
   "cell_type": "markdown",
   "source": [
    "WARNING\n",
    "Don’t forget to set training=True when calling the model in the training loop, especially if your model behaves differently during training and testing (e.g., if it uses BatchNormalization or Dropout). If it’s a custom model, make sure to propagate the training argument to the layers that your model calls."
   ],
   "metadata": {
    "collapsed": false
   },
   "id": "53d3c6288427cd8c"
  },
  {
   "cell_type": "markdown",
   "source": [
    "As you can see, there are quite a lot of things you need to get right, and it’s easy to make a mistake. But on the bright side, you get full control.\n",
    "\n",
    "Now that you know how to customize any part of your models and training algorithms, let’s see how you can use TensorFlow’s automatic graph generation feature: it can speed up your custom code considerably, and it will also make it portable to any platform supported by TensorFlow (see Chapter 19)."
   ],
   "metadata": {
    "collapsed": false
   },
   "id": "28b3c4e0093535a0"
  },
  {
   "cell_type": "code",
   "outputs": [
    {
     "data": {
      "text/plain": "All epochs:   0%|          | 0/5 [00:00<?, ?it/s]",
      "application/vnd.jupyter.widget-view+json": {
       "version_major": 2,
       "version_minor": 0,
       "model_id": "64bc5f1b925a41b7a90055408a7c8147"
      }
     },
     "metadata": {},
     "output_type": "display_data"
    },
    {
     "data": {
      "text/plain": "Epoch 1/5:   0%|          | 0/362 [00:00<?, ?it/s]",
      "application/vnd.jupyter.widget-view+json": {
       "version_major": 2,
       "version_minor": 0,
       "model_id": "d7bfa5ec56d247d2a4647cb8849a1e6f"
      }
     },
     "metadata": {},
     "output_type": "display_data"
    },
    {
     "data": {
      "text/plain": "Epoch 2/5:   0%|          | 0/362 [00:00<?, ?it/s]",
      "application/vnd.jupyter.widget-view+json": {
       "version_major": 2,
       "version_minor": 0,
       "model_id": "7d414ea7070b429d9be388fdd4c2eec2"
      }
     },
     "metadata": {},
     "output_type": "display_data"
    },
    {
     "data": {
      "text/plain": "Epoch 3/5:   0%|          | 0/362 [00:00<?, ?it/s]",
      "application/vnd.jupyter.widget-view+json": {
       "version_major": 2,
       "version_minor": 0,
       "model_id": "17551c6f04284724a423d61827ba4924"
      }
     },
     "metadata": {},
     "output_type": "display_data"
    },
    {
     "data": {
      "text/plain": "Epoch 4/5:   0%|          | 0/362 [00:00<?, ?it/s]",
      "application/vnd.jupyter.widget-view+json": {
       "version_major": 2,
       "version_minor": 0,
       "model_id": "33c8c1d6f4704d57a9b65d83770c83d6"
      }
     },
     "metadata": {},
     "output_type": "display_data"
    },
    {
     "data": {
      "text/plain": "Epoch 5/5:   0%|          | 0/362 [00:00<?, ?it/s]",
      "application/vnd.jupyter.widget-view+json": {
       "version_major": 2,
       "version_minor": 0,
       "model_id": "311b36ac1fa547858307e888c72477b2"
      }
     },
     "metadata": {},
     "output_type": "display_data"
    }
   ],
   "source": [
    "# extra code – shows how to use the tqdm package to display nice progress bars\n",
    "\n",
    "from tqdm.notebook import trange\n",
    "from collections import OrderedDict\n",
    "with trange(1, n_epochs + 1, desc=\"All epochs\") as epochs:\n",
    "    for epoch in epochs:\n",
    "        with trange(1, n_steps + 1, desc=f\"Epoch {epoch}/{n_epochs}\") as steps:\n",
    "            for step in steps:\n",
    "                X_batch, y_batch = random_batch(X_train_scaled, y_train)\n",
    "                with tf.GradientTape() as tape:\n",
    "                    y_pred = model(X_batch)\n",
    "                    main_loss = tf.reduce_mean(loss_fn(y_batch, y_pred))\n",
    "                    loss = tf.add_n([main_loss] + model.losses)\n",
    "\n",
    "                gradients = tape.gradient(loss, model.trainable_variables)\n",
    "                optimizer.apply_gradients(zip(gradients, model.trainable_variables))\n",
    "\n",
    "                for variable in model.variables:\n",
    "                    if variable.constraint is not None:\n",
    "                        variable.assign(variable.constraint(variable))\n",
    "\n",
    "                status = OrderedDict()\n",
    "                mean_loss(loss)\n",
    "                status[\"loss\"] = mean_loss.result().numpy()\n",
    "                for metric in metrics:\n",
    "                    metric(y_batch, y_pred)\n",
    "                    status[metric.name] = metric.result().numpy()\n",
    "\n",
    "                steps.set_postfix(status)\n",
    "\n",
    "        for metric in [mean_loss] + metrics:\n",
    "            metric.reset_states()"
   ],
   "metadata": {
    "collapsed": false,
    "ExecuteTime": {
     "end_time": "2024-03-03T12:24:45.240157Z",
     "start_time": "2024-03-03T12:24:27.037012Z"
    }
   },
   "id": "188880afbfcbfa60",
   "execution_count": 888
  },
  {
   "cell_type": "markdown",
   "source": [
    "# TENSORFLOW FUNCTIONS AND GRAPHS\n",
    "Back in TensorFlow 1, graphs were unavoidable (as were the complexities that came with them) because they were a central part of TensorFlow’s API. Since TensorFlow 2 (released in 2019), graphs are still there, but not as central, and they’re much (much!) simpler to use. To show just how simple, let’s start with a trivial function that computes the cube of its input:"
   ],
   "metadata": {
    "collapsed": false
   },
   "id": "ce200fdb1f0ac72f"
  },
  {
   "cell_type": "code",
   "outputs": [],
   "source": [
    "def cube(x):\n",
    "    return x ** 3"
   ],
   "metadata": {
    "collapsed": false,
    "ExecuteTime": {
     "end_time": "2024-03-03T12:24:45.243281Z",
     "start_time": "2024-03-03T12:24:45.240157Z"
    }
   },
   "id": "74bd7bad70c8db8a",
   "execution_count": 889
  },
  {
   "cell_type": "markdown",
   "source": [
    "We can obviously call this function with a Python value, such as an int or a float, or we can call it with a tensor:"
   ],
   "metadata": {
    "collapsed": false
   },
   "id": "adef1fc3fcecfdc2"
  },
  {
   "cell_type": "code",
   "outputs": [
    {
     "data": {
      "text/plain": "8"
     },
     "execution_count": 890,
     "metadata": {},
     "output_type": "execute_result"
    }
   ],
   "source": [
    "cube(2)"
   ],
   "metadata": {
    "collapsed": false,
    "ExecuteTime": {
     "end_time": "2024-03-03T12:24:45.247313Z",
     "start_time": "2024-03-03T12:24:45.243281Z"
    }
   },
   "id": "3021059febe16e00",
   "execution_count": 890
  },
  {
   "cell_type": "code",
   "outputs": [
    {
     "data": {
      "text/plain": "<tf.Tensor: shape=(), dtype=float32, numpy=8.0>"
     },
     "execution_count": 891,
     "metadata": {},
     "output_type": "execute_result"
    }
   ],
   "source": [
    "cube(tf.constant(2.0))"
   ],
   "metadata": {
    "collapsed": false,
    "ExecuteTime": {
     "end_time": "2024-03-03T12:24:45.252211Z",
     "start_time": "2024-03-03T12:24:45.248313Z"
    }
   },
   "id": "868e1bbab79d330f",
   "execution_count": 891
  },
  {
   "cell_type": "markdown",
   "source": [
    "Now, let’s use tf.function() to convert this Python function to a TensorFlow function:"
   ],
   "metadata": {
    "collapsed": false
   },
   "id": "d40a33cb794caf8d"
  },
  {
   "cell_type": "code",
   "outputs": [
    {
     "data": {
      "text/plain": "<tensorflow.python.eager.polymorphic_function.polymorphic_function.Function at 0x17698152b50>"
     },
     "execution_count": 892,
     "metadata": {},
     "output_type": "execute_result"
    }
   ],
   "source": [
    "tf_cube = tf.function(cube)\n",
    "tf_cube"
   ],
   "metadata": {
    "collapsed": false,
    "ExecuteTime": {
     "end_time": "2024-03-03T12:24:45.256233Z",
     "start_time": "2024-03-03T12:24:45.252211Z"
    }
   },
   "id": "3e6afaa1ea5c3d06",
   "execution_count": 892
  },
  {
   "cell_type": "markdown",
   "source": [
    "This TF function can then be used exactly like the original Python function, and it will return the same result (but always as tensors):"
   ],
   "metadata": {
    "collapsed": false
   },
   "id": "1c2c415533beaa37"
  },
  {
   "cell_type": "code",
   "outputs": [
    {
     "data": {
      "text/plain": "<tf.Tensor: shape=(), dtype=int32, numpy=8>"
     },
     "execution_count": 893,
     "metadata": {},
     "output_type": "execute_result"
    }
   ],
   "source": [
    "tf_cube(2)"
   ],
   "metadata": {
    "collapsed": false,
    "ExecuteTime": {
     "end_time": "2024-03-03T12:24:45.264296Z",
     "start_time": "2024-03-03T12:24:45.257233Z"
    }
   },
   "id": "552003541a032df6",
   "execution_count": 893
  },
  {
   "cell_type": "code",
   "outputs": [
    {
     "data": {
      "text/plain": "<tf.Tensor: shape=(), dtype=float32, numpy=8.0>"
     },
     "execution_count": 894,
     "metadata": {},
     "output_type": "execute_result"
    }
   ],
   "source": [
    "tf_cube(tf.constant(2.0))"
   ],
   "metadata": {
    "collapsed": false,
    "ExecuteTime": {
     "end_time": "2024-03-03T12:24:45.274578Z",
     "start_time": "2024-03-03T12:24:45.264296Z"
    }
   },
   "id": "45829a6161b47ebb",
   "execution_count": 894
  },
  {
   "cell_type": "markdown",
   "source": [
    "Under the hood, tf.function() analyzed the computations performed by the cube() function and generated an equivalent computation graph! As you can see, it was rather painless (we will look at how this works shortly). Alternatively, we could have used tf.function as a decorator; this is actually more common:"
   ],
   "metadata": {
    "collapsed": false
   },
   "id": "ba8dcc8441586a6c"
  },
  {
   "cell_type": "code",
   "outputs": [],
   "source": [
    "@tf.function\n",
    "def tf_cube(x):\n",
    "    return x ** 3"
   ],
   "metadata": {
    "collapsed": false,
    "ExecuteTime": {
     "end_time": "2024-03-03T12:24:45.277769Z",
     "start_time": "2024-03-03T12:24:45.274578Z"
    }
   },
   "id": "f61295dd5f4b379d",
   "execution_count": 895
  },
  {
   "cell_type": "markdown",
   "source": [
    "The original Python function is still available via the TF function’s python_function attribute, in case you ever need it:"
   ],
   "metadata": {
    "collapsed": false
   },
   "id": "f742edcc1210f2cf"
  },
  {
   "cell_type": "code",
   "outputs": [
    {
     "data": {
      "text/plain": "8"
     },
     "execution_count": 896,
     "metadata": {},
     "output_type": "execute_result"
    }
   ],
   "source": [
    "tf_cube.python_function(2)"
   ],
   "metadata": {
    "collapsed": false,
    "ExecuteTime": {
     "end_time": "2024-03-03T12:24:45.281635Z",
     "start_time": "2024-03-03T12:24:45.277769Z"
    }
   },
   "id": "8831add4bfc82712",
   "execution_count": 896
  },
  {
   "cell_type": "markdown",
   "source": [
    "TensorFlow optimizes the computation graph, pruning unused nodes, simplifying expressions (e.g., 1 + 2 would get replaced with 3), and more. Once the optimized graph is ready, the TF function efficiently executes the operations in the graph, in the appropriate order (and in parallel when it can). As a result, a TF function will usually run much faster than the original Python function, especially if it performs complex computations. Most of the time you will not really need to know more than that: when you want to boost a Python function, just transform it into a TF function. That’s all!\n",
    "\n",
    "Moreover, if you set jit_compile=True when calling tf.function(), then TensorFlow will use accelerated linear algebra (XLA) to compile dedicated kernels for your graph, often fusing multiple operations. For example, if your TF function calls tf.reduce_sum(a * b + c), then without XLA the function would first need to compute a * b and store the result in a temporary variable, then add c to that variable, and lastly call tf.reduce_sum() on the result. With XLA, the whole computation gets compiled into a single kernel, which will compute tf.reduce_sum(a * b + c) in one shot, without using any large temporary variable. Not only will this be much faster, it will also use dramatically less RAM.\n",
    "\n",
    "When you write a custom loss function, a custom metric, a custom layer, or any other custom function and you use it in a Keras model (as we’ve done throughout this chapter), Keras automatically converts your function into a TF function—no need to use tf.function(). So most of the time, the magic is 100% transparent. And if you want Keras to use XLA, you just need to set jit_compile=True when calling the compile() method. Easy!"
   ],
   "metadata": {
    "collapsed": false
   },
   "id": "3593f957beebf0ec"
  },
  {
   "cell_type": "markdown",
   "source": [
    "TIP\n",
    "You can tell Keras not to convert your Python functions to TF functions by setting dynamic=True when creating a custom layer or a custom model. Alternatively, you can set run_eagerly=True when calling the model’s compile() method."
   ],
   "metadata": {
    "collapsed": false
   },
   "id": "7577328871740eab"
  },
  {
   "cell_type": "markdown",
   "source": [
    "By default, a TF function generates a new graph for every unique set of input shapes and data types and caches it for subsequent calls. For example, if you call tf_cube(tf.constant(10)), a graph will be generated for int32 tensors of shape []. Then if you call tf_cube(tf.constant(20)), the same graph will be reused. But if you then call tf_cube(tf.constant([10, 20])), a new graph will be generated for int32 tensors of shape [2]. This is how TF functions handle polymorphism (i.e., varying argument types and shapes). However, this is only true for tensor arguments: if you pass numerical Python values to a TF function, a new graph will be generated for every distinct value: for example, calling tf_cube(10) and tf_cube(20) will generate two graphs."
   ],
   "metadata": {
    "collapsed": false
   },
   "id": "7b82d6b30bf68813"
  },
  {
   "cell_type": "markdown",
   "source": [
    "WARNING\n",
    "If you call a TF function many times with different numerical Python values, then many graphs will be generated, slowing down your program and using up a lot of RAM (you must delete the TF function to release it). Python values should be reserved for arguments that will have few unique values, such as hyperparameters like the number of neurons per layer. This allows TensorFlow to better optimize each variant of your model."
   ],
   "metadata": {
    "collapsed": false
   },
   "id": "5683846ab4b326cb"
  },
  {
   "cell_type": "markdown",
   "source": [
    "**AutoGraph and Tracing**\n",
    "So how does TensorFlow generate graphs? It starts by analyzing the Python function’s source code to capture all the control flow statements, such as for loops, while loops, and if statements, as well as break, continue, and return statements. This first step is called AutoGraph. The reason TensorFlow has to analyze the source code is that Python does not provide any other way to capture control flow statements: it offers magic methods like `__add__()` and `__mul__()` to capture operators like + and *, but there are no `__while__()` or `__if__()` magic methods. After analyzing the function’s code, AutoGraph outputs an upgraded version of that function in which all the control flow statements are replaced by the appropriate TensorFlow operations, such as tf.while_loop() for loops and tf.cond() for if statements. For example, in Figure 12-4, AutoGraph analyzes the source code of the sum_squares() Python function, and it generates the tf__sum_squares() function. In this function, the for loop is replaced by the definition of the loop_body() function (containing the body of the original for loop), followed by a call to the for_stmt() function. This call will build the appropriate tf.while_loop() operation in the computation graph."
   ],
   "metadata": {
    "collapsed": false
   },
   "id": "d46e58911ca2b564"
  },
  {
   "cell_type": "markdown",
   "source": [
    "Figure 12-4. How TensorFlow generates graphs using AutoGraph and tracing\n",
    "![mls3_1204](../images/mls3_1204.png)"
   ],
   "metadata": {
    "collapsed": false
   },
   "id": "c67ea802f2393712"
  },
  {
   "cell_type": "markdown",
   "source": [
    "Next, TensorFlow calls this “upgraded” function, but instead of passing the argument, it passes a symbolic tensor—a tensor without any actual value, only a name, a data type, and a shape. For example, if you call sum_squares(tf.constant(10)), then the tf__sum_squares() function will be called with a symbolic tensor of type int32 and shape []. The function will run in graph mode, meaning that each TensorFlow operation will add a node in the graph to represent itself and its output tensor(s) (as opposed to the regular mode, called eager execution, or eager mode). In graph mode, TF operations do not perform any computations. Graph mode was the default mode in TensorFlow 1. In Figure 12-4, you can see the tf__sum_squares() function being called with a symbolic tensor as its argument (in this case, an int32 tensor of shape []) and the final graph being generated during tracing. The nodes represent operations, and the arrows represent tensors (both the generated function and the graph are simplified)."
   ],
   "metadata": {
    "collapsed": false
   },
   "id": "f65612e414547276"
  },
  {
   "cell_type": "markdown",
   "source": [
    "TIP\n",
    "In order to view the generated function’s source code, you can call tf.autograph.to_code(sum_squares.python_function). The code is not meant to be pretty, but it can sometimes help for debugging."
   ],
   "metadata": {
    "collapsed": false
   },
   "id": "76187b47d82904b2"
  },
  {
   "cell_type": "markdown",
   "source": [
    "**TF Function Rules**\n",
    "Most of the time, converting a Python function that performs TensorFlow operations into a TF function is trivial: decorate it with @tf.function or let Keras take care of it for you. However, there are a few rules to respect:\n",
    "\n",
    "- If you call any external library, including NumPy or even the standard library, this call will run only during tracing; it will not be part of the graph. Indeed, a TensorFlow graph can only include TensorFlow constructs (tensors, operations, variables, datasets, and so on). So, make sure you use tf.reduce_sum() instead of np.sum(), tf.sort() instead of the built-in sorted() function, and so on (unless you really want the code to run only during tracing). This has a few additional implications:\n",
    "\n",
    "    - If you define a TF function f(x) that just returns np.random.rand(), a random number will only be generated when the function is traced, so f(tf.constant(2.)) and f(tf.constant(3.)) will return the same random number, but f(tf.constant([2., 3.])) will return a different one. If you replace np.random.rand() with tf.random.uniform([]), then a new random number will be generated upon every call, since the operation will be part of the graph.\n",
    "\n",
    "    - If your non-TensorFlow code has side effects (such as logging something or updating a Python counter), then you should not expect those side effects to occur every time you call the TF function, as they will only occur when the function is traced.\n",
    "\n",
    "    - You can wrap arbitrary Python code in a tf.py_function() operation, but doing so will hinder performance, as TensorFlow will not be able to do any graph optimization on this code. It will also reduce portability, as the graph will only run on platforms where Python is available (and where the right libraries are installed).\n",
    "\n",
    "- You can call other Python functions or TF functions, but they should follow the same rules, as TensorFlow will capture their operations in the computation graph. Note that these other functions do not need to be decorated with @tf.function.\n",
    "\n",
    "- If the function creates a TensorFlow variable (or any other stateful TensorFlow object, such as a dataset or a queue), it must do so upon the very first call, and only then, or else you will get an exception. It is usually preferable to create variables outside of the TF function (e.g., in the build() method of a custom layer). If you want to assign a new value to the variable, make sure you call its assign() method instead of using the = operator.\n",
    "\n",
    "- The source code of your Python function should be available to TensorFlow. If the source code is unavailable (for example, if you define your function in the Python shell, which does not give access to the source code, or if you deploy only the compiled *.pyc Python files to production), then the graph generation process will fail or have limited functionality.\n",
    "\n",
    "- TensorFlow will only capture for loops that iterate over a tensor or a tf.data.Dataset (see Chapter 13). Therefore, make sure you use for i in tf.range(x) rather than for i in range(x), or else the loop will not be captured in the graph. Instead, it will run during tracing. (This may be what you want if the for loop is meant to build the graph; for example, to create each layer in a neural network.)\n",
    "\n",
    "- As always, for performance reasons, you should prefer a vectorized implementation whenever you can, rather than using loops.\n",
    "\n",
    "It’s time to sum up! In this chapter we started with a brief overview of TensorFlow, then we looked at TensorFlow’s low-level API, including tensors, operations, variables, and special data structures. We then used these tools to customize almost every component in the Keras API. Finally, we looked at how TF functions can boost performance, how graphs are generated using AutoGraph and tracing, and what rules to follow when you write TF functions (if you would like to open the black box a bit further and explore the generated graphs, you will find technical details in Appendix D).\n",
    "\n",
    "In the next chapter, we will look at how to efficiently load and preprocess data with TensorFlow."
   ],
   "metadata": {
    "collapsed": false
   },
   "id": "ddad0b365f26892"
  },
  {
   "cell_type": "markdown",
   "source": [
    "# todo: it is possible that these examples might be possible to fit in into cells above"
   ],
   "metadata": {
    "collapsed": false
   },
   "id": "6d201cf4603215d4"
  },
  {
   "cell_type": "markdown",
   "source": [
    "**TF Functions and Concrete Functions**"
   ],
   "metadata": {
    "collapsed": false
   },
   "id": "1f583984a64046a5"
  },
  {
   "cell_type": "code",
   "outputs": [
    {
     "data": {
      "text/plain": "<ConcreteFunction tf_cube(x) at 0x17687F517D0>"
     },
     "execution_count": 897,
     "metadata": {},
     "output_type": "execute_result"
    }
   ],
   "source": [
    "concrete_function = tf_cube.get_concrete_function(tf.constant(2.0))\n",
    "concrete_function"
   ],
   "metadata": {
    "collapsed": false,
    "ExecuteTime": {
     "end_time": "2024-03-03T12:24:45.302674Z",
     "start_time": "2024-03-03T12:24:45.281635Z"
    }
   },
   "id": "ce312d5071163e32",
   "execution_count": 897
  },
  {
   "cell_type": "code",
   "outputs": [
    {
     "data": {
      "text/plain": "<tf.Tensor: shape=(), dtype=float32, numpy=8.0>"
     },
     "execution_count": 898,
     "metadata": {},
     "output_type": "execute_result"
    }
   ],
   "source": [
    "concrete_function(tf.constant(2.0))"
   ],
   "metadata": {
    "collapsed": false,
    "ExecuteTime": {
     "end_time": "2024-03-03T12:24:45.310067Z",
     "start_time": "2024-03-03T12:24:45.302674Z"
    }
   },
   "id": "894af616c2a83319",
   "execution_count": 898
  },
  {
   "cell_type": "code",
   "outputs": [
    {
     "data": {
      "text/plain": "True"
     },
     "execution_count": 899,
     "metadata": {},
     "output_type": "execute_result"
    }
   ],
   "source": [
    "concrete_function is tf_cube.get_concrete_function(tf.constant(2.0))"
   ],
   "metadata": {
    "collapsed": false,
    "ExecuteTime": {
     "end_time": "2024-03-03T12:24:45.313474Z",
     "start_time": "2024-03-03T12:24:45.310067Z"
    }
   },
   "id": "d9c5b270631968aa",
   "execution_count": 899
  },
  {
   "cell_type": "markdown",
   "source": [
    "**Exploring Function Definitions and Graphs**\n"
   ],
   "metadata": {
    "collapsed": false
   },
   "id": "b95b5b0e8b4ed318"
  },
  {
   "cell_type": "code",
   "outputs": [
    {
     "data": {
      "text/plain": "PyGraph<1608600216496>"
     },
     "execution_count": 900,
     "metadata": {},
     "output_type": "execute_result"
    }
   ],
   "source": [
    "concrete_function.graph"
   ],
   "metadata": {
    "collapsed": false,
    "ExecuteTime": {
     "end_time": "2024-03-03T12:24:45.317129Z",
     "start_time": "2024-03-03T12:24:45.313474Z"
    }
   },
   "id": "b95af7f0f75c271",
   "execution_count": 900
  },
  {
   "cell_type": "code",
   "outputs": [
    {
     "data": {
      "text/plain": "[<tf.Operation 'x' type=Placeholder>,\n <tf.Operation 'pow/y' type=Const>,\n <tf.Operation 'pow' type=Pow>,\n <tf.Operation 'Identity' type=Identity>]"
     },
     "execution_count": 901,
     "metadata": {},
     "output_type": "execute_result"
    }
   ],
   "source": [
    "ops = concrete_function.graph.get_operations()\n",
    "ops"
   ],
   "metadata": {
    "collapsed": false,
    "ExecuteTime": {
     "end_time": "2024-03-03T12:24:45.320490Z",
     "start_time": "2024-03-03T12:24:45.317129Z"
    }
   },
   "id": "98453d2efe5a827a",
   "execution_count": 901
  },
  {
   "cell_type": "code",
   "outputs": [
    {
     "data": {
      "text/plain": "[<tf.Tensor 'x:0' shape=() dtype=float32>,\n <tf.Tensor 'pow/y:0' shape=() dtype=float32>]"
     },
     "execution_count": 902,
     "metadata": {},
     "output_type": "execute_result"
    }
   ],
   "source": [
    "pow_op = ops[2]\n",
    "list(pow_op.inputs)"
   ],
   "metadata": {
    "collapsed": false,
    "ExecuteTime": {
     "end_time": "2024-03-03T12:24:45.324833Z",
     "start_time": "2024-03-03T12:24:45.320490Z"
    }
   },
   "id": "38febbad70452210",
   "execution_count": 902
  },
  {
   "cell_type": "code",
   "outputs": [
    {
     "data": {
      "text/plain": "[<tf.Tensor 'pow:0' shape=() dtype=float32>]"
     },
     "execution_count": 903,
     "metadata": {},
     "output_type": "execute_result"
    }
   ],
   "source": [
    "pow_op.outputs"
   ],
   "metadata": {
    "collapsed": false,
    "ExecuteTime": {
     "end_time": "2024-03-03T12:24:45.328319Z",
     "start_time": "2024-03-03T12:24:45.324833Z"
    }
   },
   "id": "2462bd618dd70f0c",
   "execution_count": 903
  },
  {
   "cell_type": "code",
   "outputs": [
    {
     "data": {
      "text/plain": "<tf.Operation 'x' type=Placeholder>"
     },
     "execution_count": 904,
     "metadata": {},
     "output_type": "execute_result"
    }
   ],
   "source": [
    "concrete_function.graph.get_operation_by_name('x')"
   ],
   "metadata": {
    "collapsed": false,
    "ExecuteTime": {
     "end_time": "2024-03-03T12:24:45.332493Z",
     "start_time": "2024-03-03T12:24:45.328319Z"
    }
   },
   "id": "1270b66a0c681ccb",
   "execution_count": 904
  },
  {
   "cell_type": "code",
   "outputs": [
    {
     "data": {
      "text/plain": "<tf.Tensor 'Identity:0' shape=() dtype=float32>"
     },
     "execution_count": 905,
     "metadata": {},
     "output_type": "execute_result"
    }
   ],
   "source": [
    "concrete_function.graph.get_tensor_by_name('Identity:0')"
   ],
   "metadata": {
    "collapsed": false,
    "ExecuteTime": {
     "end_time": "2024-03-03T12:24:45.336548Z",
     "start_time": "2024-03-03T12:24:45.332493Z"
    }
   },
   "id": "defa9d9f683e912b",
   "execution_count": 905
  },
  {
   "cell_type": "code",
   "outputs": [
    {
     "data": {
      "text/plain": "name: \"__inference_tf_cube_1599500\"\ninput_arg {\n  name: \"x\"\n  type: DT_FLOAT\n}\noutput_arg {\n  name: \"identity\"\n  type: DT_FLOAT\n}"
     },
     "execution_count": 906,
     "metadata": {},
     "output_type": "execute_result"
    }
   ],
   "source": [
    "concrete_function.function_def.signature"
   ],
   "metadata": {
    "collapsed": false,
    "ExecuteTime": {
     "end_time": "2024-03-03T12:24:45.340391Z",
     "start_time": "2024-03-03T12:24:45.337547Z"
    }
   },
   "id": "c827f4bebadde813",
   "execution_count": 906
  },
  {
   "cell_type": "markdown",
   "source": [],
   "metadata": {
    "collapsed": false
   },
   "id": "c07db88664336c48"
  },
  {
   "cell_type": "markdown",
   "source": [
    "**How TF Functions Trace Python Functions to Extract Their Computation Graphs**"
   ],
   "metadata": {
    "collapsed": false
   },
   "id": "106ac2c4dd25a37f"
  },
  {
   "cell_type": "code",
   "outputs": [],
   "source": [
    "@tf.function\n",
    "def tf_cube(x):\n",
    "    print(f\"x = {x}\")\n",
    "    return x ** 3"
   ],
   "metadata": {
    "collapsed": false,
    "ExecuteTime": {
     "end_time": "2024-03-03T12:24:45.343543Z",
     "start_time": "2024-03-03T12:24:45.340391Z"
    }
   },
   "id": "a5466886adb2e847",
   "execution_count": 907
  },
  {
   "cell_type": "code",
   "outputs": [
    {
     "name": "stdout",
     "output_type": "stream",
     "text": [
      "x = Tensor(\"x:0\", shape=(), dtype=float32)\n"
     ]
    }
   ],
   "source": [
    "result = tf_cube(tf.constant(2.0))"
   ],
   "metadata": {
    "collapsed": false,
    "ExecuteTime": {
     "end_time": "2024-03-03T12:24:45.372955Z",
     "start_time": "2024-03-03T12:24:45.343543Z"
    }
   },
   "id": "7bea590eaac09b4d",
   "execution_count": 908
  },
  {
   "cell_type": "code",
   "outputs": [
    {
     "data": {
      "text/plain": "<tf.Tensor: shape=(), dtype=float32, numpy=8.0>"
     },
     "execution_count": 909,
     "metadata": {},
     "output_type": "execute_result"
    }
   ],
   "source": [
    "result"
   ],
   "metadata": {
    "collapsed": false,
    "ExecuteTime": {
     "end_time": "2024-03-03T12:24:45.376743Z",
     "start_time": "2024-03-03T12:24:45.372955Z"
    }
   },
   "id": "a9eea8217318d712",
   "execution_count": 909
  },
  {
   "cell_type": "code",
   "outputs": [
    {
     "name": "stdout",
     "output_type": "stream",
     "text": [
      "x = 2\n"
     ]
    }
   ],
   "source": [
    "result = tf_cube(2)"
   ],
   "metadata": {
    "collapsed": false,
    "ExecuteTime": {
     "end_time": "2024-03-03T12:24:45.383428Z",
     "start_time": "2024-03-03T12:24:45.376743Z"
    }
   },
   "id": "c3607383abdaeda0",
   "execution_count": 910
  },
  {
   "cell_type": "code",
   "outputs": [
    {
     "name": "stdout",
     "output_type": "stream",
     "text": [
      "x = 3\n"
     ]
    }
   ],
   "source": [
    "result = tf_cube(3)"
   ],
   "metadata": {
    "collapsed": false,
    "ExecuteTime": {
     "end_time": "2024-03-03T12:24:45.389569Z",
     "start_time": "2024-03-03T12:24:45.383428Z"
    }
   },
   "id": "ac2907d040d83978",
   "execution_count": 911
  },
  {
   "cell_type": "code",
   "outputs": [
    {
     "name": "stdout",
     "output_type": "stream",
     "text": [
      "x = Tensor(\"x:0\", shape=(1, 2), dtype=float32)\n"
     ]
    }
   ],
   "source": [
    "result = tf_cube(tf.constant([[1., 2.]]))  # New shape: trace!"
   ],
   "metadata": {
    "collapsed": false,
    "ExecuteTime": {
     "end_time": "2024-03-03T12:24:45.398823Z",
     "start_time": "2024-03-03T12:24:45.389569Z"
    }
   },
   "id": "ee9a65b909a78972",
   "execution_count": 912
  },
  {
   "cell_type": "code",
   "outputs": [
    {
     "name": "stdout",
     "output_type": "stream",
     "text": [
      "x = Tensor(\"x:0\", shape=(2, 2), dtype=float32)\n",
      "WARNING:tensorflow:5 out of the last 5 calls to <function tf_cube at 0x0000017687F9F060> triggered tf.function retracing. Tracing is expensive and the excessive number of tracings could be due to (1) creating @tf.function repeatedly in a loop, (2) passing tensors with different shapes, (3) passing Python objects instead of tensors. For (1), please define your @tf.function outside of the loop. For (2), @tf.function has reduce_retracing=True option that can avoid unnecessary retracing. For (3), please refer to https://www.tensorflow.org/guide/function#controlling_retracing and https://www.tensorflow.org/api_docs/python/tf/function for  more details.\n"
     ]
    },
    {
     "name": "stderr",
     "output_type": "stream",
     "text": [
      "WARNING:tensorflow:5 out of the last 5 calls to <function tf_cube at 0x0000017687F9F060> triggered tf.function retracing. Tracing is expensive and the excessive number of tracings could be due to (1) creating @tf.function repeatedly in a loop, (2) passing tensors with different shapes, (3) passing Python objects instead of tensors. For (1), please define your @tf.function outside of the loop. For (2), @tf.function has reduce_retracing=True option that can avoid unnecessary retracing. For (3), please refer to https://www.tensorflow.org/guide/function#controlling_retracing and https://www.tensorflow.org/api_docs/python/tf/function for  more details.\n"
     ]
    }
   ],
   "source": [
    "result = tf_cube(tf.constant([[3., 4.], [5., 6.]]))  # New shape: trace!"
   ],
   "metadata": {
    "collapsed": false,
    "ExecuteTime": {
     "end_time": "2024-03-03T12:24:45.408807Z",
     "start_time": "2024-03-03T12:24:45.398823Z"
    }
   },
   "id": "a5e7f6b2c0fff4e5",
   "execution_count": 913
  },
  {
   "cell_type": "code",
   "outputs": [],
   "source": [
    "result = tf_cube(tf.constant([[7., 8.], [9., 10.]]))  # Same shape: no trace"
   ],
   "metadata": {
    "collapsed": false,
    "ExecuteTime": {
     "end_time": "2024-03-03T12:24:45.411752Z",
     "start_time": "2024-03-03T12:24:45.408807Z"
    }
   },
   "id": "cfaa76479077d68a",
   "execution_count": 914
  },
  {
   "cell_type": "code",
   "outputs": [],
   "source": [
    "@tf.function(input_signature=[tf.TensorSpec([None, 28, 28], tf.float32)])\n",
    "def shrink(images):\n",
    "    print(\"Tracing\", images)  # extra code to show when tracing happens\n",
    "    return images[:, ::2, ::2] # drop half the rows and columns"
   ],
   "metadata": {
    "collapsed": false,
    "ExecuteTime": {
     "end_time": "2024-03-03T12:24:45.415507Z",
     "start_time": "2024-03-03T12:24:45.411752Z"
    }
   },
   "id": "138e3d6067dcffad",
   "execution_count": 915
  },
  {
   "cell_type": "code",
   "outputs": [],
   "source": [
    "tf.keras.utils.set_random_seed(42)"
   ],
   "metadata": {
    "collapsed": false,
    "ExecuteTime": {
     "end_time": "2024-03-03T12:24:45.419644Z",
     "start_time": "2024-03-03T12:24:45.415507Z"
    }
   },
   "id": "c8f78e679c7d64bc",
   "execution_count": 916
  },
  {
   "cell_type": "code",
   "outputs": [
    {
     "name": "stdout",
     "output_type": "stream",
     "text": [
      "Tracing Tensor(\"images:0\", shape=(None, 28, 28), dtype=float32)\n"
     ]
    }
   ],
   "source": [
    "img_batch_1 = tf.random.uniform(shape=[100, 28, 28])\n",
    "img_batch_2 = tf.random.uniform(shape=[50, 28, 28])\n",
    "preprocessed_images = shrink(img_batch_1)  # Works fine, traces the function\n",
    "preprocessed_images = shrink(img_batch_2)  # Works fine, same concrete function"
   ],
   "metadata": {
    "collapsed": false,
    "ExecuteTime": {
     "end_time": "2024-03-03T12:24:45.454137Z",
     "start_time": "2024-03-03T12:24:45.423654Z"
    }
   },
   "id": "882153ba63cd8d49",
   "execution_count": 917
  },
  {
   "cell_type": "code",
   "outputs": [
    {
     "name": "stdout",
     "output_type": "stream",
     "text": [
      "Binding inputs to tf.function `shrink` failed due to `Can not cast TensorSpec(shape=(2, 2, 2), dtype=tf.float32, name=None) to TensorSpec(shape=(None, 28, 28), dtype=tf.float32, name=None)`. Received args: (<tf.Tensor: shape=(2, 2, 2), dtype=float32, numpy=\n",
      "array([[[0.7413678 , 0.62854624],\n",
      "        [0.01738465, 0.3431449 ]],\n",
      "\n",
      "       [[0.51063764, 0.3777541 ],\n",
      "        [0.07321596, 0.02137029]]], dtype=float32)>,) and kwargs: {} for signature: (images: TensorSpec(shape=(None, 28, 28), dtype=tf.float32, name=None)).\n"
     ]
    }
   ],
   "source": [
    "img_batch_3 = tf.random.uniform(shape=[2, 2, 2])\n",
    "try:\n",
    "    preprocessed_images = shrink(img_batch_3)  # TypeError! Incompatible inputs\n",
    "except TypeError as ex:\n",
    "    print(ex)"
   ],
   "metadata": {
    "collapsed": false,
    "ExecuteTime": {
     "end_time": "2024-03-03T12:24:45.459103Z",
     "start_time": "2024-03-03T12:24:45.454137Z"
    }
   },
   "id": "aba0c4f6ce3bb374",
   "execution_count": 918
  },
  {
   "cell_type": "markdown",
   "source": [
    "**Using Autograph to Capture Control Flow**"
   ],
   "metadata": {
    "collapsed": false
   },
   "id": "e38bbd53ba9720c3"
  },
  {
   "cell_type": "code",
   "outputs": [],
   "source": [
    "@tf.function\n",
    "def add_10(x):\n",
    "    for i in range(10):\n",
    "        x += 1\n",
    "    return x"
   ],
   "metadata": {
    "collapsed": false,
    "ExecuteTime": {
     "end_time": "2024-03-03T12:24:45.462234Z",
     "start_time": "2024-03-03T12:24:45.459103Z"
    }
   },
   "id": "26f0c633a99aabf1",
   "execution_count": 919
  },
  {
   "cell_type": "code",
   "outputs": [
    {
     "data": {
      "text/plain": "<tf.Tensor: shape=(), dtype=int32, numpy=15>"
     },
     "execution_count": 920,
     "metadata": {},
     "output_type": "execute_result"
    }
   ],
   "source": [
    "add_10(tf.constant(5))"
   ],
   "metadata": {
    "collapsed": false,
    "ExecuteTime": {
     "end_time": "2024-03-03T12:24:45.500519Z",
     "start_time": "2024-03-03T12:24:45.462234Z"
    }
   },
   "id": "80dc5aedf340efc9",
   "execution_count": 920
  },
  {
   "cell_type": "code",
   "outputs": [
    {
     "data": {
      "text/plain": "[<tf.Operation 'x' type=Placeholder>,\n <tf.Operation 'add/y' type=Const>,\n <tf.Operation 'add' type=AddV2>,\n <tf.Operation 'add_1/y' type=Const>,\n <tf.Operation 'add_1' type=AddV2>,\n <tf.Operation 'add_2/y' type=Const>,\n <tf.Operation 'add_2' type=AddV2>,\n <tf.Operation 'add_3/y' type=Const>,\n <tf.Operation 'add_3' type=AddV2>,\n <tf.Operation 'add_4/y' type=Const>,\n <tf.Operation 'add_4' type=AddV2>,\n <tf.Operation 'add_5/y' type=Const>,\n <tf.Operation 'add_5' type=AddV2>,\n <tf.Operation 'add_6/y' type=Const>,\n <tf.Operation 'add_6' type=AddV2>,\n <tf.Operation 'add_7/y' type=Const>,\n <tf.Operation 'add_7' type=AddV2>,\n <tf.Operation 'add_8/y' type=Const>,\n <tf.Operation 'add_8' type=AddV2>,\n <tf.Operation 'add_9/y' type=Const>,\n <tf.Operation 'add_9' type=AddV2>,\n <tf.Operation 'Identity' type=Identity>]"
     },
     "execution_count": 921,
     "metadata": {},
     "output_type": "execute_result"
    }
   ],
   "source": [
    "add_10.get_concrete_function(tf.constant(5)).graph.get_operations()"
   ],
   "metadata": {
    "collapsed": false,
    "ExecuteTime": {
     "end_time": "2024-03-03T12:24:45.504442Z",
     "start_time": "2024-03-03T12:24:45.500519Z"
    }
   },
   "id": "17ff086b01b1fdb8",
   "execution_count": 921
  },
  {
   "cell_type": "code",
   "outputs": [],
   "source": [
    "# extra code – shows how to use tf.while_loop (usually @tf.function is simpler)\n",
    "@tf.function\n",
    "def add_10(x):\n",
    "    condition = lambda i, x: tf.less(i, 10)\n",
    "    body = lambda i, x: (tf.add(i, 1), tf.add(x, 1))\n",
    "    final_i, final_x = tf.while_loop(condition, body, [tf.constant(0), x])\n",
    "    return final_x"
   ],
   "metadata": {
    "collapsed": false,
    "ExecuteTime": {
     "end_time": "2024-03-03T12:24:45.508452Z",
     "start_time": "2024-03-03T12:24:45.504442Z"
    }
   },
   "id": "9afd523605a123ea",
   "execution_count": 922
  },
  {
   "cell_type": "code",
   "outputs": [
    {
     "data": {
      "text/plain": "<tf.Tensor: shape=(), dtype=int32, numpy=15>"
     },
     "execution_count": 923,
     "metadata": {},
     "output_type": "execute_result"
    }
   ],
   "source": [
    "add_10(tf.constant(5))"
   ],
   "metadata": {
    "collapsed": false,
    "ExecuteTime": {
     "end_time": "2024-03-03T12:24:45.566632Z",
     "start_time": "2024-03-03T12:24:45.508452Z"
    }
   },
   "id": "16b6e6931752bc76",
   "execution_count": 923
  },
  {
   "cell_type": "code",
   "outputs": [
    {
     "data": {
      "text/plain": "[<tf.Operation 'x' type=Placeholder>,\n <tf.Operation 'Const' type=Const>,\n <tf.Operation 'while/maximum_iterations' type=Const>,\n <tf.Operation 'while/loop_counter' type=Const>,\n <tf.Operation 'while' type=StatelessWhile>,\n <tf.Operation 'Identity' type=Identity>]"
     },
     "execution_count": 924,
     "metadata": {},
     "output_type": "execute_result"
    }
   ],
   "source": [
    "add_10.get_concrete_function(tf.constant(5)).graph.get_operations()"
   ],
   "metadata": {
    "collapsed": false,
    "ExecuteTime": {
     "end_time": "2024-03-03T12:24:45.570637Z",
     "start_time": "2024-03-03T12:24:45.566632Z"
    }
   },
   "id": "10bef1c5afc10aff",
   "execution_count": 924
  },
  {
   "cell_type": "code",
   "outputs": [],
   "source": [
    "@tf.function\n",
    "def add_10(x):\n",
    "    for i in tf.range(10):\n",
    "        x = x + 1\n",
    "    return x"
   ],
   "metadata": {
    "collapsed": false,
    "ExecuteTime": {
     "end_time": "2024-03-03T12:24:45.574134Z",
     "start_time": "2024-03-03T12:24:45.570637Z"
    }
   },
   "id": "fff70396925dfa4c",
   "execution_count": 925
  },
  {
   "cell_type": "code",
   "outputs": [
    {
     "data": {
      "text/plain": "[<tf.Operation 'x' type=Placeholder>,\n <tf.Operation 'range/start' type=Const>,\n <tf.Operation 'range/limit' type=Const>,\n <tf.Operation 'range/delta' type=Const>,\n <tf.Operation 'range' type=Range>,\n <tf.Operation 'sub' type=Sub>,\n <tf.Operation 'floordiv' type=FloorDiv>,\n <tf.Operation 'mod' type=FloorMod>,\n <tf.Operation 'zeros_like' type=Const>,\n <tf.Operation 'NotEqual' type=NotEqual>,\n <tf.Operation 'Cast' type=Cast>,\n <tf.Operation 'add' type=AddV2>,\n <tf.Operation 'zeros_like_1' type=Const>,\n <tf.Operation 'Maximum' type=Maximum>,\n <tf.Operation 'while/maximum_iterations' type=Const>,\n <tf.Operation 'while/loop_counter' type=Const>,\n <tf.Operation 'while' type=StatelessWhile>,\n <tf.Operation 'Identity' type=Identity>]"
     },
     "execution_count": 926,
     "metadata": {},
     "output_type": "execute_result"
    }
   ],
   "source": [
    "\n",
    "add_10.get_concrete_function(tf.constant(0)).graph.get_operations()"
   ],
   "metadata": {
    "collapsed": false,
    "ExecuteTime": {
     "end_time": "2024-03-03T12:24:45.617075Z",
     "start_time": "2024-03-03T12:24:45.574134Z"
    }
   },
   "id": "459ffaebfef06a6e",
   "execution_count": 926
  },
  {
   "cell_type": "markdown",
   "source": [
    "**Handling Variables and Other Resources in TF Functions**"
   ],
   "metadata": {
    "collapsed": false
   },
   "id": "d991f2c6236869d8"
  },
  {
   "cell_type": "code",
   "outputs": [
    {
     "data": {
      "text/plain": "<tf.Tensor: shape=(), dtype=int32, numpy=2>"
     },
     "execution_count": 927,
     "metadata": {},
     "output_type": "execute_result"
    }
   ],
   "source": [
    "counter = tf.Variable(0)\n",
    "\n",
    "@tf.function\n",
    "def increment(counter, c=1):\n",
    "    return counter.assign_add(c)\n",
    "\n",
    "increment(counter)  # counter is now equal to 1\n",
    "increment(counter)  # counter is now equal to 2"
   ],
   "metadata": {
    "collapsed": false,
    "ExecuteTime": {
     "end_time": "2024-03-03T12:24:45.645077Z",
     "start_time": "2024-03-03T12:24:45.617075Z"
    }
   },
   "id": "b6735e9f1c3cc68e",
   "execution_count": 927
  },
  {
   "cell_type": "code",
   "outputs": [
    {
     "data": {
      "text/plain": "name: \"counter\"\ntype: DT_RESOURCE"
     },
     "execution_count": 928,
     "metadata": {},
     "output_type": "execute_result"
    }
   ],
   "source": [
    "\n",
    "function_def = increment.get_concrete_function(counter).function_def\n",
    "function_def.signature.input_arg[0]"
   ],
   "metadata": {
    "collapsed": false,
    "ExecuteTime": {
     "end_time": "2024-03-03T12:24:45.649129Z",
     "start_time": "2024-03-03T12:24:45.645077Z"
    }
   },
   "id": "4d38719c40f3e35d",
   "execution_count": 928
  },
  {
   "cell_type": "code",
   "outputs": [],
   "source": [
    "counter = tf.Variable(0)\n",
    "\n",
    "@tf.function\n",
    "def increment(c=1):\n",
    "    return counter.assign_add(c)"
   ],
   "metadata": {
    "collapsed": false,
    "ExecuteTime": {
     "end_time": "2024-03-03T12:24:45.652959Z",
     "start_time": "2024-03-03T12:24:45.649129Z"
    }
   },
   "id": "9c83e30970657a79",
   "execution_count": 929
  },
  {
   "cell_type": "code",
   "outputs": [
    {
     "data": {
      "text/plain": "<tf.Tensor: shape=(), dtype=int32, numpy=2>"
     },
     "execution_count": 930,
     "metadata": {},
     "output_type": "execute_result"
    }
   ],
   "source": [
    "increment()\n",
    "increment()"
   ],
   "metadata": {
    "collapsed": false,
    "ExecuteTime": {
     "end_time": "2024-03-03T12:24:45.679386Z",
     "start_time": "2024-03-03T12:24:45.652959Z"
    }
   },
   "id": "b302bd49b338472f",
   "execution_count": 930
  },
  {
   "cell_type": "code",
   "outputs": [
    {
     "data": {
      "text/plain": "name: \"assignaddvariableop_resource\"\ntype: DT_RESOURCE"
     },
     "execution_count": 931,
     "metadata": {},
     "output_type": "execute_result"
    }
   ],
   "source": [
    "function_def = increment.get_concrete_function().function_def\n",
    "function_def.signature.input_arg[0]"
   ],
   "metadata": {
    "collapsed": false,
    "ExecuteTime": {
     "end_time": "2024-03-03T12:24:45.683625Z",
     "start_time": "2024-03-03T12:24:45.680385Z"
    }
   },
   "id": "e1662bc60bb18262",
   "execution_count": 931
  },
  {
   "cell_type": "code",
   "outputs": [],
   "source": [
    "class Counter:\n",
    "    def __init__(self):\n",
    "        self.counter = tf.Variable(0)\n",
    "\n",
    "    @tf.function\n",
    "    def increment(self, c=1):\n",
    "        return self.counter.assign_add(c)"
   ],
   "metadata": {
    "collapsed": false,
    "ExecuteTime": {
     "end_time": "2024-03-03T12:24:45.687465Z",
     "start_time": "2024-03-03T12:24:45.683625Z"
    }
   },
   "id": "878a3f492ddc737e",
   "execution_count": 932
  },
  {
   "cell_type": "code",
   "outputs": [
    {
     "data": {
      "text/plain": "<tf.Tensor: shape=(), dtype=int32, numpy=2>"
     },
     "execution_count": 933,
     "metadata": {},
     "output_type": "execute_result"
    }
   ],
   "source": [
    "c = Counter()\n",
    "c.increment()\n",
    "c.increment()"
   ],
   "metadata": {
    "collapsed": false,
    "ExecuteTime": {
     "end_time": "2024-03-03T12:24:45.700573Z",
     "start_time": "2024-03-03T12:24:45.687465Z"
    }
   },
   "id": "957a4a068d0d5fe6",
   "execution_count": 933
  },
  {
   "cell_type": "code",
   "outputs": [
    {
     "name": "stdout",
     "output_type": "stream",
     "text": [
      "def tf__add(x):\n",
      "    with ag__.FunctionScope('add_10', 'fscope', ag__.ConversionOptions(recursive=True, user_requested=True, optional_features=(), internal_convert_user_code=True)) as fscope:\n",
      "        do_return = False\n",
      "        retval_ = ag__.UndefinedReturnValue()\n",
      "\n",
      "        def get_state():\n",
      "            return (x,)\n",
      "\n",
      "        def set_state(vars_):\n",
      "            nonlocal x\n",
      "            x, = vars_\n",
      "\n",
      "        def loop_body(itr):\n",
      "            nonlocal x\n",
      "            i = itr\n",
      "            x = ag__.ld(x)\n",
      "            x += 1\n",
      "        i = ag__.Undefined('i')\n",
      "        ag__.for_stmt(ag__.converted_call(ag__.ld(tf).range, (10,), None, fscope), None, loop_body, get_state, set_state, ('x',), {'iterate_names': 'i'})\n",
      "        try:\n",
      "            do_return = True\n",
      "            retval_ = ag__.ld(x)\n",
      "        except:\n",
      "            do_return = False\n",
      "            raise\n",
      "        return fscope.ret(retval_, do_return)\n"
     ]
    }
   ],
   "source": [
    "\n",
    "@tf.function\n",
    "def add_10(x):\n",
    "    for i in tf.range(10):\n",
    "        x += 1\n",
    "    return x\n",
    "\n",
    "print(tf.autograph.to_code(add_10.python_function))"
   ],
   "metadata": {
    "collapsed": false,
    "ExecuteTime": {
     "end_time": "2024-03-03T12:24:45.726760Z",
     "start_time": "2024-03-03T12:24:45.700573Z"
    }
   },
   "id": "9fde03f77f3bca57",
   "execution_count": 934
  },
  {
   "cell_type": "code",
   "outputs": [],
   "source": [
    "# extra code – shows how to display the autograph code with syntax highlighting\n",
    "def display_tf_code(func):\n",
    "    from IPython.display import display, Markdown\n",
    "    if hasattr(func, \"python_function\"):\n",
    "        func = func.python_function\n",
    "    code = tf.autograph.to_code(func)\n",
    "    display(Markdown(f'```python\\n{code}\\n```'))"
   ],
   "metadata": {
    "collapsed": false,
    "ExecuteTime": {
     "end_time": "2024-03-03T12:24:45.730146Z",
     "start_time": "2024-03-03T12:24:45.726760Z"
    }
   },
   "id": "ccb169e8b6eb5567",
   "execution_count": 935
  },
  {
   "cell_type": "code",
   "outputs": [
    {
     "data": {
      "text/plain": "<IPython.core.display.Markdown object>",
      "text/markdown": "```python\ndef tf__add(x):\n    with ag__.FunctionScope('add_10', 'fscope', ag__.ConversionOptions(recursive=True, user_requested=True, optional_features=(), internal_convert_user_code=True)) as fscope:\n        do_return = False\n        retval_ = ag__.UndefinedReturnValue()\n\n        def get_state():\n            return (x,)\n\n        def set_state(vars_):\n            nonlocal x\n            x, = vars_\n\n        def loop_body(itr):\n            nonlocal x\n            i = itr\n            x = ag__.ld(x)\n            x += 1\n        i = ag__.Undefined('i')\n        ag__.for_stmt(ag__.converted_call(ag__.ld(tf).range, (10,), None, fscope), None, loop_body, get_state, set_state, ('x',), {'iterate_names': 'i'})\n        try:\n            do_return = True\n            retval_ = ag__.ld(x)\n        except:\n            do_return = False\n            raise\n        return fscope.ret(retval_, do_return)\n\n```"
     },
     "metadata": {},
     "output_type": "display_data"
    }
   ],
   "source": [
    "display_tf_code(add_10)"
   ],
   "metadata": {
    "collapsed": false,
    "ExecuteTime": {
     "end_time": "2024-03-03T12:24:45.735460Z",
     "start_time": "2024-03-03T12:24:45.730146Z"
    }
   },
   "id": "be546fc7a0addfd5",
   "execution_count": 936
  },
  {
   "cell_type": "markdown",
   "source": [
    "**Using TF Functions with tf.keras (or Not)**\n",
    "By default, tf.keras will automatically convert your custom code into TF Functions, no need to use tf.function():"
   ],
   "metadata": {
    "collapsed": false
   },
   "id": "ce6a9234fa2a9be2"
  },
  {
   "cell_type": "code",
   "outputs": [],
   "source": [
    "# Custom loss function\n",
    "def my_mse(y_true, y_pred):\n",
    "    print(\"Tracing loss my_mse()\")\n",
    "    return tf.reduce_mean(tf.square(y_pred - y_true))"
   ],
   "metadata": {
    "collapsed": false,
    "ExecuteTime": {
     "end_time": "2024-03-03T12:24:45.738318Z",
     "start_time": "2024-03-03T12:24:45.735460Z"
    }
   },
   "id": "16ce93fe769b7d5a",
   "execution_count": 937
  },
  {
   "cell_type": "code",
   "outputs": [],
   "source": [
    "\n",
    "# Custom metric function\n",
    "def my_mae(y_true, y_pred):\n",
    "    print(\"Tracing metric my_mae()\")\n",
    "    return tf.reduce_mean(tf.abs(y_pred - y_true))"
   ],
   "metadata": {
    "collapsed": false,
    "ExecuteTime": {
     "end_time": "2024-03-03T12:24:45.742006Z",
     "start_time": "2024-03-03T12:24:45.739317Z"
    }
   },
   "id": "8c88893a9589822a",
   "execution_count": 938
  },
  {
   "cell_type": "code",
   "outputs": [],
   "source": [
    "# Custom layer\n",
    "class MyDense(tf.keras.layers.Layer):\n",
    "    def __init__(self, units, activation=None, **kwargs):\n",
    "        super().__init__(**kwargs)\n",
    "        self.units = units\n",
    "        self.activation = tf.keras.activations.get(activation)\n",
    "\n",
    "    def build(self, input_shape):\n",
    "        self.kernel = self.add_weight(name='kernel', \n",
    "                                      shape=(input_shape[1], self.units),\n",
    "                                      initializer='uniform',\n",
    "                                      trainable=True)\n",
    "        self.biases = self.add_weight(name='bias', \n",
    "                                      shape=(self.units,),\n",
    "                                      initializer='zeros',\n",
    "                                      trainable=True)\n",
    "\n",
    "    def call(self, X):\n",
    "        print(\"Tracing MyDense.call()\")\n",
    "        return self.activation(X @ self.kernel + self.biases)"
   ],
   "metadata": {
    "collapsed": false,
    "ExecuteTime": {
     "end_time": "2024-03-03T12:24:45.746421Z",
     "start_time": "2024-03-03T12:24:45.742006Z"
    }
   },
   "id": "b5266f49a6ec0323",
   "execution_count": 939
  },
  {
   "cell_type": "code",
   "outputs": [],
   "source": [
    "tf.keras.utils.set_random_seed(42)"
   ],
   "metadata": {
    "collapsed": false,
    "ExecuteTime": {
     "end_time": "2024-03-03T12:24:45.749996Z",
     "start_time": "2024-03-03T12:24:45.746421Z"
    }
   },
   "id": "39afbbfc9592846",
   "execution_count": 940
  },
  {
   "cell_type": "code",
   "outputs": [],
   "source": [
    "# Custom model\n",
    "class MyModel(tf.keras.Model):\n",
    "    def __init__(self, **kwargs):\n",
    "        super().__init__(**kwargs)\n",
    "        self.hidden1 = MyDense(30, activation=\"relu\")\n",
    "        self.hidden2 = MyDense(30, activation=\"relu\")\n",
    "        self.output_ = MyDense(1)\n",
    "\n",
    "    def call(self, input):\n",
    "        print(\"Tracing MyModel.call()\")\n",
    "        hidden1 = self.hidden1(input)\n",
    "        hidden2 = self.hidden2(hidden1)\n",
    "        concat = tf.keras.layers.concatenate([input, hidden2])\n",
    "        output = self.output_(concat)\n",
    "        return output\n",
    "\n",
    "model = MyModel()"
   ],
   "metadata": {
    "collapsed": false,
    "ExecuteTime": {
     "end_time": "2024-03-03T12:24:45.758877Z",
     "start_time": "2024-03-03T12:24:45.749996Z"
    }
   },
   "id": "4f4dd6db3ae28263",
   "execution_count": 941
  },
  {
   "cell_type": "code",
   "outputs": [],
   "source": [
    "model.compile(loss=my_mse, optimizer=\"nadam\", metrics=[my_mae])"
   ],
   "metadata": {
    "collapsed": false,
    "ExecuteTime": {
     "end_time": "2024-03-03T12:24:45.768012Z",
     "start_time": "2024-03-03T12:24:45.758877Z"
    }
   },
   "id": "ecf71bee70a1ce8",
   "execution_count": 942
  },
  {
   "cell_type": "code",
   "outputs": [
    {
     "name": "stdout",
     "output_type": "stream",
     "text": [
      "Epoch 1/2\n",
      "Tracing MyModel.call()\n",
      "Tracing MyDense.call()\n",
      "Tracing MyDense.call()\n",
      "Tracing MyDense.call()\n",
      "Tracing loss my_mse()\n",
      "Tracing metric my_mae()\n",
      "Tracing MyModel.call()\n",
      "Tracing MyDense.call()\n",
      "Tracing MyDense.call()\n",
      "Tracing MyDense.call()\n",
      "Tracing loss my_mse()\n",
      "Tracing metric my_mae()\n",
      "331/363 [==========================>...] - ETA: 0s - loss: 1.5198 - my_mae: 0.8537Tracing MyModel.call()\n",
      "Tracing MyDense.call()\n",
      "Tracing MyDense.call()\n",
      "Tracing MyDense.call()\n",
      "Tracing loss my_mse()\n",
      "Tracing metric my_mae()\n",
      "363/363 [==============================] - 1s 1ms/step - loss: 1.4303 - my_mae: 0.8219 - val_loss: 0.4932 - val_my_mae: 0.4764\n",
      "Epoch 2/2\n",
      "363/363 [==============================] - 0s 1ms/step - loss: 0.4386 - my_mae: 0.4760 - val_loss: 1.0322 - val_my_mae: 0.4793\n",
      "162/162 [==============================] - 0s 619us/step - loss: 0.4204 - my_mae: 0.4711\n"
     ]
    },
    {
     "data": {
      "text/plain": "[0.4203691780567169, 0.4711269736289978]"
     },
     "execution_count": 943,
     "metadata": {},
     "output_type": "execute_result"
    }
   ],
   "source": [
    "\n",
    "model.fit(X_train_scaled, y_train, epochs=2,\n",
    "          validation_data=(X_valid_scaled, y_valid))\n",
    "model.evaluate(X_test_scaled, y_test)"
   ],
   "metadata": {
    "collapsed": false,
    "ExecuteTime": {
     "end_time": "2024-03-03T12:24:47.572082Z",
     "start_time": "2024-03-03T12:24:45.768012Z"
    }
   },
   "id": "e599e42ab3d5ce3f",
   "execution_count": 943
  },
  {
   "cell_type": "markdown",
   "source": [
    "You can turn this off by creating the model with dynamic=True (or calling super().__init__(dynamic=True, **kwargs) in the model's constructor):"
   ],
   "metadata": {
    "collapsed": false
   },
   "id": "4ad45f1d0e7150b0"
  },
  {
   "cell_type": "code",
   "outputs": [],
   "source": [
    "tf.keras.utils.set_random_seed(42)"
   ],
   "metadata": {
    "collapsed": false,
    "ExecuteTime": {
     "end_time": "2024-03-03T12:24:47.578504Z",
     "start_time": "2024-03-03T12:24:47.572082Z"
    }
   },
   "id": "ae7b16e9778fadd0",
   "execution_count": 944
  },
  {
   "cell_type": "code",
   "outputs": [],
   "source": [
    "\n",
    "model = MyModel(dynamic=True)"
   ],
   "metadata": {
    "collapsed": false,
    "ExecuteTime": {
     "end_time": "2024-03-03T12:24:47.585492Z",
     "start_time": "2024-03-03T12:24:47.578504Z"
    }
   },
   "id": "19f58bc7022fd947",
   "execution_count": 945
  },
  {
   "cell_type": "code",
   "outputs": [],
   "source": [
    "\n",
    "model.compile(loss=my_mse, optimizer=\"nadam\", metrics=[my_mae])"
   ],
   "metadata": {
    "collapsed": false,
    "ExecuteTime": {
     "end_time": "2024-03-03T12:24:47.594976Z",
     "start_time": "2024-03-03T12:24:47.585492Z"
    }
   },
   "id": "86073881e537f939",
   "execution_count": 946
  },
  {
   "cell_type": "markdown",
   "source": [
    "Now the custom code will be called at each iteration. Let's fit, validate and evaluate with tiny datasets to avoid getting too much output:"
   ],
   "metadata": {
    "collapsed": false
   },
   "id": "ff3cb7ce98b41964"
  },
  {
   "cell_type": "code",
   "outputs": [
    {
     "name": "stdout",
     "output_type": "stream",
     "text": [
      "Tracing MyModel.call()\n",
      "Tracing MyDense.call()\n",
      "Tracing MyDense.call()\n",
      "Tracing MyDense.call()\n",
      "Tracing loss my_mse()\n",
      "Tracing metric my_mae()\n",
      "Tracing MyModel.call()\n",
      "Tracing MyDense.call()\n",
      "Tracing MyDense.call()\n",
      "Tracing MyDense.call()\n",
      "Tracing loss my_mse()\n",
      "Tracing metric my_mae()\n",
      "Tracing MyModel.call()\n",
      "Tracing MyDense.call()\n",
      "Tracing MyDense.call()\n",
      "Tracing MyDense.call()\n",
      "Tracing loss my_mse()\n",
      "Tracing metric my_mae()\n",
      "Tracing MyModel.call()\n",
      "Tracing MyDense.call()\n",
      "Tracing MyDense.call()\n",
      "Tracing MyDense.call()\n",
      "Tracing loss my_mse()\n",
      "Tracing metric my_mae()\n",
      "Tracing MyModel.call()\n",
      "Tracing MyDense.call()\n",
      "Tracing MyDense.call()\n",
      "Tracing MyDense.call()\n",
      "Tracing loss my_mse()\n",
      "Tracing metric my_mae()\n",
      "Tracing MyModel.call()\n",
      "Tracing MyDense.call()\n",
      "Tracing MyDense.call()\n",
      "Tracing MyDense.call()\n",
      "Tracing loss my_mse()\n",
      "Tracing metric my_mae()\n"
     ]
    },
    {
     "data": {
      "text/plain": "[5.5450897216796875, 2.0603599548339844]"
     },
     "execution_count": 947,
     "metadata": {},
     "output_type": "execute_result"
    }
   ],
   "source": [
    "model.fit(X_train_scaled[:64], y_train[:64], epochs=1,\n",
    "          validation_data=(X_valid_scaled[:64], y_valid[:64]), verbose=0)\n",
    "model.evaluate(X_test_scaled[:64], y_test[:64], verbose=0)"
   ],
   "metadata": {
    "collapsed": false,
    "ExecuteTime": {
     "end_time": "2024-03-03T12:24:47.842578Z",
     "start_time": "2024-03-03T12:24:47.594976Z"
    }
   },
   "id": "380419af294e5d55",
   "execution_count": 947
  },
  {
   "cell_type": "markdown",
   "source": [
    "Alternatively, you can compile a model with run_eagerly=True:"
   ],
   "metadata": {
    "collapsed": false
   },
   "id": "81c1c8b9d52f15bc"
  },
  {
   "cell_type": "code",
   "outputs": [],
   "source": [
    "tf.keras.utils.set_random_seed(42)"
   ],
   "metadata": {
    "collapsed": false,
    "ExecuteTime": {
     "end_time": "2024-03-03T12:24:47.847272Z",
     "start_time": "2024-03-03T12:24:47.842578Z"
    }
   },
   "id": "351c638c5690cccc",
   "execution_count": 948
  },
  {
   "cell_type": "code",
   "outputs": [],
   "source": [
    "model = MyModel()"
   ],
   "metadata": {
    "collapsed": false,
    "ExecuteTime": {
     "end_time": "2024-03-03T12:24:47.854661Z",
     "start_time": "2024-03-03T12:24:47.848271Z"
    }
   },
   "id": "91efd13203f243bf",
   "execution_count": 949
  },
  {
   "cell_type": "code",
   "outputs": [],
   "source": [
    "model.compile(loss=my_mse, optimizer=\"nadam\", metrics=[my_mae], run_eagerly=True)"
   ],
   "metadata": {
    "collapsed": false,
    "ExecuteTime": {
     "end_time": "2024-03-03T12:24:47.863491Z",
     "start_time": "2024-03-03T12:24:47.854661Z"
    }
   },
   "id": "9a07c9426ea04ec9",
   "execution_count": 950
  },
  {
   "cell_type": "code",
   "outputs": [
    {
     "name": "stdout",
     "output_type": "stream",
     "text": [
      "Tracing MyModel.call()\n",
      "Tracing MyDense.call()\n",
      "Tracing MyDense.call()\n",
      "Tracing MyDense.call()\n",
      "Tracing loss my_mse()\n",
      "Tracing metric my_mae()\n",
      "Tracing MyModel.call()\n",
      "Tracing MyDense.call()\n",
      "Tracing MyDense.call()\n",
      "Tracing MyDense.call()\n",
      "Tracing loss my_mse()\n",
      "Tracing metric my_mae()\n",
      "Tracing MyModel.call()\n",
      "Tracing MyDense.call()\n",
      "Tracing MyDense.call()\n",
      "Tracing MyDense.call()\n",
      "Tracing loss my_mse()\n",
      "Tracing metric my_mae()\n",
      "Tracing MyModel.call()\n",
      "Tracing MyDense.call()\n",
      "Tracing MyDense.call()\n",
      "Tracing MyDense.call()\n",
      "Tracing loss my_mse()\n",
      "Tracing metric my_mae()\n",
      "Tracing MyModel.call()\n",
      "Tracing MyDense.call()\n",
      "Tracing MyDense.call()\n",
      "Tracing MyDense.call()\n",
      "Tracing loss my_mse()\n",
      "Tracing metric my_mae()\n",
      "Tracing MyModel.call()\n",
      "Tracing MyDense.call()\n",
      "Tracing MyDense.call()\n",
      "Tracing MyDense.call()\n",
      "Tracing loss my_mse()\n",
      "Tracing metric my_mae()\n"
     ]
    },
    {
     "data": {
      "text/plain": "[5.5450897216796875, 2.0603599548339844]"
     },
     "execution_count": 951,
     "metadata": {},
     "output_type": "execute_result"
    }
   ],
   "source": [
    "model.fit(X_train_scaled[:64], y_train[:64], epochs=1,\n",
    "          validation_data=(X_valid_scaled[:64], y_valid[:64]), verbose=0)\n",
    "model.evaluate(X_test_scaled[:64], y_test[:64], verbose=0)"
   ],
   "metadata": {
    "collapsed": false,
    "ExecuteTime": {
     "end_time": "2024-03-03T12:24:48.109340Z",
     "start_time": "2024-03-03T12:24:47.863491Z"
    }
   },
   "id": "df58f5513db55cb8",
   "execution_count": 951
  },
  {
   "cell_type": "markdown",
   "source": [
    "# Extra Material – Custom Optimizers\n",
    "\n",
    "Defining custom optimizers is not very common, but in case you are one of the happy few who gets to write one, here is an example:"
   ],
   "metadata": {
    "collapsed": false
   },
   "id": "8abd38fab563e95a"
  },
  {
   "cell_type": "code",
   "outputs": [],
   "source": [
    "class MyMomentumOptimizer(tf.keras.optimizers.Optimizer):\n",
    "    def __init__(self, learning_rate=0.001, momentum=0.9, name=\"MyMomentumOptimizer\", **kwargs):\n",
    "        \"\"\"Gradient descent with momentum optimizer.\"\"\"\n",
    "        super().__init__(name, **kwargs)\n",
    "        self._learning_rate = self._build_learning_rate(learning_rate)\n",
    "        self.momentum = momentum\n",
    "\n",
    "    def build(self, var_list):\n",
    "        \"\"\"Initialize optimizer variables.\n",
    "\n",
    "        Args:\n",
    "          var_list: list of model variables to build SGD variables on.\n",
    "        \"\"\"\n",
    "        super().build(var_list)\n",
    "        if getattr(self, \"_built\", False):\n",
    "            return\n",
    "        self.momentums = []\n",
    "        for var in var_list:\n",
    "            self.momentums.append(\n",
    "                self.add_variable_from_reference(\n",
    "                    model_variable=var, variable_name=\"m\"\n",
    "                )\n",
    "            )\n",
    "        self._built = True\n",
    "\n",
    "    def update_step(self, gradient, variable):\n",
    "        \"\"\"Update step given gradient and the associated model variable.\"\"\"\n",
    "        lr = tf.cast(self.learning_rate, variable.dtype)\n",
    "        m = None\n",
    "        var_key = self._var_key(variable)\n",
    "        momentum = tf.cast(self.momentum, variable.dtype)\n",
    "        m = self.momentums[self._index_dict[var_key]]\n",
    "        if m is None:\n",
    "            variable.assign_add(-gradient * lr)\n",
    "        else:\n",
    "            m.assign(-gradient * lr + m * momentum)\n",
    "            variable.assign_add(m)\n",
    "        \n",
    "    def get_config(self):\n",
    "        base_config = super().get_config()\n",
    "        print(\"Config!\")\n",
    "        return {\n",
    "            **base_config,\n",
    "            \"learning_rate\": self._serialize_hyperparameter(self._learning_rate),\n",
    "            \"momentum\": self.momentum,\n",
    "        }"
   ],
   "metadata": {
    "collapsed": false,
    "ExecuteTime": {
     "end_time": "2024-03-03T12:24:48.117169Z",
     "start_time": "2024-03-03T12:24:48.109340Z"
    }
   },
   "id": "9d86117ec24fce8d",
   "execution_count": 952
  },
  {
   "cell_type": "code",
   "outputs": [
    {
     "name": "stdout",
     "output_type": "stream",
     "text": [
      "Epoch 1/5\n",
      "363/363 [==============================] - 0s 606us/step - loss: 1.1844\n",
      "Epoch 2/5\n",
      "363/363 [==============================] - 0s 595us/step - loss: 0.5635\n",
      "Epoch 3/5\n",
      "363/363 [==============================] - 0s 595us/step - loss: 0.9703\n",
      "Epoch 4/5\n",
      "363/363 [==============================] - 0s 590us/step - loss: 0.5678\n",
      "Epoch 5/5\n",
      "363/363 [==============================] - 0s 573us/step - loss: 0.6350\n"
     ]
    },
    {
     "data": {
      "text/plain": "<keras.src.callbacks.History at 0x176984b7490>"
     },
     "execution_count": 953,
     "metadata": {},
     "output_type": "execute_result"
    }
   ],
   "source": [
    "optimizer = MyMomentumOptimizer()\n",
    "\n",
    "tf.keras.utils.set_random_seed(42)\n",
    "model = tf.keras.Sequential([tf.keras.layers.Dense(1, input_shape=[8])])\n",
    "model.compile(loss=\"mse\", optimizer=optimizer)\n",
    "model.fit(X_train_scaled, y_train, epochs=5)"
   ],
   "metadata": {
    "collapsed": false,
    "ExecuteTime": {
     "end_time": "2024-03-03T12:24:49.442360Z",
     "start_time": "2024-03-03T12:24:48.117169Z"
    }
   },
   "id": "242925248838b573",
   "execution_count": 953
  },
  {
   "cell_type": "markdown",
   "source": [
    "Let's compare that to Keras's built-in momentum optimizer:"
   ],
   "metadata": {
    "collapsed": false
   },
   "id": "2f0bdb9c9390aeef"
  },
  {
   "cell_type": "code",
   "outputs": [
    {
     "name": "stdout",
     "output_type": "stream",
     "text": [
      "Epoch 1/5\n",
      "363/363 [==============================] - 0s 606us/step - loss: 1.1844\n",
      "Epoch 2/5\n",
      "363/363 [==============================] - 0s 601us/step - loss: 0.5635\n",
      "Epoch 3/5\n",
      "363/363 [==============================] - 0s 573us/step - loss: 0.9703\n",
      "Epoch 4/5\n",
      "363/363 [==============================] - 0s 590us/step - loss: 0.5678\n",
      "Epoch 5/5\n",
      "363/363 [==============================] - 0s 601us/step - loss: 0.6350\n"
     ]
    },
    {
     "data": {
      "text/plain": "<keras.src.callbacks.History at 0x176983ff490>"
     },
     "execution_count": 954,
     "metadata": {},
     "output_type": "execute_result"
    }
   ],
   "source": [
    "optimizer = tf.keras.optimizers.SGD(learning_rate=0.001, momentum=0.9)\n",
    "\n",
    "tf.keras.utils.set_random_seed(42)\n",
    "model = tf.keras.Sequential([tf.keras.layers.Dense(1, input_shape=[8])])\n",
    "model.compile(loss=\"mse\", optimizer=optimizer)\n",
    "model.fit(X_train_scaled, y_train, epochs=5)"
   ],
   "metadata": {
    "collapsed": false,
    "ExecuteTime": {
     "end_time": "2024-03-03T12:24:50.751980Z",
     "start_time": "2024-03-03T12:24:49.442360Z"
    }
   },
   "id": "fb1619c0071742e0",
   "execution_count": 954
  },
  {
   "cell_type": "markdown",
   "source": [
    "Yep, we get the exact same model!"
   ],
   "metadata": {
    "collapsed": false
   },
   "id": "2aec271b4d698ff2"
  },
  {
   "cell_type": "markdown",
   "source": [
    "# EXTRA MATERILA / EXERCISES"
   ],
   "metadata": {
    "collapsed": false
   },
   "id": "bdafe752b0bc4060"
  }
 ],
 "metadata": {
  "kernelspec": {
   "display_name": "Python 3",
   "language": "python",
   "name": "python3"
  },
  "language_info": {
   "codemirror_mode": {
    "name": "ipython",
    "version": 2
   },
   "file_extension": ".py",
   "mimetype": "text/x-python",
   "name": "python",
   "nbconvert_exporter": "python",
   "pygments_lexer": "ipython2",
   "version": "2.7.6"
  }
 },
 "nbformat": 4,
 "nbformat_minor": 5
}
