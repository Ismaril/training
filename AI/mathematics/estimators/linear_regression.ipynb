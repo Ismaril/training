{
 "cells": [
  {
   "cell_type": "markdown",
   "source": [
    "# LINEAR REGRESSION\n",
    "\n",
    "To explain the linear regression formula for a dataset with two feature instances ($x_1$ and $x_2$), where each feature instance has two data points, let's consider a small dataset as an example. In linear regression, we try to fit a model that can predict a dependent variable $y$ based on independent variables $x_1$ and $x_2$.\n",
    "\n",
    "### Example Dataset:\n",
    "\n",
    "| Data Point | $x_1$ (Feature 1) | $x_2$ (Feature 2) | $y$ (Target) |\n",
    "|------------|-------------------|-------------------|--------------|\n",
    "| 1          | $x_{11}$          | $x_{12}$          | $y_1$        |\n",
    "| 2          | $x_{21}$          | $x_{22}$          | $y_2$        |\n",
    "\n",
    "Here, $x_{11}$ and $x_{21}$ are the values of feature $x_1$ for the first and second data points, respectively, and $x_{12}$ and $x_{22}$ are the values of feature $x_2$ for the first and second data points, respectively. $y_1$ and $y_2$ are the target values for the first and second data points, respectively.\n",
    "\n",
    "### Linear Regression Model:\n",
    "\n",
    "The linear regression model for this dataset can be represented as:\n",
    "\n",
    "$\\hat{y} = \\theta_0 + \\theta_1 x_1 + \\theta_2 x_2$\n",
    "\n",
    "In general terms:\n",
    "$\\hat{y} = \\theta \\cdot x$ \n",
    "$\\hat{y} = \\theta_0 + \\theta_1 x_1 + \\theta_2 x_2 + ... + \\theta_n x_n$\n",
    "\n",
    "Normal equation (Can be used instead of iterative approach - gradient descend). This will spit out result directly:\n",
    "$\\theta = (X^T \\cdot X)^{-1} \\cdot X^T \\cdot y$\n",
    "\n",
    "Where:\n",
    "- $ \\hat{y} $ is the predicted value of the target variable.\n",
    "- $ \\theta_0 $ is the intercept term.\n",
    "- $ \\theta_1 $ and $ \\theta_2 $ are the coefficients for features $x_1$ and $x_2$, respectively, which represent the influence of each feature on the target variable.\n",
    "\n",
    "### Objective:\n",
    "\n",
    "The objective in linear regression is to find the values of $ \\theta_0 $, $ \\theta_1 $, and $ \\theta_2 $ that minimize the difference between the predicted values $ \\hat{y} $ and the actual target values $ y $ in the dataset. This is typically achieved by minimizing a cost function, such as the Mean Squared Error (MSE), which is defined as:\n",
    "\n",
    "$MSE = \\frac{1}{n} \\sum_{i=1}^{n} (y_i - \\hat{y}_i)^2$\n",
    "\n",
    "For our dataset with two data points, this becomes:\n",
    "\n",
    "$MSE = \\frac{1}{2} \\left[ (y_1 - (\\theta_0 + \\theta_1 x_{11} + \\theta_2 x_{12}))^2 + (y_2 - (\\theta_0 + \\theta_1 x_{21} + \\theta_2 x_{22}))^2 \\right]$\n",
    "\n",
    "### Solution:\n",
    "\n",
    "The values of $ \\theta_0 $, $ \\theta_1 $, and $ \\theta_2 $ that minimize the MSE can be found using various methods, including analytical solutions such as the Normal Equation in the case of linear regression without regularization, or iterative optimization methods such as Gradient Descent.\n",
    "\n",
    "### Interpretation:\n",
    "\n",
    "Once the optimal values of $ \\theta_0 $, $ \\theta_1 $, and $ \\theta_2 $ are found, the linear regression model can predict the target variable $ y $ for any given values of $ x_1 $ and $ x_2 $ using the formula:\n",
    "\n",
    "$\\hat{y} = \\theta_0 + \\theta_1 x_1 + \\theta_2 x_2$\n",
    "\n",
    "This model assumes a linear relationship between the features ($x_1$ and $x_2\\)) and the target variable ($y\\)), and the coefficients ($ \\theta_1 $ and $ \\theta_2 \\)) quantify the strength and direction of the relationship between each feature and the target."
   ],
   "metadata": {
    "collapsed": false
   },
   "id": "d075cc522643c853"
  }
 ],
 "metadata": {
  "kernelspec": {
   "display_name": "Python 3",
   "language": "python",
   "name": "python3"
  },
  "language_info": {
   "codemirror_mode": {
    "name": "ipython",
    "version": 2
   },
   "file_extension": ".py",
   "mimetype": "text/x-python",
   "name": "python",
   "nbconvert_exporter": "python",
   "pygments_lexer": "ipython2",
   "version": "2.7.6"
  }
 },
 "nbformat": 4,
 "nbformat_minor": 5
}
