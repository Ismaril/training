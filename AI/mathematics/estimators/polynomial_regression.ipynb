{
 "cells": [
  {
   "cell_type": "markdown",
   "source": [
    "# POLYNOMIAL REGRESSION\n",
    "\n",
    "To explain polynomial regression for a dataset with two feature instances ($x_1$ and $x_2$), where each feature instance has two data points, let's consider a hypothetical dataset. Unlike linear regression, polynomial regression allows us to model the relationship between the independent variables ($x_1$ and $x_2$) and the dependent variable ($y$) as a polynomial, which can capture more complex relationships.\n",
    "\n",
    "### Example Dataset:\n",
    "\n",
    "| Data Point | $x_1$ (Feature 1) | $x_2$ (Feature 2) | $y$ (Target) |\n",
    "|------------|-------------------|-------------------|--------------|\n",
    "| 1          | $x_{11}$          | $x_{12}$          | $y_1$        |\n",
    "| 2          | $x_{21}$          | $x_{22}$          | $y_2$        |\n",
    "\n",
    "### Polynomial Regression Model:\n",
    "\n",
    "For illustrative purposes, let's consider a polynomial regression model that includes terms up to the second degree for each feature and an interaction term between $x_1$ and $x_2$. The model can be represented as:\n",
    "\n",
    "$\\hat{y} = \\theta_0 + \\theta_1 x_1 + \\theta_2 x_2 + \\theta_3 x_1^2 + \\theta_4 x_2^2 + \\theta_5 x_1 x_2$\n",
    "\n",
    "Where:\n",
    "- $\\hat{y}$is the predicted value of the target variable.\n",
    "- $\\theta_0$ is the intercept term.\n",
    "- $\\theta_1$ and $\\theta_2$ are the coefficients for the linear terms of features $x_1$ and $x_2$, respectively.\n",
    "- $\\theta_3$ and $\\theta_4$ are the coefficients for the squared terms of features $x_1^2$ and $x_2^2$, respectively, allowing the model to capture non-linear relationships.\n",
    "- $\\theta_5$ is the coefficient for the interaction term $x_1 x_2$, allowing the model to capture the combined effect of $x_1$ and $x_2$ on $y$.\n",
    "\n",
    "### Objective:\n",
    "\n",
    "The objective in polynomial regression, similar to linear regression, is to find the values of the coefficients $\\theta_0, \\theta_1, \\theta_2, \\theta_3, \\theta_4,$and $\\theta_5$ that minimize the difference between the predicted values $\\hat{y}$and the actual target values $y$ in the dataset. This is typically achieved by minimizing a cost function, such as the Mean Squared Error (MSE), which for our dataset with two data points becomes:\n",
    "\n",
    "$\\text{MSE} = \\frac{1}{n} \\sum_{i=1}^{n} (y_i - \\hat{y}_i)^2$ \\\n",
    "$\\text{MSE} = \\frac{1}{2} \\left[ \\text{Residual}_1^2 + \\text{Residual}_2^2 \\right]$\n",
    "\n",
    "Where:\n",
    "- $\\text{Residual}_1 = y_1 - (\\theta_0 + \\theta_1 x_{11} + \\theta_2 x_{12} + \\theta_3 x_{11}^2 + \\theta_4 x_{12}^2 + \\theta_5 x_{11} x_{12})$\n",
    "- $\\text{Residual}_2 = y_2 - (\\theta_0 + \\theta_1 x_{21} + \\theta_2 x_{22} + \\theta_3 x_{21}^2 + \\theta_4 x_{22}^2 + \\theta_5 x_{21} x_{22})$\n",
    "\n",
    "### Solution:\n",
    "\n",
    "The optimal values of the coefficients can be found using various optimization methods, such as Gradient Descent, since the presence of higher-degree terms and interaction terms generally precludes an analytical solution like the Normal Equation used in linear regression.\n",
    "\n",
    "### Interpretation:\n",
    "\n",
    "Once the optimal coefficients are determined, the polynomial regression model can predict the target variable $y$ for any given values of $x_1$ and $x_2$ using the model equation. This model can capture more complex relationships than a simple linear model due to the inclusion of higher-degree terms and interaction terms, making it more flexible in fitting the underlying pattern in the data. However, care must be taken to avoid overfitting, especially as the degree of the polynomial increases."
   ],
   "metadata": {
    "collapsed": false
   },
   "id": "eb8cacf1b1c6c511"
  },
  {
   "cell_type": "markdown",
   "source": [
    "\n"
   ],
   "metadata": {
    "collapsed": false
   },
   "id": "4ea42eef275242c1"
  }
 ],
 "metadata": {
  "kernelspec": {
   "display_name": "Python 3",
   "language": "python",
   "name": "python3"
  },
  "language_info": {
   "codemirror_mode": {
    "name": "ipython",
    "version": 2
   },
   "file_extension": ".py",
   "mimetype": "text/x-python",
   "name": "python",
   "nbconvert_exporter": "python",
   "pygments_lexer": "ipython2",
   "version": "2.7.6"
  }
 },
 "nbformat": 4,
 "nbformat_minor": 5
}
