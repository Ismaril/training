{
 "cells": [
  {
   "cell_type": "markdown",
   "source": [
    "# MEAN SQUARED ERROR\n",
    "\n",
    "Mean Squared Error (MSE) is a common metric used to measure the average of the squares of the errors between actual and predicted values. It's similar to RMSE but doesn't involve taking the square root at the end. The formula for MSE is:\n",
    "\n",
    "$\\text{MSE} = \\frac{1}{n} \\sum_{i=1}^{n} (y_i - \\hat{y}_i)^2$\n",
    "\n",
    "where:\n",
    "- $n$ is the number of observations.\n",
    "- $y_i$ is the actual value for the $i$-th observation.\n",
    "- $\\hat{y}_i$ is the predicted value for the $i$-th observation.\n",
    "\n",
    "### Practical Example with MSE\n",
    "\n",
    "Let's continue with the sales prediction context but use a different set of actual and predicted values to compute the MSE.\n",
    "\n",
    "Here's our new dataset:\n",
    "\n",
    "| Store | Actual Sales $y_i$ | Predicted Sales $\\hat{y}_i$ |\n",
    "|-------|--------------------|-----------------------------|\n",
    "| A     | 10                 | 12                          |\n",
    "| B     | 15                 | 14                          |\n",
    "| C     | 20                 | 18                          |\n",
    "| D     | 25                 | 30                          |\n",
    "| E     | 10                 | 8                           |\n",
    "\n",
    "Now, let's compute the MSE step by step:\n",
    "\n",
    "### Step 1: Compute the Differences\n",
    "First, we find the difference between the actual and predicted sales for each store.\n",
    "\n",
    "For Store A: $10 - 12 = -2$  \n",
    "For Store B: $15 - 14 = 1$  \n",
    "For Store C: $20 - 18 = 2$  \n",
    "For Store D: $25 - 30 = -5$  \n",
    "For Store E: $10 - 8 = 2$  \n",
    "\n",
    "### Step 2: Square the Differences\n",
    "Next, we square each of these differences.\n",
    "\n",
    "For Store A: $(-2)^2 = 4$  \n",
    "For Store B: $1^2 = 1$  \n",
    "For Store C: $2^2 = 4$  \n",
    "For Store D: $(-5)^2 = 25$  \n",
    "For Store E: $2^2 = 4$  \n",
    "\n",
    "### Step 3: Compute the Mean of Squared Differences\n",
    "Then, we calculate the mean of these squared differences to obtain the MSE.\n",
    "\n",
    "MSE = $\\frac{4 + 1 + 4 + 25 + 4}{5} = \\frac{38}{5} = 7.6$\n",
    "\n",
    "### Interpretation\n",
    "The Mean Squared Error in this example is 7.6. This value represents the average squared difference between the actual and predicted sales numbers. Unlike RMSE, MSE is not in the same units as the original data, making it sometimes less intuitive to interpret. However, MSE is very useful for comparing different models and for computational purposes, as it can simplify the mathematics in optimization algorithms."
   ],
   "metadata": {
    "collapsed": false
   },
   "id": "bbf9cb05daea498f"
  }
 ],
 "metadata": {
  "kernelspec": {
   "display_name": "Python 3",
   "language": "python",
   "name": "python3"
  },
  "language_info": {
   "codemirror_mode": {
    "name": "ipython",
    "version": 2
   },
   "file_extension": ".py",
   "mimetype": "text/x-python",
   "name": "python",
   "nbconvert_exporter": "python",
   "pygments_lexer": "ipython2",
   "version": "2.7.6"
  }
 },
 "nbformat": 4,
 "nbformat_minor": 5
}
