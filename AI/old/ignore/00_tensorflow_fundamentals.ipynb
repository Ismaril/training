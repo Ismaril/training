{
 "nbformat": 4,
 "nbformat_minor": 0,
 "metadata": {
  "colab": {
   "name": "00_tensorflow_fundamentals.ipynb",
   "provenance": [],
   "collapsed_sections": [],
   "authorship_tag": "ABX9TyMjkm6RKnhvgwHLsNi3g+2C"
  },
  "kernelspec": {
   "name": "python3",
   "display_name": "Python 3"
  },
  "language_info": {
   "name": "python"
  }
 },
 "cells": [
  {
   "cell_type": "markdown",
   "source": [
    "* @tf.function (way to speed up regular pyhton funcitons)\n"
   ],
   "metadata": {
    "id": "EzcCpzeyOjMG"
   }
  },
  {
   "cell_type": "markdown",
   "source": [
    "#Introduction to Tensors\n",
    "* tf.constant"
   ],
   "metadata": {
    "id": "y8PIUb1De6Wt"
   }
  },
  {
   "cell_type": "code",
   "source": [
    "# Import tensor flow \n",
    "import tensorflow as tf\n",
    "print(tf.__version__)"
   ],
   "metadata": {
    "colab": {
     "base_uri": "https://localhost:8080/"
    },
    "id": "XCRw6BLeOzmw",
    "executionInfo": {
     "status": "ok",
     "timestamp": 1649596454411,
     "user_tz": -120,
     "elapsed": 3295,
     "user": {
      "displayName": "Ismaril",
      "userId": "09094833649721836077"
     }
    },
    "outputId": "440c0548-ca74-4564-d394-577018e60a5d"
   },
   "execution_count": 1,
   "outputs": [
    {
     "output_type": "stream",
     "name": "stdout",
     "text": [
      "2.8.0\n"
     ]
    }
   ]
  },
  {
   "cell_type": "code",
   "source": [
    "# Create a scalar\n",
    "# ctrl+sfhit+space for explanation of a code (click on it first)\n",
    "scalar = tf.constant(7)\n",
    "print(scalar)\n",
    "scalar"
   ],
   "metadata": {
    "colab": {
     "base_uri": "https://localhost:8080/"
    },
    "id": "InQlS6V7PKvd",
    "executionInfo": {
     "status": "ok",
     "timestamp": 1644858694790,
     "user_tz": -60,
     "elapsed": 482,
     "user": {
      "displayName": "Ismaril",
      "photoUrl": "https://lh3.googleusercontent.com/a/default-user=s64",
      "userId": "09094833649721836077"
     }
    },
    "outputId": "52012fc2-2052-4405-8f86-bf5504f91e95"
   },
   "execution_count": null,
   "outputs": [
    {
     "output_type": "stream",
     "name": "stdout",
     "text": [
      "tf.Tensor(7, shape=(), dtype=int32)\n"
     ]
    },
    {
     "output_type": "execute_result",
     "data": {
      "text/plain": [
       "<tf.Tensor: shape=(), dtype=int32, numpy=7>"
      ]
     },
     "metadata": {},
     "execution_count": 72
    }
   ]
  },
  {
   "cell_type": "code",
   "source": [
    "# Check the number of dimension (ndim)\n",
    "scalar.ndim"
   ],
   "metadata": {
    "colab": {
     "base_uri": "https://localhost:8080/"
    },
    "id": "4u8sW3FkSh-o",
    "executionInfo": {
     "status": "ok",
     "timestamp": 1644858694790,
     "user_tz": -60,
     "elapsed": 32,
     "user": {
      "displayName": "Ismaril",
      "photoUrl": "https://lh3.googleusercontent.com/a/default-user=s64",
      "userId": "09094833649721836077"
     }
    },
    "outputId": "555ae2b9-6006-4a8e-b7be-6befc6533b57"
   },
   "execution_count": null,
   "outputs": [
    {
     "output_type": "execute_result",
     "data": {
      "text/plain": [
       "0"
      ]
     },
     "metadata": {},
     "execution_count": 73
    }
   ]
  },
  {
   "cell_type": "code",
   "source": [
    "# Create a vector\n",
    "vector = tf.constant([10, 10])\n",
    "vector"
   ],
   "metadata": {
    "colab": {
     "base_uri": "https://localhost:8080/"
    },
    "id": "N5YyIsrHSyhb",
    "executionInfo": {
     "status": "ok",
     "timestamp": 1644858694791,
     "user_tz": -60,
     "elapsed": 31,
     "user": {
      "displayName": "Ismaril",
      "photoUrl": "https://lh3.googleusercontent.com/a/default-user=s64",
      "userId": "09094833649721836077"
     }
    },
    "outputId": "e9dfe7b0-d630-41e9-edb5-1680357154be"
   },
   "execution_count": null,
   "outputs": [
    {
     "output_type": "execute_result",
     "data": {
      "text/plain": [
       "<tf.Tensor: shape=(2,), dtype=int32, numpy=array([10, 10], dtype=int32)>"
      ]
     },
     "metadata": {},
     "execution_count": 74
    }
   ]
  },
  {
   "cell_type": "code",
   "source": [
    "vector.ndim"
   ],
   "metadata": {
    "colab": {
     "base_uri": "https://localhost:8080/"
    },
    "id": "vDI7k42uS7lc",
    "executionInfo": {
     "status": "ok",
     "timestamp": 1644858694791,
     "user_tz": -60,
     "elapsed": 30,
     "user": {
      "displayName": "Ismaril",
      "photoUrl": "https://lh3.googleusercontent.com/a/default-user=s64",
      "userId": "09094833649721836077"
     }
    },
    "outputId": "dea8a33e-7896-4582-84b9-9ade25336b26"
   },
   "execution_count": null,
   "outputs": [
    {
     "output_type": "execute_result",
     "data": {
      "text/plain": [
       "1"
      ]
     },
     "metadata": {},
     "execution_count": 75
    }
   ]
  },
  {
   "cell_type": "code",
   "source": [
    "# Create a matrix 1\n",
    "matrix_1 = tf.constant([[10, 7],\n",
    "                        [7, 10]])\n",
    "matrix_1"
   ],
   "metadata": {
    "colab": {
     "base_uri": "https://localhost:8080/"
    },
    "id": "tVimHc1pTC0D",
    "executionInfo": {
     "status": "ok",
     "timestamp": 1644858694791,
     "user_tz": -60,
     "elapsed": 28,
     "user": {
      "displayName": "Ismaril",
      "photoUrl": "https://lh3.googleusercontent.com/a/default-user=s64",
      "userId": "09094833649721836077"
     }
    },
    "outputId": "e53a0f36-eb71-4ace-f2e8-46fbc58450dc"
   },
   "execution_count": null,
   "outputs": [
    {
     "output_type": "execute_result",
     "data": {
      "text/plain": [
       "<tf.Tensor: shape=(2, 2), dtype=int32, numpy=\n",
       "array([[10,  7],\n",
       "       [ 7, 10]], dtype=int32)>"
      ]
     },
     "metadata": {},
     "execution_count": 76
    }
   ]
  },
  {
   "cell_type": "code",
   "source": [
    "matrix_1.ndim"
   ],
   "metadata": {
    "colab": {
     "base_uri": "https://localhost:8080/"
    },
    "id": "vKijMDSZTWf8",
    "executionInfo": {
     "status": "ok",
     "timestamp": 1644858694791,
     "user_tz": -60,
     "elapsed": 27,
     "user": {
      "displayName": "Ismaril",
      "photoUrl": "https://lh3.googleusercontent.com/a/default-user=s64",
      "userId": "09094833649721836077"
     }
    },
    "outputId": "cb696e22-e101-4842-9b3b-d7e2b973f2cc"
   },
   "execution_count": null,
   "outputs": [
    {
     "output_type": "execute_result",
     "data": {
      "text/plain": [
       "2"
      ]
     },
     "metadata": {},
     "execution_count": 77
    }
   ]
  },
  {
   "cell_type": "code",
   "source": [
    "# Create a matrix 2\n",
    "matrix_2 = tf.constant([[10., 7.],\n",
    "                        [3., 2.],\n",
    "                        [8., 9.]], dtype=tf.float16)\n",
    "matrix_2"
   ],
   "metadata": {
    "colab": {
     "base_uri": "https://localhost:8080/"
    },
    "id": "a6hJ3TnKUFfQ",
    "executionInfo": {
     "status": "ok",
     "timestamp": 1644858694792,
     "user_tz": -60,
     "elapsed": 27,
     "user": {
      "displayName": "Ismaril",
      "photoUrl": "https://lh3.googleusercontent.com/a/default-user=s64",
      "userId": "09094833649721836077"
     }
    },
    "outputId": "f29b2a0c-64ea-41dd-bc0a-a98b1ba8dde7"
   },
   "execution_count": null,
   "outputs": [
    {
     "output_type": "execute_result",
     "data": {
      "text/plain": [
       "<tf.Tensor: shape=(3, 2), dtype=float16, numpy=\n",
       "array([[10.,  7.],\n",
       "       [ 3.,  2.],\n",
       "       [ 8.,  9.]], dtype=float16)>"
      ]
     },
     "metadata": {},
     "execution_count": 78
    }
   ]
  },
  {
   "cell_type": "code",
   "source": [
    "matrix_2.ndim"
   ],
   "metadata": {
    "colab": {
     "base_uri": "https://localhost:8080/"
    },
    "id": "skVFzOLNUwIt",
    "executionInfo": {
     "status": "ok",
     "timestamp": 1644858694792,
     "user_tz": -60,
     "elapsed": 26,
     "user": {
      "displayName": "Ismaril",
      "photoUrl": "https://lh3.googleusercontent.com/a/default-user=s64",
      "userId": "09094833649721836077"
     }
    },
    "outputId": "846570b8-86ec-42ae-d6e4-2c1ac5b7a1e5"
   },
   "execution_count": null,
   "outputs": [
    {
     "output_type": "execute_result",
     "data": {
      "text/plain": [
       "2"
      ]
     },
     "metadata": {},
     "execution_count": 79
    }
   ]
  },
  {
   "cell_type": "code",
   "source": [
    "# Create a tensor\n",
    "tensor = tf.constant([[[1, 2, 3],\n",
    "                       [4, 5, 6]],\n",
    "                       \n",
    "                      [[7, 8, 9],\n",
    "                       [10, 11, 12]],\n",
    "                       \n",
    "                      [[13, 14, 15],\n",
    "                       [16, 17, 18]],\n",
    "                      \n",
    "                      [[19, 20, 21],\n",
    "                       [22, 23, 24]]])\n",
    "tensor"
   ],
   "metadata": {
    "colab": {
     "base_uri": "https://localhost:8080/"
    },
    "id": "4mfdI-6uU4kM",
    "executionInfo": {
     "status": "ok",
     "timestamp": 1644858694792,
     "user_tz": -60,
     "elapsed": 25,
     "user": {
      "displayName": "Ismaril",
      "photoUrl": "https://lh3.googleusercontent.com/a/default-user=s64",
      "userId": "09094833649721836077"
     }
    },
    "outputId": "852c537e-6aad-408f-8238-0dac8506cbb3"
   },
   "execution_count": null,
   "outputs": [
    {
     "output_type": "execute_result",
     "data": {
      "text/plain": [
       "<tf.Tensor: shape=(4, 2, 3), dtype=int32, numpy=\n",
       "array([[[ 1,  2,  3],\n",
       "        [ 4,  5,  6]],\n",
       "\n",
       "       [[ 7,  8,  9],\n",
       "        [10, 11, 12]],\n",
       "\n",
       "       [[13, 14, 15],\n",
       "        [16, 17, 18]],\n",
       "\n",
       "       [[19, 20, 21],\n",
       "        [22, 23, 24]]], dtype=int32)>"
      ]
     },
     "metadata": {},
     "execution_count": 80
    }
   ]
  },
  {
   "cell_type": "code",
   "source": [
    "tensor.ndim"
   ],
   "metadata": {
    "colab": {
     "base_uri": "https://localhost:8080/"
    },
    "id": "yJbqJIL9XsJ5",
    "executionInfo": {
     "status": "ok",
     "timestamp": 1644858694792,
     "user_tz": -60,
     "elapsed": 23,
     "user": {
      "displayName": "Ismaril",
      "photoUrl": "https://lh3.googleusercontent.com/a/default-user=s64",
      "userId": "09094833649721836077"
     }
    },
    "outputId": "253b1386-becb-4a23-e82b-c83eeb1760a0"
   },
   "execution_count": null,
   "outputs": [
    {
     "output_type": "execute_result",
     "data": {
      "text/plain": [
       "3"
      ]
     },
     "metadata": {},
     "execution_count": 81
    }
   ]
  },
  {
   "cell_type": "markdown",
   "source": [
    "## Summary\n",
    "* Scalar: single number\n",
    "* Vector: a number with direction (e.g. wind speed and direction)\n",
    "* Matrix: a 2-dimension array of numbers\n",
    "* Tensor: an n-dimensional array of numbers\n",
    "\n",
    "**ndim = total number of elements in a shape of tensor**"
   ],
   "metadata": {
    "id": "spe99rKeasbY"
   }
  },
  {
   "cell_type": "markdown",
   "source": [
    "# Create tensors with tf.Variable\n",
    "* compare variable vs constant\n"
   ],
   "metadata": {
    "id": "fku74Oxkba3B"
   }
  },
  {
   "cell_type": "code",
   "source": [
    "# tf.Variable used when values are expected to change\n",
    "# tf.constant used when values are not expected to change\n",
    "changeable_tensor = tf.Variable([10, 7])\n",
    "unchangeable_tensor = tf.constant([10, 7])\n",
    "changeable_tensor, unchangeable_tensor"
   ],
   "metadata": {
    "colab": {
     "base_uri": "https://localhost:8080/"
    },
    "id": "RDKXPwn9dD01",
    "executionInfo": {
     "status": "ok",
     "timestamp": 1644858694793,
     "user_tz": -60,
     "elapsed": 23,
     "user": {
      "displayName": "Ismaril",
      "photoUrl": "https://lh3.googleusercontent.com/a/default-user=s64",
      "userId": "09094833649721836077"
     }
    },
    "outputId": "f19881bc-1fde-4ba3-ed4a-c9c589dbecb6"
   },
   "execution_count": null,
   "outputs": [
    {
     "output_type": "execute_result",
     "data": {
      "text/plain": [
       "(<tf.Variable 'Variable:0' shape=(2,) dtype=int32, numpy=array([10,  7], dtype=int32)>,\n",
       " <tf.Tensor: shape=(2,), dtype=int32, numpy=array([10,  7], dtype=int32)>)"
      ]
     },
     "metadata": {},
     "execution_count": 82
    }
   ]
  },
  {
   "cell_type": "code",
   "source": [
    "# Changes the value at the index 0\n",
    "changeable_tensor[0].assign(7)\n",
    "changeable_tensor"
   ],
   "metadata": {
    "colab": {
     "base_uri": "https://localhost:8080/"
    },
    "id": "CateGPlkdhKU",
    "executionInfo": {
     "status": "ok",
     "timestamp": 1644858694793,
     "user_tz": -60,
     "elapsed": 22,
     "user": {
      "displayName": "Ismaril",
      "photoUrl": "https://lh3.googleusercontent.com/a/default-user=s64",
      "userId": "09094833649721836077"
     }
    },
    "outputId": "386537ed-32d3-4e8c-a224-98c416bf4d1e"
   },
   "execution_count": null,
   "outputs": [
    {
     "output_type": "execute_result",
     "data": {
      "text/plain": [
       "<tf.Variable 'Variable:0' shape=(2,) dtype=int32, numpy=array([7, 7], dtype=int32)>"
      ]
     },
     "metadata": {},
     "execution_count": 83
    }
   ]
  },
  {
   "cell_type": "code",
   "source": [
    "# tf.constant does not support assignment\n",
    "#unchangeable_tensor[0].assign(7)\n",
    "#unchangeable_tensor"
   ],
   "metadata": {
    "id": "DJj3NEh_dtx1"
   },
   "execution_count": null,
   "outputs": []
  },
  {
   "cell_type": "markdown",
   "source": [
    "# Create random tensors"
   ],
   "metadata": {
    "id": "r64wSMjCev6L"
   }
  },
  {
   "cell_type": "code",
   "source": [
    "random_1 = tf.random.Generator.from_seed(42)\n",
    "print(random_1, \"\\n\")\n",
    "\n",
    "random_1 = random_1.normal(shape=(3, 2))\n",
    "\n",
    "random_2 = tf.random.Generator.from_seed(42)\n",
    "random_2 = random_2.normal(shape=(3, 2))\n",
    "\n",
    "print(random_1, random_2, random_1 == random_2, sep=\"\\n\"*2)\n"
   ],
   "metadata": {
    "colab": {
     "base_uri": "https://localhost:8080/"
    },
    "id": "wcwfGSsBezti",
    "executionInfo": {
     "status": "ok",
     "timestamp": 1644858694793,
     "user_tz": -60,
     "elapsed": 21,
     "user": {
      "displayName": "Ismaril",
      "photoUrl": "https://lh3.googleusercontent.com/a/default-user=s64",
      "userId": "09094833649721836077"
     }
    },
    "outputId": "c28657bd-2fdc-422a-ef6f-a0b71674a329"
   },
   "execution_count": null,
   "outputs": [
    {
     "output_type": "stream",
     "name": "stdout",
     "text": [
      "<tensorflow.python.ops.stateful_random_ops.Generator object at 0x7f92ff2bb190> \n",
      "\n",
      "tf.Tensor(\n",
      "[[-0.7565803  -0.06854702]\n",
      " [ 0.07595026 -1.2573844 ]\n",
      " [-0.23193763 -1.8107855 ]], shape=(3, 2), dtype=float32)\n",
      "\n",
      "tf.Tensor(\n",
      "[[-0.7565803  -0.06854702]\n",
      " [ 0.07595026 -1.2573844 ]\n",
      " [-0.23193763 -1.8107855 ]], shape=(3, 2), dtype=float32)\n",
      "\n",
      "tf.Tensor(\n",
      "[[ True  True]\n",
      " [ True  True]\n",
      " [ True  True]], shape=(3, 2), dtype=bool)\n"
     ]
    }
   ]
  },
  {
   "cell_type": "code",
   "source": [],
   "metadata": {
    "id": "gSqnfJm8i0Ux"
   },
   "execution_count": null,
   "outputs": []
  },
  {
   "cell_type": "markdown",
   "source": [
    "#Shuffle tensors"
   ],
   "metadata": {
    "id": "rtI0TFdDi2Lq"
   }
  },
  {
   "cell_type": "code",
   "source": [
    "tf.random.set_seed(25) # use global seed to get reproducible random numbers\n",
    "not_shuffled = tf.constant([[10, 7],\n",
    "                            [3, 2],\n",
    "                            [1, 5]])\n",
    "shuffled = tf.random.shuffle(not_shuffled, seed=100) # use operation level seed not to get reproducible numbers\n",
    "not_shuffled, shuffled\n"
   ],
   "metadata": {
    "colab": {
     "base_uri": "https://localhost:8080/"
    },
    "id": "CIeIr77Ji4vY",
    "executionInfo": {
     "status": "ok",
     "timestamp": 1644858694794,
     "user_tz": -60,
     "elapsed": 20,
     "user": {
      "displayName": "Ismaril",
      "photoUrl": "https://lh3.googleusercontent.com/a/default-user=s64",
      "userId": "09094833649721836077"
     }
    },
    "outputId": "0ff552d7-0cfc-40c4-ab12-743d92b55edd"
   },
   "execution_count": null,
   "outputs": [
    {
     "output_type": "execute_result",
     "data": {
      "text/plain": [
       "(<tf.Tensor: shape=(3, 2), dtype=int32, numpy=\n",
       " array([[10,  7],\n",
       "        [ 3,  2],\n",
       "        [ 1,  5]], dtype=int32)>, <tf.Tensor: shape=(3, 2), dtype=int32, numpy=\n",
       " array([[ 3,  2],\n",
       "        [ 1,  5],\n",
       "        [10,  7]], dtype=int32)>)"
      ]
     },
     "metadata": {},
     "execution_count": 86
    }
   ]
  },
  {
   "cell_type": "markdown",
   "source": [
    "#Other ways to make tensors"
   ],
   "metadata": {
    "id": "ytyn9Ck3aZOX"
   }
  },
  {
   "cell_type": "code",
   "source": [
    "# create a tensor made of all ones\n",
    "tf.ones([2, 2, 2], dtype=tf.int64)"
   ],
   "metadata": {
    "colab": {
     "base_uri": "https://localhost:8080/"
    },
    "id": "yJ-Jl4f_ah7P",
    "executionInfo": {
     "status": "ok",
     "timestamp": 1644858694794,
     "user_tz": -60,
     "elapsed": 19,
     "user": {
      "displayName": "Ismaril",
      "photoUrl": "https://lh3.googleusercontent.com/a/default-user=s64",
      "userId": "09094833649721836077"
     }
    },
    "outputId": "9679de60-facc-4975-bd3d-d0b7577f6f91"
   },
   "execution_count": null,
   "outputs": [
    {
     "output_type": "execute_result",
     "data": {
      "text/plain": [
       "<tf.Tensor: shape=(2, 2, 2), dtype=int64, numpy=\n",
       "array([[[1, 1],\n",
       "        [1, 1]],\n",
       "\n",
       "       [[1, 1],\n",
       "        [1, 1]]])>"
      ]
     },
     "metadata": {},
     "execution_count": 87
    }
   ]
  },
  {
   "cell_type": "code",
   "source": [
    "# create a tensor made of all zeros\n",
    "tf.zeros(shape=(3, 4))"
   ],
   "metadata": {
    "colab": {
     "base_uri": "https://localhost:8080/"
    },
    "id": "RpllEHYXbMx-",
    "executionInfo": {
     "status": "ok",
     "timestamp": 1644858694794,
     "user_tz": -60,
     "elapsed": 18,
     "user": {
      "displayName": "Ismaril",
      "photoUrl": "https://lh3.googleusercontent.com/a/default-user=s64",
      "userId": "09094833649721836077"
     }
    },
    "outputId": "8b3c5db9-2153-488c-939c-6c54d8e6cdec"
   },
   "execution_count": null,
   "outputs": [
    {
     "output_type": "execute_result",
     "data": {
      "text/plain": [
       "<tf.Tensor: shape=(3, 4), dtype=float32, numpy=\n",
       "array([[0., 0., 0., 0.],\n",
       "       [0., 0., 0., 0.],\n",
       "       [0., 0., 0., 0.]], dtype=float32)>"
      ]
     },
     "metadata": {},
     "execution_count": 88
    }
   ]
  },
  {
   "cell_type": "markdown",
   "source": [
    "#Turn NumPy arrays into tensors\n",
    "difference is that Tensorflow tensors can be run on GPU = faster"
   ],
   "metadata": {
    "id": "WUzkib72b1Z5"
   }
  },
  {
   "cell_type": "code",
   "source": [
    "# create tensors from NumPy array\n",
    "import numpy as np\n",
    "\n",
    "numpy_A = np.arange(1, 25, dtype=np.int32) # last number not included\n",
    "numpy_A"
   ],
   "metadata": {
    "colab": {
     "base_uri": "https://localhost:8080/"
    },
    "id": "2vtpomX-bvS0",
    "executionInfo": {
     "status": "ok",
     "timestamp": 1644858694794,
     "user_tz": -60,
     "elapsed": 17,
     "user": {
      "displayName": "Ismaril",
      "photoUrl": "https://lh3.googleusercontent.com/a/default-user=s64",
      "userId": "09094833649721836077"
     }
    },
    "outputId": "bc610d82-29b1-4b6c-ebab-3a5598391675"
   },
   "execution_count": null,
   "outputs": [
    {
     "output_type": "execute_result",
     "data": {
      "text/plain": [
       "array([ 1,  2,  3,  4,  5,  6,  7,  8,  9, 10, 11, 12, 13, 14, 15, 16, 17,\n",
       "       18, 19, 20, 21, 22, 23, 24], dtype=int32)"
      ]
     },
     "metadata": {},
     "execution_count": 89
    }
   ]
  },
  {
   "cell_type": "code",
   "source": [
    "# turn numpy into tensorflow and also you can change the sape\n",
    "A = tf.constant(numpy_A, shape=(2, 3, 4), dtype=tf.int32)\n",
    "B = tf.constant(A, shape=24)\n",
    "print(A, B, sep=\"\\n\"*2, end=\"\\n\")\n",
    "# nupy arrays can be without commas"
   ],
   "metadata": {
    "colab": {
     "base_uri": "https://localhost:8080/"
    },
    "id": "IvM3OvxDc4qQ",
    "executionInfo": {
     "status": "ok",
     "timestamp": 1644858694795,
     "user_tz": -60,
     "elapsed": 17,
     "user": {
      "displayName": "Ismaril",
      "photoUrl": "https://lh3.googleusercontent.com/a/default-user=s64",
      "userId": "09094833649721836077"
     }
    },
    "outputId": "f79017e9-a10d-499b-ccc3-fd25b4506ff3"
   },
   "execution_count": null,
   "outputs": [
    {
     "output_type": "stream",
     "name": "stdout",
     "text": [
      "tf.Tensor(\n",
      "[[[ 1  2  3  4]\n",
      "  [ 5  6  7  8]\n",
      "  [ 9 10 11 12]]\n",
      "\n",
      " [[13 14 15 16]\n",
      "  [17 18 19 20]\n",
      "  [21 22 23 24]]], shape=(2, 3, 4), dtype=int32)\n",
      "\n",
      "tf.Tensor([ 1  2  3  4  5  6  7  8  9 10 11 12 13 14 15 16 17 18 19 20 21 22 23 24], shape=(24,), dtype=int32)\n"
     ]
    }
   ]
  },
  {
   "cell_type": "markdown",
   "source": [
    "#Get information from tensors\n",
    "* shape - tensor.shape\n",
    "* rank - tensor.ndim\n",
    "* axis or dimension - tensor[0], tensor[:, 1], ...\n",
    "* size - tf.size(tensor)"
   ],
   "metadata": {
    "id": "l3UccCSDo47T"
   }
  },
  {
   "cell_type": "code",
   "source": [
    "rank_4_tensor = tf.zeros(shape=(2, 3, 4, 5))\n",
    "rank_4_tensor"
   ],
   "metadata": {
    "colab": {
     "base_uri": "https://localhost:8080/"
    },
    "id": "NcSnZNxxs9MU",
    "executionInfo": {
     "status": "ok",
     "timestamp": 1644858694795,
     "user_tz": -60,
     "elapsed": 15,
     "user": {
      "displayName": "Ismaril",
      "photoUrl": "https://lh3.googleusercontent.com/a/default-user=s64",
      "userId": "09094833649721836077"
     }
    },
    "outputId": "34190c00-2329-40ab-af0b-d5019c0de84f"
   },
   "execution_count": null,
   "outputs": [
    {
     "output_type": "execute_result",
     "data": {
      "text/plain": [
       "<tf.Tensor: shape=(2, 3, 4, 5), dtype=float32, numpy=\n",
       "array([[[[0., 0., 0., 0., 0.],\n",
       "         [0., 0., 0., 0., 0.],\n",
       "         [0., 0., 0., 0., 0.],\n",
       "         [0., 0., 0., 0., 0.]],\n",
       "\n",
       "        [[0., 0., 0., 0., 0.],\n",
       "         [0., 0., 0., 0., 0.],\n",
       "         [0., 0., 0., 0., 0.],\n",
       "         [0., 0., 0., 0., 0.]],\n",
       "\n",
       "        [[0., 0., 0., 0., 0.],\n",
       "         [0., 0., 0., 0., 0.],\n",
       "         [0., 0., 0., 0., 0.],\n",
       "         [0., 0., 0., 0., 0.]]],\n",
       "\n",
       "\n",
       "       [[[0., 0., 0., 0., 0.],\n",
       "         [0., 0., 0., 0., 0.],\n",
       "         [0., 0., 0., 0., 0.],\n",
       "         [0., 0., 0., 0., 0.]],\n",
       "\n",
       "        [[0., 0., 0., 0., 0.],\n",
       "         [0., 0., 0., 0., 0.],\n",
       "         [0., 0., 0., 0., 0.],\n",
       "         [0., 0., 0., 0., 0.]],\n",
       "\n",
       "        [[0., 0., 0., 0., 0.],\n",
       "         [0., 0., 0., 0., 0.],\n",
       "         [0., 0., 0., 0., 0.],\n",
       "         [0., 0., 0., 0., 0.]]]], dtype=float32)>"
      ]
     },
     "metadata": {},
     "execution_count": 91
    }
   ]
  },
  {
   "cell_type": "code",
   "source": [
    "rank_4_tensor[0]"
   ],
   "metadata": {
    "colab": {
     "base_uri": "https://localhost:8080/"
    },
    "id": "w16NfQlRuAVs",
    "executionInfo": {
     "status": "ok",
     "timestamp": 1644858694795,
     "user_tz": -60,
     "elapsed": 14,
     "user": {
      "displayName": "Ismaril",
      "photoUrl": "https://lh3.googleusercontent.com/a/default-user=s64",
      "userId": "09094833649721836077"
     }
    },
    "outputId": "f6c14d21-d038-49fa-8fef-23b5505a4db6"
   },
   "execution_count": null,
   "outputs": [
    {
     "output_type": "execute_result",
     "data": {
      "text/plain": [
       "<tf.Tensor: shape=(3, 4, 5), dtype=float32, numpy=\n",
       "array([[[0., 0., 0., 0., 0.],\n",
       "        [0., 0., 0., 0., 0.],\n",
       "        [0., 0., 0., 0., 0.],\n",
       "        [0., 0., 0., 0., 0.]],\n",
       "\n",
       "       [[0., 0., 0., 0., 0.],\n",
       "        [0., 0., 0., 0., 0.],\n",
       "        [0., 0., 0., 0., 0.],\n",
       "        [0., 0., 0., 0., 0.]],\n",
       "\n",
       "       [[0., 0., 0., 0., 0.],\n",
       "        [0., 0., 0., 0., 0.],\n",
       "        [0., 0., 0., 0., 0.],\n",
       "        [0., 0., 0., 0., 0.]]], dtype=float32)>"
      ]
     },
     "metadata": {},
     "execution_count": 92
    }
   ]
  },
  {
   "cell_type": "code",
   "source": [
    "print(\n",
    "    \"Datatype of every element:\", rank_4_tensor.dtype,\n",
    "    \"Shape of a tensor:\", rank_4_tensor.shape,\n",
    "    \"Number of dimensions (rank):\", rank_4_tensor.ndim,\n",
    "    \"Elements along the 0 axis:\", rank_4_tensor.shape[0],\n",
    "    \"Elements along the last axis:\", rank_4_tensor.shape[-1],\n",
    "    \"size:\", tf.size(rank_4_tensor).numpy(),\n",
    "    sep=\"\\n\")\n",
    "# by axis is meant position of dimension. rank_4_tensor.shape[0] will return 2 because it is the first dimension in shape of tensor\n",
    "# 2:05:03"
   ],
   "metadata": {
    "colab": {
     "base_uri": "https://localhost:8080/"
    },
    "id": "njVr1dwXuTG7",
    "executionInfo": {
     "status": "ok",
     "timestamp": 1644858694795,
     "user_tz": -60,
     "elapsed": 13,
     "user": {
      "displayName": "Ismaril",
      "photoUrl": "https://lh3.googleusercontent.com/a/default-user=s64",
      "userId": "09094833649721836077"
     }
    },
    "outputId": "6d678730-b219-4ba8-fcc3-eb7d0f092247"
   },
   "execution_count": null,
   "outputs": [
    {
     "output_type": "stream",
     "name": "stdout",
     "text": [
      "Datatype of every element:\n",
      "<dtype: 'float32'>\n",
      "Shape of a tensor:\n",
      "(2, 3, 4, 5)\n",
      "Number of dimensions (rank):\n",
      "4\n",
      "Elements along the 0 axis:\n",
      "2\n",
      "Elements along the last axis:\n",
      "5\n",
      "size:\n",
      "120\n"
     ]
    }
   ]
  },
  {
   "cell_type": "markdown",
   "source": [
    "# Indexing of tensors\n",
    "tensors can be indexed just like lists in python"
   ],
   "metadata": {
    "id": "ERgEb31O2Fhv"
   }
  },
  {
   "cell_type": "code",
   "source": [
    "# get first two elements of each dimension\n",
    "#rank_4_tensor[:2, :2, :2, :2]\n",
    "tensor_x = tf.constant(np.arange(0, 240, 1), shape=(4, 6, 10))\n",
    "print(tensor_x[:, 0, :])\n",
    "print(tensor_x)"
   ],
   "metadata": {
    "colab": {
     "base_uri": "https://localhost:8080/"
    },
    "id": "MO_agQOM2Kl_",
    "executionInfo": {
     "status": "ok",
     "timestamp": 1644859375027,
     "user_tz": -60,
     "elapsed": 385,
     "user": {
      "displayName": "Ismaril",
      "photoUrl": "https://lh3.googleusercontent.com/a/default-user=s64",
      "userId": "09094833649721836077"
     }
    },
    "outputId": "895c4201-38fe-4799-f069-41a14034548c"
   },
   "execution_count": null,
   "outputs": [
    {
     "output_type": "stream",
     "name": "stdout",
     "text": [
      "tf.Tensor(\n",
      "[[  0   1   2   3   4   5   6   7   8   9]\n",
      " [ 60  61  62  63  64  65  66  67  68  69]\n",
      " [120 121 122 123 124 125 126 127 128 129]\n",
      " [180 181 182 183 184 185 186 187 188 189]], shape=(4, 10), dtype=int64)\n",
      "tf.Tensor(\n",
      "[[[  0   1   2   3   4   5   6   7   8   9]\n",
      "  [ 10  11  12  13  14  15  16  17  18  19]\n",
      "  [ 20  21  22  23  24  25  26  27  28  29]\n",
      "  [ 30  31  32  33  34  35  36  37  38  39]\n",
      "  [ 40  41  42  43  44  45  46  47  48  49]\n",
      "  [ 50  51  52  53  54  55  56  57  58  59]]\n",
      "\n",
      " [[ 60  61  62  63  64  65  66  67  68  69]\n",
      "  [ 70  71  72  73  74  75  76  77  78  79]\n",
      "  [ 80  81  82  83  84  85  86  87  88  89]\n",
      "  [ 90  91  92  93  94  95  96  97  98  99]\n",
      "  [100 101 102 103 104 105 106 107 108 109]\n",
      "  [110 111 112 113 114 115 116 117 118 119]]\n",
      "\n",
      " [[120 121 122 123 124 125 126 127 128 129]\n",
      "  [130 131 132 133 134 135 136 137 138 139]\n",
      "  [140 141 142 143 144 145 146 147 148 149]\n",
      "  [150 151 152 153 154 155 156 157 158 159]\n",
      "  [160 161 162 163 164 165 166 167 168 169]\n",
      "  [170 171 172 173 174 175 176 177 178 179]]\n",
      "\n",
      " [[180 181 182 183 184 185 186 187 188 189]\n",
      "  [190 191 192 193 194 195 196 197 198 199]\n",
      "  [200 201 202 203 204 205 206 207 208 209]\n",
      "  [210 211 212 213 214 215 216 217 218 219]\n",
      "  [220 221 222 223 224 225 226 227 228 229]\n",
      "  [230 231 232 233 234 235 236 237 238 239]]], shape=(4, 6, 10), dtype=int64)\n"
     ]
    }
   ]
  },
  {
   "cell_type": "code",
   "source": [
    "# get the first index of each dimension from each index except the final one\n",
    "rank_4_tensor[:1, :1, :1]"
   ],
   "metadata": {
    "colab": {
     "base_uri": "https://localhost:8080/"
    },
    "id": "kA-3NAIw4Szg",
    "executionInfo": {
     "status": "ok",
     "timestamp": 1644858694796,
     "user_tz": -60,
     "elapsed": 11,
     "user": {
      "displayName": "Ismaril",
      "photoUrl": "https://lh3.googleusercontent.com/a/default-user=s64",
      "userId": "09094833649721836077"
     }
    },
    "outputId": "b0c8a5fd-bfa6-4b16-cc6d-b9903ac3e027"
   },
   "execution_count": null,
   "outputs": [
    {
     "output_type": "execute_result",
     "data": {
      "text/plain": [
       "<tf.Tensor: shape=(1, 1, 1, 5), dtype=float32, numpy=array([[[[0., 0., 0., 0., 0.]]]], dtype=float32)>"
      ]
     },
     "metadata": {},
     "execution_count": 95
    }
   ]
  },
  {
   "cell_type": "code",
   "source": [
    "# play around with slicing\n",
    "\n",
    "rank_4_tensor[:1, :, :, :]\n",
    "# colon in brackets means get everything\n",
    "# tested and this slicing has similar logic as normal lists, but it seems that [:1, :, :, :] does not work on normal lists"
   ],
   "metadata": {
    "colab": {
     "base_uri": "https://localhost:8080/"
    },
    "id": "Ioq-GoKk5Aju",
    "executionInfo": {
     "status": "ok",
     "timestamp": 1644858695235,
     "user_tz": -60,
     "elapsed": 449,
     "user": {
      "displayName": "Ismaril",
      "photoUrl": "https://lh3.googleusercontent.com/a/default-user=s64",
      "userId": "09094833649721836077"
     }
    },
    "outputId": "81e63224-7d2f-4155-c65d-869c796e1933"
   },
   "execution_count": null,
   "outputs": [
    {
     "output_type": "execute_result",
     "data": {
      "text/plain": [
       "<tf.Tensor: shape=(1, 3, 4, 5), dtype=float32, numpy=\n",
       "array([[[[0., 0., 0., 0., 0.],\n",
       "         [0., 0., 0., 0., 0.],\n",
       "         [0., 0., 0., 0., 0.],\n",
       "         [0., 0., 0., 0., 0.]],\n",
       "\n",
       "        [[0., 0., 0., 0., 0.],\n",
       "         [0., 0., 0., 0., 0.],\n",
       "         [0., 0., 0., 0., 0.],\n",
       "         [0., 0., 0., 0., 0.]],\n",
       "\n",
       "        [[0., 0., 0., 0., 0.],\n",
       "         [0., 0., 0., 0., 0.],\n",
       "         [0., 0., 0., 0., 0.],\n",
       "         [0., 0., 0., 0., 0.]]]], dtype=float32)>"
      ]
     },
     "metadata": {},
     "execution_count": 96
    }
   ]
  },
  {
   "cell_type": "code",
   "source": [
    "# create rank 2 tensor (2 dimensions)\n",
    "rank_2_tensor = tf.constant([1, 2, 3, 4],shape=(2, 2))\n",
    "rank_2_tensor"
   ],
   "metadata": {
    "colab": {
     "base_uri": "https://localhost:8080/"
    },
    "id": "5rvwE9vd5i3L",
    "executionInfo": {
     "status": "ok",
     "timestamp": 1644858695235,
     "user_tz": -60,
     "elapsed": 36,
     "user": {
      "displayName": "Ismaril",
      "photoUrl": "https://lh3.googleusercontent.com/a/default-user=s64",
      "userId": "09094833649721836077"
     }
    },
    "outputId": "ba94741d-ce09-45a2-dbb0-48912c135d40"
   },
   "execution_count": null,
   "outputs": [
    {
     "output_type": "execute_result",
     "data": {
      "text/plain": [
       "<tf.Tensor: shape=(2, 2), dtype=int32, numpy=\n",
       "array([[1, 2],\n",
       "       [3, 4]], dtype=int32)>"
      ]
     },
     "metadata": {},
     "execution_count": 97
    }
   ]
  },
  {
   "cell_type": "code",
   "source": [
    "# get the last item of each row of our rank 2 tensor\n",
    "rank_2_tensor[:, -1]\n"
   ],
   "metadata": {
    "colab": {
     "base_uri": "https://localhost:8080/"
    },
    "id": "K1Yz8P9488NX",
    "executionInfo": {
     "status": "ok",
     "timestamp": 1644858695235,
     "user_tz": -60,
     "elapsed": 34,
     "user": {
      "displayName": "Ismaril",
      "photoUrl": "https://lh3.googleusercontent.com/a/default-user=s64",
      "userId": "09094833649721836077"
     }
    },
    "outputId": "c7f5a76c-4eea-4aa8-f851-34396c9aee6a"
   },
   "execution_count": null,
   "outputs": [
    {
     "output_type": "execute_result",
     "data": {
      "text/plain": [
       "<tf.Tensor: shape=(2,), dtype=int32, numpy=array([2, 4], dtype=int32)>"
      ]
     },
     "metadata": {},
     "execution_count": 98
    }
   ]
  },
  {
   "cell_type": "code",
   "source": [
    "# add new dimension to a tensor, variant 1\n",
    "rank_3_tensor = rank_2_tensor[..., tf.newaxis]\n",
    "print(rank_3_tensor)\n",
    "\n",
    "# the three dots mean this:\n",
    "rank_3_tensor = rank_2_tensor[:, :, tf.newaxis] # :, :, means every axis before the last one\n",
    "print(rank_3_tensor)\n",
    "\n",
    "rank_3_tensor = rank_2_tensor[tf.newaxis, ...]\n",
    "print(rank_3_tensor)\n",
    "\n",
    "rank_3_tensor = rank_2_tensor[:, tf.newaxis, :]\n",
    "print(rank_3_tensor)\n",
    "\n"
   ],
   "metadata": {
    "colab": {
     "base_uri": "https://localhost:8080/"
    },
    "id": "p1KIL9Ho9nOj",
    "executionInfo": {
     "status": "ok",
     "timestamp": 1644859581627,
     "user_tz": -60,
     "elapsed": 394,
     "user": {
      "displayName": "Ismaril",
      "photoUrl": "https://lh3.googleusercontent.com/a/default-user=s64",
      "userId": "09094833649721836077"
     }
    },
    "outputId": "3701a497-01c4-41b7-a981-fb5581091daa"
   },
   "execution_count": null,
   "outputs": [
    {
     "output_type": "stream",
     "name": "stdout",
     "text": [
      "tf.Tensor(\n",
      "[[[1]\n",
      "  [2]]\n",
      "\n",
      " [[3]\n",
      "  [4]]], shape=(2, 2, 1), dtype=int32)\n",
      "tf.Tensor(\n",
      "[[[1]\n",
      "  [2]]\n",
      "\n",
      " [[3]\n",
      "  [4]]], shape=(2, 2, 1), dtype=int32)\n",
      "tf.Tensor(\n",
      "[[[1 2]\n",
      "  [3 4]]], shape=(1, 2, 2), dtype=int32)\n",
      "tf.Tensor(\n",
      "[[[1 2]]\n",
      "\n",
      " [[3 4]]], shape=(2, 1, 2), dtype=int32)\n"
     ]
    }
   ]
  },
  {
   "cell_type": "code",
   "source": [
    "# add new dimension to a tensor, variant 2\n",
    "tf.expand_dims(rank_2_tensor, -1) # expand axis on the last index"
   ],
   "metadata": {
    "colab": {
     "base_uri": "https://localhost:8080/"
    },
    "id": "_UtFx-MkBpz3",
    "executionInfo": {
     "status": "ok",
     "timestamp": 1644858695236,
     "user_tz": -60,
     "elapsed": 33,
     "user": {
      "displayName": "Ismaril",
      "photoUrl": "https://lh3.googleusercontent.com/a/default-user=s64",
      "userId": "09094833649721836077"
     }
    },
    "outputId": "77b04630-1b40-44e6-ba68-54cf18c8e280"
   },
   "execution_count": null,
   "outputs": [
    {
     "output_type": "execute_result",
     "data": {
      "text/plain": [
       "<tf.Tensor: shape=(2, 2, 1), dtype=int32, numpy=\n",
       "array([[[1],\n",
       "        [2]],\n",
       "\n",
       "       [[3],\n",
       "        [4]]], dtype=int32)>"
      ]
     },
     "metadata": {},
     "execution_count": 100
    }
   ]
  },
  {
   "cell_type": "markdown",
   "source": [
    "# Manipulating tensors (tensor operations)\n",
    "**basic operations**\n",
    "+, -, *, /\n",
    "\n"
   ],
   "metadata": {
    "id": "beC9UTy6EvRO"
   }
  },
  {
   "cell_type": "code",
   "source": [
    "# you can change values of a tensor using operator signs\n",
    "tensor_a = tf.constant([[2, 4],\n",
    "                       [6, 8]],\n",
    "                       dtype=tf.float64)\n",
    "tensor_a * 10"
   ],
   "metadata": {
    "colab": {
     "base_uri": "https://localhost:8080/"
    },
    "id": "JuNXr7IVE3wP",
    "executionInfo": {
     "status": "ok",
     "timestamp": 1644858695236,
     "user_tz": -60,
     "elapsed": 32,
     "user": {
      "displayName": "Ismaril",
      "photoUrl": "https://lh3.googleusercontent.com/a/default-user=s64",
      "userId": "09094833649721836077"
     }
    },
    "outputId": "d51e88e8-c179-4f16-dc30-1bb8bd491c14"
   },
   "execution_count": null,
   "outputs": [
    {
     "output_type": "execute_result",
     "data": {
      "text/plain": [
       "<tf.Tensor: shape=(2, 2), dtype=float64, numpy=\n",
       "array([[20., 40.],\n",
       "       [60., 80.]])>"
      ]
     },
     "metadata": {},
     "execution_count": 101
    }
   ]
  },
  {
   "cell_type": "code",
   "source": [
    "tensor_a / 2"
   ],
   "metadata": {
    "colab": {
     "base_uri": "https://localhost:8080/"
    },
    "id": "ygSA4dXfIn4s",
    "executionInfo": {
     "status": "ok",
     "timestamp": 1644858695236,
     "user_tz": -60,
     "elapsed": 30,
     "user": {
      "displayName": "Ismaril",
      "photoUrl": "https://lh3.googleusercontent.com/a/default-user=s64",
      "userId": "09094833649721836077"
     }
    },
    "outputId": "8e89526a-89f8-45b2-c97f-419fa47e5ea2"
   },
   "execution_count": null,
   "outputs": [
    {
     "output_type": "execute_result",
     "data": {
      "text/plain": [
       "<tf.Tensor: shape=(2, 2), dtype=float64, numpy=\n",
       "array([[1., 2.],\n",
       "       [3., 4.]])>"
      ]
     },
     "metadata": {},
     "execution_count": 102
    }
   ]
  },
  {
   "cell_type": "code",
   "source": [
    "# original tensor is unchanged\n",
    "tensor_a"
   ],
   "metadata": {
    "colab": {
     "base_uri": "https://localhost:8080/"
    },
    "id": "47g7jnCQJPeN",
    "executionInfo": {
     "status": "ok",
     "timestamp": 1644858695236,
     "user_tz": -60,
     "elapsed": 29,
     "user": {
      "displayName": "Ismaril",
      "photoUrl": "https://lh3.googleusercontent.com/a/default-user=s64",
      "userId": "09094833649721836077"
     }
    },
    "outputId": "8f31ad72-e843-4f80-f137-a81a7f62c8e0"
   },
   "execution_count": null,
   "outputs": [
    {
     "output_type": "execute_result",
     "data": {
      "text/plain": [
       "<tf.Tensor: shape=(2, 2), dtype=float64, numpy=\n",
       "array([[2., 4.],\n",
       "       [6., 8.]])>"
      ]
     },
     "metadata": {},
     "execution_count": 103
    }
   ]
  },
  {
   "cell_type": "code",
   "source": [
    "# we can use tf functions to change the tensor values, example\n",
    "\n",
    "tf.multiply(tensor_a, 10)"
   ],
   "metadata": {
    "colab": {
     "base_uri": "https://localhost:8080/"
    },
    "id": "rf8MkraDJkOu",
    "executionInfo": {
     "status": "ok",
     "timestamp": 1644858695236,
     "user_tz": -60,
     "elapsed": 28,
     "user": {
      "displayName": "Ismaril",
      "photoUrl": "https://lh3.googleusercontent.com/a/default-user=s64",
      "userId": "09094833649721836077"
     }
    },
    "outputId": "2eda70c6-53ce-4ea9-be9d-38739fb6b645"
   },
   "execution_count": null,
   "outputs": [
    {
     "output_type": "execute_result",
     "data": {
      "text/plain": [
       "<tf.Tensor: shape=(2, 2), dtype=float64, numpy=\n",
       "array([[20., 40.],\n",
       "       [60., 80.]])>"
      ]
     },
     "metadata": {},
     "execution_count": 104
    }
   ]
  },
  {
   "cell_type": "markdown",
   "source": [
    "**matrix multiplication (aka \"dot product\")**\n",
    "* one of the most common ml operations\n",
    "\n",
    "Rules:\n",
    "1. the inner dimensions must match = tensor1-shape(2, 3) tesnor2-shape(3, 1)\n",
    "  the inner dims match here (nr 3), it will work\n",
    "2. the output shape has the same dimension as the outer dims = (2, 1)"
   ],
   "metadata": {
    "id": "OmnM1WusMGjn"
   }
  },
  {
   "cell_type": "code",
   "source": [
    "# use tf.linalg.matmul() -- the middle part can be usually skipped in tf (linalg), tested it and sometimes the middle part has to be included\n",
    "tf.matmul(tensor_a, [[2, 2], [4, 4]])"
   ],
   "metadata": {
    "colab": {
     "base_uri": "https://localhost:8080/"
    },
    "id": "9MMJ6g_2MJIH",
    "executionInfo": {
     "status": "ok",
     "timestamp": 1644858695237,
     "user_tz": -60,
     "elapsed": 28,
     "user": {
      "displayName": "Ismaril",
      "photoUrl": "https://lh3.googleusercontent.com/a/default-user=s64",
      "userId": "09094833649721836077"
     }
    },
    "outputId": "1307fe04-6d87-4728-9e3a-b701ebd7e7f6"
   },
   "execution_count": null,
   "outputs": [
    {
     "output_type": "execute_result",
     "data": {
      "text/plain": [
       "<tf.Tensor: shape=(2, 2), dtype=float64, numpy=\n",
       "array([[20., 20.],\n",
       "       [44., 44.]])>"
      ]
     },
     "metadata": {},
     "execution_count": 105
    }
   ]
  },
  {
   "cell_type": "code",
   "source": [
    "# Python operator for matrix multiplication\n",
    "tensor_a @ [[2, 2], [4, 4]]"
   ],
   "metadata": {
    "colab": {
     "base_uri": "https://localhost:8080/"
    },
    "id": "nx_dkqV7R-Qp",
    "executionInfo": {
     "status": "ok",
     "timestamp": 1644858695237,
     "user_tz": -60,
     "elapsed": 27,
     "user": {
      "displayName": "Ismaril",
      "photoUrl": "https://lh3.googleusercontent.com/a/default-user=s64",
      "userId": "09094833649721836077"
     }
    },
    "outputId": "35570469-59f6-4d50-a715-e5f7effe4ee5"
   },
   "execution_count": null,
   "outputs": [
    {
     "output_type": "execute_result",
     "data": {
      "text/plain": [
       "<tf.Tensor: shape=(2, 2), dtype=float64, numpy=\n",
       "array([[20., 20.],\n",
       "       [44., 44.]])>"
      ]
     },
     "metadata": {},
     "execution_count": 106
    }
   ]
  },
  {
   "cell_type": "code",
   "source": [
    "# another operator for matrix multiplication with specified axis, which then changes the output shape\n",
    "tf.tensordot(tensor_a, tensor_a, 1)"
   ],
   "metadata": {
    "id": "n9GfW0qqicU5",
    "colab": {
     "base_uri": "https://localhost:8080/"
    },
    "executionInfo": {
     "status": "ok",
     "timestamp": 1644858695237,
     "user_tz": -60,
     "elapsed": 26,
     "user": {
      "displayName": "Ismaril",
      "photoUrl": "https://lh3.googleusercontent.com/a/default-user=s64",
      "userId": "09094833649721836077"
     }
    },
    "outputId": "1a57d2d6-6a20-486b-f8c0-9867079d1a51"
   },
   "execution_count": null,
   "outputs": [
    {
     "output_type": "execute_result",
     "data": {
      "text/plain": [
       "<tf.Tensor: shape=(2, 2), dtype=float64, numpy=\n",
       "array([[28., 40.],\n",
       "       [60., 88.]])>"
      ]
     },
     "metadata": {},
     "execution_count": 107
    }
   ]
  },
  {
   "cell_type": "code",
   "source": [
    "# difference between matrix multiplication and basic multiplication here:\n",
    "# \"multiply\" multiplies only across the same dimensions or items lets say \n",
    "tf.multiply(tensor_a, [[2, 2], [4, 4]])"
   ],
   "metadata": {
    "colab": {
     "base_uri": "https://localhost:8080/"
    },
    "id": "XAWdOvXyP9b2",
    "executionInfo": {
     "status": "ok",
     "timestamp": 1644858695237,
     "user_tz": -60,
     "elapsed": 24,
     "user": {
      "displayName": "Ismaril",
      "photoUrl": "https://lh3.googleusercontent.com/a/default-user=s64",
      "userId": "09094833649721836077"
     }
    },
    "outputId": "a5210ae4-7ccb-466d-ed09-e4bbb170e56d"
   },
   "execution_count": null,
   "outputs": [
    {
     "output_type": "execute_result",
     "data": {
      "text/plain": [
       "<tf.Tensor: shape=(2, 2), dtype=float64, numpy=\n",
       "array([[ 4.,  8.],\n",
       "       [24., 32.]])>"
      ]
     },
     "metadata": {},
     "execution_count": 108
    }
   ]
  },
  {
   "cell_type": "code",
   "source": [
    "# try to multiply matrices with the same shape, but it will not work. Therefore later have to reshape\n",
    "tensor_b = tf.ones(shape=(3,2))\n",
    "tensor_c = tf.ones(shape=(3, 2))\n",
    "print(tensor_b)\n",
    "# print(tf.matmul(tensor_b,tensor_c)) # this will not work because tensors have not the same shape\n",
    "\n",
    "tensor_d = tf.reshape(tensor_c, (2, 3))\n",
    "print(tensor_d)\n",
    "print(tf.matmul(tensor_b, tensor_d))\n"
   ],
   "metadata": {
    "colab": {
     "base_uri": "https://localhost:8080/"
    },
    "id": "WCq3sxoiaXYd",
    "executionInfo": {
     "status": "ok",
     "timestamp": 1644858695238,
     "user_tz": -60,
     "elapsed": 24,
     "user": {
      "displayName": "Ismaril",
      "photoUrl": "https://lh3.googleusercontent.com/a/default-user=s64",
      "userId": "09094833649721836077"
     }
    },
    "outputId": "daf640c3-ea0f-4d16-822e-bad0a97c1924"
   },
   "execution_count": null,
   "outputs": [
    {
     "output_type": "stream",
     "name": "stdout",
     "text": [
      "tf.Tensor(\n",
      "[[1. 1.]\n",
      " [1. 1.]\n",
      " [1. 1.]], shape=(3, 2), dtype=float32)\n",
      "tf.Tensor(\n",
      "[[1. 1. 1.]\n",
      " [1. 1. 1.]], shape=(2, 3), dtype=float32)\n",
      "tf.Tensor(\n",
      "[[2. 2. 2.]\n",
      " [2. 2. 2.]\n",
      " [2. 2. 2.]], shape=(3, 3), dtype=float32)\n"
     ]
    }
   ]
  },
  {
   "cell_type": "code",
   "source": [
    "# try to reshape the first matrix instead of the second one\n",
    "tf.matmul(tf.reshape(tensor_b,(2, 3)), tensor_c)\n",
    "\n",
    "# the result is different compared to when the later matrix was reshaped. It makes sense, but nevertheless keep it in mind."
   ],
   "metadata": {
    "colab": {
     "base_uri": "https://localhost:8080/"
    },
    "id": "d3Jso3kOcvsm",
    "executionInfo": {
     "status": "ok",
     "timestamp": 1644858695238,
     "user_tz": -60,
     "elapsed": 23,
     "user": {
      "displayName": "Ismaril",
      "photoUrl": "https://lh3.googleusercontent.com/a/default-user=s64",
      "userId": "09094833649721836077"
     }
    },
    "outputId": "e21ee021-cc1d-4ae2-e471-bb0f31bc2e35"
   },
   "execution_count": null,
   "outputs": [
    {
     "output_type": "execute_result",
     "data": {
      "text/plain": [
       "<tf.Tensor: shape=(2, 2), dtype=float32, numpy=\n",
       "array([[3., 3.],\n",
       "       [3., 3.]], dtype=float32)>"
      ]
     },
     "metadata": {},
     "execution_count": 110
    }
   ]
  },
  {
   "cell_type": "code",
   "source": [
    "# difference between tf.transpose and tf.reshape\n",
    "tensor_e = tf.constant([[1, 2],\n",
    "                        [3, 4],\n",
    "                        [5, 6]])\n",
    "print(\n",
    "    \"original:\", tensor_e,\n",
    "    \"transpose:\", tf.transpose(tensor_e),\n",
    "    \"reshape:\", tf.reshape(tensor_e, (2, 3)),\n",
    "    sep=\"\\n\"\n",
    "    )"
   ],
   "metadata": {
    "colab": {
     "base_uri": "https://localhost:8080/"
    },
    "id": "ASSkS9Z8eHBw",
    "executionInfo": {
     "status": "ok",
     "timestamp": 1644858695238,
     "user_tz": -60,
     "elapsed": 22,
     "user": {
      "displayName": "Ismaril",
      "photoUrl": "https://lh3.googleusercontent.com/a/default-user=s64",
      "userId": "09094833649721836077"
     }
    },
    "outputId": "86150d5d-cd15-40f0-877f-09bc7d060deb"
   },
   "execution_count": null,
   "outputs": [
    {
     "output_type": "stream",
     "name": "stdout",
     "text": [
      "original:\n",
      "tf.Tensor(\n",
      "[[1 2]\n",
      " [3 4]\n",
      " [5 6]], shape=(3, 2), dtype=int32)\n",
      "transpose:\n",
      "tf.Tensor(\n",
      "[[1 3 5]\n",
      " [2 4 6]], shape=(2, 3), dtype=int32)\n",
      "reshape:\n",
      "tf.Tensor(\n",
      "[[1 2 3]\n",
      " [4 5 6]], shape=(2, 3), dtype=int32)\n"
     ]
    }
   ]
  },
  {
   "cell_type": "code",
   "source": [
    "# stack can put together arrays and flip them based on chosen axis (fyi AXIS = DIMENSION)\n",
    "# TO DO: create tensor with different dimensions in some other file and check how it changes based on axis\n",
    "\n",
    "x = tf.constant([[1, 2], [3, 4]])\n",
    "y = tf.constant([[5, 6], [7, 8]])\n",
    "z = tf.constant([[9, 10], [11, 12]])\n",
    "\n",
    "axis_0 = tf.stack([x, y, z], axis=0)\n",
    "axis_1 = tf.stack([x, y, z], axis=1)\n",
    "axis_n1 = tf.stack([x, y, z], axis=-1)\n",
    "axis_2 = tf.stack([x, y, z], axis=2)\n",
    "axis_n2 = tf.stack([x, y, z], axis=-2)\n",
    "\n",
    "print(\"Number of dimensions of x (original):\", x.ndim)\n",
    "print(\"Number of dimensions of x after stack of [x, y]:\", tf.stack([x, y], axis=0).ndim)\n",
    "print(\"Number of dimensions of x after stack of [x, y, z]:\", tf.stack([x, y, z], axis=0).ndim)\n",
    "print(\"axis 0\", axis_0, sep=\"\\n\", end=\"\\n\"*2)\n",
    "print(\"axis 1\", axis_1, sep=\"\\n\", end=\"\\n\"*2)\n",
    "print(\"axis -1\", axis_n1, sep=\"\\n\", end=\"\\n\"*2)\n",
    "print(\"axis 2\", axis_2, sep=\"\\n\", end=\"\\n\"*2)\n",
    "print(\"axis -2\", axis_n2, sep=\"\\n\", end=\"\\n\"*2)\n",
    "\n",
    "print(\"axis 1 == axis -2\", axis_1 == axis_n2, sep=\"\\n\", end=\"\\n\"*2)\n",
    "print(\"axis -1 == axis 2\", axis_n1 == axis_2, sep=\"\\n\", end=\"\\n\"*2)"
   ],
   "metadata": {
    "id": "Ge4Q8yLtrAam"
   },
   "execution_count": null,
   "outputs": []
  },
  {
   "cell_type": "markdown",
   "source": [
    "# Change a datatype of a tensor\n",
    "* default is 32bit precision"
   ],
   "metadata": {
    "id": "FdN2vYApyhJL"
   }
  },
  {
   "cell_type": "code",
   "source": [
    "tensor_f = tf.constant([-2.5, -3.4])\n",
    "tensor_f.dtype\n"
   ],
   "metadata": {
    "colab": {
     "base_uri": "https://localhost:8080/"
    },
    "id": "CwObbt3Myl6D",
    "executionInfo": {
     "status": "ok",
     "timestamp": 1644858695238,
     "user_tz": -60,
     "elapsed": 21,
     "user": {
      "displayName": "Ismaril",
      "photoUrl": "https://lh3.googleusercontent.com/a/default-user=s64",
      "userId": "09094833649721836077"
     }
    },
    "outputId": "7d607175-f18e-4934-c8e5-3d2189705c6a"
   },
   "execution_count": null,
   "outputs": [
    {
     "output_type": "execute_result",
     "data": {
      "text/plain": [
       "tf.float32"
      ]
     },
     "metadata": {},
     "execution_count": 112
    }
   ]
  },
  {
   "cell_type": "code",
   "source": [
    "tensor_g = tf.constant([3, 4])\n",
    "tensor_g.dtype"
   ],
   "metadata": {
    "colab": {
     "base_uri": "https://localhost:8080/"
    },
    "id": "0YCiG3apzFsz",
    "executionInfo": {
     "status": "ok",
     "timestamp": 1644858695238,
     "user_tz": -60,
     "elapsed": 20,
     "user": {
      "displayName": "Ismaril",
      "photoUrl": "https://lh3.googleusercontent.com/a/default-user=s64",
      "userId": "09094833649721836077"
     }
    },
    "outputId": "35e1ba4d-30e2-4e74-cdd5-7e7fdb86fd8d"
   },
   "execution_count": null,
   "outputs": [
    {
     "output_type": "execute_result",
     "data": {
      "text/plain": [
       "tf.int32"
      ]
     },
     "metadata": {},
     "execution_count": 113
    }
   ]
  },
  {
   "cell_type": "code",
   "source": [
    "# change the dtype aka datatype and check the precision\n",
    "tensor_g_16bit = tf.cast(tensor_f, dtype=tf.float16)\n",
    "tensor_g_16bit.dtype, tensor_g_16bit[1].numpy()"
   ],
   "metadata": {
    "colab": {
     "base_uri": "https://localhost:8080/"
    },
    "id": "cAf84dFa0Phd",
    "executionInfo": {
     "status": "ok",
     "timestamp": 1644858695239,
     "user_tz": -60,
     "elapsed": 19,
     "user": {
      "displayName": "Ismaril",
      "photoUrl": "https://lh3.googleusercontent.com/a/default-user=s64",
      "userId": "09094833649721836077"
     }
    },
    "outputId": "603148d8-0813-4d6b-88de-5bcbfee09249"
   },
   "execution_count": null,
   "outputs": [
    {
     "output_type": "execute_result",
     "data": {
      "text/plain": [
       "(tf.float16, -3.4)"
      ]
     },
     "metadata": {},
     "execution_count": 114
    }
   ]
  },
  {
   "cell_type": "code",
   "source": [
    "tensor_g_64bit = tf.cast(tensor_f, dtype=tf.float64)\n",
    "tensor_g_64bit.dtype, tensor_g_64bit[1].numpy()"
   ],
   "metadata": {
    "colab": {
     "base_uri": "https://localhost:8080/"
    },
    "id": "yMMa_ck102L0",
    "executionInfo": {
     "status": "ok",
     "timestamp": 1644858695239,
     "user_tz": -60,
     "elapsed": 18,
     "user": {
      "displayName": "Ismaril",
      "photoUrl": "https://lh3.googleusercontent.com/a/default-user=s64",
      "userId": "09094833649721836077"
     }
    },
    "outputId": "feccf882-d39b-4738-9649-af7bd6b31ffd"
   },
   "execution_count": null,
   "outputs": [
    {
     "output_type": "execute_result",
     "data": {
      "text/plain": [
       "(tf.float64, -3.4000000953674316)"
      ]
     },
     "metadata": {},
     "execution_count": 115
    }
   ]
  },
  {
   "cell_type": "code",
   "source": [
    "tensor_g_128bit = np.array([-2.5, -3.4],dtype=np.float128)\n",
    "tensor_g_128bit.dtype, tensor_g_128bit[1]"
   ],
   "metadata": {
    "colab": {
     "base_uri": "https://localhost:8080/"
    },
    "id": "5ux1S_fn1dyw",
    "executionInfo": {
     "status": "ok",
     "timestamp": 1644858695239,
     "user_tz": -60,
     "elapsed": 17,
     "user": {
      "displayName": "Ismaril",
      "photoUrl": "https://lh3.googleusercontent.com/a/default-user=s64",
      "userId": "09094833649721836077"
     }
    },
    "outputId": "b0754544-0a35-47f8-f9f6-b4e84e34e9e7"
   },
   "execution_count": null,
   "outputs": [
    {
     "output_type": "execute_result",
     "data": {
      "text/plain": [
       "(dtype('float128'), -3.3999999999999999112)"
      ]
     },
     "metadata": {},
     "execution_count": 116
    }
   ]
  },
  {
   "cell_type": "markdown",
   "source": [
    "# Aggregating tensors\n",
    "aggregate means to compress bigger tensors to smaller"
   ],
   "metadata": {
    "id": "k-xK4d2F3q_Q"
   }
  },
  {
   "cell_type": "code",
   "source": [
    "# get the absolute values - tf.abs()\n",
    "print(tf.constant([-1, -1]))\n",
    "print(tf.abs(tf.constant([-1, -1])))\n",
    "  "
   ],
   "metadata": {
    "colab": {
     "base_uri": "https://localhost:8080/"
    },
    "id": "3uf1M-WP3uq4",
    "executionInfo": {
     "status": "ok",
     "timestamp": 1644858695239,
     "user_tz": -60,
     "elapsed": 16,
     "user": {
      "displayName": "Ismaril",
      "photoUrl": "https://lh3.googleusercontent.com/a/default-user=s64",
      "userId": "09094833649721836077"
     }
    },
    "outputId": "4372c7e9-6d85-45cf-92ae-97ad895e423b"
   },
   "execution_count": null,
   "outputs": [
    {
     "output_type": "stream",
     "name": "stdout",
     "text": [
      "tf.Tensor([-1 -1], shape=(2,), dtype=int32)\n",
      "tf.Tensor([1 1], shape=(2,), dtype=int32)\n"
     ]
    }
   ]
  },
  {
   "cell_type": "markdown",
   "source": [
    "Next examples:\n",
    "* get the minimum of a tensor\n",
    "* get the maximum of a tensor\n",
    "* get the mean ...\n",
    "* get the sum ..."
   ],
   "metadata": {
    "id": "4VG7_A3Z8M9e"
   }
  },
  {
   "cell_type": "code",
   "source": [
    "tensor_h = tf.constant(np.random.randint(0, 100, size=50), shape=(2, 5, 5), dtype=tf.float64)\n",
    "print(tensor_h, end=\"\\n\"*2)\n"
   ],
   "metadata": {
    "colab": {
     "base_uri": "https://localhost:8080/"
    },
    "id": "jTrV0XS-8bLf",
    "executionInfo": {
     "status": "ok",
     "timestamp": 1644858695240,
     "user_tz": -60,
     "elapsed": 16,
     "user": {
      "displayName": "Ismaril",
      "photoUrl": "https://lh3.googleusercontent.com/a/default-user=s64",
      "userId": "09094833649721836077"
     }
    },
    "outputId": "027ab78f-dfca-4831-b78e-873ace7ef73a"
   },
   "execution_count": null,
   "outputs": [
    {
     "output_type": "stream",
     "name": "stdout",
     "text": [
      "tf.Tensor(\n",
      "[[[98. 60. 26. 17. 80.]\n",
      "  [12. 87. 47. 90. 99.]\n",
      "  [99. 66. 68. 31. 24.]\n",
      "  [85. 44.  7. 35. 88.]\n",
      "  [ 2. 60. 75. 47. 91.]]\n",
      "\n",
      " [[16. 80. 10. 84. 64.]\n",
      "  [34. 61. 81. 77. 70.]\n",
      "  [24. 31. 62. 82. 50.]\n",
      "  [79. 78. 30. 41. 11.]\n",
      "  [60. 69. 73. 51. 69.]]], shape=(2, 5, 5), dtype=float64)\n"
     ]
    }
   ]
  },
  {
   "cell_type": "code",
   "source": [
    "print(\n",
    "    \"max:\", tf.reduce_max(tensor_h).numpy(),\n",
    "    \"min:\", tf.reduce_min(tensor_h).numpy(),\n",
    "    \"mean:\", tf.reduce_mean(tensor_h).numpy(),\n",
    "    \"sum:\", tf.reduce_sum(tensor_h).numpy(),\n",
    "    sep=\"\\n\"\n",
    "    )\n",
    "\n",
    "# np.min() is the equivalent to tf.reduce_min()\n",
    "# 3:12:13"
   ],
   "metadata": {
    "colab": {
     "base_uri": "https://localhost:8080/"
    },
    "id": "rP6ymuI-FE6D",
    "executionInfo": {
     "status": "ok",
     "timestamp": 1644858695240,
     "user_tz": -60,
     "elapsed": 15,
     "user": {
      "displayName": "Ismaril",
      "photoUrl": "https://lh3.googleusercontent.com/a/default-user=s64",
      "userId": "09094833649721836077"
     }
    },
    "outputId": "35f806ca-562f-4828-bb9c-db3b11a1a335"
   },
   "execution_count": null,
   "outputs": [
    {
     "output_type": "stream",
     "name": "stdout",
     "text": [
      "max:\n",
      "99.0\n",
      "min:\n",
      "2.0\n",
      "mean:\n",
      "56.5\n",
      "sum:\n",
      "2825.0\n"
     ]
    }
   ]
  },
  {
   "cell_type": "code",
   "source": [
    "# variance and standart deviation\n",
    "print(\n",
    "    \"variance:\", tf.math.reduce_variance(tensor_h).numpy(),\n",
    "    \"standard deviation:\", tf.math.reduce_std(tensor_h).numpy()\n",
    ")"
   ],
   "metadata": {
    "colab": {
     "base_uri": "https://localhost:8080/"
    },
    "id": "4_9A3ha5FJ1i",
    "executionInfo": {
     "status": "ok",
     "timestamp": 1644858695240,
     "user_tz": -60,
     "elapsed": 14,
     "user": {
      "displayName": "Ismaril",
      "photoUrl": "https://lh3.googleusercontent.com/a/default-user=s64",
      "userId": "09094833649721836077"
     }
    },
    "outputId": "cf50fd00-e45d-43f8-c74d-66720e683b0f"
   },
   "execution_count": null,
   "outputs": [
    {
     "output_type": "stream",
     "name": "stdout",
     "text": [
      "variance: 757.09 standard deviation: 27.51526848860465\n"
     ]
    }
   ]
  },
  {
   "cell_type": "markdown",
   "source": [
    "# Find positional maximum and minimum\n",
    "* explained in vid 3:26:00 +-\n"
   ],
   "metadata": {
    "id": "JljlCN2HJozy"
   }
  },
  {
   "cell_type": "code",
   "source": [
    "# crate a tensor\n",
    "tf.random.set_seed(100) # random numbers here will be the same for each other iteration\n",
    "tensor_i = tf.random.uniform([50])\n",
    "tensor_i"
   ],
   "metadata": {
    "colab": {
     "base_uri": "https://localhost:8080/"
    },
    "id": "H4-c8nAqJsKZ",
    "executionInfo": {
     "status": "ok",
     "timestamp": 1644858695240,
     "user_tz": -60,
     "elapsed": 13,
     "user": {
      "displayName": "Ismaril",
      "photoUrl": "https://lh3.googleusercontent.com/a/default-user=s64",
      "userId": "09094833649721836077"
     }
    },
    "outputId": "4f511c20-834b-4476-e22c-15d9ee53821a"
   },
   "execution_count": null,
   "outputs": [
    {
     "output_type": "execute_result",
     "data": {
      "text/plain": [
       "<tf.Tensor: shape=(50,), dtype=float32, numpy=\n",
       "array([0.24900055, 0.48465526, 0.39165282, 0.8218267 , 0.23590696,\n",
       "       0.39270067, 0.96157587, 0.7378106 , 0.3086977 , 0.7820475 ,\n",
       "       0.36411405, 0.43852115, 0.39143312, 0.4100443 , 0.15650964,\n",
       "       0.16554844, 0.11952579, 0.99199855, 0.07539165, 0.69944966,\n",
       "       0.3041743 , 0.6850517 , 0.95208406, 0.65089023, 0.48965216,\n",
       "       0.64302886, 0.50323474, 0.37081254, 0.50158453, 0.65716815,\n",
       "       0.42388284, 0.6438379 , 0.7099544 , 0.8554728 , 0.10746086,\n",
       "       0.1302582 , 0.74147284, 0.7842232 , 0.16333139, 0.18595266,\n",
       "       0.47453701, 0.6588017 , 0.9707295 , 0.62733424, 0.40020967,\n",
       "       0.9673735 , 0.13458717, 0.6554717 , 0.4056772 , 0.18046606],\n",
       "      dtype=float32)>"
      ]
     },
     "metadata": {},
     "execution_count": 121
    }
   ]
  },
  {
   "cell_type": "code",
   "source": [
    "# find positional maximum - returns an index of a biggest number across axis \n",
    "tf.argmax(tensor_i).numpy(), np.argmax(tensor_i), tensor_i[np.argmax(tensor_i)].numpy()"
   ],
   "metadata": {
    "colab": {
     "base_uri": "https://localhost:8080/"
    },
    "id": "bnRKCPhqODOV",
    "executionInfo": {
     "status": "ok",
     "timestamp": 1644858695240,
     "user_tz": -60,
     "elapsed": 12,
     "user": {
      "displayName": "Ismaril",
      "photoUrl": "https://lh3.googleusercontent.com/a/default-user=s64",
      "userId": "09094833649721836077"
     }
    },
    "outputId": "a2b896c1-62fd-4e8a-aeff-6f95080ff642"
   },
   "execution_count": null,
   "outputs": [
    {
     "output_type": "execute_result",
     "data": {
      "text/plain": [
       "(17, 17, 0.99199855)"
      ]
     },
     "metadata": {},
     "execution_count": 122
    }
   ]
  },
  {
   "cell_type": "code",
   "source": [
    "# find poistional minimum\n",
    "tf.argmin(tensor_i).numpy(), tensor_i[np.argmin(tensor_i)].numpy()"
   ],
   "metadata": {
    "colab": {
     "base_uri": "https://localhost:8080/"
    },
    "id": "dFbF0XGvPFjY",
    "executionInfo": {
     "status": "ok",
     "timestamp": 1644858695241,
     "user_tz": -60,
     "elapsed": 11,
     "user": {
      "displayName": "Ismaril",
      "photoUrl": "https://lh3.googleusercontent.com/a/default-user=s64",
      "userId": "09094833649721836077"
     }
    },
    "outputId": "2b90e289-2b39-4b15-ea41-1115bf25c146"
   },
   "execution_count": null,
   "outputs": [
    {
     "output_type": "execute_result",
     "data": {
      "text/plain": [
       "(18, 0.07539165)"
      ]
     },
     "metadata": {},
     "execution_count": 123
    }
   ]
  },
  {
   "cell_type": "code",
   "source": [
    "# sort the indexes based on their values (this was only tested for fun)\n",
    "argsort_ = tf.argsort(tensor_i, direction=\"DESCENDING\")\n",
    "print(argsort_)\n",
    "print([tensor_i[x].numpy() for x in argsort_])\n"
   ],
   "metadata": {
    "colab": {
     "base_uri": "https://localhost:8080/"
    },
    "id": "4-kT2JuuP5qV",
    "executionInfo": {
     "status": "ok",
     "timestamp": 1644858695691,
     "user_tz": -60,
     "elapsed": 15,
     "user": {
      "displayName": "Ismaril",
      "photoUrl": "https://lh3.googleusercontent.com/a/default-user=s64",
      "userId": "09094833649721836077"
     }
    },
    "outputId": "8924602f-c297-4b1d-c8db-02146caf2e5f"
   },
   "execution_count": null,
   "outputs": [
    {
     "output_type": "stream",
     "name": "stdout",
     "text": [
      "tf.Tensor(\n",
      "[17 42 45  6 22 33  3 37  9 36  7 32 19 21 41 29 47 23 31 25 43 26 28 24\n",
      "  1 40 11 30 13 48 44  5  2 12 27 10  8 20  0  4 39 49 15 38 14 46 35 16\n",
      " 34 18], shape=(50,), dtype=int32)\n",
      "[0.99199855, 0.9707295, 0.9673735, 0.96157587, 0.95208406, 0.8554728, 0.8218267, 0.7842232, 0.7820475, 0.74147284, 0.7378106, 0.7099544, 0.69944966, 0.6850517, 0.6588017, 0.65716815, 0.6554717, 0.65089023, 0.6438379, 0.64302886, 0.62733424, 0.50323474, 0.50158453, 0.48965216, 0.48465526, 0.47453701, 0.43852115, 0.42388284, 0.4100443, 0.4056772, 0.40020967, 0.39270067, 0.39165282, 0.39143312, 0.37081254, 0.36411405, 0.3086977, 0.3041743, 0.24900055, 0.23590696, 0.18595266, 0.18046606, 0.16554844, 0.16333139, 0.15650964, 0.13458717, 0.1302582, 0.11952579, 0.10746086, 0.07539165]\n"
     ]
    }
   ]
  },
  {
   "cell_type": "markdown",
   "source": [
    "# Squeezing a tensor (removing all single dimensions)"
   ],
   "metadata": {
    "id": "UJMS_45WRUPw"
   }
  },
  {
   "cell_type": "code",
   "source": [
    "# create a tensor\n",
    "tensor_j = tf.random.uniform([1, 1, 4, 20])\n",
    "print(tensor_j , f\"Number of dims: {tensor_j.ndim}\", sep=\"\\n\"*2)\n",
    "      \n"
   ],
   "metadata": {
    "colab": {
     "base_uri": "https://localhost:8080/"
    },
    "id": "JvdtaKvQRes8",
    "executionInfo": {
     "status": "ok",
     "timestamp": 1644858695692,
     "user_tz": -60,
     "elapsed": 15,
     "user": {
      "displayName": "Ismaril",
      "photoUrl": "https://lh3.googleusercontent.com/a/default-user=s64",
      "userId": "09094833649721836077"
     }
    },
    "outputId": "5df38506-4bb3-407b-a3b1-2023463d2fe6"
   },
   "execution_count": null,
   "outputs": [
    {
     "output_type": "stream",
     "name": "stdout",
     "text": [
      "tf.Tensor(\n",
      "[[[[0.76732683 0.17561221 0.7366072  0.7058151  0.42422843 0.06578231\n",
      "    0.4311316  0.76413023 0.73609316 0.90818596 0.7354207  0.01241052\n",
      "    0.15185893 0.14998662 0.69694173 0.8881475  0.10579085 0.08278334\n",
      "    0.05811858 0.05356407]\n",
      "   [0.46689498 0.7063756  0.03284144 0.44032717 0.40474534 0.08734787\n",
      "    0.9362178  0.09859371 0.34985936 0.8211818  0.22784019 0.79620624\n",
      "    0.6228684  0.45856822 0.09262025 0.58145595 0.54290843 0.5207161\n",
      "    0.10830402 0.4017836 ]\n",
      "   [0.035344   0.94818926 0.13332808 0.4160583  0.79990864 0.35621738\n",
      "    0.8081254  0.18336403 0.7843964  0.5925404  0.16908884 0.4484626\n",
      "    0.2532071  0.37594247 0.2506069  0.06518686 0.06556642 0.1422602\n",
      "    0.26682842 0.34116328]\n",
      "   [0.30482972 0.03387415 0.81038296 0.24236    0.09707737 0.7006737\n",
      "    0.73452437 0.8195565  0.04001427 0.5229819  0.4626323  0.3398893\n",
      "    0.6346036  0.28389263 0.3848456  0.9379796  0.32063222 0.29029357\n",
      "    0.48852468 0.0631355 ]]]], shape=(1, 1, 4, 20), dtype=float32)\n",
      "\n",
      "Number of dims: 4\n"
     ]
    }
   ]
  },
  {
   "cell_type": "code",
   "source": [
    "# remove the single dimensions\n",
    "\n",
    "print(tf.squeeze(tensor_j) , f\"Number of dims: {tf.squeeze(tensor_j).ndim}\", sep=\"\\n\"*2)"
   ],
   "metadata": {
    "colab": {
     "base_uri": "https://localhost:8080/"
    },
    "id": "aWeah0mhSD3x",
    "executionInfo": {
     "status": "ok",
     "timestamp": 1644858695692,
     "user_tz": -60,
     "elapsed": 13,
     "user": {
      "displayName": "Ismaril",
      "photoUrl": "https://lh3.googleusercontent.com/a/default-user=s64",
      "userId": "09094833649721836077"
     }
    },
    "outputId": "397578dd-4edb-4277-c1df-8ce2bcb390df"
   },
   "execution_count": null,
   "outputs": [
    {
     "output_type": "stream",
     "name": "stdout",
     "text": [
      "tf.Tensor(\n",
      "[[0.76732683 0.17561221 0.7366072  0.7058151  0.42422843 0.06578231\n",
      "  0.4311316  0.76413023 0.73609316 0.90818596 0.7354207  0.01241052\n",
      "  0.15185893 0.14998662 0.69694173 0.8881475  0.10579085 0.08278334\n",
      "  0.05811858 0.05356407]\n",
      " [0.46689498 0.7063756  0.03284144 0.44032717 0.40474534 0.08734787\n",
      "  0.9362178  0.09859371 0.34985936 0.8211818  0.22784019 0.79620624\n",
      "  0.6228684  0.45856822 0.09262025 0.58145595 0.54290843 0.5207161\n",
      "  0.10830402 0.4017836 ]\n",
      " [0.035344   0.94818926 0.13332808 0.4160583  0.79990864 0.35621738\n",
      "  0.8081254  0.18336403 0.7843964  0.5925404  0.16908884 0.4484626\n",
      "  0.2532071  0.37594247 0.2506069  0.06518686 0.06556642 0.1422602\n",
      "  0.26682842 0.34116328]\n",
      " [0.30482972 0.03387415 0.81038296 0.24236    0.09707737 0.7006737\n",
      "  0.73452437 0.8195565  0.04001427 0.5229819  0.4626323  0.3398893\n",
      "  0.6346036  0.28389263 0.3848456  0.9379796  0.32063222 0.29029357\n",
      "  0.48852468 0.0631355 ]], shape=(4, 20), dtype=float32)\n",
      "\n",
      "Number of dims: 2\n"
     ]
    }
   ]
  },
  {
   "cell_type": "markdown",
   "source": [
    "# One-hot enocoding tensors"
   ],
   "metadata": {
    "id": "aiFVmob1UKOJ"
   }
  },
  {
   "cell_type": "code",
   "source": [
    " # create a list of indices\n",
    " some_list = [0, 1, 2, 3] # could be red, green, blue, purple colors\n",
    "\n",
    " # one-hot enocde the list of indices\n",
    " tf.one_hot(some_list, 4).numpy()"
   ],
   "metadata": {
    "colab": {
     "base_uri": "https://localhost:8080/"
    },
    "id": "XsXoNpe2UMMU",
    "executionInfo": {
     "status": "ok",
     "timestamp": 1644858695692,
     "user_tz": -60,
     "elapsed": 12,
     "user": {
      "displayName": "Ismaril",
      "photoUrl": "https://lh3.googleusercontent.com/a/default-user=s64",
      "userId": "09094833649721836077"
     }
    },
    "outputId": "01fc9655-ed03-43b6-ad97-93e733a96753"
   },
   "execution_count": null,
   "outputs": [
    {
     "output_type": "execute_result",
     "data": {
      "text/plain": [
       "array([[1., 0., 0., 0.],\n",
       "       [0., 1., 0., 0.],\n",
       "       [0., 0., 1., 0.],\n",
       "       [0., 0., 0., 1.]], dtype=float32)"
      ]
     },
     "metadata": {},
     "execution_count": 127
    }
   ]
  },
  {
   "cell_type": "code",
   "source": [
    "# specifiy custom values for one-hot encoding (rarely used)\n",
    "tf.one_hot(some_list, depth=4, on_value=\"True\", off_value=\"X\")"
   ],
   "metadata": {
    "colab": {
     "base_uri": "https://localhost:8080/"
    },
    "id": "a1ot-YurVohk",
    "executionInfo": {
     "status": "ok",
     "timestamp": 1644858695692,
     "user_tz": -60,
     "elapsed": 11,
     "user": {
      "displayName": "Ismaril",
      "photoUrl": "https://lh3.googleusercontent.com/a/default-user=s64",
      "userId": "09094833649721836077"
     }
    },
    "outputId": "33806630-3748-4041-e5e9-355942b85bb0"
   },
   "execution_count": null,
   "outputs": [
    {
     "output_type": "execute_result",
     "data": {
      "text/plain": [
       "<tf.Tensor: shape=(4, 4), dtype=string, numpy=\n",
       "array([[b'True', b'X', b'X', b'X'],\n",
       "       [b'X', b'True', b'X', b'X'],\n",
       "       [b'X', b'X', b'True', b'X'],\n",
       "       [b'X', b'X', b'X', b'True']], dtype=object)>"
      ]
     },
     "metadata": {},
     "execution_count": 128
    }
   ]
  },
  {
   "cell_type": "markdown",
   "source": [
    "# Squaring, log, square root - another mathematical operations"
   ],
   "metadata": {
    "id": "CXCN9XunW7mT"
   }
  },
  {
   "cell_type": "code",
   "source": [
    "# create a tensor\n",
    "tensor_k = tf.range(1, 10)\n",
    "tensor_k"
   ],
   "metadata": {
    "colab": {
     "base_uri": "https://localhost:8080/"
    },
    "id": "BKvzpFgcW3e2",
    "executionInfo": {
     "status": "ok",
     "timestamp": 1644858695693,
     "user_tz": -60,
     "elapsed": 10,
     "user": {
      "displayName": "Ismaril",
      "photoUrl": "https://lh3.googleusercontent.com/a/default-user=s64",
      "userId": "09094833649721836077"
     }
    },
    "outputId": "77f0b0eb-b418-42b5-cc36-0b816ec712cf"
   },
   "execution_count": null,
   "outputs": [
    {
     "output_type": "execute_result",
     "data": {
      "text/plain": [
       "<tf.Tensor: shape=(9,), dtype=int32, numpy=array([1, 2, 3, 4, 5, 6, 7, 8, 9], dtype=int32)>"
      ]
     },
     "metadata": {},
     "execution_count": 129
    }
   ]
  },
  {
   "cell_type": "code",
   "source": [
    "# square it\n",
    "tf.square(tensor_k)"
   ],
   "metadata": {
    "colab": {
     "base_uri": "https://localhost:8080/"
    },
    "id": "Kfr_8cq9XToj",
    "executionInfo": {
     "status": "ok",
     "timestamp": 1644858695693,
     "user_tz": -60,
     "elapsed": 9,
     "user": {
      "displayName": "Ismaril",
      "photoUrl": "https://lh3.googleusercontent.com/a/default-user=s64",
      "userId": "09094833649721836077"
     }
    },
    "outputId": "2923d20c-b756-434c-f3d0-12208ada578a"
   },
   "execution_count": null,
   "outputs": [
    {
     "output_type": "execute_result",
     "data": {
      "text/plain": [
       "<tf.Tensor: shape=(9,), dtype=int32, numpy=array([ 1,  4,  9, 16, 25, 36, 49, 64, 81], dtype=int32)>"
      ]
     },
     "metadata": {},
     "execution_count": 130
    }
   ]
  },
  {
   "cell_type": "code",
   "source": [
    "# square root (have to use float, else error)\n",
    "#tf.cast(tf.math.sqrt(tensor_k), dtype=tf.float32)"
   ],
   "metadata": {
    "id": "Ph2KvJYmXWYj"
   },
   "execution_count": null,
   "outputs": []
  },
  {
   "cell_type": "code",
   "source": [
    "# find the natural logarithm\n",
    "#tf.cast(tf.math.log(tensor_k), tf.float32)"
   ],
   "metadata": {
    "id": "NZ4rRCTSYm5Q"
   },
   "execution_count": null,
   "outputs": []
  },
  {
   "cell_type": "markdown",
   "source": [
    "# Tensor flow and NumPy"
   ],
   "metadata": {
    "id": "ZXQ7V7ptZ3Ml"
   }
  },
  {
   "cell_type": "code",
   "source": [
    "# create a tensor directly from numpy array\n",
    "tensor_L = tf.constant(np.array([1., 5., 4., 13.,]))\n",
    "tensor_L"
   ],
   "metadata": {
    "colab": {
     "base_uri": "https://localhost:8080/"
    },
    "id": "hBLqI1eaZ6Bi",
    "executionInfo": {
     "status": "ok",
     "timestamp": 1644858695693,
     "user_tz": -60,
     "elapsed": 8,
     "user": {
      "displayName": "Ismaril",
      "photoUrl": "https://lh3.googleusercontent.com/a/default-user=s64",
      "userId": "09094833649721836077"
     }
    },
    "outputId": "08380b10-a1a2-4aea-b97f-dccaef6a696a"
   },
   "execution_count": null,
   "outputs": [
    {
     "output_type": "execute_result",
     "data": {
      "text/plain": [
       "<tf.Tensor: shape=(4,), dtype=float64, numpy=array([ 1.,  5.,  4., 13.])>"
      ]
     },
     "metadata": {},
     "execution_count": 133
    }
   ]
  },
  {
   "cell_type": "code",
   "source": [
    "# convert back to numpy array\n",
    "np.array(tensor_L), tensor_L.numpy(), type(np.array(tensor_L)), type(tensor_L.numpy())"
   ],
   "metadata": {
    "colab": {
     "base_uri": "https://localhost:8080/"
    },
    "id": "2AEbUK8LaQxy",
    "executionInfo": {
     "status": "ok",
     "timestamp": 1644858709387,
     "user_tz": -60,
     "elapsed": 2,
     "user": {
      "displayName": "Ismaril",
      "photoUrl": "https://lh3.googleusercontent.com/a/default-user=s64",
      "userId": "09094833649721836077"
     }
    },
    "outputId": "92eca66d-0432-4516-e212-2add00495917"
   },
   "execution_count": null,
   "outputs": [
    {
     "output_type": "execute_result",
     "data": {
      "text/plain": [
       "(array([ 1.,  5.,  4., 13.]),\n",
       " array([ 1.,  5.,  4., 13.]),\n",
       " numpy.ndarray,\n",
       " numpy.ndarray)"
      ]
     },
     "metadata": {},
     "execution_count": 135
    }
   ]
  },
  {
   "cell_type": "code",
   "source": [
    "# get an index position\n",
    "tensor_L.numpy()[3]"
   ],
   "metadata": {
    "colab": {
     "base_uri": "https://localhost:8080/"
    },
    "id": "5lNQ6KV8btEi",
    "executionInfo": {
     "status": "ok",
     "timestamp": 1644858709895,
     "user_tz": -60,
     "elapsed": 3,
     "user": {
      "displayName": "Ismaril",
      "photoUrl": "https://lh3.googleusercontent.com/a/default-user=s64",
      "userId": "09094833649721836077"
     }
    },
    "outputId": "888869ee-5979-45a7-f82f-f0f2caa5d16e"
   },
   "execution_count": null,
   "outputs": [
    {
     "output_type": "execute_result",
     "data": {
      "text/plain": [
       "13.0"
      ]
     },
     "metadata": {},
     "execution_count": 136
    }
   ]
  },
  {
   "cell_type": "code",
   "source": [
    "# difference in default dtype\n",
    "tensor_L_1 = tf.constant([1., 5.],)\n",
    "numpy_L_1 = np.array([1., 5.,],)\n",
    "\n",
    "print(tensor_L_1, numpy_L_1, tensor_L_1.dtype, numpy_L_1.dtype, sep=\"\\n\", end=\"\\n\\n\")\n",
    "\n",
    "tensor_L_2 = tf.constant([1., 5.],)\n",
    "numpy_L_2 = tf.constant(np.array([1., 5.,],))\n",
    "\n",
    "print(tensor_L_2, numpy_L_2, tensor_L_2.dtype, numpy_L_2.dtype, sep=\"\\n\")"
   ],
   "metadata": {
    "colab": {
     "base_uri": "https://localhost:8080/"
    },
    "id": "XpBYrGencWvX",
    "executionInfo": {
     "status": "ok",
     "timestamp": 1644858709895,
     "user_tz": -60,
     "elapsed": 3,
     "user": {
      "displayName": "Ismaril",
      "photoUrl": "https://lh3.googleusercontent.com/a/default-user=s64",
      "userId": "09094833649721836077"
     }
    },
    "outputId": "a87c52d6-48bb-4636-daa8-e339893b2aed"
   },
   "execution_count": null,
   "outputs": [
    {
     "output_type": "stream",
     "name": "stdout",
     "text": [
      "tf.Tensor([1. 5.], shape=(2,), dtype=float32)\n",
      "[1. 5.]\n",
      "<dtype: 'float32'>\n",
      "float64\n",
      "\n",
      "tf.Tensor([1. 5.], shape=(2,), dtype=float32)\n",
      "tf.Tensor([1. 5.], shape=(2,), dtype=float64)\n",
      "<dtype: 'float32'>\n",
      "<dtype: 'float64'>\n"
     ]
    }
   ]
  }
 ]
}
