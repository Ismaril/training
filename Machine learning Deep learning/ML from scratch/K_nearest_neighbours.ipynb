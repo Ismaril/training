{
 "cells": [
  {
   "cell_type": "markdown",
   "id": "eebe1f53",
   "metadata": {},
   "source": [
    "### sample is classified by a popularity of it's nearest neighbours"
   ]
  },
  {
   "cell_type": "code",
   "execution_count": 1,
   "id": "0db1a017",
   "metadata": {},
   "outputs": [],
   "source": [
    "import numpy as np\n",
    "import random\n",
    "import matplotlib.pyplot as plt\n",
    "import pandas as pd\n",
    "from sklearn.model_selection import train_test_split\n",
    "from collections import Counter"
   ]
  },
  {
   "cell_type": "code",
   "execution_count": 2,
   "id": "16f36d48",
   "metadata": {},
   "outputs": [],
   "source": [
    "# load data, or actually...create my own\n",
    "from data_generation import GenerateDatasets\n",
    "\n",
    "dataset = GenerateDatasets()\n",
    "dataset = dataset.make_squared_distribution(nr_samples=100,\n",
    "                                             nr_classes=3,\n",
    "                                             size_1=20,\n",
    "                                             size_2=40,\n",
    "                                             scale_spaces=1.3)\n",
    "X, y = dataset"
   ]
  },
  {
   "cell_type": "code",
   "execution_count": 3,
   "id": "12da3d83",
   "metadata": {},
   "outputs": [],
   "source": [
    "# split data\n",
    "\n",
    "X_train, X_test, y_train, y_test = train_test_split(X, y, test_size=0.2, random_state=42)"
   ]
  },
  {
   "cell_type": "code",
   "execution_count": 4,
   "id": "eab43fb7",
   "metadata": {},
   "outputs": [
    {
     "data": {
      "text/plain": [
       "(array([[32,  2],\n",
       "        [29, 72],\n",
       "        [51, 15],\n",
       "        [89, 32],\n",
       "        [51, 25],\n",
       "        [57, 58],\n",
       "        [27, 23],\n",
       "        [24, 34],\n",
       "        [74, 39],\n",
       "        [72, 36],\n",
       "        [81, 41],\n",
       "        [26, 57],\n",
       "        [65, 40],\n",
       "        [77, 34],\n",
       "        [73, 32],\n",
       "        [29, 23],\n",
       "        [80, 31],\n",
       "        [80, 45],\n",
       "        [66, 39],\n",
       "        [90, 16],\n",
       "        [35, 38],\n",
       "        [75, 44],\n",
       "        [56, 32],\n",
       "        [35, 56],\n",
       "        [62, 25],\n",
       "        [24, 78],\n",
       "        [48, 51],\n",
       "        [92, 25],\n",
       "        [73,  5],\n",
       "        [47, 10],\n",
       "        [27, 37],\n",
       "        [50, 26],\n",
       "        [33, 30],\n",
       "        [49, 28],\n",
       "        [56, 37],\n",
       "        [77, 54],\n",
       "        [87, 27],\n",
       "        [25, 29],\n",
       "        [73,  5],\n",
       "        [23, 58],\n",
       "        [60, 34],\n",
       "        [66, 35],\n",
       "        [83, 61],\n",
       "        [58, 35],\n",
       "        [46,  8],\n",
       "        [61,  8],\n",
       "        [50, 38],\n",
       "        [63, 24],\n",
       "        [39, 71],\n",
       "        [40, 54],\n",
       "        [87, 34],\n",
       "        [46, 54],\n",
       "        [84, 64],\n",
       "        [51, 31],\n",
       "        [90, 31],\n",
       "        [60, 21],\n",
       "        [76, 65],\n",
       "        [26,  4],\n",
       "        [52, 46],\n",
       "        [30, 75],\n",
       "        [34, 25],\n",
       "        [51, 36],\n",
       "        [92, 32],\n",
       "        [21, 54],\n",
       "        [61, 66],\n",
       "        [63, 31],\n",
       "        [28, 12],\n",
       "        [27, 25],\n",
       "        [20, 78],\n",
       "        [92, 31],\n",
       "        [80, 37],\n",
       "        [59, 30],\n",
       "        [49, 33],\n",
       "        [84, 77],\n",
       "        [62, 66],\n",
       "        [87, 65],\n",
       "        [50, 35],\n",
       "        [49, 23],\n",
       "        [81, 62],\n",
       "        [33,  1],\n",
       "        [63, 31],\n",
       "        [22, 25],\n",
       "        [24, 12],\n",
       "        [83, 73],\n",
       "        [34, 30],\n",
       "        [65, 27],\n",
       "        [37, 36],\n",
       "        [85, 39],\n",
       "        [51, 70],\n",
       "        [25, 41],\n",
       "        [89, 29],\n",
       "        [24, 19],\n",
       "        [85, 30],\n",
       "        [75, 78],\n",
       "        [82, 11],\n",
       "        [33, 15],\n",
       "        [21, 58],\n",
       "        [59, 66],\n",
       "        [59, 23],\n",
       "        [47, 34],\n",
       "        [90, 14],\n",
       "        [87, 36],\n",
       "        [79, 12],\n",
       "        [92, 33],\n",
       "        [37, 61],\n",
       "        [89, 25],\n",
       "        [38, 55],\n",
       "        [58, 65],\n",
       "        [82,  6],\n",
       "        [60, 22],\n",
       "        [26, 33],\n",
       "        [38, 74],\n",
       "        [86, 69],\n",
       "        [48, 32],\n",
       "        [81, 34],\n",
       "        [62, 25],\n",
       "        [32, 31],\n",
       "        [33, 25],\n",
       "        [28, 22],\n",
       "        [64, 21],\n",
       "        [52, 26],\n",
       "        [46, 12],\n",
       "        [21, 65],\n",
       "        [21, 37],\n",
       "        [90, 69],\n",
       "        [84, 35],\n",
       "        [83,  0],\n",
       "        [81, 21],\n",
       "        [75, 68],\n",
       "        [51, 27],\n",
       "        [28, 73],\n",
       "        [49,  2],\n",
       "        [31, 38],\n",
       "        [77, 33],\n",
       "        [86,  9],\n",
       "        [74, 38],\n",
       "        [66, 27],\n",
       "        [33, 77],\n",
       "        [57, 30],\n",
       "        [56,  7],\n",
       "        [89, 45],\n",
       "        [48, 39],\n",
       "        [65, 44],\n",
       "        [54, 34],\n",
       "        [77, 38],\n",
       "        [24, 58],\n",
       "        [34, 77],\n",
       "        [28, 51],\n",
       "        [64, 19],\n",
       "        [23, 18],\n",
       "        [38, 40],\n",
       "        [34, 38],\n",
       "        [91, 37],\n",
       "        [92, 34],\n",
       "        [83, 77],\n",
       "        [91, 24],\n",
       "        [85, 34],\n",
       "        [58, 30],\n",
       "        [46, 30],\n",
       "        [82,  4],\n",
       "        [38, 29],\n",
       "        [61, 38],\n",
       "        [82, 38],\n",
       "        [50, 64],\n",
       "        [60, 20],\n",
       "        [75, 26],\n",
       "        [46, 59],\n",
       "        [66, 37],\n",
       "        [62, 20],\n",
       "        [89, 74],\n",
       "        [77, 26],\n",
       "        [58, 24],\n",
       "        [46, 32],\n",
       "        [30,  9],\n",
       "        [46, 24],\n",
       "        [73, 38],\n",
       "        [76,  7],\n",
       "        [82,  6],\n",
       "        [55, 44],\n",
       "        [35, 27],\n",
       "        [25, 22],\n",
       "        [22, 24],\n",
       "        [39, 71],\n",
       "        [86, 29],\n",
       "        [39,  7],\n",
       "        [47, 35],\n",
       "        [51,  0],\n",
       "        [65, 30],\n",
       "        [64, 55],\n",
       "        [79, 40],\n",
       "        [60, 21],\n",
       "        [91, 38],\n",
       "        [29, 76],\n",
       "        [90,  4],\n",
       "        [25, 36],\n",
       "        [27, 51],\n",
       "        [31, 38],\n",
       "        [54,  8],\n",
       "        [89, 28],\n",
       "        [50, 60],\n",
       "        [49, 22],\n",
       "        [63, 22],\n",
       "        [22, 32],\n",
       "        [59, 62],\n",
       "        [27, 29],\n",
       "        [78, 24],\n",
       "        [33, 35],\n",
       "        [35,  3],\n",
       "        [77, 24],\n",
       "        [33, 32],\n",
       "        [34, 23],\n",
       "        [80, 40],\n",
       "        [25, 33],\n",
       "        [35,  5],\n",
       "        [31, 31],\n",
       "        [50, 12],\n",
       "        [60, 47],\n",
       "        [50, 50],\n",
       "        [81, 21],\n",
       "        [89, 56],\n",
       "        [47, 51],\n",
       "        [37, 21],\n",
       "        [78, 23],\n",
       "        [25,  1],\n",
       "        [36, 21],\n",
       "        [24, 44],\n",
       "        [74, 23],\n",
       "        [25, 71],\n",
       "        [55, 68],\n",
       "        [79, 21],\n",
       "        [80, 21],\n",
       "        [72,  4],\n",
       "        [21, 26],\n",
       "        [47,  8],\n",
       "        [25, 62],\n",
       "        [55, 49],\n",
       "        [90, 33],\n",
       "        [27, 37],\n",
       "        [66, 25],\n",
       "        [48, 33],\n",
       "        [86, 33],\n",
       "        [75, 56],\n",
       "        [73, 43],\n",
       "        [65, 16],\n",
       "        [27, 33],\n",
       "        [62, 21],\n",
       "        [50, 31],\n",
       "        [34, 25],\n",
       "        [83, 23],\n",
       "        [39, 10],\n",
       "        [80, 21],\n",
       "        [38, 51],\n",
       "        [58, 26],\n",
       "        [29, 10],\n",
       "        [88, 39],\n",
       "        [40, 40],\n",
       "        [74, 38],\n",
       "        [83, 21],\n",
       "        [60, 49],\n",
       "        [46, 68],\n",
       "        [32,  6],\n",
       "        [59, 13],\n",
       "        [82, 20],\n",
       "        [79, 32],\n",
       "        [76, 54],\n",
       "        [39, 40],\n",
       "        [80, 67],\n",
       "        [92, 32],\n",
       "        [29, 40],\n",
       "        [80, 62],\n",
       "        [34, 32],\n",
       "        [31, 43],\n",
       "        [31, 57],\n",
       "        [54, 32],\n",
       "        [36,  6],\n",
       "        [46, 62],\n",
       "        [54, 38],\n",
       "        [83, 30],\n",
       "        [36,  0],\n",
       "        [23, 22],\n",
       "        [85, 24],\n",
       "        [50, 35],\n",
       "        [55, 38],\n",
       "        [80, 36],\n",
       "        [34, 40],\n",
       "        [21,  7],\n",
       "        [47, 19],\n",
       "        [40, 25],\n",
       "        [90, 35],\n",
       "        [22, 73],\n",
       "        [20, 37],\n",
       "        [89, 42],\n",
       "        [31, 38],\n",
       "        [35, 10],\n",
       "        [86,  7],\n",
       "        [65, 42],\n",
       "        [63, 46],\n",
       "        [30,  9],\n",
       "        [47, 64],\n",
       "        [85, 20]]),\n",
       " array([0, 0, 1, 2, 1, 1, 0, 0, 2, 2, 2, 0, 1, 2, 2, 0, 2, 2, 1, 2, 0, 2,\n",
       "        1, 0, 1, 0, 1, 2, 2, 1, 0, 1, 0, 1, 1, 2, 2, 0, 2, 0, 1, 1, 2, 1,\n",
       "        1, 1, 1, 1, 0, 0, 2, 1, 2, 1, 2, 1, 2, 0, 1, 0, 0, 1, 2, 0, 1, 1,\n",
       "        0, 0, 0, 2, 2, 1, 1, 2, 1, 2, 1, 1, 2, 0, 1, 0, 0, 2, 0, 1, 0, 2,\n",
       "        1, 0, 2, 0, 2, 2, 2, 0, 0, 1, 1, 1, 2, 2, 2, 2, 0, 2, 0, 1, 2, 1,\n",
       "        0, 0, 2, 1, 2, 1, 0, 0, 0, 1, 1, 1, 0, 0, 2, 2, 2, 2, 2, 1, 0, 1,\n",
       "        0, 2, 2, 2, 1, 0, 1, 1, 2, 1, 1, 1, 2, 0, 0, 0, 1, 0, 0, 0, 2, 2,\n",
       "        2, 2, 2, 1, 1, 2, 0, 1, 2, 1, 1, 2, 1, 1, 1, 2, 2, 1, 1, 0, 1, 2,\n",
       "        2, 2, 1, 0, 0, 0, 0, 2, 0, 1, 1, 1, 1, 2, 1, 2, 0, 2, 0, 0, 0, 1,\n",
       "        2, 1, 1, 1, 0, 1, 0, 2, 0, 0, 2, 0, 0, 2, 0, 0, 0, 1, 1, 1, 2, 2,\n",
       "        1, 0, 2, 0, 0, 0, 2, 0, 1, 2, 2, 2, 0, 1, 0, 1, 2, 0, 1, 1, 2, 2,\n",
       "        2, 1, 0, 1, 1, 0, 2, 0, 2, 0, 1, 0, 2, 0, 2, 2, 1, 1, 0, 1, 2, 2,\n",
       "        2, 0, 2, 2, 0, 2, 0, 0, 0, 1, 0, 1, 1, 2, 0, 0, 2, 1, 1, 2, 0, 0,\n",
       "        1, 0, 2, 0, 0, 2, 0, 0, 2, 1, 1, 0, 1, 2]))"
      ]
     },
     "execution_count": 4,
     "metadata": {},
     "output_type": "execute_result"
    }
   ],
   "source": [
    "#visualise data\n",
    "dataset"
   ]
  },
  {
   "cell_type": "code",
   "execution_count": 5,
   "id": "1a8e9f84",
   "metadata": {},
   "outputs": [
    {
     "data": {
      "text/plain": [
       "(array([[32,  2],\n",
       "        [29, 72],\n",
       "        [51, 15],\n",
       "        [89, 32],\n",
       "        [51, 25],\n",
       "        [57, 58],\n",
       "        [27, 23],\n",
       "        [24, 34],\n",
       "        [74, 39],\n",
       "        [72, 36]]),\n",
       " array([0, 0, 1, 2, 1, 1, 0, 0, 2, 2]))"
      ]
     },
     "execution_count": 5,
     "metadata": {},
     "output_type": "execute_result"
    }
   ],
   "source": [
    "X[:10], y[:10]"
   ]
  },
  {
   "cell_type": "code",
   "execution_count": 6,
   "id": "9b781676",
   "metadata": {},
   "outputs": [
    {
     "data": {
      "text/plain": [
       "((240, 2), (60, 2))"
      ]
     },
     "execution_count": 6,
     "metadata": {},
     "output_type": "execute_result"
    }
   ],
   "source": [
    "X_train.shape, X_test.shape "
   ]
  },
  {
   "cell_type": "code",
   "execution_count": 7,
   "id": "2f0b0188",
   "metadata": {},
   "outputs": [
    {
     "data": {
      "image/png": "[encoded data removed]",
      "text/plain": [
       "<Figure size 1152x648 with 1 Axes>"
      ]
     },
     "metadata": {
      "needs_background": "dark"
     },
     "output_type": "display_data"
    }
   ],
   "source": [
    "plt.style.use(\"dark_background\")\n",
    "plt.figure(figsize=(16, 9))\n",
    "plt.scatter(X[:, 0], X[:, 1], c=y, cmap=\"brg\", edgecolors=\"k\")\n",
    "plt.show()"
   ]
  },
  {
   "cell_type": "code",
   "execution_count": 8,
   "id": "2d53bc2e",
   "metadata": {},
   "outputs": [
    {
     "data": {
      "text/plain": [
       "(300, 300)"
      ]
     },
     "execution_count": 8,
     "metadata": {},
     "output_type": "execute_result"
    }
   ],
   "source": [
    "len(X), len(y)"
   ]
  },
  {
   "cell_type": "code",
   "execution_count": 9,
   "id": "fff0a14d",
   "metadata": {},
   "outputs": [
    {
     "data": {
      "text/plain": [
       "array([21, 26])"
      ]
     },
     "execution_count": 9,
     "metadata": {},
     "output_type": "execute_result"
    }
   ],
   "source": [
    "X_train[0]"
   ]
  },
  {
   "cell_type": "code",
   "execution_count": 10,
   "id": "6f749bd6",
   "metadata": {},
   "outputs": [
    {
     "data": {
      "text/plain": [
       "0"
      ]
     },
     "execution_count": 10,
     "metadata": {},
     "output_type": "execute_result"
    }
   ],
   "source": [
    "y_train[0]"
   ]
  },
  {
   "cell_type": "code",
   "execution_count": 11,
   "id": "b75dc079",
   "metadata": {},
   "outputs": [],
   "source": [
    "# eucledeam distance to calculate distances between vectors\n",
    "# I can confirm that it works on vectors, tested it my self\n",
    "\n",
    "def euclidean_distance(x1, x2):\n",
    "    return np.sqrt(np.sum((x1 - x2) ** 2))"
   ]
  },
  {
   "cell_type": "code",
   "execution_count": 12,
   "id": "95899ca4",
   "metadata": {},
   "outputs": [],
   "source": [
    "class KNearestNeighbours:\n",
    "    def __init__(self, k=3, verbose=False):\n",
    "        \"\"\"K: Number of nearest neighbours\"\"\"\n",
    "        self.k = k\n",
    "        self.X_train = None\n",
    "        self.y_train = None\n",
    "        self.verbose = verbose\n",
    "\n",
    "    def fit(self, X, y):\n",
    "        self.X_train = X\n",
    "        self.y_train = y\n",
    "\n",
    "    def predict(self, X_test):\n",
    "        # this comprehension will go through every item and return label based on\n",
    "        #    k most common labels around it\n",
    "        # self._predict here is done on each vector of X_test\n",
    "        predicted_labels = [self._predict(test_item) for test_item in X_test]\n",
    "\n",
    "        if self.verbose:\n",
    "            print(\"shape\", X_test.shape)\n",
    "            print(np.array(predicted_labels).shape)\n",
    "            print(\"predicted labels\", predicted_labels[:5])\n",
    "        return np.array(predicted_labels)\n",
    "\n",
    "    def _predict(self, test_item):\n",
    "        # compute distances of a given item from X_test to every point in X_train.\n",
    "        # TODO: Why compare it to X_train and not X_test???\n",
    "        distances = [euclidean_distance(x1=test_item, x2=train_item) for train_item in self.X_train]\n",
    "\n",
    "        \n",
    "        # get k nearest samples, labels\n",
    "        # arg sort returns indexes in order as the integers are aligned (from smallest) in original list\n",
    "        # the indexes will be used to return by index item from y_train\n",
    "        k_indices = np.argsort(distances)[:self.k]\n",
    "\n",
    "        k_nearest_labels = [self.y_train[index] for index in k_indices]\n",
    "\n",
    "        # majority vote, most common class label in k nearest neighbours\n",
    "        most_common = Counter(k_nearest_labels).most_common(1)\n",
    "\n",
    "        if self.verbose:\n",
    "            print(\"distances\", distances[:5])\n",
    "            print(\"k_indices\", k_indices)\n",
    "            print(\"k_nearest_labels\", k_nearest_labels)\n",
    "            print(\"most_common\", most_common[0][0])\n",
    "            print(\"-\"*20)\n",
    "        return most_common[0][0]\n",
    "    "
   ]
  },
  {
   "cell_type": "code",
   "execution_count": 13,
   "id": "594d00f7",
   "metadata": {},
   "outputs": [],
   "source": [
    "classifier = KNearestNeighbours(k=3)\n",
    "classifier.fit(X_train, y_train)\n",
    "\n",
    "y_pred = classifier.predict(X_test=X_test)\n",
    "accuracy = np.sum(y_pred==y_test) / len(y_test)\n"
   ]
  },
  {
   "cell_type": "code",
   "execution_count": 14,
   "id": "493f5884",
   "metadata": {},
   "outputs": [
    {
     "data": {
      "text/plain": [
       "1.0"
      ]
     },
     "execution_count": 14,
     "metadata": {},
     "output_type": "execute_result"
    }
   ],
   "source": [
    "# result in % (1 = 100%)\n",
    "accuracy"
   ]
  },
  {
   "cell_type": "code",
   "execution_count": 15,
   "id": "2ee144a8",
   "metadata": {},
   "outputs": [
    {
     "data": {
      "image/png": "[encoded data removed]",
      "text/plain": [
       "<Figure size 1152x648 with 1 Axes>"
      ]
     },
     "metadata": {
      "needs_background": "dark"
     },
     "output_type": "display_data"
    }
   ],
   "source": [
    "# notice that there is some error\n",
    "from data_plotting import Plots\n",
    "\n",
    "plot = Plots()\n",
    "plot.plot_decision_boundary(classifier,\n",
    "                           X_test,\n",
    "                           y_test,\n",
    "                           expand=1,\n",
    "                           bound_smoot=200,\n",
    "                           fig_size=(16, 9),\n",
    "                           grid=True,\n",
    "                           verbose=False,\n",
    "                           cmap=\"brg\")"
   ]
  }
 ],
 "metadata": {
  "kernelspec": {
   "display_name": "Python 3 (ipykernel)",
   "language": "python",
   "name": "python3"
  },
  "language_info": {
   "codemirror_mode": {
    "name": "ipython",
    "version": 3
   },
   "file_extension": ".py",
   "mimetype": "text/x-python",
   "name": "python",
   "nbconvert_exporter": "python",
   "pygments_lexer": "ipython3",
   "version": "3.10.0"
  }
 },
 "nbformat": 4,
 "nbformat_minor": 5
}
