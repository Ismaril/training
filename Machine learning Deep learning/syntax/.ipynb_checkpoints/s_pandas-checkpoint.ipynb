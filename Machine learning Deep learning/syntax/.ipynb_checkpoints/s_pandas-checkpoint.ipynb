{
 "cells": [
  {
   "cell_type": "markdown",
   "metadata": {
    "id": "flGB_ncEciYm"
   },
   "source": [
    "# load data"
   ]
  },
  {
   "cell_type": "code",
   "execution_count": null,
   "metadata": {
    "executionInfo": {
     "elapsed": 397,
     "status": "ok",
     "timestamp": 1655229264144,
     "user": {
      "displayName": "Ismaril",
      "userId": "09094833649721836077"
     },
     "user_tz": -120
    },
    "id": "N2JHVATgxnV9"
   },
   "outputs": [],
   "source": [
    "import pandas as pd\n",
    "import numpy as np"
   ]
  },
  {
   "cell_type": "code",
   "execution_count": null,
   "metadata": {
    "executionInfo": {
     "elapsed": 2,
     "status": "ok",
     "timestamp": 1655229264898,
     "user": {
      "displayName": "Ismaril",
      "userId": "09094833649721836077"
     },
     "user_tz": -120
    },
    "id": "64O6qoWQBdyg"
   },
   "outputs": [],
   "source": [
    "# add some extra random columns with bool values and int values\n",
    "extra_col1 = np.random.randint(0, 2, (87569, 1), dtype=bool)\n",
    "extra_col2 = np.random.randn(87569).reshape((87569, 1))\n",
    "extra_col3 = np.random.randn(87569).reshape((87569, 1))\n",
    "extra_col4 = np.random.randn(87569).reshape((87569, 1))"
   ]
  },
  {
   "cell_type": "code",
   "execution_count": null,
   "metadata": {
    "executionInfo": {
     "elapsed": 297,
     "status": "ok",
     "timestamp": 1655229265193,
     "user": {
      "displayName": "Ismaril",
      "userId": "09094833649721836077"
     },
     "user_tz": -120
    },
    "id": "edmnV08-1QiG"
   },
   "outputs": [],
   "source": [
    "df = pd.read_csv(\"https://raw.githubusercontent.com\"\n",
    "                 \"/CoreyMSchafer/code_snippets/master\"\n",
    "                 \"/Python/Matplotlib/02-BarCharts/data.csv\",\n",
    "                 ) # you can specify name of rows directly when loading data, parameter index_col=name of desired column\n",
    "df[\"some_column1\"] = extra_col1\n",
    "df[\"some_column2\"] = extra_col2\n",
    "df[\"some_column3\"] = extra_col3\n",
    "df[\"some_column4\"] = extra_col4"
   ]
  },
  {
   "cell_type": "code",
   "execution_count": null,
   "metadata": {
    "colab": {
     "base_uri": "https://localhost:8080/"
    },
    "executionInfo": {
     "elapsed": 9,
     "status": "ok",
     "timestamp": 1655229265194,
     "user": {
      "displayName": "Ismaril",
      "userId": "09094833649721836077"
     },
     "user_tz": -120
    },
    "id": "tWkGkq1wHlUe",
    "outputId": "25340e99-1089-45a2-b796-40535be3cc80"
   },
   "outputs": [],
   "source": [
    "df.shape # shape is an attribute, not a method, thats why no parentheses"
   ]
  },
  {
   "cell_type": "code",
   "execution_count": null,
   "metadata": {
    "colab": {
     "base_uri": "https://localhost:8080/",
     "height": 35
    },
    "executionInfo": {
     "elapsed": 8,
     "status": "ok",
     "timestamp": 1655229265194,
     "user": {
      "displayName": "Ismaril",
      "userId": "09094833649721836077"
     },
     "user_tz": -120
    },
    "id": "2Bdnxdu2khR5",
    "outputId": "93b3614e-ffbd-4dd1-8114-bc0038b67a6c"
   },
   "outputs": [],
   "source": [
    "# terminology:\n",
    "\n",
    "\"series - data of only one column\"\n",
    "\n",
    "\"dataframe - data of multiple series\""
   ]
  },
  {
   "cell_type": "markdown",
   "metadata": {
    "id": "CQkPG3OyclVt"
   },
   "source": [
    "# basic checking of data"
   ]
  },
  {
   "cell_type": "code",
   "execution_count": null,
   "metadata": {
    "colab": {
     "base_uri": "https://localhost:8080/",
     "height": 176
    },
    "executionInfo": {
     "elapsed": 7,
     "status": "ok",
     "timestamp": 1655229265194,
     "user": {
      "displayName": "Ismaril",
      "userId": "09094833649721836077"
     },
     "user_tz": -120
    },
    "id": "xKSySoMQQ0Y0",
    "outputId": "153fd14b-1bbc-4108-e328-2d122eb2adca"
   },
   "outputs": [],
   "source": [
    "# head will display only limited number of rows and columns,\n",
    "#   except pd.set_option(\"display.max_columns\", XXX) is set, to specify desired nr of cols and rows\n",
    "df.head(2)"
   ]
  },
  {
   "cell_type": "code",
   "execution_count": null,
   "metadata": {
    "colab": {
     "base_uri": "https://localhost:8080/",
     "height": 176
    },
    "executionInfo": {
     "elapsed": 6,
     "status": "ok",
     "timestamp": 1655229265194,
     "user": {
      "displayName": "Ismaril",
      "userId": "09094833649721836077"
     },
     "user_tz": -120
    },
    "id": "R0pnNWNGb5nt",
    "outputId": "00ca7616-293a-4124-839d-ccc856ca3c02"
   },
   "outputs": [],
   "source": [
    "# this is the same as head, but from the end\n",
    "df.tail(2)"
   ]
  },
  {
   "cell_type": "code",
   "execution_count": null,
   "metadata": {
    "colab": {
     "base_uri": "https://localhost:8080/"
    },
    "executionInfo": {
     "elapsed": 7,
     "status": "ok",
     "timestamp": 1655229265195,
     "user": {
      "displayName": "Ismaril",
      "userId": "09094833649721836077"
     },
     "user_tz": -120
    },
    "id": "PnfHAeYNQGj9",
    "outputId": "5fe0e3cc-dd7c-40c3-e44a-9317a0d34952"
   },
   "outputs": [],
   "source": [
    "df.info()"
   ]
  },
  {
   "cell_type": "code",
   "execution_count": null,
   "metadata": {
    "colab": {
     "base_uri": "https://localhost:8080/",
     "height": 35
    },
    "executionInfo": {
     "elapsed": 418,
     "status": "ok",
     "timestamp": 1655229265608,
     "user": {
      "displayName": "Ismaril",
      "userId": "09094833649721836077"
     },
     "user_tz": -120
    },
    "id": "W5QPYlE-Qjr4",
    "outputId": "707f950b-a76d-477c-daed-a6211a1b0896"
   },
   "outputs": [],
   "source": [
    "# set custom number of columns to be printed\n",
    "\"\"\"pd.set_option(\"display.max_columns\", 48)\"\"\"\n",
    "\n",
    "# set custom number of rows to be printed\n",
    "\"\"\"pd.set_option(\"display.max_rows\", XXX)\"\"\""
   ]
  },
  {
   "cell_type": "code",
   "execution_count": null,
   "metadata": {
    "colab": {
     "base_uri": "https://localhost:8080/",
     "height": 270
    },
    "executionInfo": {
     "elapsed": 32,
     "status": "ok",
     "timestamp": 1655229265609,
     "user": {
      "displayName": "Ismaril",
      "userId": "09094833649721836077"
     },
     "user_tz": -120
    },
    "id": "QaBmC-KQRBVM",
    "outputId": "22fc8ae6-ffb9-4042-8afe-240a902dd350"
   },
   "outputs": [],
   "source": [
    "df.head()"
   ]
  },
  {
   "cell_type": "markdown",
   "metadata": {
    "id": "e-O3_6LEcpGX"
   },
   "source": [
    "# selecting rows and columns"
   ]
  },
  {
   "cell_type": "code",
   "execution_count": null,
   "metadata": {
    "colab": {
     "base_uri": "https://localhost:8080/"
    },
    "executionInfo": {
     "elapsed": 32,
     "status": "ok",
     "timestamp": 1655229265609,
     "user": {
      "displayName": "Ismaril",
      "userId": "09094833649721836077"
     },
     "user_tz": -120
    },
    "id": "XEGq-yeVcqtq",
    "outputId": "2ce4b40c-4348-48c0-be92-2272b3d2d5c4"
   },
   "outputs": [],
   "source": [
    "# some idea how might pandas work\n",
    "\n",
    "# here the keys might serve as name of columns and indexes of values (lists) as rows\n",
    "custom_dict = {\"name\": [\"Jon\", \"Ponna\", \"Lada\"],\n",
    "               \"age\": [20, 32, 23],\n",
    "               \"sex\": [\"Male\", \"Female\", \"Female\"]}\n",
    "\n",
    "custom_dict[\"name\"]"
   ]
  },
  {
   "cell_type": "code",
   "execution_count": null,
   "metadata": {
    "colab": {
     "base_uri": "https://localhost:8080/",
     "height": 143
    },
    "executionInfo": {
     "elapsed": 29,
     "status": "ok",
     "timestamp": 1655229265610,
     "user": {
      "displayName": "Ismaril",
      "userId": "09094833649721836077"
     },
     "user_tz": -120
    },
    "id": "9cJBfaaBfbR4",
    "outputId": "0b1d34c6-c838-4d9d-9f6a-db210befe5a3"
   },
   "outputs": [],
   "source": [
    "# try to load custom data to pandas\n",
    "\n",
    "custom_df = pd.DataFrame(custom_dict)\n",
    "custom_df"
   ]
  },
  {
   "cell_type": "code",
   "execution_count": null,
   "metadata": {
    "colab": {
     "base_uri": "https://localhost:8080/"
    },
    "executionInfo": {
     "elapsed": 28,
     "status": "ok",
     "timestamp": 1655229265610,
     "user": {
      "displayName": "Ismaril",
      "userId": "09094833649721836077"
     },
     "user_tz": -120
    },
    "id": "k1TT2iltgMJC",
    "outputId": "71b6b439-ca26-4891-f5b5-287164c890f5"
   },
   "outputs": [],
   "source": [
    "# acces column\n",
    "\n",
    "# it returns the same data as the basic dictionary above, but in pandas format\n",
    "custom_df[\"name\"] "
   ]
  },
  {
   "cell_type": "code",
   "execution_count": null,
   "metadata": {
    "colab": {
     "base_uri": "https://localhost:8080/"
    },
    "executionInfo": {
     "elapsed": 25,
     "status": "ok",
     "timestamp": 1655229265610,
     "user": {
      "displayName": "Ismaril",
      "userId": "09094833649721836077"
     },
     "user_tz": -120
    },
    "id": "OK1iBZDWjK-t",
    "outputId": "1f52c545-407c-40a9-a85f-3af0d274d4a2"
   },
   "outputs": [],
   "source": [
    "# access column, option 2 \n",
    "# (df.columnname might cause errors, it might get confused with some method)\n",
    "custom_df.name"
   ]
  },
  {
   "cell_type": "code",
   "execution_count": null,
   "metadata": {
    "colab": {
     "base_uri": "https://localhost:8080/",
     "height": 143
    },
    "executionInfo": {
     "elapsed": 24,
     "status": "ok",
     "timestamp": 1655229265611,
     "user": {
      "displayName": "Ismaril",
      "userId": "09094833649721836077"
     },
     "user_tz": -120
    },
    "id": "AgKbaQ9TkKPN",
    "outputId": "4d844b90-f3d2-45cf-f2b0-c211631df1b5"
   },
   "outputs": [],
   "source": [
    "# access more columns\n",
    "custom_df[[\"name\", \"sex\"]]"
   ]
  },
  {
   "cell_type": "code",
   "execution_count": null,
   "metadata": {
    "colab": {
     "base_uri": "https://localhost:8080/"
    },
    "executionInfo": {
     "elapsed": 19,
     "status": "ok",
     "timestamp": 1655229265611,
     "user": {
      "displayName": "Ismaril",
      "userId": "09094833649721836077"
     },
     "user_tz": -120
    },
    "id": "Nli3XUZTlLju",
    "outputId": "b8e43d4c-6fca-4ed0-f276-1a5673c0f39d"
   },
   "outputs": [],
   "source": [
    "# get name of columns\n",
    "custom_df.columns"
   ]
  },
  {
   "cell_type": "code",
   "execution_count": null,
   "metadata": {
    "colab": {
     "base_uri": "https://localhost:8080/"
    },
    "executionInfo": {
     "elapsed": 17,
     "status": "ok",
     "timestamp": 1655229265611,
     "user": {
      "displayName": "Ismaril",
      "userId": "09094833649721836077"
     },
     "user_tz": -120
    },
    "id": "iWpmcldsgZi6",
    "outputId": "66484be4-2667-41df-fb9b-c233670a6c73"
   },
   "outputs": [],
   "source": [
    "# get columns and rows using \"iloc\" (integer location)\n",
    "\n",
    "# access row\n",
    "custom_df.iloc[0] # acces by integer location"
   ]
  },
  {
   "cell_type": "code",
   "execution_count": null,
   "metadata": {
    "colab": {
     "base_uri": "https://localhost:8080/",
     "height": 112
    },
    "executionInfo": {
     "elapsed": 15,
     "status": "ok",
     "timestamp": 1655229265612,
     "user": {
      "displayName": "Ismaril",
      "userId": "09094833649721836077"
     },
     "user_tz": -120
    },
    "id": "AHcWeq2kjKDS",
    "outputId": "e69986e2-37ed-41be-8aad-fd45bc6059df"
   },
   "outputs": [],
   "source": [
    "# access multiple rows\n",
    "custom_df.iloc[[0, 2]]"
   ]
  },
  {
   "cell_type": "code",
   "execution_count": null,
   "metadata": {
    "colab": {
     "base_uri": "https://localhost:8080/"
    },
    "executionInfo": {
     "elapsed": 373,
     "status": "ok",
     "timestamp": 1655229265972,
     "user": {
      "displayName": "Ismaril",
      "userId": "09094833649721836077"
     },
     "user_tz": -120
    },
    "id": "9P8y3rwQmSFj",
    "outputId": "6b9459b8-62c7-4558-95b3-82b20354139a"
   },
   "outputs": [],
   "source": [
    "# access (with coordinates) with iloc specified row/s and column/s\n",
    "print(custom_df)\n",
    "print(custom_df.iloc[0, -1]) # access first row, last column "
   ]
  },
  {
   "cell_type": "code",
   "execution_count": null,
   "metadata": {
    "colab": {
     "base_uri": "https://localhost:8080/",
     "height": 112
    },
    "executionInfo": {
     "elapsed": 17,
     "status": "ok",
     "timestamp": 1655229265972,
     "user": {
      "displayName": "Ismaril",
      "userId": "09094833649721836077"
     },
     "user_tz": -120
    },
    "id": "zwkyx5fEnZfz",
    "outputId": "a454842b-dcd0-44ae-8a7e-979b7df67d8e"
   },
   "outputs": [],
   "source": [
    "# more rows, and columns\n",
    "custom_df.iloc[[1, 2], [1, 2]] # access only 2nd & 3rd row + 2nd & 3rd column"
   ]
  },
  {
   "cell_type": "code",
   "execution_count": null,
   "metadata": {
    "colab": {
     "base_uri": "https://localhost:8080/",
     "height": 112
    },
    "executionInfo": {
     "elapsed": 17,
     "status": "ok",
     "timestamp": 1655229265972,
     "user": {
      "displayName": "Ismaril",
      "userId": "09094833649721836077"
     },
     "user_tz": -120
    },
    "id": "Nxw-d9uMDUTh",
    "outputId": "87a9f711-6157-4e99-e380-5dffa8d010b9"
   },
   "outputs": [],
   "source": [
    "# slicing is possible, square brackets must not be used\n",
    "custom_df.iloc[1:3, 1:3]"
   ]
  },
  {
   "cell_type": "code",
   "execution_count": null,
   "metadata": {
    "colab": {
     "base_uri": "https://localhost:8080/"
    },
    "executionInfo": {
     "elapsed": 17,
     "status": "ok",
     "timestamp": 1655229265973,
     "user": {
      "displayName": "Ismaril",
      "userId": "09094833649721836077"
     },
     "user_tz": -120
    },
    "id": "d7Sq_uhmn0Zx",
    "outputId": "1ab70e9e-b5c4-4d5e-a4e1-8e48032f505e"
   },
   "outputs": [],
   "source": [
    "# get columns and rows using \"loc\" (search by name of row/column)\n",
    "# seems that rows are also accessed by integers, but to filter name of \n",
    "#   column at the same time, name of column can be given, instead of integer\n",
    "print(custom_df, end=\"\\n\"*2)\n",
    "\n",
    "print(custom_df.iloc[0]) # acces everything at first row"
   ]
  },
  {
   "cell_type": "code",
   "execution_count": null,
   "metadata": {
    "colab": {
     "base_uri": "https://localhost:8080/",
     "height": 112
    },
    "executionInfo": {
     "elapsed": 15,
     "status": "ok",
     "timestamp": 1655229265973,
     "user": {
      "displayName": "Ismaril",
      "userId": "09094833649721836077"
     },
     "user_tz": -120
    },
    "id": "nvvGFNRn2PlH",
    "outputId": "152b3190-3002-4a3e-f681-9db266c2f1d5"
   },
   "outputs": [],
   "source": [
    "# access more rows\n",
    "custom_df.loc[[0, 2]]"
   ]
  },
  {
   "cell_type": "code",
   "execution_count": null,
   "metadata": {
    "colab": {
     "base_uri": "https://localhost:8080/",
     "height": 112
    },
    "executionInfo": {
     "elapsed": 14,
     "status": "ok",
     "timestamp": 1655229265973,
     "user": {
      "displayName": "Ismaril",
      "userId": "09094833649721836077"
     },
     "user_tz": -120
    },
    "id": "iZxGWUQa2d1p",
    "outputId": "95e0d9e3-d497-4461-b1be-a20fd9c921fc"
   },
   "outputs": [],
   "source": [
    "# acces items based on row and name of column\n",
    "custom_df.loc[[1, 2], [\"sex\", \"age\"]] # select second and third row, and columns by their name"
   ]
  },
  {
   "cell_type": "code",
   "execution_count": null,
   "metadata": {
    "colab": {
     "base_uri": "https://localhost:8080/"
    },
    "executionInfo": {
     "elapsed": 13,
     "status": "ok",
     "timestamp": 1655229265973,
     "user": {
      "displayName": "Ismaril",
      "userId": "09094833649721836077"
     },
     "user_tz": -120
    },
    "id": "zcNEapKn_qxV",
    "outputId": "685abfa8-f822-48fc-f262-359f9eabfdc9"
   },
   "outputs": [],
   "source": [
    "# check names of all columns in a dataset\n",
    "df.columns"
   ]
  },
  {
   "cell_type": "code",
   "execution_count": null,
   "metadata": {
    "colab": {
     "base_uri": "https://localhost:8080/"
    },
    "executionInfo": {
     "elapsed": 12,
     "status": "ok",
     "timestamp": 1655229265973,
     "user": {
      "displayName": "Ismaril",
      "userId": "09094833649721836077"
     },
     "user_tz": -120
    },
    "id": "polNR5V1AQXZ",
    "outputId": "a73770cf-ec1f-42c4-f6fa-4a5674df4f1c"
   },
   "outputs": [],
   "source": [
    "# check value counts of our custom bool values column\n",
    "df[\"some_column1\"].value_counts()"
   ]
  },
  {
   "cell_type": "code",
   "execution_count": null,
   "metadata": {
    "colab": {
     "base_uri": "https://localhost:8080/"
    },
    "executionInfo": {
     "elapsed": 12,
     "status": "ok",
     "timestamp": 1655229265974,
     "user": {
      "displayName": "Ismaril",
      "userId": "09094833649721836077"
     },
     "user_tz": -120
    },
    "id": "-PCPGAiiGmT0",
    "outputId": "04ac5fd1-9d78-4461-fde8-3942b597d8b7"
   },
   "outputs": [],
   "source": [
    "# slice through columns\n",
    "# it is not possible to do it only via square brackets. iloc or loc has to be used, and\n",
    "#   rows can be ommited by colon \":\" \n",
    "df.loc[0, \"some_column1\":\"some_column3\"]"
   ]
  },
  {
   "cell_type": "code",
   "execution_count": null,
   "metadata": {
    "colab": {
     "base_uri": "https://localhost:8080/",
     "height": 424
    },
    "executionInfo": {
     "elapsed": 11,
     "status": "ok",
     "timestamp": 1655229265974,
     "user": {
      "displayName": "Ismaril",
      "userId": "09094833649721836077"
     },
     "user_tz": -120
    },
    "id": "SeITIdVKG-E1",
    "outputId": "4987377e-d380-4fa9-9fab-cded7c241021"
   },
   "outputs": [],
   "source": [
    "df.loc[:, \"some_column1\":\"some_column3\"]"
   ]
  },
  {
   "cell_type": "markdown",
   "metadata": {
    "id": "hQtTR9d7IwaZ"
   },
   "source": [
    "# How to Set, Reset, and Use Indexes"
   ]
  },
  {
   "cell_type": "code",
   "execution_count": null,
   "metadata": {
    "executionInfo": {
     "elapsed": 10,
     "status": "ok",
     "timestamp": 1655229265974,
     "user": {
      "displayName": "Ismaril",
      "userId": "09094833649721836077"
     },
     "user_tz": -120
    },
    "id": "nYkhotEEIxhD"
   },
   "outputs": [],
   "source": [
    "custom_dict2 = {\"name\": [\"Jon\", \"Ponna\", \"Lada\", \"Jožo\", \"Prlajz\"],\n",
    "                \"last name\": [\"Bobo\", \"Wale\", \"Boro\", \"Zajeci\", \"\"],\n",
    "               \"age\": [20, 32, 23, 50, 34],\n",
    "               \"sex\": [\"Male\", \"Female\", \"Female\", \"Male\", \"Dog\"],\n",
    "               \"email\": [\"JJ@email.com\", \"pony@gmail.com\", \"borovice@seznam.cz\", np.nan, np.nan],\n",
    "               \"bills\": [1000, 2000, 1000, 400, 800],\n",
    "               \"salary\": [20000, 25000, 40000, 18000, 19000],\n",
    "               \"country\": [\"USA\", \"Germany\", \"Czechia\", \"Slovakia\", \"Poland\"]}"
   ]
  },
  {
   "cell_type": "code",
   "execution_count": null,
   "metadata": {
    "colab": {
     "base_uri": "https://localhost:8080/",
     "height": 206
    },
    "executionInfo": {
     "elapsed": 9,
     "status": "ok",
     "timestamp": 1655229265974,
     "user": {
      "displayName": "Ismaril",
      "userId": "09094833649721836077"
     },
     "user_tz": -120
    },
    "id": "-Amk3ijEI54D",
    "outputId": "4909de99-f18f-4a5a-84a5-3c602a025517"
   },
   "outputs": [],
   "source": [
    "custom_df2 = pd.DataFrame(custom_dict2)\n",
    "custom_df2"
   ]
  },
  {
   "cell_type": "code",
   "execution_count": null,
   "metadata": {
    "colab": {
     "base_uri": "https://localhost:8080/",
     "height": 238
    },
    "executionInfo": {
     "elapsed": 380,
     "status": "ok",
     "timestamp": 1655229266346,
     "user": {
      "displayName": "Ismaril",
      "userId": "09094833649721836077"
     },
     "user_tz": -120
    },
    "id": "V2VBXbnIJhWy",
    "outputId": "ff11293b-0365-4249-c52f-c3b0b6edca2d"
   },
   "outputs": [],
   "source": [
    "# set email addresses from above dataset as an index (names/labels of rows) of dataset\n",
    "# with this we could use dataframe.loc to search by row name by email\n",
    "\n",
    "# both rows do the same\n",
    "\"\"\"custom_df2 = custom_df2.set_index(\"email\")\"\"\"\n",
    "custom_df2.set_index(\"email\", inplace=True)\n",
    "\n",
    "custom_df2"
   ]
  },
  {
   "cell_type": "code",
   "execution_count": null,
   "metadata": {
    "colab": {
     "base_uri": "https://localhost:8080/"
    },
    "executionInfo": {
     "elapsed": 14,
     "status": "ok",
     "timestamp": 1655229266346,
     "user": {
      "displayName": "Ismaril",
      "userId": "09094833649721836077"
     },
     "user_tz": -120
    },
    "id": "0ESKvYS0Kz6i",
    "outputId": "41786ef2-d51f-47ff-8d8b-e000977a3dab"
   },
   "outputs": [],
   "source": [
    "# check values by indexes\n",
    "print(custom_df2.index) # name of rows\n",
    "print()\n",
    "print(custom_df2.sort_index(ascending=False, inplace=False)) # name of rows sorted, descending\n",
    "print()\n",
    "print(custom_df2.columns) # name of columns"
   ]
  },
  {
   "cell_type": "code",
   "execution_count": null,
   "metadata": {
    "colab": {
     "base_uri": "https://localhost:8080/"
    },
    "executionInfo": {
     "elapsed": 8,
     "status": "ok",
     "timestamp": 1655229266346,
     "user": {
      "displayName": "Ismaril",
      "userId": "09094833649721836077"
     },
     "user_tz": -120
    },
    "id": "SUtUTqGoL8UY",
    "outputId": "95162a31-8c86-4fb7-8b89-01caceb9e60f"
   },
   "outputs": [],
   "source": [
    "custom_df2.loc[\"JJ@email.com\"]"
   ]
  },
  {
   "cell_type": "code",
   "execution_count": null,
   "metadata": {
    "colab": {
     "base_uri": "https://localhost:8080/",
     "height": 206
    },
    "executionInfo": {
     "elapsed": 7,
     "status": "ok",
     "timestamp": 1655229266347,
     "user": {
      "displayName": "Ismaril",
      "userId": "09094833649721836077"
     },
     "user_tz": -120
    },
    "id": "0LXKIQlLMbow",
    "outputId": "ee6cfff2-698b-42b0-8f9a-f1ba759b38f6"
   },
   "outputs": [],
   "source": [
    "# return row names / indexes back to original values\n",
    "custom_df2.reset_index(inplace=True)\n",
    "custom_df2"
   ]
  },
  {
   "cell_type": "markdown",
   "metadata": {
    "id": "7CLKZT-DRNiN"
   },
   "source": [
    "# Using Conditionals to Filter Rows and Columns\n",
    "& = AND;\n",
    "| = OR;\n",
    "~ = NOT;\n"
   ]
  },
  {
   "cell_type": "code",
   "execution_count": null,
   "metadata": {
    "colab": {
     "base_uri": "https://localhost:8080/",
     "height": 112
    },
    "executionInfo": {
     "elapsed": 6,
     "status": "ok",
     "timestamp": 1655229266347,
     "user": {
      "displayName": "Ismaril",
      "userId": "09094833649721836077"
     },
     "user_tz": -120
    },
    "id": "vxvS7LVVSXir",
    "outputId": "03b923e4-4121-4107-e7fa-bd0f0b3fd79b"
   },
   "outputs": [],
   "source": [
    "# filter out only people that are Female\n",
    "filter1 = (custom_df2[\"sex\"] == \"Female\")\n",
    "\n",
    "custom_df2[filter1]"
   ]
  },
  {
   "cell_type": "code",
   "execution_count": null,
   "metadata": {
    "colab": {
     "base_uri": "https://localhost:8080/",
     "height": 112
    },
    "executionInfo": {
     "elapsed": 585,
     "status": "ok",
     "timestamp": 1655229266927,
     "user": {
      "displayName": "Ismaril",
      "userId": "09094833649721836077"
     },
     "user_tz": -120
    },
    "id": "pKRINZpQupHs",
    "outputId": "e6c213e5-05fe-431b-d8c9-4a5c9c564460"
   },
   "outputs": [],
   "source": [
    "# also possible to to the same with \"loc\"\n",
    "# loc will allow us more options, like also filter columns etc\n",
    "custom_df2.loc[filter1]"
   ]
  },
  {
   "cell_type": "code",
   "execution_count": null,
   "metadata": {
    "colab": {
     "base_uri": "https://localhost:8080/"
    },
    "executionInfo": {
     "elapsed": 34,
     "status": "ok",
     "timestamp": 1655229266927,
     "user": {
      "displayName": "Ismaril",
      "userId": "09094833649721836077"
     },
     "user_tz": -120
    },
    "id": "DhEoppzbu_wT",
    "outputId": "44716725-de1f-4aa5-cfd3-f86d5692a2b8"
   },
   "outputs": [],
   "source": [
    "# filter emails of all females\n",
    "custom_df2.loc[filter1, \"email\"]"
   ]
  },
  {
   "cell_type": "code",
   "execution_count": null,
   "metadata": {
    "colab": {
     "base_uri": "https://localhost:8080/",
     "height": 112
    },
    "executionInfo": {
     "elapsed": 29,
     "status": "ok",
     "timestamp": 1655229266927,
     "user": {
      "displayName": "Ismaril",
      "userId": "09094833649721836077"
     },
     "user_tz": -120
    },
    "id": "vF2wQ7laDexi",
    "outputId": "9881b3e0-4b9d-483c-8d30-9ba4ad710104"
   },
   "outputs": [],
   "source": [
    "# filter with more conditions\n",
    "# (& = AND) (| = OR)\n",
    "\n",
    "# filter everyone who meets atleast one of these conditions\n",
    "filter2 = (custom_df2[\"name\"] == \"Jon\") | (custom_df2[\"bills\"] == 1000)\n",
    "\n",
    "custom_df2.loc[filter2]"
   ]
  },
  {
   "cell_type": "code",
   "execution_count": null,
   "metadata": {
    "colab": {
     "base_uri": "https://localhost:8080/",
     "height": 81
    },
    "executionInfo": {
     "elapsed": 30,
     "status": "ok",
     "timestamp": 1655229266928,
     "user": {
      "displayName": "Ismaril",
      "userId": "09094833649721836077"
     },
     "user_tz": -120
    },
    "id": "MVZcXTfiEVwM",
    "outputId": "0d6119ad-840b-4259-ec41-3bfe4004ca7c"
   },
   "outputs": [],
   "source": [
    "# filter everyone who meets exactly those two conditions\n",
    "filter3 = (custom_df2[\"name\"] == \"Jon\") & (custom_df2[\"bills\"] == 1000)\n",
    "\n",
    "custom_df2.loc[filter3]"
   ]
  },
  {
   "cell_type": "code",
   "execution_count": null,
   "metadata": {
    "colab": {
     "base_uri": "https://localhost:8080/",
     "height": 143
    },
    "executionInfo": {
     "elapsed": 29,
     "status": "ok",
     "timestamp": 1655229266928,
     "user": {
      "displayName": "Ismaril",
      "userId": "09094833649721836077"
     },
     "user_tz": -120
    },
    "id": "rIydGZz6F1jI",
    "outputId": "3baa3bd7-22e6-4c78-da1f-0ba783643425"
   },
   "outputs": [],
   "source": [
    "# filter everyone who DOES NOT meets exactly those two conditions\n",
    "# ~ sign\n",
    "\n",
    "filter4 = ~(custom_df2[\"name\"] == \"Jon\") & ~(custom_df2[\"bills\"] == 1000)\n",
    "\n",
    "custom_df2.loc[filter4]"
   ]
  },
  {
   "cell_type": "code",
   "execution_count": null,
   "metadata": {
    "colab": {
     "base_uri": "https://localhost:8080/",
     "height": 81
    },
    "executionInfo": {
     "elapsed": 28,
     "status": "ok",
     "timestamp": 1655229266928,
     "user": {
      "displayName": "Ismaril",
      "userId": "09094833649721836077"
     },
     "user_tz": -120
    },
    "id": "n4UNXFP8Hes1",
    "outputId": "42600981-6dee-427d-9a78-eb7f75d3409d"
   },
   "outputs": [],
   "source": [
    "# filter everyone with bills higher than 1000,\n",
    "\n",
    "# < > operator\n",
    "\n",
    "filter5 = custom_df2[\"bills\"] > 1000\n",
    "custom_df2.loc[filter5]"
   ]
  },
  {
   "cell_type": "code",
   "execution_count": null,
   "metadata": {
    "colab": {
     "base_uri": "https://localhost:8080/",
     "height": 112
    },
    "executionInfo": {
     "elapsed": 27,
     "status": "ok",
     "timestamp": 1655229266928,
     "user": {
      "displayName": "Ismaril",
      "userId": "09094833649721836077"
     },
     "user_tz": -120
    },
    "id": "b3mJb4h_I-Hy",
    "outputId": "0d6975ac-4044-42bb-907f-8a051894693d"
   },
   "outputs": [],
   "source": [
    "# filter everyone with salary below 20000 and from Czechia, Slovakia and Poland\n",
    "\n",
    "countries = [\"Czechia\", \"Slovakia\", \"Poland\"]\n",
    "\n",
    "filter_6a = custom_df2[\"salary\"] < 20_000\n",
    "filter_6b = custom_df2[\"country\"].isin(countries) # filter all rows that have specified countires\n",
    "filter6 = filter_6a & filter_6b\n",
    "\n",
    "custom_df2.loc[filter6]"
   ]
  },
  {
   "cell_type": "code",
   "execution_count": null,
   "metadata": {
    "colab": {
     "base_uri": "https://localhost:8080/",
     "height": 112
    },
    "executionInfo": {
     "elapsed": 27,
     "status": "ok",
     "timestamp": 1655229266929,
     "user": {
      "displayName": "Ismaril",
      "userId": "09094833649721836077"
     },
     "user_tz": -120
    },
    "id": "nfvgOWk2Qmo0",
    "outputId": "e2ab3f43-7da7-4c9e-c105-ffdebf19388b"
   },
   "outputs": [],
   "source": [
    "# filer only rows that contain a given string\n",
    "\n",
    "# na = do not return values that have N/A in a given specification\n",
    "filter7 = custom_df2[\"country\"].str.contains(\"ia\", na=False)\n",
    "\n",
    "custom_df2.loc[filter7]"
   ]
  },
  {
   "cell_type": "markdown",
   "metadata": {
    "id": "FLXuxsu-S9Uz"
   },
   "source": [
    "# Updating Rows and Columns - Modifying Data Within DataFrames"
   ]
  },
  {
   "cell_type": "code",
   "execution_count": null,
   "metadata": {
    "colab": {
     "base_uri": "https://localhost:8080/"
    },
    "executionInfo": {
     "elapsed": 26,
     "status": "ok",
     "timestamp": 1655229266929,
     "user": {
      "displayName": "Ismaril",
      "userId": "09094833649721836077"
     },
     "user_tz": -120
    },
    "id": "qpoVC1wYS-Jt",
    "outputId": "5d61ab29-8601-40cf-c9ad-8954c3e08cb9"
   },
   "outputs": [],
   "source": [
    "custom_df2.columns"
   ]
  },
  {
   "cell_type": "code",
   "execution_count": null,
   "metadata": {
    "colab": {
     "base_uri": "https://localhost:8080/"
    },
    "executionInfo": {
     "elapsed": 24,
     "status": "ok",
     "timestamp": 1655229266929,
     "user": {
      "displayName": "Ismaril",
      "userId": "09094833649721836077"
     },
     "user_tz": -120
    },
    "id": "1okwKUvxVmEF",
    "outputId": "587ea644-9dec-4639-8011-34d9126fb7af"
   },
   "outputs": [],
   "source": [
    "# update names of all column names to uppercase\n",
    "\n",
    "custom_df2.columns = [name.title() for name in custom_df2.columns]\n",
    "custom_df2.columns"
   ]
  },
  {
   "cell_type": "code",
   "execution_count": null,
   "metadata": {
    "colab": {
     "base_uri": "https://localhost:8080/",
     "height": 206
    },
    "executionInfo": {
     "elapsed": 23,
     "status": "ok",
     "timestamp": 1655229266930,
     "user": {
      "displayName": "Ismaril",
      "userId": "09094833649721836077"
     },
     "user_tz": -120
    },
    "id": "_bX7rlBkWdbj",
    "outputId": "b8f46487-1d3d-429d-b565-a4e7b06d352c"
   },
   "outputs": [],
   "source": [
    "# rename column / columns\n",
    "\n",
    "custom_df2.rename(columns={\"Email\": \"Mail\", \"Name\": \"First_name\"}, inplace=True)\n",
    "custom_df2"
   ]
  },
  {
   "cell_type": "code",
   "execution_count": null,
   "metadata": {
    "colab": {
     "base_uri": "https://localhost:8080/",
     "height": 206
    },
    "executionInfo": {
     "elapsed": 22,
     "status": "ok",
     "timestamp": 1655229266930,
     "user": {
      "displayName": "Ismaril",
      "userId": "09094833649721836077"
     },
     "user_tz": -120
    },
    "id": "k9abUw-LX7Zr",
    "outputId": "cf98b29c-e728-472c-d11b-c76f92f267e3"
   },
   "outputs": [],
   "source": [
    "# change a some singl value in a dataset\n",
    "\n",
    "# change Jožos salary to 18500\n",
    "\n",
    "filter8 = custom_df2[\"First_name\"].str.contains(\"Jožo\")\n",
    "\n",
    "custom_df2.loc[filter8, \"Salary\"] = 18500\n",
    "custom_df2"
   ]
  },
  {
   "cell_type": "code",
   "execution_count": null,
   "metadata": {
    "colab": {
     "base_uri": "https://localhost:8080/",
     "height": 206
    },
    "executionInfo": {
     "elapsed": 22,
     "status": "ok",
     "timestamp": 1655229266930,
     "user": {
      "displayName": "Ismaril",
      "userId": "09094833649721836077"
     },
     "user_tz": -120
    },
    "id": "MQN82LjNY7Rt",
    "outputId": "bc970375-72cb-442a-8637-2abfa4f47028"
   },
   "outputs": [],
   "source": [
    "# change whole row\n",
    "\n",
    "# have to assign a value to each column of a given row\n",
    "custom_df2.iloc[0] = [\"Jonny@email.com\", \"Jon\", \"Bobo\", 21, \"Male\", 1400, 22000, \"USA\"]\n",
    "custom_df2"
   ]
  },
  {
   "cell_type": "code",
   "execution_count": null,
   "metadata": {
    "colab": {
     "base_uri": "https://localhost:8080/",
     "height": 206
    },
    "executionInfo": {
     "elapsed": 21,
     "status": "ok",
     "timestamp": 1655229266930,
     "user": {
      "displayName": "Ismaril",
      "userId": "09094833649721836077"
     },
     "user_tz": -120
    },
    "id": "vUG4w07tefIU",
    "outputId": "bf924b4c-7688-49ea-c88a-1aa5fa29ea6c"
   },
   "outputs": [],
   "source": [
    "# Change all values of a given column - integers\n",
    "\n",
    "custom_df2[\"Salary\"] = custom_df2[\"Salary\"] + 10_000\n",
    "custom_df2"
   ]
  },
  {
   "cell_type": "code",
   "execution_count": null,
   "metadata": {
    "colab": {
     "base_uri": "https://localhost:8080/",
     "height": 206
    },
    "executionInfo": {
     "elapsed": 21,
     "status": "ok",
     "timestamp": 1655229266931,
     "user": {
      "displayName": "Ismaril",
      "userId": "09094833649721836077"
     },
     "user_tz": -120
    },
    "id": "sZsj35gmfeGw",
    "outputId": "0a49fd5d-9cf8-43bb-ad40-89d80edae049"
   },
   "outputs": [],
   "source": [
    "# change all values of a given column - strings\n",
    "\n",
    "custom_df2[\"Sex\"] = custom_df2[\"Sex\"].str.lower()\n",
    "custom_df2"
   ]
  },
  {
   "cell_type": "markdown",
   "metadata": {
    "id": "melOzJYTf6D7"
   },
   "source": [
    "#### apply\n",
    "use any ***function()*** that will be applied on each value of a given column\n",
    "\n",
    "- can be used both on series and on dataframes"
   ]
  },
  {
   "cell_type": "code",
   "execution_count": null,
   "metadata": {
    "colab": {
     "base_uri": "https://localhost:8080/"
    },
    "executionInfo": {
     "elapsed": 21,
     "status": "ok",
     "timestamp": 1655229266931,
     "user": {
      "displayName": "Ismaril",
      "userId": "09094833649721836077"
     },
     "user_tz": -120
    },
    "id": "yNDXD0vyhjzG",
    "outputId": "0b0e8fd7-c752-473c-adc7-a6cf7278938e"
   },
   "outputs": [],
   "source": [
    "# use it on a series\n",
    "\n",
    "custom_df2[\"Country\"].apply(len)"
   ]
  },
  {
   "cell_type": "code",
   "execution_count": null,
   "metadata": {
    "colab": {
     "base_uri": "https://localhost:8080/",
     "height": 206
    },
    "executionInfo": {
     "elapsed": 19,
     "status": "ok",
     "timestamp": 1655229266931,
     "user": {
      "displayName": "Ismaril",
      "userId": "09094833649721836077"
     },
     "user_tz": -120
    },
    "id": "-DF2IYKFiHSr",
    "outputId": "318646dd-8c3e-42b9-8f95-25de7a73b56f"
   },
   "outputs": [],
   "source": [
    "# use it on a series\n",
    "\n",
    "def make_upper_case(parameter):\n",
    "  return parameter.upper()\n",
    "\n",
    "custom_df2[\"Country\"] = custom_df2[\"Country\"].apply(make_upper_case)\n",
    "\n",
    "# also possible with lambda\n",
    "custom_df2[\"Sex\"] = custom_df2[\"Sex\"].apply(lambda parameter: parameter.title())\n",
    "\n",
    "custom_df2"
   ]
  },
  {
   "cell_type": "code",
   "execution_count": null,
   "metadata": {
    "colab": {
     "base_uri": "https://localhost:8080/"
    },
    "executionInfo": {
     "elapsed": 586,
     "status": "ok",
     "timestamp": 1655229267499,
     "user": {
      "displayName": "Ismaril",
      "userId": "09094833649721836077"
     },
     "user_tz": -120
    },
    "id": "uyzAKEl6jfLZ",
    "outputId": "22e3542a-c9cf-456f-f3c9-a4f580aed652"
   },
   "outputs": [],
   "source": [
    "# use it on a dataframe\n",
    "\n",
    "# this will return length of each series in a given dataframe\n",
    "print(custom_df2.apply(len, axis=\"rows\"))\n",
    "print()\n",
    "print(custom_df2.apply(len, axis=\"columns\"))"
   ]
  },
  {
   "cell_type": "markdown",
   "metadata": {
    "id": "A7a2dNPYj-6b"
   },
   "source": [
    "#### apply map\n",
    "this will work for each single value in series on the whole dataframe"
   ]
  },
  {
   "cell_type": "code",
   "execution_count": null,
   "metadata": {
    "colab": {
     "base_uri": "https://localhost:8080/",
     "height": 143
    },
    "executionInfo": {
     "elapsed": 42,
     "status": "ok",
     "timestamp": 1655229267500,
     "user": {
      "displayName": "Ismaril",
      "userId": "09094833649721836077"
     },
     "user_tz": -120
    },
    "id": "E_JHys0xlDsH",
    "outputId": "71254d23-ed09-41e9-b73c-db4976f07002"
   },
   "outputs": [],
   "source": [
    "\n",
    "# drop columns with n/a values and integers because len() would not work on that\n",
    "custom_df3 = custom_df2.drop(index=[3, 4], columns=[\"Bills\", \"Salary\", \"Age\"]) \n",
    "\n",
    "# custom_df3\n",
    "custom_df3.applymap(len)"
   ]
  },
  {
   "cell_type": "code",
   "execution_count": null,
   "metadata": {
    "colab": {
     "base_uri": "https://localhost:8080/",
     "height": 143
    },
    "executionInfo": {
     "elapsed": 42,
     "status": "ok",
     "timestamp": 1655229267501,
     "user": {
      "displayName": "Ismaril",
      "userId": "09094833649721836077"
     },
     "user_tz": -120
    },
    "id": "mWWpwUj0lSNu",
    "outputId": "2e19bd8b-fe0a-4ca8-f757-ea10c63d8097"
   },
   "outputs": [],
   "source": [
    "# make all string values of dataframe lower. (integers and na values have to be dorpped)\n",
    "custom_df3.applymap(str.lower)"
   ]
  },
  {
   "cell_type": "markdown",
   "metadata": {
    "id": "DTwH34FnYagw"
   },
   "source": [
    "### map\n",
    "works only on series. Map is used to replace given values by another given values in a siries"
   ]
  },
  {
   "cell_type": "code",
   "execution_count": null,
   "metadata": {
    "colab": {
     "base_uri": "https://localhost:8080/",
     "height": 206
    },
    "executionInfo": {
     "elapsed": 42,
     "status": "ok",
     "timestamp": 1655229267501,
     "user": {
      "displayName": "Ismaril",
      "userId": "09094833649721836077"
     },
     "user_tz": -120
    },
    "id": "f6xEHmFbYbef",
    "outputId": "3702103c-21cb-47ae-f54d-72d951fcc9d5"
   },
   "outputs": [],
   "source": [
    "custom_df2"
   ]
  },
  {
   "cell_type": "code",
   "execution_count": null,
   "metadata": {
    "colab": {
     "base_uri": "https://localhost:8080/",
     "height": 206
    },
    "executionInfo": {
     "elapsed": 42,
     "status": "ok",
     "timestamp": 1655229267502,
     "user": {
      "displayName": "Ismaril",
      "userId": "09094833649721836077"
     },
     "user_tz": -120
    },
    "id": "nTPGcm-dYzan",
    "outputId": "54a565a3-6f73-4626-9679-ebb921f6b649"
   },
   "outputs": [],
   "source": [
    "# replace every specified occurence, not specified occurences will be converted to N/A\n",
    "custom_df4 = custom_df2.copy()\n",
    "custom_df4[\"Sex\"] = custom_df4[\"Sex\"].map({\"Male\": \"Chlap\", \"Female\": \"Zenska\"})\n",
    "custom_df4"
   ]
  },
  {
   "cell_type": "code",
   "execution_count": null,
   "metadata": {
    "colab": {
     "base_uri": "https://localhost:8080/",
     "height": 206
    },
    "executionInfo": {
     "elapsed": 41,
     "status": "ok",
     "timestamp": 1655229267502,
     "user": {
      "displayName": "Ismaril",
      "userId": "09094833649721836077"
     },
     "user_tz": -120
    },
    "id": "dC69MD3EbqM4",
    "outputId": "d5b14b4b-755e-4b5f-b1e8-becce3a85fb1"
   },
   "outputs": [],
   "source": [
    "# replace only specified occurences, not specified occurences will remain the same\n",
    "custom_df5 = custom_df2.copy()\n",
    "custom_df5[\"Sex\"] = custom_df5[\"Sex\"].replace({\"Male\": \"Chlap\", \"Female\": \"Zenska\"})\n",
    "custom_df5"
   ]
  },
  {
   "cell_type": "markdown",
   "metadata": {
    "id": "e8JtKZWRc8m6"
   },
   "source": [
    "# Add/Remove Rows and Columns From DataFrames"
   ]
  },
  {
   "cell_type": "code",
   "execution_count": null,
   "metadata": {
    "colab": {
     "base_uri": "https://localhost:8080/",
     "height": 250
    },
    "executionInfo": {
     "elapsed": 42,
     "status": "ok",
     "timestamp": 1655229267503,
     "user": {
      "displayName": "Ismaril",
      "userId": "09094833649721836077"
     },
     "user_tz": -120
    },
    "id": "pAB1bXA5d-at",
    "outputId": "cd324d14-13ad-41a6-b2fd-21e7ca615645"
   },
   "outputs": [],
   "source": [
    "# add a new row as a combination of existing ones\n",
    "custom_df2[\"Full name\"] = custom_df2[\"First_name\"] + \" \" + custom_df2[\"Last Name\"]\n",
    "custom_df2"
   ]
  },
  {
   "cell_type": "code",
   "execution_count": null,
   "metadata": {
    "colab": {
     "base_uri": "https://localhost:8080/",
     "height": 206
    },
    "executionInfo": {
     "elapsed": 41,
     "status": "ok",
     "timestamp": 1655229267503,
     "user": {
      "displayName": "Ismaril",
      "userId": "09094833649721836077"
     },
     "user_tz": -120
    },
    "id": "dm19GV-xjQI2",
    "outputId": "c7200867-34cc-40c9-a692-171b947ff504"
   },
   "outputs": [],
   "source": [
    "# remove columns\n",
    "\n",
    "custom_df2.drop(columns=[\"First_name\", \"Last Name\"], inplace=True)\n",
    "custom_df2"
   ]
  },
  {
   "cell_type": "code",
   "execution_count": null,
   "metadata": {
    "colab": {
     "base_uri": "https://localhost:8080/",
     "height": 250
    },
    "executionInfo": {
     "elapsed": 41,
     "status": "ok",
     "timestamp": 1655229267503,
     "user": {
      "displayName": "Ismaril",
      "userId": "09094833649721836077"
     },
     "user_tz": -120
    },
    "id": "W6TnO2GnkVdX",
    "outputId": "8d7a3766-9e8c-49ea-dd88-57845971f982"
   },
   "outputs": [],
   "source": [
    "# split existing column into multiple new columns\n",
    "\n",
    "# operation at right side of '=' splits each string item into two items in a list, expand True\n",
    "#   makes from this a pandas dataframe of two columns that are later assigned to their names\n",
    "#   specified of the left side\n",
    "custom_df2[[\"first name\", \"last name\"]] = custom_df2[\"Full name\"].str.split(\" \", expand=True)\n",
    "custom_df2"
   ]
  },
  {
   "cell_type": "markdown",
   "metadata": {
    "id": "kzapv-AImvGN"
   },
   "source": [
    "# add and remove rows"
   ]
  },
  {
   "cell_type": "code",
   "execution_count": null,
   "metadata": {
    "colab": {
     "base_uri": "https://localhost:8080/",
     "height": 316
    },
    "executionInfo": {
     "elapsed": 41,
     "status": "ok",
     "timestamp": 1655229267504,
     "user": {
      "displayName": "Ismaril",
      "userId": "09094833649721836077"
     },
     "user_tz": -120
    },
    "id": "YTNMOc_6mw8j",
    "outputId": "aa2c22bc-68e2-4a52-e7c6-483e780d89b4"
   },
   "outputs": [],
   "source": [
    "# add a new row, with only one value specified\n",
    "custom_df2.append({\"Full name\": \"Vjenc Stejskalu\"}, ignore_index=True)"
   ]
  },
  {
   "cell_type": "code",
   "execution_count": null,
   "metadata": {
    "colab": {
     "base_uri": "https://localhost:8080/",
     "height": 313
    },
    "executionInfo": {
     "elapsed": 41,
     "status": "ok",
     "timestamp": 1655229267504,
     "user": {
      "displayName": "Ismaril",
      "userId": "09094833649721836077"
     },
     "user_tz": -120
    },
    "id": "9NWJZVy3plbL",
    "outputId": "f96edb44-343f-4297-d76f-5d8511f77892"
   },
   "outputs": [],
   "source": [
    "# append a whole dataset\n",
    "custom_df6 = {\"first name\": [\"Ragos\", \"Edward\"],\n",
    "              \"Age\": [99, 100]}\n",
    "custom_df6 = pd.DataFrame(custom_df6)\n",
    "\n",
    "custom_df2 = custom_df2.append(custom_df6, ignore_index=True)\n",
    "custom_df2"
   ]
  },
  {
   "cell_type": "code",
   "execution_count": null,
   "metadata": {
    "colab": {
     "base_uri": "https://localhost:8080/",
     "height": 250
    },
    "executionInfo": {
     "elapsed": 41,
     "status": "ok",
     "timestamp": 1655229267505,
     "user": {
      "displayName": "Ismaril",
      "userId": "09094833649721836077"
     },
     "user_tz": -120
    },
    "id": "sQZh15Dos8-1",
    "outputId": "352185fd-27f8-455d-b650-4ab9dda2ff31"
   },
   "outputs": [],
   "source": [
    "# drop a row/rows\n",
    "custom_df2.drop(index=[5, 6], inplace=True)\n",
    "custom_df2"
   ]
  },
  {
   "cell_type": "code",
   "execution_count": null,
   "metadata": {
    "colab": {
     "base_uri": "https://localhost:8080/",
     "height": 187
    },
    "executionInfo": {
     "elapsed": 41,
     "status": "ok",
     "timestamp": 1655229267505,
     "user": {
      "displayName": "Ismaril",
      "userId": "09094833649721836077"
     },
     "user_tz": -120
    },
    "id": "WN81ejuis-q0",
    "outputId": "3daf57a3-c8df-4237-f4bf-2ff4cb98c5b7"
   },
   "outputs": [],
   "source": [
    "# drop rows with filter (similar like filtering with iloc/loc etc...)\n",
    "filter = custom_df2[\"Salary\"] < 30_000\n",
    "custom_df2.drop(custom_df2[filter].index, inplace=True)\n",
    "custom_df2"
   ]
  },
  {
   "cell_type": "markdown",
   "metadata": {
    "id": "dlccbK9Du2sn"
   },
   "source": [
    "# sorting data"
   ]
  },
  {
   "cell_type": "code",
   "execution_count": null,
   "metadata": {
    "colab": {
     "base_uri": "https://localhost:8080/",
     "height": 250
    },
    "executionInfo": {
     "elapsed": 42,
     "status": "ok",
     "timestamp": 1655229267507,
     "user": {
      "displayName": "Ismaril",
      "userId": "09094833649721836077"
     },
     "user_tz": -120
    },
    "id": "R9GUW0DWu3w1",
    "outputId": "7a238df3-fb42-4204-d858-e97b001869a3"
   },
   "outputs": [],
   "source": [
    "# sort data at a given column\n",
    "custom_df2 = custom_df2.append({\"Bills\": 1000, \"Age\": 40}, ignore_index=True) # add extra row for later use\n",
    "custom_df2 = custom_df2.append({\"Bills\": 1000, \"Age\": 36}, ignore_index=True) # add extra row for later use\n",
    "custom_df2.sort_values(by=\"Bills\", ascending=True)\n",
    "\n",
    "custom_df2"
   ]
  },
  {
   "cell_type": "code",
   "execution_count": null,
   "metadata": {
    "executionInfo": {
     "elapsed": 42,
     "status": "ok",
     "timestamp": 1655229267507,
     "user": {
      "displayName": "Ismaril",
      "userId": "09094833649721836077"
     },
     "user_tz": -120
    },
    "id": "BdSn_qvSvz_s"
   },
   "outputs": [],
   "source": [
    "# sort data based on multiple columns \n",
    "#   (once more rows have the same value, data will be sorted based on next column)\n",
    "\n",
    "# if you want to have sorted by specified columns and have different orders (ascend./descend)\n",
    "#   for each one, add a list of bools into ascending parameter \n",
    "custom_df2.sort_values(by=[\"Bills\", \"Age\"], ascending=[False, True], inplace=True)\n",
    "\n"
   ]
  },
  {
   "cell_type": "code",
   "execution_count": null,
   "metadata": {
    "colab": {
     "base_uri": "https://localhost:8080/",
     "height": 250
    },
    "executionInfo": {
     "elapsed": 41,
     "status": "ok",
     "timestamp": 1655229267507,
     "user": {
      "displayName": "Ismaril",
      "userId": "09094833649721836077"
     },
     "user_tz": -120
    },
    "id": "Jrkg0RR1y2Q2",
    "outputId": "6123fba9-aeb8-49c6-f5e0-581a1269c4fd"
   },
   "outputs": [],
   "source": [
    "# sort back based on number of index column\n",
    "custom_df2.sort_index()"
   ]
  },
  {
   "cell_type": "code",
   "execution_count": null,
   "metadata": {
    "colab": {
     "base_uri": "https://localhost:8080/"
    },
    "executionInfo": {
     "elapsed": 42,
     "status": "ok",
     "timestamp": 1655229267508,
     "user": {
      "displayName": "Ismaril",
      "userId": "09094833649721836077"
     },
     "user_tz": -120
    },
    "id": "x5sstH_B3C22",
    "outputId": "ba2a3b1a-f306-4abb-a0e3-1f825a6c7619"
   },
   "outputs": [],
   "source": [
    "# sort simply just one column\n",
    "custom_df2[\"Salary\"].sort_index()"
   ]
  },
  {
   "cell_type": "code",
   "execution_count": null,
   "metadata": {
    "colab": {
     "base_uri": "https://localhost:8080/"
    },
    "executionInfo": {
     "elapsed": 36,
     "status": "ok",
     "timestamp": 1655229267508,
     "user": {
      "displayName": "Ismaril",
      "userId": "09094833649721836077"
     },
     "user_tz": -120
    },
    "id": "CH8RXCEX396-",
    "outputId": "41887afd-8913-4d5b-ff74-474ca7f30d89"
   },
   "outputs": [],
   "source": [
    "# get largest value (or number of them) from a series\n",
    "custom_df2[\"Salary\"].nlargest(2)"
   ]
  },
  {
   "cell_type": "code",
   "execution_count": null,
   "metadata": {
    "colab": {
     "base_uri": "https://localhost:8080/",
     "height": 156
    },
    "executionInfo": {
     "elapsed": 37,
     "status": "ok",
     "timestamp": 1655229267510,
     "user": {
      "displayName": "Ismaril",
      "userId": "09094833649721836077"
     },
     "user_tz": -120
    },
    "id": "ps8QPKC-4cdD",
    "outputId": "b1fccfef-04d8-4098-b88e-686ca2ecdd4e"
   },
   "outputs": [],
   "source": [
    "# get largest value of a series but return whole dataset\n",
    "custom_df2.nlargest(2, \"Salary\")"
   ]
  },
  {
   "cell_type": "code",
   "execution_count": null,
   "metadata": {
    "colab": {
     "base_uri": "https://localhost:8080/",
     "height": 156
    },
    "executionInfo": {
     "elapsed": 37,
     "status": "ok",
     "timestamp": 1655229267510,
     "user": {
      "displayName": "Ismaril",
      "userId": "09094833649721836077"
     },
     "user_tz": -120
    },
    "id": "9XqPVspj4v-G",
    "outputId": "95ca165b-2f11-489a-bec0-0bb027389d1b"
   },
   "outputs": [],
   "source": [
    "# smallest numbers (just rlly oposite of nlargest)\n",
    "custom_df2.nsmallest(2, \"Salary\")"
   ]
  },
  {
   "cell_type": "markdown",
   "metadata": {
    "id": "hz-UDH3J8oEW"
   },
   "source": [
    "# Grouping and Aggregating - Analyzing and Exploring Your Data\n",
    "aggregation = combining multiple parts of data into single result (mean, median...)"
   ]
  },
  {
   "cell_type": "code",
   "execution_count": null,
   "metadata": {
    "colab": {
     "base_uri": "https://localhost:8080/",
     "height": 409
    },
    "executionInfo": {
     "elapsed": 367,
     "status": "ok",
     "timestamp": 1655229267843,
     "user": {
      "displayName": "Ismaril",
      "userId": "09094833649721836077"
     },
     "user_tz": -120
    },
    "id": "GuHtT67qAGWz",
    "outputId": "55d16aca-237f-447e-9075-e4389ee19c99"
   },
   "outputs": [],
   "source": [
    "df = pd.read_csv(\"https://raw.githubusercontent.com/Ismaril/training/main/Machine%20learning%20Deep%20learning/csv%20files/Data%20Science%20Jobs%20Salaries.csv\")\n",
    "df.head()"
   ]
  },
  {
   "cell_type": "code",
   "execution_count": null,
   "metadata": {
    "colab": {
     "base_uri": "https://localhost:8080/"
    },
    "executionInfo": {
     "elapsed": 38,
     "status": "ok",
     "timestamp": 1655229267845,
     "user": {
      "displayName": "Ismaril",
      "userId": "09094833649721836077"
     },
     "user_tz": -120
    },
    "id": "BmYEqHgETTxi",
    "outputId": "15e3288e-a009-44a2-8fdc-34a8cfbd0015"
   },
   "outputs": [],
   "source": [
    "df.info()"
   ]
  },
  {
   "cell_type": "code",
   "execution_count": null,
   "metadata": {
    "colab": {
     "base_uri": "https://localhost:8080/"
    },
    "executionInfo": {
     "elapsed": 35,
     "status": "ok",
     "timestamp": 1655229267845,
     "user": {
      "displayName": "Ismaril",
      "userId": "09094833649721836077"
     },
     "user_tz": -120
    },
    "id": "r4XFhhji8otA",
    "outputId": "ec32d15a-30da-4b0c-e16d-de62e1eed899"
   },
   "outputs": [],
   "source": [
    "# median (ignores na values)\n",
    "df.median()"
   ]
  },
  {
   "cell_type": "code",
   "execution_count": null,
   "metadata": {
    "colab": {
     "base_uri": "https://localhost:8080/",
     "height": 187
    },
    "executionInfo": {
     "elapsed": 34,
     "status": "ok",
     "timestamp": 1655229267846,
     "user": {
      "displayName": "Ismaril",
      "userId": "09094833649721836077"
     },
     "user_tz": -120
    },
    "id": "0ZR_3tlcCMEo",
    "outputId": "0be349c5-f33c-43c4-cb3a-d3f5ad719b08"
   },
   "outputs": [],
   "source": [
    "# describe, some useful statistics info\n",
    "# count = number of not NAN rows\n",
    "df.describe().T"
   ]
  },
  {
   "cell_type": "code",
   "execution_count": null,
   "metadata": {
    "colab": {
     "base_uri": "https://localhost:8080/"
    },
    "executionInfo": {
     "elapsed": 33,
     "status": "ok",
     "timestamp": 1655229267846,
     "user": {
      "displayName": "Ismaril",
      "userId": "09094833649721836077"
     },
     "user_tz": -120
    },
    "id": "xhfPbx6rCc7R",
    "outputId": "8370ffa2-2f7b-4944-dae7-b513dbcfe0a6"
   },
   "outputs": [],
   "source": [
    "df[\"salary\"].describe()"
   ]
  },
  {
   "cell_type": "code",
   "execution_count": null,
   "metadata": {
    "colab": {
     "base_uri": "https://localhost:8080/"
    },
    "executionInfo": {
     "elapsed": 31,
     "status": "ok",
     "timestamp": 1655229267846,
     "user": {
      "displayName": "Ismaril",
      "userId": "09094833649721836077"
     },
     "user_tz": -120
    },
    "id": "DNb2AJ_jEG-q",
    "outputId": "c64ba353-f977-404a-eed0-4042556706bf"
   },
   "outputs": [],
   "source": [
    "# summary of certain values in a given column\n",
    "df[\"employment_type\"].value_counts()"
   ]
  },
  {
   "cell_type": "code",
   "execution_count": null,
   "metadata": {
    "colab": {
     "base_uri": "https://localhost:8080/"
    },
    "executionInfo": {
     "elapsed": 29,
     "status": "ok",
     "timestamp": 1655229267846,
     "user": {
      "displayName": "Ismaril",
      "userId": "09094833649721836077"
     },
     "user_tz": -120
    },
    "id": "RDtrD0BZGNqr",
    "outputId": "f30e1d7e-d177-4c22-d44e-cef92a652554"
   },
   "outputs": [],
   "source": [
    "# summary of certain values in a given column as percentage\n",
    "df[\"employment_type\"].value_counts(normalize=True)"
   ]
  },
  {
   "cell_type": "code",
   "execution_count": null,
   "metadata": {
    "colab": {
     "base_uri": "https://localhost:8080/",
     "height": 294
    },
    "executionInfo": {
     "elapsed": 27,
     "status": "ok",
     "timestamp": 1655229267847,
     "user": {
      "displayName": "Ismaril",
      "userId": "09094833649721836077"
     },
     "user_tz": -120
    },
    "id": "9T9zIsEQGkwd",
    "outputId": "565b25a8-f85f-4636-e0ba-1a6391b0a41b"
   },
   "outputs": [],
   "source": [
    "# groupby = spliting the data, applying a function, combining the results\n",
    "\n",
    "\n",
    "# group by employee residence\n",
    "country_group = df.groupby([\"employee_residence\"])\n",
    "\n",
    "# visualise (actually this will return the same result as if we filtered it with loc iloc)\n",
    "country_group.get_group(\"US\").head(3)"
   ]
  },
  {
   "cell_type": "code",
   "execution_count": null,
   "metadata": {
    "colab": {
     "base_uri": "https://localhost:8080/"
    },
    "executionInfo": {
     "elapsed": 25,
     "status": "ok",
     "timestamp": 1655229267847,
     "user": {
      "displayName": "Ismaril",
      "userId": "09094833649721836077"
     },
     "user_tz": -120
    },
    "id": "7rbU0oyUI66a",
    "outputId": "63e4e09f-03bc-494a-e24c-e777e3b7604f"
   },
   "outputs": [],
   "source": [
    "country_group[\"salary_in_usd\"].median().head()"
   ]
  },
  {
   "cell_type": "code",
   "execution_count": null,
   "metadata": {
    "colab": {
     "base_uri": "https://localhost:8080/",
     "height": 238
    },
    "executionInfo": {
     "elapsed": 22,
     "status": "ok",
     "timestamp": 1655229267847,
     "user": {
      "displayName": "Ismaril",
      "userId": "09094833649721836077"
     },
     "user_tz": -120
    },
    "id": "ZqYcCEm_NK9S",
    "outputId": "c357854a-e8bc-4fef-bd40-fc60fdd6e4ea"
   },
   "outputs": [],
   "source": [
    "# use aggregate function to apply multiple functions on a given 'groupby' dataset\n",
    "country_group[\"salary_in_usd\"].agg([\"median\", \"min\"]).head()"
   ]
  },
  {
   "cell_type": "code",
   "execution_count": null,
   "metadata": {
    "colab": {
     "base_uri": "https://localhost:8080/"
    },
    "executionInfo": {
     "elapsed": 21,
     "status": "ok",
     "timestamp": 1655229267847,
     "user": {
      "displayName": "Ismaril",
      "userId": "09094833649721836077"
     },
     "user_tz": -120
    },
    "id": "6B8ufKCpN0h8",
    "outputId": "0d7b3928-5271-4386-c17d-b0c74de883c7"
   },
   "outputs": [],
   "source": [
    "# check only US\n",
    "country_group[\"salary_in_usd\"].agg([\"median\", \"min\"]).loc[\"US\"]"
   ]
  },
  {
   "cell_type": "code",
   "execution_count": null,
   "metadata": {
    "colab": {
     "base_uri": "https://localhost:8080/"
    },
    "executionInfo": {
     "elapsed": 17,
     "status": "ok",
     "timestamp": 1655229267847,
     "user": {
      "displayName": "Ismaril",
      "userId": "09094833649721836077"
     },
     "user_tz": -120
    },
    "id": "FsJZh1PJPm9r",
    "outputId": "ab96f0a8-95c6-457e-ca6c-2b8a33a6ddf2"
   },
   "outputs": [],
   "source": [
    "# filter out sum of number of reasearches by country\n",
    "\n",
    "# note that on group object, you have to use apply method and inside it a function\n",
    "_ = country_group[\"job_title\"].apply(lambda x: x.str.contains(\"Research\").sum())\n",
    "\n",
    "df_ = _.copy()\n",
    "# filter out rows that do not have researchers\n",
    "filter = _ != False\n",
    "_.loc[filter]"
   ]
  },
  {
   "cell_type": "markdown",
   "metadata": {
    "id": "UGWCNj_GShor"
   },
   "source": [
    "# Cleaning Data - Casting Datatypes and Handling Missing Values"
   ]
  },
  {
   "cell_type": "code",
   "execution_count": null,
   "metadata": {
    "colab": {
     "base_uri": "https://localhost:8080/",
     "height": 379
    },
    "executionInfo": {
     "elapsed": 15,
     "status": "ok",
     "timestamp": 1655229267848,
     "user": {
      "displayName": "Ismaril",
      "userId": "09094833649721836077"
     },
     "user_tz": -120
    },
    "id": "xAIRf1kGl0w5",
    "outputId": "cb8612cd-52f8-4ed6-dc94-7e3777435f08"
   },
   "outputs": [],
   "source": [
    "df = custom_df2.append({\"first name\":\"Kuro\",\n",
    "                        \"Mail\": \"NA\",\n",
    "                        \"Age\": \"NA\",\n",
    "                        \"Sex\": \"NA\",\n",
    "                        \"Salary\": \"NA\",\n",
    "                        \"Country\": \"NA\",\n",
    "                        \"Full name\": \"missing\",\n",
    "                        \"last name\": \"missing\",\n",
    "                        \"Bills\": \"missing\"}, ignore_index=True)\n",
    "df = df.append({\"first name\":\"Zdeno\", \"Mail\": \"Missing\"}, ignore_index=True)\n",
    "df = df.append({\"first name\":\"Jaro\",\"Age\": None, \"Country\": None}, ignore_index=True)\n",
    "\n",
    "df"
   ]
  },
  {
   "cell_type": "code",
   "execution_count": null,
   "metadata": {
    "colab": {
     "base_uri": "https://localhost:8080/",
     "height": 254
    },
    "executionInfo": {
     "elapsed": 15,
     "status": "ok",
     "timestamp": 1655229267849,
     "user": {
      "displayName": "Ismaril",
      "userId": "09094833649721836077"
     },
     "user_tz": -120
    },
    "id": "rWt4zqJBoCSS",
    "outputId": "51e74aee-15d2-48e8-a012-156ee4e0c200"
   },
   "outputs": [],
   "source": [
    "df.dropna()"
   ]
  },
  {
   "cell_type": "code",
   "execution_count": null,
   "metadata": {
    "executionInfo": {
     "elapsed": 18,
     "status": "ok",
     "timestamp": 1655229267852,
     "user": {
      "displayName": "Ismaril",
      "userId": "09094833649721836077"
     },
     "user_tz": -120
    },
    "id": "pJct8CHwUS8O"
   },
   "outputs": [],
   "source": [
    "# what dropna has actually as default param"
   ]
  },
  {
   "cell_type": "code",
   "execution_count": null,
   "metadata": {},
   "outputs": [],
   "source": [
    "5+5"
   ]
  },
  {
   "cell_type": "code",
   "execution_count": null,
   "metadata": {},
   "outputs": [],
   "source": []
  }
 ],
 "metadata": {
  "colab": {
   "authorship_tag": "ABX9TyNfR/8B+JxhPthNq6ahJqQr",
   "collapsed_sections": [],
   "name": "pandas.ipynb",
   "provenance": [],
   "toc_visible": true
  },
  "kernelspec": {
   "display_name": "Python 3 (ipykernel)",
   "language": "python",
   "name": "python3"
  },
  "language_info": {
   "codemirror_mode": {
    "name": "ipython",
    "version": 3
   },
   "file_extension": ".py",
   "mimetype": "text/x-python",
   "name": "python",
   "nbconvert_exporter": "python",
   "pygments_lexer": "ipython3",
   "version": "3.10.0"
  }
 },
 "nbformat": 4,
 "nbformat_minor": 1
}
