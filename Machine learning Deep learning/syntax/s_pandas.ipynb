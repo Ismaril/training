{
 "cells": [
  {
   "cell_type": "markdown",
   "metadata": {
    "id": "flGB_ncEciYm"
   },
   "source": [
    "# load data"
   ]
  },
  {
   "cell_type": "code",
   "execution_count": 1458,
   "metadata": {
    "executionInfo": {
     "elapsed": 397,
     "status": "ok",
     "timestamp": 1655229264144,
     "user": {
      "displayName": "Ismaril",
      "userId": "09094833649721836077"
     },
     "user_tz": -120
    },
    "id": "N2JHVATgxnV9"
   },
   "outputs": [],
   "source": [
    "import pandas as pd\n",
    "import numpy as np"
   ]
  },
  {
   "cell_type": "code",
   "execution_count": 1459,
   "metadata": {
    "executionInfo": {
     "elapsed": 2,
     "status": "ok",
     "timestamp": 1655229264898,
     "user": {
      "displayName": "Ismaril",
      "userId": "09094833649721836077"
     },
     "user_tz": -120
    },
    "id": "64O6qoWQBdyg"
   },
   "outputs": [],
   "source": [
    "# add some extra random columns with bool values and int values\n",
    "extra_col1 = np.random.randint(0, 2, (87569, 1), dtype=bool)\n",
    "extra_col2 = np.random.randn(87569).reshape((87569, 1))\n",
    "extra_col3 = np.random.randn(87569).reshape((87569, 1))\n",
    "extra_col4 = np.random.randn(87569).reshape((87569, 1))"
   ]
  },
  {
   "cell_type": "code",
   "execution_count": 1460,
   "metadata": {
    "executionInfo": {
     "elapsed": 297,
     "status": "ok",
     "timestamp": 1655229265193,
     "user": {
      "displayName": "Ismaril",
      "userId": "09094833649721836077"
     },
     "user_tz": -120
    },
    "id": "edmnV08-1QiG"
   },
   "outputs": [],
   "source": [
    "df = pd.read_csv(\"https://raw.githubusercontent.com\"\n",
    "                 \"/CoreyMSchafer/code_snippets/master\"\n",
    "                 \"/Python/Matplotlib/02-BarCharts/data.csv\",\n",
    "                 ) # you can specify name of rows directly when loading data, parameter index_col=name of desired column\n",
    "df[\"some_column1\"] = extra_col1\n",
    "df[\"some_column2\"] = extra_col2\n",
    "df[\"some_column3\"] = extra_col3\n",
    "df[\"some_column4\"] = extra_col4"
   ]
  },
  {
   "cell_type": "code",
   "execution_count": 1461,
   "metadata": {
    "colab": {
     "base_uri": "https://localhost:8080/"
    },
    "executionInfo": {
     "elapsed": 9,
     "status": "ok",
     "timestamp": 1655229265194,
     "user": {
      "displayName": "Ismaril",
      "userId": "09094833649721836077"
     },
     "user_tz": -120
    },
    "id": "tWkGkq1wHlUe",
    "outputId": "25340e99-1089-45a2-b796-40535be3cc80"
   },
   "outputs": [
    {
     "data": {
      "text/plain": [
       "(87569, 6)"
      ]
     },
     "execution_count": 1461,
     "metadata": {},
     "output_type": "execute_result"
    }
   ],
   "source": [
    "df.shape # shape is an attribute, not a method, thats why no parentheses"
   ]
  },
  {
   "cell_type": "code",
   "execution_count": 1462,
   "metadata": {
    "colab": {
     "base_uri": "https://localhost:8080/",
     "height": 35
    },
    "executionInfo": {
     "elapsed": 8,
     "status": "ok",
     "timestamp": 1655229265194,
     "user": {
      "displayName": "Ismaril",
      "userId": "09094833649721836077"
     },
     "user_tz": -120
    },
    "id": "2Bdnxdu2khR5",
    "outputId": "93b3614e-ffbd-4dd1-8114-bc0038b67a6c"
   },
   "outputs": [
    {
     "data": {
      "text/plain": [
       "'dataframe - data of multiple series'"
      ]
     },
     "execution_count": 1462,
     "metadata": {},
     "output_type": "execute_result"
    }
   ],
   "source": [
    "# terminology:\n",
    "\n",
    "\"series - data of only one column\"\n",
    "\n",
    "\"dataframe - data of multiple series\""
   ]
  },
  {
   "cell_type": "markdown",
   "metadata": {
    "id": "CQkPG3OyclVt"
   },
   "source": [
    "# basic checking of data"
   ]
  },
  {
   "cell_type": "code",
   "execution_count": 1463,
   "metadata": {
    "colab": {
     "base_uri": "https://localhost:8080/",
     "height": 176
    },
    "executionInfo": {
     "elapsed": 7,
     "status": "ok",
     "timestamp": 1655229265194,
     "user": {
      "displayName": "Ismaril",
      "userId": "09094833649721836077"
     },
     "user_tz": -120
    },
    "id": "xKSySoMQQ0Y0",
    "outputId": "153fd14b-1bbc-4108-e328-2d122eb2adca"
   },
   "outputs": [
    {
     "data": {
      "text/html": [
       "<div>\n",
       "<style scoped>\n",
       "    .dataframe tbody tr th:only-of-type {\n",
       "        vertical-align: middle;\n",
       "    }\n",
       "\n",
       "    .dataframe tbody tr th {\n",
       "        vertical-align: top;\n",
       "    }\n",
       "\n",
       "    .dataframe thead th {\n",
       "        text-align: right;\n",
       "    }\n",
       "</style>\n",
       "<table border=\"1\" class=\"dataframe\">\n",
       "  <thead>\n",
       "    <tr style=\"text-align: right;\">\n",
       "      <th></th>\n",
       "      <th>Responder_id</th>\n",
       "      <th>LanguagesWorkedWith</th>\n",
       "      <th>some_column1</th>\n",
       "      <th>some_column2</th>\n",
       "      <th>some_column3</th>\n",
       "      <th>some_column4</th>\n",
       "    </tr>\n",
       "  </thead>\n",
       "  <tbody>\n",
       "    <tr>\n",
       "      <th>0</th>\n",
       "      <td>1</td>\n",
       "      <td>HTML/CSS;Java;JavaScript;Python</td>\n",
       "      <td>False</td>\n",
       "      <td>-0.467252</td>\n",
       "      <td>-0.579881</td>\n",
       "      <td>1.138696</td>\n",
       "    </tr>\n",
       "    <tr>\n",
       "      <th>1</th>\n",
       "      <td>2</td>\n",
       "      <td>C++;HTML/CSS;Python</td>\n",
       "      <td>False</td>\n",
       "      <td>0.879021</td>\n",
       "      <td>1.336515</td>\n",
       "      <td>-0.811784</td>\n",
       "    </tr>\n",
       "  </tbody>\n",
       "</table>\n",
       "</div>"
      ],
      "text/plain": [
       "   Responder_id              LanguagesWorkedWith  some_column1  some_column2  \\\n",
       "0             1  HTML/CSS;Java;JavaScript;Python         False     -0.467252   \n",
       "1             2              C++;HTML/CSS;Python         False      0.879021   \n",
       "\n",
       "   some_column3  some_column4  \n",
       "0     -0.579881      1.138696  \n",
       "1      1.336515     -0.811784  "
      ]
     },
     "execution_count": 1463,
     "metadata": {},
     "output_type": "execute_result"
    }
   ],
   "source": [
    "# head will display only limited number of rows and columns,\n",
    "#   except pd.set_option(\"display.max_columns\", XXX) is set, to specify desired nr of cols and rows\n",
    "df.head(2)"
   ]
  },
  {
   "cell_type": "code",
   "execution_count": 1464,
   "metadata": {
    "colab": {
     "base_uri": "https://localhost:8080/",
     "height": 176
    },
    "executionInfo": {
     "elapsed": 6,
     "status": "ok",
     "timestamp": 1655229265194,
     "user": {
      "displayName": "Ismaril",
      "userId": "09094833649721836077"
     },
     "user_tz": -120
    },
    "id": "R0pnNWNGb5nt",
    "outputId": "00ca7616-293a-4124-839d-ccc856ca3c02"
   },
   "outputs": [
    {
     "data": {
      "text/html": [
       "<div>\n",
       "<style scoped>\n",
       "    .dataframe tbody tr th:only-of-type {\n",
       "        vertical-align: middle;\n",
       "    }\n",
       "\n",
       "    .dataframe tbody tr th {\n",
       "        vertical-align: top;\n",
       "    }\n",
       "\n",
       "    .dataframe thead th {\n",
       "        text-align: right;\n",
       "    }\n",
       "</style>\n",
       "<table border=\"1\" class=\"dataframe\">\n",
       "  <thead>\n",
       "    <tr style=\"text-align: right;\">\n",
       "      <th></th>\n",
       "      <th>Responder_id</th>\n",
       "      <th>LanguagesWorkedWith</th>\n",
       "      <th>some_column1</th>\n",
       "      <th>some_column2</th>\n",
       "      <th>some_column3</th>\n",
       "      <th>some_column4</th>\n",
       "    </tr>\n",
       "  </thead>\n",
       "  <tbody>\n",
       "    <tr>\n",
       "      <th>87567</th>\n",
       "      <td>88377</td>\n",
       "      <td>HTML/CSS;JavaScript;Other(s):</td>\n",
       "      <td>True</td>\n",
       "      <td>-1.595947</td>\n",
       "      <td>0.897649</td>\n",
       "      <td>1.086302</td>\n",
       "    </tr>\n",
       "    <tr>\n",
       "      <th>87568</th>\n",
       "      <td>88863</td>\n",
       "      <td>Bash/Shell/PowerShell;HTML/CSS;Java;JavaScript...</td>\n",
       "      <td>True</td>\n",
       "      <td>-2.222943</td>\n",
       "      <td>-1.031083</td>\n",
       "      <td>0.402583</td>\n",
       "    </tr>\n",
       "  </tbody>\n",
       "</table>\n",
       "</div>"
      ],
      "text/plain": [
       "       Responder_id                                LanguagesWorkedWith  \\\n",
       "87567         88377                      HTML/CSS;JavaScript;Other(s):   \n",
       "87568         88863  Bash/Shell/PowerShell;HTML/CSS;Java;JavaScript...   \n",
       "\n",
       "       some_column1  some_column2  some_column3  some_column4  \n",
       "87567          True     -1.595947      0.897649      1.086302  \n",
       "87568          True     -2.222943     -1.031083      0.402583  "
      ]
     },
     "execution_count": 1464,
     "metadata": {},
     "output_type": "execute_result"
    }
   ],
   "source": [
    "# this is the same as head, but from the end\n",
    "df.tail(2)"
   ]
  },
  {
   "cell_type": "code",
   "execution_count": 1465,
   "metadata": {
    "colab": {
     "base_uri": "https://localhost:8080/"
    },
    "executionInfo": {
     "elapsed": 7,
     "status": "ok",
     "timestamp": 1655229265195,
     "user": {
      "displayName": "Ismaril",
      "userId": "09094833649721836077"
     },
     "user_tz": -120
    },
    "id": "PnfHAeYNQGj9",
    "outputId": "5fe0e3cc-dd7c-40c3-e44a-9317a0d34952"
   },
   "outputs": [
    {
     "name": "stdout",
     "output_type": "stream",
     "text": [
      "<class 'pandas.core.frame.DataFrame'>\n",
      "RangeIndex: 87569 entries, 0 to 87568\n",
      "Data columns (total 6 columns):\n",
      " #   Column               Non-Null Count  Dtype  \n",
      "---  ------               --------------  -----  \n",
      " 0   Responder_id         87569 non-null  int64  \n",
      " 1   LanguagesWorkedWith  87569 non-null  object \n",
      " 2   some_column1         87569 non-null  bool   \n",
      " 3   some_column2         87569 non-null  float64\n",
      " 4   some_column3         87569 non-null  float64\n",
      " 5   some_column4         87569 non-null  float64\n",
      "dtypes: bool(1), float64(3), int64(1), object(1)\n",
      "memory usage: 3.4+ MB\n"
     ]
    }
   ],
   "source": [
    "df.info()"
   ]
  },
  {
   "cell_type": "code",
   "execution_count": 1466,
   "metadata": {
    "colab": {
     "base_uri": "https://localhost:8080/",
     "height": 35
    },
    "executionInfo": {
     "elapsed": 418,
     "status": "ok",
     "timestamp": 1655229265608,
     "user": {
      "displayName": "Ismaril",
      "userId": "09094833649721836077"
     },
     "user_tz": -120
    },
    "id": "W5QPYlE-Qjr4",
    "outputId": "707f950b-a76d-477c-daed-a6211a1b0896"
   },
   "outputs": [
    {
     "data": {
      "text/plain": [
       "'pd.set_option(\"display.max_rows\", XXX)'"
      ]
     },
     "execution_count": 1466,
     "metadata": {},
     "output_type": "execute_result"
    }
   ],
   "source": [
    "# set custom number of columns to be printed\n",
    "\"\"\"pd.set_option(\"display.max_columns\", 48)\"\"\"\n",
    "\n",
    "# set custom number of rows to be printed\n",
    "\"\"\"pd.set_option(\"display.max_rows\", XXX)\"\"\""
   ]
  },
  {
   "cell_type": "code",
   "execution_count": 1467,
   "metadata": {
    "colab": {
     "base_uri": "https://localhost:8080/",
     "height": 270
    },
    "executionInfo": {
     "elapsed": 32,
     "status": "ok",
     "timestamp": 1655229265609,
     "user": {
      "displayName": "Ismaril",
      "userId": "09094833649721836077"
     },
     "user_tz": -120
    },
    "id": "QaBmC-KQRBVM",
    "outputId": "22fc8ae6-ffb9-4042-8afe-240a902dd350"
   },
   "outputs": [
    {
     "data": {
      "text/html": [
       "<div>\n",
       "<style scoped>\n",
       "    .dataframe tbody tr th:only-of-type {\n",
       "        vertical-align: middle;\n",
       "    }\n",
       "\n",
       "    .dataframe tbody tr th {\n",
       "        vertical-align: top;\n",
       "    }\n",
       "\n",
       "    .dataframe thead th {\n",
       "        text-align: right;\n",
       "    }\n",
       "</style>\n",
       "<table border=\"1\" class=\"dataframe\">\n",
       "  <thead>\n",
       "    <tr style=\"text-align: right;\">\n",
       "      <th></th>\n",
       "      <th>Responder_id</th>\n",
       "      <th>LanguagesWorkedWith</th>\n",
       "      <th>some_column1</th>\n",
       "      <th>some_column2</th>\n",
       "      <th>some_column3</th>\n",
       "      <th>some_column4</th>\n",
       "    </tr>\n",
       "  </thead>\n",
       "  <tbody>\n",
       "    <tr>\n",
       "      <th>0</th>\n",
       "      <td>1</td>\n",
       "      <td>HTML/CSS;Java;JavaScript;Python</td>\n",
       "      <td>False</td>\n",
       "      <td>-0.467252</td>\n",
       "      <td>-0.579881</td>\n",
       "      <td>1.138696</td>\n",
       "    </tr>\n",
       "    <tr>\n",
       "      <th>1</th>\n",
       "      <td>2</td>\n",
       "      <td>C++;HTML/CSS;Python</td>\n",
       "      <td>False</td>\n",
       "      <td>0.879021</td>\n",
       "      <td>1.336515</td>\n",
       "      <td>-0.811784</td>\n",
       "    </tr>\n",
       "    <tr>\n",
       "      <th>2</th>\n",
       "      <td>3</td>\n",
       "      <td>HTML/CSS</td>\n",
       "      <td>True</td>\n",
       "      <td>-0.918523</td>\n",
       "      <td>-1.037106</td>\n",
       "      <td>1.232620</td>\n",
       "    </tr>\n",
       "    <tr>\n",
       "      <th>3</th>\n",
       "      <td>4</td>\n",
       "      <td>C;C++;C#;Python;SQL</td>\n",
       "      <td>True</td>\n",
       "      <td>-1.395522</td>\n",
       "      <td>0.495652</td>\n",
       "      <td>1.052626</td>\n",
       "    </tr>\n",
       "    <tr>\n",
       "      <th>4</th>\n",
       "      <td>5</td>\n",
       "      <td>C++;HTML/CSS;Java;JavaScript;Python;SQL;VBA</td>\n",
       "      <td>False</td>\n",
       "      <td>-2.854811</td>\n",
       "      <td>1.672078</td>\n",
       "      <td>-0.418606</td>\n",
       "    </tr>\n",
       "  </tbody>\n",
       "</table>\n",
       "</div>"
      ],
      "text/plain": [
       "   Responder_id                          LanguagesWorkedWith  some_column1  \\\n",
       "0             1              HTML/CSS;Java;JavaScript;Python         False   \n",
       "1             2                          C++;HTML/CSS;Python         False   \n",
       "2             3                                     HTML/CSS          True   \n",
       "3             4                          C;C++;C#;Python;SQL          True   \n",
       "4             5  C++;HTML/CSS;Java;JavaScript;Python;SQL;VBA         False   \n",
       "\n",
       "   some_column2  some_column3  some_column4  \n",
       "0     -0.467252     -0.579881      1.138696  \n",
       "1      0.879021      1.336515     -0.811784  \n",
       "2     -0.918523     -1.037106      1.232620  \n",
       "3     -1.395522      0.495652      1.052626  \n",
       "4     -2.854811      1.672078     -0.418606  "
      ]
     },
     "execution_count": 1467,
     "metadata": {},
     "output_type": "execute_result"
    }
   ],
   "source": [
    "df.head()"
   ]
  },
  {
   "cell_type": "markdown",
   "metadata": {
    "id": "e-O3_6LEcpGX"
   },
   "source": [
    "# selecting rows and columns"
   ]
  },
  {
   "cell_type": "code",
   "execution_count": 1468,
   "metadata": {
    "colab": {
     "base_uri": "https://localhost:8080/"
    },
    "executionInfo": {
     "elapsed": 32,
     "status": "ok",
     "timestamp": 1655229265609,
     "user": {
      "displayName": "Ismaril",
      "userId": "09094833649721836077"
     },
     "user_tz": -120
    },
    "id": "XEGq-yeVcqtq",
    "outputId": "2ce4b40c-4348-48c0-be92-2272b3d2d5c4"
   },
   "outputs": [
    {
     "data": {
      "text/plain": [
       "['Jon', 'Ponna', 'Lada']"
      ]
     },
     "execution_count": 1468,
     "metadata": {},
     "output_type": "execute_result"
    }
   ],
   "source": [
    "# some idea how might pandas work\n",
    "\n",
    "# here the keys might serve as name of columns and indexes of values (lists) as rows\n",
    "custom_dict = {\"name\": [\"Jon\", \"Ponna\", \"Lada\"],\n",
    "               \"age\": [20, 32, 23],\n",
    "               \"sex\": [\"Male\", \"Female\", \"Female\"]}\n",
    "\n",
    "custom_dict[\"name\"]"
   ]
  },
  {
   "cell_type": "code",
   "execution_count": 1469,
   "metadata": {
    "colab": {
     "base_uri": "https://localhost:8080/",
     "height": 143
    },
    "executionInfo": {
     "elapsed": 29,
     "status": "ok",
     "timestamp": 1655229265610,
     "user": {
      "displayName": "Ismaril",
      "userId": "09094833649721836077"
     },
     "user_tz": -120
    },
    "id": "9cJBfaaBfbR4",
    "outputId": "0b1d34c6-c838-4d9d-9f6a-db210befe5a3"
   },
   "outputs": [
    {
     "data": {
      "text/html": [
       "<div>\n",
       "<style scoped>\n",
       "    .dataframe tbody tr th:only-of-type {\n",
       "        vertical-align: middle;\n",
       "    }\n",
       "\n",
       "    .dataframe tbody tr th {\n",
       "        vertical-align: top;\n",
       "    }\n",
       "\n",
       "    .dataframe thead th {\n",
       "        text-align: right;\n",
       "    }\n",
       "</style>\n",
       "<table border=\"1\" class=\"dataframe\">\n",
       "  <thead>\n",
       "    <tr style=\"text-align: right;\">\n",
       "      <th></th>\n",
       "      <th>name</th>\n",
       "      <th>age</th>\n",
       "      <th>sex</th>\n",
       "    </tr>\n",
       "  </thead>\n",
       "  <tbody>\n",
       "    <tr>\n",
       "      <th>0</th>\n",
       "      <td>Jon</td>\n",
       "      <td>20</td>\n",
       "      <td>Male</td>\n",
       "    </tr>\n",
       "    <tr>\n",
       "      <th>1</th>\n",
       "      <td>Ponna</td>\n",
       "      <td>32</td>\n",
       "      <td>Female</td>\n",
       "    </tr>\n",
       "    <tr>\n",
       "      <th>2</th>\n",
       "      <td>Lada</td>\n",
       "      <td>23</td>\n",
       "      <td>Female</td>\n",
       "    </tr>\n",
       "  </tbody>\n",
       "</table>\n",
       "</div>"
      ],
      "text/plain": [
       "    name  age     sex\n",
       "0    Jon   20    Male\n",
       "1  Ponna   32  Female\n",
       "2   Lada   23  Female"
      ]
     },
     "execution_count": 1469,
     "metadata": {},
     "output_type": "execute_result"
    }
   ],
   "source": [
    "# try to load custom data to pandas\n",
    "\n",
    "custom_df = pd.DataFrame(custom_dict)\n",
    "custom_df"
   ]
  },
  {
   "cell_type": "code",
   "execution_count": 1470,
   "metadata": {
    "colab": {
     "base_uri": "https://localhost:8080/"
    },
    "executionInfo": {
     "elapsed": 28,
     "status": "ok",
     "timestamp": 1655229265610,
     "user": {
      "displayName": "Ismaril",
      "userId": "09094833649721836077"
     },
     "user_tz": -120
    },
    "id": "k1TT2iltgMJC",
    "outputId": "71b6b439-ca26-4891-f5b5-287164c890f5"
   },
   "outputs": [
    {
     "data": {
      "text/plain": [
       "0      Jon\n",
       "1    Ponna\n",
       "2     Lada\n",
       "Name: name, dtype: object"
      ]
     },
     "execution_count": 1470,
     "metadata": {},
     "output_type": "execute_result"
    }
   ],
   "source": [
    "# acces column\n",
    "\n",
    "# it returns the same data as the basic dictionary above, but in pandas format\n",
    "custom_df[\"name\"] "
   ]
  },
  {
   "cell_type": "code",
   "execution_count": 1471,
   "metadata": {
    "colab": {
     "base_uri": "https://localhost:8080/"
    },
    "executionInfo": {
     "elapsed": 25,
     "status": "ok",
     "timestamp": 1655229265610,
     "user": {
      "displayName": "Ismaril",
      "userId": "09094833649721836077"
     },
     "user_tz": -120
    },
    "id": "OK1iBZDWjK-t",
    "outputId": "1f52c545-407c-40a9-a85f-3af0d274d4a2"
   },
   "outputs": [
    {
     "data": {
      "text/plain": [
       "0      Jon\n",
       "1    Ponna\n",
       "2     Lada\n",
       "Name: name, dtype: object"
      ]
     },
     "execution_count": 1471,
     "metadata": {},
     "output_type": "execute_result"
    }
   ],
   "source": [
    "# access column, option 2 \n",
    "# (df.columnname might cause errors, it might get confused with some method)\n",
    "custom_df.name"
   ]
  },
  {
   "cell_type": "code",
   "execution_count": 1472,
   "metadata": {
    "colab": {
     "base_uri": "https://localhost:8080/",
     "height": 143
    },
    "executionInfo": {
     "elapsed": 24,
     "status": "ok",
     "timestamp": 1655229265611,
     "user": {
      "displayName": "Ismaril",
      "userId": "09094833649721836077"
     },
     "user_tz": -120
    },
    "id": "AgKbaQ9TkKPN",
    "outputId": "4d844b90-f3d2-45cf-f2b0-c211631df1b5"
   },
   "outputs": [
    {
     "data": {
      "text/html": [
       "<div>\n",
       "<style scoped>\n",
       "    .dataframe tbody tr th:only-of-type {\n",
       "        vertical-align: middle;\n",
       "    }\n",
       "\n",
       "    .dataframe tbody tr th {\n",
       "        vertical-align: top;\n",
       "    }\n",
       "\n",
       "    .dataframe thead th {\n",
       "        text-align: right;\n",
       "    }\n",
       "</style>\n",
       "<table border=\"1\" class=\"dataframe\">\n",
       "  <thead>\n",
       "    <tr style=\"text-align: right;\">\n",
       "      <th></th>\n",
       "      <th>name</th>\n",
       "      <th>sex</th>\n",
       "    </tr>\n",
       "  </thead>\n",
       "  <tbody>\n",
       "    <tr>\n",
       "      <th>0</th>\n",
       "      <td>Jon</td>\n",
       "      <td>Male</td>\n",
       "    </tr>\n",
       "    <tr>\n",
       "      <th>1</th>\n",
       "      <td>Ponna</td>\n",
       "      <td>Female</td>\n",
       "    </tr>\n",
       "    <tr>\n",
       "      <th>2</th>\n",
       "      <td>Lada</td>\n",
       "      <td>Female</td>\n",
       "    </tr>\n",
       "  </tbody>\n",
       "</table>\n",
       "</div>"
      ],
      "text/plain": [
       "    name     sex\n",
       "0    Jon    Male\n",
       "1  Ponna  Female\n",
       "2   Lada  Female"
      ]
     },
     "execution_count": 1472,
     "metadata": {},
     "output_type": "execute_result"
    }
   ],
   "source": [
    "# access more columns\n",
    "custom_df[[\"name\", \"sex\"]]"
   ]
  },
  {
   "cell_type": "code",
   "execution_count": 1473,
   "metadata": {
    "colab": {
     "base_uri": "https://localhost:8080/"
    },
    "executionInfo": {
     "elapsed": 19,
     "status": "ok",
     "timestamp": 1655229265611,
     "user": {
      "displayName": "Ismaril",
      "userId": "09094833649721836077"
     },
     "user_tz": -120
    },
    "id": "Nli3XUZTlLju",
    "outputId": "b8e43d4c-6fca-4ed0-f276-1a5673c0f39d"
   },
   "outputs": [
    {
     "data": {
      "text/plain": [
       "Index(['name', 'age', 'sex'], dtype='object')"
      ]
     },
     "execution_count": 1473,
     "metadata": {},
     "output_type": "execute_result"
    }
   ],
   "source": [
    "# get name of columns\n",
    "custom_df.columns"
   ]
  },
  {
   "cell_type": "code",
   "execution_count": 1474,
   "metadata": {
    "colab": {
     "base_uri": "https://localhost:8080/"
    },
    "executionInfo": {
     "elapsed": 17,
     "status": "ok",
     "timestamp": 1655229265611,
     "user": {
      "displayName": "Ismaril",
      "userId": "09094833649721836077"
     },
     "user_tz": -120
    },
    "id": "iWpmcldsgZi6",
    "outputId": "66484be4-2667-41df-fb9b-c233670a6c73"
   },
   "outputs": [
    {
     "data": {
      "text/plain": [
       "name     Jon\n",
       "age       20\n",
       "sex     Male\n",
       "Name: 0, dtype: object"
      ]
     },
     "execution_count": 1474,
     "metadata": {},
     "output_type": "execute_result"
    }
   ],
   "source": [
    "# get columns and rows using \"iloc\" (integer location)\n",
    "\n",
    "# access row\n",
    "custom_df.iloc[0] # acces by integer location"
   ]
  },
  {
   "cell_type": "code",
   "execution_count": 1475,
   "metadata": {
    "colab": {
     "base_uri": "https://localhost:8080/",
     "height": 112
    },
    "executionInfo": {
     "elapsed": 15,
     "status": "ok",
     "timestamp": 1655229265612,
     "user": {
      "displayName": "Ismaril",
      "userId": "09094833649721836077"
     },
     "user_tz": -120
    },
    "id": "AHcWeq2kjKDS",
    "outputId": "e69986e2-37ed-41be-8aad-fd45bc6059df"
   },
   "outputs": [
    {
     "data": {
      "text/html": [
       "<div>\n",
       "<style scoped>\n",
       "    .dataframe tbody tr th:only-of-type {\n",
       "        vertical-align: middle;\n",
       "    }\n",
       "\n",
       "    .dataframe tbody tr th {\n",
       "        vertical-align: top;\n",
       "    }\n",
       "\n",
       "    .dataframe thead th {\n",
       "        text-align: right;\n",
       "    }\n",
       "</style>\n",
       "<table border=\"1\" class=\"dataframe\">\n",
       "  <thead>\n",
       "    <tr style=\"text-align: right;\">\n",
       "      <th></th>\n",
       "      <th>name</th>\n",
       "      <th>age</th>\n",
       "      <th>sex</th>\n",
       "    </tr>\n",
       "  </thead>\n",
       "  <tbody>\n",
       "    <tr>\n",
       "      <th>0</th>\n",
       "      <td>Jon</td>\n",
       "      <td>20</td>\n",
       "      <td>Male</td>\n",
       "    </tr>\n",
       "    <tr>\n",
       "      <th>2</th>\n",
       "      <td>Lada</td>\n",
       "      <td>23</td>\n",
       "      <td>Female</td>\n",
       "    </tr>\n",
       "  </tbody>\n",
       "</table>\n",
       "</div>"
      ],
      "text/plain": [
       "   name  age     sex\n",
       "0   Jon   20    Male\n",
       "2  Lada   23  Female"
      ]
     },
     "execution_count": 1475,
     "metadata": {},
     "output_type": "execute_result"
    }
   ],
   "source": [
    "# access multiple rows\n",
    "custom_df.iloc[[0, 2]]"
   ]
  },
  {
   "cell_type": "code",
   "execution_count": 1476,
   "metadata": {
    "colab": {
     "base_uri": "https://localhost:8080/"
    },
    "executionInfo": {
     "elapsed": 373,
     "status": "ok",
     "timestamp": 1655229265972,
     "user": {
      "displayName": "Ismaril",
      "userId": "09094833649721836077"
     },
     "user_tz": -120
    },
    "id": "9P8y3rwQmSFj",
    "outputId": "6b9459b8-62c7-4558-95b3-82b20354139a"
   },
   "outputs": [
    {
     "name": "stdout",
     "output_type": "stream",
     "text": [
      "    name  age     sex\n",
      "0    Jon   20    Male\n",
      "1  Ponna   32  Female\n",
      "2   Lada   23  Female\n",
      "Male\n"
     ]
    }
   ],
   "source": [
    "# access (with coordinates) with iloc specified row/s and column/s\n",
    "print(custom_df)\n",
    "print(custom_df.iloc[0, -1]) # access first row, last column "
   ]
  },
  {
   "cell_type": "code",
   "execution_count": 1477,
   "metadata": {
    "colab": {
     "base_uri": "https://localhost:8080/",
     "height": 112
    },
    "executionInfo": {
     "elapsed": 17,
     "status": "ok",
     "timestamp": 1655229265972,
     "user": {
      "displayName": "Ismaril",
      "userId": "09094833649721836077"
     },
     "user_tz": -120
    },
    "id": "zwkyx5fEnZfz",
    "outputId": "a454842b-dcd0-44ae-8a7e-979b7df67d8e"
   },
   "outputs": [
    {
     "data": {
      "text/html": [
       "<div>\n",
       "<style scoped>\n",
       "    .dataframe tbody tr th:only-of-type {\n",
       "        vertical-align: middle;\n",
       "    }\n",
       "\n",
       "    .dataframe tbody tr th {\n",
       "        vertical-align: top;\n",
       "    }\n",
       "\n",
       "    .dataframe thead th {\n",
       "        text-align: right;\n",
       "    }\n",
       "</style>\n",
       "<table border=\"1\" class=\"dataframe\">\n",
       "  <thead>\n",
       "    <tr style=\"text-align: right;\">\n",
       "      <th></th>\n",
       "      <th>age</th>\n",
       "      <th>sex</th>\n",
       "    </tr>\n",
       "  </thead>\n",
       "  <tbody>\n",
       "    <tr>\n",
       "      <th>1</th>\n",
       "      <td>32</td>\n",
       "      <td>Female</td>\n",
       "    </tr>\n",
       "    <tr>\n",
       "      <th>2</th>\n",
       "      <td>23</td>\n",
       "      <td>Female</td>\n",
       "    </tr>\n",
       "  </tbody>\n",
       "</table>\n",
       "</div>"
      ],
      "text/plain": [
       "   age     sex\n",
       "1   32  Female\n",
       "2   23  Female"
      ]
     },
     "execution_count": 1477,
     "metadata": {},
     "output_type": "execute_result"
    }
   ],
   "source": [
    "# more rows, and columns\n",
    "custom_df.iloc[[1, 2], [1, 2]] # access only 2nd & 3rd row + 2nd & 3rd column"
   ]
  },
  {
   "cell_type": "code",
   "execution_count": 1478,
   "metadata": {
    "colab": {
     "base_uri": "https://localhost:8080/",
     "height": 112
    },
    "executionInfo": {
     "elapsed": 17,
     "status": "ok",
     "timestamp": 1655229265972,
     "user": {
      "displayName": "Ismaril",
      "userId": "09094833649721836077"
     },
     "user_tz": -120
    },
    "id": "Nxw-d9uMDUTh",
    "outputId": "87a9f711-6157-4e99-e380-5dffa8d010b9"
   },
   "outputs": [
    {
     "data": {
      "text/html": [
       "<div>\n",
       "<style scoped>\n",
       "    .dataframe tbody tr th:only-of-type {\n",
       "        vertical-align: middle;\n",
       "    }\n",
       "\n",
       "    .dataframe tbody tr th {\n",
       "        vertical-align: top;\n",
       "    }\n",
       "\n",
       "    .dataframe thead th {\n",
       "        text-align: right;\n",
       "    }\n",
       "</style>\n",
       "<table border=\"1\" class=\"dataframe\">\n",
       "  <thead>\n",
       "    <tr style=\"text-align: right;\">\n",
       "      <th></th>\n",
       "      <th>age</th>\n",
       "      <th>sex</th>\n",
       "    </tr>\n",
       "  </thead>\n",
       "  <tbody>\n",
       "    <tr>\n",
       "      <th>1</th>\n",
       "      <td>32</td>\n",
       "      <td>Female</td>\n",
       "    </tr>\n",
       "    <tr>\n",
       "      <th>2</th>\n",
       "      <td>23</td>\n",
       "      <td>Female</td>\n",
       "    </tr>\n",
       "  </tbody>\n",
       "</table>\n",
       "</div>"
      ],
      "text/plain": [
       "   age     sex\n",
       "1   32  Female\n",
       "2   23  Female"
      ]
     },
     "execution_count": 1478,
     "metadata": {},
     "output_type": "execute_result"
    }
   ],
   "source": [
    "# slicing is possible, square brackets must not be used\n",
    "custom_df.iloc[1:3, 1:3]"
   ]
  },
  {
   "cell_type": "code",
   "execution_count": 1479,
   "metadata": {
    "colab": {
     "base_uri": "https://localhost:8080/"
    },
    "executionInfo": {
     "elapsed": 17,
     "status": "ok",
     "timestamp": 1655229265973,
     "user": {
      "displayName": "Ismaril",
      "userId": "09094833649721836077"
     },
     "user_tz": -120
    },
    "id": "d7Sq_uhmn0Zx",
    "outputId": "1ab70e9e-b5c4-4d5e-a4e1-8e48032f505e"
   },
   "outputs": [
    {
     "name": "stdout",
     "output_type": "stream",
     "text": [
      "    name  age     sex\n",
      "0    Jon   20    Male\n",
      "1  Ponna   32  Female\n",
      "2   Lada   23  Female\n",
      "\n",
      "name     Jon\n",
      "age       20\n",
      "sex     Male\n",
      "Name: 0, dtype: object\n"
     ]
    }
   ],
   "source": [
    "# get columns and rows using \"loc\" (search by name of row/column)\n",
    "# seems that rows are also accessed by integers, but to filter name of \n",
    "#   column at the same time, name of column can be given, instead of integer\n",
    "print(custom_df, end=\"\\n\"*2)\n",
    "\n",
    "print(custom_df.iloc[0]) # acces everything at first row"
   ]
  },
  {
   "cell_type": "code",
   "execution_count": 1480,
   "metadata": {
    "colab": {
     "base_uri": "https://localhost:8080/",
     "height": 112
    },
    "executionInfo": {
     "elapsed": 15,
     "status": "ok",
     "timestamp": 1655229265973,
     "user": {
      "displayName": "Ismaril",
      "userId": "09094833649721836077"
     },
     "user_tz": -120
    },
    "id": "nvvGFNRn2PlH",
    "outputId": "152b3190-3002-4a3e-f681-9db266c2f1d5"
   },
   "outputs": [
    {
     "data": {
      "text/html": [
       "<div>\n",
       "<style scoped>\n",
       "    .dataframe tbody tr th:only-of-type {\n",
       "        vertical-align: middle;\n",
       "    }\n",
       "\n",
       "    .dataframe tbody tr th {\n",
       "        vertical-align: top;\n",
       "    }\n",
       "\n",
       "    .dataframe thead th {\n",
       "        text-align: right;\n",
       "    }\n",
       "</style>\n",
       "<table border=\"1\" class=\"dataframe\">\n",
       "  <thead>\n",
       "    <tr style=\"text-align: right;\">\n",
       "      <th></th>\n",
       "      <th>name</th>\n",
       "      <th>age</th>\n",
       "      <th>sex</th>\n",
       "    </tr>\n",
       "  </thead>\n",
       "  <tbody>\n",
       "    <tr>\n",
       "      <th>0</th>\n",
       "      <td>Jon</td>\n",
       "      <td>20</td>\n",
       "      <td>Male</td>\n",
       "    </tr>\n",
       "    <tr>\n",
       "      <th>2</th>\n",
       "      <td>Lada</td>\n",
       "      <td>23</td>\n",
       "      <td>Female</td>\n",
       "    </tr>\n",
       "  </tbody>\n",
       "</table>\n",
       "</div>"
      ],
      "text/plain": [
       "   name  age     sex\n",
       "0   Jon   20    Male\n",
       "2  Lada   23  Female"
      ]
     },
     "execution_count": 1480,
     "metadata": {},
     "output_type": "execute_result"
    }
   ],
   "source": [
    "# access more rows\n",
    "custom_df.loc[[0, 2]]"
   ]
  },
  {
   "cell_type": "code",
   "execution_count": 1481,
   "metadata": {
    "colab": {
     "base_uri": "https://localhost:8080/",
     "height": 112
    },
    "executionInfo": {
     "elapsed": 14,
     "status": "ok",
     "timestamp": 1655229265973,
     "user": {
      "displayName": "Ismaril",
      "userId": "09094833649721836077"
     },
     "user_tz": -120
    },
    "id": "iZxGWUQa2d1p",
    "outputId": "95e0d9e3-d497-4461-b1be-a20fd9c921fc"
   },
   "outputs": [
    {
     "data": {
      "text/html": [
       "<div>\n",
       "<style scoped>\n",
       "    .dataframe tbody tr th:only-of-type {\n",
       "        vertical-align: middle;\n",
       "    }\n",
       "\n",
       "    .dataframe tbody tr th {\n",
       "        vertical-align: top;\n",
       "    }\n",
       "\n",
       "    .dataframe thead th {\n",
       "        text-align: right;\n",
       "    }\n",
       "</style>\n",
       "<table border=\"1\" class=\"dataframe\">\n",
       "  <thead>\n",
       "    <tr style=\"text-align: right;\">\n",
       "      <th></th>\n",
       "      <th>sex</th>\n",
       "      <th>age</th>\n",
       "    </tr>\n",
       "  </thead>\n",
       "  <tbody>\n",
       "    <tr>\n",
       "      <th>1</th>\n",
       "      <td>Female</td>\n",
       "      <td>32</td>\n",
       "    </tr>\n",
       "    <tr>\n",
       "      <th>2</th>\n",
       "      <td>Female</td>\n",
       "      <td>23</td>\n",
       "    </tr>\n",
       "  </tbody>\n",
       "</table>\n",
       "</div>"
      ],
      "text/plain": [
       "      sex  age\n",
       "1  Female   32\n",
       "2  Female   23"
      ]
     },
     "execution_count": 1481,
     "metadata": {},
     "output_type": "execute_result"
    }
   ],
   "source": [
    "# acces items based on row and name of column\n",
    "custom_df.loc[[1, 2], [\"sex\", \"age\"]] # select second and third row, and columns by their name"
   ]
  },
  {
   "cell_type": "code",
   "execution_count": 1482,
   "metadata": {
    "colab": {
     "base_uri": "https://localhost:8080/"
    },
    "executionInfo": {
     "elapsed": 13,
     "status": "ok",
     "timestamp": 1655229265973,
     "user": {
      "displayName": "Ismaril",
      "userId": "09094833649721836077"
     },
     "user_tz": -120
    },
    "id": "zcNEapKn_qxV",
    "outputId": "685abfa8-f822-48fc-f262-359f9eabfdc9"
   },
   "outputs": [
    {
     "data": {
      "text/plain": [
       "Index(['Responder_id', 'LanguagesWorkedWith', 'some_column1', 'some_column2',\n",
       "       'some_column3', 'some_column4'],\n",
       "      dtype='object')"
      ]
     },
     "execution_count": 1482,
     "metadata": {},
     "output_type": "execute_result"
    }
   ],
   "source": [
    "# check names of all columns in a dataset\n",
    "df.columns"
   ]
  },
  {
   "cell_type": "code",
   "execution_count": 1483,
   "metadata": {
    "colab": {
     "base_uri": "https://localhost:8080/"
    },
    "executionInfo": {
     "elapsed": 12,
     "status": "ok",
     "timestamp": 1655229265973,
     "user": {
      "displayName": "Ismaril",
      "userId": "09094833649721836077"
     },
     "user_tz": -120
    },
    "id": "polNR5V1AQXZ",
    "outputId": "a73770cf-ec1f-42c4-f6fa-4a5674df4f1c"
   },
   "outputs": [
    {
     "data": {
      "text/plain": [
       "True     43855\n",
       "False    43714\n",
       "Name: some_column1, dtype: int64"
      ]
     },
     "execution_count": 1483,
     "metadata": {},
     "output_type": "execute_result"
    }
   ],
   "source": [
    "# check value counts of our custom bool values column\n",
    "df[\"some_column1\"].value_counts()"
   ]
  },
  {
   "cell_type": "code",
   "execution_count": 1484,
   "metadata": {
    "colab": {
     "base_uri": "https://localhost:8080/"
    },
    "executionInfo": {
     "elapsed": 12,
     "status": "ok",
     "timestamp": 1655229265974,
     "user": {
      "displayName": "Ismaril",
      "userId": "09094833649721836077"
     },
     "user_tz": -120
    },
    "id": "-PCPGAiiGmT0",
    "outputId": "04ac5fd1-9d78-4461-fde8-3942b597d8b7"
   },
   "outputs": [
    {
     "data": {
      "text/plain": [
       "some_column1       False\n",
       "some_column2   -0.467252\n",
       "some_column3   -0.579881\n",
       "Name: 0, dtype: object"
      ]
     },
     "execution_count": 1484,
     "metadata": {},
     "output_type": "execute_result"
    }
   ],
   "source": [
    "# slice through columns\n",
    "# it is not possible to do it only via square brackets. iloc or loc has to be used, and\n",
    "#   rows can be ommited by colon \":\" \n",
    "df.loc[0, \"some_column1\":\"some_column3\"]"
   ]
  },
  {
   "cell_type": "code",
   "execution_count": 1485,
   "metadata": {
    "colab": {
     "base_uri": "https://localhost:8080/",
     "height": 424
    },
    "executionInfo": {
     "elapsed": 11,
     "status": "ok",
     "timestamp": 1655229265974,
     "user": {
      "displayName": "Ismaril",
      "userId": "09094833649721836077"
     },
     "user_tz": -120
    },
    "id": "SeITIdVKG-E1",
    "outputId": "4987377e-d380-4fa9-9fab-cded7c241021"
   },
   "outputs": [
    {
     "data": {
      "text/html": [
       "<div>\n",
       "<style scoped>\n",
       "    .dataframe tbody tr th:only-of-type {\n",
       "        vertical-align: middle;\n",
       "    }\n",
       "\n",
       "    .dataframe tbody tr th {\n",
       "        vertical-align: top;\n",
       "    }\n",
       "\n",
       "    .dataframe thead th {\n",
       "        text-align: right;\n",
       "    }\n",
       "</style>\n",
       "<table border=\"1\" class=\"dataframe\">\n",
       "  <thead>\n",
       "    <tr style=\"text-align: right;\">\n",
       "      <th></th>\n",
       "      <th>some_column1</th>\n",
       "      <th>some_column2</th>\n",
       "      <th>some_column3</th>\n",
       "    </tr>\n",
       "  </thead>\n",
       "  <tbody>\n",
       "    <tr>\n",
       "      <th>0</th>\n",
       "      <td>False</td>\n",
       "      <td>-0.467252</td>\n",
       "      <td>-0.579881</td>\n",
       "    </tr>\n",
       "    <tr>\n",
       "      <th>1</th>\n",
       "      <td>False</td>\n",
       "      <td>0.879021</td>\n",
       "      <td>1.336515</td>\n",
       "    </tr>\n",
       "    <tr>\n",
       "      <th>2</th>\n",
       "      <td>True</td>\n",
       "      <td>-0.918523</td>\n",
       "      <td>-1.037106</td>\n",
       "    </tr>\n",
       "    <tr>\n",
       "      <th>3</th>\n",
       "      <td>True</td>\n",
       "      <td>-1.395522</td>\n",
       "      <td>0.495652</td>\n",
       "    </tr>\n",
       "    <tr>\n",
       "      <th>4</th>\n",
       "      <td>False</td>\n",
       "      <td>-2.854811</td>\n",
       "      <td>1.672078</td>\n",
       "    </tr>\n",
       "    <tr>\n",
       "      <th>...</th>\n",
       "      <td>...</td>\n",
       "      <td>...</td>\n",
       "      <td>...</td>\n",
       "    </tr>\n",
       "    <tr>\n",
       "      <th>87564</th>\n",
       "      <td>False</td>\n",
       "      <td>-0.335120</td>\n",
       "      <td>-0.468943</td>\n",
       "    </tr>\n",
       "    <tr>\n",
       "      <th>87565</th>\n",
       "      <td>True</td>\n",
       "      <td>0.006329</td>\n",
       "      <td>-0.232168</td>\n",
       "    </tr>\n",
       "    <tr>\n",
       "      <th>87566</th>\n",
       "      <td>True</td>\n",
       "      <td>-0.424559</td>\n",
       "      <td>0.067616</td>\n",
       "    </tr>\n",
       "    <tr>\n",
       "      <th>87567</th>\n",
       "      <td>True</td>\n",
       "      <td>-1.595947</td>\n",
       "      <td>0.897649</td>\n",
       "    </tr>\n",
       "    <tr>\n",
       "      <th>87568</th>\n",
       "      <td>True</td>\n",
       "      <td>-2.222943</td>\n",
       "      <td>-1.031083</td>\n",
       "    </tr>\n",
       "  </tbody>\n",
       "</table>\n",
       "<p>87569 rows × 3 columns</p>\n",
       "</div>"
      ],
      "text/plain": [
       "       some_column1  some_column2  some_column3\n",
       "0             False     -0.467252     -0.579881\n",
       "1             False      0.879021      1.336515\n",
       "2              True     -0.918523     -1.037106\n",
       "3              True     -1.395522      0.495652\n",
       "4             False     -2.854811      1.672078\n",
       "...             ...           ...           ...\n",
       "87564         False     -0.335120     -0.468943\n",
       "87565          True      0.006329     -0.232168\n",
       "87566          True     -0.424559      0.067616\n",
       "87567          True     -1.595947      0.897649\n",
       "87568          True     -2.222943     -1.031083\n",
       "\n",
       "[87569 rows x 3 columns]"
      ]
     },
     "execution_count": 1485,
     "metadata": {},
     "output_type": "execute_result"
    }
   ],
   "source": [
    "df.loc[:, \"some_column1\":\"some_column3\"]"
   ]
  },
  {
   "cell_type": "markdown",
   "metadata": {
    "id": "hQtTR9d7IwaZ"
   },
   "source": [
    "# How to Set, Reset, and Use Indexes"
   ]
  },
  {
   "cell_type": "code",
   "execution_count": 1486,
   "metadata": {
    "executionInfo": {
     "elapsed": 10,
     "status": "ok",
     "timestamp": 1655229265974,
     "user": {
      "displayName": "Ismaril",
      "userId": "09094833649721836077"
     },
     "user_tz": -120
    },
    "id": "nYkhotEEIxhD"
   },
   "outputs": [],
   "source": [
    "custom_dict2 = {\"name\": [\"Jon\", \"Ponna\", \"Lada\", \"Jožo\", \"Prlajz\"],\n",
    "                \"last name\": [\"Bobo\", \"Wale\", \"Boro\", \"Zajeci\", \"\"],\n",
    "               \"age\": [20, 32, 23, 50, 34],\n",
    "               \"sex\": [\"Male\", \"Female\", \"Female\", \"Male\", \"Dog\"],\n",
    "               \"email\": [\"JJ@email.com\", \"pony@gmail.com\", \"borovice@seznam.cz\", np.nan, np.nan],\n",
    "               \"bills\": [1000, 2000, 1000, 400, 800],\n",
    "               \"salary\": [20000, 25000, 40000, 18000, 19000],\n",
    "               \"country\": [\"USA\", \"Germany\", \"Czechia\", \"Slovakia\", \"Poland\"]}"
   ]
  },
  {
   "cell_type": "code",
   "execution_count": 1487,
   "metadata": {
    "colab": {
     "base_uri": "https://localhost:8080/",
     "height": 206
    },
    "executionInfo": {
     "elapsed": 9,
     "status": "ok",
     "timestamp": 1655229265974,
     "user": {
      "displayName": "Ismaril",
      "userId": "09094833649721836077"
     },
     "user_tz": -120
    },
    "id": "-Amk3ijEI54D",
    "outputId": "4909de99-f18f-4a5a-84a5-3c602a025517"
   },
   "outputs": [
    {
     "data": {
      "text/html": [
       "<div>\n",
       "<style scoped>\n",
       "    .dataframe tbody tr th:only-of-type {\n",
       "        vertical-align: middle;\n",
       "    }\n",
       "\n",
       "    .dataframe tbody tr th {\n",
       "        vertical-align: top;\n",
       "    }\n",
       "\n",
       "    .dataframe thead th {\n",
       "        text-align: right;\n",
       "    }\n",
       "</style>\n",
       "<table border=\"1\" class=\"dataframe\">\n",
       "  <thead>\n",
       "    <tr style=\"text-align: right;\">\n",
       "      <th></th>\n",
       "      <th>name</th>\n",
       "      <th>last name</th>\n",
       "      <th>age</th>\n",
       "      <th>sex</th>\n",
       "      <th>email</th>\n",
       "      <th>bills</th>\n",
       "      <th>salary</th>\n",
       "      <th>country</th>\n",
       "    </tr>\n",
       "  </thead>\n",
       "  <tbody>\n",
       "    <tr>\n",
       "      <th>0</th>\n",
       "      <td>Jon</td>\n",
       "      <td>Bobo</td>\n",
       "      <td>20</td>\n",
       "      <td>Male</td>\n",
       "      <td>JJ@email.com</td>\n",
       "      <td>1000</td>\n",
       "      <td>20000</td>\n",
       "      <td>USA</td>\n",
       "    </tr>\n",
       "    <tr>\n",
       "      <th>1</th>\n",
       "      <td>Ponna</td>\n",
       "      <td>Wale</td>\n",
       "      <td>32</td>\n",
       "      <td>Female</td>\n",
       "      <td>pony@gmail.com</td>\n",
       "      <td>2000</td>\n",
       "      <td>25000</td>\n",
       "      <td>Germany</td>\n",
       "    </tr>\n",
       "    <tr>\n",
       "      <th>2</th>\n",
       "      <td>Lada</td>\n",
       "      <td>Boro</td>\n",
       "      <td>23</td>\n",
       "      <td>Female</td>\n",
       "      <td>borovice@seznam.cz</td>\n",
       "      <td>1000</td>\n",
       "      <td>40000</td>\n",
       "      <td>Czechia</td>\n",
       "    </tr>\n",
       "    <tr>\n",
       "      <th>3</th>\n",
       "      <td>Jožo</td>\n",
       "      <td>Zajeci</td>\n",
       "      <td>50</td>\n",
       "      <td>Male</td>\n",
       "      <td>NaN</td>\n",
       "      <td>400</td>\n",
       "      <td>18000</td>\n",
       "      <td>Slovakia</td>\n",
       "    </tr>\n",
       "    <tr>\n",
       "      <th>4</th>\n",
       "      <td>Prlajz</td>\n",
       "      <td></td>\n",
       "      <td>34</td>\n",
       "      <td>Dog</td>\n",
       "      <td>NaN</td>\n",
       "      <td>800</td>\n",
       "      <td>19000</td>\n",
       "      <td>Poland</td>\n",
       "    </tr>\n",
       "  </tbody>\n",
       "</table>\n",
       "</div>"
      ],
      "text/plain": [
       "     name last name  age     sex               email  bills  salary   country\n",
       "0     Jon      Bobo   20    Male        JJ@email.com   1000   20000       USA\n",
       "1   Ponna      Wale   32  Female      pony@gmail.com   2000   25000   Germany\n",
       "2    Lada      Boro   23  Female  borovice@seznam.cz   1000   40000   Czechia\n",
       "3    Jožo    Zajeci   50    Male                 NaN    400   18000  Slovakia\n",
       "4  Prlajz             34     Dog                 NaN    800   19000    Poland"
      ]
     },
     "execution_count": 1487,
     "metadata": {},
     "output_type": "execute_result"
    }
   ],
   "source": [
    "custom_df2 = pd.DataFrame(custom_dict2)\n",
    "custom_df2"
   ]
  },
  {
   "cell_type": "code",
   "execution_count": 1488,
   "metadata": {
    "colab": {
     "base_uri": "https://localhost:8080/",
     "height": 238
    },
    "executionInfo": {
     "elapsed": 380,
     "status": "ok",
     "timestamp": 1655229266346,
     "user": {
      "displayName": "Ismaril",
      "userId": "09094833649721836077"
     },
     "user_tz": -120
    },
    "id": "V2VBXbnIJhWy",
    "outputId": "ff11293b-0365-4249-c52f-c3b0b6edca2d"
   },
   "outputs": [
    {
     "data": {
      "text/html": [
       "<div>\n",
       "<style scoped>\n",
       "    .dataframe tbody tr th:only-of-type {\n",
       "        vertical-align: middle;\n",
       "    }\n",
       "\n",
       "    .dataframe tbody tr th {\n",
       "        vertical-align: top;\n",
       "    }\n",
       "\n",
       "    .dataframe thead th {\n",
       "        text-align: right;\n",
       "    }\n",
       "</style>\n",
       "<table border=\"1\" class=\"dataframe\">\n",
       "  <thead>\n",
       "    <tr style=\"text-align: right;\">\n",
       "      <th></th>\n",
       "      <th>name</th>\n",
       "      <th>last name</th>\n",
       "      <th>age</th>\n",
       "      <th>sex</th>\n",
       "      <th>bills</th>\n",
       "      <th>salary</th>\n",
       "      <th>country</th>\n",
       "    </tr>\n",
       "    <tr>\n",
       "      <th>email</th>\n",
       "      <th></th>\n",
       "      <th></th>\n",
       "      <th></th>\n",
       "      <th></th>\n",
       "      <th></th>\n",
       "      <th></th>\n",
       "      <th></th>\n",
       "    </tr>\n",
       "  </thead>\n",
       "  <tbody>\n",
       "    <tr>\n",
       "      <th>JJ@email.com</th>\n",
       "      <td>Jon</td>\n",
       "      <td>Bobo</td>\n",
       "      <td>20</td>\n",
       "      <td>Male</td>\n",
       "      <td>1000</td>\n",
       "      <td>20000</td>\n",
       "      <td>USA</td>\n",
       "    </tr>\n",
       "    <tr>\n",
       "      <th>pony@gmail.com</th>\n",
       "      <td>Ponna</td>\n",
       "      <td>Wale</td>\n",
       "      <td>32</td>\n",
       "      <td>Female</td>\n",
       "      <td>2000</td>\n",
       "      <td>25000</td>\n",
       "      <td>Germany</td>\n",
       "    </tr>\n",
       "    <tr>\n",
       "      <th>borovice@seznam.cz</th>\n",
       "      <td>Lada</td>\n",
       "      <td>Boro</td>\n",
       "      <td>23</td>\n",
       "      <td>Female</td>\n",
       "      <td>1000</td>\n",
       "      <td>40000</td>\n",
       "      <td>Czechia</td>\n",
       "    </tr>\n",
       "    <tr>\n",
       "      <th>NaN</th>\n",
       "      <td>Jožo</td>\n",
       "      <td>Zajeci</td>\n",
       "      <td>50</td>\n",
       "      <td>Male</td>\n",
       "      <td>400</td>\n",
       "      <td>18000</td>\n",
       "      <td>Slovakia</td>\n",
       "    </tr>\n",
       "    <tr>\n",
       "      <th>NaN</th>\n",
       "      <td>Prlajz</td>\n",
       "      <td></td>\n",
       "      <td>34</td>\n",
       "      <td>Dog</td>\n",
       "      <td>800</td>\n",
       "      <td>19000</td>\n",
       "      <td>Poland</td>\n",
       "    </tr>\n",
       "  </tbody>\n",
       "</table>\n",
       "</div>"
      ],
      "text/plain": [
       "                      name last name  age     sex  bills  salary   country\n",
       "email                                                                     \n",
       "JJ@email.com           Jon      Bobo   20    Male   1000   20000       USA\n",
       "pony@gmail.com       Ponna      Wale   32  Female   2000   25000   Germany\n",
       "borovice@seznam.cz    Lada      Boro   23  Female   1000   40000   Czechia\n",
       "NaN                   Jožo    Zajeci   50    Male    400   18000  Slovakia\n",
       "NaN                 Prlajz             34     Dog    800   19000    Poland"
      ]
     },
     "execution_count": 1488,
     "metadata": {},
     "output_type": "execute_result"
    }
   ],
   "source": [
    "# set email addresses from above dataset as an index (names/labels of rows) of dataset\n",
    "# with this we could use dataframe.loc to search by row name by email\n",
    "\n",
    "# both rows do the same\n",
    "\"\"\"custom_df2 = custom_df2.set_index(\"email\")\"\"\"\n",
    "custom_df2.set_index(\"email\", inplace=True)\n",
    "\n",
    "custom_df2"
   ]
  },
  {
   "cell_type": "code",
   "execution_count": 1489,
   "metadata": {
    "colab": {
     "base_uri": "https://localhost:8080/"
    },
    "executionInfo": {
     "elapsed": 14,
     "status": "ok",
     "timestamp": 1655229266346,
     "user": {
      "displayName": "Ismaril",
      "userId": "09094833649721836077"
     },
     "user_tz": -120
    },
    "id": "0ESKvYS0Kz6i",
    "outputId": "41786ef2-d51f-47ff-8d8b-e000977a3dab"
   },
   "outputs": [
    {
     "name": "stdout",
     "output_type": "stream",
     "text": [
      "Index(['JJ@email.com', 'pony@gmail.com', 'borovice@seznam.cz', nan, nan], dtype='object', name='email')\n",
      "\n",
      "                      name last name  age     sex  bills  salary   country\n",
      "email                                                                     \n",
      "pony@gmail.com       Ponna      Wale   32  Female   2000   25000   Germany\n",
      "borovice@seznam.cz    Lada      Boro   23  Female   1000   40000   Czechia\n",
      "JJ@email.com           Jon      Bobo   20    Male   1000   20000       USA\n",
      "NaN                   Jožo    Zajeci   50    Male    400   18000  Slovakia\n",
      "NaN                 Prlajz             34     Dog    800   19000    Poland\n",
      "\n",
      "Index(['name', 'last name', 'age', 'sex', 'bills', 'salary', 'country'], dtype='object')\n"
     ]
    }
   ],
   "source": [
    "# check values by indexes\n",
    "print(custom_df2.index) # name of rows\n",
    "print()\n",
    "print(custom_df2.sort_index(ascending=False, inplace=False)) # name of rows sorted, descending\n",
    "print()\n",
    "print(custom_df2.columns) # name of columns"
   ]
  },
  {
   "cell_type": "code",
   "execution_count": 1490,
   "metadata": {
    "colab": {
     "base_uri": "https://localhost:8080/"
    },
    "executionInfo": {
     "elapsed": 8,
     "status": "ok",
     "timestamp": 1655229266346,
     "user": {
      "displayName": "Ismaril",
      "userId": "09094833649721836077"
     },
     "user_tz": -120
    },
    "id": "SUtUTqGoL8UY",
    "outputId": "95162a31-8c86-4fb7-8b89-01caceb9e60f"
   },
   "outputs": [
    {
     "data": {
      "text/plain": [
       "name           Jon\n",
       "last name     Bobo\n",
       "age             20\n",
       "sex           Male\n",
       "bills         1000\n",
       "salary       20000\n",
       "country        USA\n",
       "Name: JJ@email.com, dtype: object"
      ]
     },
     "execution_count": 1490,
     "metadata": {},
     "output_type": "execute_result"
    }
   ],
   "source": [
    "custom_df2.loc[\"JJ@email.com\"]"
   ]
  },
  {
   "cell_type": "code",
   "execution_count": 1491,
   "metadata": {
    "colab": {
     "base_uri": "https://localhost:8080/",
     "height": 206
    },
    "executionInfo": {
     "elapsed": 7,
     "status": "ok",
     "timestamp": 1655229266347,
     "user": {
      "displayName": "Ismaril",
      "userId": "09094833649721836077"
     },
     "user_tz": -120
    },
    "id": "0LXKIQlLMbow",
    "outputId": "ee6cfff2-698b-42b0-8f9a-f1ba759b38f6"
   },
   "outputs": [
    {
     "data": {
      "text/html": [
       "<div>\n",
       "<style scoped>\n",
       "    .dataframe tbody tr th:only-of-type {\n",
       "        vertical-align: middle;\n",
       "    }\n",
       "\n",
       "    .dataframe tbody tr th {\n",
       "        vertical-align: top;\n",
       "    }\n",
       "\n",
       "    .dataframe thead th {\n",
       "        text-align: right;\n",
       "    }\n",
       "</style>\n",
       "<table border=\"1\" class=\"dataframe\">\n",
       "  <thead>\n",
       "    <tr style=\"text-align: right;\">\n",
       "      <th></th>\n",
       "      <th>email</th>\n",
       "      <th>name</th>\n",
       "      <th>last name</th>\n",
       "      <th>age</th>\n",
       "      <th>sex</th>\n",
       "      <th>bills</th>\n",
       "      <th>salary</th>\n",
       "      <th>country</th>\n",
       "    </tr>\n",
       "  </thead>\n",
       "  <tbody>\n",
       "    <tr>\n",
       "      <th>0</th>\n",
       "      <td>JJ@email.com</td>\n",
       "      <td>Jon</td>\n",
       "      <td>Bobo</td>\n",
       "      <td>20</td>\n",
       "      <td>Male</td>\n",
       "      <td>1000</td>\n",
       "      <td>20000</td>\n",
       "      <td>USA</td>\n",
       "    </tr>\n",
       "    <tr>\n",
       "      <th>1</th>\n",
       "      <td>pony@gmail.com</td>\n",
       "      <td>Ponna</td>\n",
       "      <td>Wale</td>\n",
       "      <td>32</td>\n",
       "      <td>Female</td>\n",
       "      <td>2000</td>\n",
       "      <td>25000</td>\n",
       "      <td>Germany</td>\n",
       "    </tr>\n",
       "    <tr>\n",
       "      <th>2</th>\n",
       "      <td>borovice@seznam.cz</td>\n",
       "      <td>Lada</td>\n",
       "      <td>Boro</td>\n",
       "      <td>23</td>\n",
       "      <td>Female</td>\n",
       "      <td>1000</td>\n",
       "      <td>40000</td>\n",
       "      <td>Czechia</td>\n",
       "    </tr>\n",
       "    <tr>\n",
       "      <th>3</th>\n",
       "      <td>NaN</td>\n",
       "      <td>Jožo</td>\n",
       "      <td>Zajeci</td>\n",
       "      <td>50</td>\n",
       "      <td>Male</td>\n",
       "      <td>400</td>\n",
       "      <td>18000</td>\n",
       "      <td>Slovakia</td>\n",
       "    </tr>\n",
       "    <tr>\n",
       "      <th>4</th>\n",
       "      <td>NaN</td>\n",
       "      <td>Prlajz</td>\n",
       "      <td></td>\n",
       "      <td>34</td>\n",
       "      <td>Dog</td>\n",
       "      <td>800</td>\n",
       "      <td>19000</td>\n",
       "      <td>Poland</td>\n",
       "    </tr>\n",
       "  </tbody>\n",
       "</table>\n",
       "</div>"
      ],
      "text/plain": [
       "                email    name last name  age     sex  bills  salary   country\n",
       "0        JJ@email.com     Jon      Bobo   20    Male   1000   20000       USA\n",
       "1      pony@gmail.com   Ponna      Wale   32  Female   2000   25000   Germany\n",
       "2  borovice@seznam.cz    Lada      Boro   23  Female   1000   40000   Czechia\n",
       "3                 NaN    Jožo    Zajeci   50    Male    400   18000  Slovakia\n",
       "4                 NaN  Prlajz             34     Dog    800   19000    Poland"
      ]
     },
     "execution_count": 1491,
     "metadata": {},
     "output_type": "execute_result"
    }
   ],
   "source": [
    "# return row names / indexes back to original values\n",
    "custom_df2.reset_index(inplace=True)\n",
    "custom_df2"
   ]
  },
  {
   "cell_type": "markdown",
   "metadata": {
    "id": "7CLKZT-DRNiN"
   },
   "source": [
    "# Using Conditionals to Filter Rows and Columns\n",
    "& = AND;\n",
    "| = OR;\n",
    "~ = NOT;\n"
   ]
  },
  {
   "cell_type": "code",
   "execution_count": 1492,
   "metadata": {
    "colab": {
     "base_uri": "https://localhost:8080/",
     "height": 112
    },
    "executionInfo": {
     "elapsed": 6,
     "status": "ok",
     "timestamp": 1655229266347,
     "user": {
      "displayName": "Ismaril",
      "userId": "09094833649721836077"
     },
     "user_tz": -120
    },
    "id": "vxvS7LVVSXir",
    "outputId": "03b923e4-4121-4107-e7fa-bd0f0b3fd79b"
   },
   "outputs": [
    {
     "data": {
      "text/html": [
       "<div>\n",
       "<style scoped>\n",
       "    .dataframe tbody tr th:only-of-type {\n",
       "        vertical-align: middle;\n",
       "    }\n",
       "\n",
       "    .dataframe tbody tr th {\n",
       "        vertical-align: top;\n",
       "    }\n",
       "\n",
       "    .dataframe thead th {\n",
       "        text-align: right;\n",
       "    }\n",
       "</style>\n",
       "<table border=\"1\" class=\"dataframe\">\n",
       "  <thead>\n",
       "    <tr style=\"text-align: right;\">\n",
       "      <th></th>\n",
       "      <th>email</th>\n",
       "      <th>name</th>\n",
       "      <th>last name</th>\n",
       "      <th>age</th>\n",
       "      <th>sex</th>\n",
       "      <th>bills</th>\n",
       "      <th>salary</th>\n",
       "      <th>country</th>\n",
       "    </tr>\n",
       "  </thead>\n",
       "  <tbody>\n",
       "    <tr>\n",
       "      <th>1</th>\n",
       "      <td>pony@gmail.com</td>\n",
       "      <td>Ponna</td>\n",
       "      <td>Wale</td>\n",
       "      <td>32</td>\n",
       "      <td>Female</td>\n",
       "      <td>2000</td>\n",
       "      <td>25000</td>\n",
       "      <td>Germany</td>\n",
       "    </tr>\n",
       "    <tr>\n",
       "      <th>2</th>\n",
       "      <td>borovice@seznam.cz</td>\n",
       "      <td>Lada</td>\n",
       "      <td>Boro</td>\n",
       "      <td>23</td>\n",
       "      <td>Female</td>\n",
       "      <td>1000</td>\n",
       "      <td>40000</td>\n",
       "      <td>Czechia</td>\n",
       "    </tr>\n",
       "  </tbody>\n",
       "</table>\n",
       "</div>"
      ],
      "text/plain": [
       "                email   name last name  age     sex  bills  salary  country\n",
       "1      pony@gmail.com  Ponna      Wale   32  Female   2000   25000  Germany\n",
       "2  borovice@seznam.cz   Lada      Boro   23  Female   1000   40000  Czechia"
      ]
     },
     "execution_count": 1492,
     "metadata": {},
     "output_type": "execute_result"
    }
   ],
   "source": [
    "# filter out only people that are Female\n",
    "filter1 = (custom_df2[\"sex\"] == \"Female\")\n",
    "\n",
    "custom_df2[filter1]"
   ]
  },
  {
   "cell_type": "code",
   "execution_count": 1493,
   "metadata": {
    "colab": {
     "base_uri": "https://localhost:8080/",
     "height": 112
    },
    "executionInfo": {
     "elapsed": 585,
     "status": "ok",
     "timestamp": 1655229266927,
     "user": {
      "displayName": "Ismaril",
      "userId": "09094833649721836077"
     },
     "user_tz": -120
    },
    "id": "pKRINZpQupHs",
    "outputId": "e6c213e5-05fe-431b-d8c9-4a5c9c564460"
   },
   "outputs": [
    {
     "data": {
      "text/html": [
       "<div>\n",
       "<style scoped>\n",
       "    .dataframe tbody tr th:only-of-type {\n",
       "        vertical-align: middle;\n",
       "    }\n",
       "\n",
       "    .dataframe tbody tr th {\n",
       "        vertical-align: top;\n",
       "    }\n",
       "\n",
       "    .dataframe thead th {\n",
       "        text-align: right;\n",
       "    }\n",
       "</style>\n",
       "<table border=\"1\" class=\"dataframe\">\n",
       "  <thead>\n",
       "    <tr style=\"text-align: right;\">\n",
       "      <th></th>\n",
       "      <th>email</th>\n",
       "      <th>name</th>\n",
       "      <th>last name</th>\n",
       "      <th>age</th>\n",
       "      <th>sex</th>\n",
       "      <th>bills</th>\n",
       "      <th>salary</th>\n",
       "      <th>country</th>\n",
       "    </tr>\n",
       "  </thead>\n",
       "  <tbody>\n",
       "    <tr>\n",
       "      <th>1</th>\n",
       "      <td>pony@gmail.com</td>\n",
       "      <td>Ponna</td>\n",
       "      <td>Wale</td>\n",
       "      <td>32</td>\n",
       "      <td>Female</td>\n",
       "      <td>2000</td>\n",
       "      <td>25000</td>\n",
       "      <td>Germany</td>\n",
       "    </tr>\n",
       "    <tr>\n",
       "      <th>2</th>\n",
       "      <td>borovice@seznam.cz</td>\n",
       "      <td>Lada</td>\n",
       "      <td>Boro</td>\n",
       "      <td>23</td>\n",
       "      <td>Female</td>\n",
       "      <td>1000</td>\n",
       "      <td>40000</td>\n",
       "      <td>Czechia</td>\n",
       "    </tr>\n",
       "  </tbody>\n",
       "</table>\n",
       "</div>"
      ],
      "text/plain": [
       "                email   name last name  age     sex  bills  salary  country\n",
       "1      pony@gmail.com  Ponna      Wale   32  Female   2000   25000  Germany\n",
       "2  borovice@seznam.cz   Lada      Boro   23  Female   1000   40000  Czechia"
      ]
     },
     "execution_count": 1493,
     "metadata": {},
     "output_type": "execute_result"
    }
   ],
   "source": [
    "# also possible to to the same with \"loc\"\n",
    "# loc will allow us more options, like also filter columns etc\n",
    "custom_df2.loc[filter1]"
   ]
  },
  {
   "cell_type": "code",
   "execution_count": 1494,
   "metadata": {
    "colab": {
     "base_uri": "https://localhost:8080/"
    },
    "executionInfo": {
     "elapsed": 34,
     "status": "ok",
     "timestamp": 1655229266927,
     "user": {
      "displayName": "Ismaril",
      "userId": "09094833649721836077"
     },
     "user_tz": -120
    },
    "id": "DhEoppzbu_wT",
    "outputId": "44716725-de1f-4aa5-cfd3-f86d5692a2b8"
   },
   "outputs": [
    {
     "data": {
      "text/plain": [
       "1        pony@gmail.com\n",
       "2    borovice@seznam.cz\n",
       "Name: email, dtype: object"
      ]
     },
     "execution_count": 1494,
     "metadata": {},
     "output_type": "execute_result"
    }
   ],
   "source": [
    "# filter emails of all females\n",
    "custom_df2.loc[filter1, \"email\"]"
   ]
  },
  {
   "cell_type": "code",
   "execution_count": 1495,
   "metadata": {
    "colab": {
     "base_uri": "https://localhost:8080/",
     "height": 112
    },
    "executionInfo": {
     "elapsed": 29,
     "status": "ok",
     "timestamp": 1655229266927,
     "user": {
      "displayName": "Ismaril",
      "userId": "09094833649721836077"
     },
     "user_tz": -120
    },
    "id": "vF2wQ7laDexi",
    "outputId": "9881b3e0-4b9d-483c-8d30-9ba4ad710104"
   },
   "outputs": [
    {
     "data": {
      "text/html": [
       "<div>\n",
       "<style scoped>\n",
       "    .dataframe tbody tr th:only-of-type {\n",
       "        vertical-align: middle;\n",
       "    }\n",
       "\n",
       "    .dataframe tbody tr th {\n",
       "        vertical-align: top;\n",
       "    }\n",
       "\n",
       "    .dataframe thead th {\n",
       "        text-align: right;\n",
       "    }\n",
       "</style>\n",
       "<table border=\"1\" class=\"dataframe\">\n",
       "  <thead>\n",
       "    <tr style=\"text-align: right;\">\n",
       "      <th></th>\n",
       "      <th>email</th>\n",
       "      <th>name</th>\n",
       "      <th>last name</th>\n",
       "      <th>age</th>\n",
       "      <th>sex</th>\n",
       "      <th>bills</th>\n",
       "      <th>salary</th>\n",
       "      <th>country</th>\n",
       "    </tr>\n",
       "  </thead>\n",
       "  <tbody>\n",
       "    <tr>\n",
       "      <th>0</th>\n",
       "      <td>JJ@email.com</td>\n",
       "      <td>Jon</td>\n",
       "      <td>Bobo</td>\n",
       "      <td>20</td>\n",
       "      <td>Male</td>\n",
       "      <td>1000</td>\n",
       "      <td>20000</td>\n",
       "      <td>USA</td>\n",
       "    </tr>\n",
       "    <tr>\n",
       "      <th>2</th>\n",
       "      <td>borovice@seznam.cz</td>\n",
       "      <td>Lada</td>\n",
       "      <td>Boro</td>\n",
       "      <td>23</td>\n",
       "      <td>Female</td>\n",
       "      <td>1000</td>\n",
       "      <td>40000</td>\n",
       "      <td>Czechia</td>\n",
       "    </tr>\n",
       "  </tbody>\n",
       "</table>\n",
       "</div>"
      ],
      "text/plain": [
       "                email  name last name  age     sex  bills  salary  country\n",
       "0        JJ@email.com   Jon      Bobo   20    Male   1000   20000      USA\n",
       "2  borovice@seznam.cz  Lada      Boro   23  Female   1000   40000  Czechia"
      ]
     },
     "execution_count": 1495,
     "metadata": {},
     "output_type": "execute_result"
    }
   ],
   "source": [
    "# filter with more conditions\n",
    "# (& = AND) (| = OR)\n",
    "\n",
    "# filter everyone who meets atleast one of these conditions\n",
    "filter2 = (custom_df2[\"name\"] == \"Jon\") | (custom_df2[\"bills\"] == 1000)\n",
    "\n",
    "custom_df2.loc[filter2]"
   ]
  },
  {
   "cell_type": "code",
   "execution_count": 1496,
   "metadata": {
    "colab": {
     "base_uri": "https://localhost:8080/",
     "height": 81
    },
    "executionInfo": {
     "elapsed": 30,
     "status": "ok",
     "timestamp": 1655229266928,
     "user": {
      "displayName": "Ismaril",
      "userId": "09094833649721836077"
     },
     "user_tz": -120
    },
    "id": "MVZcXTfiEVwM",
    "outputId": "0d6119ad-840b-4259-ec41-3bfe4004ca7c"
   },
   "outputs": [
    {
     "data": {
      "text/html": [
       "<div>\n",
       "<style scoped>\n",
       "    .dataframe tbody tr th:only-of-type {\n",
       "        vertical-align: middle;\n",
       "    }\n",
       "\n",
       "    .dataframe tbody tr th {\n",
       "        vertical-align: top;\n",
       "    }\n",
       "\n",
       "    .dataframe thead th {\n",
       "        text-align: right;\n",
       "    }\n",
       "</style>\n",
       "<table border=\"1\" class=\"dataframe\">\n",
       "  <thead>\n",
       "    <tr style=\"text-align: right;\">\n",
       "      <th></th>\n",
       "      <th>email</th>\n",
       "      <th>name</th>\n",
       "      <th>last name</th>\n",
       "      <th>age</th>\n",
       "      <th>sex</th>\n",
       "      <th>bills</th>\n",
       "      <th>salary</th>\n",
       "      <th>country</th>\n",
       "    </tr>\n",
       "  </thead>\n",
       "  <tbody>\n",
       "    <tr>\n",
       "      <th>0</th>\n",
       "      <td>JJ@email.com</td>\n",
       "      <td>Jon</td>\n",
       "      <td>Bobo</td>\n",
       "      <td>20</td>\n",
       "      <td>Male</td>\n",
       "      <td>1000</td>\n",
       "      <td>20000</td>\n",
       "      <td>USA</td>\n",
       "    </tr>\n",
       "  </tbody>\n",
       "</table>\n",
       "</div>"
      ],
      "text/plain": [
       "          email name last name  age   sex  bills  salary country\n",
       "0  JJ@email.com  Jon      Bobo   20  Male   1000   20000     USA"
      ]
     },
     "execution_count": 1496,
     "metadata": {},
     "output_type": "execute_result"
    }
   ],
   "source": [
    "# filter everyone who meets exactly those two conditions\n",
    "filter3 = (custom_df2[\"name\"] == \"Jon\") & (custom_df2[\"bills\"] == 1000)\n",
    "\n",
    "custom_df2.loc[filter3]"
   ]
  },
  {
   "cell_type": "code",
   "execution_count": 1497,
   "metadata": {
    "colab": {
     "base_uri": "https://localhost:8080/",
     "height": 143
    },
    "executionInfo": {
     "elapsed": 29,
     "status": "ok",
     "timestamp": 1655229266928,
     "user": {
      "displayName": "Ismaril",
      "userId": "09094833649721836077"
     },
     "user_tz": -120
    },
    "id": "rIydGZz6F1jI",
    "outputId": "3baa3bd7-22e6-4c78-da1f-0ba783643425"
   },
   "outputs": [
    {
     "data": {
      "text/html": [
       "<div>\n",
       "<style scoped>\n",
       "    .dataframe tbody tr th:only-of-type {\n",
       "        vertical-align: middle;\n",
       "    }\n",
       "\n",
       "    .dataframe tbody tr th {\n",
       "        vertical-align: top;\n",
       "    }\n",
       "\n",
       "    .dataframe thead th {\n",
       "        text-align: right;\n",
       "    }\n",
       "</style>\n",
       "<table border=\"1\" class=\"dataframe\">\n",
       "  <thead>\n",
       "    <tr style=\"text-align: right;\">\n",
       "      <th></th>\n",
       "      <th>email</th>\n",
       "      <th>name</th>\n",
       "      <th>last name</th>\n",
       "      <th>age</th>\n",
       "      <th>sex</th>\n",
       "      <th>bills</th>\n",
       "      <th>salary</th>\n",
       "      <th>country</th>\n",
       "    </tr>\n",
       "  </thead>\n",
       "  <tbody>\n",
       "    <tr>\n",
       "      <th>1</th>\n",
       "      <td>pony@gmail.com</td>\n",
       "      <td>Ponna</td>\n",
       "      <td>Wale</td>\n",
       "      <td>32</td>\n",
       "      <td>Female</td>\n",
       "      <td>2000</td>\n",
       "      <td>25000</td>\n",
       "      <td>Germany</td>\n",
       "    </tr>\n",
       "    <tr>\n",
       "      <th>3</th>\n",
       "      <td>NaN</td>\n",
       "      <td>Jožo</td>\n",
       "      <td>Zajeci</td>\n",
       "      <td>50</td>\n",
       "      <td>Male</td>\n",
       "      <td>400</td>\n",
       "      <td>18000</td>\n",
       "      <td>Slovakia</td>\n",
       "    </tr>\n",
       "    <tr>\n",
       "      <th>4</th>\n",
       "      <td>NaN</td>\n",
       "      <td>Prlajz</td>\n",
       "      <td></td>\n",
       "      <td>34</td>\n",
       "      <td>Dog</td>\n",
       "      <td>800</td>\n",
       "      <td>19000</td>\n",
       "      <td>Poland</td>\n",
       "    </tr>\n",
       "  </tbody>\n",
       "</table>\n",
       "</div>"
      ],
      "text/plain": [
       "            email    name last name  age     sex  bills  salary   country\n",
       "1  pony@gmail.com   Ponna      Wale   32  Female   2000   25000   Germany\n",
       "3             NaN    Jožo    Zajeci   50    Male    400   18000  Slovakia\n",
       "4             NaN  Prlajz             34     Dog    800   19000    Poland"
      ]
     },
     "execution_count": 1497,
     "metadata": {},
     "output_type": "execute_result"
    }
   ],
   "source": [
    "# filter everyone who DOES NOT meets exactly those two conditions\n",
    "# ~ sign\n",
    "\n",
    "filter4 = ~(custom_df2[\"name\"] == \"Jon\") & ~(custom_df2[\"bills\"] == 1000)\n",
    "\n",
    "custom_df2.loc[filter4]"
   ]
  },
  {
   "cell_type": "code",
   "execution_count": 1498,
   "metadata": {
    "colab": {
     "base_uri": "https://localhost:8080/",
     "height": 81
    },
    "executionInfo": {
     "elapsed": 28,
     "status": "ok",
     "timestamp": 1655229266928,
     "user": {
      "displayName": "Ismaril",
      "userId": "09094833649721836077"
     },
     "user_tz": -120
    },
    "id": "n4UNXFP8Hes1",
    "outputId": "42600981-6dee-427d-9a78-eb7f75d3409d"
   },
   "outputs": [
    {
     "data": {
      "text/html": [
       "<div>\n",
       "<style scoped>\n",
       "    .dataframe tbody tr th:only-of-type {\n",
       "        vertical-align: middle;\n",
       "    }\n",
       "\n",
       "    .dataframe tbody tr th {\n",
       "        vertical-align: top;\n",
       "    }\n",
       "\n",
       "    .dataframe thead th {\n",
       "        text-align: right;\n",
       "    }\n",
       "</style>\n",
       "<table border=\"1\" class=\"dataframe\">\n",
       "  <thead>\n",
       "    <tr style=\"text-align: right;\">\n",
       "      <th></th>\n",
       "      <th>email</th>\n",
       "      <th>name</th>\n",
       "      <th>last name</th>\n",
       "      <th>age</th>\n",
       "      <th>sex</th>\n",
       "      <th>bills</th>\n",
       "      <th>salary</th>\n",
       "      <th>country</th>\n",
       "    </tr>\n",
       "  </thead>\n",
       "  <tbody>\n",
       "    <tr>\n",
       "      <th>1</th>\n",
       "      <td>pony@gmail.com</td>\n",
       "      <td>Ponna</td>\n",
       "      <td>Wale</td>\n",
       "      <td>32</td>\n",
       "      <td>Female</td>\n",
       "      <td>2000</td>\n",
       "      <td>25000</td>\n",
       "      <td>Germany</td>\n",
       "    </tr>\n",
       "  </tbody>\n",
       "</table>\n",
       "</div>"
      ],
      "text/plain": [
       "            email   name last name  age     sex  bills  salary  country\n",
       "1  pony@gmail.com  Ponna      Wale   32  Female   2000   25000  Germany"
      ]
     },
     "execution_count": 1498,
     "metadata": {},
     "output_type": "execute_result"
    }
   ],
   "source": [
    "# filter everyone with bills higher than 1000,\n",
    "\n",
    "# < > operator\n",
    "\n",
    "filter5 = custom_df2[\"bills\"] > 1000\n",
    "custom_df2.loc[filter5]"
   ]
  },
  {
   "cell_type": "code",
   "execution_count": 1499,
   "metadata": {
    "colab": {
     "base_uri": "https://localhost:8080/",
     "height": 112
    },
    "executionInfo": {
     "elapsed": 27,
     "status": "ok",
     "timestamp": 1655229266928,
     "user": {
      "displayName": "Ismaril",
      "userId": "09094833649721836077"
     },
     "user_tz": -120
    },
    "id": "b3mJb4h_I-Hy",
    "outputId": "0d6975ac-4044-42bb-907f-8a051894693d"
   },
   "outputs": [
    {
     "data": {
      "text/html": [
       "<div>\n",
       "<style scoped>\n",
       "    .dataframe tbody tr th:only-of-type {\n",
       "        vertical-align: middle;\n",
       "    }\n",
       "\n",
       "    .dataframe tbody tr th {\n",
       "        vertical-align: top;\n",
       "    }\n",
       "\n",
       "    .dataframe thead th {\n",
       "        text-align: right;\n",
       "    }\n",
       "</style>\n",
       "<table border=\"1\" class=\"dataframe\">\n",
       "  <thead>\n",
       "    <tr style=\"text-align: right;\">\n",
       "      <th></th>\n",
       "      <th>email</th>\n",
       "      <th>name</th>\n",
       "      <th>last name</th>\n",
       "      <th>age</th>\n",
       "      <th>sex</th>\n",
       "      <th>bills</th>\n",
       "      <th>salary</th>\n",
       "      <th>country</th>\n",
       "    </tr>\n",
       "  </thead>\n",
       "  <tbody>\n",
       "    <tr>\n",
       "      <th>3</th>\n",
       "      <td>NaN</td>\n",
       "      <td>Jožo</td>\n",
       "      <td>Zajeci</td>\n",
       "      <td>50</td>\n",
       "      <td>Male</td>\n",
       "      <td>400</td>\n",
       "      <td>18000</td>\n",
       "      <td>Slovakia</td>\n",
       "    </tr>\n",
       "    <tr>\n",
       "      <th>4</th>\n",
       "      <td>NaN</td>\n",
       "      <td>Prlajz</td>\n",
       "      <td></td>\n",
       "      <td>34</td>\n",
       "      <td>Dog</td>\n",
       "      <td>800</td>\n",
       "      <td>19000</td>\n",
       "      <td>Poland</td>\n",
       "    </tr>\n",
       "  </tbody>\n",
       "</table>\n",
       "</div>"
      ],
      "text/plain": [
       "  email    name last name  age   sex  bills  salary   country\n",
       "3   NaN    Jožo    Zajeci   50  Male    400   18000  Slovakia\n",
       "4   NaN  Prlajz             34   Dog    800   19000    Poland"
      ]
     },
     "execution_count": 1499,
     "metadata": {},
     "output_type": "execute_result"
    }
   ],
   "source": [
    "# filter everyone with salary below 20000 and from Czechia, Slovakia and Poland\n",
    "\n",
    "countries = [\"Czechia\", \"Slovakia\", \"Poland\"]\n",
    "\n",
    "filter_6a = custom_df2[\"salary\"] < 20_000\n",
    "filter_6b = custom_df2[\"country\"].isin(countries) # filter all rows that have specified countires\n",
    "filter6 = filter_6a & filter_6b\n",
    "\n",
    "custom_df2.loc[filter6]"
   ]
  },
  {
   "cell_type": "code",
   "execution_count": 1500,
   "metadata": {
    "colab": {
     "base_uri": "https://localhost:8080/",
     "height": 112
    },
    "executionInfo": {
     "elapsed": 27,
     "status": "ok",
     "timestamp": 1655229266929,
     "user": {
      "displayName": "Ismaril",
      "userId": "09094833649721836077"
     },
     "user_tz": -120
    },
    "id": "nfvgOWk2Qmo0",
    "outputId": "e2ab3f43-7da7-4c9e-c105-ffdebf19388b"
   },
   "outputs": [
    {
     "data": {
      "text/html": [
       "<div>\n",
       "<style scoped>\n",
       "    .dataframe tbody tr th:only-of-type {\n",
       "        vertical-align: middle;\n",
       "    }\n",
       "\n",
       "    .dataframe tbody tr th {\n",
       "        vertical-align: top;\n",
       "    }\n",
       "\n",
       "    .dataframe thead th {\n",
       "        text-align: right;\n",
       "    }\n",
       "</style>\n",
       "<table border=\"1\" class=\"dataframe\">\n",
       "  <thead>\n",
       "    <tr style=\"text-align: right;\">\n",
       "      <th></th>\n",
       "      <th>email</th>\n",
       "      <th>name</th>\n",
       "      <th>last name</th>\n",
       "      <th>age</th>\n",
       "      <th>sex</th>\n",
       "      <th>bills</th>\n",
       "      <th>salary</th>\n",
       "      <th>country</th>\n",
       "    </tr>\n",
       "  </thead>\n",
       "  <tbody>\n",
       "    <tr>\n",
       "      <th>2</th>\n",
       "      <td>borovice@seznam.cz</td>\n",
       "      <td>Lada</td>\n",
       "      <td>Boro</td>\n",
       "      <td>23</td>\n",
       "      <td>Female</td>\n",
       "      <td>1000</td>\n",
       "      <td>40000</td>\n",
       "      <td>Czechia</td>\n",
       "    </tr>\n",
       "    <tr>\n",
       "      <th>3</th>\n",
       "      <td>NaN</td>\n",
       "      <td>Jožo</td>\n",
       "      <td>Zajeci</td>\n",
       "      <td>50</td>\n",
       "      <td>Male</td>\n",
       "      <td>400</td>\n",
       "      <td>18000</td>\n",
       "      <td>Slovakia</td>\n",
       "    </tr>\n",
       "  </tbody>\n",
       "</table>\n",
       "</div>"
      ],
      "text/plain": [
       "                email  name last name  age     sex  bills  salary   country\n",
       "2  borovice@seznam.cz  Lada      Boro   23  Female   1000   40000   Czechia\n",
       "3                 NaN  Jožo    Zajeci   50    Male    400   18000  Slovakia"
      ]
     },
     "execution_count": 1500,
     "metadata": {},
     "output_type": "execute_result"
    }
   ],
   "source": [
    "# filer only rows that contain a given string\n",
    "\n",
    "# na = do not return values that have N/A in a given specification\n",
    "filter7 = custom_df2[\"country\"].str.contains(\"ia\", na=False)\n",
    "\n",
    "custom_df2.loc[filter7]"
   ]
  },
  {
   "cell_type": "markdown",
   "metadata": {
    "id": "FLXuxsu-S9Uz"
   },
   "source": [
    "# Updating Rows and Columns - Modifying Data Within DataFrames"
   ]
  },
  {
   "cell_type": "code",
   "execution_count": 1501,
   "metadata": {
    "colab": {
     "base_uri": "https://localhost:8080/"
    },
    "executionInfo": {
     "elapsed": 26,
     "status": "ok",
     "timestamp": 1655229266929,
     "user": {
      "displayName": "Ismaril",
      "userId": "09094833649721836077"
     },
     "user_tz": -120
    },
    "id": "qpoVC1wYS-Jt",
    "outputId": "5d61ab29-8601-40cf-c9ad-8954c3e08cb9"
   },
   "outputs": [
    {
     "data": {
      "text/plain": [
       "Index(['email', 'name', 'last name', 'age', 'sex', 'bills', 'salary',\n",
       "       'country'],\n",
       "      dtype='object')"
      ]
     },
     "execution_count": 1501,
     "metadata": {},
     "output_type": "execute_result"
    }
   ],
   "source": [
    "custom_df2.columns"
   ]
  },
  {
   "cell_type": "code",
   "execution_count": 1502,
   "metadata": {
    "colab": {
     "base_uri": "https://localhost:8080/"
    },
    "executionInfo": {
     "elapsed": 24,
     "status": "ok",
     "timestamp": 1655229266929,
     "user": {
      "displayName": "Ismaril",
      "userId": "09094833649721836077"
     },
     "user_tz": -120
    },
    "id": "1okwKUvxVmEF",
    "outputId": "587ea644-9dec-4639-8011-34d9126fb7af"
   },
   "outputs": [
    {
     "data": {
      "text/plain": [
       "Index(['Email', 'Name', 'Last Name', 'Age', 'Sex', 'Bills', 'Salary',\n",
       "       'Country'],\n",
       "      dtype='object')"
      ]
     },
     "execution_count": 1502,
     "metadata": {},
     "output_type": "execute_result"
    }
   ],
   "source": [
    "# update names of all column names to uppercase\n",
    "\n",
    "custom_df2.columns = [name.title() for name in custom_df2.columns]\n",
    "custom_df2.columns"
   ]
  },
  {
   "cell_type": "code",
   "execution_count": 1503,
   "metadata": {
    "colab": {
     "base_uri": "https://localhost:8080/",
     "height": 206
    },
    "executionInfo": {
     "elapsed": 23,
     "status": "ok",
     "timestamp": 1655229266930,
     "user": {
      "displayName": "Ismaril",
      "userId": "09094833649721836077"
     },
     "user_tz": -120
    },
    "id": "_bX7rlBkWdbj",
    "outputId": "b8f46487-1d3d-429d-b565-a4e7b06d352c"
   },
   "outputs": [
    {
     "data": {
      "text/html": [
       "<div>\n",
       "<style scoped>\n",
       "    .dataframe tbody tr th:only-of-type {\n",
       "        vertical-align: middle;\n",
       "    }\n",
       "\n",
       "    .dataframe tbody tr th {\n",
       "        vertical-align: top;\n",
       "    }\n",
       "\n",
       "    .dataframe thead th {\n",
       "        text-align: right;\n",
       "    }\n",
       "</style>\n",
       "<table border=\"1\" class=\"dataframe\">\n",
       "  <thead>\n",
       "    <tr style=\"text-align: right;\">\n",
       "      <th></th>\n",
       "      <th>Mail</th>\n",
       "      <th>First_name</th>\n",
       "      <th>Last Name</th>\n",
       "      <th>Age</th>\n",
       "      <th>Sex</th>\n",
       "      <th>Bills</th>\n",
       "      <th>Salary</th>\n",
       "      <th>Country</th>\n",
       "    </tr>\n",
       "  </thead>\n",
       "  <tbody>\n",
       "    <tr>\n",
       "      <th>0</th>\n",
       "      <td>JJ@email.com</td>\n",
       "      <td>Jon</td>\n",
       "      <td>Bobo</td>\n",
       "      <td>20</td>\n",
       "      <td>Male</td>\n",
       "      <td>1000</td>\n",
       "      <td>20000</td>\n",
       "      <td>USA</td>\n",
       "    </tr>\n",
       "    <tr>\n",
       "      <th>1</th>\n",
       "      <td>pony@gmail.com</td>\n",
       "      <td>Ponna</td>\n",
       "      <td>Wale</td>\n",
       "      <td>32</td>\n",
       "      <td>Female</td>\n",
       "      <td>2000</td>\n",
       "      <td>25000</td>\n",
       "      <td>Germany</td>\n",
       "    </tr>\n",
       "    <tr>\n",
       "      <th>2</th>\n",
       "      <td>borovice@seznam.cz</td>\n",
       "      <td>Lada</td>\n",
       "      <td>Boro</td>\n",
       "      <td>23</td>\n",
       "      <td>Female</td>\n",
       "      <td>1000</td>\n",
       "      <td>40000</td>\n",
       "      <td>Czechia</td>\n",
       "    </tr>\n",
       "    <tr>\n",
       "      <th>3</th>\n",
       "      <td>NaN</td>\n",
       "      <td>Jožo</td>\n",
       "      <td>Zajeci</td>\n",
       "      <td>50</td>\n",
       "      <td>Male</td>\n",
       "      <td>400</td>\n",
       "      <td>18000</td>\n",
       "      <td>Slovakia</td>\n",
       "    </tr>\n",
       "    <tr>\n",
       "      <th>4</th>\n",
       "      <td>NaN</td>\n",
       "      <td>Prlajz</td>\n",
       "      <td></td>\n",
       "      <td>34</td>\n",
       "      <td>Dog</td>\n",
       "      <td>800</td>\n",
       "      <td>19000</td>\n",
       "      <td>Poland</td>\n",
       "    </tr>\n",
       "  </tbody>\n",
       "</table>\n",
       "</div>"
      ],
      "text/plain": [
       "                 Mail First_name Last Name  Age     Sex  Bills  Salary  \\\n",
       "0        JJ@email.com        Jon      Bobo   20    Male   1000   20000   \n",
       "1      pony@gmail.com      Ponna      Wale   32  Female   2000   25000   \n",
       "2  borovice@seznam.cz       Lada      Boro   23  Female   1000   40000   \n",
       "3                 NaN       Jožo    Zajeci   50    Male    400   18000   \n",
       "4                 NaN     Prlajz             34     Dog    800   19000   \n",
       "\n",
       "    Country  \n",
       "0       USA  \n",
       "1   Germany  \n",
       "2   Czechia  \n",
       "3  Slovakia  \n",
       "4    Poland  "
      ]
     },
     "execution_count": 1503,
     "metadata": {},
     "output_type": "execute_result"
    }
   ],
   "source": [
    "# rename column / columns\n",
    "\n",
    "custom_df2.rename(columns={\"Email\": \"Mail\", \"Name\": \"First_name\"}, inplace=True)\n",
    "custom_df2"
   ]
  },
  {
   "cell_type": "code",
   "execution_count": 1504,
   "metadata": {
    "colab": {
     "base_uri": "https://localhost:8080/",
     "height": 206
    },
    "executionInfo": {
     "elapsed": 22,
     "status": "ok",
     "timestamp": 1655229266930,
     "user": {
      "displayName": "Ismaril",
      "userId": "09094833649721836077"
     },
     "user_tz": -120
    },
    "id": "k9abUw-LX7Zr",
    "outputId": "cf98b29c-e728-472c-d11b-c76f92f267e3"
   },
   "outputs": [
    {
     "data": {
      "text/html": [
       "<div>\n",
       "<style scoped>\n",
       "    .dataframe tbody tr th:only-of-type {\n",
       "        vertical-align: middle;\n",
       "    }\n",
       "\n",
       "    .dataframe tbody tr th {\n",
       "        vertical-align: top;\n",
       "    }\n",
       "\n",
       "    .dataframe thead th {\n",
       "        text-align: right;\n",
       "    }\n",
       "</style>\n",
       "<table border=\"1\" class=\"dataframe\">\n",
       "  <thead>\n",
       "    <tr style=\"text-align: right;\">\n",
       "      <th></th>\n",
       "      <th>Mail</th>\n",
       "      <th>First_name</th>\n",
       "      <th>Last Name</th>\n",
       "      <th>Age</th>\n",
       "      <th>Sex</th>\n",
       "      <th>Bills</th>\n",
       "      <th>Salary</th>\n",
       "      <th>Country</th>\n",
       "    </tr>\n",
       "  </thead>\n",
       "  <tbody>\n",
       "    <tr>\n",
       "      <th>0</th>\n",
       "      <td>JJ@email.com</td>\n",
       "      <td>Jon</td>\n",
       "      <td>Bobo</td>\n",
       "      <td>20</td>\n",
       "      <td>Male</td>\n",
       "      <td>1000</td>\n",
       "      <td>20000</td>\n",
       "      <td>USA</td>\n",
       "    </tr>\n",
       "    <tr>\n",
       "      <th>1</th>\n",
       "      <td>pony@gmail.com</td>\n",
       "      <td>Ponna</td>\n",
       "      <td>Wale</td>\n",
       "      <td>32</td>\n",
       "      <td>Female</td>\n",
       "      <td>2000</td>\n",
       "      <td>25000</td>\n",
       "      <td>Germany</td>\n",
       "    </tr>\n",
       "    <tr>\n",
       "      <th>2</th>\n",
       "      <td>borovice@seznam.cz</td>\n",
       "      <td>Lada</td>\n",
       "      <td>Boro</td>\n",
       "      <td>23</td>\n",
       "      <td>Female</td>\n",
       "      <td>1000</td>\n",
       "      <td>40000</td>\n",
       "      <td>Czechia</td>\n",
       "    </tr>\n",
       "    <tr>\n",
       "      <th>3</th>\n",
       "      <td>NaN</td>\n",
       "      <td>Jožo</td>\n",
       "      <td>Zajeci</td>\n",
       "      <td>50</td>\n",
       "      <td>Male</td>\n",
       "      <td>400</td>\n",
       "      <td>18500</td>\n",
       "      <td>Slovakia</td>\n",
       "    </tr>\n",
       "    <tr>\n",
       "      <th>4</th>\n",
       "      <td>NaN</td>\n",
       "      <td>Prlajz</td>\n",
       "      <td></td>\n",
       "      <td>34</td>\n",
       "      <td>Dog</td>\n",
       "      <td>800</td>\n",
       "      <td>19000</td>\n",
       "      <td>Poland</td>\n",
       "    </tr>\n",
       "  </tbody>\n",
       "</table>\n",
       "</div>"
      ],
      "text/plain": [
       "                 Mail First_name Last Name  Age     Sex  Bills  Salary  \\\n",
       "0        JJ@email.com        Jon      Bobo   20    Male   1000   20000   \n",
       "1      pony@gmail.com      Ponna      Wale   32  Female   2000   25000   \n",
       "2  borovice@seznam.cz       Lada      Boro   23  Female   1000   40000   \n",
       "3                 NaN       Jožo    Zajeci   50    Male    400   18500   \n",
       "4                 NaN     Prlajz             34     Dog    800   19000   \n",
       "\n",
       "    Country  \n",
       "0       USA  \n",
       "1   Germany  \n",
       "2   Czechia  \n",
       "3  Slovakia  \n",
       "4    Poland  "
      ]
     },
     "execution_count": 1504,
     "metadata": {},
     "output_type": "execute_result"
    }
   ],
   "source": [
    "# change a some singl value in a dataset\n",
    "\n",
    "# change Jožos salary to 18500\n",
    "\n",
    "filter8 = custom_df2[\"First_name\"].str.contains(\"Jožo\")\n",
    "\n",
    "custom_df2.loc[filter8, \"Salary\"] = 18500\n",
    "custom_df2"
   ]
  },
  {
   "cell_type": "code",
   "execution_count": 1505,
   "metadata": {
    "colab": {
     "base_uri": "https://localhost:8080/",
     "height": 206
    },
    "executionInfo": {
     "elapsed": 22,
     "status": "ok",
     "timestamp": 1655229266930,
     "user": {
      "displayName": "Ismaril",
      "userId": "09094833649721836077"
     },
     "user_tz": -120
    },
    "id": "MQN82LjNY7Rt",
    "outputId": "bc970375-72cb-442a-8637-2abfa4f47028"
   },
   "outputs": [
    {
     "data": {
      "text/html": [
       "<div>\n",
       "<style scoped>\n",
       "    .dataframe tbody tr th:only-of-type {\n",
       "        vertical-align: middle;\n",
       "    }\n",
       "\n",
       "    .dataframe tbody tr th {\n",
       "        vertical-align: top;\n",
       "    }\n",
       "\n",
       "    .dataframe thead th {\n",
       "        text-align: right;\n",
       "    }\n",
       "</style>\n",
       "<table border=\"1\" class=\"dataframe\">\n",
       "  <thead>\n",
       "    <tr style=\"text-align: right;\">\n",
       "      <th></th>\n",
       "      <th>Mail</th>\n",
       "      <th>First_name</th>\n",
       "      <th>Last Name</th>\n",
       "      <th>Age</th>\n",
       "      <th>Sex</th>\n",
       "      <th>Bills</th>\n",
       "      <th>Salary</th>\n",
       "      <th>Country</th>\n",
       "    </tr>\n",
       "  </thead>\n",
       "  <tbody>\n",
       "    <tr>\n",
       "      <th>0</th>\n",
       "      <td>Jonny@email.com</td>\n",
       "      <td>Jon</td>\n",
       "      <td>Bobo</td>\n",
       "      <td>21</td>\n",
       "      <td>Male</td>\n",
       "      <td>1400</td>\n",
       "      <td>22000</td>\n",
       "      <td>USA</td>\n",
       "    </tr>\n",
       "    <tr>\n",
       "      <th>1</th>\n",
       "      <td>pony@gmail.com</td>\n",
       "      <td>Ponna</td>\n",
       "      <td>Wale</td>\n",
       "      <td>32</td>\n",
       "      <td>Female</td>\n",
       "      <td>2000</td>\n",
       "      <td>25000</td>\n",
       "      <td>Germany</td>\n",
       "    </tr>\n",
       "    <tr>\n",
       "      <th>2</th>\n",
       "      <td>borovice@seznam.cz</td>\n",
       "      <td>Lada</td>\n",
       "      <td>Boro</td>\n",
       "      <td>23</td>\n",
       "      <td>Female</td>\n",
       "      <td>1000</td>\n",
       "      <td>40000</td>\n",
       "      <td>Czechia</td>\n",
       "    </tr>\n",
       "    <tr>\n",
       "      <th>3</th>\n",
       "      <td>NaN</td>\n",
       "      <td>Jožo</td>\n",
       "      <td>Zajeci</td>\n",
       "      <td>50</td>\n",
       "      <td>Male</td>\n",
       "      <td>400</td>\n",
       "      <td>18500</td>\n",
       "      <td>Slovakia</td>\n",
       "    </tr>\n",
       "    <tr>\n",
       "      <th>4</th>\n",
       "      <td>NaN</td>\n",
       "      <td>Prlajz</td>\n",
       "      <td></td>\n",
       "      <td>34</td>\n",
       "      <td>Dog</td>\n",
       "      <td>800</td>\n",
       "      <td>19000</td>\n",
       "      <td>Poland</td>\n",
       "    </tr>\n",
       "  </tbody>\n",
       "</table>\n",
       "</div>"
      ],
      "text/plain": [
       "                 Mail First_name Last Name  Age     Sex  Bills  Salary  \\\n",
       "0     Jonny@email.com        Jon      Bobo   21    Male   1400   22000   \n",
       "1      pony@gmail.com      Ponna      Wale   32  Female   2000   25000   \n",
       "2  borovice@seznam.cz       Lada      Boro   23  Female   1000   40000   \n",
       "3                 NaN       Jožo    Zajeci   50    Male    400   18500   \n",
       "4                 NaN     Prlajz             34     Dog    800   19000   \n",
       "\n",
       "    Country  \n",
       "0       USA  \n",
       "1   Germany  \n",
       "2   Czechia  \n",
       "3  Slovakia  \n",
       "4    Poland  "
      ]
     },
     "execution_count": 1505,
     "metadata": {},
     "output_type": "execute_result"
    }
   ],
   "source": [
    "# change whole row\n",
    "\n",
    "# have to assign a value to each column of a given row\n",
    "custom_df2.iloc[0] = [\"Jonny@email.com\", \"Jon\", \"Bobo\", 21, \"Male\", 1400, 22000, \"USA\"]\n",
    "custom_df2"
   ]
  },
  {
   "cell_type": "code",
   "execution_count": 1506,
   "metadata": {
    "colab": {
     "base_uri": "https://localhost:8080/",
     "height": 206
    },
    "executionInfo": {
     "elapsed": 21,
     "status": "ok",
     "timestamp": 1655229266930,
     "user": {
      "displayName": "Ismaril",
      "userId": "09094833649721836077"
     },
     "user_tz": -120
    },
    "id": "vUG4w07tefIU",
    "outputId": "bf924b4c-7688-49ea-c88a-1aa5fa29ea6c"
   },
   "outputs": [
    {
     "data": {
      "text/html": [
       "<div>\n",
       "<style scoped>\n",
       "    .dataframe tbody tr th:only-of-type {\n",
       "        vertical-align: middle;\n",
       "    }\n",
       "\n",
       "    .dataframe tbody tr th {\n",
       "        vertical-align: top;\n",
       "    }\n",
       "\n",
       "    .dataframe thead th {\n",
       "        text-align: right;\n",
       "    }\n",
       "</style>\n",
       "<table border=\"1\" class=\"dataframe\">\n",
       "  <thead>\n",
       "    <tr style=\"text-align: right;\">\n",
       "      <th></th>\n",
       "      <th>Mail</th>\n",
       "      <th>First_name</th>\n",
       "      <th>Last Name</th>\n",
       "      <th>Age</th>\n",
       "      <th>Sex</th>\n",
       "      <th>Bills</th>\n",
       "      <th>Salary</th>\n",
       "      <th>Country</th>\n",
       "    </tr>\n",
       "  </thead>\n",
       "  <tbody>\n",
       "    <tr>\n",
       "      <th>0</th>\n",
       "      <td>Jonny@email.com</td>\n",
       "      <td>Jon</td>\n",
       "      <td>Bobo</td>\n",
       "      <td>21</td>\n",
       "      <td>Male</td>\n",
       "      <td>1400</td>\n",
       "      <td>32000</td>\n",
       "      <td>USA</td>\n",
       "    </tr>\n",
       "    <tr>\n",
       "      <th>1</th>\n",
       "      <td>pony@gmail.com</td>\n",
       "      <td>Ponna</td>\n",
       "      <td>Wale</td>\n",
       "      <td>32</td>\n",
       "      <td>Female</td>\n",
       "      <td>2000</td>\n",
       "      <td>35000</td>\n",
       "      <td>Germany</td>\n",
       "    </tr>\n",
       "    <tr>\n",
       "      <th>2</th>\n",
       "      <td>borovice@seznam.cz</td>\n",
       "      <td>Lada</td>\n",
       "      <td>Boro</td>\n",
       "      <td>23</td>\n",
       "      <td>Female</td>\n",
       "      <td>1000</td>\n",
       "      <td>50000</td>\n",
       "      <td>Czechia</td>\n",
       "    </tr>\n",
       "    <tr>\n",
       "      <th>3</th>\n",
       "      <td>NaN</td>\n",
       "      <td>Jožo</td>\n",
       "      <td>Zajeci</td>\n",
       "      <td>50</td>\n",
       "      <td>Male</td>\n",
       "      <td>400</td>\n",
       "      <td>28500</td>\n",
       "      <td>Slovakia</td>\n",
       "    </tr>\n",
       "    <tr>\n",
       "      <th>4</th>\n",
       "      <td>NaN</td>\n",
       "      <td>Prlajz</td>\n",
       "      <td></td>\n",
       "      <td>34</td>\n",
       "      <td>Dog</td>\n",
       "      <td>800</td>\n",
       "      <td>29000</td>\n",
       "      <td>Poland</td>\n",
       "    </tr>\n",
       "  </tbody>\n",
       "</table>\n",
       "</div>"
      ],
      "text/plain": [
       "                 Mail First_name Last Name  Age     Sex  Bills  Salary  \\\n",
       "0     Jonny@email.com        Jon      Bobo   21    Male   1400   32000   \n",
       "1      pony@gmail.com      Ponna      Wale   32  Female   2000   35000   \n",
       "2  borovice@seznam.cz       Lada      Boro   23  Female   1000   50000   \n",
       "3                 NaN       Jožo    Zajeci   50    Male    400   28500   \n",
       "4                 NaN     Prlajz             34     Dog    800   29000   \n",
       "\n",
       "    Country  \n",
       "0       USA  \n",
       "1   Germany  \n",
       "2   Czechia  \n",
       "3  Slovakia  \n",
       "4    Poland  "
      ]
     },
     "execution_count": 1506,
     "metadata": {},
     "output_type": "execute_result"
    }
   ],
   "source": [
    "# Change all values of a given column - integers\n",
    "\n",
    "custom_df2[\"Salary\"] = custom_df2[\"Salary\"] + 10_000\n",
    "custom_df2"
   ]
  },
  {
   "cell_type": "code",
   "execution_count": 1507,
   "metadata": {
    "colab": {
     "base_uri": "https://localhost:8080/",
     "height": 206
    },
    "executionInfo": {
     "elapsed": 21,
     "status": "ok",
     "timestamp": 1655229266931,
     "user": {
      "displayName": "Ismaril",
      "userId": "09094833649721836077"
     },
     "user_tz": -120
    },
    "id": "sZsj35gmfeGw",
    "outputId": "0a49fd5d-9cf8-43bb-ad40-89d80edae049"
   },
   "outputs": [
    {
     "data": {
      "text/html": [
       "<div>\n",
       "<style scoped>\n",
       "    .dataframe tbody tr th:only-of-type {\n",
       "        vertical-align: middle;\n",
       "    }\n",
       "\n",
       "    .dataframe tbody tr th {\n",
       "        vertical-align: top;\n",
       "    }\n",
       "\n",
       "    .dataframe thead th {\n",
       "        text-align: right;\n",
       "    }\n",
       "</style>\n",
       "<table border=\"1\" class=\"dataframe\">\n",
       "  <thead>\n",
       "    <tr style=\"text-align: right;\">\n",
       "      <th></th>\n",
       "      <th>Mail</th>\n",
       "      <th>First_name</th>\n",
       "      <th>Last Name</th>\n",
       "      <th>Age</th>\n",
       "      <th>Sex</th>\n",
       "      <th>Bills</th>\n",
       "      <th>Salary</th>\n",
       "      <th>Country</th>\n",
       "    </tr>\n",
       "  </thead>\n",
       "  <tbody>\n",
       "    <tr>\n",
       "      <th>0</th>\n",
       "      <td>Jonny@email.com</td>\n",
       "      <td>Jon</td>\n",
       "      <td>Bobo</td>\n",
       "      <td>21</td>\n",
       "      <td>male</td>\n",
       "      <td>1400</td>\n",
       "      <td>32000</td>\n",
       "      <td>USA</td>\n",
       "    </tr>\n",
       "    <tr>\n",
       "      <th>1</th>\n",
       "      <td>pony@gmail.com</td>\n",
       "      <td>Ponna</td>\n",
       "      <td>Wale</td>\n",
       "      <td>32</td>\n",
       "      <td>female</td>\n",
       "      <td>2000</td>\n",
       "      <td>35000</td>\n",
       "      <td>Germany</td>\n",
       "    </tr>\n",
       "    <tr>\n",
       "      <th>2</th>\n",
       "      <td>borovice@seznam.cz</td>\n",
       "      <td>Lada</td>\n",
       "      <td>Boro</td>\n",
       "      <td>23</td>\n",
       "      <td>female</td>\n",
       "      <td>1000</td>\n",
       "      <td>50000</td>\n",
       "      <td>Czechia</td>\n",
       "    </tr>\n",
       "    <tr>\n",
       "      <th>3</th>\n",
       "      <td>NaN</td>\n",
       "      <td>Jožo</td>\n",
       "      <td>Zajeci</td>\n",
       "      <td>50</td>\n",
       "      <td>male</td>\n",
       "      <td>400</td>\n",
       "      <td>28500</td>\n",
       "      <td>Slovakia</td>\n",
       "    </tr>\n",
       "    <tr>\n",
       "      <th>4</th>\n",
       "      <td>NaN</td>\n",
       "      <td>Prlajz</td>\n",
       "      <td></td>\n",
       "      <td>34</td>\n",
       "      <td>dog</td>\n",
       "      <td>800</td>\n",
       "      <td>29000</td>\n",
       "      <td>Poland</td>\n",
       "    </tr>\n",
       "  </tbody>\n",
       "</table>\n",
       "</div>"
      ],
      "text/plain": [
       "                 Mail First_name Last Name  Age     Sex  Bills  Salary  \\\n",
       "0     Jonny@email.com        Jon      Bobo   21    male   1400   32000   \n",
       "1      pony@gmail.com      Ponna      Wale   32  female   2000   35000   \n",
       "2  borovice@seznam.cz       Lada      Boro   23  female   1000   50000   \n",
       "3                 NaN       Jožo    Zajeci   50    male    400   28500   \n",
       "4                 NaN     Prlajz             34     dog    800   29000   \n",
       "\n",
       "    Country  \n",
       "0       USA  \n",
       "1   Germany  \n",
       "2   Czechia  \n",
       "3  Slovakia  \n",
       "4    Poland  "
      ]
     },
     "execution_count": 1507,
     "metadata": {},
     "output_type": "execute_result"
    }
   ],
   "source": [
    "# change all values of a given column - strings\n",
    "\n",
    "custom_df2[\"Sex\"] = custom_df2[\"Sex\"].str.lower()\n",
    "custom_df2"
   ]
  },
  {
   "cell_type": "markdown",
   "metadata": {
    "id": "melOzJYTf6D7"
   },
   "source": [
    "#### apply\n",
    "use any ***function()*** that will be applied on each value of a given column\n",
    "\n",
    "- can be used both on series and on dataframes"
   ]
  },
  {
   "cell_type": "code",
   "execution_count": 1508,
   "metadata": {
    "colab": {
     "base_uri": "https://localhost:8080/"
    },
    "executionInfo": {
     "elapsed": 21,
     "status": "ok",
     "timestamp": 1655229266931,
     "user": {
      "displayName": "Ismaril",
      "userId": "09094833649721836077"
     },
     "user_tz": -120
    },
    "id": "yNDXD0vyhjzG",
    "outputId": "0b0e8fd7-c752-473c-adc7-a6cf7278938e"
   },
   "outputs": [
    {
     "data": {
      "text/plain": [
       "0    3\n",
       "1    7\n",
       "2    7\n",
       "3    8\n",
       "4    6\n",
       "Name: Country, dtype: int64"
      ]
     },
     "execution_count": 1508,
     "metadata": {},
     "output_type": "execute_result"
    }
   ],
   "source": [
    "# use it on a series\n",
    "\n",
    "custom_df2[\"Country\"].apply(len)"
   ]
  },
  {
   "cell_type": "code",
   "execution_count": 1509,
   "metadata": {
    "colab": {
     "base_uri": "https://localhost:8080/",
     "height": 206
    },
    "executionInfo": {
     "elapsed": 19,
     "status": "ok",
     "timestamp": 1655229266931,
     "user": {
      "displayName": "Ismaril",
      "userId": "09094833649721836077"
     },
     "user_tz": -120
    },
    "id": "-DF2IYKFiHSr",
    "outputId": "318646dd-8c3e-42b9-8f95-25de7a73b56f"
   },
   "outputs": [
    {
     "data": {
      "text/html": [
       "<div>\n",
       "<style scoped>\n",
       "    .dataframe tbody tr th:only-of-type {\n",
       "        vertical-align: middle;\n",
       "    }\n",
       "\n",
       "    .dataframe tbody tr th {\n",
       "        vertical-align: top;\n",
       "    }\n",
       "\n",
       "    .dataframe thead th {\n",
       "        text-align: right;\n",
       "    }\n",
       "</style>\n",
       "<table border=\"1\" class=\"dataframe\">\n",
       "  <thead>\n",
       "    <tr style=\"text-align: right;\">\n",
       "      <th></th>\n",
       "      <th>Mail</th>\n",
       "      <th>First_name</th>\n",
       "      <th>Last Name</th>\n",
       "      <th>Age</th>\n",
       "      <th>Sex</th>\n",
       "      <th>Bills</th>\n",
       "      <th>Salary</th>\n",
       "      <th>Country</th>\n",
       "    </tr>\n",
       "  </thead>\n",
       "  <tbody>\n",
       "    <tr>\n",
       "      <th>0</th>\n",
       "      <td>Jonny@email.com</td>\n",
       "      <td>Jon</td>\n",
       "      <td>Bobo</td>\n",
       "      <td>21</td>\n",
       "      <td>Male</td>\n",
       "      <td>1400</td>\n",
       "      <td>32000</td>\n",
       "      <td>USA</td>\n",
       "    </tr>\n",
       "    <tr>\n",
       "      <th>1</th>\n",
       "      <td>pony@gmail.com</td>\n",
       "      <td>Ponna</td>\n",
       "      <td>Wale</td>\n",
       "      <td>32</td>\n",
       "      <td>Female</td>\n",
       "      <td>2000</td>\n",
       "      <td>35000</td>\n",
       "      <td>GERMANY</td>\n",
       "    </tr>\n",
       "    <tr>\n",
       "      <th>2</th>\n",
       "      <td>borovice@seznam.cz</td>\n",
       "      <td>Lada</td>\n",
       "      <td>Boro</td>\n",
       "      <td>23</td>\n",
       "      <td>Female</td>\n",
       "      <td>1000</td>\n",
       "      <td>50000</td>\n",
       "      <td>CZECHIA</td>\n",
       "    </tr>\n",
       "    <tr>\n",
       "      <th>3</th>\n",
       "      <td>NaN</td>\n",
       "      <td>Jožo</td>\n",
       "      <td>Zajeci</td>\n",
       "      <td>50</td>\n",
       "      <td>Male</td>\n",
       "      <td>400</td>\n",
       "      <td>28500</td>\n",
       "      <td>SLOVAKIA</td>\n",
       "    </tr>\n",
       "    <tr>\n",
       "      <th>4</th>\n",
       "      <td>NaN</td>\n",
       "      <td>Prlajz</td>\n",
       "      <td></td>\n",
       "      <td>34</td>\n",
       "      <td>Dog</td>\n",
       "      <td>800</td>\n",
       "      <td>29000</td>\n",
       "      <td>POLAND</td>\n",
       "    </tr>\n",
       "  </tbody>\n",
       "</table>\n",
       "</div>"
      ],
      "text/plain": [
       "                 Mail First_name Last Name  Age     Sex  Bills  Salary  \\\n",
       "0     Jonny@email.com        Jon      Bobo   21    Male   1400   32000   \n",
       "1      pony@gmail.com      Ponna      Wale   32  Female   2000   35000   \n",
       "2  borovice@seznam.cz       Lada      Boro   23  Female   1000   50000   \n",
       "3                 NaN       Jožo    Zajeci   50    Male    400   28500   \n",
       "4                 NaN     Prlajz             34     Dog    800   29000   \n",
       "\n",
       "    Country  \n",
       "0       USA  \n",
       "1   GERMANY  \n",
       "2   CZECHIA  \n",
       "3  SLOVAKIA  \n",
       "4    POLAND  "
      ]
     },
     "execution_count": 1509,
     "metadata": {},
     "output_type": "execute_result"
    }
   ],
   "source": [
    "# use it on a series\n",
    "\n",
    "def make_upper_case(parameter):\n",
    "  return parameter.upper()\n",
    "\n",
    "custom_df2[\"Country\"] = custom_df2[\"Country\"].apply(make_upper_case)\n",
    "\n",
    "# also possible with lambda\n",
    "custom_df2[\"Sex\"] = custom_df2[\"Sex\"].apply(lambda parameter: parameter.title())\n",
    "\n",
    "custom_df2"
   ]
  },
  {
   "cell_type": "code",
   "execution_count": 1510,
   "metadata": {
    "colab": {
     "base_uri": "https://localhost:8080/"
    },
    "executionInfo": {
     "elapsed": 586,
     "status": "ok",
     "timestamp": 1655229267499,
     "user": {
      "displayName": "Ismaril",
      "userId": "09094833649721836077"
     },
     "user_tz": -120
    },
    "id": "uyzAKEl6jfLZ",
    "outputId": "22e3542a-c9cf-456f-f3c9-a4f580aed652"
   },
   "outputs": [
    {
     "name": "stdout",
     "output_type": "stream",
     "text": [
      "Mail          5\n",
      "First_name    5\n",
      "Last Name     5\n",
      "Age           5\n",
      "Sex           5\n",
      "Bills         5\n",
      "Salary        5\n",
      "Country       5\n",
      "dtype: int64\n",
      "\n",
      "0    8\n",
      "1    8\n",
      "2    8\n",
      "3    8\n",
      "4    8\n",
      "dtype: int64\n"
     ]
    }
   ],
   "source": [
    "# use it on a dataframe\n",
    "\n",
    "# this will return length of each series in a given dataframe\n",
    "print(custom_df2.apply(len, axis=\"rows\"))\n",
    "print()\n",
    "print(custom_df2.apply(len, axis=\"columns\"))"
   ]
  },
  {
   "cell_type": "markdown",
   "metadata": {
    "id": "A7a2dNPYj-6b"
   },
   "source": [
    "#### apply map\n",
    "this will work for each single value in series on the whole dataframe"
   ]
  },
  {
   "cell_type": "code",
   "execution_count": 1511,
   "metadata": {
    "colab": {
     "base_uri": "https://localhost:8080/",
     "height": 143
    },
    "executionInfo": {
     "elapsed": 42,
     "status": "ok",
     "timestamp": 1655229267500,
     "user": {
      "displayName": "Ismaril",
      "userId": "09094833649721836077"
     },
     "user_tz": -120
    },
    "id": "E_JHys0xlDsH",
    "outputId": "71254d23-ed09-41e9-b73c-db4976f07002"
   },
   "outputs": [
    {
     "data": {
      "text/html": [
       "<div>\n",
       "<style scoped>\n",
       "    .dataframe tbody tr th:only-of-type {\n",
       "        vertical-align: middle;\n",
       "    }\n",
       "\n",
       "    .dataframe tbody tr th {\n",
       "        vertical-align: top;\n",
       "    }\n",
       "\n",
       "    .dataframe thead th {\n",
       "        text-align: right;\n",
       "    }\n",
       "</style>\n",
       "<table border=\"1\" class=\"dataframe\">\n",
       "  <thead>\n",
       "    <tr style=\"text-align: right;\">\n",
       "      <th></th>\n",
       "      <th>Mail</th>\n",
       "      <th>First_name</th>\n",
       "      <th>Last Name</th>\n",
       "      <th>Sex</th>\n",
       "      <th>Country</th>\n",
       "    </tr>\n",
       "  </thead>\n",
       "  <tbody>\n",
       "    <tr>\n",
       "      <th>0</th>\n",
       "      <td>15</td>\n",
       "      <td>3</td>\n",
       "      <td>4</td>\n",
       "      <td>4</td>\n",
       "      <td>3</td>\n",
       "    </tr>\n",
       "    <tr>\n",
       "      <th>1</th>\n",
       "      <td>14</td>\n",
       "      <td>5</td>\n",
       "      <td>4</td>\n",
       "      <td>6</td>\n",
       "      <td>7</td>\n",
       "    </tr>\n",
       "    <tr>\n",
       "      <th>2</th>\n",
       "      <td>18</td>\n",
       "      <td>4</td>\n",
       "      <td>4</td>\n",
       "      <td>6</td>\n",
       "      <td>7</td>\n",
       "    </tr>\n",
       "  </tbody>\n",
       "</table>\n",
       "</div>"
      ],
      "text/plain": [
       "   Mail  First_name  Last Name  Sex  Country\n",
       "0    15           3          4    4        3\n",
       "1    14           5          4    6        7\n",
       "2    18           4          4    6        7"
      ]
     },
     "execution_count": 1511,
     "metadata": {},
     "output_type": "execute_result"
    }
   ],
   "source": [
    "\n",
    "# drop columns with n/a values and integers because len() would not work on that\n",
    "custom_df3 = custom_df2.drop(index=[3, 4], columns=[\"Bills\", \"Salary\", \"Age\"]) \n",
    "\n",
    "# custom_df3\n",
    "custom_df3.applymap(len)"
   ]
  },
  {
   "cell_type": "code",
   "execution_count": 1512,
   "metadata": {
    "colab": {
     "base_uri": "https://localhost:8080/",
     "height": 143
    },
    "executionInfo": {
     "elapsed": 42,
     "status": "ok",
     "timestamp": 1655229267501,
     "user": {
      "displayName": "Ismaril",
      "userId": "09094833649721836077"
     },
     "user_tz": -120
    },
    "id": "mWWpwUj0lSNu",
    "outputId": "2e19bd8b-fe0a-4ca8-f757-ea10c63d8097"
   },
   "outputs": [
    {
     "data": {
      "text/html": [
       "<div>\n",
       "<style scoped>\n",
       "    .dataframe tbody tr th:only-of-type {\n",
       "        vertical-align: middle;\n",
       "    }\n",
       "\n",
       "    .dataframe tbody tr th {\n",
       "        vertical-align: top;\n",
       "    }\n",
       "\n",
       "    .dataframe thead th {\n",
       "        text-align: right;\n",
       "    }\n",
       "</style>\n",
       "<table border=\"1\" class=\"dataframe\">\n",
       "  <thead>\n",
       "    <tr style=\"text-align: right;\">\n",
       "      <th></th>\n",
       "      <th>Mail</th>\n",
       "      <th>First_name</th>\n",
       "      <th>Last Name</th>\n",
       "      <th>Sex</th>\n",
       "      <th>Country</th>\n",
       "    </tr>\n",
       "  </thead>\n",
       "  <tbody>\n",
       "    <tr>\n",
       "      <th>0</th>\n",
       "      <td>jonny@email.com</td>\n",
       "      <td>jon</td>\n",
       "      <td>bobo</td>\n",
       "      <td>male</td>\n",
       "      <td>usa</td>\n",
       "    </tr>\n",
       "    <tr>\n",
       "      <th>1</th>\n",
       "      <td>pony@gmail.com</td>\n",
       "      <td>ponna</td>\n",
       "      <td>wale</td>\n",
       "      <td>female</td>\n",
       "      <td>germany</td>\n",
       "    </tr>\n",
       "    <tr>\n",
       "      <th>2</th>\n",
       "      <td>borovice@seznam.cz</td>\n",
       "      <td>lada</td>\n",
       "      <td>boro</td>\n",
       "      <td>female</td>\n",
       "      <td>czechia</td>\n",
       "    </tr>\n",
       "  </tbody>\n",
       "</table>\n",
       "</div>"
      ],
      "text/plain": [
       "                 Mail First_name Last Name     Sex  Country\n",
       "0     jonny@email.com        jon      bobo    male      usa\n",
       "1      pony@gmail.com      ponna      wale  female  germany\n",
       "2  borovice@seznam.cz       lada      boro  female  czechia"
      ]
     },
     "execution_count": 1512,
     "metadata": {},
     "output_type": "execute_result"
    }
   ],
   "source": [
    "# make all string values of dataframe lower. (integers and na values have to be dorpped)\n",
    "custom_df3.applymap(str.lower)"
   ]
  },
  {
   "cell_type": "markdown",
   "metadata": {
    "id": "DTwH34FnYagw"
   },
   "source": [
    "### map\n",
    "works only on series. Map is used to replace given values by another given values in a siries"
   ]
  },
  {
   "cell_type": "code",
   "execution_count": 1513,
   "metadata": {
    "colab": {
     "base_uri": "https://localhost:8080/",
     "height": 206
    },
    "executionInfo": {
     "elapsed": 42,
     "status": "ok",
     "timestamp": 1655229267501,
     "user": {
      "displayName": "Ismaril",
      "userId": "09094833649721836077"
     },
     "user_tz": -120
    },
    "id": "f6xEHmFbYbef",
    "outputId": "3702103c-21cb-47ae-f54d-72d951fcc9d5"
   },
   "outputs": [
    {
     "data": {
      "text/html": [
       "<div>\n",
       "<style scoped>\n",
       "    .dataframe tbody tr th:only-of-type {\n",
       "        vertical-align: middle;\n",
       "    }\n",
       "\n",
       "    .dataframe tbody tr th {\n",
       "        vertical-align: top;\n",
       "    }\n",
       "\n",
       "    .dataframe thead th {\n",
       "        text-align: right;\n",
       "    }\n",
       "</style>\n",
       "<table border=\"1\" class=\"dataframe\">\n",
       "  <thead>\n",
       "    <tr style=\"text-align: right;\">\n",
       "      <th></th>\n",
       "      <th>Mail</th>\n",
       "      <th>First_name</th>\n",
       "      <th>Last Name</th>\n",
       "      <th>Age</th>\n",
       "      <th>Sex</th>\n",
       "      <th>Bills</th>\n",
       "      <th>Salary</th>\n",
       "      <th>Country</th>\n",
       "    </tr>\n",
       "  </thead>\n",
       "  <tbody>\n",
       "    <tr>\n",
       "      <th>0</th>\n",
       "      <td>Jonny@email.com</td>\n",
       "      <td>Jon</td>\n",
       "      <td>Bobo</td>\n",
       "      <td>21</td>\n",
       "      <td>Male</td>\n",
       "      <td>1400</td>\n",
       "      <td>32000</td>\n",
       "      <td>USA</td>\n",
       "    </tr>\n",
       "    <tr>\n",
       "      <th>1</th>\n",
       "      <td>pony@gmail.com</td>\n",
       "      <td>Ponna</td>\n",
       "      <td>Wale</td>\n",
       "      <td>32</td>\n",
       "      <td>Female</td>\n",
       "      <td>2000</td>\n",
       "      <td>35000</td>\n",
       "      <td>GERMANY</td>\n",
       "    </tr>\n",
       "    <tr>\n",
       "      <th>2</th>\n",
       "      <td>borovice@seznam.cz</td>\n",
       "      <td>Lada</td>\n",
       "      <td>Boro</td>\n",
       "      <td>23</td>\n",
       "      <td>Female</td>\n",
       "      <td>1000</td>\n",
       "      <td>50000</td>\n",
       "      <td>CZECHIA</td>\n",
       "    </tr>\n",
       "    <tr>\n",
       "      <th>3</th>\n",
       "      <td>NaN</td>\n",
       "      <td>Jožo</td>\n",
       "      <td>Zajeci</td>\n",
       "      <td>50</td>\n",
       "      <td>Male</td>\n",
       "      <td>400</td>\n",
       "      <td>28500</td>\n",
       "      <td>SLOVAKIA</td>\n",
       "    </tr>\n",
       "    <tr>\n",
       "      <th>4</th>\n",
       "      <td>NaN</td>\n",
       "      <td>Prlajz</td>\n",
       "      <td></td>\n",
       "      <td>34</td>\n",
       "      <td>Dog</td>\n",
       "      <td>800</td>\n",
       "      <td>29000</td>\n",
       "      <td>POLAND</td>\n",
       "    </tr>\n",
       "  </tbody>\n",
       "</table>\n",
       "</div>"
      ],
      "text/plain": [
       "                 Mail First_name Last Name  Age     Sex  Bills  Salary  \\\n",
       "0     Jonny@email.com        Jon      Bobo   21    Male   1400   32000   \n",
       "1      pony@gmail.com      Ponna      Wale   32  Female   2000   35000   \n",
       "2  borovice@seznam.cz       Lada      Boro   23  Female   1000   50000   \n",
       "3                 NaN       Jožo    Zajeci   50    Male    400   28500   \n",
       "4                 NaN     Prlajz             34     Dog    800   29000   \n",
       "\n",
       "    Country  \n",
       "0       USA  \n",
       "1   GERMANY  \n",
       "2   CZECHIA  \n",
       "3  SLOVAKIA  \n",
       "4    POLAND  "
      ]
     },
     "execution_count": 1513,
     "metadata": {},
     "output_type": "execute_result"
    }
   ],
   "source": [
    "custom_df2"
   ]
  },
  {
   "cell_type": "code",
   "execution_count": 1514,
   "metadata": {
    "colab": {
     "base_uri": "https://localhost:8080/",
     "height": 206
    },
    "executionInfo": {
     "elapsed": 42,
     "status": "ok",
     "timestamp": 1655229267502,
     "user": {
      "displayName": "Ismaril",
      "userId": "09094833649721836077"
     },
     "user_tz": -120
    },
    "id": "nTPGcm-dYzan",
    "outputId": "54a565a3-6f73-4626-9679-ebb921f6b649"
   },
   "outputs": [
    {
     "data": {
      "text/html": [
       "<div>\n",
       "<style scoped>\n",
       "    .dataframe tbody tr th:only-of-type {\n",
       "        vertical-align: middle;\n",
       "    }\n",
       "\n",
       "    .dataframe tbody tr th {\n",
       "        vertical-align: top;\n",
       "    }\n",
       "\n",
       "    .dataframe thead th {\n",
       "        text-align: right;\n",
       "    }\n",
       "</style>\n",
       "<table border=\"1\" class=\"dataframe\">\n",
       "  <thead>\n",
       "    <tr style=\"text-align: right;\">\n",
       "      <th></th>\n",
       "      <th>Mail</th>\n",
       "      <th>First_name</th>\n",
       "      <th>Last Name</th>\n",
       "      <th>Age</th>\n",
       "      <th>Sex</th>\n",
       "      <th>Bills</th>\n",
       "      <th>Salary</th>\n",
       "      <th>Country</th>\n",
       "    </tr>\n",
       "  </thead>\n",
       "  <tbody>\n",
       "    <tr>\n",
       "      <th>0</th>\n",
       "      <td>Jonny@email.com</td>\n",
       "      <td>Jon</td>\n",
       "      <td>Bobo</td>\n",
       "      <td>21</td>\n",
       "      <td>Chlap</td>\n",
       "      <td>1400</td>\n",
       "      <td>32000</td>\n",
       "      <td>USA</td>\n",
       "    </tr>\n",
       "    <tr>\n",
       "      <th>1</th>\n",
       "      <td>pony@gmail.com</td>\n",
       "      <td>Ponna</td>\n",
       "      <td>Wale</td>\n",
       "      <td>32</td>\n",
       "      <td>Zenska</td>\n",
       "      <td>2000</td>\n",
       "      <td>35000</td>\n",
       "      <td>GERMANY</td>\n",
       "    </tr>\n",
       "    <tr>\n",
       "      <th>2</th>\n",
       "      <td>borovice@seznam.cz</td>\n",
       "      <td>Lada</td>\n",
       "      <td>Boro</td>\n",
       "      <td>23</td>\n",
       "      <td>Zenska</td>\n",
       "      <td>1000</td>\n",
       "      <td>50000</td>\n",
       "      <td>CZECHIA</td>\n",
       "    </tr>\n",
       "    <tr>\n",
       "      <th>3</th>\n",
       "      <td>NaN</td>\n",
       "      <td>Jožo</td>\n",
       "      <td>Zajeci</td>\n",
       "      <td>50</td>\n",
       "      <td>Chlap</td>\n",
       "      <td>400</td>\n",
       "      <td>28500</td>\n",
       "      <td>SLOVAKIA</td>\n",
       "    </tr>\n",
       "    <tr>\n",
       "      <th>4</th>\n",
       "      <td>NaN</td>\n",
       "      <td>Prlajz</td>\n",
       "      <td></td>\n",
       "      <td>34</td>\n",
       "      <td>NaN</td>\n",
       "      <td>800</td>\n",
       "      <td>29000</td>\n",
       "      <td>POLAND</td>\n",
       "    </tr>\n",
       "  </tbody>\n",
       "</table>\n",
       "</div>"
      ],
      "text/plain": [
       "                 Mail First_name Last Name  Age     Sex  Bills  Salary  \\\n",
       "0     Jonny@email.com        Jon      Bobo   21   Chlap   1400   32000   \n",
       "1      pony@gmail.com      Ponna      Wale   32  Zenska   2000   35000   \n",
       "2  borovice@seznam.cz       Lada      Boro   23  Zenska   1000   50000   \n",
       "3                 NaN       Jožo    Zajeci   50   Chlap    400   28500   \n",
       "4                 NaN     Prlajz             34     NaN    800   29000   \n",
       "\n",
       "    Country  \n",
       "0       USA  \n",
       "1   GERMANY  \n",
       "2   CZECHIA  \n",
       "3  SLOVAKIA  \n",
       "4    POLAND  "
      ]
     },
     "execution_count": 1514,
     "metadata": {},
     "output_type": "execute_result"
    }
   ],
   "source": [
    "# replace every specified occurence, not specified occurences will be converted to N/A\n",
    "custom_df4 = custom_df2.copy()\n",
    "custom_df4[\"Sex\"] = custom_df4[\"Sex\"].map({\"Male\": \"Chlap\", \"Female\": \"Zenska\"})\n",
    "custom_df4"
   ]
  },
  {
   "cell_type": "code",
   "execution_count": 1515,
   "metadata": {
    "colab": {
     "base_uri": "https://localhost:8080/",
     "height": 206
    },
    "executionInfo": {
     "elapsed": 41,
     "status": "ok",
     "timestamp": 1655229267502,
     "user": {
      "displayName": "Ismaril",
      "userId": "09094833649721836077"
     },
     "user_tz": -120
    },
    "id": "dC69MD3EbqM4",
    "outputId": "d5b14b4b-755e-4b5f-b1e8-becce3a85fb1"
   },
   "outputs": [
    {
     "data": {
      "text/html": [
       "<div>\n",
       "<style scoped>\n",
       "    .dataframe tbody tr th:only-of-type {\n",
       "        vertical-align: middle;\n",
       "    }\n",
       "\n",
       "    .dataframe tbody tr th {\n",
       "        vertical-align: top;\n",
       "    }\n",
       "\n",
       "    .dataframe thead th {\n",
       "        text-align: right;\n",
       "    }\n",
       "</style>\n",
       "<table border=\"1\" class=\"dataframe\">\n",
       "  <thead>\n",
       "    <tr style=\"text-align: right;\">\n",
       "      <th></th>\n",
       "      <th>Mail</th>\n",
       "      <th>First_name</th>\n",
       "      <th>Last Name</th>\n",
       "      <th>Age</th>\n",
       "      <th>Sex</th>\n",
       "      <th>Bills</th>\n",
       "      <th>Salary</th>\n",
       "      <th>Country</th>\n",
       "    </tr>\n",
       "  </thead>\n",
       "  <tbody>\n",
       "    <tr>\n",
       "      <th>0</th>\n",
       "      <td>Jonny@email.com</td>\n",
       "      <td>Jon</td>\n",
       "      <td>Bobo</td>\n",
       "      <td>21</td>\n",
       "      <td>Chlap</td>\n",
       "      <td>1400</td>\n",
       "      <td>32000</td>\n",
       "      <td>USA</td>\n",
       "    </tr>\n",
       "    <tr>\n",
       "      <th>1</th>\n",
       "      <td>pony@gmail.com</td>\n",
       "      <td>Ponna</td>\n",
       "      <td>Wale</td>\n",
       "      <td>32</td>\n",
       "      <td>Zenska</td>\n",
       "      <td>2000</td>\n",
       "      <td>35000</td>\n",
       "      <td>GERMANY</td>\n",
       "    </tr>\n",
       "    <tr>\n",
       "      <th>2</th>\n",
       "      <td>borovice@seznam.cz</td>\n",
       "      <td>Lada</td>\n",
       "      <td>Boro</td>\n",
       "      <td>23</td>\n",
       "      <td>Zenska</td>\n",
       "      <td>1000</td>\n",
       "      <td>50000</td>\n",
       "      <td>CZECHIA</td>\n",
       "    </tr>\n",
       "    <tr>\n",
       "      <th>3</th>\n",
       "      <td>NaN</td>\n",
       "      <td>Jožo</td>\n",
       "      <td>Zajeci</td>\n",
       "      <td>50</td>\n",
       "      <td>Chlap</td>\n",
       "      <td>400</td>\n",
       "      <td>28500</td>\n",
       "      <td>SLOVAKIA</td>\n",
       "    </tr>\n",
       "    <tr>\n",
       "      <th>4</th>\n",
       "      <td>NaN</td>\n",
       "      <td>Prlajz</td>\n",
       "      <td></td>\n",
       "      <td>34</td>\n",
       "      <td>Dog</td>\n",
       "      <td>800</td>\n",
       "      <td>29000</td>\n",
       "      <td>POLAND</td>\n",
       "    </tr>\n",
       "  </tbody>\n",
       "</table>\n",
       "</div>"
      ],
      "text/plain": [
       "                 Mail First_name Last Name  Age     Sex  Bills  Salary  \\\n",
       "0     Jonny@email.com        Jon      Bobo   21   Chlap   1400   32000   \n",
       "1      pony@gmail.com      Ponna      Wale   32  Zenska   2000   35000   \n",
       "2  borovice@seznam.cz       Lada      Boro   23  Zenska   1000   50000   \n",
       "3                 NaN       Jožo    Zajeci   50   Chlap    400   28500   \n",
       "4                 NaN     Prlajz             34     Dog    800   29000   \n",
       "\n",
       "    Country  \n",
       "0       USA  \n",
       "1   GERMANY  \n",
       "2   CZECHIA  \n",
       "3  SLOVAKIA  \n",
       "4    POLAND  "
      ]
     },
     "execution_count": 1515,
     "metadata": {},
     "output_type": "execute_result"
    }
   ],
   "source": [
    "# replace only specified occurences, not specified occurences will remain the same\n",
    "custom_df5 = custom_df2.copy()\n",
    "custom_df5[\"Sex\"] = custom_df5[\"Sex\"].replace({\"Male\": \"Chlap\", \"Female\": \"Zenska\"})\n",
    "custom_df5"
   ]
  },
  {
   "cell_type": "markdown",
   "metadata": {
    "id": "e8JtKZWRc8m6"
   },
   "source": [
    "# Add/Remove Rows and Columns From DataFrames"
   ]
  },
  {
   "cell_type": "code",
   "execution_count": 1516,
   "metadata": {
    "colab": {
     "base_uri": "https://localhost:8080/",
     "height": 250
    },
    "executionInfo": {
     "elapsed": 42,
     "status": "ok",
     "timestamp": 1655229267503,
     "user": {
      "displayName": "Ismaril",
      "userId": "09094833649721836077"
     },
     "user_tz": -120
    },
    "id": "pAB1bXA5d-at",
    "outputId": "cd324d14-13ad-41a6-b2fd-21e7ca615645"
   },
   "outputs": [
    {
     "data": {
      "text/html": [
       "<div>\n",
       "<style scoped>\n",
       "    .dataframe tbody tr th:only-of-type {\n",
       "        vertical-align: middle;\n",
       "    }\n",
       "\n",
       "    .dataframe tbody tr th {\n",
       "        vertical-align: top;\n",
       "    }\n",
       "\n",
       "    .dataframe thead th {\n",
       "        text-align: right;\n",
       "    }\n",
       "</style>\n",
       "<table border=\"1\" class=\"dataframe\">\n",
       "  <thead>\n",
       "    <tr style=\"text-align: right;\">\n",
       "      <th></th>\n",
       "      <th>Mail</th>\n",
       "      <th>First_name</th>\n",
       "      <th>Last Name</th>\n",
       "      <th>Age</th>\n",
       "      <th>Sex</th>\n",
       "      <th>Bills</th>\n",
       "      <th>Salary</th>\n",
       "      <th>Country</th>\n",
       "      <th>Full name</th>\n",
       "    </tr>\n",
       "  </thead>\n",
       "  <tbody>\n",
       "    <tr>\n",
       "      <th>0</th>\n",
       "      <td>Jonny@email.com</td>\n",
       "      <td>Jon</td>\n",
       "      <td>Bobo</td>\n",
       "      <td>21</td>\n",
       "      <td>Male</td>\n",
       "      <td>1400</td>\n",
       "      <td>32000</td>\n",
       "      <td>USA</td>\n",
       "      <td>Jon Bobo</td>\n",
       "    </tr>\n",
       "    <tr>\n",
       "      <th>1</th>\n",
       "      <td>pony@gmail.com</td>\n",
       "      <td>Ponna</td>\n",
       "      <td>Wale</td>\n",
       "      <td>32</td>\n",
       "      <td>Female</td>\n",
       "      <td>2000</td>\n",
       "      <td>35000</td>\n",
       "      <td>GERMANY</td>\n",
       "      <td>Ponna Wale</td>\n",
       "    </tr>\n",
       "    <tr>\n",
       "      <th>2</th>\n",
       "      <td>borovice@seznam.cz</td>\n",
       "      <td>Lada</td>\n",
       "      <td>Boro</td>\n",
       "      <td>23</td>\n",
       "      <td>Female</td>\n",
       "      <td>1000</td>\n",
       "      <td>50000</td>\n",
       "      <td>CZECHIA</td>\n",
       "      <td>Lada Boro</td>\n",
       "    </tr>\n",
       "    <tr>\n",
       "      <th>3</th>\n",
       "      <td>NaN</td>\n",
       "      <td>Jožo</td>\n",
       "      <td>Zajeci</td>\n",
       "      <td>50</td>\n",
       "      <td>Male</td>\n",
       "      <td>400</td>\n",
       "      <td>28500</td>\n",
       "      <td>SLOVAKIA</td>\n",
       "      <td>Jožo Zajeci</td>\n",
       "    </tr>\n",
       "    <tr>\n",
       "      <th>4</th>\n",
       "      <td>NaN</td>\n",
       "      <td>Prlajz</td>\n",
       "      <td></td>\n",
       "      <td>34</td>\n",
       "      <td>Dog</td>\n",
       "      <td>800</td>\n",
       "      <td>29000</td>\n",
       "      <td>POLAND</td>\n",
       "      <td>Prlajz</td>\n",
       "    </tr>\n",
       "  </tbody>\n",
       "</table>\n",
       "</div>"
      ],
      "text/plain": [
       "                 Mail First_name Last Name  Age     Sex  Bills  Salary  \\\n",
       "0     Jonny@email.com        Jon      Bobo   21    Male   1400   32000   \n",
       "1      pony@gmail.com      Ponna      Wale   32  Female   2000   35000   \n",
       "2  borovice@seznam.cz       Lada      Boro   23  Female   1000   50000   \n",
       "3                 NaN       Jožo    Zajeci   50    Male    400   28500   \n",
       "4                 NaN     Prlajz             34     Dog    800   29000   \n",
       "\n",
       "    Country    Full name  \n",
       "0       USA     Jon Bobo  \n",
       "1   GERMANY   Ponna Wale  \n",
       "2   CZECHIA    Lada Boro  \n",
       "3  SLOVAKIA  Jožo Zajeci  \n",
       "4    POLAND      Prlajz   "
      ]
     },
     "execution_count": 1516,
     "metadata": {},
     "output_type": "execute_result"
    }
   ],
   "source": [
    "# add a new row as a combination of existing ones\n",
    "custom_df2[\"Full name\"] = custom_df2[\"First_name\"] + \" \" + custom_df2[\"Last Name\"]\n",
    "custom_df2"
   ]
  },
  {
   "cell_type": "code",
   "execution_count": 1517,
   "metadata": {
    "colab": {
     "base_uri": "https://localhost:8080/",
     "height": 206
    },
    "executionInfo": {
     "elapsed": 41,
     "status": "ok",
     "timestamp": 1655229267503,
     "user": {
      "displayName": "Ismaril",
      "userId": "09094833649721836077"
     },
     "user_tz": -120
    },
    "id": "dm19GV-xjQI2",
    "outputId": "c7200867-34cc-40c9-a692-171b947ff504"
   },
   "outputs": [
    {
     "data": {
      "text/html": [
       "<div>\n",
       "<style scoped>\n",
       "    .dataframe tbody tr th:only-of-type {\n",
       "        vertical-align: middle;\n",
       "    }\n",
       "\n",
       "    .dataframe tbody tr th {\n",
       "        vertical-align: top;\n",
       "    }\n",
       "\n",
       "    .dataframe thead th {\n",
       "        text-align: right;\n",
       "    }\n",
       "</style>\n",
       "<table border=\"1\" class=\"dataframe\">\n",
       "  <thead>\n",
       "    <tr style=\"text-align: right;\">\n",
       "      <th></th>\n",
       "      <th>Mail</th>\n",
       "      <th>Age</th>\n",
       "      <th>Sex</th>\n",
       "      <th>Bills</th>\n",
       "      <th>Salary</th>\n",
       "      <th>Country</th>\n",
       "      <th>Full name</th>\n",
       "    </tr>\n",
       "  </thead>\n",
       "  <tbody>\n",
       "    <tr>\n",
       "      <th>0</th>\n",
       "      <td>Jonny@email.com</td>\n",
       "      <td>21</td>\n",
       "      <td>Male</td>\n",
       "      <td>1400</td>\n",
       "      <td>32000</td>\n",
       "      <td>USA</td>\n",
       "      <td>Jon Bobo</td>\n",
       "    </tr>\n",
       "    <tr>\n",
       "      <th>1</th>\n",
       "      <td>pony@gmail.com</td>\n",
       "      <td>32</td>\n",
       "      <td>Female</td>\n",
       "      <td>2000</td>\n",
       "      <td>35000</td>\n",
       "      <td>GERMANY</td>\n",
       "      <td>Ponna Wale</td>\n",
       "    </tr>\n",
       "    <tr>\n",
       "      <th>2</th>\n",
       "      <td>borovice@seznam.cz</td>\n",
       "      <td>23</td>\n",
       "      <td>Female</td>\n",
       "      <td>1000</td>\n",
       "      <td>50000</td>\n",
       "      <td>CZECHIA</td>\n",
       "      <td>Lada Boro</td>\n",
       "    </tr>\n",
       "    <tr>\n",
       "      <th>3</th>\n",
       "      <td>NaN</td>\n",
       "      <td>50</td>\n",
       "      <td>Male</td>\n",
       "      <td>400</td>\n",
       "      <td>28500</td>\n",
       "      <td>SLOVAKIA</td>\n",
       "      <td>Jožo Zajeci</td>\n",
       "    </tr>\n",
       "    <tr>\n",
       "      <th>4</th>\n",
       "      <td>NaN</td>\n",
       "      <td>34</td>\n",
       "      <td>Dog</td>\n",
       "      <td>800</td>\n",
       "      <td>29000</td>\n",
       "      <td>POLAND</td>\n",
       "      <td>Prlajz</td>\n",
       "    </tr>\n",
       "  </tbody>\n",
       "</table>\n",
       "</div>"
      ],
      "text/plain": [
       "                 Mail  Age     Sex  Bills  Salary   Country    Full name\n",
       "0     Jonny@email.com   21    Male   1400   32000       USA     Jon Bobo\n",
       "1      pony@gmail.com   32  Female   2000   35000   GERMANY   Ponna Wale\n",
       "2  borovice@seznam.cz   23  Female   1000   50000   CZECHIA    Lada Boro\n",
       "3                 NaN   50    Male    400   28500  SLOVAKIA  Jožo Zajeci\n",
       "4                 NaN   34     Dog    800   29000    POLAND      Prlajz "
      ]
     },
     "execution_count": 1517,
     "metadata": {},
     "output_type": "execute_result"
    }
   ],
   "source": [
    "# remove columns\n",
    "\n",
    "custom_df2.drop(columns=[\"First_name\", \"Last Name\"], inplace=True)\n",
    "custom_df2"
   ]
  },
  {
   "cell_type": "code",
   "execution_count": 1518,
   "metadata": {
    "colab": {
     "base_uri": "https://localhost:8080/",
     "height": 250
    },
    "executionInfo": {
     "elapsed": 41,
     "status": "ok",
     "timestamp": 1655229267503,
     "user": {
      "displayName": "Ismaril",
      "userId": "09094833649721836077"
     },
     "user_tz": -120
    },
    "id": "W6TnO2GnkVdX",
    "outputId": "8d7a3766-9e8c-49ea-dd88-57845971f982"
   },
   "outputs": [
    {
     "data": {
      "text/html": [
       "<div>\n",
       "<style scoped>\n",
       "    .dataframe tbody tr th:only-of-type {\n",
       "        vertical-align: middle;\n",
       "    }\n",
       "\n",
       "    .dataframe tbody tr th {\n",
       "        vertical-align: top;\n",
       "    }\n",
       "\n",
       "    .dataframe thead th {\n",
       "        text-align: right;\n",
       "    }\n",
       "</style>\n",
       "<table border=\"1\" class=\"dataframe\">\n",
       "  <thead>\n",
       "    <tr style=\"text-align: right;\">\n",
       "      <th></th>\n",
       "      <th>Mail</th>\n",
       "      <th>Age</th>\n",
       "      <th>Sex</th>\n",
       "      <th>Bills</th>\n",
       "      <th>Salary</th>\n",
       "      <th>Country</th>\n",
       "      <th>Full name</th>\n",
       "      <th>first name</th>\n",
       "      <th>last name</th>\n",
       "    </tr>\n",
       "  </thead>\n",
       "  <tbody>\n",
       "    <tr>\n",
       "      <th>0</th>\n",
       "      <td>Jonny@email.com</td>\n",
       "      <td>21</td>\n",
       "      <td>Male</td>\n",
       "      <td>1400</td>\n",
       "      <td>32000</td>\n",
       "      <td>USA</td>\n",
       "      <td>Jon Bobo</td>\n",
       "      <td>Jon</td>\n",
       "      <td>Bobo</td>\n",
       "    </tr>\n",
       "    <tr>\n",
       "      <th>1</th>\n",
       "      <td>pony@gmail.com</td>\n",
       "      <td>32</td>\n",
       "      <td>Female</td>\n",
       "      <td>2000</td>\n",
       "      <td>35000</td>\n",
       "      <td>GERMANY</td>\n",
       "      <td>Ponna Wale</td>\n",
       "      <td>Ponna</td>\n",
       "      <td>Wale</td>\n",
       "    </tr>\n",
       "    <tr>\n",
       "      <th>2</th>\n",
       "      <td>borovice@seznam.cz</td>\n",
       "      <td>23</td>\n",
       "      <td>Female</td>\n",
       "      <td>1000</td>\n",
       "      <td>50000</td>\n",
       "      <td>CZECHIA</td>\n",
       "      <td>Lada Boro</td>\n",
       "      <td>Lada</td>\n",
       "      <td>Boro</td>\n",
       "    </tr>\n",
       "    <tr>\n",
       "      <th>3</th>\n",
       "      <td>NaN</td>\n",
       "      <td>50</td>\n",
       "      <td>Male</td>\n",
       "      <td>400</td>\n",
       "      <td>28500</td>\n",
       "      <td>SLOVAKIA</td>\n",
       "      <td>Jožo Zajeci</td>\n",
       "      <td>Jožo</td>\n",
       "      <td>Zajeci</td>\n",
       "    </tr>\n",
       "    <tr>\n",
       "      <th>4</th>\n",
       "      <td>NaN</td>\n",
       "      <td>34</td>\n",
       "      <td>Dog</td>\n",
       "      <td>800</td>\n",
       "      <td>29000</td>\n",
       "      <td>POLAND</td>\n",
       "      <td>Prlajz</td>\n",
       "      <td>Prlajz</td>\n",
       "      <td></td>\n",
       "    </tr>\n",
       "  </tbody>\n",
       "</table>\n",
       "</div>"
      ],
      "text/plain": [
       "                 Mail  Age     Sex  Bills  Salary   Country    Full name  \\\n",
       "0     Jonny@email.com   21    Male   1400   32000       USA     Jon Bobo   \n",
       "1      pony@gmail.com   32  Female   2000   35000   GERMANY   Ponna Wale   \n",
       "2  borovice@seznam.cz   23  Female   1000   50000   CZECHIA    Lada Boro   \n",
       "3                 NaN   50    Male    400   28500  SLOVAKIA  Jožo Zajeci   \n",
       "4                 NaN   34     Dog    800   29000    POLAND      Prlajz    \n",
       "\n",
       "  first name last name  \n",
       "0        Jon      Bobo  \n",
       "1      Ponna      Wale  \n",
       "2       Lada      Boro  \n",
       "3       Jožo    Zajeci  \n",
       "4     Prlajz            "
      ]
     },
     "execution_count": 1518,
     "metadata": {},
     "output_type": "execute_result"
    }
   ],
   "source": [
    "# split existing column into multiple new columns\n",
    "\n",
    "# operation at right side of '=' splits each string item into two items in a list, expand True\n",
    "#   makes from this a pandas dataframe of two columns that are later assigned to their names\n",
    "#   specified of the left side\n",
    "custom_df2[[\"first name\", \"last name\"]] = custom_df2[\"Full name\"].str.split(\" \", expand=True)\n",
    "custom_df2"
   ]
  },
  {
   "cell_type": "markdown",
   "metadata": {
    "id": "kzapv-AImvGN"
   },
   "source": [
    "# add and remove rows"
   ]
  },
  {
   "cell_type": "code",
   "execution_count": 1519,
   "metadata": {
    "colab": {
     "base_uri": "https://localhost:8080/",
     "height": 316
    },
    "executionInfo": {
     "elapsed": 41,
     "status": "ok",
     "timestamp": 1655229267504,
     "user": {
      "displayName": "Ismaril",
      "userId": "09094833649721836077"
     },
     "user_tz": -120
    },
    "id": "YTNMOc_6mw8j",
    "outputId": "aa2c22bc-68e2-4a52-e7c6-483e780d89b4"
   },
   "outputs": [
    {
     "data": {
      "text/html": [
       "<div>\n",
       "<style scoped>\n",
       "    .dataframe tbody tr th:only-of-type {\n",
       "        vertical-align: middle;\n",
       "    }\n",
       "\n",
       "    .dataframe tbody tr th {\n",
       "        vertical-align: top;\n",
       "    }\n",
       "\n",
       "    .dataframe thead th {\n",
       "        text-align: right;\n",
       "    }\n",
       "</style>\n",
       "<table border=\"1\" class=\"dataframe\">\n",
       "  <thead>\n",
       "    <tr style=\"text-align: right;\">\n",
       "      <th></th>\n",
       "      <th>Mail</th>\n",
       "      <th>Age</th>\n",
       "      <th>Sex</th>\n",
       "      <th>Bills</th>\n",
       "      <th>Salary</th>\n",
       "      <th>Country</th>\n",
       "      <th>Full name</th>\n",
       "      <th>first name</th>\n",
       "      <th>last name</th>\n",
       "    </tr>\n",
       "  </thead>\n",
       "  <tbody>\n",
       "    <tr>\n",
       "      <th>0</th>\n",
       "      <td>Jonny@email.com</td>\n",
       "      <td>21.0</td>\n",
       "      <td>Male</td>\n",
       "      <td>1400.0</td>\n",
       "      <td>32000.0</td>\n",
       "      <td>USA</td>\n",
       "      <td>Jon Bobo</td>\n",
       "      <td>Jon</td>\n",
       "      <td>Bobo</td>\n",
       "    </tr>\n",
       "    <tr>\n",
       "      <th>1</th>\n",
       "      <td>pony@gmail.com</td>\n",
       "      <td>32.0</td>\n",
       "      <td>Female</td>\n",
       "      <td>2000.0</td>\n",
       "      <td>35000.0</td>\n",
       "      <td>GERMANY</td>\n",
       "      <td>Ponna Wale</td>\n",
       "      <td>Ponna</td>\n",
       "      <td>Wale</td>\n",
       "    </tr>\n",
       "    <tr>\n",
       "      <th>2</th>\n",
       "      <td>borovice@seznam.cz</td>\n",
       "      <td>23.0</td>\n",
       "      <td>Female</td>\n",
       "      <td>1000.0</td>\n",
       "      <td>50000.0</td>\n",
       "      <td>CZECHIA</td>\n",
       "      <td>Lada Boro</td>\n",
       "      <td>Lada</td>\n",
       "      <td>Boro</td>\n",
       "    </tr>\n",
       "    <tr>\n",
       "      <th>3</th>\n",
       "      <td>NaN</td>\n",
       "      <td>50.0</td>\n",
       "      <td>Male</td>\n",
       "      <td>400.0</td>\n",
       "      <td>28500.0</td>\n",
       "      <td>SLOVAKIA</td>\n",
       "      <td>Jožo Zajeci</td>\n",
       "      <td>Jožo</td>\n",
       "      <td>Zajeci</td>\n",
       "    </tr>\n",
       "    <tr>\n",
       "      <th>4</th>\n",
       "      <td>NaN</td>\n",
       "      <td>34.0</td>\n",
       "      <td>Dog</td>\n",
       "      <td>800.0</td>\n",
       "      <td>29000.0</td>\n",
       "      <td>POLAND</td>\n",
       "      <td>Prlajz</td>\n",
       "      <td>Prlajz</td>\n",
       "      <td></td>\n",
       "    </tr>\n",
       "    <tr>\n",
       "      <th>5</th>\n",
       "      <td>NaN</td>\n",
       "      <td>NaN</td>\n",
       "      <td>NaN</td>\n",
       "      <td>NaN</td>\n",
       "      <td>NaN</td>\n",
       "      <td>NaN</td>\n",
       "      <td>Vjenc Stejskalu</td>\n",
       "      <td>NaN</td>\n",
       "      <td>NaN</td>\n",
       "    </tr>\n",
       "  </tbody>\n",
       "</table>\n",
       "</div>"
      ],
      "text/plain": [
       "                 Mail   Age     Sex   Bills   Salary   Country  \\\n",
       "0     Jonny@email.com  21.0    Male  1400.0  32000.0       USA   \n",
       "1      pony@gmail.com  32.0  Female  2000.0  35000.0   GERMANY   \n",
       "2  borovice@seznam.cz  23.0  Female  1000.0  50000.0   CZECHIA   \n",
       "3                 NaN  50.0    Male   400.0  28500.0  SLOVAKIA   \n",
       "4                 NaN  34.0     Dog   800.0  29000.0    POLAND   \n",
       "5                 NaN   NaN     NaN     NaN      NaN       NaN   \n",
       "\n",
       "         Full name first name last name  \n",
       "0         Jon Bobo        Jon      Bobo  \n",
       "1       Ponna Wale      Ponna      Wale  \n",
       "2        Lada Boro       Lada      Boro  \n",
       "3      Jožo Zajeci       Jožo    Zajeci  \n",
       "4          Prlajz      Prlajz            \n",
       "5  Vjenc Stejskalu        NaN       NaN  "
      ]
     },
     "execution_count": 1519,
     "metadata": {},
     "output_type": "execute_result"
    }
   ],
   "source": [
    "# add a new row, with only one value specified\n",
    "custom_df2.append({\"Full name\": \"Vjenc Stejskalu\"}, ignore_index=True)"
   ]
  },
  {
   "cell_type": "code",
   "execution_count": 1520,
   "metadata": {
    "colab": {
     "base_uri": "https://localhost:8080/",
     "height": 313
    },
    "executionInfo": {
     "elapsed": 41,
     "status": "ok",
     "timestamp": 1655229267504,
     "user": {
      "displayName": "Ismaril",
      "userId": "09094833649721836077"
     },
     "user_tz": -120
    },
    "id": "9NWJZVy3plbL",
    "outputId": "f96edb44-343f-4297-d76f-5d8511f77892"
   },
   "outputs": [
    {
     "data": {
      "text/html": [
       "<div>\n",
       "<style scoped>\n",
       "    .dataframe tbody tr th:only-of-type {\n",
       "        vertical-align: middle;\n",
       "    }\n",
       "\n",
       "    .dataframe tbody tr th {\n",
       "        vertical-align: top;\n",
       "    }\n",
       "\n",
       "    .dataframe thead th {\n",
       "        text-align: right;\n",
       "    }\n",
       "</style>\n",
       "<table border=\"1\" class=\"dataframe\">\n",
       "  <thead>\n",
       "    <tr style=\"text-align: right;\">\n",
       "      <th></th>\n",
       "      <th>Mail</th>\n",
       "      <th>Age</th>\n",
       "      <th>Sex</th>\n",
       "      <th>Bills</th>\n",
       "      <th>Salary</th>\n",
       "      <th>Country</th>\n",
       "      <th>Full name</th>\n",
       "      <th>first name</th>\n",
       "      <th>last name</th>\n",
       "    </tr>\n",
       "  </thead>\n",
       "  <tbody>\n",
       "    <tr>\n",
       "      <th>0</th>\n",
       "      <td>Jonny@email.com</td>\n",
       "      <td>21</td>\n",
       "      <td>Male</td>\n",
       "      <td>1400.0</td>\n",
       "      <td>32000.0</td>\n",
       "      <td>USA</td>\n",
       "      <td>Jon Bobo</td>\n",
       "      <td>Jon</td>\n",
       "      <td>Bobo</td>\n",
       "    </tr>\n",
       "    <tr>\n",
       "      <th>1</th>\n",
       "      <td>pony@gmail.com</td>\n",
       "      <td>32</td>\n",
       "      <td>Female</td>\n",
       "      <td>2000.0</td>\n",
       "      <td>35000.0</td>\n",
       "      <td>GERMANY</td>\n",
       "      <td>Ponna Wale</td>\n",
       "      <td>Ponna</td>\n",
       "      <td>Wale</td>\n",
       "    </tr>\n",
       "    <tr>\n",
       "      <th>2</th>\n",
       "      <td>borovice@seznam.cz</td>\n",
       "      <td>23</td>\n",
       "      <td>Female</td>\n",
       "      <td>1000.0</td>\n",
       "      <td>50000.0</td>\n",
       "      <td>CZECHIA</td>\n",
       "      <td>Lada Boro</td>\n",
       "      <td>Lada</td>\n",
       "      <td>Boro</td>\n",
       "    </tr>\n",
       "    <tr>\n",
       "      <th>3</th>\n",
       "      <td>NaN</td>\n",
       "      <td>50</td>\n",
       "      <td>Male</td>\n",
       "      <td>400.0</td>\n",
       "      <td>28500.0</td>\n",
       "      <td>SLOVAKIA</td>\n",
       "      <td>Jožo Zajeci</td>\n",
       "      <td>Jožo</td>\n",
       "      <td>Zajeci</td>\n",
       "    </tr>\n",
       "    <tr>\n",
       "      <th>4</th>\n",
       "      <td>NaN</td>\n",
       "      <td>34</td>\n",
       "      <td>Dog</td>\n",
       "      <td>800.0</td>\n",
       "      <td>29000.0</td>\n",
       "      <td>POLAND</td>\n",
       "      <td>Prlajz</td>\n",
       "      <td>Prlajz</td>\n",
       "      <td></td>\n",
       "    </tr>\n",
       "    <tr>\n",
       "      <th>5</th>\n",
       "      <td>NaN</td>\n",
       "      <td>99</td>\n",
       "      <td>NaN</td>\n",
       "      <td>NaN</td>\n",
       "      <td>NaN</td>\n",
       "      <td>NaN</td>\n",
       "      <td>NaN</td>\n",
       "      <td>Ragos</td>\n",
       "      <td>NaN</td>\n",
       "    </tr>\n",
       "    <tr>\n",
       "      <th>6</th>\n",
       "      <td>NaN</td>\n",
       "      <td>100</td>\n",
       "      <td>NaN</td>\n",
       "      <td>NaN</td>\n",
       "      <td>NaN</td>\n",
       "      <td>NaN</td>\n",
       "      <td>NaN</td>\n",
       "      <td>Edward</td>\n",
       "      <td>NaN</td>\n",
       "    </tr>\n",
       "  </tbody>\n",
       "</table>\n",
       "</div>"
      ],
      "text/plain": [
       "                 Mail  Age     Sex   Bills   Salary   Country    Full name  \\\n",
       "0     Jonny@email.com   21    Male  1400.0  32000.0       USA     Jon Bobo   \n",
       "1      pony@gmail.com   32  Female  2000.0  35000.0   GERMANY   Ponna Wale   \n",
       "2  borovice@seznam.cz   23  Female  1000.0  50000.0   CZECHIA    Lada Boro   \n",
       "3                 NaN   50    Male   400.0  28500.0  SLOVAKIA  Jožo Zajeci   \n",
       "4                 NaN   34     Dog   800.0  29000.0    POLAND      Prlajz    \n",
       "5                 NaN   99     NaN     NaN      NaN       NaN          NaN   \n",
       "6                 NaN  100     NaN     NaN      NaN       NaN          NaN   \n",
       "\n",
       "  first name last name  \n",
       "0        Jon      Bobo  \n",
       "1      Ponna      Wale  \n",
       "2       Lada      Boro  \n",
       "3       Jožo    Zajeci  \n",
       "4     Prlajz            \n",
       "5      Ragos       NaN  \n",
       "6     Edward       NaN  "
      ]
     },
     "execution_count": 1520,
     "metadata": {},
     "output_type": "execute_result"
    }
   ],
   "source": [
    "# append a whole dataset\n",
    "custom_df6 = {\"first name\": [\"Ragos\", \"Edward\"],\n",
    "              \"Age\": [99, 100]}\n",
    "custom_df6 = pd.DataFrame(custom_df6)\n",
    "\n",
    "custom_df2 = custom_df2.append(custom_df6, ignore_index=True)\n",
    "custom_df2"
   ]
  },
  {
   "cell_type": "code",
   "execution_count": 1521,
   "metadata": {
    "colab": {
     "base_uri": "https://localhost:8080/",
     "height": 250
    },
    "executionInfo": {
     "elapsed": 41,
     "status": "ok",
     "timestamp": 1655229267505,
     "user": {
      "displayName": "Ismaril",
      "userId": "09094833649721836077"
     },
     "user_tz": -120
    },
    "id": "sQZh15Dos8-1",
    "outputId": "352185fd-27f8-455d-b650-4ab9dda2ff31"
   },
   "outputs": [
    {
     "data": {
      "text/html": [
       "<div>\n",
       "<style scoped>\n",
       "    .dataframe tbody tr th:only-of-type {\n",
       "        vertical-align: middle;\n",
       "    }\n",
       "\n",
       "    .dataframe tbody tr th {\n",
       "        vertical-align: top;\n",
       "    }\n",
       "\n",
       "    .dataframe thead th {\n",
       "        text-align: right;\n",
       "    }\n",
       "</style>\n",
       "<table border=\"1\" class=\"dataframe\">\n",
       "  <thead>\n",
       "    <tr style=\"text-align: right;\">\n",
       "      <th></th>\n",
       "      <th>Mail</th>\n",
       "      <th>Age</th>\n",
       "      <th>Sex</th>\n",
       "      <th>Bills</th>\n",
       "      <th>Salary</th>\n",
       "      <th>Country</th>\n",
       "      <th>Full name</th>\n",
       "      <th>first name</th>\n",
       "      <th>last name</th>\n",
       "    </tr>\n",
       "  </thead>\n",
       "  <tbody>\n",
       "    <tr>\n",
       "      <th>0</th>\n",
       "      <td>Jonny@email.com</td>\n",
       "      <td>21</td>\n",
       "      <td>Male</td>\n",
       "      <td>1400.0</td>\n",
       "      <td>32000.0</td>\n",
       "      <td>USA</td>\n",
       "      <td>Jon Bobo</td>\n",
       "      <td>Jon</td>\n",
       "      <td>Bobo</td>\n",
       "    </tr>\n",
       "    <tr>\n",
       "      <th>1</th>\n",
       "      <td>pony@gmail.com</td>\n",
       "      <td>32</td>\n",
       "      <td>Female</td>\n",
       "      <td>2000.0</td>\n",
       "      <td>35000.0</td>\n",
       "      <td>GERMANY</td>\n",
       "      <td>Ponna Wale</td>\n",
       "      <td>Ponna</td>\n",
       "      <td>Wale</td>\n",
       "    </tr>\n",
       "    <tr>\n",
       "      <th>2</th>\n",
       "      <td>borovice@seznam.cz</td>\n",
       "      <td>23</td>\n",
       "      <td>Female</td>\n",
       "      <td>1000.0</td>\n",
       "      <td>50000.0</td>\n",
       "      <td>CZECHIA</td>\n",
       "      <td>Lada Boro</td>\n",
       "      <td>Lada</td>\n",
       "      <td>Boro</td>\n",
       "    </tr>\n",
       "    <tr>\n",
       "      <th>3</th>\n",
       "      <td>NaN</td>\n",
       "      <td>50</td>\n",
       "      <td>Male</td>\n",
       "      <td>400.0</td>\n",
       "      <td>28500.0</td>\n",
       "      <td>SLOVAKIA</td>\n",
       "      <td>Jožo Zajeci</td>\n",
       "      <td>Jožo</td>\n",
       "      <td>Zajeci</td>\n",
       "    </tr>\n",
       "    <tr>\n",
       "      <th>4</th>\n",
       "      <td>NaN</td>\n",
       "      <td>34</td>\n",
       "      <td>Dog</td>\n",
       "      <td>800.0</td>\n",
       "      <td>29000.0</td>\n",
       "      <td>POLAND</td>\n",
       "      <td>Prlajz</td>\n",
       "      <td>Prlajz</td>\n",
       "      <td></td>\n",
       "    </tr>\n",
       "  </tbody>\n",
       "</table>\n",
       "</div>"
      ],
      "text/plain": [
       "                 Mail  Age     Sex   Bills   Salary   Country    Full name  \\\n",
       "0     Jonny@email.com   21    Male  1400.0  32000.0       USA     Jon Bobo   \n",
       "1      pony@gmail.com   32  Female  2000.0  35000.0   GERMANY   Ponna Wale   \n",
       "2  borovice@seznam.cz   23  Female  1000.0  50000.0   CZECHIA    Lada Boro   \n",
       "3                 NaN   50    Male   400.0  28500.0  SLOVAKIA  Jožo Zajeci   \n",
       "4                 NaN   34     Dog   800.0  29000.0    POLAND      Prlajz    \n",
       "\n",
       "  first name last name  \n",
       "0        Jon      Bobo  \n",
       "1      Ponna      Wale  \n",
       "2       Lada      Boro  \n",
       "3       Jožo    Zajeci  \n",
       "4     Prlajz            "
      ]
     },
     "execution_count": 1521,
     "metadata": {},
     "output_type": "execute_result"
    }
   ],
   "source": [
    "# drop a row/rows\n",
    "custom_df2.drop(index=[5, 6], inplace=True)\n",
    "custom_df2"
   ]
  },
  {
   "cell_type": "code",
   "execution_count": 1522,
   "metadata": {
    "colab": {
     "base_uri": "https://localhost:8080/",
     "height": 187
    },
    "executionInfo": {
     "elapsed": 41,
     "status": "ok",
     "timestamp": 1655229267505,
     "user": {
      "displayName": "Ismaril",
      "userId": "09094833649721836077"
     },
     "user_tz": -120
    },
    "id": "WN81ejuis-q0",
    "outputId": "3daf57a3-c8df-4237-f4bf-2ff4cb98c5b7"
   },
   "outputs": [
    {
     "data": {
      "text/html": [
       "<div>\n",
       "<style scoped>\n",
       "    .dataframe tbody tr th:only-of-type {\n",
       "        vertical-align: middle;\n",
       "    }\n",
       "\n",
       "    .dataframe tbody tr th {\n",
       "        vertical-align: top;\n",
       "    }\n",
       "\n",
       "    .dataframe thead th {\n",
       "        text-align: right;\n",
       "    }\n",
       "</style>\n",
       "<table border=\"1\" class=\"dataframe\">\n",
       "  <thead>\n",
       "    <tr style=\"text-align: right;\">\n",
       "      <th></th>\n",
       "      <th>Mail</th>\n",
       "      <th>Age</th>\n",
       "      <th>Sex</th>\n",
       "      <th>Bills</th>\n",
       "      <th>Salary</th>\n",
       "      <th>Country</th>\n",
       "      <th>Full name</th>\n",
       "      <th>first name</th>\n",
       "      <th>last name</th>\n",
       "    </tr>\n",
       "  </thead>\n",
       "  <tbody>\n",
       "    <tr>\n",
       "      <th>0</th>\n",
       "      <td>Jonny@email.com</td>\n",
       "      <td>21</td>\n",
       "      <td>Male</td>\n",
       "      <td>1400.0</td>\n",
       "      <td>32000.0</td>\n",
       "      <td>USA</td>\n",
       "      <td>Jon Bobo</td>\n",
       "      <td>Jon</td>\n",
       "      <td>Bobo</td>\n",
       "    </tr>\n",
       "    <tr>\n",
       "      <th>1</th>\n",
       "      <td>pony@gmail.com</td>\n",
       "      <td>32</td>\n",
       "      <td>Female</td>\n",
       "      <td>2000.0</td>\n",
       "      <td>35000.0</td>\n",
       "      <td>GERMANY</td>\n",
       "      <td>Ponna Wale</td>\n",
       "      <td>Ponna</td>\n",
       "      <td>Wale</td>\n",
       "    </tr>\n",
       "    <tr>\n",
       "      <th>2</th>\n",
       "      <td>borovice@seznam.cz</td>\n",
       "      <td>23</td>\n",
       "      <td>Female</td>\n",
       "      <td>1000.0</td>\n",
       "      <td>50000.0</td>\n",
       "      <td>CZECHIA</td>\n",
       "      <td>Lada Boro</td>\n",
       "      <td>Lada</td>\n",
       "      <td>Boro</td>\n",
       "    </tr>\n",
       "  </tbody>\n",
       "</table>\n",
       "</div>"
      ],
      "text/plain": [
       "                 Mail  Age     Sex   Bills   Salary  Country   Full name  \\\n",
       "0     Jonny@email.com   21    Male  1400.0  32000.0      USA    Jon Bobo   \n",
       "1      pony@gmail.com   32  Female  2000.0  35000.0  GERMANY  Ponna Wale   \n",
       "2  borovice@seznam.cz   23  Female  1000.0  50000.0  CZECHIA   Lada Boro   \n",
       "\n",
       "  first name last name  \n",
       "0        Jon      Bobo  \n",
       "1      Ponna      Wale  \n",
       "2       Lada      Boro  "
      ]
     },
     "execution_count": 1522,
     "metadata": {},
     "output_type": "execute_result"
    }
   ],
   "source": [
    "# drop rows with filter (similar like filtering with iloc/loc etc...)\n",
    "filter = custom_df2[\"Salary\"] < 30_000\n",
    "custom_df2.drop(custom_df2[filter].index, inplace=True)\n",
    "custom_df2"
   ]
  },
  {
   "cell_type": "markdown",
   "metadata": {
    "id": "dlccbK9Du2sn"
   },
   "source": [
    "# sorting data"
   ]
  },
  {
   "cell_type": "code",
   "execution_count": 1523,
   "metadata": {
    "colab": {
     "base_uri": "https://localhost:8080/",
     "height": 250
    },
    "executionInfo": {
     "elapsed": 42,
     "status": "ok",
     "timestamp": 1655229267507,
     "user": {
      "displayName": "Ismaril",
      "userId": "09094833649721836077"
     },
     "user_tz": -120
    },
    "id": "R9GUW0DWu3w1",
    "outputId": "7a238df3-fb42-4204-d858-e97b001869a3"
   },
   "outputs": [
    {
     "data": {
      "text/html": [
       "<div>\n",
       "<style scoped>\n",
       "    .dataframe tbody tr th:only-of-type {\n",
       "        vertical-align: middle;\n",
       "    }\n",
       "\n",
       "    .dataframe tbody tr th {\n",
       "        vertical-align: top;\n",
       "    }\n",
       "\n",
       "    .dataframe thead th {\n",
       "        text-align: right;\n",
       "    }\n",
       "</style>\n",
       "<table border=\"1\" class=\"dataframe\">\n",
       "  <thead>\n",
       "    <tr style=\"text-align: right;\">\n",
       "      <th></th>\n",
       "      <th>Mail</th>\n",
       "      <th>Age</th>\n",
       "      <th>Sex</th>\n",
       "      <th>Bills</th>\n",
       "      <th>Salary</th>\n",
       "      <th>Country</th>\n",
       "      <th>Full name</th>\n",
       "      <th>first name</th>\n",
       "      <th>last name</th>\n",
       "    </tr>\n",
       "  </thead>\n",
       "  <tbody>\n",
       "    <tr>\n",
       "      <th>0</th>\n",
       "      <td>Jonny@email.com</td>\n",
       "      <td>21.0</td>\n",
       "      <td>Male</td>\n",
       "      <td>1400.0</td>\n",
       "      <td>32000.0</td>\n",
       "      <td>USA</td>\n",
       "      <td>Jon Bobo</td>\n",
       "      <td>Jon</td>\n",
       "      <td>Bobo</td>\n",
       "    </tr>\n",
       "    <tr>\n",
       "      <th>1</th>\n",
       "      <td>pony@gmail.com</td>\n",
       "      <td>32.0</td>\n",
       "      <td>Female</td>\n",
       "      <td>2000.0</td>\n",
       "      <td>35000.0</td>\n",
       "      <td>GERMANY</td>\n",
       "      <td>Ponna Wale</td>\n",
       "      <td>Ponna</td>\n",
       "      <td>Wale</td>\n",
       "    </tr>\n",
       "    <tr>\n",
       "      <th>2</th>\n",
       "      <td>borovice@seznam.cz</td>\n",
       "      <td>23.0</td>\n",
       "      <td>Female</td>\n",
       "      <td>1000.0</td>\n",
       "      <td>50000.0</td>\n",
       "      <td>CZECHIA</td>\n",
       "      <td>Lada Boro</td>\n",
       "      <td>Lada</td>\n",
       "      <td>Boro</td>\n",
       "    </tr>\n",
       "    <tr>\n",
       "      <th>3</th>\n",
       "      <td>NaN</td>\n",
       "      <td>40.0</td>\n",
       "      <td>NaN</td>\n",
       "      <td>1000.0</td>\n",
       "      <td>NaN</td>\n",
       "      <td>NaN</td>\n",
       "      <td>NaN</td>\n",
       "      <td>NaN</td>\n",
       "      <td>NaN</td>\n",
       "    </tr>\n",
       "    <tr>\n",
       "      <th>4</th>\n",
       "      <td>NaN</td>\n",
       "      <td>36.0</td>\n",
       "      <td>NaN</td>\n",
       "      <td>1000.0</td>\n",
       "      <td>NaN</td>\n",
       "      <td>NaN</td>\n",
       "      <td>NaN</td>\n",
       "      <td>NaN</td>\n",
       "      <td>NaN</td>\n",
       "    </tr>\n",
       "  </tbody>\n",
       "</table>\n",
       "</div>"
      ],
      "text/plain": [
       "                 Mail   Age     Sex   Bills   Salary  Country   Full name  \\\n",
       "0     Jonny@email.com  21.0    Male  1400.0  32000.0      USA    Jon Bobo   \n",
       "1      pony@gmail.com  32.0  Female  2000.0  35000.0  GERMANY  Ponna Wale   \n",
       "2  borovice@seznam.cz  23.0  Female  1000.0  50000.0  CZECHIA   Lada Boro   \n",
       "3                 NaN  40.0     NaN  1000.0      NaN      NaN         NaN   \n",
       "4                 NaN  36.0     NaN  1000.0      NaN      NaN         NaN   \n",
       "\n",
       "  first name last name  \n",
       "0        Jon      Bobo  \n",
       "1      Ponna      Wale  \n",
       "2       Lada      Boro  \n",
       "3        NaN       NaN  \n",
       "4        NaN       NaN  "
      ]
     },
     "execution_count": 1523,
     "metadata": {},
     "output_type": "execute_result"
    }
   ],
   "source": [
    "# sort data at a given column\n",
    "custom_df2 = custom_df2.append({\"Bills\": 1000, \"Age\": 40}, ignore_index=True) # add extra row for later use\n",
    "custom_df2 = custom_df2.append({\"Bills\": 1000, \"Age\": 36}, ignore_index=True) # add extra row for later use\n",
    "custom_df2.sort_values(by=\"Bills\", ascending=True)\n",
    "\n",
    "custom_df2"
   ]
  },
  {
   "cell_type": "code",
   "execution_count": 1524,
   "metadata": {
    "executionInfo": {
     "elapsed": 42,
     "status": "ok",
     "timestamp": 1655229267507,
     "user": {
      "displayName": "Ismaril",
      "userId": "09094833649721836077"
     },
     "user_tz": -120
    },
    "id": "BdSn_qvSvz_s"
   },
   "outputs": [],
   "source": [
    "# sort data based on multiple columns \n",
    "#   (once more rows have the same value, data will be sorted based on next column)\n",
    "\n",
    "# if you want to have sorted by specified columns and have different orders (ascend./descend)\n",
    "#   for each one, add a list of bools into ascending parameter \n",
    "custom_df2.sort_values(by=[\"Bills\", \"Age\"], ascending=[False, True], inplace=True)\n",
    "\n"
   ]
  },
  {
   "cell_type": "code",
   "execution_count": 1525,
   "metadata": {
    "colab": {
     "base_uri": "https://localhost:8080/",
     "height": 250
    },
    "executionInfo": {
     "elapsed": 41,
     "status": "ok",
     "timestamp": 1655229267507,
     "user": {
      "displayName": "Ismaril",
      "userId": "09094833649721836077"
     },
     "user_tz": -120
    },
    "id": "Jrkg0RR1y2Q2",
    "outputId": "6123fba9-aeb8-49c6-f5e0-581a1269c4fd"
   },
   "outputs": [
    {
     "data": {
      "text/html": [
       "<div>\n",
       "<style scoped>\n",
       "    .dataframe tbody tr th:only-of-type {\n",
       "        vertical-align: middle;\n",
       "    }\n",
       "\n",
       "    .dataframe tbody tr th {\n",
       "        vertical-align: top;\n",
       "    }\n",
       "\n",
       "    .dataframe thead th {\n",
       "        text-align: right;\n",
       "    }\n",
       "</style>\n",
       "<table border=\"1\" class=\"dataframe\">\n",
       "  <thead>\n",
       "    <tr style=\"text-align: right;\">\n",
       "      <th></th>\n",
       "      <th>Mail</th>\n",
       "      <th>Age</th>\n",
       "      <th>Sex</th>\n",
       "      <th>Bills</th>\n",
       "      <th>Salary</th>\n",
       "      <th>Country</th>\n",
       "      <th>Full name</th>\n",
       "      <th>first name</th>\n",
       "      <th>last name</th>\n",
       "    </tr>\n",
       "  </thead>\n",
       "  <tbody>\n",
       "    <tr>\n",
       "      <th>0</th>\n",
       "      <td>Jonny@email.com</td>\n",
       "      <td>21.0</td>\n",
       "      <td>Male</td>\n",
       "      <td>1400.0</td>\n",
       "      <td>32000.0</td>\n",
       "      <td>USA</td>\n",
       "      <td>Jon Bobo</td>\n",
       "      <td>Jon</td>\n",
       "      <td>Bobo</td>\n",
       "    </tr>\n",
       "    <tr>\n",
       "      <th>1</th>\n",
       "      <td>pony@gmail.com</td>\n",
       "      <td>32.0</td>\n",
       "      <td>Female</td>\n",
       "      <td>2000.0</td>\n",
       "      <td>35000.0</td>\n",
       "      <td>GERMANY</td>\n",
       "      <td>Ponna Wale</td>\n",
       "      <td>Ponna</td>\n",
       "      <td>Wale</td>\n",
       "    </tr>\n",
       "    <tr>\n",
       "      <th>2</th>\n",
       "      <td>borovice@seznam.cz</td>\n",
       "      <td>23.0</td>\n",
       "      <td>Female</td>\n",
       "      <td>1000.0</td>\n",
       "      <td>50000.0</td>\n",
       "      <td>CZECHIA</td>\n",
       "      <td>Lada Boro</td>\n",
       "      <td>Lada</td>\n",
       "      <td>Boro</td>\n",
       "    </tr>\n",
       "    <tr>\n",
       "      <th>3</th>\n",
       "      <td>NaN</td>\n",
       "      <td>40.0</td>\n",
       "      <td>NaN</td>\n",
       "      <td>1000.0</td>\n",
       "      <td>NaN</td>\n",
       "      <td>NaN</td>\n",
       "      <td>NaN</td>\n",
       "      <td>NaN</td>\n",
       "      <td>NaN</td>\n",
       "    </tr>\n",
       "    <tr>\n",
       "      <th>4</th>\n",
       "      <td>NaN</td>\n",
       "      <td>36.0</td>\n",
       "      <td>NaN</td>\n",
       "      <td>1000.0</td>\n",
       "      <td>NaN</td>\n",
       "      <td>NaN</td>\n",
       "      <td>NaN</td>\n",
       "      <td>NaN</td>\n",
       "      <td>NaN</td>\n",
       "    </tr>\n",
       "  </tbody>\n",
       "</table>\n",
       "</div>"
      ],
      "text/plain": [
       "                 Mail   Age     Sex   Bills   Salary  Country   Full name  \\\n",
       "0     Jonny@email.com  21.0    Male  1400.0  32000.0      USA    Jon Bobo   \n",
       "1      pony@gmail.com  32.0  Female  2000.0  35000.0  GERMANY  Ponna Wale   \n",
       "2  borovice@seznam.cz  23.0  Female  1000.0  50000.0  CZECHIA   Lada Boro   \n",
       "3                 NaN  40.0     NaN  1000.0      NaN      NaN         NaN   \n",
       "4                 NaN  36.0     NaN  1000.0      NaN      NaN         NaN   \n",
       "\n",
       "  first name last name  \n",
       "0        Jon      Bobo  \n",
       "1      Ponna      Wale  \n",
       "2       Lada      Boro  \n",
       "3        NaN       NaN  \n",
       "4        NaN       NaN  "
      ]
     },
     "execution_count": 1525,
     "metadata": {},
     "output_type": "execute_result"
    }
   ],
   "source": [
    "# sort back based on number of index column\n",
    "custom_df2.sort_index()"
   ]
  },
  {
   "cell_type": "code",
   "execution_count": 1526,
   "metadata": {
    "colab": {
     "base_uri": "https://localhost:8080/"
    },
    "executionInfo": {
     "elapsed": 42,
     "status": "ok",
     "timestamp": 1655229267508,
     "user": {
      "displayName": "Ismaril",
      "userId": "09094833649721836077"
     },
     "user_tz": -120
    },
    "id": "x5sstH_B3C22",
    "outputId": "ba2a3b1a-f306-4abb-a0e3-1f825a6c7619"
   },
   "outputs": [
    {
     "data": {
      "text/plain": [
       "0    32000.0\n",
       "1    35000.0\n",
       "2    50000.0\n",
       "3        NaN\n",
       "4        NaN\n",
       "Name: Salary, dtype: float64"
      ]
     },
     "execution_count": 1526,
     "metadata": {},
     "output_type": "execute_result"
    }
   ],
   "source": [
    "# sort simply just one column\n",
    "custom_df2[\"Salary\"].sort_index()"
   ]
  },
  {
   "cell_type": "code",
   "execution_count": 1527,
   "metadata": {
    "colab": {
     "base_uri": "https://localhost:8080/"
    },
    "executionInfo": {
     "elapsed": 36,
     "status": "ok",
     "timestamp": 1655229267508,
     "user": {
      "displayName": "Ismaril",
      "userId": "09094833649721836077"
     },
     "user_tz": -120
    },
    "id": "CH8RXCEX396-",
    "outputId": "41887afd-8913-4d5b-ff74-474ca7f30d89"
   },
   "outputs": [
    {
     "data": {
      "text/plain": [
       "2    50000.0\n",
       "1    35000.0\n",
       "Name: Salary, dtype: float64"
      ]
     },
     "execution_count": 1527,
     "metadata": {},
     "output_type": "execute_result"
    }
   ],
   "source": [
    "# get largest value (or number of them) from a series\n",
    "custom_df2[\"Salary\"].nlargest(2)"
   ]
  },
  {
   "cell_type": "code",
   "execution_count": 1528,
   "metadata": {
    "colab": {
     "base_uri": "https://localhost:8080/",
     "height": 156
    },
    "executionInfo": {
     "elapsed": 37,
     "status": "ok",
     "timestamp": 1655229267510,
     "user": {
      "displayName": "Ismaril",
      "userId": "09094833649721836077"
     },
     "user_tz": -120
    },
    "id": "ps8QPKC-4cdD",
    "outputId": "b1fccfef-04d8-4098-b88e-686ca2ecdd4e"
   },
   "outputs": [
    {
     "data": {
      "text/html": [
       "<div>\n",
       "<style scoped>\n",
       "    .dataframe tbody tr th:only-of-type {\n",
       "        vertical-align: middle;\n",
       "    }\n",
       "\n",
       "    .dataframe tbody tr th {\n",
       "        vertical-align: top;\n",
       "    }\n",
       "\n",
       "    .dataframe thead th {\n",
       "        text-align: right;\n",
       "    }\n",
       "</style>\n",
       "<table border=\"1\" class=\"dataframe\">\n",
       "  <thead>\n",
       "    <tr style=\"text-align: right;\">\n",
       "      <th></th>\n",
       "      <th>Mail</th>\n",
       "      <th>Age</th>\n",
       "      <th>Sex</th>\n",
       "      <th>Bills</th>\n",
       "      <th>Salary</th>\n",
       "      <th>Country</th>\n",
       "      <th>Full name</th>\n",
       "      <th>first name</th>\n",
       "      <th>last name</th>\n",
       "    </tr>\n",
       "  </thead>\n",
       "  <tbody>\n",
       "    <tr>\n",
       "      <th>2</th>\n",
       "      <td>borovice@seznam.cz</td>\n",
       "      <td>23.0</td>\n",
       "      <td>Female</td>\n",
       "      <td>1000.0</td>\n",
       "      <td>50000.0</td>\n",
       "      <td>CZECHIA</td>\n",
       "      <td>Lada Boro</td>\n",
       "      <td>Lada</td>\n",
       "      <td>Boro</td>\n",
       "    </tr>\n",
       "    <tr>\n",
       "      <th>1</th>\n",
       "      <td>pony@gmail.com</td>\n",
       "      <td>32.0</td>\n",
       "      <td>Female</td>\n",
       "      <td>2000.0</td>\n",
       "      <td>35000.0</td>\n",
       "      <td>GERMANY</td>\n",
       "      <td>Ponna Wale</td>\n",
       "      <td>Ponna</td>\n",
       "      <td>Wale</td>\n",
       "    </tr>\n",
       "  </tbody>\n",
       "</table>\n",
       "</div>"
      ],
      "text/plain": [
       "                 Mail   Age     Sex   Bills   Salary  Country   Full name  \\\n",
       "2  borovice@seznam.cz  23.0  Female  1000.0  50000.0  CZECHIA   Lada Boro   \n",
       "1      pony@gmail.com  32.0  Female  2000.0  35000.0  GERMANY  Ponna Wale   \n",
       "\n",
       "  first name last name  \n",
       "2       Lada      Boro  \n",
       "1      Ponna      Wale  "
      ]
     },
     "execution_count": 1528,
     "metadata": {},
     "output_type": "execute_result"
    }
   ],
   "source": [
    "# get largest value of a series but return whole dataset\n",
    "custom_df2.nlargest(2, \"Salary\")"
   ]
  },
  {
   "cell_type": "code",
   "execution_count": 1529,
   "metadata": {
    "colab": {
     "base_uri": "https://localhost:8080/",
     "height": 156
    },
    "executionInfo": {
     "elapsed": 37,
     "status": "ok",
     "timestamp": 1655229267510,
     "user": {
      "displayName": "Ismaril",
      "userId": "09094833649721836077"
     },
     "user_tz": -120
    },
    "id": "9XqPVspj4v-G",
    "outputId": "95ca165b-2f11-489a-bec0-0bb027389d1b"
   },
   "outputs": [
    {
     "data": {
      "text/html": [
       "<div>\n",
       "<style scoped>\n",
       "    .dataframe tbody tr th:only-of-type {\n",
       "        vertical-align: middle;\n",
       "    }\n",
       "\n",
       "    .dataframe tbody tr th {\n",
       "        vertical-align: top;\n",
       "    }\n",
       "\n",
       "    .dataframe thead th {\n",
       "        text-align: right;\n",
       "    }\n",
       "</style>\n",
       "<table border=\"1\" class=\"dataframe\">\n",
       "  <thead>\n",
       "    <tr style=\"text-align: right;\">\n",
       "      <th></th>\n",
       "      <th>Mail</th>\n",
       "      <th>Age</th>\n",
       "      <th>Sex</th>\n",
       "      <th>Bills</th>\n",
       "      <th>Salary</th>\n",
       "      <th>Country</th>\n",
       "      <th>Full name</th>\n",
       "      <th>first name</th>\n",
       "      <th>last name</th>\n",
       "    </tr>\n",
       "  </thead>\n",
       "  <tbody>\n",
       "    <tr>\n",
       "      <th>0</th>\n",
       "      <td>Jonny@email.com</td>\n",
       "      <td>21.0</td>\n",
       "      <td>Male</td>\n",
       "      <td>1400.0</td>\n",
       "      <td>32000.0</td>\n",
       "      <td>USA</td>\n",
       "      <td>Jon Bobo</td>\n",
       "      <td>Jon</td>\n",
       "      <td>Bobo</td>\n",
       "    </tr>\n",
       "    <tr>\n",
       "      <th>1</th>\n",
       "      <td>pony@gmail.com</td>\n",
       "      <td>32.0</td>\n",
       "      <td>Female</td>\n",
       "      <td>2000.0</td>\n",
       "      <td>35000.0</td>\n",
       "      <td>GERMANY</td>\n",
       "      <td>Ponna Wale</td>\n",
       "      <td>Ponna</td>\n",
       "      <td>Wale</td>\n",
       "    </tr>\n",
       "  </tbody>\n",
       "</table>\n",
       "</div>"
      ],
      "text/plain": [
       "              Mail   Age     Sex   Bills   Salary  Country   Full name  \\\n",
       "0  Jonny@email.com  21.0    Male  1400.0  32000.0      USA    Jon Bobo   \n",
       "1   pony@gmail.com  32.0  Female  2000.0  35000.0  GERMANY  Ponna Wale   \n",
       "\n",
       "  first name last name  \n",
       "0        Jon      Bobo  \n",
       "1      Ponna      Wale  "
      ]
     },
     "execution_count": 1529,
     "metadata": {},
     "output_type": "execute_result"
    }
   ],
   "source": [
    "# smallest numbers (just rlly oposite of nlargest)\n",
    "custom_df2.nsmallest(2, \"Salary\")"
   ]
  },
  {
   "cell_type": "markdown",
   "metadata": {
    "id": "hz-UDH3J8oEW"
   },
   "source": [
    "# Grouping and Aggregating - Analyzing and Exploring Your Data\n",
    "aggregation = combining multiple parts of data into single result (mean, median...)"
   ]
  },
  {
   "cell_type": "code",
   "execution_count": 1530,
   "metadata": {
    "colab": {
     "base_uri": "https://localhost:8080/",
     "height": 409
    },
    "executionInfo": {
     "elapsed": 367,
     "status": "ok",
     "timestamp": 1655229267843,
     "user": {
      "displayName": "Ismaril",
      "userId": "09094833649721836077"
     },
     "user_tz": -120
    },
    "id": "GuHtT67qAGWz",
    "outputId": "55d16aca-237f-447e-9075-e4389ee19c99"
   },
   "outputs": [
    {
     "data": {
      "text/html": [
       "<div>\n",
       "<style scoped>\n",
       "    .dataframe tbody tr th:only-of-type {\n",
       "        vertical-align: middle;\n",
       "    }\n",
       "\n",
       "    .dataframe tbody tr th {\n",
       "        vertical-align: top;\n",
       "    }\n",
       "\n",
       "    .dataframe thead th {\n",
       "        text-align: right;\n",
       "    }\n",
       "</style>\n",
       "<table border=\"1\" class=\"dataframe\">\n",
       "  <thead>\n",
       "    <tr style=\"text-align: right;\">\n",
       "      <th></th>\n",
       "      <th>work_year</th>\n",
       "      <th>experience_level</th>\n",
       "      <th>employment_type</th>\n",
       "      <th>job_title</th>\n",
       "      <th>salary</th>\n",
       "      <th>salary_currency</th>\n",
       "      <th>salary_in_usd</th>\n",
       "      <th>employee_residence</th>\n",
       "      <th>remote_ratio</th>\n",
       "      <th>company_location</th>\n",
       "      <th>company_size</th>\n",
       "    </tr>\n",
       "  </thead>\n",
       "  <tbody>\n",
       "    <tr>\n",
       "      <th>0</th>\n",
       "      <td>2021e</td>\n",
       "      <td>EN</td>\n",
       "      <td>FT</td>\n",
       "      <td>Data Science Consultant</td>\n",
       "      <td>54000</td>\n",
       "      <td>EUR</td>\n",
       "      <td>64369</td>\n",
       "      <td>DE</td>\n",
       "      <td>50</td>\n",
       "      <td>DE</td>\n",
       "      <td>L</td>\n",
       "    </tr>\n",
       "    <tr>\n",
       "      <th>1</th>\n",
       "      <td>2020</td>\n",
       "      <td>SE</td>\n",
       "      <td>FT</td>\n",
       "      <td>Data Scientist</td>\n",
       "      <td>60000</td>\n",
       "      <td>EUR</td>\n",
       "      <td>68428</td>\n",
       "      <td>GR</td>\n",
       "      <td>100</td>\n",
       "      <td>US</td>\n",
       "      <td>L</td>\n",
       "    </tr>\n",
       "    <tr>\n",
       "      <th>2</th>\n",
       "      <td>2021e</td>\n",
       "      <td>EX</td>\n",
       "      <td>FT</td>\n",
       "      <td>Head of Data Science</td>\n",
       "      <td>85000</td>\n",
       "      <td>USD</td>\n",
       "      <td>85000</td>\n",
       "      <td>RU</td>\n",
       "      <td>0</td>\n",
       "      <td>RU</td>\n",
       "      <td>M</td>\n",
       "    </tr>\n",
       "    <tr>\n",
       "      <th>3</th>\n",
       "      <td>2021e</td>\n",
       "      <td>EX</td>\n",
       "      <td>FT</td>\n",
       "      <td>Head of Data</td>\n",
       "      <td>230000</td>\n",
       "      <td>USD</td>\n",
       "      <td>230000</td>\n",
       "      <td>RU</td>\n",
       "      <td>50</td>\n",
       "      <td>RU</td>\n",
       "      <td>L</td>\n",
       "    </tr>\n",
       "    <tr>\n",
       "      <th>4</th>\n",
       "      <td>2021e</td>\n",
       "      <td>EN</td>\n",
       "      <td>FT</td>\n",
       "      <td>Machine Learning Engineer</td>\n",
       "      <td>125000</td>\n",
       "      <td>USD</td>\n",
       "      <td>125000</td>\n",
       "      <td>US</td>\n",
       "      <td>100</td>\n",
       "      <td>US</td>\n",
       "      <td>S</td>\n",
       "    </tr>\n",
       "  </tbody>\n",
       "</table>\n",
       "</div>"
      ],
      "text/plain": [
       "  work_year experience_level employment_type                  job_title  \\\n",
       "0     2021e               EN              FT    Data Science Consultant   \n",
       "1      2020               SE              FT             Data Scientist   \n",
       "2     2021e               EX              FT       Head of Data Science   \n",
       "3     2021e               EX              FT               Head of Data   \n",
       "4     2021e               EN              FT  Machine Learning Engineer   \n",
       "\n",
       "   salary salary_currency  salary_in_usd employee_residence  remote_ratio  \\\n",
       "0   54000             EUR          64369                 DE            50   \n",
       "1   60000             EUR          68428                 GR           100   \n",
       "2   85000             USD          85000                 RU             0   \n",
       "3  230000             USD         230000                 RU            50   \n",
       "4  125000             USD         125000                 US           100   \n",
       "\n",
       "  company_location company_size  \n",
       "0               DE            L  \n",
       "1               US            L  \n",
       "2               RU            M  \n",
       "3               RU            L  \n",
       "4               US            S  "
      ]
     },
     "execution_count": 1530,
     "metadata": {},
     "output_type": "execute_result"
    }
   ],
   "source": [
    "df = pd.read_csv(\"https://raw.githubusercontent.com/Ismaril/training/main/Machine%20learning%20Deep%20learning/csv%20files/Data%20Science%20Jobs%20Salaries.csv\")\n",
    "df.head()"
   ]
  },
  {
   "cell_type": "code",
   "execution_count": 1531,
   "metadata": {
    "colab": {
     "base_uri": "https://localhost:8080/"
    },
    "executionInfo": {
     "elapsed": 38,
     "status": "ok",
     "timestamp": 1655229267845,
     "user": {
      "displayName": "Ismaril",
      "userId": "09094833649721836077"
     },
     "user_tz": -120
    },
    "id": "BmYEqHgETTxi",
    "outputId": "15e3288e-a009-44a2-8fdc-34a8cfbd0015"
   },
   "outputs": [
    {
     "name": "stdout",
     "output_type": "stream",
     "text": [
      "<class 'pandas.core.frame.DataFrame'>\n",
      "RangeIndex: 245 entries, 0 to 244\n",
      "Data columns (total 11 columns):\n",
      " #   Column              Non-Null Count  Dtype \n",
      "---  ------              --------------  ----- \n",
      " 0   work_year           245 non-null    object\n",
      " 1   experience_level    245 non-null    object\n",
      " 2   employment_type     245 non-null    object\n",
      " 3   job_title           245 non-null    object\n",
      " 4   salary              245 non-null    int64 \n",
      " 5   salary_currency     245 non-null    object\n",
      " 6   salary_in_usd       245 non-null    int64 \n",
      " 7   employee_residence  245 non-null    object\n",
      " 8   remote_ratio        245 non-null    int64 \n",
      " 9   company_location    245 non-null    object\n",
      " 10  company_size        245 non-null    object\n",
      "dtypes: int64(3), object(8)\n",
      "memory usage: 21.2+ KB\n"
     ]
    }
   ],
   "source": [
    "df.info()"
   ]
  },
  {
   "cell_type": "code",
   "execution_count": 1532,
   "metadata": {
    "colab": {
     "base_uri": "https://localhost:8080/"
    },
    "executionInfo": {
     "elapsed": 35,
     "status": "ok",
     "timestamp": 1655229267845,
     "user": {
      "displayName": "Ismaril",
      "userId": "09094833649721836077"
     },
     "user_tz": -120
    },
    "id": "r4XFhhji8otA",
    "outputId": "ec32d15a-30da-4b0c-e16d-de62e1eed899"
   },
   "outputs": [
    {
     "name": "stderr",
     "output_type": "stream",
     "text": [
      "C:\\Users\\lazni\\AppData\\Local\\Temp\\ipykernel_2412\\3516113453.py:2: FutureWarning: Dropping of nuisance columns in DataFrame reductions (with 'numeric_only=None') is deprecated; in a future version this will raise TypeError.  Select only valid columns before calling the reduction.\n",
      "  df.median()\n"
     ]
    },
    {
     "data": {
      "text/plain": [
       "salary           103000.0\n",
       "salary_in_usd     81000.0\n",
       "remote_ratio        100.0\n",
       "dtype: float64"
      ]
     },
     "execution_count": 1532,
     "metadata": {},
     "output_type": "execute_result"
    }
   ],
   "source": [
    "# median (ignores na values)\n",
    "df.median()"
   ]
  },
  {
   "cell_type": "code",
   "execution_count": 1533,
   "metadata": {
    "colab": {
     "base_uri": "https://localhost:8080/",
     "height": 187
    },
    "executionInfo": {
     "elapsed": 34,
     "status": "ok",
     "timestamp": 1655229267846,
     "user": {
      "displayName": "Ismaril",
      "userId": "09094833649721836077"
     },
     "user_tz": -120
    },
    "id": "0ZR_3tlcCMEo",
    "outputId": "0be349c5-f33c-43c4-cb3a-d3f5ad719b08"
   },
   "outputs": [
    {
     "data": {
      "text/html": [
       "<div>\n",
       "<style scoped>\n",
       "    .dataframe tbody tr th:only-of-type {\n",
       "        vertical-align: middle;\n",
       "    }\n",
       "\n",
       "    .dataframe tbody tr th {\n",
       "        vertical-align: top;\n",
       "    }\n",
       "\n",
       "    .dataframe thead th {\n",
       "        text-align: right;\n",
       "    }\n",
       "</style>\n",
       "<table border=\"1\" class=\"dataframe\">\n",
       "  <thead>\n",
       "    <tr style=\"text-align: right;\">\n",
       "      <th></th>\n",
       "      <th>count</th>\n",
       "      <th>mean</th>\n",
       "      <th>std</th>\n",
       "      <th>min</th>\n",
       "      <th>25%</th>\n",
       "      <th>50%</th>\n",
       "      <th>75%</th>\n",
       "      <th>max</th>\n",
       "    </tr>\n",
       "  </thead>\n",
       "  <tbody>\n",
       "    <tr>\n",
       "      <th>salary</th>\n",
       "      <td>245.0</td>\n",
       "      <td>502541.812245</td>\n",
       "      <td>2.276230e+06</td>\n",
       "      <td>4000.0</td>\n",
       "      <td>60000.0</td>\n",
       "      <td>103000.0</td>\n",
       "      <td>174000.0</td>\n",
       "      <td>30400000.0</td>\n",
       "    </tr>\n",
       "    <tr>\n",
       "      <th>salary_in_usd</th>\n",
       "      <td>245.0</td>\n",
       "      <td>99868.012245</td>\n",
       "      <td>8.398333e+04</td>\n",
       "      <td>2876.0</td>\n",
       "      <td>45896.0</td>\n",
       "      <td>81000.0</td>\n",
       "      <td>130000.0</td>\n",
       "      <td>600000.0</td>\n",
       "    </tr>\n",
       "    <tr>\n",
       "      <th>remote_ratio</th>\n",
       "      <td>245.0</td>\n",
       "      <td>69.183673</td>\n",
       "      <td>3.759342e+01</td>\n",
       "      <td>0.0</td>\n",
       "      <td>50.0</td>\n",
       "      <td>100.0</td>\n",
       "      <td>100.0</td>\n",
       "      <td>100.0</td>\n",
       "    </tr>\n",
       "  </tbody>\n",
       "</table>\n",
       "</div>"
      ],
      "text/plain": [
       "               count           mean           std     min      25%       50%  \\\n",
       "salary         245.0  502541.812245  2.276230e+06  4000.0  60000.0  103000.0   \n",
       "salary_in_usd  245.0   99868.012245  8.398333e+04  2876.0  45896.0   81000.0   \n",
       "remote_ratio   245.0      69.183673  3.759342e+01     0.0     50.0     100.0   \n",
       "\n",
       "                    75%         max  \n",
       "salary         174000.0  30400000.0  \n",
       "salary_in_usd  130000.0    600000.0  \n",
       "remote_ratio      100.0       100.0  "
      ]
     },
     "execution_count": 1533,
     "metadata": {},
     "output_type": "execute_result"
    }
   ],
   "source": [
    "# describe, some useful statistics info\n",
    "# count = number of not NAN rows\n",
    "df.describe().T"
   ]
  },
  {
   "cell_type": "code",
   "execution_count": 1534,
   "metadata": {
    "colab": {
     "base_uri": "https://localhost:8080/"
    },
    "executionInfo": {
     "elapsed": 33,
     "status": "ok",
     "timestamp": 1655229267846,
     "user": {
      "displayName": "Ismaril",
      "userId": "09094833649721836077"
     },
     "user_tz": -120
    },
    "id": "xhfPbx6rCc7R",
    "outputId": "8370ffa2-2f7b-4944-dae7-b513dbcfe0a6"
   },
   "outputs": [
    {
     "data": {
      "text/plain": [
       "count    2.450000e+02\n",
       "mean     5.025418e+05\n",
       "std      2.276230e+06\n",
       "min      4.000000e+03\n",
       "25%      6.000000e+04\n",
       "50%      1.030000e+05\n",
       "75%      1.740000e+05\n",
       "max      3.040000e+07\n",
       "Name: salary, dtype: float64"
      ]
     },
     "execution_count": 1534,
     "metadata": {},
     "output_type": "execute_result"
    }
   ],
   "source": [
    "df[\"salary\"].describe()"
   ]
  },
  {
   "cell_type": "code",
   "execution_count": 1535,
   "metadata": {
    "colab": {
     "base_uri": "https://localhost:8080/"
    },
    "executionInfo": {
     "elapsed": 31,
     "status": "ok",
     "timestamp": 1655229267846,
     "user": {
      "displayName": "Ismaril",
      "userId": "09094833649721836077"
     },
     "user_tz": -120
    },
    "id": "DNb2AJ_jEG-q",
    "outputId": "c64ba353-f977-404a-eed0-4042556706bf"
   },
   "outputs": [
    {
     "data": {
      "text/plain": [
       "FT    231\n",
       "PT      7\n",
       "CT      4\n",
       "FL      3\n",
       "Name: employment_type, dtype: int64"
      ]
     },
     "execution_count": 1535,
     "metadata": {},
     "output_type": "execute_result"
    }
   ],
   "source": [
    "# summary of certain values in a given column\n",
    "df[\"employment_type\"].value_counts()"
   ]
  },
  {
   "cell_type": "code",
   "execution_count": 1536,
   "metadata": {
    "colab": {
     "base_uri": "https://localhost:8080/"
    },
    "executionInfo": {
     "elapsed": 29,
     "status": "ok",
     "timestamp": 1655229267846,
     "user": {
      "displayName": "Ismaril",
      "userId": "09094833649721836077"
     },
     "user_tz": -120
    },
    "id": "RDtrD0BZGNqr",
    "outputId": "f30e1d7e-d177-4c22-d44e-cef92a652554"
   },
   "outputs": [
    {
     "data": {
      "text/plain": [
       "FT    0.942857\n",
       "PT    0.028571\n",
       "CT    0.016327\n",
       "FL    0.012245\n",
       "Name: employment_type, dtype: float64"
      ]
     },
     "execution_count": 1536,
     "metadata": {},
     "output_type": "execute_result"
    }
   ],
   "source": [
    "# summary of certain values in a given column as percentage\n",
    "df[\"employment_type\"].value_counts(normalize=True)"
   ]
  },
  {
   "cell_type": "code",
   "execution_count": 1537,
   "metadata": {
    "colab": {
     "base_uri": "https://localhost:8080/",
     "height": 294
    },
    "executionInfo": {
     "elapsed": 27,
     "status": "ok",
     "timestamp": 1655229267847,
     "user": {
      "displayName": "Ismaril",
      "userId": "09094833649721836077"
     },
     "user_tz": -120
    },
    "id": "9T9zIsEQGkwd",
    "outputId": "565b25a8-f85f-4636-e0ba-1a6391b0a41b"
   },
   "outputs": [
    {
     "data": {
      "text/html": [
       "<div>\n",
       "<style scoped>\n",
       "    .dataframe tbody tr th:only-of-type {\n",
       "        vertical-align: middle;\n",
       "    }\n",
       "\n",
       "    .dataframe tbody tr th {\n",
       "        vertical-align: top;\n",
       "    }\n",
       "\n",
       "    .dataframe thead th {\n",
       "        text-align: right;\n",
       "    }\n",
       "</style>\n",
       "<table border=\"1\" class=\"dataframe\">\n",
       "  <thead>\n",
       "    <tr style=\"text-align: right;\">\n",
       "      <th></th>\n",
       "      <th>work_year</th>\n",
       "      <th>experience_level</th>\n",
       "      <th>employment_type</th>\n",
       "      <th>job_title</th>\n",
       "      <th>salary</th>\n",
       "      <th>salary_currency</th>\n",
       "      <th>salary_in_usd</th>\n",
       "      <th>employee_residence</th>\n",
       "      <th>remote_ratio</th>\n",
       "      <th>company_location</th>\n",
       "      <th>company_size</th>\n",
       "    </tr>\n",
       "  </thead>\n",
       "  <tbody>\n",
       "    <tr>\n",
       "      <th>4</th>\n",
       "      <td>2021e</td>\n",
       "      <td>EN</td>\n",
       "      <td>FT</td>\n",
       "      <td>Machine Learning Engineer</td>\n",
       "      <td>125000</td>\n",
       "      <td>USD</td>\n",
       "      <td>125000</td>\n",
       "      <td>US</td>\n",
       "      <td>100</td>\n",
       "      <td>US</td>\n",
       "      <td>S</td>\n",
       "    </tr>\n",
       "    <tr>\n",
       "      <th>5</th>\n",
       "      <td>2021e</td>\n",
       "      <td>SE</td>\n",
       "      <td>FT</td>\n",
       "      <td>Data Analytics Manager</td>\n",
       "      <td>120000</td>\n",
       "      <td>USD</td>\n",
       "      <td>120000</td>\n",
       "      <td>US</td>\n",
       "      <td>100</td>\n",
       "      <td>US</td>\n",
       "      <td>M</td>\n",
       "    </tr>\n",
       "    <tr>\n",
       "      <th>6</th>\n",
       "      <td>2020</td>\n",
       "      <td>MI</td>\n",
       "      <td>FT</td>\n",
       "      <td>Research Scientist</td>\n",
       "      <td>450000</td>\n",
       "      <td>USD</td>\n",
       "      <td>450000</td>\n",
       "      <td>US</td>\n",
       "      <td>0</td>\n",
       "      <td>US</td>\n",
       "      <td>M</td>\n",
       "    </tr>\n",
       "  </tbody>\n",
       "</table>\n",
       "</div>"
      ],
      "text/plain": [
       "  work_year experience_level employment_type                  job_title  \\\n",
       "4     2021e               EN              FT  Machine Learning Engineer   \n",
       "5     2021e               SE              FT     Data Analytics Manager   \n",
       "6      2020               MI              FT         Research Scientist   \n",
       "\n",
       "   salary salary_currency  salary_in_usd employee_residence  remote_ratio  \\\n",
       "4  125000             USD         125000                 US           100   \n",
       "5  120000             USD         120000                 US           100   \n",
       "6  450000             USD         450000                 US             0   \n",
       "\n",
       "  company_location company_size  \n",
       "4               US            S  \n",
       "5               US            M  \n",
       "6               US            M  "
      ]
     },
     "execution_count": 1537,
     "metadata": {},
     "output_type": "execute_result"
    }
   ],
   "source": [
    "# groupby = spliting the data, applying a function, combining the results\n",
    "\n",
    "\n",
    "# group by employee residence\n",
    "country_group = df.groupby([\"employee_residence\"])\n",
    "\n",
    "# visualise (actually this will return the same result as if we filtered it with loc iloc)\n",
    "country_group.get_group(\"US\").head(3)"
   ]
  },
  {
   "cell_type": "code",
   "execution_count": 1538,
   "metadata": {
    "colab": {
     "base_uri": "https://localhost:8080/"
    },
    "executionInfo": {
     "elapsed": 25,
     "status": "ok",
     "timestamp": 1655229267847,
     "user": {
      "displayName": "Ismaril",
      "userId": "09094833649721836077"
     },
     "user_tz": -120
    },
    "id": "7rbU0oyUI66a",
    "outputId": "63e4e09f-03bc-494a-e24c-e777e3b7604f"
   },
   "outputs": [
    {
     "data": {
      "text/plain": [
       "employee_residence\n",
       "AE    115000.0\n",
       "AT     82683.5\n",
       "BE     89402.0\n",
       "BG     80000.0\n",
       "BR     16026.0\n",
       "Name: salary_in_usd, dtype: float64"
      ]
     },
     "execution_count": 1538,
     "metadata": {},
     "output_type": "execute_result"
    }
   ],
   "source": [
    "country_group[\"salary_in_usd\"].median().head()"
   ]
  },
  {
   "cell_type": "code",
   "execution_count": 1539,
   "metadata": {
    "colab": {
     "base_uri": "https://localhost:8080/",
     "height": 238
    },
    "executionInfo": {
     "elapsed": 22,
     "status": "ok",
     "timestamp": 1655229267847,
     "user": {
      "displayName": "Ismaril",
      "userId": "09094833649721836077"
     },
     "user_tz": -120
    },
    "id": "ZqYcCEm_NK9S",
    "outputId": "c357854a-e8bc-4fef-bd40-fc60fdd6e4ea"
   },
   "outputs": [
    {
     "data": {
      "text/html": [
       "<div>\n",
       "<style scoped>\n",
       "    .dataframe tbody tr th:only-of-type {\n",
       "        vertical-align: middle;\n",
       "    }\n",
       "\n",
       "    .dataframe tbody tr th {\n",
       "        vertical-align: top;\n",
       "    }\n",
       "\n",
       "    .dataframe thead th {\n",
       "        text-align: right;\n",
       "    }\n",
       "</style>\n",
       "<table border=\"1\" class=\"dataframe\">\n",
       "  <thead>\n",
       "    <tr style=\"text-align: right;\">\n",
       "      <th></th>\n",
       "      <th>median</th>\n",
       "      <th>min</th>\n",
       "    </tr>\n",
       "    <tr>\n",
       "      <th>employee_residence</th>\n",
       "      <th></th>\n",
       "      <th></th>\n",
       "    </tr>\n",
       "  </thead>\n",
       "  <tbody>\n",
       "    <tr>\n",
       "      <th>AE</th>\n",
       "      <td>115000.0</td>\n",
       "      <td>115000</td>\n",
       "    </tr>\n",
       "    <tr>\n",
       "      <th>AT</th>\n",
       "      <td>82683.5</td>\n",
       "      <td>74130</td>\n",
       "    </tr>\n",
       "    <tr>\n",
       "      <th>BE</th>\n",
       "      <td>89402.0</td>\n",
       "      <td>89402</td>\n",
       "    </tr>\n",
       "    <tr>\n",
       "      <th>BG</th>\n",
       "      <td>80000.0</td>\n",
       "      <td>80000</td>\n",
       "    </tr>\n",
       "    <tr>\n",
       "      <th>BR</th>\n",
       "      <td>16026.0</td>\n",
       "      <td>12000</td>\n",
       "    </tr>\n",
       "  </tbody>\n",
       "</table>\n",
       "</div>"
      ],
      "text/plain": [
       "                      median     min\n",
       "employee_residence                  \n",
       "AE                  115000.0  115000\n",
       "AT                   82683.5   74130\n",
       "BE                   89402.0   89402\n",
       "BG                   80000.0   80000\n",
       "BR                   16026.0   12000"
      ]
     },
     "execution_count": 1539,
     "metadata": {},
     "output_type": "execute_result"
    }
   ],
   "source": [
    "# use aggregate function to apply multiple functions on a given 'groupby' dataset\n",
    "country_group[\"salary_in_usd\"].agg([\"median\", \"min\"]).head()"
   ]
  },
  {
   "cell_type": "code",
   "execution_count": 1540,
   "metadata": {
    "colab": {
     "base_uri": "https://localhost:8080/"
    },
    "executionInfo": {
     "elapsed": 21,
     "status": "ok",
     "timestamp": 1655229267847,
     "user": {
      "displayName": "Ismaril",
      "userId": "09094833649721836077"
     },
     "user_tz": -120
    },
    "id": "6B8ufKCpN0h8",
    "outputId": "0d7b3928-5271-4386-c17d-b0c74de883c7"
   },
   "outputs": [
    {
     "data": {
      "text/plain": [
       "median    138175.0\n",
       "min        58000.0\n",
       "Name: US, dtype: float64"
      ]
     },
     "execution_count": 1540,
     "metadata": {},
     "output_type": "execute_result"
    }
   ],
   "source": [
    "# check only US\n",
    "country_group[\"salary_in_usd\"].agg([\"median\", \"min\"]).loc[\"US\"]"
   ]
  },
  {
   "cell_type": "code",
   "execution_count": 1541,
   "metadata": {
    "colab": {
     "base_uri": "https://localhost:8080/"
    },
    "executionInfo": {
     "elapsed": 17,
     "status": "ok",
     "timestamp": 1655229267847,
     "user": {
      "displayName": "Ismaril",
      "userId": "09094833649721836077"
     },
     "user_tz": -120
    },
    "id": "FsJZh1PJPm9r",
    "outputId": "ab96f0a8-95c6-457e-ca6c-2b8a33a6ddf2"
   },
   "outputs": [
    {
     "data": {
      "text/plain": [
       "employee_residence\n",
       "CA    3\n",
       "FR    2\n",
       "GB    1\n",
       "IN    1\n",
       "JE    1\n",
       "NL    1\n",
       "PT    1\n",
       "US    1\n",
       "Name: job_title, dtype: int64"
      ]
     },
     "execution_count": 1541,
     "metadata": {},
     "output_type": "execute_result"
    }
   ],
   "source": [
    "# filter out sum of number of reasearches by country\n",
    "\n",
    "# note that on group object, you have to use apply method and inside it a function\n",
    "_ = country_group[\"job_title\"].apply(lambda x: x.str.contains(\"Research\").sum())\n",
    "\n",
    "df_ = _.copy()\n",
    "# filter out rows that do not have researchers\n",
    "filter = _ != False\n",
    "_.loc[filter]"
   ]
  },
  {
   "cell_type": "markdown",
   "metadata": {
    "id": "UGWCNj_GShor"
   },
   "source": [
    "# Cleaning Data - Casting Datatypes and Handling Missing Values"
   ]
  },
  {
   "cell_type": "code",
   "execution_count": 1542,
   "metadata": {
    "colab": {
     "base_uri": "https://localhost:8080/",
     "height": 379
    },
    "executionInfo": {
     "elapsed": 15,
     "status": "ok",
     "timestamp": 1655229267848,
     "user": {
      "displayName": "Ismaril",
      "userId": "09094833649721836077"
     },
     "user_tz": -120
    },
    "id": "xAIRf1kGl0w5",
    "outputId": "cb8612cd-52f8-4ed6-dc94-7e3777435f08"
   },
   "outputs": [
    {
     "data": {
      "text/html": [
       "<div>\n",
       "<style scoped>\n",
       "    .dataframe tbody tr th:only-of-type {\n",
       "        vertical-align: middle;\n",
       "    }\n",
       "\n",
       "    .dataframe tbody tr th {\n",
       "        vertical-align: top;\n",
       "    }\n",
       "\n",
       "    .dataframe thead th {\n",
       "        text-align: right;\n",
       "    }\n",
       "</style>\n",
       "<table border=\"1\" class=\"dataframe\">\n",
       "  <thead>\n",
       "    <tr style=\"text-align: right;\">\n",
       "      <th></th>\n",
       "      <th>Mail</th>\n",
       "      <th>Age</th>\n",
       "      <th>Sex</th>\n",
       "      <th>Bills</th>\n",
       "      <th>Salary</th>\n",
       "      <th>Country</th>\n",
       "      <th>Full name</th>\n",
       "      <th>first name</th>\n",
       "      <th>last name</th>\n",
       "    </tr>\n",
       "  </thead>\n",
       "  <tbody>\n",
       "    <tr>\n",
       "      <th>0</th>\n",
       "      <td>pony@gmail.com</td>\n",
       "      <td>32.0</td>\n",
       "      <td>Female</td>\n",
       "      <td>2000.0</td>\n",
       "      <td>35000.0</td>\n",
       "      <td>GERMANY</td>\n",
       "      <td>Ponna Wale</td>\n",
       "      <td>Ponna</td>\n",
       "      <td>Wale</td>\n",
       "    </tr>\n",
       "    <tr>\n",
       "      <th>1</th>\n",
       "      <td>Jonny@email.com</td>\n",
       "      <td>21.0</td>\n",
       "      <td>Male</td>\n",
       "      <td>1400.0</td>\n",
       "      <td>32000.0</td>\n",
       "      <td>USA</td>\n",
       "      <td>Jon Bobo</td>\n",
       "      <td>Jon</td>\n",
       "      <td>Bobo</td>\n",
       "    </tr>\n",
       "    <tr>\n",
       "      <th>2</th>\n",
       "      <td>borovice@seznam.cz</td>\n",
       "      <td>23.0</td>\n",
       "      <td>Female</td>\n",
       "      <td>1000.0</td>\n",
       "      <td>50000.0</td>\n",
       "      <td>CZECHIA</td>\n",
       "      <td>Lada Boro</td>\n",
       "      <td>Lada</td>\n",
       "      <td>Boro</td>\n",
       "    </tr>\n",
       "    <tr>\n",
       "      <th>3</th>\n",
       "      <td>NaN</td>\n",
       "      <td>36.0</td>\n",
       "      <td>NaN</td>\n",
       "      <td>1000.0</td>\n",
       "      <td>NaN</td>\n",
       "      <td>NaN</td>\n",
       "      <td>NaN</td>\n",
       "      <td>NaN</td>\n",
       "      <td>NaN</td>\n",
       "    </tr>\n",
       "    <tr>\n",
       "      <th>4</th>\n",
       "      <td>NaN</td>\n",
       "      <td>40.0</td>\n",
       "      <td>NaN</td>\n",
       "      <td>1000.0</td>\n",
       "      <td>NaN</td>\n",
       "      <td>NaN</td>\n",
       "      <td>NaN</td>\n",
       "      <td>NaN</td>\n",
       "      <td>NaN</td>\n",
       "    </tr>\n",
       "    <tr>\n",
       "      <th>5</th>\n",
       "      <td>NA</td>\n",
       "      <td>NA</td>\n",
       "      <td>NA</td>\n",
       "      <td>missing</td>\n",
       "      <td>NA</td>\n",
       "      <td>NA</td>\n",
       "      <td>missing</td>\n",
       "      <td>Kuro</td>\n",
       "      <td>missing</td>\n",
       "    </tr>\n",
       "    <tr>\n",
       "      <th>6</th>\n",
       "      <td>Missing</td>\n",
       "      <td>NaN</td>\n",
       "      <td>NaN</td>\n",
       "      <td>NaN</td>\n",
       "      <td>NaN</td>\n",
       "      <td>NaN</td>\n",
       "      <td>NaN</td>\n",
       "      <td>Zdeno</td>\n",
       "      <td>NaN</td>\n",
       "    </tr>\n",
       "    <tr>\n",
       "      <th>7</th>\n",
       "      <td>NaN</td>\n",
       "      <td>None</td>\n",
       "      <td>NaN</td>\n",
       "      <td>NaN</td>\n",
       "      <td>NaN</td>\n",
       "      <td>None</td>\n",
       "      <td>NaN</td>\n",
       "      <td>Jaro</td>\n",
       "      <td>NaN</td>\n",
       "    </tr>\n",
       "  </tbody>\n",
       "</table>\n",
       "</div>"
      ],
      "text/plain": [
       "                 Mail   Age     Sex    Bills   Salary  Country   Full name  \\\n",
       "0      pony@gmail.com  32.0  Female   2000.0  35000.0  GERMANY  Ponna Wale   \n",
       "1     Jonny@email.com  21.0    Male   1400.0  32000.0      USA    Jon Bobo   \n",
       "2  borovice@seznam.cz  23.0  Female   1000.0  50000.0  CZECHIA   Lada Boro   \n",
       "3                 NaN  36.0     NaN   1000.0      NaN      NaN         NaN   \n",
       "4                 NaN  40.0     NaN   1000.0      NaN      NaN         NaN   \n",
       "5                  NA    NA      NA  missing       NA       NA     missing   \n",
       "6             Missing   NaN     NaN      NaN      NaN      NaN         NaN   \n",
       "7                 NaN  None     NaN      NaN      NaN     None         NaN   \n",
       "\n",
       "  first name last name  \n",
       "0      Ponna      Wale  \n",
       "1        Jon      Bobo  \n",
       "2       Lada      Boro  \n",
       "3        NaN       NaN  \n",
       "4        NaN       NaN  \n",
       "5       Kuro   missing  \n",
       "6      Zdeno       NaN  \n",
       "7       Jaro       NaN  "
      ]
     },
     "execution_count": 1542,
     "metadata": {},
     "output_type": "execute_result"
    }
   ],
   "source": [
    "df = custom_df2.append({\"first name\":\"Kuro\",\n",
    "                        \"Mail\": \"NA\",\n",
    "                        \"Age\": \"NA\",\n",
    "                        \"Sex\": \"NA\",\n",
    "                        \"Salary\": \"NA\",\n",
    "                        \"Country\": \"NA\",\n",
    "                        \"Full name\": \"missing\",\n",
    "                        \"last name\": \"missing\",\n",
    "                        \"Bills\": \"missing\"}, ignore_index=True)\n",
    "df = df.append({\"first name\":\"Zdeno\", \"Mail\": \"Missing\"}, ignore_index=True)\n",
    "df = df.append({\"first name\":\"Jaro\",\"Age\": None, \"Country\": None}, ignore_index=True)\n",
    "\n",
    "df"
   ]
  },
  {
   "cell_type": "code",
   "execution_count": 1543,
   "metadata": {
    "colab": {
     "base_uri": "https://localhost:8080/",
     "height": 254
    },
    "executionInfo": {
     "elapsed": 15,
     "status": "ok",
     "timestamp": 1655229267849,
     "user": {
      "displayName": "Ismaril",
      "userId": "09094833649721836077"
     },
     "user_tz": -120
    },
    "id": "rWt4zqJBoCSS",
    "outputId": "51e74aee-15d2-48e8-a012-156ee4e0c200"
   },
   "outputs": [
    {
     "data": {
      "text/html": [
       "<div>\n",
       "<style scoped>\n",
       "    .dataframe tbody tr th:only-of-type {\n",
       "        vertical-align: middle;\n",
       "    }\n",
       "\n",
       "    .dataframe tbody tr th {\n",
       "        vertical-align: top;\n",
       "    }\n",
       "\n",
       "    .dataframe thead th {\n",
       "        text-align: right;\n",
       "    }\n",
       "</style>\n",
       "<table border=\"1\" class=\"dataframe\">\n",
       "  <thead>\n",
       "    <tr style=\"text-align: right;\">\n",
       "      <th></th>\n",
       "      <th>Mail</th>\n",
       "      <th>Age</th>\n",
       "      <th>Sex</th>\n",
       "      <th>Bills</th>\n",
       "      <th>Salary</th>\n",
       "      <th>Country</th>\n",
       "      <th>Full name</th>\n",
       "      <th>first name</th>\n",
       "      <th>last name</th>\n",
       "    </tr>\n",
       "  </thead>\n",
       "  <tbody>\n",
       "    <tr>\n",
       "      <th>0</th>\n",
       "      <td>pony@gmail.com</td>\n",
       "      <td>32.0</td>\n",
       "      <td>Female</td>\n",
       "      <td>2000.0</td>\n",
       "      <td>35000.0</td>\n",
       "      <td>GERMANY</td>\n",
       "      <td>Ponna Wale</td>\n",
       "      <td>Ponna</td>\n",
       "      <td>Wale</td>\n",
       "    </tr>\n",
       "    <tr>\n",
       "      <th>1</th>\n",
       "      <td>Jonny@email.com</td>\n",
       "      <td>21.0</td>\n",
       "      <td>Male</td>\n",
       "      <td>1400.0</td>\n",
       "      <td>32000.0</td>\n",
       "      <td>USA</td>\n",
       "      <td>Jon Bobo</td>\n",
       "      <td>Jon</td>\n",
       "      <td>Bobo</td>\n",
       "    </tr>\n",
       "    <tr>\n",
       "      <th>2</th>\n",
       "      <td>borovice@seznam.cz</td>\n",
       "      <td>23.0</td>\n",
       "      <td>Female</td>\n",
       "      <td>1000.0</td>\n",
       "      <td>50000.0</td>\n",
       "      <td>CZECHIA</td>\n",
       "      <td>Lada Boro</td>\n",
       "      <td>Lada</td>\n",
       "      <td>Boro</td>\n",
       "    </tr>\n",
       "    <tr>\n",
       "      <th>5</th>\n",
       "      <td>NA</td>\n",
       "      <td>NA</td>\n",
       "      <td>NA</td>\n",
       "      <td>missing</td>\n",
       "      <td>NA</td>\n",
       "      <td>NA</td>\n",
       "      <td>missing</td>\n",
       "      <td>Kuro</td>\n",
       "      <td>missing</td>\n",
       "    </tr>\n",
       "  </tbody>\n",
       "</table>\n",
       "</div>"
      ],
      "text/plain": [
       "                 Mail   Age     Sex    Bills   Salary  Country   Full name  \\\n",
       "0      pony@gmail.com  32.0  Female   2000.0  35000.0  GERMANY  Ponna Wale   \n",
       "1     Jonny@email.com  21.0    Male   1400.0  32000.0      USA    Jon Bobo   \n",
       "2  borovice@seznam.cz  23.0  Female   1000.0  50000.0  CZECHIA   Lada Boro   \n",
       "5                  NA    NA      NA  missing       NA       NA     missing   \n",
       "\n",
       "  first name last name  \n",
       "0      Ponna      Wale  \n",
       "1        Jon      Bobo  \n",
       "2       Lada      Boro  \n",
       "5       Kuro   missing  "
      ]
     },
     "execution_count": 1543,
     "metadata": {},
     "output_type": "execute_result"
    }
   ],
   "source": [
    "df.dropna()"
   ]
  },
  {
   "cell_type": "code",
   "execution_count": 1544,
   "metadata": {
    "executionInfo": {
     "elapsed": 18,
     "status": "ok",
     "timestamp": 1655229267852,
     "user": {
      "displayName": "Ismaril",
      "userId": "09094833649721836077"
     },
     "user_tz": -120
    },
    "id": "pJct8CHwUS8O"
   },
   "outputs": [
    {
     "data": {
      "text/html": [
       "<div>\n",
       "<style scoped>\n",
       "    .dataframe tbody tr th:only-of-type {\n",
       "        vertical-align: middle;\n",
       "    }\n",
       "\n",
       "    .dataframe tbody tr th {\n",
       "        vertical-align: top;\n",
       "    }\n",
       "\n",
       "    .dataframe thead th {\n",
       "        text-align: right;\n",
       "    }\n",
       "</style>\n",
       "<table border=\"1\" class=\"dataframe\">\n",
       "  <thead>\n",
       "    <tr style=\"text-align: right;\">\n",
       "      <th></th>\n",
       "      <th>Mail</th>\n",
       "      <th>Age</th>\n",
       "      <th>Sex</th>\n",
       "      <th>Bills</th>\n",
       "      <th>Salary</th>\n",
       "      <th>Country</th>\n",
       "      <th>Full name</th>\n",
       "      <th>first name</th>\n",
       "      <th>last name</th>\n",
       "    </tr>\n",
       "  </thead>\n",
       "  <tbody>\n",
       "    <tr>\n",
       "      <th>0</th>\n",
       "      <td>pony@gmail.com</td>\n",
       "      <td>32.0</td>\n",
       "      <td>Female</td>\n",
       "      <td>2000.0</td>\n",
       "      <td>35000.0</td>\n",
       "      <td>GERMANY</td>\n",
       "      <td>Ponna Wale</td>\n",
       "      <td>Ponna</td>\n",
       "      <td>Wale</td>\n",
       "    </tr>\n",
       "    <tr>\n",
       "      <th>1</th>\n",
       "      <td>Jonny@email.com</td>\n",
       "      <td>21.0</td>\n",
       "      <td>Male</td>\n",
       "      <td>1400.0</td>\n",
       "      <td>32000.0</td>\n",
       "      <td>USA</td>\n",
       "      <td>Jon Bobo</td>\n",
       "      <td>Jon</td>\n",
       "      <td>Bobo</td>\n",
       "    </tr>\n",
       "    <tr>\n",
       "      <th>2</th>\n",
       "      <td>borovice@seznam.cz</td>\n",
       "      <td>23.0</td>\n",
       "      <td>Female</td>\n",
       "      <td>1000.0</td>\n",
       "      <td>50000.0</td>\n",
       "      <td>CZECHIA</td>\n",
       "      <td>Lada Boro</td>\n",
       "      <td>Lada</td>\n",
       "      <td>Boro</td>\n",
       "    </tr>\n",
       "    <tr>\n",
       "      <th>5</th>\n",
       "      <td>NA</td>\n",
       "      <td>NA</td>\n",
       "      <td>NA</td>\n",
       "      <td>missing</td>\n",
       "      <td>NA</td>\n",
       "      <td>NA</td>\n",
       "      <td>missing</td>\n",
       "      <td>Kuro</td>\n",
       "      <td>missing</td>\n",
       "    </tr>\n",
       "  </tbody>\n",
       "</table>\n",
       "</div>"
      ],
      "text/plain": [
       "                 Mail   Age     Sex    Bills   Salary  Country   Full name  \\\n",
       "0      pony@gmail.com  32.0  Female   2000.0  35000.0  GERMANY  Ponna Wale   \n",
       "1     Jonny@email.com  21.0    Male   1400.0  32000.0      USA    Jon Bobo   \n",
       "2  borovice@seznam.cz  23.0  Female   1000.0  50000.0  CZECHIA   Lada Boro   \n",
       "5                  NA    NA      NA  missing       NA       NA     missing   \n",
       "\n",
       "  first name last name  \n",
       "0      Ponna      Wale  \n",
       "1        Jon      Bobo  \n",
       "2       Lada      Boro  \n",
       "5       Kuro   missing  "
      ]
     },
     "execution_count": 1544,
     "metadata": {},
     "output_type": "execute_result"
    }
   ],
   "source": [
    "# default parameters in dropna()\n",
    "# axis = index/columns - drop index or column if it has any na value\n",
    "# how = all/any - drop row/column based if there is atleast one na or all na values\n",
    "df.dropna(axis=\"index\", how=\"any\")"
   ]
  },
  {
   "cell_type": "code",
   "execution_count": 1545,
   "metadata": {},
   "outputs": [
    {
     "data": {
      "text/html": [
       "<div>\n",
       "<style scoped>\n",
       "    .dataframe tbody tr th:only-of-type {\n",
       "        vertical-align: middle;\n",
       "    }\n",
       "\n",
       "    .dataframe tbody tr th {\n",
       "        vertical-align: top;\n",
       "    }\n",
       "\n",
       "    .dataframe thead th {\n",
       "        text-align: right;\n",
       "    }\n",
       "</style>\n",
       "<table border=\"1\" class=\"dataframe\">\n",
       "  <thead>\n",
       "    <tr style=\"text-align: right;\">\n",
       "      <th></th>\n",
       "      <th>Mail</th>\n",
       "      <th>Age</th>\n",
       "      <th>Sex</th>\n",
       "      <th>Bills</th>\n",
       "      <th>Salary</th>\n",
       "      <th>Country</th>\n",
       "      <th>Full name</th>\n",
       "      <th>first name</th>\n",
       "      <th>last name</th>\n",
       "    </tr>\n",
       "  </thead>\n",
       "  <tbody>\n",
       "    <tr>\n",
       "      <th>0</th>\n",
       "      <td>pony@gmail.com</td>\n",
       "      <td>32.0</td>\n",
       "      <td>Female</td>\n",
       "      <td>2000.0</td>\n",
       "      <td>35000.0</td>\n",
       "      <td>GERMANY</td>\n",
       "      <td>Ponna Wale</td>\n",
       "      <td>Ponna</td>\n",
       "      <td>Wale</td>\n",
       "    </tr>\n",
       "    <tr>\n",
       "      <th>1</th>\n",
       "      <td>Jonny@email.com</td>\n",
       "      <td>21.0</td>\n",
       "      <td>Male</td>\n",
       "      <td>1400.0</td>\n",
       "      <td>32000.0</td>\n",
       "      <td>USA</td>\n",
       "      <td>Jon Bobo</td>\n",
       "      <td>Jon</td>\n",
       "      <td>Bobo</td>\n",
       "    </tr>\n",
       "    <tr>\n",
       "      <th>2</th>\n",
       "      <td>borovice@seznam.cz</td>\n",
       "      <td>23.0</td>\n",
       "      <td>Female</td>\n",
       "      <td>1000.0</td>\n",
       "      <td>50000.0</td>\n",
       "      <td>CZECHIA</td>\n",
       "      <td>Lada Boro</td>\n",
       "      <td>Lada</td>\n",
       "      <td>Boro</td>\n",
       "    </tr>\n",
       "    <tr>\n",
       "      <th>5</th>\n",
       "      <td>NA</td>\n",
       "      <td>NA</td>\n",
       "      <td>NA</td>\n",
       "      <td>missing</td>\n",
       "      <td>NA</td>\n",
       "      <td>NA</td>\n",
       "      <td>missing</td>\n",
       "      <td>Kuro</td>\n",
       "      <td>missing</td>\n",
       "    </tr>\n",
       "    <tr>\n",
       "      <th>6</th>\n",
       "      <td>Missing</td>\n",
       "      <td>NaN</td>\n",
       "      <td>NaN</td>\n",
       "      <td>NaN</td>\n",
       "      <td>NaN</td>\n",
       "      <td>NaN</td>\n",
       "      <td>NaN</td>\n",
       "      <td>Zdeno</td>\n",
       "      <td>NaN</td>\n",
       "    </tr>\n",
       "  </tbody>\n",
       "</table>\n",
       "</div>"
      ],
      "text/plain": [
       "                 Mail   Age     Sex    Bills   Salary  Country   Full name  \\\n",
       "0      pony@gmail.com  32.0  Female   2000.0  35000.0  GERMANY  Ponna Wale   \n",
       "1     Jonny@email.com  21.0    Male   1400.0  32000.0      USA    Jon Bobo   \n",
       "2  borovice@seznam.cz  23.0  Female   1000.0  50000.0  CZECHIA   Lada Boro   \n",
       "5                  NA    NA      NA  missing       NA       NA     missing   \n",
       "6             Missing   NaN     NaN      NaN      NaN      NaN         NaN   \n",
       "\n",
       "  first name last name  \n",
       "0      Ponna      Wale  \n",
       "1        Jon      Bobo  \n",
       "2       Lada      Boro  \n",
       "5       Kuro   missing  \n",
       "6      Zdeno       NaN  "
      ]
     },
     "execution_count": 1545,
     "metadata": {},
     "output_type": "execute_result"
    }
   ],
   "source": [
    "# drop na based on specified column (also row?)\n",
    "#   means drop only na in a specified column\n",
    "df.dropna(axis=\"index\", how=\"any\", subset=[\"Mail\"])"
   ]
  },
  {
   "cell_type": "code",
   "execution_count": 1546,
   "metadata": {},
   "outputs": [
    {
     "data": {
      "text/html": [
       "<div>\n",
       "<style scoped>\n",
       "    .dataframe tbody tr th:only-of-type {\n",
       "        vertical-align: middle;\n",
       "    }\n",
       "\n",
       "    .dataframe tbody tr th {\n",
       "        vertical-align: top;\n",
       "    }\n",
       "\n",
       "    .dataframe thead th {\n",
       "        text-align: right;\n",
       "    }\n",
       "</style>\n",
       "<table border=\"1\" class=\"dataframe\">\n",
       "  <thead>\n",
       "    <tr style=\"text-align: right;\">\n",
       "      <th></th>\n",
       "      <th>Mail</th>\n",
       "      <th>Age</th>\n",
       "      <th>Sex</th>\n",
       "      <th>Bills</th>\n",
       "      <th>Salary</th>\n",
       "      <th>Country</th>\n",
       "      <th>Full name</th>\n",
       "      <th>first name</th>\n",
       "      <th>last name</th>\n",
       "    </tr>\n",
       "  </thead>\n",
       "  <tbody>\n",
       "    <tr>\n",
       "      <th>0</th>\n",
       "      <td>pony@gmail.com</td>\n",
       "      <td>32.0</td>\n",
       "      <td>Female</td>\n",
       "      <td>2000.0</td>\n",
       "      <td>35000.0</td>\n",
       "      <td>GERMANY</td>\n",
       "      <td>Ponna Wale</td>\n",
       "      <td>Ponna</td>\n",
       "      <td>Wale</td>\n",
       "    </tr>\n",
       "    <tr>\n",
       "      <th>1</th>\n",
       "      <td>Jonny@email.com</td>\n",
       "      <td>21.0</td>\n",
       "      <td>Male</td>\n",
       "      <td>1400.0</td>\n",
       "      <td>32000.0</td>\n",
       "      <td>USA</td>\n",
       "      <td>Jon Bobo</td>\n",
       "      <td>Jon</td>\n",
       "      <td>Bobo</td>\n",
       "    </tr>\n",
       "    <tr>\n",
       "      <th>2</th>\n",
       "      <td>borovice@seznam.cz</td>\n",
       "      <td>23.0</td>\n",
       "      <td>Female</td>\n",
       "      <td>1000.0</td>\n",
       "      <td>50000.0</td>\n",
       "      <td>CZECHIA</td>\n",
       "      <td>Lada Boro</td>\n",
       "      <td>Lada</td>\n",
       "      <td>Boro</td>\n",
       "    </tr>\n",
       "    <tr>\n",
       "      <th>3</th>\n",
       "      <td>NaN</td>\n",
       "      <td>36.0</td>\n",
       "      <td>NaN</td>\n",
       "      <td>1000.0</td>\n",
       "      <td>NaN</td>\n",
       "      <td>NaN</td>\n",
       "      <td>NaN</td>\n",
       "      <td>NaN</td>\n",
       "      <td>NaN</td>\n",
       "    </tr>\n",
       "    <tr>\n",
       "      <th>4</th>\n",
       "      <td>NaN</td>\n",
       "      <td>40.0</td>\n",
       "      <td>NaN</td>\n",
       "      <td>1000.0</td>\n",
       "      <td>NaN</td>\n",
       "      <td>NaN</td>\n",
       "      <td>NaN</td>\n",
       "      <td>NaN</td>\n",
       "      <td>NaN</td>\n",
       "    </tr>\n",
       "    <tr>\n",
       "      <th>5</th>\n",
       "      <td>NaN</td>\n",
       "      <td>NaN</td>\n",
       "      <td>NaN</td>\n",
       "      <td>NaN</td>\n",
       "      <td>NaN</td>\n",
       "      <td>NaN</td>\n",
       "      <td>NaN</td>\n",
       "      <td>Kuro</td>\n",
       "      <td>NaN</td>\n",
       "    </tr>\n",
       "    <tr>\n",
       "      <th>6</th>\n",
       "      <td>Missing</td>\n",
       "      <td>NaN</td>\n",
       "      <td>NaN</td>\n",
       "      <td>NaN</td>\n",
       "      <td>NaN</td>\n",
       "      <td>NaN</td>\n",
       "      <td>NaN</td>\n",
       "      <td>Zdeno</td>\n",
       "      <td>NaN</td>\n",
       "    </tr>\n",
       "    <tr>\n",
       "      <th>7</th>\n",
       "      <td>NaN</td>\n",
       "      <td>NaN</td>\n",
       "      <td>NaN</td>\n",
       "      <td>NaN</td>\n",
       "      <td>NaN</td>\n",
       "      <td>None</td>\n",
       "      <td>NaN</td>\n",
       "      <td>Jaro</td>\n",
       "      <td>NaN</td>\n",
       "    </tr>\n",
       "  </tbody>\n",
       "</table>\n",
       "</div>"
      ],
      "text/plain": [
       "                 Mail   Age     Sex   Bills   Salary  Country   Full name  \\\n",
       "0      pony@gmail.com  32.0  Female  2000.0  35000.0  GERMANY  Ponna Wale   \n",
       "1     Jonny@email.com  21.0    Male  1400.0  32000.0      USA    Jon Bobo   \n",
       "2  borovice@seznam.cz  23.0  Female  1000.0  50000.0  CZECHIA   Lada Boro   \n",
       "3                 NaN  36.0     NaN  1000.0      NaN      NaN         NaN   \n",
       "4                 NaN  40.0     NaN  1000.0      NaN      NaN         NaN   \n",
       "5                 NaN   NaN     NaN     NaN      NaN      NaN         NaN   \n",
       "6             Missing   NaN     NaN     NaN      NaN      NaN         NaN   \n",
       "7                 NaN   NaN     NaN     NaN      NaN     None         NaN   \n",
       "\n",
       "  first name last name  \n",
       "0      Ponna      Wale  \n",
       "1        Jon      Bobo  \n",
       "2       Lada      Boro  \n",
       "3        NaN       NaN  \n",
       "4        NaN       NaN  \n",
       "5       Kuro       NaN  \n",
       "6      Zdeno       NaN  \n",
       "7       Jaro       NaN  "
      ]
     },
     "execution_count": 1546,
     "metadata": {},
     "output_type": "execute_result"
    }
   ],
   "source": [
    "# replace values \"NA\", \"missing\" with np.nan\n",
    "# df.replace applies on every value of the dataset\n",
    "df.replace(\"NA\", np.nan, inplace=True)\n",
    "df.replace(\"missing\", np.nan, inplace=True)\n",
    "df"
   ]
  },
  {
   "cell_type": "code",
   "execution_count": 1547,
   "metadata": {},
   "outputs": [
    {
     "data": {
      "text/html": [
       "<div>\n",
       "<style scoped>\n",
       "    .dataframe tbody tr th:only-of-type {\n",
       "        vertical-align: middle;\n",
       "    }\n",
       "\n",
       "    .dataframe tbody tr th {\n",
       "        vertical-align: top;\n",
       "    }\n",
       "\n",
       "    .dataframe thead th {\n",
       "        text-align: right;\n",
       "    }\n",
       "</style>\n",
       "<table border=\"1\" class=\"dataframe\">\n",
       "  <thead>\n",
       "    <tr style=\"text-align: right;\">\n",
       "      <th></th>\n",
       "      <th>Mail</th>\n",
       "      <th>Age</th>\n",
       "      <th>Sex</th>\n",
       "      <th>Bills</th>\n",
       "      <th>Salary</th>\n",
       "      <th>Country</th>\n",
       "      <th>Full name</th>\n",
       "      <th>first name</th>\n",
       "      <th>last name</th>\n",
       "    </tr>\n",
       "  </thead>\n",
       "  <tbody>\n",
       "    <tr>\n",
       "      <th>0</th>\n",
       "      <td>False</td>\n",
       "      <td>False</td>\n",
       "      <td>False</td>\n",
       "      <td>False</td>\n",
       "      <td>False</td>\n",
       "      <td>False</td>\n",
       "      <td>False</td>\n",
       "      <td>False</td>\n",
       "      <td>False</td>\n",
       "    </tr>\n",
       "    <tr>\n",
       "      <th>1</th>\n",
       "      <td>False</td>\n",
       "      <td>False</td>\n",
       "      <td>False</td>\n",
       "      <td>False</td>\n",
       "      <td>False</td>\n",
       "      <td>False</td>\n",
       "      <td>False</td>\n",
       "      <td>False</td>\n",
       "      <td>False</td>\n",
       "    </tr>\n",
       "    <tr>\n",
       "      <th>2</th>\n",
       "      <td>False</td>\n",
       "      <td>False</td>\n",
       "      <td>False</td>\n",
       "      <td>False</td>\n",
       "      <td>False</td>\n",
       "      <td>False</td>\n",
       "      <td>False</td>\n",
       "      <td>False</td>\n",
       "      <td>False</td>\n",
       "    </tr>\n",
       "    <tr>\n",
       "      <th>3</th>\n",
       "      <td>True</td>\n",
       "      <td>False</td>\n",
       "      <td>True</td>\n",
       "      <td>False</td>\n",
       "      <td>True</td>\n",
       "      <td>True</td>\n",
       "      <td>True</td>\n",
       "      <td>True</td>\n",
       "      <td>True</td>\n",
       "    </tr>\n",
       "    <tr>\n",
       "      <th>4</th>\n",
       "      <td>True</td>\n",
       "      <td>False</td>\n",
       "      <td>True</td>\n",
       "      <td>False</td>\n",
       "      <td>True</td>\n",
       "      <td>True</td>\n",
       "      <td>True</td>\n",
       "      <td>True</td>\n",
       "      <td>True</td>\n",
       "    </tr>\n",
       "    <tr>\n",
       "      <th>5</th>\n",
       "      <td>True</td>\n",
       "      <td>True</td>\n",
       "      <td>True</td>\n",
       "      <td>True</td>\n",
       "      <td>True</td>\n",
       "      <td>True</td>\n",
       "      <td>True</td>\n",
       "      <td>False</td>\n",
       "      <td>True</td>\n",
       "    </tr>\n",
       "    <tr>\n",
       "      <th>6</th>\n",
       "      <td>False</td>\n",
       "      <td>True</td>\n",
       "      <td>True</td>\n",
       "      <td>True</td>\n",
       "      <td>True</td>\n",
       "      <td>True</td>\n",
       "      <td>True</td>\n",
       "      <td>False</td>\n",
       "      <td>True</td>\n",
       "    </tr>\n",
       "    <tr>\n",
       "      <th>7</th>\n",
       "      <td>True</td>\n",
       "      <td>True</td>\n",
       "      <td>True</td>\n",
       "      <td>True</td>\n",
       "      <td>True</td>\n",
       "      <td>True</td>\n",
       "      <td>True</td>\n",
       "      <td>False</td>\n",
       "      <td>True</td>\n",
       "    </tr>\n",
       "  </tbody>\n",
       "</table>\n",
       "</div>"
      ],
      "text/plain": [
       "    Mail    Age    Sex  Bills  Salary  Country  Full name  first name  \\\n",
       "0  False  False  False  False   False    False      False       False   \n",
       "1  False  False  False  False   False    False      False       False   \n",
       "2  False  False  False  False   False    False      False       False   \n",
       "3   True  False   True  False    True     True       True        True   \n",
       "4   True  False   True  False    True     True       True        True   \n",
       "5   True   True   True   True    True     True       True       False   \n",
       "6  False   True   True   True    True     True       True       False   \n",
       "7   True   True   True   True    True     True       True       False   \n",
       "\n",
       "   last name  \n",
       "0      False  \n",
       "1      False  \n",
       "2      False  \n",
       "3       True  \n",
       "4       True  \n",
       "5       True  \n",
       "6       True  \n",
       "7       True  "
      ]
     },
     "execution_count": 1547,
     "metadata": {},
     "output_type": "execute_result"
    }
   ],
   "source": [
    "# check if any value in dataset is na with df.isna()\n",
    "df.isna()"
   ]
  },
  {
   "cell_type": "code",
   "execution_count": 1548,
   "metadata": {},
   "outputs": [
    {
     "data": {
      "text/html": [
       "<div>\n",
       "<style scoped>\n",
       "    .dataframe tbody tr th:only-of-type {\n",
       "        vertical-align: middle;\n",
       "    }\n",
       "\n",
       "    .dataframe tbody tr th {\n",
       "        vertical-align: top;\n",
       "    }\n",
       "\n",
       "    .dataframe thead th {\n",
       "        text-align: right;\n",
       "    }\n",
       "</style>\n",
       "<table border=\"1\" class=\"dataframe\">\n",
       "  <thead>\n",
       "    <tr style=\"text-align: right;\">\n",
       "      <th></th>\n",
       "      <th>Mail</th>\n",
       "      <th>Age</th>\n",
       "      <th>Sex</th>\n",
       "      <th>Bills</th>\n",
       "      <th>Salary</th>\n",
       "      <th>Country</th>\n",
       "      <th>Full name</th>\n",
       "      <th>first name</th>\n",
       "      <th>last name</th>\n",
       "    </tr>\n",
       "  </thead>\n",
       "  <tbody>\n",
       "    <tr>\n",
       "      <th>0</th>\n",
       "      <td>pony@gmail.com</td>\n",
       "      <td>32.0</td>\n",
       "      <td>Female</td>\n",
       "      <td>2000.0</td>\n",
       "      <td>35000.0</td>\n",
       "      <td>GERMANY</td>\n",
       "      <td>Ponna Wale</td>\n",
       "      <td>Ponna</td>\n",
       "      <td>Wale</td>\n",
       "    </tr>\n",
       "    <tr>\n",
       "      <th>1</th>\n",
       "      <td>Jonny@email.com</td>\n",
       "      <td>21.0</td>\n",
       "      <td>Male</td>\n",
       "      <td>1400.0</td>\n",
       "      <td>32000.0</td>\n",
       "      <td>USA</td>\n",
       "      <td>Jon Bobo</td>\n",
       "      <td>Jon</td>\n",
       "      <td>Bobo</td>\n",
       "    </tr>\n",
       "    <tr>\n",
       "      <th>2</th>\n",
       "      <td>borovice@seznam.cz</td>\n",
       "      <td>23.0</td>\n",
       "      <td>Female</td>\n",
       "      <td>1000.0</td>\n",
       "      <td>50000.0</td>\n",
       "      <td>CZECHIA</td>\n",
       "      <td>Lada Boro</td>\n",
       "      <td>Lada</td>\n",
       "      <td>Boro</td>\n",
       "    </tr>\n",
       "    <tr>\n",
       "      <th>3</th>\n",
       "      <td>MISSING</td>\n",
       "      <td>36.0</td>\n",
       "      <td>MISSING</td>\n",
       "      <td>1000.0</td>\n",
       "      <td>MISSING</td>\n",
       "      <td>MISSING</td>\n",
       "      <td>MISSING</td>\n",
       "      <td>MISSING</td>\n",
       "      <td>MISSING</td>\n",
       "    </tr>\n",
       "    <tr>\n",
       "      <th>4</th>\n",
       "      <td>MISSING</td>\n",
       "      <td>40.0</td>\n",
       "      <td>MISSING</td>\n",
       "      <td>1000.0</td>\n",
       "      <td>MISSING</td>\n",
       "      <td>MISSING</td>\n",
       "      <td>MISSING</td>\n",
       "      <td>MISSING</td>\n",
       "      <td>MISSING</td>\n",
       "    </tr>\n",
       "    <tr>\n",
       "      <th>5</th>\n",
       "      <td>MISSING</td>\n",
       "      <td>MISSING</td>\n",
       "      <td>MISSING</td>\n",
       "      <td>MISSING</td>\n",
       "      <td>MISSING</td>\n",
       "      <td>MISSING</td>\n",
       "      <td>MISSING</td>\n",
       "      <td>Kuro</td>\n",
       "      <td>MISSING</td>\n",
       "    </tr>\n",
       "    <tr>\n",
       "      <th>6</th>\n",
       "      <td>Missing</td>\n",
       "      <td>MISSING</td>\n",
       "      <td>MISSING</td>\n",
       "      <td>MISSING</td>\n",
       "      <td>MISSING</td>\n",
       "      <td>MISSING</td>\n",
       "      <td>MISSING</td>\n",
       "      <td>Zdeno</td>\n",
       "      <td>MISSING</td>\n",
       "    </tr>\n",
       "    <tr>\n",
       "      <th>7</th>\n",
       "      <td>MISSING</td>\n",
       "      <td>MISSING</td>\n",
       "      <td>MISSING</td>\n",
       "      <td>MISSING</td>\n",
       "      <td>MISSING</td>\n",
       "      <td>MISSING</td>\n",
       "      <td>MISSING</td>\n",
       "      <td>Jaro</td>\n",
       "      <td>MISSING</td>\n",
       "    </tr>\n",
       "  </tbody>\n",
       "</table>\n",
       "</div>"
      ],
      "text/plain": [
       "                 Mail      Age      Sex    Bills   Salary  Country  \\\n",
       "0      pony@gmail.com     32.0   Female   2000.0  35000.0  GERMANY   \n",
       "1     Jonny@email.com     21.0     Male   1400.0  32000.0      USA   \n",
       "2  borovice@seznam.cz     23.0   Female   1000.0  50000.0  CZECHIA   \n",
       "3             MISSING     36.0  MISSING   1000.0  MISSING  MISSING   \n",
       "4             MISSING     40.0  MISSING   1000.0  MISSING  MISSING   \n",
       "5             MISSING  MISSING  MISSING  MISSING  MISSING  MISSING   \n",
       "6             Missing  MISSING  MISSING  MISSING  MISSING  MISSING   \n",
       "7             MISSING  MISSING  MISSING  MISSING  MISSING  MISSING   \n",
       "\n",
       "    Full name first name last name  \n",
       "0  Ponna Wale      Ponna      Wale  \n",
       "1    Jon Bobo        Jon      Bobo  \n",
       "2   Lada Boro       Lada      Boro  \n",
       "3     MISSING    MISSING   MISSING  \n",
       "4     MISSING    MISSING   MISSING  \n",
       "5     MISSING       Kuro   MISSING  \n",
       "6     MISSING      Zdeno   MISSING  \n",
       "7     MISSING       Jaro   MISSING  "
      ]
     },
     "execution_count": 1548,
     "metadata": {},
     "output_type": "execute_result"
    }
   ],
   "source": [
    "# we can also replace all na values with whaver we like (just for any reason...)\n",
    "df.fillna(\"MISSING\")"
   ]
  },
  {
   "cell_type": "code",
   "execution_count": 1549,
   "metadata": {},
   "outputs": [
    {
     "data": {
      "text/html": [
       "<div>\n",
       "<style scoped>\n",
       "    .dataframe tbody tr th:only-of-type {\n",
       "        vertical-align: middle;\n",
       "    }\n",
       "\n",
       "    .dataframe tbody tr th {\n",
       "        vertical-align: top;\n",
       "    }\n",
       "\n",
       "    .dataframe thead th {\n",
       "        text-align: right;\n",
       "    }\n",
       "</style>\n",
       "<table border=\"1\" class=\"dataframe\">\n",
       "  <thead>\n",
       "    <tr style=\"text-align: right;\">\n",
       "      <th></th>\n",
       "      <th>Mail</th>\n",
       "      <th>Age</th>\n",
       "      <th>Sex</th>\n",
       "      <th>Bills</th>\n",
       "      <th>Salary</th>\n",
       "      <th>Country</th>\n",
       "      <th>Full name</th>\n",
       "      <th>first name</th>\n",
       "      <th>last name</th>\n",
       "    </tr>\n",
       "  </thead>\n",
       "  <tbody>\n",
       "    <tr>\n",
       "      <th>0</th>\n",
       "      <td>pony@gmail.com</td>\n",
       "      <td>32.0</td>\n",
       "      <td>Female</td>\n",
       "      <td>2000.0</td>\n",
       "      <td>35000.0</td>\n",
       "      <td>GERMANY</td>\n",
       "      <td>Ponna Wale</td>\n",
       "      <td>Ponna</td>\n",
       "      <td>Wale</td>\n",
       "    </tr>\n",
       "    <tr>\n",
       "      <th>1</th>\n",
       "      <td>Jonny@email.com</td>\n",
       "      <td>21.0</td>\n",
       "      <td>Male</td>\n",
       "      <td>1400.0</td>\n",
       "      <td>32000.0</td>\n",
       "      <td>USA</td>\n",
       "      <td>Jon Bobo</td>\n",
       "      <td>Jon</td>\n",
       "      <td>Bobo</td>\n",
       "    </tr>\n",
       "    <tr>\n",
       "      <th>2</th>\n",
       "      <td>borovice@seznam.cz</td>\n",
       "      <td>23.0</td>\n",
       "      <td>Female</td>\n",
       "      <td>1000.0</td>\n",
       "      <td>50000.0</td>\n",
       "      <td>CZECHIA</td>\n",
       "      <td>Lada Boro</td>\n",
       "      <td>Lada</td>\n",
       "      <td>Boro</td>\n",
       "    </tr>\n",
       "    <tr>\n",
       "      <th>3</th>\n",
       "      <td>0</td>\n",
       "      <td>36.0</td>\n",
       "      <td>0</td>\n",
       "      <td>1000.0</td>\n",
       "      <td>0.0</td>\n",
       "      <td>0</td>\n",
       "      <td>0</td>\n",
       "      <td>0</td>\n",
       "      <td>0</td>\n",
       "    </tr>\n",
       "    <tr>\n",
       "      <th>4</th>\n",
       "      <td>0</td>\n",
       "      <td>40.0</td>\n",
       "      <td>0</td>\n",
       "      <td>1000.0</td>\n",
       "      <td>0.0</td>\n",
       "      <td>0</td>\n",
       "      <td>0</td>\n",
       "      <td>0</td>\n",
       "      <td>0</td>\n",
       "    </tr>\n",
       "    <tr>\n",
       "      <th>5</th>\n",
       "      <td>0</td>\n",
       "      <td>0.0</td>\n",
       "      <td>0</td>\n",
       "      <td>0.0</td>\n",
       "      <td>0.0</td>\n",
       "      <td>0</td>\n",
       "      <td>0</td>\n",
       "      <td>Kuro</td>\n",
       "      <td>0</td>\n",
       "    </tr>\n",
       "    <tr>\n",
       "      <th>6</th>\n",
       "      <td>Missing</td>\n",
       "      <td>0.0</td>\n",
       "      <td>0</td>\n",
       "      <td>0.0</td>\n",
       "      <td>0.0</td>\n",
       "      <td>0</td>\n",
       "      <td>0</td>\n",
       "      <td>Zdeno</td>\n",
       "      <td>0</td>\n",
       "    </tr>\n",
       "    <tr>\n",
       "      <th>7</th>\n",
       "      <td>0</td>\n",
       "      <td>0.0</td>\n",
       "      <td>0</td>\n",
       "      <td>0.0</td>\n",
       "      <td>0.0</td>\n",
       "      <td>0</td>\n",
       "      <td>0</td>\n",
       "      <td>Jaro</td>\n",
       "      <td>0</td>\n",
       "    </tr>\n",
       "  </tbody>\n",
       "</table>\n",
       "</div>"
      ],
      "text/plain": [
       "                 Mail   Age     Sex   Bills   Salary  Country   Full name  \\\n",
       "0      pony@gmail.com  32.0  Female  2000.0  35000.0  GERMANY  Ponna Wale   \n",
       "1     Jonny@email.com  21.0    Male  1400.0  32000.0      USA    Jon Bobo   \n",
       "2  borovice@seznam.cz  23.0  Female  1000.0  50000.0  CZECHIA   Lada Boro   \n",
       "3                   0  36.0       0  1000.0      0.0        0           0   \n",
       "4                   0  40.0       0  1000.0      0.0        0           0   \n",
       "5                   0   0.0       0     0.0      0.0        0           0   \n",
       "6             Missing   0.0       0     0.0      0.0        0           0   \n",
       "7                   0   0.0       0     0.0      0.0        0           0   \n",
       "\n",
       "  first name last name  \n",
       "0      Ponna      Wale  \n",
       "1        Jon      Bobo  \n",
       "2       Lada      Boro  \n",
       "3          0         0  \n",
       "4          0         0  \n",
       "5       Kuro         0  \n",
       "6      Zdeno         0  \n",
       "7       Jaro         0  "
      ]
     },
     "execution_count": 1549,
     "metadata": {},
     "output_type": "execute_result"
    }
   ],
   "source": [
    "# ...of fill in some zeroes instead\n",
    "df.fillna(0) "
   ]
  },
  {
   "cell_type": "markdown",
   "metadata": {},
   "source": [
    "# Casting datatypes"
   ]
  },
  {
   "cell_type": "code",
   "execution_count": 1550,
   "metadata": {},
   "outputs": [
    {
     "data": {
      "text/plain": [
       "Mail           object\n",
       "Age           float64\n",
       "Sex            object\n",
       "Bills         float64\n",
       "Salary        float64\n",
       "Country        object\n",
       "Full name      object\n",
       "first name     object\n",
       "last name      object\n",
       "dtype: object"
      ]
     },
     "execution_count": 1550,
     "metadata": {},
     "output_type": "execute_result"
    }
   ],
   "source": [
    "# check for datatypes of dataset\n",
    "df.dtypes"
   ]
  },
  {
   "cell_type": "code",
   "execution_count": 1551,
   "metadata": {},
   "outputs": [
    {
     "data": {
      "text/plain": [
       "'df[\"Age\"] = df[\"Age\"].astype(int)\\ndf.dtypes'"
      ]
     },
     "execution_count": 1551,
     "metadata": {},
     "output_type": "execute_result"
    }
   ],
   "source": [
    "# change datatype of each value\n",
    "#   be careful not to change datatypes that make sense, like nan to str etc... \n",
    "# changing numbers with some nan values to float is possible because nan is actually float\n",
    "\n",
    "# it will display an error as demonstration\n",
    "\"\"\"df[\"Age\"] = df[\"Age\"].astype(int)\n",
    "df.dtypes\"\"\""
   ]
  },
  {
   "cell_type": "code",
   "execution_count": 1552,
   "metadata": {},
   "outputs": [
    {
     "data": {
      "text/plain": [
       "dtype('float64')"
      ]
     },
     "execution_count": 1552,
     "metadata": {},
     "output_type": "execute_result"
    }
   ],
   "source": [
    "df[\"Age\"] = df[\"Age\"].astype(float)\n",
    "df[\"Age\"].dtype"
   ]
  },
  {
   "cell_type": "code",
   "execution_count": 1553,
   "metadata": {},
   "outputs": [
    {
     "data": {
      "text/plain": [
       "array(['GERMANY', 'USA', 'CZECHIA', nan, None], dtype=object)"
      ]
     },
     "execution_count": 1553,
     "metadata": {},
     "output_type": "execute_result"
    }
   ],
   "source": [
    "# check all unique values of a given column (similar to values counts)\n",
    "df[\"Country\"].unique()"
   ]
  },
  {
   "cell_type": "markdown",
   "metadata": {},
   "source": [
    "# Working with Dates and Time Series Data"
   ]
  },
  {
   "cell_type": "code",
   "execution_count": 1554,
   "metadata": {},
   "outputs": [],
   "source": [
    "# in case we want to convert some dates immediatelly when we are reading in a file, we can specify it in the read.csv method.\n",
    "#   For that we must specify which columns to be parsed and a function that will perform the formating (if the original data are not in readable format to pandas)\n",
    "data = \"https://raw.githubusercontent.com/CoreyMSchafer/code_snippets/master/Python/Pandas/10-Datetime-Timeseries/ETH_1h.csv\"\n",
    "\"\"\"d_parser = lambda x: pd.datetime.strptime(x, \"%Y-%m-%d %I-%p\")\n",
    "df = pf.read_csv(data, parse_dates=[\"Date\"], date_parser=d_parser)\"\"\"\n",
    "\n",
    "# read just regulary\n",
    "df = pd.read_csv(data)"
   ]
  },
  {
   "cell_type": "code",
   "execution_count": 1555,
   "metadata": {},
   "outputs": [
    {
     "data": {
      "text/html": [
       "<div>\n",
       "<style scoped>\n",
       "    .dataframe tbody tr th:only-of-type {\n",
       "        vertical-align: middle;\n",
       "    }\n",
       "\n",
       "    .dataframe tbody tr th {\n",
       "        vertical-align: top;\n",
       "    }\n",
       "\n",
       "    .dataframe thead th {\n",
       "        text-align: right;\n",
       "    }\n",
       "</style>\n",
       "<table border=\"1\" class=\"dataframe\">\n",
       "  <thead>\n",
       "    <tr style=\"text-align: right;\">\n",
       "      <th></th>\n",
       "      <th>Date</th>\n",
       "      <th>Symbol</th>\n",
       "      <th>Open</th>\n",
       "      <th>High</th>\n",
       "      <th>Low</th>\n",
       "      <th>Close</th>\n",
       "      <th>Volume</th>\n",
       "    </tr>\n",
       "  </thead>\n",
       "  <tbody>\n",
       "    <tr>\n",
       "      <th>0</th>\n",
       "      <td>2020-03-13 08-PM</td>\n",
       "      <td>ETHUSD</td>\n",
       "      <td>129.94</td>\n",
       "      <td>131.82</td>\n",
       "      <td>126.87</td>\n",
       "      <td>128.71</td>\n",
       "      <td>1940673.93</td>\n",
       "    </tr>\n",
       "    <tr>\n",
       "      <th>1</th>\n",
       "      <td>2020-03-13 07-PM</td>\n",
       "      <td>ETHUSD</td>\n",
       "      <td>119.51</td>\n",
       "      <td>132.02</td>\n",
       "      <td>117.10</td>\n",
       "      <td>129.94</td>\n",
       "      <td>7579741.09</td>\n",
       "    </tr>\n",
       "    <tr>\n",
       "      <th>2</th>\n",
       "      <td>2020-03-13 06-PM</td>\n",
       "      <td>ETHUSD</td>\n",
       "      <td>124.47</td>\n",
       "      <td>124.85</td>\n",
       "      <td>115.50</td>\n",
       "      <td>119.51</td>\n",
       "      <td>4898735.81</td>\n",
       "    </tr>\n",
       "    <tr>\n",
       "      <th>3</th>\n",
       "      <td>2020-03-13 05-PM</td>\n",
       "      <td>ETHUSD</td>\n",
       "      <td>124.08</td>\n",
       "      <td>127.42</td>\n",
       "      <td>121.63</td>\n",
       "      <td>124.47</td>\n",
       "      <td>2753450.92</td>\n",
       "    </tr>\n",
       "    <tr>\n",
       "      <th>4</th>\n",
       "      <td>2020-03-13 04-PM</td>\n",
       "      <td>ETHUSD</td>\n",
       "      <td>124.85</td>\n",
       "      <td>129.51</td>\n",
       "      <td>120.17</td>\n",
       "      <td>124.08</td>\n",
       "      <td>4461424.71</td>\n",
       "    </tr>\n",
       "  </tbody>\n",
       "</table>\n",
       "</div>"
      ],
      "text/plain": [
       "               Date  Symbol    Open    High     Low   Close      Volume\n",
       "0  2020-03-13 08-PM  ETHUSD  129.94  131.82  126.87  128.71  1940673.93\n",
       "1  2020-03-13 07-PM  ETHUSD  119.51  132.02  117.10  129.94  7579741.09\n",
       "2  2020-03-13 06-PM  ETHUSD  124.47  124.85  115.50  119.51  4898735.81\n",
       "3  2020-03-13 05-PM  ETHUSD  124.08  127.42  121.63  124.47  2753450.92\n",
       "4  2020-03-13 04-PM  ETHUSD  124.85  129.51  120.17  124.08  4461424.71"
      ]
     },
     "execution_count": 1555,
     "metadata": {},
     "output_type": "execute_result"
    }
   ],
   "source": [
    "df.head()"
   ]
  },
  {
   "cell_type": "code",
   "execution_count": 1556,
   "metadata": {},
   "outputs": [
    {
     "data": {
      "text/plain": [
       "str"
      ]
     },
     "execution_count": 1556,
     "metadata": {},
     "output_type": "execute_result"
    }
   ],
   "source": [
    "# to access the date time value of a dataset we have to conert it to datetime format, because it might only be string\n",
    "type(df.loc[0, \"Date\"])"
   ]
  },
  {
   "cell_type": "code",
   "execution_count": 1557,
   "metadata": {},
   "outputs": [
    {
     "data": {
      "text/plain": [
       "(pandas._libs.tslibs.timestamps.Timestamp,\n",
       " 0       2020-03-13 20:00:00\n",
       " 1       2020-03-13 19:00:00\n",
       " 2       2020-03-13 18:00:00\n",
       " 3       2020-03-13 17:00:00\n",
       " 4       2020-03-13 16:00:00\n",
       "                 ...        \n",
       " 23669   2017-07-01 15:00:00\n",
       " 23670   2017-07-01 14:00:00\n",
       " 23671   2017-07-01 13:00:00\n",
       " 23672   2017-07-01 12:00:00\n",
       " 23673   2017-07-01 11:00:00\n",
       " Name: Date, Length: 23674, dtype: datetime64[ns])"
      ]
     },
     "execution_count": 1557,
     "metadata": {},
     "output_type": "execute_result"
    }
   ],
   "source": [
    "# usually pandas might not be able to figure out the format, so we have to specify it using python/pandas documentation\n",
    "# format it like this in this case: format=\"%Y-%m-%d %I-%p\"\n",
    "df[\"Date\"] = pd.to_datetime(df[\"Date\"], format=\"%Y-%m-%d %I-%p\")\n",
    "type(df.loc[0, \"Date\"]), df[\"Date\"]"
   ]
  },
  {
   "cell_type": "code",
   "execution_count": 1558,
   "metadata": {},
   "outputs": [
    {
     "data": {
      "text/plain": [
       "'Friday'"
      ]
     },
     "execution_count": 1558,
     "metadata": {},
     "output_type": "execute_result"
    }
   ],
   "source": [
    "# we can check for exact day \n",
    "df.loc[0, \"Date\"].day_name()"
   ]
  },
  {
   "cell_type": "code",
   "execution_count": 1559,
   "metadata": {},
   "outputs": [
    {
     "data": {
      "text/plain": [
       "0          Friday\n",
       "1          Friday\n",
       "2          Friday\n",
       "3          Friday\n",
       "4          Friday\n",
       "           ...   \n",
       "23669    Saturday\n",
       "23670    Saturday\n",
       "23671    Saturday\n",
       "23672    Saturday\n",
       "23673    Saturday\n",
       "Name: Date, Length: 23674, dtype: object"
      ]
     },
     "execution_count": 1559,
     "metadata": {},
     "output_type": "execute_result"
    }
   ],
   "source": [
    "# access certain methods from \"dt\" class\n",
    "df[\"Date\"].dt.day_name()"
   ]
  },
  {
   "cell_type": "code",
   "execution_count": 1560,
   "metadata": {},
   "outputs": [
    {
     "data": {
      "text/plain": [
       "(Timestamp('2017-07-01 11:00:00'), Timestamp('2020-03-13 20:00:00'))"
      ]
     },
     "execution_count": 1560,
     "metadata": {},
     "output_type": "execute_result"
    }
   ],
   "source": [
    "# check what is the earliest/ latest date\n",
    "df[\"Date\"].min(), df[\"Date\"].max() "
   ]
  },
  {
   "cell_type": "code",
   "execution_count": 1561,
   "metadata": {},
   "outputs": [
    {
     "data": {
      "text/plain": [
       "Timedelta('986 days 09:00:00')"
      ]
     },
     "execution_count": 1561,
     "metadata": {},
     "output_type": "execute_result"
    }
   ],
   "source": [
    "# calculate time delta (difference between two times)\n",
    "df[\"Date\"].max() - df[\"Date\"].min()"
   ]
  },
  {
   "cell_type": "code",
   "execution_count": 1562,
   "metadata": {},
   "outputs": [
    {
     "data": {
      "text/html": [
       "<div>\n",
       "<style scoped>\n",
       "    .dataframe tbody tr th:only-of-type {\n",
       "        vertical-align: middle;\n",
       "    }\n",
       "\n",
       "    .dataframe tbody tr th {\n",
       "        vertical-align: top;\n",
       "    }\n",
       "\n",
       "    .dataframe thead th {\n",
       "        text-align: right;\n",
       "    }\n",
       "</style>\n",
       "<table border=\"1\" class=\"dataframe\">\n",
       "  <thead>\n",
       "    <tr style=\"text-align: right;\">\n",
       "      <th></th>\n",
       "      <th>Date</th>\n",
       "      <th>Symbol</th>\n",
       "      <th>Open</th>\n",
       "      <th>High</th>\n",
       "      <th>Low</th>\n",
       "      <th>Close</th>\n",
       "      <th>Volume</th>\n",
       "    </tr>\n",
       "  </thead>\n",
       "  <tbody>\n",
       "    <tr>\n",
       "      <th>1748</th>\n",
       "      <td>2020-01-01 00:00:00</td>\n",
       "      <td>ETHUSD</td>\n",
       "      <td>128.54</td>\n",
       "      <td>128.54</td>\n",
       "      <td>128.12</td>\n",
       "      <td>128.34</td>\n",
       "      <td>245119.91</td>\n",
       "    </tr>\n",
       "    <tr>\n",
       "      <th>1749</th>\n",
       "      <td>2019-12-31 23:00:00</td>\n",
       "      <td>ETHUSD</td>\n",
       "      <td>128.33</td>\n",
       "      <td>128.69</td>\n",
       "      <td>128.14</td>\n",
       "      <td>128.54</td>\n",
       "      <td>440678.91</td>\n",
       "    </tr>\n",
       "    <tr>\n",
       "      <th>1750</th>\n",
       "      <td>2019-12-31 22:00:00</td>\n",
       "      <td>ETHUSD</td>\n",
       "      <td>128.38</td>\n",
       "      <td>128.69</td>\n",
       "      <td>127.95</td>\n",
       "      <td>128.33</td>\n",
       "      <td>554646.02</td>\n",
       "    </tr>\n",
       "    <tr>\n",
       "      <th>1751</th>\n",
       "      <td>2019-12-31 21:00:00</td>\n",
       "      <td>ETHUSD</td>\n",
       "      <td>127.86</td>\n",
       "      <td>128.43</td>\n",
       "      <td>127.72</td>\n",
       "      <td>128.38</td>\n",
       "      <td>350155.69</td>\n",
       "    </tr>\n",
       "    <tr>\n",
       "      <th>1752</th>\n",
       "      <td>2019-12-31 20:00:00</td>\n",
       "      <td>ETHUSD</td>\n",
       "      <td>127.84</td>\n",
       "      <td>128.34</td>\n",
       "      <td>127.71</td>\n",
       "      <td>127.86</td>\n",
       "      <td>428183.38</td>\n",
       "    </tr>\n",
       "    <tr>\n",
       "      <th>...</th>\n",
       "      <td>...</td>\n",
       "      <td>...</td>\n",
       "      <td>...</td>\n",
       "      <td>...</td>\n",
       "      <td>...</td>\n",
       "      <td>...</td>\n",
       "      <td>...</td>\n",
       "    </tr>\n",
       "    <tr>\n",
       "      <th>10504</th>\n",
       "      <td>2019-01-01 04:00:00</td>\n",
       "      <td>ETHUSD</td>\n",
       "      <td>130.75</td>\n",
       "      <td>133.96</td>\n",
       "      <td>130.74</td>\n",
       "      <td>131.96</td>\n",
       "      <td>2791135.37</td>\n",
       "    </tr>\n",
       "    <tr>\n",
       "      <th>10505</th>\n",
       "      <td>2019-01-01 03:00:00</td>\n",
       "      <td>ETHUSD</td>\n",
       "      <td>130.06</td>\n",
       "      <td>130.79</td>\n",
       "      <td>130.06</td>\n",
       "      <td>130.75</td>\n",
       "      <td>503732.63</td>\n",
       "    </tr>\n",
       "    <tr>\n",
       "      <th>10506</th>\n",
       "      <td>2019-01-01 02:00:00</td>\n",
       "      <td>ETHUSD</td>\n",
       "      <td>130.79</td>\n",
       "      <td>130.88</td>\n",
       "      <td>129.55</td>\n",
       "      <td>130.06</td>\n",
       "      <td>838183.43</td>\n",
       "    </tr>\n",
       "    <tr>\n",
       "      <th>10507</th>\n",
       "      <td>2019-01-01 01:00:00</td>\n",
       "      <td>ETHUSD</td>\n",
       "      <td>131.62</td>\n",
       "      <td>131.62</td>\n",
       "      <td>130.77</td>\n",
       "      <td>130.79</td>\n",
       "      <td>434917.99</td>\n",
       "    </tr>\n",
       "    <tr>\n",
       "      <th>10508</th>\n",
       "      <td>2019-01-01 00:00:00</td>\n",
       "      <td>ETHUSD</td>\n",
       "      <td>130.53</td>\n",
       "      <td>131.91</td>\n",
       "      <td>130.48</td>\n",
       "      <td>131.62</td>\n",
       "      <td>1067136.21</td>\n",
       "    </tr>\n",
       "  </tbody>\n",
       "</table>\n",
       "<p>8761 rows × 7 columns</p>\n",
       "</div>"
      ],
      "text/plain": [
       "                     Date  Symbol    Open    High     Low   Close      Volume\n",
       "1748  2020-01-01 00:00:00  ETHUSD  128.54  128.54  128.12  128.34   245119.91\n",
       "1749  2019-12-31 23:00:00  ETHUSD  128.33  128.69  128.14  128.54   440678.91\n",
       "1750  2019-12-31 22:00:00  ETHUSD  128.38  128.69  127.95  128.33   554646.02\n",
       "1751  2019-12-31 21:00:00  ETHUSD  127.86  128.43  127.72  128.38   350155.69\n",
       "1752  2019-12-31 20:00:00  ETHUSD  127.84  128.34  127.71  127.86   428183.38\n",
       "...                   ...     ...     ...     ...     ...     ...         ...\n",
       "10504 2019-01-01 04:00:00  ETHUSD  130.75  133.96  130.74  131.96  2791135.37\n",
       "10505 2019-01-01 03:00:00  ETHUSD  130.06  130.79  130.06  130.75   503732.63\n",
       "10506 2019-01-01 02:00:00  ETHUSD  130.79  130.88  129.55  130.06   838183.43\n",
       "10507 2019-01-01 01:00:00  ETHUSD  131.62  131.62  130.77  130.79   434917.99\n",
       "10508 2019-01-01 00:00:00  ETHUSD  130.53  131.91  130.48  131.62  1067136.21\n",
       "\n",
       "[8761 rows x 7 columns]"
      ]
     },
     "execution_count": 1562,
     "metadata": {},
     "output_type": "execute_result"
    }
   ],
   "source": [
    "# filter dates based on your needs\n",
    "filter_ = (df[\"Date\"] >= \"2019\") & (df[\"Date\"] <= \"2020\")\n",
    "df.loc[filter_]"
   ]
  },
  {
   "cell_type": "code",
   "execution_count": 1563,
   "metadata": {},
   "outputs": [
    {
     "data": {
      "text/html": [
       "<div>\n",
       "<style scoped>\n",
       "    .dataframe tbody tr th:only-of-type {\n",
       "        vertical-align: middle;\n",
       "    }\n",
       "\n",
       "    .dataframe tbody tr th {\n",
       "        vertical-align: top;\n",
       "    }\n",
       "\n",
       "    .dataframe thead th {\n",
       "        text-align: right;\n",
       "    }\n",
       "</style>\n",
       "<table border=\"1\" class=\"dataframe\">\n",
       "  <thead>\n",
       "    <tr style=\"text-align: right;\">\n",
       "      <th></th>\n",
       "      <th>Date</th>\n",
       "      <th>Symbol</th>\n",
       "      <th>Open</th>\n",
       "      <th>High</th>\n",
       "      <th>Low</th>\n",
       "      <th>Close</th>\n",
       "      <th>Volume</th>\n",
       "    </tr>\n",
       "  </thead>\n",
       "  <tbody>\n",
       "    <tr>\n",
       "      <th>1748</th>\n",
       "      <td>2020-01-01 00:00:00</td>\n",
       "      <td>ETHUSD</td>\n",
       "      <td>128.54</td>\n",
       "      <td>128.54</td>\n",
       "      <td>128.12</td>\n",
       "      <td>128.34</td>\n",
       "      <td>245119.91</td>\n",
       "    </tr>\n",
       "    <tr>\n",
       "      <th>1749</th>\n",
       "      <td>2019-12-31 23:00:00</td>\n",
       "      <td>ETHUSD</td>\n",
       "      <td>128.33</td>\n",
       "      <td>128.69</td>\n",
       "      <td>128.14</td>\n",
       "      <td>128.54</td>\n",
       "      <td>440678.91</td>\n",
       "    </tr>\n",
       "    <tr>\n",
       "      <th>1750</th>\n",
       "      <td>2019-12-31 22:00:00</td>\n",
       "      <td>ETHUSD</td>\n",
       "      <td>128.38</td>\n",
       "      <td>128.69</td>\n",
       "      <td>127.95</td>\n",
       "      <td>128.33</td>\n",
       "      <td>554646.02</td>\n",
       "    </tr>\n",
       "    <tr>\n",
       "      <th>1751</th>\n",
       "      <td>2019-12-31 21:00:00</td>\n",
       "      <td>ETHUSD</td>\n",
       "      <td>127.86</td>\n",
       "      <td>128.43</td>\n",
       "      <td>127.72</td>\n",
       "      <td>128.38</td>\n",
       "      <td>350155.69</td>\n",
       "    </tr>\n",
       "    <tr>\n",
       "      <th>1752</th>\n",
       "      <td>2019-12-31 20:00:00</td>\n",
       "      <td>ETHUSD</td>\n",
       "      <td>127.84</td>\n",
       "      <td>128.34</td>\n",
       "      <td>127.71</td>\n",
       "      <td>127.86</td>\n",
       "      <td>428183.38</td>\n",
       "    </tr>\n",
       "    <tr>\n",
       "      <th>...</th>\n",
       "      <td>...</td>\n",
       "      <td>...</td>\n",
       "      <td>...</td>\n",
       "      <td>...</td>\n",
       "      <td>...</td>\n",
       "      <td>...</td>\n",
       "      <td>...</td>\n",
       "    </tr>\n",
       "    <tr>\n",
       "      <th>10504</th>\n",
       "      <td>2019-01-01 04:00:00</td>\n",
       "      <td>ETHUSD</td>\n",
       "      <td>130.75</td>\n",
       "      <td>133.96</td>\n",
       "      <td>130.74</td>\n",
       "      <td>131.96</td>\n",
       "      <td>2791135.37</td>\n",
       "    </tr>\n",
       "    <tr>\n",
       "      <th>10505</th>\n",
       "      <td>2019-01-01 03:00:00</td>\n",
       "      <td>ETHUSD</td>\n",
       "      <td>130.06</td>\n",
       "      <td>130.79</td>\n",
       "      <td>130.06</td>\n",
       "      <td>130.75</td>\n",
       "      <td>503732.63</td>\n",
       "    </tr>\n",
       "    <tr>\n",
       "      <th>10506</th>\n",
       "      <td>2019-01-01 02:00:00</td>\n",
       "      <td>ETHUSD</td>\n",
       "      <td>130.79</td>\n",
       "      <td>130.88</td>\n",
       "      <td>129.55</td>\n",
       "      <td>130.06</td>\n",
       "      <td>838183.43</td>\n",
       "    </tr>\n",
       "    <tr>\n",
       "      <th>10507</th>\n",
       "      <td>2019-01-01 01:00:00</td>\n",
       "      <td>ETHUSD</td>\n",
       "      <td>131.62</td>\n",
       "      <td>131.62</td>\n",
       "      <td>130.77</td>\n",
       "      <td>130.79</td>\n",
       "      <td>434917.99</td>\n",
       "    </tr>\n",
       "    <tr>\n",
       "      <th>10508</th>\n",
       "      <td>2019-01-01 00:00:00</td>\n",
       "      <td>ETHUSD</td>\n",
       "      <td>130.53</td>\n",
       "      <td>131.91</td>\n",
       "      <td>130.48</td>\n",
       "      <td>131.62</td>\n",
       "      <td>1067136.21</td>\n",
       "    </tr>\n",
       "  </tbody>\n",
       "</table>\n",
       "<p>8761 rows × 7 columns</p>\n",
       "</div>"
      ],
      "text/plain": [
       "                     Date  Symbol    Open    High     Low   Close      Volume\n",
       "1748  2020-01-01 00:00:00  ETHUSD  128.54  128.54  128.12  128.34   245119.91\n",
       "1749  2019-12-31 23:00:00  ETHUSD  128.33  128.69  128.14  128.54   440678.91\n",
       "1750  2019-12-31 22:00:00  ETHUSD  128.38  128.69  127.95  128.33   554646.02\n",
       "1751  2019-12-31 21:00:00  ETHUSD  127.86  128.43  127.72  128.38   350155.69\n",
       "1752  2019-12-31 20:00:00  ETHUSD  127.84  128.34  127.71  127.86   428183.38\n",
       "...                   ...     ...     ...     ...     ...     ...         ...\n",
       "10504 2019-01-01 04:00:00  ETHUSD  130.75  133.96  130.74  131.96  2791135.37\n",
       "10505 2019-01-01 03:00:00  ETHUSD  130.06  130.79  130.06  130.75   503732.63\n",
       "10506 2019-01-01 02:00:00  ETHUSD  130.79  130.88  129.55  130.06   838183.43\n",
       "10507 2019-01-01 01:00:00  ETHUSD  131.62  131.62  130.77  130.79   434917.99\n",
       "10508 2019-01-01 00:00:00  ETHUSD  130.53  131.91  130.48  131.62  1067136.21\n",
       "\n",
       "[8761 rows x 7 columns]"
      ]
     },
     "execution_count": 1563,
     "metadata": {},
     "output_type": "execute_result"
    }
   ],
   "source": [
    "# also possible to use datetimes in filters, instead of strings (smae result as above)\n",
    "filter_ = (df[\"Date\"] >= pd.to_datetime(\"2019\")) & (df[\"Date\"] <= pd.to_datetime(\"2020\"))\n",
    "df.loc[filter_]"
   ]
  },
  {
   "cell_type": "code",
   "execution_count": 1564,
   "metadata": {},
   "outputs": [
    {
     "data": {
      "text/html": [
       "<div>\n",
       "<style scoped>\n",
       "    .dataframe tbody tr th:only-of-type {\n",
       "        vertical-align: middle;\n",
       "    }\n",
       "\n",
       "    .dataframe tbody tr th {\n",
       "        vertical-align: top;\n",
       "    }\n",
       "\n",
       "    .dataframe thead th {\n",
       "        text-align: right;\n",
       "    }\n",
       "</style>\n",
       "<table border=\"1\" class=\"dataframe\">\n",
       "  <thead>\n",
       "    <tr style=\"text-align: right;\">\n",
       "      <th></th>\n",
       "      <th>Symbol</th>\n",
       "      <th>Open</th>\n",
       "      <th>High</th>\n",
       "      <th>Low</th>\n",
       "      <th>Close</th>\n",
       "      <th>Volume</th>\n",
       "    </tr>\n",
       "    <tr>\n",
       "      <th>Date</th>\n",
       "      <th></th>\n",
       "      <th></th>\n",
       "      <th></th>\n",
       "      <th></th>\n",
       "      <th></th>\n",
       "      <th></th>\n",
       "    </tr>\n",
       "  </thead>\n",
       "  <tbody>\n",
       "    <tr>\n",
       "      <th>2019-12-31 23:00:00</th>\n",
       "      <td>ETHUSD</td>\n",
       "      <td>128.33</td>\n",
       "      <td>128.69</td>\n",
       "      <td>128.14</td>\n",
       "      <td>128.54</td>\n",
       "      <td>440678.91</td>\n",
       "    </tr>\n",
       "    <tr>\n",
       "      <th>2019-12-31 22:00:00</th>\n",
       "      <td>ETHUSD</td>\n",
       "      <td>128.38</td>\n",
       "      <td>128.69</td>\n",
       "      <td>127.95</td>\n",
       "      <td>128.33</td>\n",
       "      <td>554646.02</td>\n",
       "    </tr>\n",
       "    <tr>\n",
       "      <th>2019-12-31 21:00:00</th>\n",
       "      <td>ETHUSD</td>\n",
       "      <td>127.86</td>\n",
       "      <td>128.43</td>\n",
       "      <td>127.72</td>\n",
       "      <td>128.38</td>\n",
       "      <td>350155.69</td>\n",
       "    </tr>\n",
       "    <tr>\n",
       "      <th>2019-12-31 20:00:00</th>\n",
       "      <td>ETHUSD</td>\n",
       "      <td>127.84</td>\n",
       "      <td>128.34</td>\n",
       "      <td>127.71</td>\n",
       "      <td>127.86</td>\n",
       "      <td>428183.38</td>\n",
       "    </tr>\n",
       "    <tr>\n",
       "      <th>2019-12-31 19:00:00</th>\n",
       "      <td>ETHUSD</td>\n",
       "      <td>128.69</td>\n",
       "      <td>128.69</td>\n",
       "      <td>127.60</td>\n",
       "      <td>127.84</td>\n",
       "      <td>1169847.84</td>\n",
       "    </tr>\n",
       "    <tr>\n",
       "      <th>...</th>\n",
       "      <td>...</td>\n",
       "      <td>...</td>\n",
       "      <td>...</td>\n",
       "      <td>...</td>\n",
       "      <td>...</td>\n",
       "      <td>...</td>\n",
       "    </tr>\n",
       "    <tr>\n",
       "      <th>2019-01-01 04:00:00</th>\n",
       "      <td>ETHUSD</td>\n",
       "      <td>130.75</td>\n",
       "      <td>133.96</td>\n",
       "      <td>130.74</td>\n",
       "      <td>131.96</td>\n",
       "      <td>2791135.37</td>\n",
       "    </tr>\n",
       "    <tr>\n",
       "      <th>2019-01-01 03:00:00</th>\n",
       "      <td>ETHUSD</td>\n",
       "      <td>130.06</td>\n",
       "      <td>130.79</td>\n",
       "      <td>130.06</td>\n",
       "      <td>130.75</td>\n",
       "      <td>503732.63</td>\n",
       "    </tr>\n",
       "    <tr>\n",
       "      <th>2019-01-01 02:00:00</th>\n",
       "      <td>ETHUSD</td>\n",
       "      <td>130.79</td>\n",
       "      <td>130.88</td>\n",
       "      <td>129.55</td>\n",
       "      <td>130.06</td>\n",
       "      <td>838183.43</td>\n",
       "    </tr>\n",
       "    <tr>\n",
       "      <th>2019-01-01 01:00:00</th>\n",
       "      <td>ETHUSD</td>\n",
       "      <td>131.62</td>\n",
       "      <td>131.62</td>\n",
       "      <td>130.77</td>\n",
       "      <td>130.79</td>\n",
       "      <td>434917.99</td>\n",
       "    </tr>\n",
       "    <tr>\n",
       "      <th>2019-01-01 00:00:00</th>\n",
       "      <td>ETHUSD</td>\n",
       "      <td>130.53</td>\n",
       "      <td>131.91</td>\n",
       "      <td>130.48</td>\n",
       "      <td>131.62</td>\n",
       "      <td>1067136.21</td>\n",
       "    </tr>\n",
       "  </tbody>\n",
       "</table>\n",
       "<p>8760 rows × 6 columns</p>\n",
       "</div>"
      ],
      "text/plain": [
       "                     Symbol    Open    High     Low   Close      Volume\n",
       "Date                                                                   \n",
       "2019-12-31 23:00:00  ETHUSD  128.33  128.69  128.14  128.54   440678.91\n",
       "2019-12-31 22:00:00  ETHUSD  128.38  128.69  127.95  128.33   554646.02\n",
       "2019-12-31 21:00:00  ETHUSD  127.86  128.43  127.72  128.38   350155.69\n",
       "2019-12-31 20:00:00  ETHUSD  127.84  128.34  127.71  127.86   428183.38\n",
       "2019-12-31 19:00:00  ETHUSD  128.69  128.69  127.60  127.84  1169847.84\n",
       "...                     ...     ...     ...     ...     ...         ...\n",
       "2019-01-01 04:00:00  ETHUSD  130.75  133.96  130.74  131.96  2791135.37\n",
       "2019-01-01 03:00:00  ETHUSD  130.06  130.79  130.06  130.75   503732.63\n",
       "2019-01-01 02:00:00  ETHUSD  130.79  130.88  129.55  130.06   838183.43\n",
       "2019-01-01 01:00:00  ETHUSD  131.62  131.62  130.77  130.79   434917.99\n",
       "2019-01-01 00:00:00  ETHUSD  130.53  131.91  130.48  131.62  1067136.21\n",
       "\n",
       "[8760 rows x 6 columns]"
      ]
     },
     "execution_count": 1564,
     "metadata": {},
     "output_type": "execute_result"
    }
   ],
   "source": [
    "# we can also set date as row index and filter directly on index\n",
    "df.set_index(\"Date\", inplace=True)\n",
    "df.loc[\"2019\"]  # filter out only index which contains 2019"
   ]
  },
  {
   "cell_type": "code",
   "execution_count": 1567,
   "metadata": {},
   "outputs": [
    {
     "data": {
      "text/html": [
       "<div>\n",
       "<style scoped>\n",
       "    .dataframe tbody tr th:only-of-type {\n",
       "        vertical-align: middle;\n",
       "    }\n",
       "\n",
       "    .dataframe tbody tr th {\n",
       "        vertical-align: top;\n",
       "    }\n",
       "\n",
       "    .dataframe thead th {\n",
       "        text-align: right;\n",
       "    }\n",
       "</style>\n",
       "<table border=\"1\" class=\"dataframe\">\n",
       "  <thead>\n",
       "    <tr style=\"text-align: right;\">\n",
       "      <th></th>\n",
       "      <th>Symbol</th>\n",
       "      <th>Open</th>\n",
       "      <th>High</th>\n",
       "      <th>Low</th>\n",
       "      <th>Close</th>\n",
       "      <th>Volume</th>\n",
       "    </tr>\n",
       "    <tr>\n",
       "      <th>Date</th>\n",
       "      <th></th>\n",
       "      <th></th>\n",
       "      <th></th>\n",
       "      <th></th>\n",
       "      <th></th>\n",
       "      <th></th>\n",
       "    </tr>\n",
       "  </thead>\n",
       "  <tbody>\n",
       "    <tr>\n",
       "      <th>2019-01-01 05:00:00</th>\n",
       "      <td>ETHUSD</td>\n",
       "      <td>131.96</td>\n",
       "      <td>132.58</td>\n",
       "      <td>131.96</td>\n",
       "      <td>132.48</td>\n",
       "      <td>317851.90</td>\n",
       "    </tr>\n",
       "    <tr>\n",
       "      <th>2019-01-01 04:00:00</th>\n",
       "      <td>ETHUSD</td>\n",
       "      <td>130.75</td>\n",
       "      <td>133.96</td>\n",
       "      <td>130.74</td>\n",
       "      <td>131.96</td>\n",
       "      <td>2791135.37</td>\n",
       "    </tr>\n",
       "    <tr>\n",
       "      <th>2019-01-01 03:00:00</th>\n",
       "      <td>ETHUSD</td>\n",
       "      <td>130.06</td>\n",
       "      <td>130.79</td>\n",
       "      <td>130.06</td>\n",
       "      <td>130.75</td>\n",
       "      <td>503732.63</td>\n",
       "    </tr>\n",
       "    <tr>\n",
       "      <th>2019-01-01 02:00:00</th>\n",
       "      <td>ETHUSD</td>\n",
       "      <td>130.79</td>\n",
       "      <td>130.88</td>\n",
       "      <td>129.55</td>\n",
       "      <td>130.06</td>\n",
       "      <td>838183.43</td>\n",
       "    </tr>\n",
       "    <tr>\n",
       "      <th>2019-01-01 01:00:00</th>\n",
       "      <td>ETHUSD</td>\n",
       "      <td>131.62</td>\n",
       "      <td>131.62</td>\n",
       "      <td>130.77</td>\n",
       "      <td>130.79</td>\n",
       "      <td>434917.99</td>\n",
       "    </tr>\n",
       "    <tr>\n",
       "      <th>2019-01-01 00:00:00</th>\n",
       "      <td>ETHUSD</td>\n",
       "      <td>130.53</td>\n",
       "      <td>131.91</td>\n",
       "      <td>130.48</td>\n",
       "      <td>131.62</td>\n",
       "      <td>1067136.21</td>\n",
       "    </tr>\n",
       "  </tbody>\n",
       "</table>\n",
       "</div>"
      ],
      "text/plain": [
       "                     Symbol    Open    High     Low   Close      Volume\n",
       "Date                                                                   \n",
       "2019-01-01 05:00:00  ETHUSD  131.96  132.58  131.96  132.48   317851.90\n",
       "2019-01-01 04:00:00  ETHUSD  130.75  133.96  130.74  131.96  2791135.37\n",
       "2019-01-01 03:00:00  ETHUSD  130.06  130.79  130.06  130.75   503732.63\n",
       "2019-01-01 02:00:00  ETHUSD  130.79  130.88  129.55  130.06   838183.43\n",
       "2019-01-01 01:00:00  ETHUSD  131.62  131.62  130.77  130.79   434917.99\n",
       "2019-01-01 00:00:00  ETHUSD  130.53  131.91  130.48  131.62  1067136.21"
      ]
     },
     "execution_count": 1567,
     "metadata": {},
     "output_type": "execute_result"
    }
   ],
   "source": [
    "# it is possible to use slices on dates\n",
    "df.loc[\"2019-01-01 00:00:00\":\"2019-01-01 05:00:00\"]"
   ]
  },
  {
   "cell_type": "code",
   "execution_count": 1568,
   "metadata": {},
   "outputs": [
    {
     "data": {
      "text/plain": [
       "131.27666666666667"
      ]
     },
     "execution_count": 1568,
     "metadata": {},
     "output_type": "execute_result"
    }
   ],
   "source": [
    "# get mean of a specified time range, of the column \"Close\"\n",
    "# it is possible to use slices on dates\n",
    "df.loc[\"2019-01-01 00:00:00\":\"2019-01-01 05:00:00\", \"Close\"].mean()"
   ]
  }
 ],
 "metadata": {
  "colab": {
   "authorship_tag": "ABX9TyNfR/8B+JxhPthNq6ahJqQr",
   "collapsed_sections": [],
   "name": "pandas.ipynb",
   "provenance": [],
   "toc_visible": true
  },
  "kernelspec": {
   "display_name": "Python 3 (ipykernel)",
   "language": "python",
   "name": "python3"
  },
  "language_info": {
   "codemirror_mode": {
    "name": "ipython",
    "version": 3
   },
   "file_extension": ".py",
   "mimetype": "text/x-python",
   "name": "python",
   "nbconvert_exporter": "python",
   "pygments_lexer": "ipython3",
   "version": "3.10.0"
  }
 },
 "nbformat": 4,
 "nbformat_minor": 1
}
