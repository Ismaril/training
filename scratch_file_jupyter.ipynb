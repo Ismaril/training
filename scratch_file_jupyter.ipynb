{
 "cells": [
  {
   "cell_type": "code",
   "execution_count": 292,
   "id": "4dd7d3dd",
   "metadata": {},
   "outputs": [],
   "source": [
    "import pandas as pd\n",
    "import numpy as np"
   ]
  },
  {
   "cell_type": "code",
   "execution_count": 293,
   "id": "b0e4006c",
   "metadata": {},
   "outputs": [],
   "source": [
    "source = \"actor_data.txt\"\n",
    "data = pd.read_table(source, sep='\\t')"
   ]
  },
  {
   "cell_type": "code",
   "execution_count": 294,
   "id": "a14ff43f",
   "metadata": {},
   "outputs": [],
   "source": [
    "df = pd.DataFrame(data)"
   ]
  },
  {
   "cell_type": "code",
   "execution_count": 295,
   "id": "fa5e0d1e",
   "metadata": {},
   "outputs": [
    {
     "name": "stdout",
     "output_type": "stream",
     "text": [
      "<class 'pandas.core.frame.DataFrame'>\n",
      "RangeIndex: 11782665 entries, 0 to 11782664\n",
      "Data columns (total 6 columns):\n",
      " #   Column             Dtype \n",
      "---  ------             ----- \n",
      " 0   nconst             object\n",
      " 1   primaryName        object\n",
      " 2   birthYear          object\n",
      " 3   deathYear          object\n",
      " 4   primaryProfession  object\n",
      " 5   knownForTitles     object\n",
      "dtypes: object(6)\n",
      "memory usage: 539.4+ MB\n"
     ]
    }
   ],
   "source": [
    "df.info()"
   ]
  },
  {
   "cell_type": "code",
   "execution_count": 296,
   "id": "f11275d6",
   "metadata": {},
   "outputs": [
    {
     "data": {
      "text/html": [
       "<div>\n",
       "<style scoped>\n",
       "    .dataframe tbody tr th:only-of-type {\n",
       "        vertical-align: middle;\n",
       "    }\n",
       "\n",
       "    .dataframe tbody tr th {\n",
       "        vertical-align: top;\n",
       "    }\n",
       "\n",
       "    .dataframe thead th {\n",
       "        text-align: right;\n",
       "    }\n",
       "</style>\n",
       "<table border=\"1\" class=\"dataframe\">\n",
       "  <thead>\n",
       "    <tr style=\"text-align: right;\">\n",
       "      <th></th>\n",
       "      <th>nconst</th>\n",
       "      <th>primaryName</th>\n",
       "      <th>birthYear</th>\n",
       "      <th>deathYear</th>\n",
       "      <th>primaryProfession</th>\n",
       "      <th>knownForTitles</th>\n",
       "    </tr>\n",
       "  </thead>\n",
       "  <tbody>\n",
       "    <tr>\n",
       "      <th>0</th>\n",
       "      <td>nm0000001</td>\n",
       "      <td>Fred Astaire</td>\n",
       "      <td>1899</td>\n",
       "      <td>1987</td>\n",
       "      <td>soundtrack,actor,miscellaneous</td>\n",
       "      <td>tt0053137,tt0072308,tt0050419,tt0031983</td>\n",
       "    </tr>\n",
       "    <tr>\n",
       "      <th>1</th>\n",
       "      <td>nm0000002</td>\n",
       "      <td>Lauren Bacall</td>\n",
       "      <td>1924</td>\n",
       "      <td>2014</td>\n",
       "      <td>actress,soundtrack</td>\n",
       "      <td>tt0071877,tt0038355,tt0037382,tt0117057</td>\n",
       "    </tr>\n",
       "    <tr>\n",
       "      <th>2</th>\n",
       "      <td>nm0000003</td>\n",
       "      <td>Brigitte Bardot</td>\n",
       "      <td>1934</td>\n",
       "      <td>\\N</td>\n",
       "      <td>actress,soundtrack,music_department</td>\n",
       "      <td>tt0056404,tt0054452,tt0049189,tt0057345</td>\n",
       "    </tr>\n",
       "    <tr>\n",
       "      <th>3</th>\n",
       "      <td>nm0000004</td>\n",
       "      <td>John Belushi</td>\n",
       "      <td>1949</td>\n",
       "      <td>1982</td>\n",
       "      <td>actor,soundtrack,writer</td>\n",
       "      <td>tt0078723,tt0077975,tt0080455,tt0072562</td>\n",
       "    </tr>\n",
       "    <tr>\n",
       "      <th>4</th>\n",
       "      <td>nm0000005</td>\n",
       "      <td>Ingmar Bergman</td>\n",
       "      <td>1918</td>\n",
       "      <td>2007</td>\n",
       "      <td>writer,director,actor</td>\n",
       "      <td>tt0083922,tt0050976,tt0050986,tt0060827</td>\n",
       "    </tr>\n",
       "    <tr>\n",
       "      <th>...</th>\n",
       "      <td>...</td>\n",
       "      <td>...</td>\n",
       "      <td>...</td>\n",
       "      <td>...</td>\n",
       "      <td>...</td>\n",
       "      <td>...</td>\n",
       "    </tr>\n",
       "    <tr>\n",
       "      <th>11782660</th>\n",
       "      <td>nm9993714</td>\n",
       "      <td>Romeo del Rosario</td>\n",
       "      <td>\\N</td>\n",
       "      <td>\\N</td>\n",
       "      <td>animation_department,art_department</td>\n",
       "      <td>tt14069590,tt2455546,tt11657662</td>\n",
       "    </tr>\n",
       "    <tr>\n",
       "      <th>11782661</th>\n",
       "      <td>nm9993716</td>\n",
       "      <td>Essias Loberg</td>\n",
       "      <td>\\N</td>\n",
       "      <td>\\N</td>\n",
       "      <td>NaN</td>\n",
       "      <td>\\N</td>\n",
       "    </tr>\n",
       "    <tr>\n",
       "      <th>11782662</th>\n",
       "      <td>nm9993717</td>\n",
       "      <td>Harikrishnan Rajan</td>\n",
       "      <td>\\N</td>\n",
       "      <td>\\N</td>\n",
       "      <td>cinematographer</td>\n",
       "      <td>tt8736744</td>\n",
       "    </tr>\n",
       "    <tr>\n",
       "      <th>11782663</th>\n",
       "      <td>nm9993718</td>\n",
       "      <td>Aayush Nair</td>\n",
       "      <td>\\N</td>\n",
       "      <td>\\N</td>\n",
       "      <td>cinematographer</td>\n",
       "      <td>\\N</td>\n",
       "    </tr>\n",
       "    <tr>\n",
       "      <th>11782664</th>\n",
       "      <td>nm9993719</td>\n",
       "      <td>Andre Hill</td>\n",
       "      <td>\\N</td>\n",
       "      <td>\\N</td>\n",
       "      <td>NaN</td>\n",
       "      <td>\\N</td>\n",
       "    </tr>\n",
       "  </tbody>\n",
       "</table>\n",
       "<p>11782665 rows × 6 columns</p>\n",
       "</div>"
      ],
      "text/plain": [
       "             nconst         primaryName birthYear deathYear  \\\n",
       "0         nm0000001        Fred Astaire      1899      1987   \n",
       "1         nm0000002       Lauren Bacall      1924      2014   \n",
       "2         nm0000003     Brigitte Bardot      1934        \\N   \n",
       "3         nm0000004        John Belushi      1949      1982   \n",
       "4         nm0000005      Ingmar Bergman      1918      2007   \n",
       "...             ...                 ...       ...       ...   \n",
       "11782660  nm9993714   Romeo del Rosario        \\N        \\N   \n",
       "11782661  nm9993716       Essias Loberg        \\N        \\N   \n",
       "11782662  nm9993717  Harikrishnan Rajan        \\N        \\N   \n",
       "11782663  nm9993718         Aayush Nair        \\N        \\N   \n",
       "11782664  nm9993719          Andre Hill        \\N        \\N   \n",
       "\n",
       "                            primaryProfession  \\\n",
       "0              soundtrack,actor,miscellaneous   \n",
       "1                          actress,soundtrack   \n",
       "2         actress,soundtrack,music_department   \n",
       "3                     actor,soundtrack,writer   \n",
       "4                       writer,director,actor   \n",
       "...                                       ...   \n",
       "11782660  animation_department,art_department   \n",
       "11782661                                  NaN   \n",
       "11782662                      cinematographer   \n",
       "11782663                      cinematographer   \n",
       "11782664                                  NaN   \n",
       "\n",
       "                                   knownForTitles  \n",
       "0         tt0053137,tt0072308,tt0050419,tt0031983  \n",
       "1         tt0071877,tt0038355,tt0037382,tt0117057  \n",
       "2         tt0056404,tt0054452,tt0049189,tt0057345  \n",
       "3         tt0078723,tt0077975,tt0080455,tt0072562  \n",
       "4         tt0083922,tt0050976,tt0050986,tt0060827  \n",
       "...                                           ...  \n",
       "11782660          tt14069590,tt2455546,tt11657662  \n",
       "11782661                                       \\N  \n",
       "11782662                                tt8736744  \n",
       "11782663                                       \\N  \n",
       "11782664                                       \\N  \n",
       "\n",
       "[11782665 rows x 6 columns]"
      ]
     },
     "execution_count": 296,
     "metadata": {},
     "output_type": "execute_result"
    }
   ],
   "source": [
    "df"
   ]
  },
  {
   "cell_type": "code",
   "execution_count": 297,
   "id": "123d03a5",
   "metadata": {},
   "outputs": [
    {
     "data": {
      "text/plain": [
       "str"
      ]
     },
     "execution_count": 297,
     "metadata": {},
     "output_type": "execute_result"
    }
   ],
   "source": [
    "type(df.iloc[11782660][0])"
   ]
  },
  {
   "cell_type": "code",
   "execution_count": 298,
   "id": "53cae1b0",
   "metadata": {},
   "outputs": [],
   "source": [
    "# drop rows with filter (similar like filtering with iloc/loc etc...)\n",
    "filter_ = df[\"birthYear\"] == '\\\\N'\n",
    "df.drop(df[filter_].index, inplace=True)\n",
    "\n",
    "df.drop(columns=[\"primaryProfession\", \"knownForTitles\"], inplace=True)"
   ]
  },
  {
   "cell_type": "code",
   "execution_count": 299,
   "id": "c0071568",
   "metadata": {},
   "outputs": [],
   "source": [
    "df[\"birthYear\"] = df[\"birthYear\"].astype(int)"
   ]
  },
  {
   "cell_type": "code",
   "execution_count": 300,
   "id": "2bbf7d87",
   "metadata": {},
   "outputs": [],
   "source": [
    "filter_ = df[\"birthYear\"] >= 1997 \n",
    "df.drop(df[filter_].index, inplace=True)\n",
    "\n",
    "filter_ = df[\"birthYear\"] < 1942\n",
    "df.drop(df[filter_].index, inplace=True)\n",
    "\n",
    "df = df[0:40_000]"
   ]
  },
  {
   "cell_type": "code",
   "execution_count": 301,
   "id": "0ef05a04",
   "metadata": {},
   "outputs": [],
   "source": [
    "# df.set_index(\"nconst\", inplace=True)"
   ]
  },
  {
   "cell_type": "code",
   "execution_count": 302,
   "id": "0c4929f8",
   "metadata": {},
   "outputs": [
    {
     "name": "stderr",
     "output_type": "stream",
     "text": [
      "C:\\Users\\lazni\\AppData\\Local\\Temp\\ipykernel_19428\\1307274600.py:1: SettingWithCopyWarning: \n",
      "A value is trying to be set on a copy of a slice from a DataFrame.\n",
      "Try using .loc[row_indexer,col_indexer] = value instead\n",
      "\n",
      "See the caveats in the documentation: https://pandas.pydata.org/pandas-docs/stable/user_guide/indexing.html#returning-a-view-versus-a-copy\n",
      "  df[\"deathYear\"] = np.where(df[\"deathYear\"] == \"\\\\N\", 2022, df[\"deathYear\"])\n",
      "C:\\Users\\lazni\\AppData\\Local\\Temp\\ipykernel_19428\\1307274600.py:2: SettingWithCopyWarning: \n",
      "A value is trying to be set on a copy of a slice from a DataFrame.\n",
      "Try using .loc[row_indexer,col_indexer] = value instead\n",
      "\n",
      "See the caveats in the documentation: https://pandas.pydata.org/pandas-docs/stable/user_guide/indexing.html#returning-a-view-versus-a-copy\n",
      "  df[\"deathYear\"] = df[\"deathYear\"].astype(int)\n"
     ]
    }
   ],
   "source": [
    "df[\"deathYear\"] = np.where(df[\"deathYear\"] == \"\\\\N\", 2022, df[\"deathYear\"])\n",
    "df[\"deathYear\"] = df[\"deathYear\"].astype(int)"
   ]
  },
  {
   "cell_type": "code",
   "execution_count": 303,
   "id": "e77634e5",
   "metadata": {},
   "outputs": [
    {
     "name": "stderr",
     "output_type": "stream",
     "text": [
      "C:\\Users\\lazni\\AppData\\Local\\Temp\\ipykernel_19428\\2760692624.py:1: SettingWithCopyWarning: \n",
      "A value is trying to be set on a copy of a slice from a DataFrame.\n",
      "Try using .loc[row_indexer,col_indexer] = value instead\n",
      "\n",
      "See the caveats in the documentation: https://pandas.pydata.org/pandas-docs/stable/user_guide/indexing.html#returning-a-view-versus-a-copy\n",
      "  df[\"currentAge\"] = df[\"deathYear\"] - df[\"birthYear\"]\n",
      "C:\\Users\\lazni\\AppData\\Local\\Programs\\Python\\Python310\\lib\\site-packages\\pandas\\core\\frame.py:4906: SettingWithCopyWarning: \n",
      "A value is trying to be set on a copy of a slice from a DataFrame\n",
      "\n",
      "See the caveats in the documentation: https://pandas.pydata.org/pandas-docs/stable/user_guide/indexing.html#returning-a-view-versus-a-copy\n",
      "  return super().drop(\n"
     ]
    }
   ],
   "source": [
    "df[\"currentAge\"] = df[\"deathYear\"] - df[\"birthYear\"]\n",
    "filter_ = df[\"currentAge\"] <= 24 \n",
    "df.drop(df[filter_].index, inplace=True)"
   ]
  },
  {
   "cell_type": "code",
   "execution_count": 304,
   "id": "b4831bcd",
   "metadata": {},
   "outputs": [
    {
     "name": "stdout",
     "output_type": "stream",
     "text": [
      "<class 'pandas.core.frame.DataFrame'>\n",
      "Int64Index: 39929 entries, 3 to 302881\n",
      "Data columns (total 5 columns):\n",
      " #   Column       Non-Null Count  Dtype \n",
      "---  ------       --------------  ----- \n",
      " 0   nconst       39929 non-null  object\n",
      " 1   primaryName  39929 non-null  object\n",
      " 2   birthYear    39929 non-null  int32 \n",
      " 3   deathYear    39929 non-null  int32 \n",
      " 4   currentAge   39929 non-null  int32 \n",
      "dtypes: int32(3), object(2)\n",
      "memory usage: 1.4+ MB\n"
     ]
    }
   ],
   "source": [
    "df.info()"
   ]
  },
  {
   "cell_type": "code",
   "execution_count": 305,
   "id": "12ee191d",
   "metadata": {},
   "outputs": [
    {
     "data": {
      "text/html": [
       "<div>\n",
       "<style scoped>\n",
       "    .dataframe tbody tr th:only-of-type {\n",
       "        vertical-align: middle;\n",
       "    }\n",
       "\n",
       "    .dataframe tbody tr th {\n",
       "        vertical-align: top;\n",
       "    }\n",
       "\n",
       "    .dataframe thead th {\n",
       "        text-align: right;\n",
       "    }\n",
       "</style>\n",
       "<table border=\"1\" class=\"dataframe\">\n",
       "  <thead>\n",
       "    <tr style=\"text-align: right;\">\n",
       "      <th></th>\n",
       "      <th>nconst</th>\n",
       "      <th>primaryName</th>\n",
       "      <th>birthYear</th>\n",
       "      <th>deathYear</th>\n",
       "      <th>currentAge</th>\n",
       "    </tr>\n",
       "  </thead>\n",
       "  <tbody>\n",
       "    <tr>\n",
       "      <th>3</th>\n",
       "      <td>nm0000004</td>\n",
       "      <td>John Belushi</td>\n",
       "      <td>1949</td>\n",
       "      <td>1982</td>\n",
       "      <td>33</td>\n",
       "    </tr>\n",
       "    <tr>\n",
       "      <th>28</th>\n",
       "      <td>nm0000029</td>\n",
       "      <td>Margaux Hemingway</td>\n",
       "      <td>1954</td>\n",
       "      <td>1996</td>\n",
       "      <td>42</td>\n",
       "    </tr>\n",
       "    <tr>\n",
       "      <th>34</th>\n",
       "      <td>nm0000035</td>\n",
       "      <td>James Horner</td>\n",
       "      <td>1953</td>\n",
       "      <td>2015</td>\n",
       "      <td>62</td>\n",
       "    </tr>\n",
       "    <tr>\n",
       "      <th>83</th>\n",
       "      <td>nm0000084</td>\n",
       "      <td>Gong Li</td>\n",
       "      <td>1965</td>\n",
       "      <td>2022</td>\n",
       "      <td>57</td>\n",
       "    </tr>\n",
       "    <tr>\n",
       "      <th>84</th>\n",
       "      <td>nm0000085</td>\n",
       "      <td>Henner Hofmann</td>\n",
       "      <td>1950</td>\n",
       "      <td>2022</td>\n",
       "      <td>72</td>\n",
       "    </tr>\n",
       "  </tbody>\n",
       "</table>\n",
       "</div>"
      ],
      "text/plain": [
       "       nconst        primaryName  birthYear  deathYear  currentAge\n",
       "3   nm0000004       John Belushi       1949       1982          33\n",
       "28  nm0000029  Margaux Hemingway       1954       1996          42\n",
       "34  nm0000035       James Horner       1953       2015          62\n",
       "83  nm0000084            Gong Li       1965       2022          57\n",
       "84  nm0000085     Henner Hofmann       1950       2022          72"
      ]
     },
     "execution_count": 305,
     "metadata": {},
     "output_type": "execute_result"
    }
   ],
   "source": [
    "df.head()"
   ]
  },
  {
   "cell_type": "code",
   "execution_count": 306,
   "id": "f8a516cf",
   "metadata": {},
   "outputs": [
    {
     "data": {
      "text/plain": [
       "count    39929.000000\n",
       "mean        59.567658\n",
       "std         11.650494\n",
       "min         25.000000\n",
       "25%         51.000000\n",
       "50%         60.000000\n",
       "75%         69.000000\n",
       "max         80.000000\n",
       "Name: currentAge, dtype: float64"
      ]
     },
     "execution_count": 306,
     "metadata": {},
     "output_type": "execute_result"
    }
   ],
   "source": [
    "df[\"currentAge\"].describe()"
   ]
  },
  {
   "cell_type": "code",
   "execution_count": 307,
   "id": "431de57d",
   "metadata": {},
   "outputs": [
    {
     "data": {
      "text/html": [
       "<div>\n",
       "<style scoped>\n",
       "    .dataframe tbody tr th:only-of-type {\n",
       "        vertical-align: middle;\n",
       "    }\n",
       "\n",
       "    .dataframe tbody tr th {\n",
       "        vertical-align: top;\n",
       "    }\n",
       "\n",
       "    .dataframe thead th {\n",
       "        text-align: right;\n",
       "    }\n",
       "</style>\n",
       "<table border=\"1\" class=\"dataframe\">\n",
       "  <thead>\n",
       "    <tr style=\"text-align: right;\">\n",
       "      <th></th>\n",
       "      <th>nconst</th>\n",
       "      <th>primaryName</th>\n",
       "      <th>birthYear</th>\n",
       "      <th>deathYear</th>\n",
       "      <th>currentAge</th>\n",
       "    </tr>\n",
       "  </thead>\n",
       "  <tbody>\n",
       "    <tr>\n",
       "      <th>20725</th>\n",
       "      <td>nm0021518</td>\n",
       "      <td>Duane Allman</td>\n",
       "      <td>1946</td>\n",
       "      <td>1971</td>\n",
       "      <td>25</td>\n",
       "    </tr>\n",
       "    <tr>\n",
       "      <th>267629</th>\n",
       "      <td>nm0282309</td>\n",
       "      <td>Reid Flair</td>\n",
       "      <td>1988</td>\n",
       "      <td>2013</td>\n",
       "      <td>25</td>\n",
       "    </tr>\n",
       "    <tr>\n",
       "      <th>88715</th>\n",
       "      <td>nm0092992</td>\n",
       "      <td>Tommy Bolin</td>\n",
       "      <td>1951</td>\n",
       "      <td>1976</td>\n",
       "      <td>25</td>\n",
       "    </tr>\n",
       "    <tr>\n",
       "      <th>232852</th>\n",
       "      <td>nm0245584</td>\n",
       "      <td>Lynx Dyan</td>\n",
       "      <td>1976</td>\n",
       "      <td>2001</td>\n",
       "      <td>25</td>\n",
       "    </tr>\n",
       "    <tr>\n",
       "      <th>103427</th>\n",
       "      <td>nm0108508</td>\n",
       "      <td>Derrick Brice</td>\n",
       "      <td>1962</td>\n",
       "      <td>1987</td>\n",
       "      <td>25</td>\n",
       "    </tr>\n",
       "    <tr>\n",
       "      <th>181219</th>\n",
       "      <td>nm0190809</td>\n",
       "      <td>György Cséplö</td>\n",
       "      <td>1953</td>\n",
       "      <td>1978</td>\n",
       "      <td>25</td>\n",
       "    </tr>\n",
       "    <tr>\n",
       "      <th>221646</th>\n",
       "      <td>nm0233753</td>\n",
       "      <td>Françoise Dorléac</td>\n",
       "      <td>1942</td>\n",
       "      <td>1967</td>\n",
       "      <td>25</td>\n",
       "    </tr>\n",
       "    <tr>\n",
       "      <th>636</th>\n",
       "      <td>nm0000637</td>\n",
       "      <td>Tupac Shakur</td>\n",
       "      <td>1971</td>\n",
       "      <td>1996</td>\n",
       "      <td>25</td>\n",
       "    </tr>\n",
       "    <tr>\n",
       "      <th>120912</th>\n",
       "      <td>nm0127027</td>\n",
       "      <td>Christine Böhm</td>\n",
       "      <td>1954</td>\n",
       "      <td>1979</td>\n",
       "      <td>25</td>\n",
       "    </tr>\n",
       "    <tr>\n",
       "      <th>217054</th>\n",
       "      <td>nm0228873</td>\n",
       "      <td>Jim Dixon</td>\n",
       "      <td>1949</td>\n",
       "      <td>1974</td>\n",
       "      <td>25</td>\n",
       "    </tr>\n",
       "    <tr>\n",
       "      <th>115816</th>\n",
       "      <td>nm0121619</td>\n",
       "      <td>Cameron Burke</td>\n",
       "      <td>1953</td>\n",
       "      <td>1978</td>\n",
       "      <td>25</td>\n",
       "    </tr>\n",
       "    <tr>\n",
       "      <th>300472</th>\n",
       "      <td>nm0317135</td>\n",
       "      <td>Norman Gibson</td>\n",
       "      <td>1951</td>\n",
       "      <td>1976</td>\n",
       "      <td>25</td>\n",
       "    </tr>\n",
       "    <tr>\n",
       "      <th>155042</th>\n",
       "      <td>nm0163113</td>\n",
       "      <td>Johannes Claerbout</td>\n",
       "      <td>1974</td>\n",
       "      <td>1999</td>\n",
       "      <td>25</td>\n",
       "    </tr>\n",
       "    <tr>\n",
       "      <th>178673</th>\n",
       "      <td>nm0188122</td>\n",
       "      <td>Ana Cristina</td>\n",
       "      <td>1953</td>\n",
       "      <td>1979</td>\n",
       "      <td>26</td>\n",
       "    </tr>\n",
       "    <tr>\n",
       "      <th>224685</th>\n",
       "      <td>nm0236979</td>\n",
       "      <td>Nick Drake</td>\n",
       "      <td>1948</td>\n",
       "      <td>1974</td>\n",
       "      <td>26</td>\n",
       "    </tr>\n",
       "    <tr>\n",
       "      <th>38296</th>\n",
       "      <td>nm0040012</td>\n",
       "      <td>Ali Astin</td>\n",
       "      <td>1996</td>\n",
       "      <td>2022</td>\n",
       "      <td>26</td>\n",
       "    </tr>\n",
       "    <tr>\n",
       "      <th>28645</th>\n",
       "      <td>nm0029858</td>\n",
       "      <td>Héctor Anglada</td>\n",
       "      <td>1976</td>\n",
       "      <td>2002</td>\n",
       "      <td>26</td>\n",
       "    </tr>\n",
       "    <tr>\n",
       "      <th>154317</th>\n",
       "      <td>nm0162347</td>\n",
       "      <td>Graciela Cimer</td>\n",
       "      <td>1963</td>\n",
       "      <td>1989</td>\n",
       "      <td>26</td>\n",
       "    </tr>\n",
       "    <tr>\n",
       "      <th>49385</th>\n",
       "      <td>nm0051714</td>\n",
       "      <td>Stella Banderas</td>\n",
       "      <td>1996</td>\n",
       "      <td>2022</td>\n",
       "      <td>26</td>\n",
       "    </tr>\n",
       "    <tr>\n",
       "      <th>20326</th>\n",
       "      <td>nm0021100</td>\n",
       "      <td>Tessa Allen</td>\n",
       "      <td>1996</td>\n",
       "      <td>2022</td>\n",
       "      <td>26</td>\n",
       "    </tr>\n",
       "  </tbody>\n",
       "</table>\n",
       "</div>"
      ],
      "text/plain": [
       "           nconst         primaryName  birthYear  deathYear  currentAge\n",
       "20725   nm0021518        Duane Allman       1946       1971          25\n",
       "267629  nm0282309          Reid Flair       1988       2013          25\n",
       "88715   nm0092992         Tommy Bolin       1951       1976          25\n",
       "232852  nm0245584           Lynx Dyan       1976       2001          25\n",
       "103427  nm0108508       Derrick Brice       1962       1987          25\n",
       "181219  nm0190809       György Cséplö       1953       1978          25\n",
       "221646  nm0233753   Françoise Dorléac       1942       1967          25\n",
       "636     nm0000637        Tupac Shakur       1971       1996          25\n",
       "120912  nm0127027      Christine Böhm       1954       1979          25\n",
       "217054  nm0228873           Jim Dixon       1949       1974          25\n",
       "115816  nm0121619       Cameron Burke       1953       1978          25\n",
       "300472  nm0317135       Norman Gibson       1951       1976          25\n",
       "155042  nm0163113  Johannes Claerbout       1974       1999          25\n",
       "178673  nm0188122        Ana Cristina       1953       1979          26\n",
       "224685  nm0236979          Nick Drake       1948       1974          26\n",
       "38296   nm0040012           Ali Astin       1996       2022          26\n",
       "28645   nm0029858      Héctor Anglada       1976       2002          26\n",
       "154317  nm0162347      Graciela Cimer       1963       1989          26\n",
       "49385   nm0051714     Stella Banderas       1996       2022          26\n",
       "20326   nm0021100         Tessa Allen       1996       2022          26"
      ]
     },
     "execution_count": 307,
     "metadata": {},
     "output_type": "execute_result"
    }
   ],
   "source": [
    "df.sort_values(by=\"currentAge\", ascending=True)[:20]"
   ]
  },
  {
   "cell_type": "code",
   "execution_count": 308,
   "id": "23770259",
   "metadata": {},
   "outputs": [
    {
     "name": "stdout",
     "output_type": "stream",
     "text": [
      "nm0000004 33\n",
      "nm0000029 42\n"
     ]
    }
   ],
   "source": [
    "print(df.iloc[0][0], df.iloc[0][-1])\n",
    "print(df.iloc[1][0], df.iloc[1][-1])"
   ]
  },
  {
   "cell_type": "code",
   "execution_count": 309,
   "id": "9807bb23",
   "metadata": {},
   "outputs": [
    {
     "data": {
      "image/png": "[encoded data removed]",
      "text/plain": [
       "<Figure size 432x288 with 1 Axes>"
      ]
     },
     "metadata": {},
     "output_type": "display_data"
    }
   ],
   "source": [
    "import matplotlib.pyplot as plt\n",
    "plt.style.use(\"dark_background\")\n",
    "plt.hist(df[\"currentAge\"], color=\"red\", bins=7)\n",
    "plt.xlim(15, 90)\n",
    "plt.show()"
   ]
  }
 ],
 "metadata": {
  "kernelspec": {
   "display_name": "Python 3 (ipykernel)",
   "language": "python",
   "name": "python3"
  },
  "language_info": {
   "codemirror_mode": {
    "name": "ipython",
    "version": 3
   },
   "file_extension": ".py",
   "mimetype": "text/x-python",
   "name": "python",
   "nbconvert_exporter": "python",
   "pygments_lexer": "ipython3",
   "version": "3.10.0"
  }
 },
 "nbformat": 4,
 "nbformat_minor": 5
}
