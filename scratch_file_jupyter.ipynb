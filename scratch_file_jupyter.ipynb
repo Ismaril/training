{
 "cells": [
  {
   "cell_type": "code",
   "execution_count": null,
   "id": "4dd7d3dd",
   "metadata": {},
   "outputs": [],
   "source": [
    "import pandas as pd\n",
    "import numpy as np"
   ]
  },
  {
   "cell_type": "code",
   "execution_count": null,
   "id": "b0e4006c",
   "metadata": {},
   "outputs": [],
   "source": [
    "source = \"actor_data.txt\"\n",
    "data = pd.read_table(source, sep='\\t')"
   ]
  },
  {
   "cell_type": "code",
   "execution_count": null,
   "id": "a14ff43f",
   "metadata": {},
   "outputs": [],
   "source": [
    "df = pd.DataFrame(data)"
   ]
  },
  {
   "cell_type": "code",
   "execution_count": null,
   "id": "fa5e0d1e",
   "metadata": {},
   "outputs": [],
   "source": [
    "df.info()"
   ]
  },
  {
   "cell_type": "code",
   "execution_count": null,
   "id": "f11275d6",
   "metadata": {},
   "outputs": [],
   "source": [
    "df"
   ]
  },
  {
   "cell_type": "code",
   "execution_count": null,
   "id": "123d03a5",
   "metadata": {},
   "outputs": [],
   "source": [
    "type(df.iloc[11782660][0])"
   ]
  },
  {
   "cell_type": "code",
   "execution_count": null,
   "id": "53cae1b0",
   "metadata": {},
   "outputs": [],
   "source": [
    "# drop rows with filter (similar like filtering with iloc/loc etc...)\n",
    "filter_ = df[\"birthYear\"] == '\\\\N'\n",
    "df.drop(df[filter_].index, inplace=True)\n",
    "\n",
    "df.drop(columns=[\"primaryProfession\", \"knownForTitles\"], inplace=True)"
   ]
  },
  {
   "cell_type": "code",
   "execution_count": null,
   "id": "c0071568",
   "metadata": {},
   "outputs": [],
   "source": [
    "df[\"birthYear\"] = df[\"birthYear\"].astype(int)"
   ]
  },
  {
   "cell_type": "code",
   "execution_count": null,
   "id": "2bbf7d87",
   "metadata": {},
   "outputs": [],
   "source": [
    "filter_ = df[\"birthYear\"] >= 1997 \n",
    "df.drop(df[filter_].index, inplace=True)\n",
    "\n",
    "filter_ = df[\"birthYear\"] < 1942\n",
    "df.drop(df[filter_].index, inplace=True)\n",
    "\n",
    "df = df[0:40_000]"
   ]
  },
  {
   "cell_type": "code",
   "execution_count": null,
   "id": "0ef05a04",
   "metadata": {},
   "outputs": [],
   "source": [
    "# df.set_index(\"nconst\", inplace=True)"
   ]
  },
  {
   "cell_type": "code",
   "execution_count": null,
   "id": "0c4929f8",
   "metadata": {},
   "outputs": [],
   "source": [
    "df[\"deathYear\"] = np.where(df[\"deathYear\"] == \"\\\\N\", 2022, df[\"deathYear\"])\n",
    "df[\"deathYear\"] = df[\"deathYear\"].astype(int)"
   ]
  },
  {
   "cell_type": "code",
   "execution_count": null,
   "id": "e77634e5",
   "metadata": {},
   "outputs": [],
   "source": [
    "df[\"currentAge\"] = df[\"deathYear\"] - df[\"birthYear\"]\n",
    "filter_ = df[\"currentAge\"] <= 24 \n",
    "df.drop(df[filter_].index, inplace=True)"
   ]
  },
  {
   "cell_type": "code",
   "execution_count": null,
   "id": "b4831bcd",
   "metadata": {},
   "outputs": [],
   "source": [
    "df.info()"
   ]
  },
  {
   "cell_type": "code",
   "execution_count": null,
   "id": "ab7cbb3a",
   "metadata": {},
   "outputs": [],
   "source": [
    "df.head()"
   ]
  },
  {
   "cell_type": "code",
   "execution_count": null,
   "id": "d48dfc00",
   "metadata": {},
   "outputs": [],
   "source": [
    "df[\"currentAge\"].describe()"
   ]
  },
  {
   "cell_type": "code",
   "execution_count": null,
   "id": "d26d38fc",
   "metadata": {},
   "outputs": [],
   "source": [
    "df.sort_values(by=\"currentAge\", ascending=True)[:20]"
   ]
  },
  {
   "cell_type": "code",
   "execution_count": null,
   "id": "23770259",
   "metadata": {},
   "outputs": [],
   "source": [
    "print(df.iloc[0][0], df.iloc[0][-1])\n",
    "print(df.iloc[1][0], df.iloc[1][-1])"
   ]
  },
  {
   "cell_type": "code",
   "execution_count": null,
   "id": "6f071397",
   "metadata": {},
   "outputs": [],
   "source": [
    "import matplotlib.pyplot as plt\n",
    "plt.style.use(\"dark_background\")\n",
    "plt.hist(df[\"currentAge\"], color=\"red\", bins=7)\n",
    "plt.xlim(15, 90)\n",
    "plt.show()"
   ]
  }
 ],
 "metadata": {
  "kernelspec": {
   "display_name": "Python 3 (ipykernel)",
   "language": "python",
   "name": "python3"
  },
  "language_info": {
   "codemirror_mode": {
    "name": "ipython",
    "version": 3
   },
   "file_extension": ".py",
   "mimetype": "text/x-python",
   "name": "python",
   "nbconvert_exporter": "python",
   "pygments_lexer": "ipython3",
   "version": "3.10.0"
  }
 },
 "nbformat": 4,
 "nbformat_minor": 5
}
